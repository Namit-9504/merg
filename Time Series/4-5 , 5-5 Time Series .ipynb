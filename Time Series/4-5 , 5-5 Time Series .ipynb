{
 "cells": [
  {
   "cell_type": "markdown",
   "id": "8a65f347-f5ed-4e14-9e26-b6bba1a00db1",
   "metadata": {
    "jp-MarkdownHeadingCollapsed": true,
    "tags": []
   },
   "source": [
    "# Theroy"
   ]
  },
  {
   "cell_type": "markdown",
   "id": "73d1671b-7b6a-456a-a197-d8d11005fd5c",
   "metadata": {
    "tags": []
   },
   "source": [
    "## Introduction to Time Series"
   ]
  },
  {
   "cell_type": "markdown",
   "id": "15d162f7-afef-4fe6-9205-7d173f533f85",
   "metadata": {},
   "source": [
    "## Components of time series"
   ]
  },
  {
   "cell_type": "markdown",
   "id": "889c2518-19e0-4b6a-a394-7dd4855c9d8c",
   "metadata": {
    "tags": []
   },
   "source": [
    "## Moving average"
   ]
  },
  {
   "cell_type": "markdown",
   "id": "e5c68014-10b6-40e8-8099-30ac7672d964",
   "metadata": {},
   "source": [
    "##  Stationary and Non Stationary"
   ]
  },
  {
   "cell_type": "markdown",
   "id": "4be2f144-d19c-4ad2-9b0d-f04696d9912d",
   "metadata": {},
   "source": [
    "## Acf Pacf"
   ]
  },
  {
   "cell_type": "markdown",
   "id": "4c88f24e-d6ab-42fd-aa00-fa75faba5bd3",
   "metadata": {},
   "source": [
    "## Arima"
   ]
  },
  {
   "cell_type": "markdown",
   "id": "848ea301-c5b8-4307-930b-eb432447c4f7",
   "metadata": {
    "tags": []
   },
   "source": [
    "# TIME SEREIS IMPLEMENTATION"
   ]
  },
  {
   "cell_type": "markdown",
   "id": "affc9041-1be7-4cfe-b4a1-89d804ca9fd8",
   "metadata": {
    "tags": []
   },
   "source": [
    "# Operations Before Model training"
   ]
  },
  {
   "cell_type": "code",
   "execution_count": 1,
   "id": "5b0953a3-1432-4939-98c4-583ed4bf628b",
   "metadata": {},
   "outputs": [],
   "source": [
    "import pandas as pd\n",
    "import numpy as np\n",
    "import matplotlib.pyplot as plt\n",
    "import os \n",
    "import sys"
   ]
  },
  {
   "cell_type": "markdown",
   "id": "946dc5bb-0fbf-4887-933b-5b1c3596d040",
   "metadata": {},
   "source": [
    "- Steps\n",
    " 1. Data Ingestion\n",
    " 2. EDA Of Data\n",
    " 3. Preprocessing the Data\n",
    " 4. Model Building\n",
    " 5. Model Evaluation\n",
    " "
   ]
  },
  {
   "cell_type": "markdown",
   "id": "a10832f1-49d2-4630-86cd-eda02423c0df",
   "metadata": {
    "tags": []
   },
   "source": [
    "## DATA INGESTION"
   ]
  },
  {
   "cell_type": "code",
   "execution_count": 2,
   "id": "c4d74e8a-e4fa-4118-a629-e3caba82d030",
   "metadata": {},
   "outputs": [
    {
     "data": {
      "text/html": [
       "<div>\n",
       "<style scoped>\n",
       "    .dataframe tbody tr th:only-of-type {\n",
       "        vertical-align: middle;\n",
       "    }\n",
       "\n",
       "    .dataframe tbody tr th {\n",
       "        vertical-align: top;\n",
       "    }\n",
       "\n",
       "    .dataframe thead th {\n",
       "        text-align: right;\n",
       "    }\n",
       "</style>\n",
       "<table border=\"1\" class=\"dataframe\">\n",
       "  <thead>\n",
       "    <tr style=\"text-align: right;\">\n",
       "      <th></th>\n",
       "      <th>Date</th>\n",
       "      <th>Open</th>\n",
       "      <th>High</th>\n",
       "      <th>Low</th>\n",
       "      <th>Close</th>\n",
       "      <th>Volume</th>\n",
       "      <th>Dividends</th>\n",
       "      <th>Stock Splits</th>\n",
       "    </tr>\n",
       "  </thead>\n",
       "  <tbody>\n",
       "    <tr>\n",
       "      <th>0</th>\n",
       "      <td>2019-05-21</td>\n",
       "      <td>39.551998</td>\n",
       "      <td>41.480000</td>\n",
       "      <td>39.208000</td>\n",
       "      <td>41.015999</td>\n",
       "      <td>90019500</td>\n",
       "      <td>0</td>\n",
       "      <td>0.0</td>\n",
       "    </tr>\n",
       "    <tr>\n",
       "      <th>1</th>\n",
       "      <td>2019-05-22</td>\n",
       "      <td>39.820000</td>\n",
       "      <td>40.787998</td>\n",
       "      <td>38.355999</td>\n",
       "      <td>38.546001</td>\n",
       "      <td>93426000</td>\n",
       "      <td>0</td>\n",
       "      <td>0.0</td>\n",
       "    </tr>\n",
       "    <tr>\n",
       "      <th>2</th>\n",
       "      <td>2019-05-23</td>\n",
       "      <td>38.868000</td>\n",
       "      <td>39.894001</td>\n",
       "      <td>37.243999</td>\n",
       "      <td>39.098000</td>\n",
       "      <td>132735500</td>\n",
       "      <td>0</td>\n",
       "      <td>0.0</td>\n",
       "    </tr>\n",
       "    <tr>\n",
       "      <th>3</th>\n",
       "      <td>2019-05-24</td>\n",
       "      <td>39.966000</td>\n",
       "      <td>39.995998</td>\n",
       "      <td>37.750000</td>\n",
       "      <td>38.125999</td>\n",
       "      <td>70683000</td>\n",
       "      <td>0</td>\n",
       "      <td>0.0</td>\n",
       "    </tr>\n",
       "    <tr>\n",
       "      <th>4</th>\n",
       "      <td>2019-05-28</td>\n",
       "      <td>38.240002</td>\n",
       "      <td>39.000000</td>\n",
       "      <td>37.570000</td>\n",
       "      <td>37.740002</td>\n",
       "      <td>51564500</td>\n",
       "      <td>0</td>\n",
       "      <td>0.0</td>\n",
       "    </tr>\n",
       "  </tbody>\n",
       "</table>\n",
       "</div>"
      ],
      "text/plain": [
       "         Date       Open       High        Low      Close     Volume  \\\n",
       "0  2019-05-21  39.551998  41.480000  39.208000  41.015999   90019500   \n",
       "1  2019-05-22  39.820000  40.787998  38.355999  38.546001   93426000   \n",
       "2  2019-05-23  38.868000  39.894001  37.243999  39.098000  132735500   \n",
       "3  2019-05-24  39.966000  39.995998  37.750000  38.125999   70683000   \n",
       "4  2019-05-28  38.240002  39.000000  37.570000  37.740002   51564500   \n",
       "\n",
       "   Dividends  Stock Splits  \n",
       "0          0           0.0  \n",
       "1          0           0.0  \n",
       "2          0           0.0  \n",
       "3          0           0.0  \n",
       "4          0           0.0  "
      ]
     },
     "execution_count": 2,
     "metadata": {},
     "output_type": "execute_result"
    }
   ],
   "source": [
    "df=pd.read_csv(\"TSLA.csv\")\n",
    "df.head()"
   ]
  },
  {
   "cell_type": "code",
   "execution_count": 3,
   "id": "e3e5c8b9-9b64-48f9-96df-45e303a01e08",
   "metadata": {},
   "outputs": [],
   "source": [
    "## univarient Time Series\n",
    "stock_data=df[[\"Date\",\"Close\"]]"
   ]
  },
  {
   "cell_type": "code",
   "execution_count": 4,
   "id": "0aa88a16-5bc5-4677-bf70-c6b53d47833a",
   "metadata": {},
   "outputs": [
    {
     "data": {
      "text/html": [
       "<div>\n",
       "<style scoped>\n",
       "    .dataframe tbody tr th:only-of-type {\n",
       "        vertical-align: middle;\n",
       "    }\n",
       "\n",
       "    .dataframe tbody tr th {\n",
       "        vertical-align: top;\n",
       "    }\n",
       "\n",
       "    .dataframe thead th {\n",
       "        text-align: right;\n",
       "    }\n",
       "</style>\n",
       "<table border=\"1\" class=\"dataframe\">\n",
       "  <thead>\n",
       "    <tr style=\"text-align: right;\">\n",
       "      <th></th>\n",
       "      <th>Date</th>\n",
       "      <th>Close</th>\n",
       "    </tr>\n",
       "  </thead>\n",
       "  <tbody>\n",
       "    <tr>\n",
       "      <th>0</th>\n",
       "      <td>2019-05-21</td>\n",
       "      <td>41.015999</td>\n",
       "    </tr>\n",
       "    <tr>\n",
       "      <th>1</th>\n",
       "      <td>2019-05-22</td>\n",
       "      <td>38.546001</td>\n",
       "    </tr>\n",
       "    <tr>\n",
       "      <th>2</th>\n",
       "      <td>2019-05-23</td>\n",
       "      <td>39.098000</td>\n",
       "    </tr>\n",
       "    <tr>\n",
       "      <th>3</th>\n",
       "      <td>2019-05-24</td>\n",
       "      <td>38.125999</td>\n",
       "    </tr>\n",
       "    <tr>\n",
       "      <th>4</th>\n",
       "      <td>2019-05-28</td>\n",
       "      <td>37.740002</td>\n",
       "    </tr>\n",
       "  </tbody>\n",
       "</table>\n",
       "</div>"
      ],
      "text/plain": [
       "         Date      Close\n",
       "0  2019-05-21  41.015999\n",
       "1  2019-05-22  38.546001\n",
       "2  2019-05-23  39.098000\n",
       "3  2019-05-24  38.125999\n",
       "4  2019-05-28  37.740002"
      ]
     },
     "execution_count": 4,
     "metadata": {},
     "output_type": "execute_result"
    }
   ],
   "source": [
    "stock_data.head()"
   ]
  },
  {
   "cell_type": "code",
   "execution_count": 5,
   "id": "8ed36be0-69c2-4f85-b76f-7d650396bdcb",
   "metadata": {},
   "outputs": [
    {
     "name": "stdout",
     "output_type": "stream",
     "text": [
      "<class 'pandas.core.frame.DataFrame'>\n",
      "RangeIndex: 758 entries, 0 to 757\n",
      "Data columns (total 2 columns):\n",
      " #   Column  Non-Null Count  Dtype  \n",
      "---  ------  --------------  -----  \n",
      " 0   Date    758 non-null    object \n",
      " 1   Close   758 non-null    float64\n",
      "dtypes: float64(1), object(1)\n",
      "memory usage: 12.0+ KB\n"
     ]
    }
   ],
   "source": [
    "stock_data.info()"
   ]
  },
  {
   "cell_type": "code",
   "execution_count": 6,
   "id": "bffce4d9-f0f7-4cc5-9744-8652e5f4ccd9",
   "metadata": {},
   "outputs": [
    {
     "name": "stderr",
     "output_type": "stream",
     "text": [
      "/tmp/ipykernel_260/370832628.py:1: SettingWithCopyWarning: \n",
      "A value is trying to be set on a copy of a slice from a DataFrame.\n",
      "Try using .loc[row_indexer,col_indexer] = value instead\n",
      "\n",
      "See the caveats in the documentation: https://pandas.pydata.org/pandas-docs/stable/user_guide/indexing.html#returning-a-view-versus-a-copy\n",
      "  stock_data['Date']=pd.to_datetime(stock_data[\"Date\"])\n"
     ]
    }
   ],
   "source": [
    "stock_data['Date']=pd.to_datetime(stock_data[\"Date\"])"
   ]
  },
  {
   "cell_type": "code",
   "execution_count": 7,
   "id": "37c4cf26-0669-41f0-9cac-de434aecaf70",
   "metadata": {},
   "outputs": [
    {
     "name": "stdout",
     "output_type": "stream",
     "text": [
      "<class 'pandas.core.frame.DataFrame'>\n",
      "RangeIndex: 758 entries, 0 to 757\n",
      "Data columns (total 2 columns):\n",
      " #   Column  Non-Null Count  Dtype         \n",
      "---  ------  --------------  -----         \n",
      " 0   Date    758 non-null    datetime64[ns]\n",
      " 1   Close   758 non-null    float64       \n",
      "dtypes: datetime64[ns](1), float64(1)\n",
      "memory usage: 12.0 KB\n"
     ]
    }
   ],
   "source": [
    "stock_data.info()"
   ]
  },
  {
   "cell_type": "code",
   "execution_count": 8,
   "id": "cbd5b8f5-9c89-4c17-8be0-ebecd6790cea",
   "metadata": {},
   "outputs": [],
   "source": [
    "stock_data=stock_data.set_index('Date')"
   ]
  },
  {
   "cell_type": "code",
   "execution_count": 9,
   "id": "6059e365-d3f1-43f7-b758-a60c4dc404b4",
   "metadata": {},
   "outputs": [
    {
     "data": {
      "text/html": [
       "<div>\n",
       "<style scoped>\n",
       "    .dataframe tbody tr th:only-of-type {\n",
       "        vertical-align: middle;\n",
       "    }\n",
       "\n",
       "    .dataframe tbody tr th {\n",
       "        vertical-align: top;\n",
       "    }\n",
       "\n",
       "    .dataframe thead th {\n",
       "        text-align: right;\n",
       "    }\n",
       "</style>\n",
       "<table border=\"1\" class=\"dataframe\">\n",
       "  <thead>\n",
       "    <tr style=\"text-align: right;\">\n",
       "      <th></th>\n",
       "      <th>Close</th>\n",
       "    </tr>\n",
       "    <tr>\n",
       "      <th>Date</th>\n",
       "      <th></th>\n",
       "    </tr>\n",
       "  </thead>\n",
       "  <tbody>\n",
       "    <tr>\n",
       "      <th>2019-05-21</th>\n",
       "      <td>41.015999</td>\n",
       "    </tr>\n",
       "    <tr>\n",
       "      <th>2019-05-22</th>\n",
       "      <td>38.546001</td>\n",
       "    </tr>\n",
       "    <tr>\n",
       "      <th>2019-05-23</th>\n",
       "      <td>39.098000</td>\n",
       "    </tr>\n",
       "    <tr>\n",
       "      <th>2019-05-24</th>\n",
       "      <td>38.125999</td>\n",
       "    </tr>\n",
       "    <tr>\n",
       "      <th>2019-05-28</th>\n",
       "      <td>37.740002</td>\n",
       "    </tr>\n",
       "  </tbody>\n",
       "</table>\n",
       "</div>"
      ],
      "text/plain": [
       "                Close\n",
       "Date                 \n",
       "2019-05-21  41.015999\n",
       "2019-05-22  38.546001\n",
       "2019-05-23  39.098000\n",
       "2019-05-24  38.125999\n",
       "2019-05-28  37.740002"
      ]
     },
     "execution_count": 9,
     "metadata": {},
     "output_type": "execute_result"
    }
   ],
   "source": [
    "stock_data.head()"
   ]
  },
  {
   "cell_type": "markdown",
   "id": "bbdae116-0cf3-409c-89e7-45a68b688784",
   "metadata": {},
   "source": [
    "### why we are converting date column as a index column\n",
    "\n",
    "1. i can easily retrive the data\n",
    "2. visulization is also simple\n",
    "3. those lib has been degine in such a way it required date column as a index(scipy statsmodel)"
   ]
  },
  {
   "cell_type": "markdown",
   "id": "493b8d94-bbda-4289-aff3-776625d46073",
   "metadata": {
    "tags": []
   },
   "source": [
    "## EDA"
   ]
  },
  {
   "cell_type": "markdown",
   "id": "1ff2edd5-cf10-4cb7-b4ef-f2b7a3690532",
   "metadata": {},
   "source": [
    "1. Summary Statistics\n",
    "- Compute summary statistics such as mean, median, mode, standard deviation, to get an overview of the data.\n",
    "\n",
    "2. Visualize the Time Series Data\n",
    "- Plot the Time Series data \n",
    "\n",
    "- Plot the rolling mean and rolling standard deviation of the Time Series data.\n",
    "- Decompose the Time Series Data check for any trends, seasonality, and Noise.\n",
    "- Plot the decomposed components to get a better understanding of the Time Series data.\n",
    "\n",
    "3. Stationarity Check\n",
    "- Check for stationarity.\n",
    "- Check for stationarity of the Time Series data using the Augmented Dickey-Fuller test.\n",
    "\n",
    "4. Decompostional Data \n",
    "- Check the graphs of trends,seasonal,cycle etc\n",
    "\n",
    "5. Outlier Detection\n",
    "- Detect and handle outliers using statistical methods or machine learning techniques.\n",
    "\n",
    "6. Check for Autocorrelation\n",
    "- Plot the autocorrelation function (ACF) and partial autocorrelation function (PACF) to identify the order of the ARIMA model.\n"
   ]
  },
  {
   "cell_type": "markdown",
   "id": "44479fbc-7622-4baf-903e-512d04cf1d90",
   "metadata": {
    "tags": []
   },
   "source": [
    "### Summary Statistics"
   ]
  },
  {
   "cell_type": "code",
   "execution_count": 10,
   "id": "023bc472-024e-4de2-960f-c912091ab79f",
   "metadata": {},
   "outputs": [
    {
     "data": {
      "text/html": [
       "<div>\n",
       "<style scoped>\n",
       "    .dataframe tbody tr th:only-of-type {\n",
       "        vertical-align: middle;\n",
       "    }\n",
       "\n",
       "    .dataframe tbody tr th {\n",
       "        vertical-align: top;\n",
       "    }\n",
       "\n",
       "    .dataframe thead th {\n",
       "        text-align: right;\n",
       "    }\n",
       "</style>\n",
       "<table border=\"1\" class=\"dataframe\">\n",
       "  <thead>\n",
       "    <tr style=\"text-align: right;\">\n",
       "      <th></th>\n",
       "      <th>Close</th>\n",
       "    </tr>\n",
       "  </thead>\n",
       "  <tbody>\n",
       "    <tr>\n",
       "      <th>count</th>\n",
       "      <td>758.000000</td>\n",
       "    </tr>\n",
       "    <tr>\n",
       "      <th>mean</th>\n",
       "      <td>485.531513</td>\n",
       "    </tr>\n",
       "    <tr>\n",
       "      <th>std</th>\n",
       "      <td>353.160353</td>\n",
       "    </tr>\n",
       "    <tr>\n",
       "      <th>min</th>\n",
       "      <td>35.793999</td>\n",
       "    </tr>\n",
       "    <tr>\n",
       "      <th>25%</th>\n",
       "      <td>112.323500</td>\n",
       "    </tr>\n",
       "    <tr>\n",
       "      <th>50%</th>\n",
       "      <td>488.125000</td>\n",
       "    </tr>\n",
       "    <tr>\n",
       "      <th>75%</th>\n",
       "      <td>762.142502</td>\n",
       "    </tr>\n",
       "    <tr>\n",
       "      <th>max</th>\n",
       "      <td>1229.910034</td>\n",
       "    </tr>\n",
       "  </tbody>\n",
       "</table>\n",
       "</div>"
      ],
      "text/plain": [
       "             Close\n",
       "count   758.000000\n",
       "mean    485.531513\n",
       "std     353.160353\n",
       "min      35.793999\n",
       "25%     112.323500\n",
       "50%     488.125000\n",
       "75%     762.142502\n",
       "max    1229.910034"
      ]
     },
     "execution_count": 10,
     "metadata": {},
     "output_type": "execute_result"
    }
   ],
   "source": [
    "stock_data.describe()"
   ]
  },
  {
   "cell_type": "markdown",
   "id": "83d920a6-37b1-4090-9b64-ff55a13fbeb4",
   "metadata": {
    "tags": []
   },
   "source": [
    "### Visualize the Time Series Data"
   ]
  },
  {
   "cell_type": "code",
   "execution_count": null,
   "id": "8373cb2c-3929-4009-909e-64b73572843f",
   "metadata": {},
   "outputs": [],
   "source": [
    "plt.plot(stock_data)"
   ]
  },
  {
   "cell_type": "code",
   "execution_count": null,
   "id": "529dcfd4-d3d7-42b9-b200-e0f910dc42b2",
   "metadata": {},
   "outputs": [],
   "source": [
    "plt.hist(stock_data.Close)"
   ]
  },
  {
   "cell_type": "code",
   "execution_count": null,
   "id": "d88839b4-16f4-475c-a1c8-f0c64b0ad2a4",
   "metadata": {},
   "outputs": [],
   "source": [
    "plt.style.use('ggplot')\n",
    "plt.figure(figsize=(18,8)) \n",
    "plt.grid(True) \n",
    "plt.xlabel('Dates', fontsize = 20) \n",
    "plt.xticks(fontsize = 15)\n",
    "plt.ylabel('Close Prices', fontsize = 20)\n",
    "plt.yticks(fontsize = 15) \n",
    "plt.plot(stock_data['Close'], linewidth = 3, color = 'blue')\n",
    "plt.title('Tesla Stock Closing Price', fontsize = 30)\n",
    "plt.show()"
   ]
  },
  {
   "cell_type": "code",
   "execution_count": null,
   "id": "3cfd3d06-b411-476c-8f7a-4f3126c89d00",
   "metadata": {},
   "outputs": [],
   "source": [
    "# plotting close price\n",
    "plt.style.use('ggplot')\n",
    "plt.figure(figsize=(18,8)) \n",
    "plt.grid(True) \n",
    "plt.xlabel('Dates', fontsize = 20) \n",
    "plt.xticks(fontsize = 15)\n",
    "plt.ylabel('Close Prices', fontsize = 20)\n",
    "plt.yticks(fontsize = 15) \n",
    "plt.hist(stock_data['Close'], linewidth = 3, color = 'blue')\n",
    "plt.title('Tesla Stock Closing Price', fontsize = 30)\n",
    "plt.show()"
   ]
  },
  {
   "cell_type": "code",
   "execution_count": null,
   "id": "df57537a-ec3c-4e76-8fc5-02df5964bfdd",
   "metadata": {},
   "outputs": [],
   "source": [
    "# Distribution of the close price  \n",
    "df_close = stock_data['Close'] \n",
    "df_close.plot(kind='kde',figsize = (18,8), linewidth= 3) \n",
    "plt.xticks(fontsize = 15)\n",
    "plt.grid(\"both\")\n",
    "plt.ylabel('Density', fontsize = 20)\n",
    "plt.yticks(fontsize = 15)\n",
    "plt.show()"
   ]
  },
  {
   "cell_type": "markdown",
   "id": "208028d5-21ee-4d69-a33c-1a5f29f4ef77",
   "metadata": {
    "tags": []
   },
   "source": [
    "### Stationarity Check"
   ]
  },
  {
   "cell_type": "markdown",
   "id": "abcc80c0-12fb-4b47-aed5-2e7bb152da43",
   "metadata": {},
   "source": [
    "1. By Visulazation"
   ]
  },
  {
   "cell_type": "code",
   "execution_count": 10,
   "id": "dadb8871-2112-46f7-8967-8b8901177942",
   "metadata": {},
   "outputs": [],
   "source": [
    "rol_mean=stock_data['Close'].rolling(window=65).mean()"
   ]
  },
  {
   "cell_type": "code",
   "execution_count": 11,
   "id": "9e744727-b426-4fc7-9f95-9c1fad62b17a",
   "metadata": {},
   "outputs": [],
   "source": [
    "rol_std=stock_data['Close'].rolling(window=65).std()"
   ]
  },
  {
   "cell_type": "code",
   "execution_count": null,
   "id": "4af36181-6840-4e5f-8c34-62edbd456d10",
   "metadata": {},
   "outputs": [],
   "source": [
    "plt.plot(stock_data.Close)\n",
    "plt.plot(rol_mean)\n",
    "plt.plot(rol_std)"
   ]
  },
  {
   "cell_type": "markdown",
   "id": "01352e0d-1afe-49cb-8ff5-c72e328a9e20",
   "metadata": {},
   "source": [
    "2. By Statsmodel Or Mathamatical Intitusion"
   ]
  },
  {
   "cell_type": "code",
   "execution_count": 12,
   "id": "463a8ba6-74a5-4436-9366-ee932f694261",
   "metadata": {},
   "outputs": [],
   "source": [
    "from statsmodels.tsa.stattools import adfuller\n",
    "adft=adfuller(stock_data['Close'])"
   ]
  },
  {
   "cell_type": "code",
   "execution_count": 13,
   "id": "55c6e274-fdeb-4920-be39-1d354a9a1f4c",
   "metadata": {},
   "outputs": [
    {
     "data": {
      "text/plain": [
       "test stats      -1.363009\n",
       "p-value          0.599876\n",
       "lag              9.000000\n",
       "data points    748.000000\n",
       "dtype: float64"
      ]
     },
     "execution_count": 13,
     "metadata": {},
     "output_type": "execute_result"
    }
   ],
   "source": [
    "pd.Series(adft[0:4],index=[\"test stats\", \"p-value\",\"lag\",\"data points\"])"
   ]
  },
  {
   "cell_type": "code",
   "execution_count": 14,
   "id": "9f4542de-0fbe-40a3-8f85-a24715fc566e",
   "metadata": {},
   "outputs": [],
   "source": [
    "#Test for staionarity\n",
    "def test_stationarity(timeseries):\n",
    "    # Determing rolling statistics\n",
    "    rolmean = timeseries.rolling(48).mean() # rolling mean\n",
    "    rolstd = timeseries.rolling(48).std() # rolling standard deviation\n",
    "    # Plot rolling statistics:\n",
    "    plt.figure(figsize = (18,8))\n",
    "    plt.grid('both')\n",
    "    plt.plot(timeseries, color='blue',label='Original', linewidth = 3)\n",
    "    plt.plot(rolmean, color='red', label='Rolling Mean',linewidth = 3)\n",
    "    plt.plot(rolstd, color='black', label = 'Rolling Std',linewidth = 4)\n",
    "    plt.legend(loc='best', fontsize = 20, shadow=True,facecolor='lightpink',edgecolor = 'k')\n",
    "    plt.title('Rolling Mean and Standard Deviation', fontsize = 25)\n",
    "    plt.xticks(fontsize = 15)\n",
    "    plt.yticks(fontsize = 15)\n",
    "    plt.show(block=False)\n",
    "    \n",
    "    print(\"Results of dickey fuller test\")\n",
    "    adft = adfuller(timeseries,autolag='AIC')\n",
    "    # output for dft will give us without defining what the values are.\n",
    "    # hence we manually write what values does it explains using a for loop\n",
    "    output = pd.Series(adft[0:4],index=['Test Statistics','p-value','No. of lags used','Number of observations used'])\n",
    "    for key,values in adft[4].items():\n",
    "        output['critical value (%s)'%key] =  values\n",
    "    print(output)\n",
    "    "
   ]
  },
  {
   "cell_type": "code",
   "execution_count": null,
   "id": "ff5d0e63-1528-4dff-87e2-c021d63f36fc",
   "metadata": {},
   "outputs": [],
   "source": [
    "test_stationarity(stock_data)"
   ]
  },
  {
   "cell_type": "markdown",
   "id": "70613f93-c068-4ef0-be1c-b005b9144507",
   "metadata": {
    "tags": []
   },
   "source": [
    "### Decomposation of data"
   ]
  },
  {
   "cell_type": "code",
   "execution_count": 15,
   "id": "146d0ccb-135b-4de4-9ccd-a6bc60e774a8",
   "metadata": {},
   "outputs": [],
   "source": [
    "from statsmodels.tsa.seasonal import seasonal_decompose\n",
    "result=seasonal_decompose(stock_data['Close'],period=12)"
   ]
  },
  {
   "cell_type": "code",
   "execution_count": 12,
   "id": "bd205d08-dc3b-49d9-b99c-8dcbdc789a04",
   "metadata": {},
   "outputs": [
    {
     "data": {
      "text/plain": [
       "Date\n",
       "2019-05-21   -2.346452\n",
       "2019-05-22    3.768884\n",
       "2019-05-23   -0.777006\n",
       "2019-05-24   -0.654226\n",
       "2019-05-28   -2.737845\n",
       "                ...   \n",
       "2022-05-16    2.149519\n",
       "2022-05-17    1.323680\n",
       "2022-05-18    1.837638\n",
       "2022-05-19   -2.346452\n",
       "2022-05-20    3.768884\n",
       "Name: seasonal, Length: 758, dtype: float64"
      ]
     },
     "execution_count": 12,
     "metadata": {},
     "output_type": "execute_result"
    }
   ],
   "source": [
    "result.seasonal"
   ]
  },
  {
   "cell_type": "code",
   "execution_count": 18,
   "id": "50be4ef5-4ec4-4829-8c57-b875eb76b769",
   "metadata": {},
   "outputs": [
    {
     "data": {
      "text/plain": [
       "<Figure size 2000x1000 with 0 Axes>"
      ]
     },
     "metadata": {},
     "output_type": "display_data"
    },
    {
     "data": {
      "image/png": "[encoded data removed]",
      "text/plain": [
       "<Figure size 1700x1000 with 4 Axes>"
      ]
     },
     "metadata": {},
     "output_type": "display_data"
    }
   ],
   "source": [
    "fig=plt.figure(figsize=(20,10))\n",
    "fig=result.plot()\n",
    "fig.set_size_inches(17,10)"
   ]
  },
  {
   "cell_type": "code",
   "execution_count": 16,
   "id": "1a0647e5-0f76-4056-bc5d-9c21d9c137e3",
   "metadata": {},
   "outputs": [],
   "source": [
    "from statsmodels.tsa.seasonal import seasonal_decompose\n",
    "result=seasonal_decompose(stock_data['Close'],period=12,model=\"multiplicative\")"
   ]
  },
  {
   "cell_type": "code",
   "execution_count": null,
   "id": "068bc7db-4b1f-4d4a-95b9-c5a95de81984",
   "metadata": {},
   "outputs": [],
   "source": [
    "fig=plt.figure(figsize=(20,10))\n",
    "fig=result.plot()\n",
    "fig.set_size_inches(17,10)"
   ]
  },
  {
   "cell_type": "markdown",
   "id": "7ef021fa-d0fb-4c8b-87fa-0d2b12867d55",
   "metadata": {
    "tags": []
   },
   "source": [
    "### Outlier Detection"
   ]
  },
  {
   "cell_type": "code",
   "execution_count": null,
   "id": "1c7ebb07-175b-434c-bdce-77977670fbfc",
   "metadata": {},
   "outputs": [],
   "source": [
    "import seaborn as sns\n",
    "sns.boxplot(stock_data)"
   ]
  },
  {
   "cell_type": "code",
   "execution_count": null,
   "id": "4e5ae5b8-0038-49f8-89e4-7a6bfe6ef7ce",
   "metadata": {},
   "outputs": [],
   "source": [
    "fig ,ax = plt.subplots(figsize=(20,10))\n",
    "ax.boxplot(stock_data[\"Close\"])\n",
    "ax.set_xlabel(\"variables\")\n",
    "ax.set_ylabel(\"Values\")\n",
    "ax.set_title(\"Box Plot\")\n",
    "plt.show()"
   ]
  },
  {
   "cell_type": "markdown",
   "id": "dc9c931f-5b1a-4ea9-9e24-6c840cbd37cb",
   "metadata": {
    "tags": []
   },
   "source": [
    "### Check for Autocorrelation"
   ]
  },
  {
   "cell_type": "code",
   "execution_count": null,
   "id": "4d33cfb8-4465-4c41-9224-93970a3e9562",
   "metadata": {},
   "outputs": [],
   "source": [
    "from statsmodels.graphics.tsaplots import plot_acf,plot_pacf\n",
    "plot_acf(stock_data[\"Close\"])\n",
    "plot_pacf(stock_data[\"Close\"])"
   ]
  },
  {
   "cell_type": "markdown",
   "id": "8b84b048-5210-4778-a5c5-fae784cc33f1",
   "metadata": {
    "tags": []
   },
   "source": [
    "## Preprocessing the Data\n",
    "\n",
    "1. Fill Missing values\n",
    "2. Convert Data Into The Stationay Time Series\n",
    "3. Normalize The Data\n",
    "4. Split Data Into Train Test Split\n",
    "5. Clean Data By removing Outliers"
   ]
  },
  {
   "cell_type": "markdown",
   "id": "dc07cdb9-1248-4ecd-b4aa-d7f3bc9b9c44",
   "metadata": {},
   "source": [
    "1. Missing values"
   ]
  },
  {
   "cell_type": "code",
   "execution_count": 21,
   "id": "ea715657-c577-41ae-ac0c-1f6bc9135b3d",
   "metadata": {},
   "outputs": [
    {
     "data": {
      "text/plain": [
       "Close    0\n",
       "dtype: int64"
      ]
     },
     "execution_count": 21,
     "metadata": {},
     "output_type": "execute_result"
    }
   ],
   "source": [
    "stock_data.isnull().sum()"
   ]
  },
  {
   "cell_type": "markdown",
   "id": "ef67eff8-8568-4942-9f2b-837808df17dc",
   "metadata": {},
   "source": [
    "2. Convert Data Into The Stationay Time Series"
   ]
  },
  {
   "cell_type": "code",
   "execution_count": 17,
   "id": "f9ac0a48-b6be-4c5a-b8fc-b15cb21ebcd6",
   "metadata": {},
   "outputs": [],
   "source": [
    "df_close=stock_data[\"Close\"]"
   ]
  },
  {
   "cell_type": "code",
   "execution_count": 23,
   "id": "9d2a2ef6-b1c6-46a5-9140-336127e18e5e",
   "metadata": {},
   "outputs": [],
   "source": [
    "df_close=df_close.diff()\n",
    "df_close=df_close.dropna()"
   ]
  },
  {
   "cell_type": "code",
   "execution_count": 18,
   "id": "19307edc-d124-40ae-a08e-62d0bfb91466",
   "metadata": {},
   "outputs": [
    {
     "data": {
      "text/plain": [
       "Date\n",
       "2019-05-21     41.015999\n",
       "2019-05-22     38.546001\n",
       "2019-05-23     39.098000\n",
       "2019-05-24     38.125999\n",
       "2019-05-28     37.740002\n",
       "                 ...    \n",
       "2022-05-16    724.369995\n",
       "2022-05-17    761.609985\n",
       "2022-05-18    709.809998\n",
       "2022-05-19    709.419983\n",
       "2022-05-20    663.900024\n",
       "Name: Close, Length: 758, dtype: float64"
      ]
     },
     "execution_count": 18,
     "metadata": {},
     "output_type": "execute_result"
    }
   ],
   "source": [
    "df_close"
   ]
  },
  {
   "cell_type": "code",
   "execution_count": null,
   "id": "6cf1b95d-3bad-4403-9e57-2add6954f37d",
   "metadata": {},
   "outputs": [],
   "source": [
    "### We created a function above to check Stationay Or Non Stationay\n",
    "test_stationarity(df_close)"
   ]
  },
  {
   "cell_type": "markdown",
   "id": "bfc53064-cabf-4ed5-b972-95d3e0bec479",
   "metadata": {},
   "source": [
    "3. normalize the data "
   ]
  },
  {
   "cell_type": "markdown",
   "id": "f2790fa8-201a-4951-a68d-063f9a6b0d6a",
   "metadata": {},
   "source": [
    "here it is not requeried"
   ]
  },
  {
   "cell_type": "markdown",
   "id": "cf42e15a-67f7-4510-a73c-c7f673ff7611",
   "metadata": {},
   "source": [
    "4. Split the data into train and test"
   ]
  },
  {
   "cell_type": "markdown",
   "id": "fb5264ad-888a-4784-9854-d63000e08535",
   "metadata": {},
   "source": [
    "Here we have only one variable or only one feature so we can't use train test split operation by importing the liberiyes \n",
    "\n",
    "So we can divide the data into train and test by slicing the data "
   ]
  },
  {
   "cell_type": "code",
   "execution_count": 19,
   "id": "e3ede8c2-0347-4ff6-bc19-69fcf2c25b04",
   "metadata": {},
   "outputs": [],
   "source": [
    "train_data = df_close[:-60]\n",
    "test_data = df_close[-60:]\n"
   ]
  },
  {
   "cell_type": "markdown",
   "id": "b3ebb975-ac98-4203-9b44-d5b43da2a36c",
   "metadata": {
    "tags": []
   },
   "source": [
    "# Model Training"
   ]
  },
  {
   "cell_type": "code",
   "execution_count": 67,
   "id": "af56dcfb-d95f-44a7-984d-e853d430ef77",
   "metadata": {},
   "outputs": [],
   "source": [
    "import statsmodels.api as sm \n",
    "from  statsmodels.tsa.arima.model import ARIMA \n",
    "from sklearn.metrics import mean_squared_error"
   ]
  },
  {
   "cell_type": "code",
   "execution_count": 68,
   "id": "adf663ca-337e-4447-95fc-3643b0b95e6c",
   "metadata": {},
   "outputs": [
    {
     "data": {
      "text/plain": [
       "[41.01599884033203,\n",
       " 38.54600143432617,\n",
       " 39.09799957275391,\n",
       " 38.1259994506836,\n",
       " 37.7400016784668,\n",
       " 37.97200012207031,\n",
       " 37.64400100708008,\n",
       " 37.03200149536133,\n",
       " 35.79399871826172,\n",
       " 38.720001220703125,\n",
       " 39.31800079345703,\n",
       " 41.18999862670898,\n",
       " 40.900001525878906,\n",
       " 42.57600021362305,\n",
       " 43.41999816894531,\n",
       " 41.85200119018555,\n",
       " 42.78200149536133,\n",
       " 42.98400115966797,\n",
       " 45.00600051879883,\n",
       " 44.948001861572266,\n",
       " 45.2859992980957,\n",
       " 43.92399978637695,\n",
       " 44.37200164794922,\n",
       " 44.72800064086914,\n",
       " 43.95199966430664,\n",
       " 43.854000091552734,\n",
       " 44.56800079345703,\n",
       " 44.69200134277344,\n",
       " 45.43399810791016,\n",
       " 44.90999984741211,\n",
       " 46.97999954223633,\n",
       " 46.619998931884766,\n",
       " 46.06800079345703,\n",
       " 46.012001037597656,\n",
       " 47.78400039672852,\n",
       " 47.720001220703125,\n",
       " 49.01599884033203,\n",
       " 50.70000076293945,\n",
       " 50.47600173950195,\n",
       " 50.97200012207031,\n",
       " 50.70800018310547,\n",
       " 51.63600158691406,\n",
       " 51.13600158691406,\n",
       " 52.03400039672852,\n",
       " 52.97600173950195,\n",
       " 45.76399993896485,\n",
       " 45.608001708984375,\n",
       " 47.15399932861328,\n",
       " 48.45199966430664,\n",
       " 48.321998596191406,\n",
       " 46.77000045776367,\n",
       " 46.86800003051758,\n",
       " 45.66400146484375,\n",
       " 46.150001525878906,\n",
       " 46.68399810791016,\n",
       " 47.65999984741211,\n",
       " 47.00199890136719,\n",
       " 45.80199813842773,\n",
       " 47.0,\n",
       " 43.92399978637695,\n",
       " 43.12799835205078,\n",
       " 43.98799896240234,\n",
       " 45.36600112915039,\n",
       " 45.172000885009766,\n",
       " 44.16600036621094,\n",
       " 44.43000030517578,\n",
       " 42.27999877929688,\n",
       " 43.0,\n",
       " 42.81600189208984,\n",
       " 43.11800003051758,\n",
       " 44.34199905395508,\n",
       " 45.12200164794922,\n",
       " 45.00199890136719,\n",
       " 44.13600158691406,\n",
       " 45.91600036621094,\n",
       " 45.4900016784668,\n",
       " 46.358001708984375,\n",
       " 47.108001708984375,\n",
       " 49.41999816894531,\n",
       " 49.17399978637695,\n",
       " 49.040000915527344,\n",
       " 48.5620002746582,\n",
       " 48.95800018310547,\n",
       " 48.698001861572266,\n",
       " 49.31999969482422,\n",
       " 48.124000549316406,\n",
       " 48.24599838256836,\n",
       " 44.641998291015625,\n",
       " 45.7400016784668,\n",
       " 48.512001037597656,\n",
       " 48.42599868774414,\n",
       " 48.17399978637695,\n",
       " 48.9379997253418,\n",
       " 48.6259994506836,\n",
       " 46.60599899291992,\n",
       " 46.2859992980957,\n",
       " 47.54399871826172,\n",
       " 48.0099983215332,\n",
       " 48.90599822998047,\n",
       " 48.948001861572266,\n",
       " 49.57799911499024,\n",
       " 51.391998291015625,\n",
       " 51.57799911499024,\n",
       " 51.95000076293945,\n",
       " 52.39400100708008,\n",
       " 51.38999938964844,\n",
       " 50.70000076293945,\n",
       " 51.11600112915039,\n",
       " 50.93600082397461,\n",
       " 59.93600082397461,\n",
       " 65.6259994506836,\n",
       " 65.54199981689453,\n",
       " 63.24399948120117,\n",
       " 63.00199890136719,\n",
       " 62.98400115966797,\n",
       " 62.6619987487793,\n",
       " 63.49399948120117,\n",
       " 63.44400024414063,\n",
       " 65.31600189208984,\n",
       " 67.10800170898438,\n",
       " 67.4280014038086,\n",
       " 69.01799774169922,\n",
       " 69.98600006103516,\n",
       " 69.22200012207031,\n",
       " 69.87000274658203,\n",
       " 70.43399810791016,\n",
       " 69.99800109863281,\n",
       " 71.90399932861328,\n",
       " 70.44400024414062,\n",
       " 70.96600341796875,\n",
       " 66.60800170898438,\n",
       " 67.26799774169922,\n",
       " 65.78399658203125,\n",
       " 66.25800323486328,\n",
       " 65.98799896240234,\n",
       " 66.9739990234375,\n",
       " 67.23999786376953,\n",
       " 66.60600280761719,\n",
       " 66.0739974975586,\n",
       " 67.1780014038086,\n",
       " 67.90599822998047,\n",
       " 69.76799774169922,\n",
       " 70.54000091552734,\n",
       " 71.93599700927734,\n",
       " 71.6780014038086,\n",
       " 76.30000305175781,\n",
       " 75.7979965209961,\n",
       " 78.62999725341797,\n",
       " 80.80799865722656,\n",
       " 81.11799621582031,\n",
       " 83.84400177001953,\n",
       " 85.05000305175781,\n",
       " 86.18800354003906,\n",
       " 86.07599639892578,\n",
       " 82.94000244140625,\n",
       " 83.66600036621094,\n",
       " 86.052001953125,\n",
       " 88.60199737548828,\n",
       " 90.30799865722656,\n",
       " 93.81199645996094,\n",
       " 98.4280014038086,\n",
       " 96.26799774169922,\n",
       " 95.62999725341795,\n",
       " 104.97200012207033,\n",
       " 107.58399963378906,\n",
       " 103.6999969482422,\n",
       " 102.697998046875,\n",
       " 102.0999984741211,\n",
       " 109.44000244140624,\n",
       " 113.91200256347656,\n",
       " 114.44000244140624,\n",
       " 112.96399688720705,\n",
       " 111.60399627685548,\n",
       " 113.37999725341795,\n",
       " 116.197998046875,\n",
       " 128.16200256347656,\n",
       " 130.11399841308594,\n",
       " 156.0,\n",
       " 177.41200256347656,\n",
       " 146.94000244140625,\n",
       " 149.79200744628906,\n",
       " 149.61399841308594,\n",
       " 154.25599670410156,\n",
       " 154.87600708007812,\n",
       " 153.45799255371094,\n",
       " 160.8000030517578,\n",
       " 160.00599670410156,\n",
       " 171.67999267578125,\n",
       " 183.48399353027344,\n",
       " 179.8820037841797,\n",
       " 180.1999969482422,\n",
       " 166.75799560546875,\n",
       " 159.98199462890625,\n",
       " 155.75999450683594,\n",
       " 135.8000030517578,\n",
       " 133.59800720214844,\n",
       " 148.7239990234375,\n",
       " 149.1020050048828,\n",
       " 149.89999389648438,\n",
       " 144.9080047607422,\n",
       " 140.6959991455078,\n",
       " 121.5999984741211,\n",
       " 129.0659942626953,\n",
       " 126.84600067138672,\n",
       " 112.11000061035156,\n",
       " 109.3239974975586,\n",
       " 89.01399993896484,\n",
       " 86.04000091552734,\n",
       " 72.24400329589844,\n",
       " 85.52799987792969,\n",
       " 85.50599670410156,\n",
       " 86.85800170898438,\n",
       " 101.0,\n",
       " 107.8499984741211,\n",
       " 105.63200378417967,\n",
       " 102.87200164794922,\n",
       " 100.4260025024414,\n",
       " 104.8000030517578,\n",
       " 96.31199645996094,\n",
       " 90.8939971923828,\n",
       " 96.0019989013672,\n",
       " 103.2480010986328,\n",
       " 109.08999633789062,\n",
       " 109.76799774169922,\n",
       " 114.5999984741211,\n",
       " 130.19000244140625,\n",
       " 141.97799682617188,\n",
       " 145.96600341796875,\n",
       " 149.04200744628906,\n",
       " 150.7779998779297,\n",
       " 149.27200317382812,\n",
       " 137.343994140625,\n",
       " 146.4219970703125,\n",
       " 141.12600708007812,\n",
       " 145.02999877929688,\n",
       " 159.75,\n",
       " 153.82400512695312,\n",
       " 160.1020050048828,\n",
       " 156.37600708007812,\n",
       " 140.26400756835938,\n",
       " 152.23800659179688,\n",
       " 153.64199829101562,\n",
       " 156.51600646972656,\n",
       " 156.00799560546875,\n",
       " 163.88400268554688,\n",
       " 162.25799560546875,\n",
       " 161.8820037841797,\n",
       " 158.19200134277344,\n",
       " 160.66600036621094,\n",
       " 159.83399963378906,\n",
       " 162.7259979248047,\n",
       " 161.6020050048828,\n",
       " 163.11199951171875,\n",
       " 165.52000427246094,\n",
       " 163.37600708007812,\n",
       " 163.7740020751953,\n",
       " 164.04600524902344,\n",
       " 161.16200256347656,\n",
       " 167.0,\n",
       " 179.6199951171875,\n",
       " 176.31199645996094,\n",
       " 176.5919952392578,\n",
       " 172.87600708007812,\n",
       " 177.1320037841797,\n",
       " 189.98399353027344,\n",
       " 188.13400268554688,\n",
       " 205.00999450683597,\n",
       " 194.5679931640625,\n",
       " 187.05599975585935,\n",
       " 198.17999267578125,\n",
       " 196.42599487304688,\n",
       " 198.3580017089844,\n",
       " 200.79200744628903,\n",
       " 200.17999267578125,\n",
       " 198.86399841308597,\n",
       " 200.3560028076172,\n",
       " 192.1699981689453,\n",
       " 197.1959991455078,\n",
       " 191.947998046875,\n",
       " 201.8699951171875,\n",
       " 215.9620056152344,\n",
       " 223.92599487304688,\n",
       " 241.73199462890625,\n",
       " 274.3160095214844,\n",
       " 277.97198486328125,\n",
       " 273.1759948730469,\n",
       " 278.8559875488281,\n",
       " 308.92999267578125,\n",
       " 299.4119873046875,\n",
       " 303.3599853515625,\n",
       " 309.2019958496094,\n",
       " 300.12799072265625,\n",
       " 300.1679992675781,\n",
       " 328.6000061035156,\n",
       " 313.6719970703125,\n",
       " 318.46600341796875,\n",
       " 302.614013671875,\n",
       " 283.3999938964844,\n",
       " 307.9200134277344,\n",
       " 295.2980041503906,\n",
       " 299.8219909667969,\n",
       " 297.4979858398437,\n",
       " 286.1520080566406,\n",
       " 297.0,\n",
       " 297.3999938964844,\n",
       " 297.0039978027344,\n",
       " 297.9159851074219,\n",
       " 290.5419921875,\n",
       " 283.7139892578125,\n",
       " 274.87799072265625,\n",
       " 310.9519958496094,\n",
       " 324.20001220703125,\n",
       " 330.1419982910156,\n",
       " 367.12799072265625,\n",
       " 377.4179992675781,\n",
       " 375.70599365234375,\n",
       " 400.3659973144531,\n",
       " 409.9960021972656,\n",
       " 402.8399963378906,\n",
       " 404.6679992675781,\n",
       " 430.6340026855469,\n",
       " 447.75,\n",
       " 442.6799926757813,\n",
       " 498.3200073242188,\n",
       " 475.0499877929688,\n",
       " 447.3699951171875,\n",
       " 407.0,\n",
       " 418.3200073242188,\n",
       " 330.2099914550781,\n",
       " 366.2799987792969,\n",
       " 371.3399963378906,\n",
       " 372.7200012207031,\n",
       " 419.6199951171875,\n",
       " 449.760009765625,\n",
       " 441.760009765625,\n",
       " 423.4299926757813,\n",
       " 442.1499938964844,\n",
       " 449.3900146484375,\n",
       " 424.2300109863281,\n",
       " 380.3599853515625,\n",
       " 387.7900085449219,\n",
       " 407.3399963378906,\n",
       " 421.2000122070313,\n",
       " 419.0700073242188,\n",
       " 429.010009765625,\n",
       " 448.1600036621094,\n",
       " 415.0899963378906,\n",
       " 425.6799926757813,\n",
       " 413.9800109863281,\n",
       " 425.2999877929688,\n",
       " 425.9200134277344,\n",
       " 434.0,\n",
       " 442.2999877929688,\n",
       " 446.6499938964844,\n",
       " 461.2999877929688,\n",
       " 448.8800048828125,\n",
       " 439.6700134277344,\n",
       " 430.8299865722656,\n",
       " 421.9400024414063,\n",
       " 422.6400146484375,\n",
       " 425.7900085449219,\n",
       " 420.6300048828125,\n",
       " 420.2799987792969,\n",
       " 424.6799926757813,\n",
       " 406.0199890136719,\n",
       " 410.8299865722656,\n",
       " 388.0400085449219,\n",
       " 400.510009765625,\n",
       " 423.8999938964844,\n",
       " 420.9800109863281,\n",
       " 438.0899963378906,\n",
       " 429.9500122070313,\n",
       " 421.260009765625,\n",
       " 410.3599853515625,\n",
       " 417.1300048828125,\n",
       " 411.760009765625,\n",
       " 408.5,\n",
       " 408.0899963378906,\n",
       " 441.6099853515625,\n",
       " 486.6400146484375,\n",
       " 499.2699890136719,\n",
       " 489.6099853515625,\n",
       " 521.8499755859375,\n",
       " 555.3800048828125,\n",
       " 574.0,\n",
       " 585.760009765625,\n",
       " 567.5999755859375,\n",
       " 584.760009765625,\n",
       " 568.8200073242188,\n",
       " 593.3800048828125,\n",
       " 599.0399780273438,\n",
       " 641.760009765625,\n",
       " 649.8800048828125,\n",
       " 604.47998046875,\n",
       " 627.0700073242188,\n",
       " 609.989990234375,\n",
       " 639.8300170898438,\n",
       " 633.25,\n",
       " 622.77001953125,\n",
       " 655.9000244140625,\n",
       " 695.0,\n",
       " 649.8599853515625,\n",
       " 640.3400268554688,\n",
       " 645.97998046875,\n",
       " 661.77001953125,\n",
       " 663.6900024414062,\n",
       " 665.989990234375,\n",
       " 694.780029296875,\n",
       " 705.6699829101562,\n",
       " 729.77001953125,\n",
       " 735.1099853515625,\n",
       " 755.97998046875,\n",
       " 816.0399780273438,\n",
       " 880.02001953125,\n",
       " 811.1900024414062,\n",
       " 849.4400024414062,\n",
       " 854.4099731445312,\n",
       " 845.0,\n",
       " 826.1599731445312,\n",
       " 844.5499877929688,\n",
       " 850.4500122070312,\n",
       " 844.989990234375,\n",
       " 846.6400146484375,\n",
       " 880.7999877929688,\n",
       " 883.0900268554688,\n",
       " 864.1599731445312,\n",
       " 835.4299926757812,\n",
       " 793.530029296875,\n",
       " 839.8099975585938,\n",
       " 872.7899780273438,\n",
       " 854.6900024414062,\n",
       " 849.989990234375,\n",
       " 852.22998046875,\n",
       " 863.4199829101562,\n",
       " 849.4600219726562,\n",
       " 804.8200073242188,\n",
       " 811.6599731445312,\n",
       " 816.1199951171875,\n",
       " 796.219970703125,\n",
       " 798.1500244140625,\n",
       " 787.3800048828125,\n",
       " 781.2999877929688,\n",
       " 714.5,\n",
       " 698.8400268554688,\n",
       " 742.02001953125,\n",
       " 682.219970703125,\n",
       " 675.5,\n",
       " 718.4299926757812,\n",
       " 686.4400024414062,\n",
       " 653.2000122070312,\n",
       " 621.4400024414062,\n",
       " 597.9500122070312,\n",
       " 563.0,\n",
       " 673.5800170898438,\n",
       " 668.0599975585938,\n",
       " 699.5999755859375,\n",
       " 693.72998046875,\n",
       " 707.9400024414062,\n",
       " 676.8800048828125,\n",
       " 701.8099975585938,\n",
       " 653.1599731445312,\n",
       " 654.8699951171875,\n",
       " 670.0,\n",
       " 662.1599731445312,\n",
       " 630.27001953125,\n",
       " 640.3900146484375,\n",
       " 618.7100219726562,\n",
       " 611.2899780273438,\n",
       " 635.6199951171875,\n",
       " 667.9299926757812,\n",
       " 661.75,\n",
       " 691.0499877929688,\n",
       " 691.6199951171875,\n",
       " 670.969970703125,\n",
       " 683.7999877929688,\n",
       " 677.02001953125,\n",
       " 701.97998046875,\n",
       " 762.3200073242188,\n",
       " 732.22998046875,\n",
       " 738.8499755859375,\n",
       " 739.780029296875,\n",
       " 714.6300048828125,\n",
       " 718.989990234375,\n",
       " 744.1199951171875,\n",
       " 719.6900024414062,\n",
       " 729.4000244140625,\n",
       " 738.2000122070312,\n",
       " 704.739990234375,\n",
       " 694.4000244140625,\n",
       " 677.0,\n",
       " 709.4400024414062,\n",
       " 684.9000244140625,\n",
       " 673.5999755859375,\n",
       " 670.9400024414062,\n",
       " 663.5399780273438,\n",
       " 672.3699951171875,\n",
       " 629.0399780273438,\n",
       " 617.2000122070312,\n",
       " 589.8900146484375,\n",
       " 571.6900024414062,\n",
       " 589.739990234375,\n",
       " 576.8300170898438,\n",
       " 577.8699951171875,\n",
       " 563.4600219726562,\n",
       " 586.780029296875,\n",
       " 580.8800048828125,\n",
       " 606.4400024414062,\n",
       " 604.6900024414062,\n",
       " 619.1300048828125,\n",
       " 630.8499755859375,\n",
       " 625.219970703125,\n",
       " 623.9000244140625,\n",
       " 605.1199951171875,\n",
       " 572.8400268554688,\n",
       " 599.0499877929688,\n",
       " 605.1300048828125,\n",
       " 603.5900268554688,\n",
       " 598.780029296875,\n",
       " 610.1199951171875,\n",
       " 609.8900146484375,\n",
       " 617.6900024414062,\n",
       " 599.3599853515625,\n",
       " 604.8699951171875,\n",
       " 616.5999755859375,\n",
       " 623.3099975585938,\n",
       " 620.8300170898438,\n",
       " 623.7100219726562,\n",
       " 656.5700073242188,\n",
       " 679.8200073242188,\n",
       " 671.8699951171875,\n",
       " 688.719970703125,\n",
       " 680.760009765625,\n",
       " 679.7000122070312,\n",
       " 677.9199829101562,\n",
       " 678.9000244140625,\n",
       " 659.5800170898438,\n",
       " 644.6500244140625,\n",
       " 652.8099975585938,\n",
       " 656.9500122070312,\n",
       " 685.7000122070312,\n",
       " 668.5399780273438,\n",
       " 653.3800048828125,\n",
       " 650.5999755859375,\n",
       " 644.219970703125,\n",
       " 646.219970703125,\n",
       " 660.5,\n",
       " 655.2899780273438,\n",
       " 649.260009765625,\n",
       " 643.3800048828125,\n",
       " 657.6199951171875,\n",
       " 644.780029296875,\n",
       " 646.97998046875,\n",
       " 677.3499755859375,\n",
       " 687.2000122070312,\n",
       " 709.6699829101562,\n",
       " 709.739990234375,\n",
       " 710.9199829101562,\n",
       " 714.6300048828125,\n",
       " 699.0999755859375,\n",
       " 713.760009765625,\n",
       " 709.989990234375,\n",
       " 707.8200073242188,\n",
       " 722.25,\n",
       " 717.1699829101562,\n",
       " 686.1699829101562,\n",
       " 665.7100219726562,\n",
       " 688.989990234375,\n",
       " 673.469970703125,\n",
       " 680.260009765625,\n",
       " 706.2999877929688,\n",
       " 708.489990234375,\n",
       " 711.2000122070312,\n",
       " 701.1599731445312,\n",
       " 711.9199829101562,\n",
       " 730.9099731445312,\n",
       " 735.719970703125,\n",
       " 734.0900268554688,\n",
       " 732.3900146484375,\n",
       " 733.5700073242188,\n",
       " 752.9199829101562,\n",
       " 753.8699951171875,\n",
       " 754.8599853515625,\n",
       " 736.27001953125,\n",
       " 743.0,\n",
       " 744.489990234375,\n",
       " 755.8300170898438,\n",
       " 756.989990234375,\n",
       " 759.489990234375,\n",
       " 730.1699829101562,\n",
       " 739.3800048828125,\n",
       " 751.9400024414062,\n",
       " 753.6400146484375,\n",
       " 774.3900146484375,\n",
       " 791.3599853515625,\n",
       " 777.5599975585938,\n",
       " 781.3099975585938,\n",
       " 775.47998046875,\n",
       " 775.219970703125,\n",
       " 781.530029296875,\n",
       " 780.5900268554688,\n",
       " 782.75,\n",
       " 793.6099853515625,\n",
       " 785.489990234375,\n",
       " 791.9400024414062,\n",
       " 805.719970703125,\n",
       " 811.0800170898438,\n",
       " 818.3200073242188,\n",
       " 843.030029296875,\n",
       " 870.1099853515625,\n",
       " 864.27001953125,\n",
       " 865.7999877929688,\n",
       " 894.0,\n",
       " 909.6799926757812,\n",
       " 1024.8599853515625,\n",
       " 1018.4299926757812,\n",
       " 1037.8599853515625,\n",
       " 1077.0400390625,\n",
       " 1114.0,\n",
       " 1208.5899658203125,\n",
       " 1172.0,\n",
       " 1213.8599853515625,\n",
       " 1229.9100341796875,\n",
       " 1222.0899658203125,\n",
       " 1162.93994140625,\n",
       " 1023.5,\n",
       " 1067.949951171875,\n",
       " 1063.510009765625,\n",
       " 1033.4200439453125,\n",
       " 1013.3900146484376,\n",
       " 1054.72998046875,\n",
       " 1089.010009765625,\n",
       " 1096.3800048828125,\n",
       " 1137.06005859375,\n",
       " 1156.8699951171875,\n",
       " 1109.030029296875,\n",
       " 1116.0,\n",
       " 1081.9200439453125,\n",
       " 1136.989990234375,\n",
       " 1144.760009765625,\n",
       " 1095.0,\n",
       " 1084.5999755859375,\n",
       " 1014.969970703125,\n",
       " 1009.010009765625,\n",
       " 1051.75,\n",
       " 1068.9599609375,\n",
       " 1003.7999877929688,\n",
       " 1017.030029296875,\n",
       " 966.4099731445312,\n",
       " 958.510009765625,\n",
       " 975.989990234375,\n",
       " 926.9199829101562,\n",
       " 932.5700073242188,\n",
       " 899.9400024414062,\n",
       " 938.530029296875,\n",
       " 1008.8699951171876,\n",
       " 1067.0,\n",
       " 1093.93994140625,\n",
       " 1088.469970703125,\n",
       " 1086.18994140625,\n",
       " 1070.3399658203125,\n",
       " 1056.780029296875,\n",
       " 1199.780029296875,\n",
       " 1149.5899658203125,\n",
       " 1088.1199951171875,\n",
       " 1064.699951171875,\n",
       " 1026.9599609375,\n",
       " 1058.1199951171875,\n",
       " 1064.4000244140625,\n",
       " 1106.219970703125,\n",
       " 1031.56005859375,\n",
       " 1049.6099853515625,\n",
       " 1030.510009765625,\n",
       " 995.6500244140624,\n",
       " 996.27001953125,\n",
       " 943.9000244140624,\n",
       " 930.0,\n",
       " 918.4000244140624,\n",
       " 937.4099731445312,\n",
       " 829.0999755859375,\n",
       " 846.3499755859375,\n",
       " 936.719970703125,\n",
       " 931.25,\n",
       " 905.6599731445312,\n",
       " 891.1400146484375,\n",
       " 923.3200073242188,\n",
       " 907.3400268554688,\n",
       " 922.0,\n",
       " 932.0,\n",
       " 904.5499877929688,\n",
       " 860.0,\n",
       " 875.760009765625,\n",
       " 922.4299926757812,\n",
       " 923.3900146484376,\n",
       " 876.3499755859375,\n",
       " 856.97998046875,\n",
       " 821.530029296875,\n",
       " 764.0399780273438,\n",
       " 800.77001953125]"
      ]
     },
     "execution_count": 68,
     "metadata": {},
     "output_type": "execute_result"
    }
   ],
   "source": [
    "history=[x for x in train_data]\n",
    "history"
   ]
  },
  {
   "cell_type": "code",
   "execution_count": 69,
   "id": "ec04758d-e6bd-4a3a-bd89-a3654258fe05",
   "metadata": {},
   "outputs": [],
   "source": [
    "model=ARIMA(history,order=(1,1,1))"
   ]
  },
  {
   "cell_type": "code",
   "execution_count": 70,
   "id": "cbb6468c-3423-4f0a-819d-dfd07ddf110b",
   "metadata": {},
   "outputs": [],
   "source": [
    "model=model.fit()"
   ]
  },
  {
   "cell_type": "code",
   "execution_count": 71,
   "id": "b2bb70fa-819e-4e83-a9d6-d34ce41f8e16",
   "metadata": {},
   "outputs": [
    {
     "data": {
      "text/html": [
       "<table class=\"simpletable\">\n",
       "<caption>SARIMAX Results</caption>\n",
       "<tr>\n",
       "  <th>Dep. Variable:</th>           <td>y</td>        <th>  No. Observations:  </th>    <td>698</td>   \n",
       "</tr>\n",
       "<tr>\n",
       "  <th>Model:</th>            <td>ARIMA(1, 1, 1)</td>  <th>  Log Likelihood     </th> <td>-3150.350</td>\n",
       "</tr>\n",
       "<tr>\n",
       "  <th>Date:</th>            <td>Mon, 07 Aug 2023</td> <th>  AIC                </th> <td>6306.700</td> \n",
       "</tr>\n",
       "<tr>\n",
       "  <th>Time:</th>                <td>07:46:31</td>     <th>  BIC                </th> <td>6320.340</td> \n",
       "</tr>\n",
       "<tr>\n",
       "  <th>Sample:</th>                  <td>0</td>        <th>  HQIC               </th> <td>6311.974</td> \n",
       "</tr>\n",
       "<tr>\n",
       "  <th></th>                      <td> - 698</td>      <th>                     </th>     <td> </td>    \n",
       "</tr>\n",
       "<tr>\n",
       "  <th>Covariance Type:</th>        <td>opg</td>       <th>                     </th>     <td> </td>    \n",
       "</tr>\n",
       "</table>\n",
       "<table class=\"simpletable\">\n",
       "<tr>\n",
       "     <td></td>       <th>coef</th>     <th>std err</th>      <th>z</th>      <th>P>|z|</th>  <th>[0.025</th>    <th>0.975]</th>  \n",
       "</tr>\n",
       "<tr>\n",
       "  <th>ar.L1</th>  <td>    0.2397</td> <td>    0.699</td> <td>    0.343</td> <td> 0.731</td> <td>   -1.129</td> <td>    1.609</td>\n",
       "</tr>\n",
       "<tr>\n",
       "  <th>ma.L1</th>  <td>   -0.2713</td> <td>    0.690</td> <td>   -0.393</td> <td> 0.694</td> <td>   -1.623</td> <td>    1.080</td>\n",
       "</tr>\n",
       "<tr>\n",
       "  <th>sigma2</th> <td>  493.6767</td> <td>   11.690</td> <td>   42.231</td> <td> 0.000</td> <td>  470.765</td> <td>  516.588</td>\n",
       "</tr>\n",
       "</table>\n",
       "<table class=\"simpletable\">\n",
       "<tr>\n",
       "  <th>Ljung-Box (L1) (Q):</th>     <td>0.00</td>  <th>  Jarque-Bera (JB):  </th> <td>2111.30</td>\n",
       "</tr>\n",
       "<tr>\n",
       "  <th>Prob(Q):</th>                <td>0.98</td>  <th>  Prob(JB):          </th>  <td>0.00</td>  \n",
       "</tr>\n",
       "<tr>\n",
       "  <th>Heteroskedasticity (H):</th> <td>31.69</td> <th>  Skew:              </th>  <td>0.09</td>  \n",
       "</tr>\n",
       "<tr>\n",
       "  <th>Prob(H) (two-sided):</th>    <td>0.00</td>  <th>  Kurtosis:          </th>  <td>11.52</td> \n",
       "</tr>\n",
       "</table><br/><br/>Warnings:<br/>[1] Covariance matrix calculated using the outer product of gradients (complex-step)."
      ],
      "text/plain": [
       "<class 'statsmodels.iolib.summary.Summary'>\n",
       "\"\"\"\n",
       "                               SARIMAX Results                                \n",
       "==============================================================================\n",
       "Dep. Variable:                      y   No. Observations:                  698\n",
       "Model:                 ARIMA(1, 1, 1)   Log Likelihood               -3150.350\n",
       "Date:                Mon, 07 Aug 2023   AIC                           6306.700\n",
       "Time:                        07:46:31   BIC                           6320.340\n",
       "Sample:                             0   HQIC                          6311.974\n",
       "                                - 698                                         \n",
       "Covariance Type:                  opg                                         \n",
       "==============================================================================\n",
       "                 coef    std err          z      P>|z|      [0.025      0.975]\n",
       "------------------------------------------------------------------------------\n",
       "ar.L1          0.2397      0.699      0.343      0.731      -1.129       1.609\n",
       "ma.L1         -0.2713      0.690     -0.393      0.694      -1.623       1.080\n",
       "sigma2       493.6767     11.690     42.231      0.000     470.765     516.588\n",
       "===================================================================================\n",
       "Ljung-Box (L1) (Q):                   0.00   Jarque-Bera (JB):              2111.30\n",
       "Prob(Q):                              0.98   Prob(JB):                         0.00\n",
       "Heteroskedasticity (H):              31.69   Skew:                             0.09\n",
       "Prob(H) (two-sided):                  0.00   Kurtosis:                        11.52\n",
       "===================================================================================\n",
       "\n",
       "Warnings:\n",
       "[1] Covariance matrix calculated using the outer product of gradients (complex-step).\n",
       "\"\"\""
      ]
     },
     "execution_count": 71,
     "metadata": {},
     "output_type": "execute_result"
    }
   ],
   "source": [
    "model.summary()"
   ]
  },
  {
   "cell_type": "code",
   "execution_count": 72,
   "id": "c6ab3d07-4690-4a02-90f6-107d5e17e97c",
   "metadata": {},
   "outputs": [
    {
     "data": {
      "text/plain": [
       "array([800.20438321])"
      ]
     },
     "execution_count": 72,
     "metadata": {},
     "output_type": "execute_result"
    }
   ],
   "source": [
    "model.forecast()"
   ]
  },
  {
   "cell_type": "code",
   "execution_count": 26,
   "id": "75bf269b-ea78-40b8-8862-a8b4cee0567d",
   "metadata": {},
   "outputs": [
    {
     "data": {
      "text/plain": [
       "809.8699951171875"
      ]
     },
     "execution_count": 26,
     "metadata": {},
     "output_type": "execute_result"
    }
   ],
   "source": [
    "test_data[0]"
   ]
  },
  {
   "cell_type": "code",
   "execution_count": 27,
   "id": "ded82cbb-7e02-4303-8bd7-3970c156557e",
   "metadata": {},
   "outputs": [
    {
     "data": {
      "text/plain": [
       "93.42405358558581"
      ]
     },
     "execution_count": 27,
     "metadata": {},
     "output_type": "execute_result"
    }
   ],
   "source": [
    "mean_squared_error([test_data[0]],model.forecast())"
   ]
  },
  {
   "cell_type": "code",
   "execution_count": 28,
   "id": "b4cc0955-b251-4215-8cf0-47bd6ef2a81b",
   "metadata": {},
   "outputs": [],
   "source": [
    "import numpy as np"
   ]
  },
  {
   "cell_type": "code",
   "execution_count": 29,
   "id": "0e74f9eb-9337-491b-b778-8ca8f125ac8f",
   "metadata": {},
   "outputs": [
    {
     "data": {
      "text/plain": [
       "9.665611909526774"
      ]
     },
     "execution_count": 29,
     "metadata": {},
     "output_type": "execute_result"
    }
   ],
   "source": [
    "np.sqrt(mean_squared_error([test_data[0]],model.forecast()))"
   ]
  },
  {
   "cell_type": "code",
   "execution_count": 30,
   "id": "5fd8b7e1-50f4-44ae-b00f-57c10f8099d0",
   "metadata": {},
   "outputs": [],
   "source": [
    "p_value=range(0,3)\n",
    "d_value=range(0,3)\n",
    "q_value=range(0,3)"
   ]
  },
  {
   "cell_type": "code",
   "execution_count": 31,
   "id": "2bb9854d-0e5a-462f-a9ab-2722a7ccea59",
   "metadata": {},
   "outputs": [
    {
     "name": "stdout",
     "output_type": "stream",
     "text": [
      "0 0 0\n",
      "0 0 1\n",
      "0 0 2\n",
      "0 1 0\n",
      "0 1 1\n",
      "0 1 2\n",
      "0 2 0\n",
      "0 2 1\n",
      "0 2 2\n",
      "1 0 0\n",
      "1 0 1\n",
      "1 0 2\n",
      "1 1 0\n",
      "1 1 1\n",
      "1 1 2\n",
      "1 2 0\n",
      "1 2 1\n",
      "1 2 2\n",
      "2 0 0\n",
      "2 0 1\n",
      "2 0 2\n",
      "2 1 0\n",
      "2 1 1\n",
      "2 1 2\n",
      "2 2 0\n",
      "2 2 1\n",
      "2 2 2\n"
     ]
    }
   ],
   "source": [
    "for i in p_value:\n",
    "    for j in d_value:\n",
    "        for k in q_value:\n",
    "            print(i,j,k)"
   ]
  },
  {
   "cell_type": "code",
   "execution_count": 84,
   "id": "a948a787-a444-44c6-ad9e-6da8e656dd92",
   "metadata": {},
   "outputs": [],
   "source": [
    "def train_arima_model(X,y,arima_order):\n",
    "    history=[x for x in X]\n",
    "    predication=list()\n",
    "    for t in range(len(y)):\n",
    "        model=ARIMA(history,order=arima_order)\n",
    "        model_fit=model.fit()\n",
    "        forcast=model_fit.forecast()[0]\n",
    "        predication.append(forcast)\n",
    "        history.append(y[t])\n",
    "    rmse = np.sqrt(mean_squared_error(y,predication))\n",
    "    return rmse"
   ]
  },
  {
   "cell_type": "code",
   "execution_count": 85,
   "id": "54efd32c-392f-4c86-9a3d-778d694a9e57",
   "metadata": {},
   "outputs": [],
   "source": [
    "def evalute_model (dataset,test,p_values,d_values,q_values):\n",
    "    dataset=dataset.astype(\"float32\")\n",
    "    best_score,best_cfg=float(\"inf\"),None\n",
    "    for p in p_values:\n",
    "        for d in d_values:\n",
    "            for q in q_values:\n",
    "                order= (p,d,q)\n",
    "                try:\n",
    "                    rmse=train_arima_model(dataset,test,order)\n",
    "                    if rmse < best_score:\n",
    "                        best_score , best_cfg = rmse , order\n",
    "                    print(\"ARIMA%s  RMSE=%.3f\" %(order,rmse))\n",
    "                except:\n",
    "                    continue\n",
    "    print(\"Best ARIMA%s  RMSE%.3f\" %(best_cfg,best_score))"
   ]
  },
  {
   "cell_type": "code",
   "execution_count": 86,
   "id": "110af545-15ff-4c14-b357-23e982b0800d",
   "metadata": {},
   "outputs": [
    {
     "name": "stdout",
     "output_type": "stream",
     "text": [
      "ARIMA(0, 0, 0)  RMSE=457.414\n",
      "ARIMA(0, 0, 1)  RMSE=241.164\n",
      "ARIMA(0, 0, 2)  RMSE=165.491\n",
      "ARIMA(0, 1, 0)  RMSE=39.516\n",
      "ARIMA(0, 1, 1)  RMSE=39.482\n",
      "ARIMA(0, 1, 2)  RMSE=39.617\n",
      "ARIMA(0, 2, 0)  RMSE=57.835\n",
      "ARIMA(0, 2, 1)  RMSE=39.611\n",
      "ARIMA(0, 2, 2)  RMSE=39.580\n",
      "ARIMA(1, 0, 0)  RMSE=39.477\n",
      "ARIMA(1, 0, 1)  RMSE=39.449\n",
      "ARIMA(1, 0, 2)  RMSE=39.584\n",
      "ARIMA(1, 1, 0)  RMSE=39.475\n",
      "ARIMA(1, 1, 1)  RMSE=39.555\n",
      "ARIMA(1, 1, 2)  RMSE=39.935\n",
      "ARIMA(1, 2, 0)  RMSE=46.184\n",
      "ARIMA(1, 2, 1)  RMSE=39.573\n",
      "ARIMA(1, 2, 2)  RMSE=39.731\n",
      "ARIMA(2, 0, 0)  RMSE=39.440\n",
      "ARIMA(2, 0, 1)  RMSE=39.494\n",
      "ARIMA(2, 0, 2)  RMSE=39.596\n",
      "ARIMA(2, 1, 0)  RMSE=39.635\n",
      "ARIMA(2, 1, 1)  RMSE=39.759\n",
      "ARIMA(2, 1, 2)  RMSE=39.611\n",
      "ARIMA(2, 2, 0)  RMSE=45.781\n",
      "ARIMA(2, 2, 1)  RMSE=39.739\n",
      "ARIMA(2, 2, 2)  RMSE=39.731\n",
      "Best ARIMA(2, 0, 0)  RMSE39.440\n"
     ]
    }
   ],
   "source": [
    "import warnings\n",
    "warnings.filterwarnings('ignore')\n",
    "p_values=range(0,3)\n",
    "d_values=range(0,3)\n",
    "q_values=range(0,3)\n",
    "evalute_model(train_data,test_data,p_values,d_values,q_values)"
   ]
  },
  {
   "cell_type": "code",
   "execution_count": 90,
   "id": "e7bb1382-e000-4d37-b603-110006a001f2",
   "metadata": {},
   "outputs": [
    {
     "name": "stdout",
     "output_type": "stream",
     "text": [
      "RMSE is 39.43992944070974\n"
     ]
    }
   ],
   "source": [
    "history= [x for x in train_data]\n",
    "prediction = list()\n",
    "for i in range(len(test_data)):\n",
    "    model=ARIMA(history,order=(2,0,0))\n",
    "    model=model.fit()\n",
    "    fc=model.forecast()\n",
    "    prediction.append(fc)\n",
    "    history.append(test_data[i])\n",
    "print(f\"RMSE is {np.sqrt(mean_squared_error(test_data,prediction))}\")"
   ]
  },
  {
   "cell_type": "code",
   "execution_count": 92,
   "id": "3e81df6f-0f6a-4dc6-9692-649bb1e768b1",
   "metadata": {},
   "outputs": [
    {
     "data": {
      "image/png": "[encoded data removed]",
      "text/plain": [
       "<Figure size 1800x800 with 1 Axes>"
      ]
     },
     "metadata": {},
     "output_type": "display_data"
    }
   ],
   "source": [
    "plt.figure(figsize=(18,8))\n",
    "plt.grid(True)\n",
    "plt.plot(range(len(test_data)),test_data, label = 'True Test Close Value', linewidth = 5)\n",
    "plt.plot(range(len(prediction)), prediction, label = 'Predictions on test data', linewidth = 5)\n",
    "plt.xticks(fontsize = 15)\n",
    "plt.xticks(fontsize = 15)\n",
    "plt.legend(fontsize = 20, shadow=True,facecolor='lightpink',edgecolor = 'k')\n",
    "plt.show()"
   ]
  },
  {
   "cell_type": "code",
   "execution_count": 94,
   "id": "8690a4b7-1983-4a13-a70e-3097b188127f",
   "metadata": {},
   "outputs": [],
   "source": [
    "fc_series = pd.Series(prediction, index=test_data.index)\n"
   ]
  },
  {
   "cell_type": "code",
   "execution_count": 95,
   "id": "bf1605d5-b236-452f-96cb-cd326699035d",
   "metadata": {},
   "outputs": [
    {
     "data": {
      "image/png": "[encoded data removed]",
      "text/plain": [
       "<Figure size 1200x500 with 1 Axes>"
      ]
     },
     "metadata": {},
     "output_type": "display_data"
    }
   ],
   "source": [
    "# Plot\n",
    "plt.figure(figsize=(12,5), dpi=100)\n",
    "plt.plot(train_data, label='Training', color = 'blue')\n",
    "plt.plot(test_data, label='Test', color = 'green', linewidth = 3)\n",
    "plt.plot(fc_series, label='Forecast', color = 'red')\n",
    "plt.title('Forecast vs Actuals on test data')\n",
    "plt.legend(loc='upper left', fontsize=8)\n",
    "plt.show()"
   ]
  },
  {
   "cell_type": "code",
   "execution_count": 100,
   "id": "3e83e9f6-6570-47cb-80c6-7d50e80b73bb",
   "metadata": {},
   "outputs": [
    {
     "data": {
      "image/png": "[encoded data removed]",
      "text/plain": [
       "<Figure size 1800x800 with 1 Axes>"
      ]
     },
     "metadata": {},
     "output_type": "display_data"
    }
   ],
   "source": [
    "from statsmodels.graphics.tsaplots import plot_predict\n",
    "fig = plt.figure(figsize=(18,8))\n",
    "ax1 = fig.add_subplot(111)\n",
    "plot_predict(result=model,start=1, end=len(df_close)+60, ax = ax1)\n",
    "plt.grid(\"both\")\n",
    "plt.legend(['Forecast','Close','95% confidence interval'],fontsize = 20, shadow=True,facecolor='lightblue',edgecolor = 'k')\n",
    "plt.show()"
   ]
  },
  {
   "cell_type": "code",
   "execution_count": 101,
   "id": "7957c66e-3248-4f5f-b933-c60441aada38",
   "metadata": {},
   "outputs": [
    {
     "name": "stdout",
     "output_type": "stream",
     "text": [
      "RUNNING THE L-BFGS-B CODE\n",
      "\n",
      "           * * *\n",
      "\n",
      "Machine precision = 2.220D-16\n",
      " N =            3     M =           10\n",
      "\n",
      "At X0         0 variables are exactly at the bounds\n",
      "\n",
      "At iterate    0    f=  4.54877D+00    |proj g|=  1.28391D-01\n",
      "\n",
      "At iterate    5    f=  4.50570D+00    |proj g|=  4.34715D-03\n",
      "\n",
      "At iterate   10    f=  4.50258D+00    |proj g|=  2.85269D-03\n",
      "\n",
      "           * * *\n",
      "\n",
      "Tit   = total number of iterations\n",
      "Tnf   = total number of function evaluations\n",
      "Tnint = total number of segments explored during Cauchy searches\n",
      "Skip  = number of BFGS updates skipped\n",
      "Nact  = number of active bounds at final generalized Cauchy point\n",
      "Projg = norm of the final projected gradient\n",
      "F     = final function value\n",
      "\n",
      "           * * *\n",
      "\n",
      "   N    Tit     Tnf  Tnint  Skip  Nact     Projg        F\n",
      "    3     13     16      1     0     0   1.562D-07   4.503D+00\n",
      "  F =   4.5025716463553653     \n",
      "\n",
      "CONVERGENCE: NORM_OF_PROJECTED_GRADIENT_<=_PGTOL            \n"
     ]
    },
    {
     "name": "stderr",
     "output_type": "stream",
     "text": [
      " This problem is unconstrained.\n",
      " This problem is unconstrained.\n"
     ]
    },
    {
     "name": "stdout",
     "output_type": "stream",
     "text": [
      "RUNNING THE L-BFGS-B CODE\n",
      "\n",
      "           * * *\n",
      "\n",
      "Machine precision = 2.220D-16\n",
      " N =            3     M =           10\n",
      "\n",
      "At X0         0 variables are exactly at the bounds\n",
      "\n",
      "At iterate    0    f=  4.54882D+00    |proj g|=  1.28118D-01\n",
      "\n",
      "At iterate    5    f=  4.50527D+00    |proj g|=  4.39793D-03\n",
      "\n",
      "At iterate   10    f=  4.50205D+00    |proj g|=  2.51830D-03\n",
      "\n",
      "           * * *\n",
      "\n",
      "Tit   = total number of iterations\n",
      "Tnf   = total number of function evaluations\n",
      "Tnint = total number of segments explored during Cauchy searches\n",
      "Skip  = number of BFGS updates skipped\n",
      "Nact  = number of active bounds at final generalized Cauchy point\n",
      "Projg = norm of the final projected gradient\n",
      "F     = final function value\n",
      "\n",
      "           * * *\n",
      "\n",
      "   N    Tit     Tnf  Tnint  Skip  Nact     Projg        F\n",
      "    3     13     16      1     0     0   1.109D-07   4.502D+00\n",
      "  F =   4.5020489742112790     \n",
      "\n",
      "CONVERGENCE: NORM_OF_PROJECTED_GRADIENT_<=_PGTOL            \n",
      "RUNNING THE L-BFGS-B CODE\n",
      "\n",
      "           * * *\n",
      "\n",
      "Machine precision = 2.220D-16\n",
      " N =            3     M =           10\n",
      "\n",
      "At X0         0 variables are exactly at the bounds\n",
      "\n",
      "At iterate    0    f=  4.55346D+00    |proj g|=  1.33379D-01\n",
      "\n",
      "At iterate    5    f=  4.51216D+00    |proj g|=  5.52048D-03\n",
      "\n",
      "At iterate   10    f=  4.50852D+00    |proj g|=  3.64793D-05\n"
     ]
    },
    {
     "name": "stderr",
     "output_type": "stream",
     "text": [
      " This problem is unconstrained.\n"
     ]
    },
    {
     "name": "stdout",
     "output_type": "stream",
     "text": [
      "\n",
      "At iterate   15    f=  4.50852D+00    |proj g|=  2.24141D-06\n",
      "\n",
      "           * * *\n",
      "\n",
      "Tit   = total number of iterations\n",
      "Tnf   = total number of function evaluations\n",
      "Tnint = total number of segments explored during Cauchy searches\n",
      "Skip  = number of BFGS updates skipped\n",
      "Nact  = number of active bounds at final generalized Cauchy point\n",
      "Projg = norm of the final projected gradient\n",
      "F     = final function value\n",
      "\n",
      "           * * *\n",
      "\n",
      "   N    Tit     Tnf  Tnint  Skip  Nact     Projg        F\n",
      "    3     15     18      1     0     0   2.241D-06   4.509D+00\n",
      "  F =   4.5085188013975417     \n",
      "\n",
      "CONVERGENCE: NORM_OF_PROJECTED_GRADIENT_<=_PGTOL            \n",
      "RUNNING THE L-BFGS-B CODE\n",
      "\n",
      "           * * *\n",
      "\n",
      "Machine precision = 2.220D-16\n",
      " N =            3     M =           10\n",
      "\n",
      "At X0         0 variables are exactly at the bounds\n",
      "\n",
      "At iterate    0    f=  4.55355D+00    |proj g|=  1.32252D-01\n",
      "\n",
      "At iterate    5    f=  4.51133D+00    |proj g|=  4.16884D-03\n",
      "\n",
      "At iterate   10    f=  4.50809D+00    |proj g|=  3.24202D-04\n"
     ]
    },
    {
     "name": "stderr",
     "output_type": "stream",
     "text": [
      " This problem is unconstrained.\n"
     ]
    },
    {
     "name": "stdout",
     "output_type": "stream",
     "text": [
      "\n",
      "At iterate   15    f=  4.50809D+00    |proj g|=  2.03289D-05\n",
      "\n",
      "           * * *\n",
      "\n",
      "Tit   = total number of iterations\n",
      "Tnf   = total number of function evaluations\n",
      "Tnint = total number of segments explored during Cauchy searches\n",
      "Skip  = number of BFGS updates skipped\n",
      "Nact  = number of active bounds at final generalized Cauchy point\n",
      "Projg = norm of the final projected gradient\n",
      "F     = final function value\n",
      "\n",
      "           * * *\n",
      "\n",
      "   N    Tit     Tnf  Tnint  Skip  Nact     Projg        F\n",
      "    3     16     20      1     0     0   1.190D-06   4.508D+00\n",
      "  F =   4.5080914011783646     \n",
      "\n",
      "CONVERGENCE: NORM_OF_PROJECTED_GRADIENT_<=_PGTOL            \n",
      "RUNNING THE L-BFGS-B CODE\n",
      "\n",
      "           * * *\n",
      "\n",
      "Machine precision = 2.220D-16\n",
      " N =            3     M =           10\n",
      "\n",
      "At X0         0 variables are exactly at the bounds\n",
      "\n",
      "At iterate    0    f=  4.55311D+00    |proj g|=  1.34021D-01\n",
      "\n",
      "At iterate    5    f=  4.51151D+00    |proj g|=  5.42936D-03\n"
     ]
    },
    {
     "name": "stderr",
     "output_type": "stream",
     "text": [
      " This problem is unconstrained.\n"
     ]
    },
    {
     "name": "stdout",
     "output_type": "stream",
     "text": [
      "\n",
      "At iterate   10    f=  4.50774D+00    |proj g|=  9.32982D-05\n",
      "\n",
      "           * * *\n",
      "\n",
      "Tit   = total number of iterations\n",
      "Tnf   = total number of function evaluations\n",
      "Tnint = total number of segments explored during Cauchy searches\n",
      "Skip  = number of BFGS updates skipped\n",
      "Nact  = number of active bounds at final generalized Cauchy point\n",
      "Projg = norm of the final projected gradient\n",
      "F     = final function value\n",
      "\n",
      "           * * *\n",
      "\n",
      "   N    Tit     Tnf  Tnint  Skip  Nact     Projg        F\n",
      "    3     14     18      1     0     0   3.976D-06   4.508D+00\n",
      "  F =   4.5077433173694921     \n",
      "\n",
      "CONVERGENCE: NORM_OF_PROJECTED_GRADIENT_<=_PGTOL            \n",
      "RUNNING THE L-BFGS-B CODE\n",
      "\n",
      "           * * *\n",
      "\n",
      "Machine precision = 2.220D-16\n",
      " N =            3     M =           10\n",
      "\n",
      "At X0         0 variables are exactly at the bounds\n",
      "\n",
      "At iterate    0    f=  4.55395D+00    |proj g|=  1.33865D-01\n",
      "\n",
      "At iterate    5    f=  4.51156D+00    |proj g|=  4.01947D-03\n"
     ]
    },
    {
     "name": "stderr",
     "output_type": "stream",
     "text": [
      " This problem is unconstrained.\n"
     ]
    },
    {
     "name": "stdout",
     "output_type": "stream",
     "text": [
      "\n",
      "At iterate   10    f=  4.50873D+00    |proj g|=  7.26801D-04\n",
      "\n",
      "           * * *\n",
      "\n",
      "Tit   = total number of iterations\n",
      "Tnf   = total number of function evaluations\n",
      "Tnint = total number of segments explored during Cauchy searches\n",
      "Skip  = number of BFGS updates skipped\n",
      "Nact  = number of active bounds at final generalized Cauchy point\n",
      "Projg = norm of the final projected gradient\n",
      "F     = final function value\n",
      "\n",
      "           * * *\n",
      "\n",
      "   N    Tit     Tnf  Tnint  Skip  Nact     Projg        F\n",
      "    3     14     17      1     0     0   8.142D-06   4.509D+00\n",
      "  F =   4.5087239563798258     \n",
      "\n",
      "CONVERGENCE: NORM_OF_PROJECTED_GRADIENT_<=_PGTOL            \n",
      "RUNNING THE L-BFGS-B CODE\n",
      "\n",
      "           * * *\n",
      "\n",
      "Machine precision = 2.220D-16\n",
      " N =            3     M =           10\n",
      "\n",
      "At X0         0 variables are exactly at the bounds\n",
      "\n",
      "At iterate    0    f=  4.55334D+00    |proj g|=  1.34287D-01\n",
      "\n",
      "At iterate    5    f=  4.51103D+00    |proj g|=  4.04212D-03\n"
     ]
    },
    {
     "name": "stderr",
     "output_type": "stream",
     "text": [
      " This problem is unconstrained.\n"
     ]
    },
    {
     "name": "stdout",
     "output_type": "stream",
     "text": [
      "\n",
      "At iterate   10    f=  4.50814D+00    |proj g|=  5.23825D-04\n",
      "\n",
      "At iterate   15    f=  4.50814D+00    |proj g|=  3.37064D-07\n",
      "\n",
      "           * * *\n",
      "\n",
      "Tit   = total number of iterations\n",
      "Tnf   = total number of function evaluations\n",
      "Tnint = total number of segments explored during Cauchy searches\n",
      "Skip  = number of BFGS updates skipped\n",
      "Nact  = number of active bounds at final generalized Cauchy point\n",
      "Projg = norm of the final projected gradient\n",
      "F     = final function value\n",
      "\n",
      "           * * *\n",
      "\n",
      "   N    Tit     Tnf  Tnint  Skip  Nact     Projg        F\n",
      "    3     15     18      1     0     0   3.371D-07   4.508D+00\n",
      "  F =   4.5081366000151339     \n",
      "\n",
      "CONVERGENCE: NORM_OF_PROJECTED_GRADIENT_<=_PGTOL            \n",
      "RUNNING THE L-BFGS-B CODE\n",
      "\n",
      "           * * *\n",
      "\n",
      "Machine precision = 2.220D-16\n",
      " N =            3     M =           10\n",
      "\n",
      "At X0         0 variables are exactly at the bounds\n",
      "\n",
      "At iterate    0    f=  4.55259D+00    |proj g|=  1.35960D-01\n",
      "\n",
      "At iterate    5    f=  4.51212D+00    |proj g|=  4.47910D-03\n"
     ]
    },
    {
     "name": "stderr",
     "output_type": "stream",
     "text": [
      " This problem is unconstrained.\n"
     ]
    },
    {
     "name": "stdout",
     "output_type": "stream",
     "text": [
      "\n",
      "At iterate   10    f=  4.50908D+00    |proj g|=  2.03333D-03\n",
      "\n",
      "           * * *\n",
      "\n",
      "Tit   = total number of iterations\n",
      "Tnf   = total number of function evaluations\n",
      "Tnint = total number of segments explored during Cauchy searches\n",
      "Skip  = number of BFGS updates skipped\n",
      "Nact  = number of active bounds at final generalized Cauchy point\n",
      "Projg = norm of the final projected gradient\n",
      "F     = final function value\n",
      "\n",
      "           * * *\n",
      "\n",
      "   N    Tit     Tnf  Tnint  Skip  Nact     Projg        F\n",
      "    3     14     17      1     0     0   9.021D-07   4.509D+00\n",
      "  F =   4.5090720614400137     \n",
      "\n",
      "CONVERGENCE: NORM_OF_PROJECTED_GRADIENT_<=_PGTOL            \n",
      "RUNNING THE L-BFGS-B CODE\n",
      "\n",
      "           * * *\n",
      "\n",
      "Machine precision = 2.220D-16\n",
      " N =            3     M =           10\n",
      "\n",
      "At X0         0 variables are exactly at the bounds\n",
      "\n",
      "At iterate    0    f=  4.55527D+00    |proj g|=  1.30647D-01\n",
      "\n",
      "At iterate    5    f=  4.51281D+00    |proj g|=  4.22952D-03\n"
     ]
    },
    {
     "name": "stderr",
     "output_type": "stream",
     "text": [
      " This problem is unconstrained.\n"
     ]
    },
    {
     "name": "stdout",
     "output_type": "stream",
     "text": [
      "\n",
      "At iterate   10    f=  4.50948D+00    |proj g|=  2.45747D-04\n",
      "\n",
      "           * * *\n",
      "\n",
      "Tit   = total number of iterations\n",
      "Tnf   = total number of function evaluations\n",
      "Tnint = total number of segments explored during Cauchy searches\n",
      "Skip  = number of BFGS updates skipped\n",
      "Nact  = number of active bounds at final generalized Cauchy point\n",
      "Projg = norm of the final projected gradient\n",
      "F     = final function value\n",
      "\n",
      "           * * *\n",
      "\n",
      "   N    Tit     Tnf  Tnint  Skip  Nact     Projg        F\n",
      "    3     12     16      1     0     0   9.337D-05   4.509D+00\n",
      "  F =   4.5094806479288687     \n",
      "\n",
      "CONVERGENCE: REL_REDUCTION_OF_F_<=_FACTR*EPSMCH             \n",
      "RUNNING THE L-BFGS-B CODE\n",
      "\n",
      "           * * *\n",
      "\n",
      "Machine precision = 2.220D-16\n",
      " N =            3     M =           10\n",
      "\n",
      "At X0         0 variables are exactly at the bounds\n",
      "\n",
      "At iterate    0    f=  4.55614D+00    |proj g|=  1.30388D-01\n",
      "\n",
      "At iterate    5    f=  4.51334D+00    |proj g|=  4.37436D-03\n"
     ]
    },
    {
     "name": "stderr",
     "output_type": "stream",
     "text": [
      " This problem is unconstrained.\n"
     ]
    },
    {
     "name": "stdout",
     "output_type": "stream",
     "text": [
      "\n",
      "At iterate   10    f=  4.50988D+00    |proj g|=  1.74625D-04\n",
      "\n",
      "           * * *\n",
      "\n",
      "Tit   = total number of iterations\n",
      "Tnf   = total number of function evaluations\n",
      "Tnint = total number of segments explored during Cauchy searches\n",
      "Skip  = number of BFGS updates skipped\n",
      "Nact  = number of active bounds at final generalized Cauchy point\n",
      "Projg = norm of the final projected gradient\n",
      "F     = final function value\n",
      "\n",
      "           * * *\n",
      "\n",
      "   N    Tit     Tnf  Tnint  Skip  Nact     Projg        F\n",
      "    3     14     18      1     0     0   1.040D-06   4.510D+00\n",
      "  F =   4.5098794550337340     \n",
      "\n",
      "CONVERGENCE: NORM_OF_PROJECTED_GRADIENT_<=_PGTOL            \n",
      "RUNNING THE L-BFGS-B CODE\n",
      "\n",
      "           * * *\n",
      "\n",
      "Machine precision = 2.220D-16\n",
      " N =            3     M =           10\n",
      "\n",
      "At X0         0 variables are exactly at the bounds\n",
      "\n",
      "At iterate    0    f=  4.55589D+00    |proj g|=  1.30603D-01\n"
     ]
    },
    {
     "name": "stderr",
     "output_type": "stream",
     "text": [
      " This problem is unconstrained.\n"
     ]
    },
    {
     "name": "stdout",
     "output_type": "stream",
     "text": [
      "\n",
      "At iterate    5    f=  4.51315D+00    |proj g|=  4.34890D-03\n",
      "\n",
      "At iterate   10    f=  4.50976D+00    |proj g|=  4.10944D-04\n",
      "\n",
      "           * * *\n",
      "\n",
      "Tit   = total number of iterations\n",
      "Tnf   = total number of function evaluations\n",
      "Tnint = total number of segments explored during Cauchy searches\n",
      "Skip  = number of BFGS updates skipped\n",
      "Nact  = number of active bounds at final generalized Cauchy point\n",
      "Projg = norm of the final projected gradient\n",
      "F     = final function value\n",
      "\n",
      "           * * *\n",
      "\n",
      "   N    Tit     Tnf  Tnint  Skip  Nact     Projg        F\n",
      "    3     14     18      1     0     0   2.271D-06   4.510D+00\n",
      "  F =   4.5097574025382858     \n",
      "\n",
      "CONVERGENCE: NORM_OF_PROJECTED_GRADIENT_<=_PGTOL            \n",
      "RUNNING THE L-BFGS-B CODE\n",
      "\n",
      "           * * *\n",
      "\n",
      "Machine precision = 2.220D-16\n",
      " N =            3     M =           10\n",
      "\n",
      "At X0         0 variables are exactly at the bounds\n",
      "\n",
      "At iterate    0    f=  4.55697D+00    |proj g|=  1.29826D-01\n",
      "\n",
      "At iterate    5    f=  4.51461D+00    |proj g|=  4.68003D-03\n",
      "\n",
      "At iterate   10    f=  4.51080D+00    |proj g|=  1.85089D-05\n"
     ]
    },
    {
     "name": "stderr",
     "output_type": "stream",
     "text": [
      " This problem is unconstrained.\n"
     ]
    },
    {
     "name": "stdout",
     "output_type": "stream",
     "text": [
      "\n",
      "           * * *\n",
      "\n",
      "Tit   = total number of iterations\n",
      "Tnf   = total number of function evaluations\n",
      "Tnint = total number of segments explored during Cauchy searches\n",
      "Skip  = number of BFGS updates skipped\n",
      "Nact  = number of active bounds at final generalized Cauchy point\n",
      "Projg = norm of the final projected gradient\n",
      "F     = final function value\n",
      "\n",
      "           * * *\n",
      "\n",
      "   N    Tit     Tnf  Tnint  Skip  Nact     Projg        F\n",
      "    3     11     15      1     0     0   1.221D-06   4.511D+00\n",
      "  F =   4.5108046618659223     \n",
      "\n",
      "CONVERGENCE: NORM_OF_PROJECTED_GRADIENT_<=_PGTOL            \n",
      "RUNNING THE L-BFGS-B CODE\n",
      "\n",
      "           * * *\n",
      "\n",
      "Machine precision = 2.220D-16\n",
      " N =            3     M =           10\n",
      "\n",
      "At X0         0 variables are exactly at the bounds\n",
      "\n",
      "At iterate    0    f=  4.55921D+00    |proj g|=  1.28063D-01\n",
      "\n",
      "At iterate    5    f=  4.51673D+00    |proj g|=  5.33567D-03\n"
     ]
    },
    {
     "name": "stderr",
     "output_type": "stream",
     "text": [
      " This problem is unconstrained.\n"
     ]
    },
    {
     "name": "stdout",
     "output_type": "stream",
     "text": [
      "\n",
      "At iterate   10    f=  4.51202D+00    |proj g|=  9.16283D-05\n",
      "\n",
      "           * * *\n",
      "\n",
      "Tit   = total number of iterations\n",
      "Tnf   = total number of function evaluations\n",
      "Tnint = total number of segments explored during Cauchy searches\n",
      "Skip  = number of BFGS updates skipped\n",
      "Nact  = number of active bounds at final generalized Cauchy point\n",
      "Projg = norm of the final projected gradient\n",
      "F     = final function value\n",
      "\n",
      "           * * *\n",
      "\n",
      "   N    Tit     Tnf  Tnint  Skip  Nact     Projg        F\n",
      "    3     12     16      1     0     0   7.247D-06   4.512D+00\n",
      "  F =   4.5120221821728634     \n",
      "\n",
      "CONVERGENCE: NORM_OF_PROJECTED_GRADIENT_<=_PGTOL            \n",
      "RUNNING THE L-BFGS-B CODE\n",
      "\n",
      "           * * *\n",
      "\n",
      "Machine precision = 2.220D-16\n",
      " N =            3     M =           10\n",
      "\n",
      "At X0         0 variables are exactly at the bounds\n",
      "\n",
      "At iterate    0    f=  4.56065D+00    |proj g|=  1.29249D-01\n"
     ]
    },
    {
     "name": "stderr",
     "output_type": "stream",
     "text": [
      " This problem is unconstrained.\n"
     ]
    },
    {
     "name": "stdout",
     "output_type": "stream",
     "text": [
      "\n",
      "At iterate    5    f=  4.51770D+00    |proj g|=  5.29024D-03\n",
      "\n",
      "At iterate   10    f=  4.51325D+00    |proj g|=  2.65321D-04\n",
      "\n",
      "           * * *\n",
      "\n",
      "Tit   = total number of iterations\n",
      "Tnf   = total number of function evaluations\n",
      "Tnint = total number of segments explored during Cauchy searches\n",
      "Skip  = number of BFGS updates skipped\n",
      "Nact  = number of active bounds at final generalized Cauchy point\n",
      "Projg = norm of the final projected gradient\n",
      "F     = final function value\n",
      "\n",
      "           * * *\n",
      "\n",
      "   N    Tit     Tnf  Tnint  Skip  Nact     Projg        F\n",
      "    3     12     16      1     0     0   1.824D-07   4.513D+00\n",
      "  F =   4.5132487955874350     \n",
      "\n",
      "CONVERGENCE: NORM_OF_PROJECTED_GRADIENT_<=_PGTOL            \n",
      "RUNNING THE L-BFGS-B CODE\n",
      "\n",
      "           * * *\n",
      "\n",
      "Machine precision = 2.220D-16\n",
      " N =            3     M =           10\n",
      "\n",
      "At X0         0 variables are exactly at the bounds\n",
      "\n",
      "At iterate    0    f=  4.56311D+00    |proj g|=  1.28951D-01\n"
     ]
    },
    {
     "name": "stderr",
     "output_type": "stream",
     "text": [
      " This problem is unconstrained.\n"
     ]
    },
    {
     "name": "stdout",
     "output_type": "stream",
     "text": [
      "\n",
      "At iterate    5    f=  4.52040D+00    |proj g|=  6.23529D-03\n",
      "\n",
      "At iterate   10    f=  4.51550D+00    |proj g|=  1.52810D-04\n",
      "\n",
      "At iterate   15    f=  4.51550D+00    |proj g|=  4.86606D-06\n",
      "\n",
      "           * * *\n",
      "\n",
      "Tit   = total number of iterations\n",
      "Tnf   = total number of function evaluations\n",
      "Tnint = total number of segments explored during Cauchy searches\n",
      "Skip  = number of BFGS updates skipped\n",
      "Nact  = number of active bounds at final generalized Cauchy point\n",
      "Projg = norm of the final projected gradient\n",
      "F     = final function value\n",
      "\n",
      "           * * *\n",
      "\n",
      "   N    Tit     Tnf  Tnint  Skip  Nact     Projg        F\n",
      "    3     15     18      1     0     0   4.866D-06   4.515D+00\n",
      "  F =   4.5154992768752829     \n",
      "\n",
      "CONVERGENCE: NORM_OF_PROJECTED_GRADIENT_<=_PGTOL            \n",
      "RUNNING THE L-BFGS-B CODE\n",
      "\n",
      "           * * *\n",
      "\n",
      "Machine precision = 2.220D-16\n",
      " N =            3     M =           10\n",
      "\n",
      "At X0         0 variables are exactly at the bounds\n",
      "\n",
      "At iterate    0    f=  4.56407D+00    |proj g|=  1.27192D-01\n"
     ]
    },
    {
     "name": "stderr",
     "output_type": "stream",
     "text": [
      " This problem is unconstrained.\n"
     ]
    },
    {
     "name": "stdout",
     "output_type": "stream",
     "text": [
      "\n",
      "At iterate    5    f=  4.52116D+00    |proj g|=  6.27610D-03\n",
      "\n",
      "At iterate   10    f=  4.51565D+00    |proj g|=  1.63525D-03\n",
      "\n",
      "At iterate   15    f=  4.51565D+00    |proj g|=  4.91926D-06\n",
      "\n",
      "           * * *\n",
      "\n",
      "Tit   = total number of iterations\n",
      "Tnf   = total number of function evaluations\n",
      "Tnint = total number of segments explored during Cauchy searches\n",
      "Skip  = number of BFGS updates skipped\n",
      "Nact  = number of active bounds at final generalized Cauchy point\n",
      "Projg = norm of the final projected gradient\n",
      "F     = final function value\n",
      "\n",
      "           * * *\n",
      "\n",
      "   N    Tit     Tnf  Tnint  Skip  Nact     Projg        F\n",
      "    3     15     19      1     0     0   4.919D-06   4.516D+00\n",
      "  F =   4.5156499392660212     \n",
      "\n",
      "CONVERGENCE: NORM_OF_PROJECTED_GRADIENT_<=_PGTOL            \n",
      "RUNNING THE L-BFGS-B CODE\n",
      "\n",
      "           * * *\n",
      "\n",
      "Machine precision = 2.220D-16\n",
      " N =            3     M =           10\n",
      "\n",
      "At X0         0 variables are exactly at the bounds\n",
      "\n",
      "At iterate    0    f=  4.56459D+00    |proj g|=  1.27738D-01\n",
      "\n",
      "At iterate    5    f=  4.52158D+00    |proj g|=  6.56898D-03\n",
      "\n",
      "           * * *\n",
      "\n",
      "Tit   = total number of iterations\n",
      "Tnf   = total number of function evaluations\n",
      "Tnint = total number of segments explored during Cauchy searches\n",
      "Skip  = number of BFGS updates skipped\n",
      "Nact  = number of active bounds at final generalized Cauchy point\n",
      "Projg = norm of the final projected gradient\n",
      "F     = final function value\n",
      "\n",
      "           * * *\n",
      "\n",
      "   N    Tit     Tnf  Tnint  Skip  Nact     Projg        F\n",
      "    3      9     12      1     0     0   5.992D-06   4.517D+00\n",
      "  F =   4.5166080472790338     \n",
      "\n",
      "CONVERGENCE: NORM_OF_PROJECTED_GRADIENT_<=_PGTOL            \n",
      "RUNNING THE L-BFGS-B CODE\n",
      "\n",
      "           * * *\n",
      "\n",
      "Machine precision = 2.220D-16\n",
      " N =            3     M =           10\n",
      "\n",
      "At X0         0 variables are exactly at the bounds\n",
      "\n",
      "At iterate    0    f=  4.56410D+00    |proj g|=  1.28801D-01\n"
     ]
    },
    {
     "name": "stderr",
     "output_type": "stream",
     "text": [
      " This problem is unconstrained.\n",
      " This problem is unconstrained.\n"
     ]
    },
    {
     "name": "stdout",
     "output_type": "stream",
     "text": [
      "\n",
      "At iterate    5    f=  4.52113D+00    |proj g|=  6.80782D-03\n",
      "\n",
      "At iterate   10    f=  4.51661D+00    |proj g|=  3.58646D-04\n",
      "\n",
      "           * * *\n",
      "\n",
      "Tit   = total number of iterations\n",
      "Tnf   = total number of function evaluations\n",
      "Tnint = total number of segments explored during Cauchy searches\n",
      "Skip  = number of BFGS updates skipped\n",
      "Nact  = number of active bounds at final generalized Cauchy point\n",
      "Projg = norm of the final projected gradient\n",
      "F     = final function value\n",
      "\n",
      "           * * *\n",
      "\n",
      "   N    Tit     Tnf  Tnint  Skip  Nact     Projg        F\n",
      "    3     13     17      1     0     0   2.026D-06   4.517D+00\n",
      "  F =   4.5166074823871751     \n",
      "\n",
      "CONVERGENCE: NORM_OF_PROJECTED_GRADIENT_<=_PGTOL            \n",
      "RUNNING THE L-BFGS-B CODE\n",
      "\n",
      "           * * *\n",
      "\n",
      "Machine precision = 2.220D-16\n",
      " N =            3     M =           10\n",
      "\n",
      "At X0         0 variables are exactly at the bounds\n",
      "\n",
      "At iterate    0    f=  4.56702D+00    |proj g|=  1.30411D-01\n"
     ]
    },
    {
     "name": "stderr",
     "output_type": "stream",
     "text": [
      " This problem is unconstrained.\n"
     ]
    },
    {
     "name": "stdout",
     "output_type": "stream",
     "text": [
      "\n",
      "At iterate    5    f=  4.52469D+00    |proj g|=  3.80401D-03\n",
      "\n",
      "At iterate   10    f=  4.52190D+00    |proj g|=  6.18252D-04\n",
      "\n",
      "           * * *\n",
      "\n",
      "Tit   = total number of iterations\n",
      "Tnf   = total number of function evaluations\n",
      "Tnint = total number of segments explored during Cauchy searches\n",
      "Skip  = number of BFGS updates skipped\n",
      "Nact  = number of active bounds at final generalized Cauchy point\n",
      "Projg = norm of the final projected gradient\n",
      "F     = final function value\n",
      "\n",
      "           * * *\n",
      "\n",
      "   N    Tit     Tnf  Tnint  Skip  Nact     Projg        F\n",
      "    3     14     17      1     0     0   1.250D-05   4.522D+00\n",
      "  F =   4.5218943483798686     \n",
      "\n",
      "CONVERGENCE: REL_REDUCTION_OF_F_<=_FACTR*EPSMCH             \n",
      "RUNNING THE L-BFGS-B CODE\n",
      "\n",
      "           * * *\n",
      "\n",
      "Machine precision = 2.220D-16\n",
      " N =            3     M =           10\n",
      "\n",
      "At X0         0 variables are exactly at the bounds\n",
      "\n",
      "At iterate    0    f=  4.56668D+00    |proj g|=  1.30274D-01\n"
     ]
    },
    {
     "name": "stderr",
     "output_type": "stream",
     "text": [
      " This problem is unconstrained.\n"
     ]
    },
    {
     "name": "stdout",
     "output_type": "stream",
     "text": [
      "\n",
      "At iterate    5    f=  4.52420D+00    |proj g|=  3.89304D-03\n",
      "\n",
      "At iterate   10    f=  4.52125D+00    |proj g|=  6.27641D-04\n",
      "\n",
      "           * * *\n",
      "\n",
      "Tit   = total number of iterations\n",
      "Tnf   = total number of function evaluations\n",
      "Tnint = total number of segments explored during Cauchy searches\n",
      "Skip  = number of BFGS updates skipped\n",
      "Nact  = number of active bounds at final generalized Cauchy point\n",
      "Projg = norm of the final projected gradient\n",
      "F     = final function value\n",
      "\n",
      "           * * *\n",
      "\n",
      "   N    Tit     Tnf  Tnint  Skip  Nact     Projg        F\n",
      "    3     14     17      1     0     0   4.217D-06   4.521D+00\n",
      "  F =   4.5212502528052809     \n",
      "\n",
      "CONVERGENCE: NORM_OF_PROJECTED_GRADIENT_<=_PGTOL            \n",
      "RUNNING THE L-BFGS-B CODE\n",
      "\n",
      "           * * *\n",
      "\n",
      "Machine precision = 2.220D-16\n",
      " N =            3     M =           10\n",
      "\n",
      "At X0         0 variables are exactly at the bounds\n",
      "\n",
      "At iterate    0    f=  4.56665D+00    |proj g|=  1.29221D-01\n",
      "\n",
      "At iterate    5    f=  4.52432D+00    |proj g|=  4.24693D-03\n",
      "\n",
      "At iterate   10    f=  4.52115D+00    |proj g|=  2.28217D-05\n",
      "\n",
      "           * * *\n",
      "\n",
      "Tit   = total number of iterations\n",
      "Tnf   = total number of function evaluations\n",
      "Tnint = total number of segments explored during Cauchy searches\n",
      "Skip  = number of BFGS updates skipped\n",
      "Nact  = number of active bounds at final generalized Cauchy point\n",
      "Projg = norm of the final projected gradient\n",
      "F     = final function value\n",
      "\n",
      "           * * *\n",
      "\n",
      "   N    Tit     Tnf  Tnint  Skip  Nact     Projg        F\n",
      "    3     11     15      1     0     0   5.016D-06   4.521D+00\n",
      "  F =   4.5211494084839021     \n",
      "\n",
      "CONVERGENCE: NORM_OF_PROJECTED_GRADIENT_<=_PGTOL            \n"
     ]
    },
    {
     "name": "stderr",
     "output_type": "stream",
     "text": [
      " This problem is unconstrained.\n",
      " This problem is unconstrained.\n"
     ]
    },
    {
     "name": "stdout",
     "output_type": "stream",
     "text": [
      "RUNNING THE L-BFGS-B CODE\n",
      "\n",
      "           * * *\n",
      "\n",
      "Machine precision = 2.220D-16\n",
      " N =            3     M =           10\n",
      "\n",
      "At X0         0 variables are exactly at the bounds\n",
      "\n",
      "At iterate    0    f=  4.56595D+00    |proj g|=  1.30420D-01\n",
      "\n",
      "At iterate    5    f=  4.52382D+00    |proj g|=  4.18942D-03\n",
      "\n",
      "At iterate   10    f=  4.52066D+00    |proj g|=  2.42163D-05\n",
      "\n",
      "           * * *\n",
      "\n",
      "Tit   = total number of iterations\n",
      "Tnf   = total number of function evaluations\n",
      "Tnint = total number of segments explored during Cauchy searches\n",
      "Skip  = number of BFGS updates skipped\n",
      "Nact  = number of active bounds at final generalized Cauchy point\n",
      "Projg = norm of the final projected gradient\n",
      "F     = final function value\n",
      "\n",
      "           * * *\n",
      "\n",
      "   N    Tit     Tnf  Tnint  Skip  Nact     Projg        F\n",
      "    3     11     15      1     0     0   4.217D-06   4.521D+00\n",
      "  F =   4.5206645304857718     \n",
      "\n",
      "CONVERGENCE: NORM_OF_PROJECTED_GRADIENT_<=_PGTOL            \n"
     ]
    },
    {
     "name": "stderr",
     "output_type": "stream",
     "text": [
      " This problem is unconstrained.\n"
     ]
    },
    {
     "name": "stdout",
     "output_type": "stream",
     "text": [
      "RUNNING THE L-BFGS-B CODE\n",
      "\n",
      "           * * *\n",
      "\n",
      "Machine precision = 2.220D-16\n",
      " N =            3     M =           10\n",
      "\n",
      "At X0         0 variables are exactly at the bounds\n",
      "\n",
      "At iterate    0    f=  4.57254D+00    |proj g|=  1.25603D-01\n",
      "\n",
      "At iterate    5    f=  4.53224D+00    |proj g|=  6.91830D-03\n",
      "\n",
      "At iterate   10    f=  4.52862D+00    |proj g|=  1.92429D-05\n",
      "\n",
      "           * * *\n",
      "\n",
      "Tit   = total number of iterations\n",
      "Tnf   = total number of function evaluations\n",
      "Tnint = total number of segments explored during Cauchy searches\n",
      "Skip  = number of BFGS updates skipped\n",
      "Nact  = number of active bounds at final generalized Cauchy point\n",
      "Projg = norm of the final projected gradient\n",
      "F     = final function value\n",
      "\n",
      "           * * *\n",
      "\n",
      "   N    Tit     Tnf  Tnint  Skip  Nact     Projg        F\n",
      "    3     12     17      1     0     0   2.020D-06   4.529D+00\n",
      "  F =   4.5286196338554188     \n",
      "\n",
      "CONVERGENCE: NORM_OF_PROJECTED_GRADIENT_<=_PGTOL            \n",
      "RUNNING THE L-BFGS-B CODE\n",
      "\n",
      "           * * *\n",
      "\n",
      "Machine precision = 2.220D-16\n",
      " N =            3     M =           10\n",
      "\n",
      "At X0         0 variables are exactly at the bounds\n",
      "\n",
      "At iterate    0    f=  4.57170D+00    |proj g|=  1.25812D-01\n",
      "\n",
      "At iterate    5    f=  4.53165D+00    |proj g|=  6.89813D-03\n"
     ]
    },
    {
     "name": "stderr",
     "output_type": "stream",
     "text": [
      " This problem is unconstrained.\n"
     ]
    },
    {
     "name": "stdout",
     "output_type": "stream",
     "text": [
      "\n",
      "At iterate   10    f=  4.52815D+00    |proj g|=  6.27374D-05\n",
      "\n",
      "           * * *\n",
      "\n",
      "Tit   = total number of iterations\n",
      "Tnf   = total number of function evaluations\n",
      "Tnint = total number of segments explored during Cauchy searches\n",
      "Skip  = number of BFGS updates skipped\n",
      "Nact  = number of active bounds at final generalized Cauchy point\n",
      "Projg = norm of the final projected gradient\n",
      "F     = final function value\n",
      "\n",
      "           * * *\n",
      "\n",
      "   N    Tit     Tnf  Tnint  Skip  Nact     Projg        F\n",
      "    3     12     16      1     0     0   3.643D-05   4.528D+00\n",
      "  F =   4.5281529732561143     \n",
      "\n",
      "CONVERGENCE: REL_REDUCTION_OF_F_<=_FACTR*EPSMCH             \n",
      "RUNNING THE L-BFGS-B CODE\n",
      "\n",
      "           * * *\n",
      "\n",
      "Machine precision = 2.220D-16\n",
      " N =            3     M =           10\n",
      "\n",
      "At X0         0 variables are exactly at the bounds\n",
      "\n",
      "At iterate    0    f=  4.57112D+00    |proj g|=  1.27987D-01\n",
      "\n",
      "At iterate    5    f=  4.53075D+00    |proj g|=  4.63733D-03\n"
     ]
    },
    {
     "name": "stderr",
     "output_type": "stream",
     "text": [
      " This problem is unconstrained.\n"
     ]
    },
    {
     "name": "stdout",
     "output_type": "stream",
     "text": [
      "\n",
      "At iterate   10    f=  4.52772D+00    |proj g|=  2.63931D-04\n",
      "\n",
      "           * * *\n",
      "\n",
      "Tit   = total number of iterations\n",
      "Tnf   = total number of function evaluations\n",
      "Tnint = total number of segments explored during Cauchy searches\n",
      "Skip  = number of BFGS updates skipped\n",
      "Nact  = number of active bounds at final generalized Cauchy point\n",
      "Projg = norm of the final projected gradient\n",
      "F     = final function value\n",
      "\n",
      "           * * *\n",
      "\n",
      "   N    Tit     Tnf  Tnint  Skip  Nact     Projg        F\n",
      "    3     14     18      1     0     0   3.994D-06   4.528D+00\n",
      "  F =   4.5277146970814188     \n",
      "\n",
      "CONVERGENCE: NORM_OF_PROJECTED_GRADIENT_<=_PGTOL            \n",
      "RUNNING THE L-BFGS-B CODE\n",
      "\n",
      "           * * *\n",
      "\n",
      "Machine precision = 2.220D-16\n",
      " N =            3     M =           10\n",
      "\n",
      "At X0         0 variables are exactly at the bounds\n",
      "\n",
      "At iterate    0    f=  4.57170D+00    |proj g|=  1.26954D-01\n"
     ]
    },
    {
     "name": "stderr",
     "output_type": "stream",
     "text": [
      " This problem is unconstrained.\n"
     ]
    },
    {
     "name": "stdout",
     "output_type": "stream",
     "text": [
      "\n",
      "At iterate    5    f=  4.53118D+00    |proj g|=  6.93699D-03\n",
      "\n",
      "At iterate   10    f=  4.52755D+00    |proj g|=  6.51608D-05\n",
      "\n",
      "           * * *\n",
      "\n",
      "Tit   = total number of iterations\n",
      "Tnf   = total number of function evaluations\n",
      "Tnint = total number of segments explored during Cauchy searches\n",
      "Skip  = number of BFGS updates skipped\n",
      "Nact  = number of active bounds at final generalized Cauchy point\n",
      "Projg = norm of the final projected gradient\n",
      "F     = final function value\n",
      "\n",
      "           * * *\n",
      "\n",
      "   N    Tit     Tnf  Tnint  Skip  Nact     Projg        F\n",
      "    3     12     17      1     0     0   8.259D-05   4.528D+00\n",
      "  F =   4.5275457806216268     \n",
      "\n",
      "CONVERGENCE: REL_REDUCTION_OF_F_<=_FACTR*EPSMCH             \n",
      "RUNNING THE L-BFGS-B CODE\n",
      "\n",
      "           * * *\n",
      "\n",
      "Machine precision = 2.220D-16\n",
      " N =            3     M =           10\n",
      "\n",
      "At X0         0 variables are exactly at the bounds\n",
      "\n",
      "At iterate    0    f=  4.57132D+00    |proj g|=  1.26926D-01\n"
     ]
    },
    {
     "name": "stderr",
     "output_type": "stream",
     "text": [
      " This problem is unconstrained.\n"
     ]
    },
    {
     "name": "stdout",
     "output_type": "stream",
     "text": [
      "\n",
      "At iterate    5    f=  4.53082D+00    |proj g|=  7.37764D-03\n",
      "\n",
      "At iterate   10    f=  4.52704D+00    |proj g|=  8.24450D-05\n",
      "\n",
      "           * * *\n",
      "\n",
      "Tit   = total number of iterations\n",
      "Tnf   = total number of function evaluations\n",
      "Tnint = total number of segments explored during Cauchy searches\n",
      "Skip  = number of BFGS updates skipped\n",
      "Nact  = number of active bounds at final generalized Cauchy point\n",
      "Projg = norm of the final projected gradient\n",
      "F     = final function value\n",
      "\n",
      "           * * *\n",
      "\n",
      "   N    Tit     Tnf  Tnint  Skip  Nact     Projg        F\n",
      "    3     13     17      1     0     0   8.003D-06   4.527D+00\n",
      "  F =   4.5270386634993818     \n",
      "\n",
      "CONVERGENCE: NORM_OF_PROJECTED_GRADIENT_<=_PGTOL            \n",
      "RUNNING THE L-BFGS-B CODE\n",
      "\n",
      "           * * *\n",
      "\n",
      "Machine precision = 2.220D-16\n",
      " N =            3     M =           10\n",
      "\n",
      "At X0         0 variables are exactly at the bounds\n",
      "\n",
      "At iterate    0    f=  4.57286D+00    |proj g|=  1.27804D-01\n"
     ]
    },
    {
     "name": "stderr",
     "output_type": "stream",
     "text": [
      " This problem is unconstrained.\n"
     ]
    },
    {
     "name": "stdout",
     "output_type": "stream",
     "text": [
      "\n",
      "At iterate    5    f=  4.53334D+00    |proj g|=  6.85456D-03\n",
      "\n",
      "At iterate   10    f=  4.53014D+00    |proj g|=  7.19851D-06\n",
      "\n",
      "           * * *\n",
      "\n",
      "Tit   = total number of iterations\n",
      "Tnf   = total number of function evaluations\n",
      "Tnint = total number of segments explored during Cauchy searches\n",
      "Skip  = number of BFGS updates skipped\n",
      "Nact  = number of active bounds at final generalized Cauchy point\n",
      "Projg = norm of the final projected gradient\n",
      "F     = final function value\n",
      "\n",
      "           * * *\n",
      "\n",
      "   N    Tit     Tnf  Tnint  Skip  Nact     Projg        F\n",
      "    3     10     14      1     0     0   7.199D-06   4.530D+00\n",
      "  F =   4.5301410405745317     \n",
      "\n",
      "CONVERGENCE: NORM_OF_PROJECTED_GRADIENT_<=_PGTOL            \n",
      "RUNNING THE L-BFGS-B CODE\n",
      "\n",
      "           * * *\n",
      "\n",
      "Machine precision = 2.220D-16\n",
      " N =            3     M =           10\n",
      "\n",
      "At X0         0 variables are exactly at the bounds\n",
      "\n",
      "At iterate    0    f=  4.57792D+00    |proj g|=  1.32761D-01\n"
     ]
    },
    {
     "name": "stderr",
     "output_type": "stream",
     "text": [
      " This problem is unconstrained.\n"
     ]
    },
    {
     "name": "stdout",
     "output_type": "stream",
     "text": [
      "\n",
      "At iterate    5    f=  4.53677D+00    |proj g|=  3.85251D-03\n",
      "\n",
      "At iterate   10    f=  4.53373D+00    |proj g|=  5.87719D-04\n",
      "\n",
      "At iterate   15    f=  4.53372D+00    |proj g|=  1.80025D-06\n",
      "\n",
      "           * * *\n",
      "\n",
      "Tit   = total number of iterations\n",
      "Tnf   = total number of function evaluations\n",
      "Tnint = total number of segments explored during Cauchy searches\n",
      "Skip  = number of BFGS updates skipped\n",
      "Nact  = number of active bounds at final generalized Cauchy point\n",
      "Projg = norm of the final projected gradient\n",
      "F     = final function value\n",
      "\n",
      "           * * *\n",
      "\n",
      "   N    Tit     Tnf  Tnint  Skip  Nact     Projg        F\n",
      "    3     15     18      1     0     0   1.800D-06   4.534D+00\n",
      "  F =   4.5337236171221296     \n",
      "\n",
      "CONVERGENCE: NORM_OF_PROJECTED_GRADIENT_<=_PGTOL            \n",
      "RUNNING THE L-BFGS-B CODE\n",
      "\n",
      "           * * *\n",
      "\n",
      "Machine precision = 2.220D-16\n",
      " N =            3     M =           10\n",
      "\n",
      "At X0         0 variables are exactly at the bounds\n",
      "\n",
      "At iterate    0    f=  4.57959D+00    |proj g|=  1.33124D-01\n"
     ]
    },
    {
     "name": "stderr",
     "output_type": "stream",
     "text": [
      " This problem is unconstrained.\n"
     ]
    },
    {
     "name": "stdout",
     "output_type": "stream",
     "text": [
      "\n",
      "At iterate    5    f=  4.53836D+00    |proj g|=  3.97879D-03\n",
      "\n",
      "At iterate   10    f=  4.53527D+00    |proj g|=  2.02217D-04\n",
      "\n",
      "At iterate   15    f=  4.53527D+00    |proj g|=  3.51612D-06\n",
      "\n",
      "           * * *\n",
      "\n",
      "Tit   = total number of iterations\n",
      "Tnf   = total number of function evaluations\n",
      "Tnint = total number of segments explored during Cauchy searches\n",
      "Skip  = number of BFGS updates skipped\n",
      "Nact  = number of active bounds at final generalized Cauchy point\n",
      "Projg = norm of the final projected gradient\n",
      "F     = final function value\n",
      "\n",
      "           * * *\n",
      "\n",
      "   N    Tit     Tnf  Tnint  Skip  Nact     Projg        F\n",
      "    3     15     18      1     0     0   3.516D-06   4.535D+00\n",
      "  F =   4.5352720327916307     \n",
      "\n",
      "CONVERGENCE: NORM_OF_PROJECTED_GRADIENT_<=_PGTOL            \n"
     ]
    },
    {
     "name": "stderr",
     "output_type": "stream",
     "text": [
      " This problem is unconstrained.\n",
      " This problem is unconstrained.\n"
     ]
    },
    {
     "name": "stdout",
     "output_type": "stream",
     "text": [
      "RUNNING THE L-BFGS-B CODE\n",
      "\n",
      "           * * *\n",
      "\n",
      "Machine precision = 2.220D-16\n",
      " N =            3     M =           10\n",
      "\n",
      "At X0         0 variables are exactly at the bounds\n",
      "\n",
      "At iterate    0    f=  4.57929D+00    |proj g|=  1.31800D-01\n",
      "\n",
      "At iterate    5    f=  4.53749D+00    |proj g|=  3.82918D-03\n",
      "\n",
      "           * * *\n",
      "\n",
      "Tit   = total number of iterations\n",
      "Tnf   = total number of function evaluations\n",
      "Tnint = total number of segments explored during Cauchy searches\n",
      "Skip  = number of BFGS updates skipped\n",
      "Nact  = number of active bounds at final generalized Cauchy point\n",
      "Projg = norm of the final projected gradient\n",
      "F     = final function value\n",
      "\n",
      "           * * *\n",
      "\n",
      "   N    Tit     Tnf  Tnint  Skip  Nact     Projg        F\n",
      "    3      9     12      1     0     0   2.356D-07   4.535D+00\n",
      "  F =   4.5346178670679604     \n",
      "\n",
      "CONVERGENCE: NORM_OF_PROJECTED_GRADIENT_<=_PGTOL            \n",
      "RUNNING THE L-BFGS-B CODE\n",
      "\n",
      "           * * *\n",
      "\n",
      "Machine precision = 2.220D-16\n",
      " N =            3     M =           10\n",
      "\n",
      "At X0         0 variables are exactly at the bounds\n",
      "\n",
      "At iterate    0    f=  4.58089D+00    |proj g|=  1.30548D-01\n",
      "\n",
      "At iterate    5    f=  4.53841D+00    |proj g|=  3.90758D-03\n",
      "\n",
      "At iterate   10    f=  4.53538D+00    |proj g|=  3.34566D-05\n",
      "\n",
      "           * * *\n",
      "\n",
      "Tit   = total number of iterations\n",
      "Tnf   = total number of function evaluations\n",
      "Tnint = total number of segments explored during Cauchy searches\n",
      "Skip  = number of BFGS updates skipped\n",
      "Nact  = number of active bounds at final generalized Cauchy point\n",
      "Projg = norm of the final projected gradient\n",
      "F     = final function value\n",
      "\n",
      "           * * *\n",
      "\n",
      "   N    Tit     Tnf  Tnint  Skip  Nact     Projg        F\n",
      "    3     12     16      1     0     0   3.212D-05   4.535D+00\n",
      "  F =   4.5353751043021662     \n",
      "\n",
      "CONVERGENCE: REL_REDUCTION_OF_F_<=_FACTR*EPSMCH             \n",
      "RUNNING THE L-BFGS-B CODE\n",
      "\n",
      "           * * *\n",
      "\n",
      "Machine precision = 2.220D-16\n",
      " N =            3     M =           10\n",
      "\n",
      "At X0         0 variables are exactly at the bounds\n",
      "\n",
      "At iterate    0    f=  4.58276D+00    |proj g|=  1.30166D-01\n"
     ]
    },
    {
     "name": "stderr",
     "output_type": "stream",
     "text": [
      " This problem is unconstrained.\n"
     ]
    },
    {
     "name": "stdout",
     "output_type": "stream",
     "text": [
      "\n",
      "At iterate    5    f=  4.54047D+00    |proj g|=  4.11469D-03\n",
      "\n",
      "At iterate   10    f=  4.53721D+00    |proj g|=  1.05478D-03\n",
      "\n",
      "           * * *\n",
      "\n",
      "Tit   = total number of iterations\n",
      "Tnf   = total number of function evaluations\n",
      "Tnint = total number of segments explored during Cauchy searches\n",
      "Skip  = number of BFGS updates skipped\n",
      "Nact  = number of active bounds at final generalized Cauchy point\n",
      "Projg = norm of the final projected gradient\n",
      "F     = final function value\n",
      "\n",
      "           * * *\n",
      "\n",
      "   N    Tit     Tnf  Tnint  Skip  Nact     Projg        F\n",
      "    3     12     15      1     0     0   1.648D-07   4.537D+00\n",
      "  F =   4.5372100804701256     \n",
      "\n",
      "CONVERGENCE: NORM_OF_PROJECTED_GRADIENT_<=_PGTOL            \n",
      "RUNNING THE L-BFGS-B CODE\n",
      "\n",
      "           * * *\n",
      "\n",
      "Machine precision = 2.220D-16\n",
      " N =            3     M =           10\n",
      "\n",
      "At X0         0 variables are exactly at the bounds\n",
      "\n",
      "At iterate    0    f=  4.58201D+00    |proj g|=  1.30312D-01\n"
     ]
    },
    {
     "name": "stderr",
     "output_type": "stream",
     "text": [
      " This problem is unconstrained.\n"
     ]
    },
    {
     "name": "stdout",
     "output_type": "stream",
     "text": [
      "\n",
      "At iterate    5    f=  4.53988D+00    |proj g|=  4.16192D-03\n",
      "\n",
      "At iterate   10    f=  4.53655D+00    |proj g|=  9.02152D-04\n",
      "\n",
      "           * * *\n",
      "\n",
      "Tit   = total number of iterations\n",
      "Tnf   = total number of function evaluations\n",
      "Tnint = total number of segments explored during Cauchy searches\n",
      "Skip  = number of BFGS updates skipped\n",
      "Nact  = number of active bounds at final generalized Cauchy point\n",
      "Projg = norm of the final projected gradient\n",
      "F     = final function value\n",
      "\n",
      "           * * *\n",
      "\n",
      "   N    Tit     Tnf  Tnint  Skip  Nact     Projg        F\n",
      "    3     12     15      1     0     0   6.139D-07   4.537D+00\n",
      "  F =   4.5365535336402019     \n",
      "\n",
      "CONVERGENCE: NORM_OF_PROJECTED_GRADIENT_<=_PGTOL            \n",
      "RUNNING THE L-BFGS-B CODE\n",
      "\n",
      "           * * *\n",
      "\n",
      "Machine precision = 2.220D-16\n",
      " N =            3     M =           10\n",
      "\n",
      "At X0         0 variables are exactly at the bounds\n",
      "\n",
      "At iterate    0    f=  4.58200D+00    |proj g|=  1.34323D-01\n"
     ]
    },
    {
     "name": "stderr",
     "output_type": "stream",
     "text": [
      " This problem is unconstrained.\n"
     ]
    },
    {
     "name": "stdout",
     "output_type": "stream",
     "text": [
      "\n",
      "At iterate    5    f=  4.54187D+00    |proj g|=  5.59969D-03\n",
      "\n",
      "At iterate   10    f=  4.53751D+00    |proj g|=  2.20652D-04\n",
      "\n",
      "           * * *\n",
      "\n",
      "Tit   = total number of iterations\n",
      "Tnf   = total number of function evaluations\n",
      "Tnint = total number of segments explored during Cauchy searches\n",
      "Skip  = number of BFGS updates skipped\n",
      "Nact  = number of active bounds at final generalized Cauchy point\n",
      "Projg = norm of the final projected gradient\n",
      "F     = final function value\n",
      "\n",
      "           * * *\n",
      "\n",
      "   N    Tit     Tnf  Tnint  Skip  Nact     Projg        F\n",
      "    3     11     14      1     0     0   6.169D-06   4.538D+00\n",
      "  F =   4.5375060708534338     \n",
      "\n",
      "CONVERGENCE: NORM_OF_PROJECTED_GRADIENT_<=_PGTOL            \n",
      "RUNNING THE L-BFGS-B CODE\n",
      "\n",
      "           * * *\n",
      "\n",
      "Machine precision = 2.220D-16\n",
      " N =            3     M =           10\n",
      "\n",
      "At X0         0 variables are exactly at the bounds\n",
      "\n",
      "At iterate    0    f=  4.58287D+00    |proj g|=  1.32072D-01\n"
     ]
    },
    {
     "name": "stderr",
     "output_type": "stream",
     "text": [
      " This problem is unconstrained.\n"
     ]
    },
    {
     "name": "stdout",
     "output_type": "stream",
     "text": [
      "\n",
      "At iterate    5    f=  4.54174D+00    |proj g|=  6.38010D-03\n",
      "\n",
      "At iterate   10    f=  4.53803D+00    |proj g|=  1.21393D-03\n",
      "\n",
      "           * * *\n",
      "\n",
      "Tit   = total number of iterations\n",
      "Tnf   = total number of function evaluations\n",
      "Tnint = total number of segments explored during Cauchy searches\n",
      "Skip  = number of BFGS updates skipped\n",
      "Nact  = number of active bounds at final generalized Cauchy point\n",
      "Projg = norm of the final projected gradient\n",
      "F     = final function value\n",
      "\n",
      "           * * *\n",
      "\n",
      "   N    Tit     Tnf  Tnint  Skip  Nact     Projg        F\n",
      "    3     12     15      1     0     0   6.194D-06   4.538D+00\n",
      "  F =   4.5380275159251680     \n",
      "\n",
      "CONVERGENCE: NORM_OF_PROJECTED_GRADIENT_<=_PGTOL            \n",
      "RUNNING THE L-BFGS-B CODE\n",
      "\n",
      "           * * *\n",
      "\n",
      "Machine precision = 2.220D-16\n",
      " N =            3     M =           10\n",
      "\n",
      "At X0         0 variables are exactly at the bounds\n",
      "\n",
      "At iterate    0    f=  4.58223D+00    |proj g|=  1.32207D-01\n"
     ]
    },
    {
     "name": "stderr",
     "output_type": "stream",
     "text": [
      " This problem is unconstrained.\n"
     ]
    },
    {
     "name": "stdout",
     "output_type": "stream",
     "text": [
      "\n",
      "At iterate    5    f=  4.54118D+00    |proj g|=  6.42611D-03\n",
      "\n",
      "At iterate   10    f=  4.53748D+00    |proj g|=  1.12324D-03\n",
      "\n",
      "           * * *\n",
      "\n",
      "Tit   = total number of iterations\n",
      "Tnf   = total number of function evaluations\n",
      "Tnint = total number of segments explored during Cauchy searches\n",
      "Skip  = number of BFGS updates skipped\n",
      "Nact  = number of active bounds at final generalized Cauchy point\n",
      "Projg = norm of the final projected gradient\n",
      "F     = final function value\n",
      "\n",
      "           * * *\n",
      "\n",
      "   N    Tit     Tnf  Tnint  Skip  Nact     Projg        F\n",
      "    3     12     15      1     0     0   7.068D-06   4.537D+00\n",
      "  F =   4.5374803833409407     \n",
      "\n",
      "CONVERGENCE: NORM_OF_PROJECTED_GRADIENT_<=_PGTOL            \n",
      "RUNNING THE L-BFGS-B CODE\n",
      "\n",
      "           * * *\n",
      "\n",
      "Machine precision = 2.220D-16\n",
      " N =            3     M =           10\n",
      "\n",
      "At X0         0 variables are exactly at the bounds\n",
      "\n",
      "At iterate    0    f=  4.58265D+00    |proj g|=  1.34993D-01\n"
     ]
    },
    {
     "name": "stderr",
     "output_type": "stream",
     "text": [
      " This problem is unconstrained.\n"
     ]
    },
    {
     "name": "stdout",
     "output_type": "stream",
     "text": [
      "\n",
      "At iterate    5    f=  4.54215D+00    |proj g|=  5.12415D-03\n",
      "\n",
      "At iterate   10    f=  4.53749D+00    |proj g|=  1.22467D-03\n",
      "\n",
      "           * * *\n",
      "\n",
      "Tit   = total number of iterations\n",
      "Tnf   = total number of function evaluations\n",
      "Tnint = total number of segments explored during Cauchy searches\n",
      "Skip  = number of BFGS updates skipped\n",
      "Nact  = number of active bounds at final generalized Cauchy point\n",
      "Projg = norm of the final projected gradient\n",
      "F     = final function value\n",
      "\n",
      "           * * *\n",
      "\n",
      "   N    Tit     Tnf  Tnint  Skip  Nact     Projg        F\n",
      "    3     13     17      1     0     0   4.460D-06   4.537D+00\n",
      "  F =   4.5374836051234393     \n",
      "\n",
      "CONVERGENCE: NORM_OF_PROJECTED_GRADIENT_<=_PGTOL            \n",
      "RUNNING THE L-BFGS-B CODE\n",
      "\n",
      "           * * *\n",
      "\n",
      "Machine precision = 2.220D-16\n",
      " N =            3     M =           10\n",
      "\n",
      "At X0         0 variables are exactly at the bounds\n",
      "\n",
      "At iterate    0    f=  4.58328D+00    |proj g|=  1.33019D-01\n"
     ]
    },
    {
     "name": "stderr",
     "output_type": "stream",
     "text": [
      " This problem is unconstrained.\n"
     ]
    },
    {
     "name": "stdout",
     "output_type": "stream",
     "text": [
      "\n",
      "At iterate    5    f=  4.54345D+00    |proj g|=  5.87236D-03\n",
      "\n",
      "At iterate   10    f=  4.53915D+00    |proj g|=  2.76075D-03\n",
      "\n",
      "           * * *\n",
      "\n",
      "Tit   = total number of iterations\n",
      "Tnf   = total number of function evaluations\n",
      "Tnint = total number of segments explored during Cauchy searches\n",
      "Skip  = number of BFGS updates skipped\n",
      "Nact  = number of active bounds at final generalized Cauchy point\n",
      "Projg = norm of the final projected gradient\n",
      "F     = final function value\n",
      "\n",
      "           * * *\n",
      "\n",
      "   N    Tit     Tnf  Tnint  Skip  Nact     Projg        F\n",
      "    3     12     15      1     0     0   6.439D-06   4.539D+00\n",
      "  F =   4.5391413364953781     \n",
      "\n",
      "CONVERGENCE: NORM_OF_PROJECTED_GRADIENT_<=_PGTOL            \n",
      "RUNNING THE L-BFGS-B CODE\n",
      "\n",
      "           * * *\n",
      "\n",
      "Machine precision = 2.220D-16\n",
      " N =            3     M =           10\n",
      "\n",
      "At X0         0 variables are exactly at the bounds\n",
      "\n",
      "At iterate    0    f=  4.58276D+00    |proj g|=  1.33082D-01\n"
     ]
    },
    {
     "name": "stderr",
     "output_type": "stream",
     "text": [
      " This problem is unconstrained.\n"
     ]
    },
    {
     "name": "stdout",
     "output_type": "stream",
     "text": [
      "\n",
      "At iterate    5    f=  4.54339D+00    |proj g|=  5.37981D-03\n",
      "\n",
      "At iterate   10    f=  4.53904D+00    |proj g|=  1.63278D-03\n",
      "\n",
      "           * * *\n",
      "\n",
      "Tit   = total number of iterations\n",
      "Tnf   = total number of function evaluations\n",
      "Tnint = total number of segments explored during Cauchy searches\n",
      "Skip  = number of BFGS updates skipped\n",
      "Nact  = number of active bounds at final generalized Cauchy point\n",
      "Projg = norm of the final projected gradient\n",
      "F     = final function value\n",
      "\n",
      "           * * *\n",
      "\n",
      "   N    Tit     Tnf  Tnint  Skip  Nact     Projg        F\n",
      "    3     12     15      1     0     0   2.834D-06   4.539D+00\n",
      "  F =   4.5390366297751683     \n",
      "\n",
      "CONVERGENCE: NORM_OF_PROJECTED_GRADIENT_<=_PGTOL            \n",
      "RUNNING THE L-BFGS-B CODE\n",
      "\n",
      "           * * *\n",
      "\n",
      "Machine precision = 2.220D-16\n",
      " N =            3     M =           10\n",
      "\n",
      "At X0         0 variables are exactly at the bounds\n",
      "\n",
      "At iterate    0    f=  4.58257D+00    |proj g|=  1.33238D-01\n"
     ]
    },
    {
     "name": "stderr",
     "output_type": "stream",
     "text": [
      " This problem is unconstrained.\n"
     ]
    },
    {
     "name": "stdout",
     "output_type": "stream",
     "text": [
      "\n",
      "At iterate    5    f=  4.54243D+00    |proj g|=  6.37511D-03\n",
      "\n",
      "At iterate   10    f=  4.53843D+00    |proj g|=  2.37748D-03\n",
      "\n",
      "           * * *\n",
      "\n",
      "Tit   = total number of iterations\n",
      "Tnf   = total number of function evaluations\n",
      "Tnint = total number of segments explored during Cauchy searches\n",
      "Skip  = number of BFGS updates skipped\n",
      "Nact  = number of active bounds at final generalized Cauchy point\n",
      "Projg = norm of the final projected gradient\n",
      "F     = final function value\n",
      "\n",
      "           * * *\n",
      "\n",
      "   N    Tit     Tnf  Tnint  Skip  Nact     Projg        F\n",
      "    3     12     15      1     0     0   7.110D-06   4.538D+00\n",
      "  F =   4.5384251282499024     \n",
      "\n",
      "CONVERGENCE: NORM_OF_PROJECTED_GRADIENT_<=_PGTOL            \n",
      "RUNNING THE L-BFGS-B CODE\n",
      "\n",
      "           * * *\n",
      "\n",
      "Machine precision = 2.220D-16\n",
      " N =            3     M =           10\n",
      "\n",
      "At X0         0 variables are exactly at the bounds\n",
      "\n",
      "At iterate    0    f=  4.58286D+00    |proj g|=  1.33065D-01\n"
     ]
    },
    {
     "name": "stderr",
     "output_type": "stream",
     "text": [
      " This problem is unconstrained.\n"
     ]
    },
    {
     "name": "stdout",
     "output_type": "stream",
     "text": [
      "\n",
      "At iterate    5    f=  4.54157D+00    |proj g|=  6.15481D-03\n",
      "\n",
      "At iterate   10    f=  4.53779D+00    |proj g|=  1.30373D-03\n",
      "\n",
      "           * * *\n",
      "\n",
      "Tit   = total number of iterations\n",
      "Tnf   = total number of function evaluations\n",
      "Tnint = total number of segments explored during Cauchy searches\n",
      "Skip  = number of BFGS updates skipped\n",
      "Nact  = number of active bounds at final generalized Cauchy point\n",
      "Projg = norm of the final projected gradient\n",
      "F     = final function value\n",
      "\n",
      "           * * *\n",
      "\n",
      "   N    Tit     Tnf  Tnint  Skip  Nact     Projg        F\n",
      "    3     12     15      1     0     0   3.923D-06   4.538D+00\n",
      "  F =   4.5377868337687950     \n",
      "\n",
      "CONVERGENCE: NORM_OF_PROJECTED_GRADIENT_<=_PGTOL            \n",
      "RUNNING THE L-BFGS-B CODE\n",
      "\n",
      "           * * *\n",
      "\n",
      "Machine precision = 2.220D-16\n",
      " N =            3     M =           10\n",
      "\n",
      "At X0         0 variables are exactly at the bounds\n",
      "\n",
      "At iterate    0    f=  4.60447D+00    |proj g|=  1.28290D-01\n"
     ]
    },
    {
     "name": "stderr",
     "output_type": "stream",
     "text": [
      " This problem is unconstrained.\n"
     ]
    },
    {
     "name": "stdout",
     "output_type": "stream",
     "text": [
      "\n",
      "At iterate    5    f=  4.56252D+00    |proj g|=  5.06699D-03\n",
      "\n",
      "At iterate   10    f=  4.55903D+00    |proj g|=  1.34881D-04\n",
      "\n",
      "           * * *\n",
      "\n",
      "Tit   = total number of iterations\n",
      "Tnf   = total number of function evaluations\n",
      "Tnint = total number of segments explored during Cauchy searches\n",
      "Skip  = number of BFGS updates skipped\n",
      "Nact  = number of active bounds at final generalized Cauchy point\n",
      "Projg = norm of the final projected gradient\n",
      "F     = final function value\n",
      "\n",
      "           * * *\n",
      "\n",
      "   N    Tit     Tnf  Tnint  Skip  Nact     Projg        F\n",
      "    3     12     15      1     0     0   8.431D-07   4.559D+00\n",
      "  F =   4.5590262250215039     \n",
      "\n",
      "CONVERGENCE: NORM_OF_PROJECTED_GRADIENT_<=_PGTOL            \n",
      "RUNNING THE L-BFGS-B CODE\n",
      "\n",
      "           * * *\n",
      "\n",
      "Machine precision = 2.220D-16\n",
      " N =            3     M =           10\n",
      "\n",
      "At X0         0 variables are exactly at the bounds\n",
      "\n",
      "At iterate    0    f=  4.60358D+00    |proj g|=  1.28758D-01\n"
     ]
    },
    {
     "name": "stderr",
     "output_type": "stream",
     "text": [
      " This problem is unconstrained.\n"
     ]
    },
    {
     "name": "stdout",
     "output_type": "stream",
     "text": [
      "\n",
      "At iterate    5    f=  4.56201D+00    |proj g|=  5.96045D-03\n",
      "\n",
      "At iterate   10    f=  4.55839D+00    |proj g|=  6.05124D-04\n",
      "\n",
      "           * * *\n",
      "\n",
      "Tit   = total number of iterations\n",
      "Tnf   = total number of function evaluations\n",
      "Tnint = total number of segments explored during Cauchy searches\n",
      "Skip  = number of BFGS updates skipped\n",
      "Nact  = number of active bounds at final generalized Cauchy point\n",
      "Projg = norm of the final projected gradient\n",
      "F     = final function value\n",
      "\n",
      "           * * *\n",
      "\n",
      "   N    Tit     Tnf  Tnint  Skip  Nact     Projg        F\n",
      "    3     13     16      1     0     0   2.606D-06   4.558D+00\n",
      "  F =   4.5583910320275125     \n",
      "\n",
      "CONVERGENCE: NORM_OF_PROJECTED_GRADIENT_<=_PGTOL            \n",
      "RUNNING THE L-BFGS-B CODE\n",
      "\n",
      "           * * *\n",
      "\n",
      "Machine precision = 2.220D-16\n",
      " N =            3     M =           10\n",
      "\n",
      "At X0         0 variables are exactly at the bounds\n",
      "\n",
      "At iterate    0    f=  4.60397D+00    |proj g|=  1.29430D-01\n"
     ]
    },
    {
     "name": "stderr",
     "output_type": "stream",
     "text": [
      " This problem is unconstrained.\n",
      " This problem is unconstrained.\n"
     ]
    },
    {
     "name": "stdout",
     "output_type": "stream",
     "text": [
      "\n",
      "At iterate    5    f=  4.56147D+00    |proj g|=  5.44465D-03\n",
      "\n",
      "At iterate   10    f=  4.55776D+00    |proj g|=  2.55953D-05\n",
      "\n",
      "           * * *\n",
      "\n",
      "Tit   = total number of iterations\n",
      "Tnf   = total number of function evaluations\n",
      "Tnint = total number of segments explored during Cauchy searches\n",
      "Skip  = number of BFGS updates skipped\n",
      "Nact  = number of active bounds at final generalized Cauchy point\n",
      "Projg = norm of the final projected gradient\n",
      "F     = final function value\n",
      "\n",
      "           * * *\n",
      "\n",
      "   N    Tit     Tnf  Tnint  Skip  Nact     Projg        F\n",
      "    3     10     13      1     0     0   2.560D-05   4.558D+00\n",
      "  F =   4.5577641190401872     \n",
      "\n",
      "CONVERGENCE: REL_REDUCTION_OF_F_<=_FACTR*EPSMCH             \n",
      "RUNNING THE L-BFGS-B CODE\n",
      "\n",
      "           * * *\n",
      "\n",
      "Machine precision = 2.220D-16\n",
      " N =            3     M =           10\n",
      "\n",
      "At X0         0 variables are exactly at the bounds\n",
      "\n",
      "At iterate    0    f=  4.60340D+00    |proj g|=  1.28365D-01\n",
      "\n",
      "At iterate    5    f=  4.56096D+00    |proj g|=  4.08188D-03\n",
      "\n",
      "At iterate   10    f=  4.55731D+00    |proj g|=  4.57367D-05\n",
      "\n",
      "           * * *\n",
      "\n",
      "Tit   = total number of iterations\n",
      "Tnf   = total number of function evaluations\n",
      "Tnint = total number of segments explored during Cauchy searches\n",
      "Skip  = number of BFGS updates skipped\n",
      "Nact  = number of active bounds at final generalized Cauchy point\n",
      "Projg = norm of the final projected gradient\n",
      "F     = final function value\n",
      "\n",
      "           * * *\n",
      "\n",
      "   N    Tit     Tnf  Tnint  Skip  Nact     Projg        F\n",
      "    3     14     17      1     0     0   1.118D-06   4.557D+00\n",
      "  F =   4.5573050734396290     \n",
      "\n",
      "CONVERGENCE: NORM_OF_PROJECTED_GRADIENT_<=_PGTOL            \n",
      "RUNNING THE L-BFGS-B CODE\n",
      "\n",
      "           * * *\n",
      "\n",
      "Machine precision = 2.220D-16\n",
      " N =            3     M =           10\n",
      "\n",
      "At X0         0 variables are exactly at the bounds\n",
      "\n",
      "At iterate    0    f=  4.60362D+00    |proj g|=  1.28147D-01\n",
      "\n",
      "At iterate    5    f=  4.56141D+00    |proj g|=  4.05144D-03\n"
     ]
    },
    {
     "name": "stderr",
     "output_type": "stream",
     "text": [
      " This problem is unconstrained.\n"
     ]
    },
    {
     "name": "stdout",
     "output_type": "stream",
     "text": [
      "\n",
      "At iterate   10    f=  4.55779D+00    |proj g|=  1.78669D-04\n",
      "\n",
      "           * * *\n",
      "\n",
      "Tit   = total number of iterations\n",
      "Tnf   = total number of function evaluations\n",
      "Tnint = total number of segments explored during Cauchy searches\n",
      "Skip  = number of BFGS updates skipped\n",
      "Nact  = number of active bounds at final generalized Cauchy point\n",
      "Projg = norm of the final projected gradient\n",
      "F     = final function value\n",
      "\n",
      "           * * *\n",
      "\n",
      "   N    Tit     Tnf  Tnint  Skip  Nact     Projg        F\n",
      "    3     14     17      1     0     0   1.714D-06   4.558D+00\n",
      "  F =   4.5577839041900967     \n",
      "\n",
      "CONVERGENCE: NORM_OF_PROJECTED_GRADIENT_<=_PGTOL            \n",
      "RUNNING THE L-BFGS-B CODE\n",
      "\n",
      "           * * *\n",
      "\n",
      "Machine precision = 2.220D-16\n",
      " N =            3     M =           10\n",
      "\n",
      "At X0         0 variables are exactly at the bounds\n",
      "\n",
      "At iterate    0    f=  4.60312D+00    |proj g|=  1.28556D-01\n",
      "\n",
      "At iterate    5    f=  4.56132D+00    |proj g|=  4.84430D-03\n"
     ]
    },
    {
     "name": "stderr",
     "output_type": "stream",
     "text": [
      " This problem is unconstrained.\n"
     ]
    },
    {
     "name": "stdout",
     "output_type": "stream",
     "text": [
      "\n",
      "At iterate   10    f=  4.55738D+00    |proj g|=  9.64370D-05\n",
      "\n",
      "           * * *\n",
      "\n",
      "Tit   = total number of iterations\n",
      "Tnf   = total number of function evaluations\n",
      "Tnint = total number of segments explored during Cauchy searches\n",
      "Skip  = number of BFGS updates skipped\n",
      "Nact  = number of active bounds at final generalized Cauchy point\n",
      "Projg = norm of the final projected gradient\n",
      "F     = final function value\n",
      "\n",
      "           * * *\n",
      "\n",
      "   N    Tit     Tnf  Tnint  Skip  Nact     Projg        F\n",
      "    3     11     14      1     0     0   4.851D-06   4.557D+00\n",
      "  F =   4.5573761087884197     \n",
      "\n",
      "CONVERGENCE: NORM_OF_PROJECTED_GRADIENT_<=_PGTOL            \n",
      "RUNNING THE L-BFGS-B CODE\n",
      "\n",
      "           * * *\n",
      "\n",
      "Machine precision = 2.220D-16\n",
      " N =            3     M =           10\n",
      "\n",
      "At X0         0 variables are exactly at the bounds\n",
      "\n",
      "At iterate    0    f=  4.60206D+00    |proj g|=  1.38073D-01\n",
      "\n",
      "At iterate    5    f=  4.56480D+00    |proj g|=  1.58107D-02\n"
     ]
    },
    {
     "name": "stderr",
     "output_type": "stream",
     "text": [
      " This problem is unconstrained.\n"
     ]
    },
    {
     "name": "stdout",
     "output_type": "stream",
     "text": [
      "\n",
      "At iterate   10    f=  4.55855D+00    |proj g|=  1.16990D-02\n",
      "\n",
      "At iterate   15    f=  4.55842D+00    |proj g|=  1.32996D-06\n",
      "\n",
      "           * * *\n",
      "\n",
      "Tit   = total number of iterations\n",
      "Tnf   = total number of function evaluations\n",
      "Tnint = total number of segments explored during Cauchy searches\n",
      "Skip  = number of BFGS updates skipped\n",
      "Nact  = number of active bounds at final generalized Cauchy point\n",
      "Projg = norm of the final projected gradient\n",
      "F     = final function value\n",
      "\n",
      "           * * *\n",
      "\n",
      "   N    Tit     Tnf  Tnint  Skip  Nact     Projg        F\n",
      "    3     15     20      1     0     0   1.330D-06   4.558D+00\n",
      "  F =   4.5584178634436876     \n",
      "\n",
      "CONVERGENCE: NORM_OF_PROJECTED_GRADIENT_<=_PGTOL            \n",
      "RUNNING THE L-BFGS-B CODE\n",
      "\n",
      "           * * *\n",
      "\n",
      "Machine precision = 2.220D-16\n",
      " N =            3     M =           10\n",
      "\n",
      "At X0         0 variables are exactly at the bounds\n",
      "\n",
      "At iterate    0    f=  4.61306D+00    |proj g|=  1.33944D-01\n"
     ]
    },
    {
     "name": "stderr",
     "output_type": "stream",
     "text": [
      " This problem is unconstrained.\n"
     ]
    },
    {
     "name": "stdout",
     "output_type": "stream",
     "text": [
      "\n",
      "At iterate    5    f=  4.57117D+00    |proj g|=  5.46742D-03\n",
      "\n",
      "At iterate   10    f=  4.56586D+00    |proj g|=  2.04571D-03\n",
      "\n",
      "           * * *\n",
      "\n",
      "Tit   = total number of iterations\n",
      "Tnf   = total number of function evaluations\n",
      "Tnint = total number of segments explored during Cauchy searches\n",
      "Skip  = number of BFGS updates skipped\n",
      "Nact  = number of active bounds at final generalized Cauchy point\n",
      "Projg = norm of the final projected gradient\n",
      "F     = final function value\n",
      "\n",
      "           * * *\n",
      "\n",
      "   N    Tit     Tnf  Tnint  Skip  Nact     Projg        F\n",
      "    3     14     18      1     0     0   8.072D-07   4.566D+00\n",
      "  F =   4.5658491328243622     \n",
      "\n",
      "CONVERGENCE: NORM_OF_PROJECTED_GRADIENT_<=_PGTOL            \n"
     ]
    },
    {
     "name": "stderr",
     "output_type": "stream",
     "text": [
      " This problem is unconstrained.\n"
     ]
    },
    {
     "name": "stdout",
     "output_type": "stream",
     "text": [
      "RUNNING THE L-BFGS-B CODE\n",
      "\n",
      "           * * *\n",
      "\n",
      "Machine precision = 2.220D-16\n",
      " N =            3     M =           10\n",
      "\n",
      "At X0         0 variables are exactly at the bounds\n",
      "\n",
      "At iterate    0    f=  4.61295D+00    |proj g|=  1.33696D-01\n",
      "\n",
      "At iterate    5    f=  4.57014D+00    |proj g|=  6.61813D-03\n",
      "\n",
      "At iterate   10    f=  4.56521D+00    |proj g|=  2.36114D-03\n",
      "\n",
      "           * * *\n",
      "\n",
      "Tit   = total number of iterations\n",
      "Tnf   = total number of function evaluations\n",
      "Tnint = total number of segments explored during Cauchy searches\n",
      "Skip  = number of BFGS updates skipped\n",
      "Nact  = number of active bounds at final generalized Cauchy point\n",
      "Projg = norm of the final projected gradient\n",
      "F     = final function value\n",
      "\n",
      "           * * *\n",
      "\n",
      "   N    Tit     Tnf  Tnint  Skip  Nact     Projg        F\n",
      "    3     14     17      1     0     0   3.786D-06   4.565D+00\n",
      "  F =   4.5652049670236954     \n",
      "\n",
      "CONVERGENCE: NORM_OF_PROJECTED_GRADIENT_<=_PGTOL            \n",
      "RUNNING THE L-BFGS-B CODE\n",
      "\n",
      "           * * *\n",
      "\n",
      "Machine precision = 2.220D-16\n",
      " N =            3     M =           10\n",
      "\n",
      "At X0         0 variables are exactly at the bounds\n",
      "\n",
      "At iterate    0    f=  4.61771D+00    |proj g|=  1.34589D-01\n",
      "\n",
      "At iterate    5    f=  4.57764D+00    |proj g|=  6.44944D-03\n",
      "\n",
      "           * * *\n",
      "\n",
      "Tit   = total number of iterations\n",
      "Tnf   = total number of function evaluations\n",
      "Tnint = total number of segments explored during Cauchy searches\n",
      "Skip  = number of BFGS updates skipped\n",
      "Nact  = number of active bounds at final generalized Cauchy point\n",
      "Projg = norm of the final projected gradient\n",
      "F     = final function value\n",
      "\n",
      "           * * *\n",
      "\n",
      "   N    Tit     Tnf  Tnint  Skip  Nact     Projg        F\n",
      "    3      9     12      1     0     0   4.888D-06   4.573D+00\n",
      "  F =   4.5732134887167053     \n",
      "\n",
      "CONVERGENCE: NORM_OF_PROJECTED_GRADIENT_<=_PGTOL            \n"
     ]
    },
    {
     "name": "stderr",
     "output_type": "stream",
     "text": [
      " This problem is unconstrained.\n",
      " This problem is unconstrained.\n"
     ]
    },
    {
     "name": "stdout",
     "output_type": "stream",
     "text": [
      "RUNNING THE L-BFGS-B CODE\n",
      "\n",
      "           * * *\n",
      "\n",
      "Machine precision = 2.220D-16\n",
      " N =            3     M =           10\n",
      "\n",
      "At X0         0 variables are exactly at the bounds\n",
      "\n",
      "At iterate    0    f=  4.61756D+00    |proj g|=  1.33186D-01\n",
      "\n",
      "At iterate    5    f=  4.57633D+00    |proj g|=  4.54556D-03\n",
      "\n",
      "At iterate   10    f=  4.57274D+00    |proj g|=  1.56471D-03\n",
      "\n",
      "           * * *\n",
      "\n",
      "Tit   = total number of iterations\n",
      "Tnf   = total number of function evaluations\n",
      "Tnint = total number of segments explored during Cauchy searches\n",
      "Skip  = number of BFGS updates skipped\n",
      "Nact  = number of active bounds at final generalized Cauchy point\n",
      "Projg = norm of the final projected gradient\n",
      "F     = final function value\n",
      "\n",
      "           * * *\n",
      "\n",
      "   N    Tit     Tnf  Tnint  Skip  Nact     Projg        F\n",
      "    3     13     16      1     0     0   3.874D-06   4.573D+00\n",
      "  F =   4.5727386115707409     \n",
      "\n",
      "CONVERGENCE: NORM_OF_PROJECTED_GRADIENT_<=_PGTOL            \n"
     ]
    },
    {
     "name": "stderr",
     "output_type": "stream",
     "text": [
      " This problem is unconstrained.\n"
     ]
    },
    {
     "name": "stdout",
     "output_type": "stream",
     "text": [
      "RUNNING THE L-BFGS-B CODE\n",
      "\n",
      "           * * *\n",
      "\n",
      "Machine precision = 2.220D-16\n",
      " N =            3     M =           10\n",
      "\n",
      "At X0         0 variables are exactly at the bounds\n",
      "\n",
      "At iterate    0    f=  4.61890D+00    |proj g|=  1.35358D-01\n",
      "\n",
      "At iterate    5    f=  4.58036D+00    |proj g|=  6.19005D-03\n",
      "\n",
      "At iterate   10    f=  4.57609D+00    |proj g|=  5.33290D-04\n",
      "\n",
      "           * * *\n",
      "\n",
      "Tit   = total number of iterations\n",
      "Tnf   = total number of function evaluations\n",
      "Tnint = total number of segments explored during Cauchy searches\n",
      "Skip  = number of BFGS updates skipped\n",
      "Nact  = number of active bounds at final generalized Cauchy point\n",
      "Projg = norm of the final projected gradient\n",
      "F     = final function value\n",
      "\n",
      "           * * *\n",
      "\n",
      "   N    Tit     Tnf  Tnint  Skip  Nact     Projg        F\n",
      "    3     13     17      1     0     0   3.976D-06   4.576D+00\n",
      "  F =   4.5760873660679264     \n",
      "\n",
      "CONVERGENCE: NORM_OF_PROJECTED_GRADIENT_<=_PGTOL            \n",
      "RUNNING THE L-BFGS-B CODE\n",
      "\n",
      "           * * *\n",
      "\n",
      "Machine precision = 2.220D-16\n",
      " N =            3     M =           10\n",
      "\n",
      "At X0         0 variables are exactly at the bounds\n",
      "\n",
      "At iterate    0    f=  4.61918D+00    |proj g|=  1.30625D-01\n",
      "\n",
      "At iterate    5    f=  4.57881D+00    |proj g|=  3.85304D-03\n"
     ]
    },
    {
     "name": "stderr",
     "output_type": "stream",
     "text": [
      " This problem is unconstrained.\n"
     ]
    },
    {
     "name": "stdout",
     "output_type": "stream",
     "text": [
      "\n",
      "At iterate   10    f=  4.57561D+00    |proj g|=  6.33804D-05\n",
      "\n",
      "           * * *\n",
      "\n",
      "Tit   = total number of iterations\n",
      "Tnf   = total number of function evaluations\n",
      "Tnint = total number of segments explored during Cauchy searches\n",
      "Skip  = number of BFGS updates skipped\n",
      "Nact  = number of active bounds at final generalized Cauchy point\n",
      "Projg = norm of the final projected gradient\n",
      "F     = final function value\n",
      "\n",
      "           * * *\n",
      "\n",
      "   N    Tit     Tnf  Tnint  Skip  Nact     Projg        F\n",
      "    3     12     16      1     0     0   3.520D-05   4.576D+00\n",
      "  F =   4.5756078830601465     \n",
      "\n",
      "CONVERGENCE: REL_REDUCTION_OF_F_<=_FACTR*EPSMCH             \n",
      "RUNNING THE L-BFGS-B CODE\n",
      "\n",
      "           * * *\n",
      "\n",
      "Machine precision = 2.220D-16\n",
      " N =            3     M =           10\n",
      "\n",
      "At X0         0 variables are exactly at the bounds\n",
      "\n",
      "At iterate    0    f=  4.62030D+00    |proj g|=  1.33066D-01\n",
      "\n",
      "At iterate    5    f=  4.58120D+00    |proj g|=  6.22916D-03\n"
     ]
    },
    {
     "name": "stderr",
     "output_type": "stream",
     "text": [
      " This problem is unconstrained.\n"
     ]
    },
    {
     "name": "stdout",
     "output_type": "stream",
     "text": [
      "\n",
      "At iterate   10    f=  4.57691D+00    |proj g|=  8.87147D-04\n",
      "\n",
      "           * * *\n",
      "\n",
      "Tit   = total number of iterations\n",
      "Tnf   = total number of function evaluations\n",
      "Tnint = total number of segments explored during Cauchy searches\n",
      "Skip  = number of BFGS updates skipped\n",
      "Nact  = number of active bounds at final generalized Cauchy point\n",
      "Projg = norm of the final projected gradient\n",
      "F     = final function value\n",
      "\n",
      "           * * *\n",
      "\n",
      "   N    Tit     Tnf  Tnint  Skip  Nact     Projg        F\n",
      "    3     12     15      1     0     0   3.731D-07   4.577D+00\n",
      "  F =   4.5769108008339456     \n",
      "\n",
      "CONVERGENCE: NORM_OF_PROJECTED_GRADIENT_<=_PGTOL            \n",
      "RUNNING THE L-BFGS-B CODE\n",
      "\n",
      "           * * *\n",
      "\n",
      "Machine precision = 2.220D-16\n",
      " N =            3     M =           10\n",
      "\n",
      "At X0         0 variables are exactly at the bounds\n",
      "\n",
      "At iterate    0    f=  4.62155D+00    |proj g|=  1.32572D-01\n",
      "\n",
      "At iterate    5    f=  4.58178D+00    |proj g|=  5.61712D-03\n"
     ]
    },
    {
     "name": "stderr",
     "output_type": "stream",
     "text": [
      " This problem is unconstrained.\n"
     ]
    },
    {
     "name": "stdout",
     "output_type": "stream",
     "text": [
      "\n",
      "At iterate   10    f=  4.57775D+00    |proj g|=  3.96778D-04\n",
      "\n",
      "           * * *\n",
      "\n",
      "Tit   = total number of iterations\n",
      "Tnf   = total number of function evaluations\n",
      "Tnint = total number of segments explored during Cauchy searches\n",
      "Skip  = number of BFGS updates skipped\n",
      "Nact  = number of active bounds at final generalized Cauchy point\n",
      "Projg = norm of the final projected gradient\n",
      "F     = final function value\n",
      "\n",
      "           * * *\n",
      "\n",
      "   N    Tit     Tnf  Tnint  Skip  Nact     Projg        F\n",
      "    3     11     14      1     0     0   3.117D-06   4.578D+00\n",
      "  F =   4.5777540652428765     \n",
      "\n",
      "CONVERGENCE: NORM_OF_PROJECTED_GRADIENT_<=_PGTOL            \n",
      "RUNNING THE L-BFGS-B CODE\n",
      "\n",
      "           * * *\n",
      "\n",
      "Machine precision = 2.220D-16\n",
      " N =            3     M =           10\n",
      "\n",
      "At X0         0 variables are exactly at the bounds\n",
      "\n",
      "At iterate    0    f=  4.62303D+00    |proj g|=  1.34797D-01\n",
      "\n",
      "At iterate    5    f=  4.58347D+00    |proj g|=  4.98585D-03\n"
     ]
    },
    {
     "name": "stderr",
     "output_type": "stream",
     "text": [
      " This problem is unconstrained.\n"
     ]
    },
    {
     "name": "stdout",
     "output_type": "stream",
     "text": [
      "\n",
      "At iterate   10    f=  4.57833D+00    |proj g|=  1.08830D-03\n",
      "\n",
      "           * * *\n",
      "\n",
      "Tit   = total number of iterations\n",
      "Tnf   = total number of function evaluations\n",
      "Tnint = total number of segments explored during Cauchy searches\n",
      "Skip  = number of BFGS updates skipped\n",
      "Nact  = number of active bounds at final generalized Cauchy point\n",
      "Projg = norm of the final projected gradient\n",
      "F     = final function value\n",
      "\n",
      "           * * *\n",
      "\n",
      "   N    Tit     Tnf  Tnint  Skip  Nact     Projg        F\n",
      "    3     13     16      1     0     0   2.059D-05   4.578D+00\n",
      "  F =   4.5783252102459890     \n",
      "\n",
      "CONVERGENCE: REL_REDUCTION_OF_F_<=_FACTR*EPSMCH             \n",
      "RUNNING THE L-BFGS-B CODE\n",
      "\n",
      "           * * *\n",
      "\n",
      "Machine precision = 2.220D-16\n",
      " N =            3     M =           10\n",
      "\n",
      "At X0         0 variables are exactly at the bounds\n",
      "\n",
      "At iterate    0    f=  4.62587D+00    |proj g|=  1.35303D-01\n",
      "\n",
      "At iterate    5    f=  4.58531D+00    |proj g|=  6.58794D-03\n"
     ]
    },
    {
     "name": "stderr",
     "output_type": "stream",
     "text": [
      " This problem is unconstrained.\n"
     ]
    },
    {
     "name": "stdout",
     "output_type": "stream",
     "text": [
      "\n",
      "At iterate   10    f=  4.58095D+00    |proj g|=  2.86190D-04\n",
      "\n",
      "           * * *\n",
      "\n",
      "Tit   = total number of iterations\n",
      "Tnf   = total number of function evaluations\n",
      "Tnint = total number of segments explored during Cauchy searches\n",
      "Skip  = number of BFGS updates skipped\n",
      "Nact  = number of active bounds at final generalized Cauchy point\n",
      "Projg = norm of the final projected gradient\n",
      "F     = final function value\n",
      "\n",
      "           * * *\n",
      "\n",
      "   N    Tit     Tnf  Tnint  Skip  Nact     Projg        F\n",
      "    3     12     16      1     0     0   2.475D-05   4.581D+00\n",
      "  F =   4.5809508782938169     \n",
      "\n",
      "CONVERGENCE: REL_REDUCTION_OF_F_<=_FACTR*EPSMCH             \n",
      "RUNNING THE L-BFGS-B CODE\n",
      "\n",
      "           * * *\n",
      "\n",
      "Machine precision = 2.220D-16\n",
      " N =            3     M =           10\n",
      "\n",
      "At X0         0 variables are exactly at the bounds\n",
      "\n",
      "At iterate    0    f=  4.62578D+00    |proj g|=  1.36616D-01\n",
      "\n",
      "At iterate    5    f=  4.58520D+00    |proj g|=  6.44736D-03\n"
     ]
    },
    {
     "name": "stderr",
     "output_type": "stream",
     "text": [
      " This problem is unconstrained.\n"
     ]
    },
    {
     "name": "stdout",
     "output_type": "stream",
     "text": [
      "\n",
      "At iterate   10    f=  4.58043D+00    |proj g|=  2.65324D-04\n",
      "\n",
      "           * * *\n",
      "\n",
      "Tit   = total number of iterations\n",
      "Tnf   = total number of function evaluations\n",
      "Tnint = total number of segments explored during Cauchy searches\n",
      "Skip  = number of BFGS updates skipped\n",
      "Nact  = number of active bounds at final generalized Cauchy point\n",
      "Projg = norm of the final projected gradient\n",
      "F     = final function value\n",
      "\n",
      "           * * *\n",
      "\n",
      "   N    Tit     Tnf  Tnint  Skip  Nact     Projg        F\n",
      "    3     11     14      1     0     0   3.683D-06   4.580D+00\n",
      "  F =   4.5804337652543738     \n",
      "\n",
      "CONVERGENCE: NORM_OF_PROJECTED_GRADIENT_<=_PGTOL            \n",
      "RMSE of SARIMA Model: 39.73948207869256\n"
     ]
    }
   ],
   "source": [
    "# evaluate parameters\n",
    "import warnings\n",
    "warnings.filterwarnings('ignore')\n",
    "history = [x for x in train_data]\n",
    "predictions = list()\n",
    "conf_list = list()\n",
    "for t in range(len(test_data)):\n",
    "    model = sm.tsa.statespace.SARIMAX(history, order = (0,1,0), seasonal_order = (1,1,1,3))\n",
    "    model_fit = model.fit()\n",
    "    fc = model_fit.forecast()\n",
    "    predictions.append(fc)\n",
    "    history.append(test_data[t])\n",
    "print('RMSE of SARIMA Model:', np.sqrt(mean_squared_error(test_data, predictions)))"
   ]
  },
  {
   "cell_type": "code",
   "execution_count": null,
   "id": "411bd22f-de7e-457d-a123-e432662076ef",
   "metadata": {},
   "outputs": [],
   "source": []
  }
 ],
 "metadata": {
  "kernelspec": {
   "display_name": "Python 3 (ipykernel)",
   "language": "python",
   "name": "python3"
  },
  "language_info": {
   "codemirror_mode": {
    "name": "ipython",
    "version": 3
   },
   "file_extension": ".py",
   "mimetype": "text/x-python",
   "name": "python",
   "nbconvert_exporter": "python",
   "pygments_lexer": "ipython3",
   "version": "3.10.8"
  }
 },
 "nbformat": 4,
 "nbformat_minor": 5
}
