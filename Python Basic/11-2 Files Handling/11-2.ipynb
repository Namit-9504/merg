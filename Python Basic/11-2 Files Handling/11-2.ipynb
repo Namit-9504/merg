{
 "cells": [
  {
   "cell_type": "markdown",
   "id": "8c4c69a4-179b-4536-a039-e703cfb06594",
   "metadata": {
    "jp-MarkdownHeadingCollapsed": true,
    "tags": []
   },
   "source": [
    "###  Working With Files"
   ]
  },
  {
   "cell_type": "code",
   "execution_count": 1,
   "id": "073461ab-cab3-4d1d-bc77-b2353cb52675",
   "metadata": {},
   "outputs": [],
   "source": [
    " f =open(\"test.txt\",\"a\")## here it will create file also"
   ]
  },
  {
   "cell_type": "code",
   "execution_count": 2,
   "id": "bf813b50-4090-4664-b3ea-23e1e185b139",
   "metadata": {},
   "outputs": [
    {
     "data": {
      "text/plain": [
       "'/home/jovyan/work/test 1'"
      ]
     },
     "execution_count": 2,
     "metadata": {},
     "output_type": "execute_result"
    }
   ],
   "source": [
    "pwd ## Present Working Directory "
   ]
  },
  {
   "cell_type": "code",
   "execution_count": 3,
   "id": "865b436b-ed10-42ad-8d32-aabead704a99",
   "metadata": {},
   "outputs": [
    {
     "name": "stdout",
     "output_type": "stream",
     "text": [
      "10-2.ipynb  2-2.ipynb      31-1.ipynb  5-2.ipynb  Untitled.ipynb\n",
      "11-2.ipynb  29-1-23.ipynb  3-2.ipynb   8-2.ipynb\n",
      "1-2.ipynb   30-1-23.ipynb  4-2.ipynb   test.txt\n"
     ]
    }
   ],
   "source": [
    "ls ## it shows all the file present in currently working directory"
   ]
  },
  {
   "cell_type": "code",
   "execution_count": 4,
   "id": "86813306-0c9c-41e8-bf74-f7496823e1c3",
   "metadata": {},
   "outputs": [
    {
     "data": {
      "text/plain": [
       "720"
      ]
     },
     "execution_count": 4,
     "metadata": {},
     "output_type": "execute_result"
    }
   ],
   "source": [
    "f.write(\" Data Science Masters course is highly curated and uniquely designed according to the latest industry standards. This program instills students the skills essential to knowledge discovery efforts to identify standard, novel, and truly differentiated solutions and decision-making, including skills in managing, querying, analyzing, visualizing, and extracting meaning from extremely large data sets. This trending program provides students with the statistical, mathematical and computational skills needed to meet the large-scale data science challenges of today's professional world. You will learn all the stack required to work in data science industry including cloud infrastructure and real-time industry projects.\")"
   ]
  },
  {
   "cell_type": "code",
   "execution_count": 5,
   "id": "c4d34342-5f22-4b86-b541-ae784426e7fe",
   "metadata": {},
   "outputs": [],
   "source": [
    "f.close()### wheneven we try to write into file file needs to be closed for see whatever you wrritten"
   ]
  },
  {
   "cell_type": "code",
   "execution_count": 6,
   "id": "5c5894f6-e578-4880-89d8-3275fc462149",
   "metadata": {},
   "outputs": [],
   "source": [
    "data = open(\"test.txt\",\"r\")"
   ]
  },
  {
   "cell_type": "code",
   "execution_count": 7,
   "id": "8f3f3c40-bea4-41a9-8897-f61219746243",
   "metadata": {},
   "outputs": [
    {
     "data": {
      "text/plain": [
       "\" Data Science Masters course is highly curated and uniquely designed according to the latest industry standards. This program instills students the skills essential to knowledge discovery efforts to identify standard, novel, and truly differentiated solutions and decision-making, including skills in managing, querying, analyzing, visualizing, and extracting meaning from extremely large data sets. This trending program provides students with the statistical, mathematical and computational skills needed to meet the large-scale data science challenges of today's professional world. You will learn all the stack required to work in data science industry including cloud infrastructure and real-time industry projects.\""
      ]
     },
     "execution_count": 7,
     "metadata": {},
     "output_type": "execute_result"
    }
   ],
   "source": [
    "data.read()"
   ]
  },
  {
   "cell_type": "code",
   "execution_count": 8,
   "id": "3a6dc412-bce1-4290-8584-d5fa3a26e655",
   "metadata": {},
   "outputs": [
    {
     "data": {
      "text/plain": [
       "''"
      ]
     },
     "execution_count": 8,
     "metadata": {},
     "output_type": "execute_result"
    }
   ],
   "source": [
    "data.read() # here we did not see any thing beacuse in perviouse operation our currser is at the end position so we need to reset the currser"
   ]
  },
  {
   "cell_type": "code",
   "execution_count": 9,
   "id": "3df18003-f25f-421d-ac7d-3139d23c3286",
   "metadata": {},
   "outputs": [
    {
     "data": {
      "text/plain": [
       "0"
      ]
     },
     "execution_count": 9,
     "metadata": {},
     "output_type": "execute_result"
    }
   ],
   "source": [
    "data.seek(0)## seek is used to reset a currser"
   ]
  },
  {
   "cell_type": "code",
   "execution_count": 10,
   "id": "7f863772-2efa-433c-b27b-36e9b469f734",
   "metadata": {},
   "outputs": [
    {
     "data": {
      "text/plain": [
       "\" Data Science Masters course is highly curated and uniquely designed according to the latest industry standards. This program instills students the skills essential to knowledge discovery efforts to identify standard, novel, and truly differentiated solutions and decision-making, including skills in managing, querying, analyzing, visualizing, and extracting meaning from extremely large data sets. This trending program provides students with the statistical, mathematical and computational skills needed to meet the large-scale data science challenges of today's professional world. You will learn all the stack required to work in data science industry including cloud infrastructure and real-time industry projects.\""
      ]
     },
     "execution_count": 10,
     "metadata": {},
     "output_type": "execute_result"
    }
   ],
   "source": [
    "data.read()"
   ]
  },
  {
   "cell_type": "code",
   "execution_count": 11,
   "id": "4a603213-dbba-4e12-a230-be20abf6c3bd",
   "metadata": {},
   "outputs": [
    {
     "data": {
      "text/plain": [
       "''"
      ]
     },
     "execution_count": 11,
     "metadata": {},
     "output_type": "execute_result"
    }
   ],
   "source": [
    "data.read()## we alwasys need to set "
   ]
  },
  {
   "cell_type": "code",
   "execution_count": 12,
   "id": "dd638fd6-8ca8-452a-b326-57c452bc0b4a",
   "metadata": {},
   "outputs": [
    {
     "data": {
      "text/plain": [
       "100"
      ]
     },
     "execution_count": 12,
     "metadata": {},
     "output_type": "execute_result"
    }
   ],
   "source": [
    "data.seek(100)"
   ]
  },
  {
   "cell_type": "code",
   "execution_count": 13,
   "id": "f092a8c4-5ac9-485d-b9df-3ae94c4091b7",
   "metadata": {},
   "outputs": [
    {
     "data": {
      "text/plain": [
       "\"y standards. This program instills students the skills essential to knowledge discovery efforts to identify standard, novel, and truly differentiated solutions and decision-making, including skills in managing, querying, analyzing, visualizing, and extracting meaning from extremely large data sets. This trending program provides students with the statistical, mathematical and computational skills needed to meet the large-scale data science challenges of today's professional world. You will learn all the stack required to work in data science industry including cloud infrastructure and real-time industry projects.\""
      ]
     },
     "execution_count": 13,
     "metadata": {},
     "output_type": "execute_result"
    }
   ],
   "source": [
    "data.read()"
   ]
  },
  {
   "cell_type": "code",
   "execution_count": 14,
   "id": "c88133b4-c9b8-4210-ab8e-3202ec329fb3",
   "metadata": {},
   "outputs": [],
   "source": [
    "data1=open(\"test.txt\",\"r\")"
   ]
  },
  {
   "cell_type": "code",
   "execution_count": 15,
   "id": "de597137-25bb-48ec-99cd-0c950d33eb79",
   "metadata": {},
   "outputs": [
    {
     "name": "stdout",
     "output_type": "stream",
     "text": [
      " Data Science Masters course is highly curated and uniquely designed according to the latest industry standards. This program instills students the skills essential to knowledge discovery efforts to identify standard, novel, and truly differentiated solutions and decision-making, including skills in managing, querying, analyzing, visualizing, and extracting meaning from extremely large data sets. This trending program provides students with the statistical, mathematical and computational skills needed to meet the large-scale data science challenges of today's professional world. You will learn all the stack required to work in data science industry including cloud infrastructure and real-time industry projects.\n"
     ]
    }
   ],
   "source": [
    "for i in data1:\n",
    "    print(i)\n",
    "    ### another type to read file"
   ]
  },
  {
   "cell_type": "code",
   "execution_count": 16,
   "id": "b6f7e586-4f2b-48b7-b085-ff1c82beb684",
   "metadata": {},
   "outputs": [
    {
     "data": {
      "text/plain": [
       "720"
      ]
     },
     "execution_count": 16,
     "metadata": {},
     "output_type": "execute_result"
    }
   ],
   "source": [
    "import os ## os is a preinstalled moduel\n",
    "os.path.getsize(\"test.txt\")### to know the size of file in byte"
   ]
  },
  {
   "cell_type": "code",
   "execution_count": 17,
   "id": "73768bca-48a6-48c0-8c64-e7128b57190f",
   "metadata": {},
   "outputs": [
    {
     "data": {
      "text/plain": [
       "'new_test.txt'"
      ]
     },
     "execution_count": 17,
     "metadata": {},
     "output_type": "execute_result"
    }
   ],
   "source": [
    "import shutil\n",
    "shutil.copy(\"test.txt\",\"new_test.txt\")"
   ]
  },
  {
   "cell_type": "code",
   "execution_count": 18,
   "id": "f2b216f8-b3d4-4c94-971e-458d032b8f14",
   "metadata": {},
   "outputs": [],
   "source": [
    "import os\n",
    "os.remove(\"test.txt\")### it deletes the file"
   ]
  },
  {
   "cell_type": "code",
   "execution_count": 25,
   "id": "ba42f8bf-5df6-4e70-a991-5adcf1170739",
   "metadata": {},
   "outputs": [
    {
     "name": "stdout",
     "output_type": "stream",
     "text": [
      " Data Science Masters course is highly curated and uniquely designed according to the latest industry standards. This program instills students the skills essential to knowledge discovery efforts to identify standard, novel, and truly differentiated solutions and decision-making, including skills in managing, querying, analyzing, visualizing, and extracting meaning from extremely large data sets. This trending program provides students with the statistical, mathematical and computational skills needed to meet the large-scale data science challenges of today's professional world. You will learn all the stack required to work in data science industry including cloud infrastructure and real-time industry projects.\n"
     ]
    }
   ],
   "source": [
    "### another type to open a file\n",
    "with open(\"new_test.txt\",\"r\") as f:\n",
    "    print(f.read())"
   ]
  },
  {
   "cell_type": "code",
   "execution_count": 26,
   "id": "291f0069-8774-4dd6-871d-7bcfdf2aab3a",
   "metadata": {},
   "outputs": [],
   "source": [
    "os.rename(\"new_test.txt\",\"test1.txt\")"
   ]
  },
  {
   "cell_type": "code",
   "execution_count": 27,
   "id": "64452787-a308-4be2-8a91-db0188b173c2",
   "metadata": {},
   "outputs": [
    {
     "data": {
      "text/plain": [
       "720"
      ]
     },
     "execution_count": 27,
     "metadata": {},
     "output_type": "execute_result"
    }
   ],
   "source": [
    "import os\n",
    "os.path.getsize(\"test1.txt\")"
   ]
  },
  {
   "cell_type": "markdown",
   "id": "3308b1a0-a022-4145-b69e-46e835dbc898",
   "metadata": {
    "tags": []
   },
   "source": [
    "### Reading And Writing Files"
   ]
  },
  {
   "cell_type": "code",
   "execution_count": 12,
   "id": "981a3ca1-6080-4931-984b-3eb466b30642",
   "metadata": {},
   "outputs": [],
   "source": [
    "data = {\n",
    "    \"name\":\"namit\",\n",
    "    \"mail_id\":\"namit@gmail.com\",\n",
    "    \"phone_no\":962396923,\n",
    "    \"subject\":[\"data science\",\"big data\",\"data analytics\"]\n",
    "}"
   ]
  },
  {
   "cell_type": "code",
   "execution_count": 13,
   "id": "97bd1662-7642-4f07-b9e3-b07504c65d20",
   "metadata": {},
   "outputs": [],
   "source": [
    "import json"
   ]
  },
  {
   "cell_type": "code",
   "execution_count": 14,
   "id": "64a27dda-a27f-4b83-a606-2c29a39c6fc2",
   "metadata": {},
   "outputs": [],
   "source": [
    "with open (\"test1.json\",\"w\")as f:\n",
    "    json.dump(data,f)### dump is used for write "
   ]
  },
  {
   "cell_type": "code",
   "execution_count": 15,
   "id": "cce032d9-551c-4aa8-a305-7686832f2417",
   "metadata": {},
   "outputs": [],
   "source": [
    "with open (\"test1.json\",\"r\")as f:\n",
    "    data1=json.load(f)### load is used to read "
   ]
  },
  {
   "cell_type": "code",
   "execution_count": 24,
   "id": "80d7d543-eee7-457a-a8d7-3b35ad4fe4c4",
   "metadata": {},
   "outputs": [
    {
     "data": {
      "text/plain": [
       "{'name': 'namit',\n",
       " 'mail_id': 'namit@gmail.com',\n",
       " 'phone_no': 962396923,\n",
       " 'subject': ['data science', 'big data', 'data analytics']}"
      ]
     },
     "execution_count": 24,
     "metadata": {},
     "output_type": "execute_result"
    }
   ],
   "source": [
    "data1"
   ]
  },
  {
   "cell_type": "code",
   "execution_count": 17,
   "id": "037871e8-a3d4-48c8-9f46-7f16b456a91e",
   "metadata": {},
   "outputs": [
    {
     "data": {
      "text/plain": [
       "'big data'"
      ]
     },
     "execution_count": 17,
     "metadata": {},
     "output_type": "execute_result"
    }
   ],
   "source": [
    "data1[\"subject\"][1]"
   ]
  },
  {
   "cell_type": "code",
   "execution_count": 38,
   "id": "947765ee-2af3-4bfc-b2b9-d9348ab23303",
   "metadata": {},
   "outputs": [],
   "source": [
    "data2 = [[\"name\",\"mail_id\",\"number\"],## data must be separeted by comma\n",
    "         [\"shriyash\",\"shriyas@gmail.com\",9623127245],\n",
    "         [\"namit\",\"namit@gmail.com\",89635526]\n",
    "        ]"
   ]
  },
  {
   "cell_type": "code",
   "execution_count": 26,
   "id": "9cbbf67c-3ba3-4bc8-839d-4c8aaec8f304",
   "metadata": {},
   "outputs": [],
   "source": [
    "import csv### csv means comma separated Values "
   ]
  },
  {
   "cell_type": "code",
   "execution_count": 36,
   "id": "f14a90d9-04f6-41c1-9a3a-f91f2a0dc0e6",
   "metadata": {},
   "outputs": [],
   "source": [
    "with open(\"test1.csv\",\"w\")as f: ### this is a write operation in csv file\n",
    "    w = csv.writer(f)\n",
    "    for i in data2:\n",
    "        w.writerow(i)### it shows the data in row and coloum formate"
   ]
  },
  {
   "cell_type": "code",
   "execution_count": 37,
   "id": "82db36de-4cd7-48f4-a655-fee1d0c6e1a5",
   "metadata": {},
   "outputs": [
    {
     "name": "stdout",
     "output_type": "stream",
     "text": [
      "['name', 'mail_id', 'number']\n",
      "['shriyash', 'shriyas@gmail.com', '9623127245']\n",
      "['namit', 'namit@gmail.com', '89635526']\n"
     ]
    }
   ],
   "source": [
    "with open(\"test1.csv\", 'r') as f :#this is a read operation in csv file\n",
    "    reader = csv.reader(f)\n",
    "    for i in reader:\n",
    "        print(i)"
   ]
  },
  {
   "cell_type": "code",
   "execution_count": 44,
   "id": "71879411-f6ec-4b4c-baaa-3b07a51710c0",
   "metadata": {},
   "outputs": [],
   "source": [
    "with open(\"test1.bin\",\"wb\")as f:### bin means bineary\n",
    "    f.write(b\"\\x01\\x02\\x03\") ### this is a write operation in binary  file"
   ]
  },
  {
   "cell_type": "code",
   "execution_count": 43,
   "id": "2767192c-e6cc-4069-b133-b2e4606d306a",
   "metadata": {},
   "outputs": [
    {
     "name": "stdout",
     "output_type": "stream",
     "text": [
      "b'\\x01\\x02\\x03'\n"
     ]
    }
   ],
   "source": [
    "with open (\"test1.bin\",\"rb\")as f:#this is a read operation in binary file\n",
    "    print(f.read())"
   ]
  },
  {
   "cell_type": "markdown",
   "id": "655a7d1b-e883-4d4f-b079-33c4b9cdcd55",
   "metadata": {
    "jp-MarkdownHeadingCollapsed": true,
    "tags": []
   },
   "source": [
    "### Buffered Read And Write Other File Methods"
   ]
  },
  {
   "cell_type": "code",
   "execution_count": 19,
   "id": "dd211e9e-fb4b-44d1-9c71-923a6c9ad429",
   "metadata": {},
   "outputs": [],
   "source": [
    "###Buffered Read And Write is used when we are dealing with big files like there size is in a gb or tb"
   ]
  },
  {
   "cell_type": "code",
   "execution_count": 1,
   "id": "aacf2dfd-95fa-48a8-ad5c-cb61d9011856",
   "metadata": {},
   "outputs": [],
   "source": [
    "import io"
   ]
  },
  {
   "cell_type": "code",
   "execution_count": 10,
   "id": "22b976d3-df48-4e83-9a9e-c88770362af0",
   "metadata": {},
   "outputs": [],
   "source": [
    "with open(\"text.txt\",\"wb\")as f:\n",
    "    file=io.BufferedWriter(f)## by defult buffer size is 8192 bytes\n",
    "    file.write(b\"Data Science Masters course is highly curated and uniquely designed according to the latest industry standards. This program instills students the skills essential to knowledge discovery efforts to identify standard, novel, and truly differentiated solutions and decision-making, including skills in managing, querying, analyzing, visualizing, and extracting meaning from extremely large data sets. This trending program provides students with the statistical, mathematical and computational skills needed to meet the large-scale data science challenges of today's professional world. You will learn all the stack required to work in data science industry including cloud infrastructure and real-time industry projects.\\n\")\n",
    "    file.write(b\"this is my 2nd line that i want to write\")\n",
    "    file.flush()### whenever we are performing with buffer opreation we need to use \"flush\" at end"
   ]
  },
  {
   "cell_type": "code",
   "execution_count": 13,
   "id": "9d857b5f-4fd6-4df3-8fcf-3a3445cb8e5a",
   "metadata": {},
   "outputs": [
    {
     "name": "stdout",
     "output_type": "stream",
     "text": [
      "b\"Data Science Masters course is highly curated and uniquely designed according to the latest industry standards. This program instills students the skills essential to knowledge discovery efforts to identify standard, novel, and truly differentiated solutions and decision-making, including skills in managing, querying, analyzing, visualizing, and extracting meaning from extremely large data sets. This trending program provides students with the statistical, mathematical and computational skills needed to meet the large-scale data science challenges of today's professional world. You will learn all the stack required to work in data science industry including cloud infrastructure and real-time industry projects.\\nthis is my 2nd line that i want to write\"\n"
     ]
    }
   ],
   "source": [
    "with open(\"text.txt\",\"rb\")as f :\n",
    "    file=io.BufferedReader(f)\n",
    "    data = file.read()\n",
    "    print(data)"
   ]
  },
  {
   "cell_type": "code",
   "execution_count": 18,
   "id": "9977dabc-39ed-4403-8976-6a2c0b3f6f12",
   "metadata": {},
   "outputs": [
    {
     "name": "stdout",
     "output_type": "stream",
     "text": [
      "b\"Data Science Masters course is highly curated and uniquely designed according to the latest industry standards. This program instills students the skills essential to knowledge discovery efforts to identify standard, novel, and truly differentiated solutions and decision-making, including skills in managing, querying, analyzing, visualizing, and extracting meaning from extremely large data sets. This trending program provides students with the statistical, mathematical and computational skills needed to meet the large-scale data science challenges of today's professional world. You will learn all the stack required to work in data science industry including cloud infrastructure and real-time industry projects.\\nthis is my 2nd line that i want to write\"\n"
     ]
    }
   ],
   "source": [
    "with open(\"text.txt\",\"rb\")as f :\n",
    "    file=io.BufferedReader(f)\n",
    "    data = file.read(8192)## here we can set the limit to bytes how many bytes we want to print\n",
    "    print(data)"
   ]
  },
  {
   "cell_type": "markdown",
   "id": "176c2895-14ce-4092-b25b-7bf478756375",
   "metadata": {
    "tags": []
   },
   "source": [
    "### Logging Debugger"
   ]
  },
  {
   "cell_type": "code",
   "execution_count": 3,
   "id": "1bc93718-f5ec-4edd-ad2f-9d1fbc038844",
   "metadata": {},
   "outputs": [
    {
     "name": "stdout",
     "output_type": "stream",
     "text": [
      "this is my print statment\n"
     ]
    }
   ],
   "source": [
    "print(\"this is my print statment\")## print shows output inside the console"
   ]
  },
  {
   "cell_type": "code",
   "execution_count": 6,
   "id": "30fb22d9-338d-4f91-8a1a-46a0a74abd3d",
   "metadata": {},
   "outputs": [],
   "source": [
    "import logging"
   ]
  },
  {
   "cell_type": "code",
   "execution_count": 3,
   "id": "93a6bff5-c9d9-4563-93ac-080952e146fd",
   "metadata": {},
   "outputs": [],
   "source": [
    "logging.basicConfig(filename = \"test.log\" , level = logging.INFO)## level name can not be changed it is fixed"
   ]
  },
  {
   "cell_type": "code",
   "execution_count": 28,
   "id": "749f54f1-0bde-4c63-b89b-785cbf088711",
   "metadata": {},
   "outputs": [],
   "source": [
    "logging.info(\"this is my logging info\")### here we take printing input"
   ]
  },
  {
   "cell_type": "code",
   "execution_count": 29,
   "id": "e9f6db87-fdbd-443f-8ea4-6e413bac9e9e",
   "metadata": {},
   "outputs": [],
   "source": [
    "logging.error(\"this is my error\")"
   ]
  },
  {
   "cell_type": "code",
   "execution_count": 30,
   "id": "ca4934fe-a614-4e17-8090-5338327ea408",
   "metadata": {},
   "outputs": [],
   "source": [
    "logging.critical(\"this is my critical\")"
   ]
  },
  {
   "cell_type": "code",
   "execution_count": 32,
   "id": "ae59716f-3763-4f93-ba7c-a97797342bfa",
   "metadata": {},
   "outputs": [],
   "source": [
    "logging.warning(\"this is my warning\")"
   ]
  },
  {
   "cell_type": "code",
   "execution_count": 36,
   "id": "a1f2ab06-0faf-4030-a3be-4f561256dacf",
   "metadata": {},
   "outputs": [],
   "source": [
    "logging.debug(\"this is my debug\") # this statement is not getting print beacuse debug is above the info "
   ]
  },
  {
   "cell_type": "code",
   "execution_count": 37,
   "id": "2fd1c5ec-9623-4c8f-8b9d-cc1d102e9a74",
   "metadata": {},
   "outputs": [
    {
     "ename": "AttributeError",
     "evalue": "module 'logging' has no attribute 'noset'",
     "output_type": "error",
     "traceback": [
      "\u001b[0;31m---------------------------------------------------------------------------\u001b[0m",
      "\u001b[0;31mAttributeError\u001b[0m                            Traceback (most recent call last)",
      "Cell \u001b[0;32mIn[37], line 1\u001b[0m\n\u001b[0;32m----> 1\u001b[0m \u001b[43mlogging\u001b[49m\u001b[38;5;241;43m.\u001b[39;49m\u001b[43mnoset\u001b[49m(\u001b[38;5;124m\"\u001b[39m\u001b[38;5;124mthis is my no set \u001b[39m\u001b[38;5;124m\"\u001b[39m)\n",
      "\u001b[0;31mAttributeError\u001b[0m: module 'logging' has no attribute 'noset'"
     ]
    }
   ],
   "source": [
    "logging.noset(\"this is my no set \")"
   ]
  },
  {
   "cell_type": "code",
   "execution_count": 39,
   "id": "d7167371-bdbe-49bf-9c68-8ecdf3b0acc8",
   "metadata": {},
   "outputs": [],
   "source": [
    "logging.shutdown()## to close file"
   ]
  },
  {
   "cell_type": "markdown",
   "id": "5896d1a7-6bd4-4662-a94c-be4e053ace17",
   "metadata": {},
   "source": [
    "any logging has suppose to follow \n",
    "1 NOST\n",
    "2 DEBUG\n",
    "3 INFO\n",
    "4 WARNING\n",
    "5 ERROR\n",
    "6 CRITICAL"
   ]
  },
  {
   "cell_type": "code",
   "execution_count": 31,
   "id": "498ac126-5dce-4421-bee5-e0720a8c3a0d",
   "metadata": {},
   "outputs": [],
   "source": [
    "## functions like info ,error , critical are used to give lable to our sentence"
   ]
  },
  {
   "cell_type": "markdown",
   "id": "c46b5ccd-8d0c-4929-8d83-42fdfb5b020f",
   "metadata": {},
   "source": [
    "as we see \"logging.debug\" is not showing in file the reasson is we set a label in very 1st line as logging.INFo so that's whys it is written only info, warning , error and critical beascuse all this are below the info as per the sequence"
   ]
  },
  {
   "cell_type": "code",
   "execution_count": 1,
   "id": "6c61b715-ab62-4032-9f45-97e2c6cdcb45",
   "metadata": {},
   "outputs": [],
   "source": [
    "import logging\n",
    "logging.basicConfig(filename = \"test1.log\" , level = logging.DEBUG  , format ='%(asctime)s %(message)s' )"
   ]
  },
  {
   "cell_type": "code",
   "execution_count": 2,
   "id": "7a9bdce4-b3ab-4a75-a1a9-fc296362209a",
   "metadata": {},
   "outputs": [],
   "source": [
    "logging.info(\"this is my info log\")"
   ]
  },
  {
   "cell_type": "code",
   "execution_count": 3,
   "id": "983b0e8b-d6d2-4dd5-94d2-223d4ff998d4",
   "metadata": {},
   "outputs": [],
   "source": [
    "logging.error(\"this is my error log\")"
   ]
  },
  {
   "cell_type": "code",
   "execution_count": 4,
   "id": "5d1a05c2-e7c3-4aa2-aa2c-5d69e6aeffcf",
   "metadata": {},
   "outputs": [],
   "source": [
    "logging.critical(\"this is my critical\")"
   ]
  },
  {
   "cell_type": "code",
   "execution_count": 5,
   "id": "de123965-011b-4468-ad39-bd05e4dd694c",
   "metadata": {},
   "outputs": [],
   "source": [
    "logging.shutdown()"
   ]
  },
  {
   "cell_type": "code",
   "execution_count": 1,
   "id": "bb324f12-0bc7-4352-8534-43de2f04280a",
   "metadata": {},
   "outputs": [],
   "source": [
    "import logging"
   ]
  },
  {
   "cell_type": "code",
   "execution_count": 2,
   "id": "3dba75fc-354a-4352-a73b-7927417adbce",
   "metadata": {},
   "outputs": [],
   "source": [
    "logging.basicConfig(filename = \"test3.log\" , level = logging.DEBUG  , format ='%(asctime)s %(name)s %(levelname)s %(message)s' )"
   ]
  },
  {
   "cell_type": "code",
   "execution_count": 3,
   "id": "2a48b94d-fcaa-4eba-ac3f-f757cd4c2136",
   "metadata": {},
   "outputs": [],
   "source": [
    "logging.info(\"this is my info log\")"
   ]
  },
  {
   "cell_type": "code",
   "execution_count": 13,
   "id": "ec09e62d-c837-4ce6-8826-4cc5de119643",
   "metadata": {},
   "outputs": [],
   "source": [
    "l = [1,2,3,4,[5,6,7,8],\"namit\",\"chaudhari\"]"
   ]
  },
  {
   "cell_type": "markdown",
   "id": "68cb6b71-2afe-446c-bc5f-59dc16144a29",
   "metadata": {},
   "source": [
    "how to use log in code"
   ]
  },
  {
   "cell_type": "code",
   "execution_count": 34,
   "id": "470ffd38-ef6e-4527-b4ff-5f455c438df6",
   "metadata": {},
   "outputs": [],
   "source": [
    "l_num = []\n",
    "l_str = []\n",
    "for i in l:\n",
    "    logging.info(\"this is my start of first for loop {}\".format(l))\n",
    "    logging.info(\"this is mhy content in i{}\".format(i))\n",
    "    if type(i)== list:\n",
    "        for j in i:\n",
    "            logging.info(\"logging my j {} logging my i{}\".format(j,i))\n",
    "            if type(j)==int:\n",
    "                l_num.append(j)\n",
    "    elif type(i)==int:\n",
    "        l_num.append(i)\n",
    "    else :\n",
    "         l_str.append(i)\n",
    "logging.info(\"this is my final result with all int {int} and with all str {str}\".format(int= l_num, str=l_str))"
   ]
  },
  {
   "cell_type": "code",
   "execution_count": 32,
   "id": "b510fea7-20eb-4c5b-89f7-6b8ac310555d",
   "metadata": {},
   "outputs": [
    {
     "data": {
      "text/plain": [
       "[1, 2, 3, 4, 5, 6, 7, 8]"
      ]
     },
     "execution_count": 32,
     "metadata": {},
     "output_type": "execute_result"
    }
   ],
   "source": [
    "l_num"
   ]
  },
  {
   "cell_type": "code",
   "execution_count": 33,
   "id": "35fec93e-0097-479d-b55b-308631ef8594",
   "metadata": {},
   "outputs": [
    {
     "data": {
      "text/plain": [
       "['namit', 'chaudhari']"
      ]
     },
     "execution_count": 33,
     "metadata": {},
     "output_type": "execute_result"
    }
   ],
   "source": [
    "l_str"
   ]
  },
  {
   "cell_type": "markdown",
   "id": "3f89a437-5161-4f81-bab4-3af729d498f1",
   "metadata": {
    "jp-MarkdownHeadingCollapsed": true,
    "tags": []
   },
   "source": [
    "### Modules And Import Statements"
   ]
  },
  {
   "cell_type": "code",
   "execution_count": null,
   "id": "98e938bc-8b02-4d56-a391-b316d0eff674",
   "metadata": {},
   "outputs": [],
   "source": [
    " plz see python lab "
   ]
  },
  {
   "cell_type": "markdown",
   "id": "16311e4f-5a6d-4b78-a191-586e66771ecb",
   "metadata": {},
   "source": [
    "we can acess a function which is created inside a file which is in a same folder by follwing steps"
   ]
  },
  {
   "cell_type": "code",
   "execution_count": null,
   "id": "31b4857e-1928-4818-ad9d-19f8526fab75",
   "metadata": {},
   "outputs": [],
   "source": [
    "# from folder_name import file_name"
   ]
  },
  {
   "cell_type": "markdown",
   "id": "bad83929-fc65-49ee-bea3-9ec2bf96e2d9",
   "metadata": {},
   "source": [
    "from above statement we can ascess all the function created inside a folder"
   ]
  },
  {
   "cell_type": "markdown",
   "id": "ae9f43e9-da78-48b1-b414-eb67ec631b82",
   "metadata": {},
   "source": [
    "if it shows error the import follwing things"
   ]
  },
  {
   "cell_type": "code",
   "execution_count": 2,
   "id": "218b6d01-6b39-4f37-91f1-cfef3a8d0775",
   "metadata": {},
   "outputs": [],
   "source": [
    "#import os,sys\n",
    "#from os.path import dirname,join,abspath\n",
    "#sys.path.insert(0,abspath(join(dirname(__file__),'..')))"
   ]
  },
  {
   "cell_type": "code",
   "execution_count": null,
   "id": "c6b8f293-acf6-498d-ac20-3e8f17f03e09",
   "metadata": {},
   "outputs": [],
   "source": []
  },
  {
   "cell_type": "code",
   "execution_count": null,
   "id": "2bf7a9e3-bddd-42e5-ad8d-2b416d00bdba",
   "metadata": {},
   "outputs": [],
   "source": []
  },
  {
   "cell_type": "code",
   "execution_count": null,
   "id": "4988ee53-948a-4e0f-ab4e-a318c2739fa6",
   "metadata": {},
   "outputs": [],
   "source": []
  },
  {
   "cell_type": "code",
   "execution_count": null,
   "id": "5d5e01e8-9aaa-4251-b542-de0ba256d2d0",
   "metadata": {},
   "outputs": [],
   "source": []
  },
  {
   "cell_type": "code",
   "execution_count": null,
   "id": "42ad7686-1a2f-479d-89f6-a3b48b55862e",
   "metadata": {},
   "outputs": [],
   "source": []
  },
  {
   "cell_type": "code",
   "execution_count": null,
   "id": "1023b771-5aef-49ca-b3bd-fc0c72676899",
   "metadata": {},
   "outputs": [],
   "source": []
  },
  {
   "cell_type": "code",
   "execution_count": null,
   "id": "1e96f471-3957-4c02-900a-433225d8c2bf",
   "metadata": {},
   "outputs": [],
   "source": []
  },
  {
   "cell_type": "code",
   "execution_count": null,
   "id": "e22df4c3-e428-45ca-9a26-01a06b64ab79",
   "metadata": {},
   "outputs": [],
   "source": []
  },
  {
   "cell_type": "code",
   "execution_count": null,
   "id": "fdadad3d-b62a-4a5b-a456-db7e8ed3ed2c",
   "metadata": {},
   "outputs": [],
   "source": []
  },
  {
   "cell_type": "code",
   "execution_count": null,
   "id": "b17c86d7-03c1-48bd-87d0-ebde1d1b9b58",
   "metadata": {},
   "outputs": [],
   "source": []
  },
  {
   "cell_type": "code",
   "execution_count": null,
   "id": "8428b894-25c7-451e-bfb2-512db61463e5",
   "metadata": {},
   "outputs": [],
   "source": []
  },
  {
   "cell_type": "code",
   "execution_count": null,
   "id": "c616568e-2718-4ad6-88e5-a360ae7103a2",
   "metadata": {},
   "outputs": [],
   "source": []
  },
  {
   "cell_type": "code",
   "execution_count": null,
   "id": "8cc33baa-985a-4829-bd18-00a4c286e2a0",
   "metadata": {},
   "outputs": [],
   "source": []
  },
  {
   "cell_type": "code",
   "execution_count": null,
   "id": "884a5818-031c-4b87-9728-8e57bc4487ba",
   "metadata": {},
   "outputs": [],
   "source": []
  },
  {
   "cell_type": "code",
   "execution_count": null,
   "id": "b6ae8c18-3ad2-454e-806b-7199eed88d83",
   "metadata": {},
   "outputs": [],
   "source": []
  },
  {
   "cell_type": "code",
   "execution_count": null,
   "id": "285c88ad-7f51-41a3-82b7-fa8b5556f175",
   "metadata": {},
   "outputs": [],
   "source": []
  },
  {
   "cell_type": "code",
   "execution_count": null,
   "id": "19a73055-9f03-4628-9227-05c0ab6cda01",
   "metadata": {},
   "outputs": [],
   "source": []
  },
  {
   "cell_type": "code",
   "execution_count": null,
   "id": "55358100-c23e-4e38-90a6-2afdfbf344ca",
   "metadata": {},
   "outputs": [],
   "source": []
  },
  {
   "cell_type": "code",
   "execution_count": null,
   "id": "42497a5f-5a7d-45fd-9311-df1863efa723",
   "metadata": {},
   "outputs": [],
   "source": []
  },
  {
   "cell_type": "code",
   "execution_count": null,
   "id": "e1fc0d05-7ccd-42cc-9a27-5d7b73a901d5",
   "metadata": {},
   "outputs": [],
   "source": []
  },
  {
   "cell_type": "code",
   "execution_count": null,
   "id": "3fac8e0f-a3c3-4cb6-996e-3c179eac3cd1",
   "metadata": {},
   "outputs": [],
   "source": []
  },
  {
   "cell_type": "code",
   "execution_count": null,
   "id": "3d1eb6e4-5c5d-4036-9ff5-0ddc5c48e33c",
   "metadata": {},
   "outputs": [],
   "source": []
  },
  {
   "cell_type": "code",
   "execution_count": null,
   "id": "6b773bc7-0213-4b12-919d-ac4fdb77ae48",
   "metadata": {},
   "outputs": [],
   "source": []
  },
  {
   "cell_type": "code",
   "execution_count": null,
   "id": "73883dd5-202b-47f8-9582-f1b140a0114e",
   "metadata": {},
   "outputs": [],
   "source": []
  },
  {
   "cell_type": "code",
   "execution_count": null,
   "id": "c1f70434-29f7-4af9-b4e8-a8e012c8bb0c",
   "metadata": {},
   "outputs": [],
   "source": []
  },
  {
   "cell_type": "code",
   "execution_count": null,
   "id": "338cb07a-fc6e-47d8-92a9-95717e057dad",
   "metadata": {},
   "outputs": [],
   "source": []
  },
  {
   "cell_type": "code",
   "execution_count": null,
   "id": "8c7c4c94-ef6d-40be-81c2-a57f52cc2daf",
   "metadata": {},
   "outputs": [],
   "source": []
  },
  {
   "cell_type": "code",
   "execution_count": null,
   "id": "d05397b7-851d-4e17-9f08-668469d53fb1",
   "metadata": {},
   "outputs": [],
   "source": []
  }
 ],
 "metadata": {
  "kernelspec": {
   "display_name": "Python 3 (ipykernel)",
   "language": "python",
   "name": "python3"
  },
  "language_info": {
   "codemirror_mode": {
    "name": "ipython",
    "version": 3
   },
   "file_extension": ".py",
   "mimetype": "text/x-python",
   "name": "python",
   "nbconvert_exporter": "python",
   "pygments_lexer": "ipython3",
   "version": "3.10.8"
  }
 },
 "nbformat": 4,
 "nbformat_minor": 5
}
