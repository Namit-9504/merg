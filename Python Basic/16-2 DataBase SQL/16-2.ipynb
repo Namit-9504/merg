{
 "cells": [
  {
   "cell_type": "code",
   "execution_count": null,
   "id": "8a4a6d3f-5d70-4c14-86b2-27caf51501f0",
   "metadata": {},
   "outputs": [],
   "source": [
    "my sql + python labbb #### sql and python are different lang"
   ]
  },
  {
   "cell_type": "code",
   "execution_count": null,
   "id": "46528e1e-a3a0-4b1c-982c-ccefd9f61456",
   "metadata": {},
   "outputs": [],
   "source": [
    "SQL = Squal Quary Lang##here  we can store only structred data like chart or data in row or colum\n",
    "NOSQL = NOT ONLY Squal Quary Lang## here  we can store  unstructred data like txt , video ,audio"
   ]
  },
  {
   "cell_type": "code",
   "execution_count": null,
   "id": "9bdc435a-6ed4-4ce9-a83e-dbdad6100056",
   "metadata": {},
   "outputs": [],
   "source": [
    "Sql == mysql , mssql , oracal , DB2..........."
   ]
  },
  {
   "cell_type": "code",
   "execution_count": null,
   "id": "c4c7bfeb-1336-4519-8632-7c2236ac3e04",
   "metadata": {},
   "outputs": [],
   "source": [
    "NOsqul == mongodb,casandra,hbase,neo4k.........."
   ]
  },
  {
   "cell_type": "code",
   "execution_count": null,
   "id": "4d751ac1-1e11-40f2-b5cb-90eda6f4ff13",
   "metadata": {},
   "outputs": [],
   "source": [
    "in sql 1.database ----> 2.tabels(that is equivalnt to excel sheets)"
   ]
  },
  {
   "cell_type": "code",
   "execution_count": null,
   "id": "0c01ada9-1a04-41e7-b1bb-65198501e105",
   "metadata": {},
   "outputs": [],
   "source": [
    "here we try to learn python connectivity to sql"
   ]
  },
  {
   "cell_type": "code",
   "execution_count": null,
   "id": "51c248f9-71dd-49f5-a54f-8aa3b19a10b7",
   "metadata": {},
   "outputs": [],
   "source": [
    "VARCAR == str"
   ]
  },
  {
   "cell_type": "code",
   "execution_count": null,
   "id": "6117d943-60de-42ce-b3ea-bed82645766b",
   "metadata": {},
   "outputs": [],
   "source": [
    "in sql\n",
    "select * == select all data "
   ]
  },
  {
   "cell_type": "code",
   "execution_count": null,
   "id": "a7ac1970-1c42-456c-a4a9-beb5380c2f06",
   "metadata": {},
   "outputs": [],
   "source": []
  },
  {
   "cell_type": "code",
   "execution_count": null,
   "id": "6c0fee47-de5d-4181-b307-42d522aae5ac",
   "metadata": {},
   "outputs": [],
   "source": []
  },
  {
   "cell_type": "code",
   "execution_count": null,
   "id": "b0355685-ba80-4ce9-90f8-ed15f441238b",
   "metadata": {},
   "outputs": [],
   "source": []
  }
 ],
 "metadata": {
  "kernelspec": {
   "display_name": "Python 3 (ipykernel)",
   "language": "python",
   "name": "python3"
  },
  "language_info": {
   "codemirror_mode": {
    "name": "ipython",
    "version": 3
   },
   "file_extension": ".py",
   "mimetype": "text/x-python",
   "name": "python",
   "nbconvert_exporter": "python",
   "pygments_lexer": "ipython3",
   "version": "3.10.8"
  }
 },
 "nbformat": 4,
 "nbformat_minor": 5
}
