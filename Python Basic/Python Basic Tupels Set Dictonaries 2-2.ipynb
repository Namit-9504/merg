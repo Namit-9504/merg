{
 "cells": [
  {
   "cell_type": "code",
   "execution_count": 2,
   "id": "937e8aab-ed37-4408-bcc5-e34cd02f28bd",
   "metadata": {},
   "outputs": [],
   "source": [
    "###Tuple\n",
    "t=(1,2,3,4,5+4j,\"sudh\",True)"
   ]
  },
  {
   "cell_type": "code",
   "execution_count": 3,
   "id": "329e5d32-be7f-4354-9f34-3857135d8c22",
   "metadata": {},
   "outputs": [
    {
     "data": {
      "text/plain": [
       "tuple"
      ]
     },
     "execution_count": 3,
     "metadata": {},
     "output_type": "execute_result"
    }
   ],
   "source": [
    "type(t)"
   ]
  },
  {
   "cell_type": "code",
   "execution_count": 4,
   "id": "7fc9e1b4-8cef-440a-b60c-f464927c6fd9",
   "metadata": {},
   "outputs": [
    {
     "data": {
      "text/plain": [
       "(1, 2, 3, 4, (5+4j), 'sudh', True)"
      ]
     },
     "execution_count": 4,
     "metadata": {},
     "output_type": "execute_result"
    }
   ],
   "source": [
    "t"
   ]
  },
  {
   "cell_type": "code",
   "execution_count": 6,
   "id": "2cbc185b-ee2a-4f67-86c7-dcd3d3ea1c3f",
   "metadata": {},
   "outputs": [
    {
     "data": {
      "text/plain": [
       "1"
      ]
     },
     "execution_count": 6,
     "metadata": {},
     "output_type": "execute_result"
    }
   ],
   "source": [
    "t[0]"
   ]
  },
  {
   "cell_type": "code",
   "execution_count": 7,
   "id": "737cf52b-f97f-4c1b-b69a-aed1d8a317a4",
   "metadata": {},
   "outputs": [
    {
     "data": {
      "text/plain": [
       "(3, 4, (5+4j))"
      ]
     },
     "execution_count": 7,
     "metadata": {},
     "output_type": "execute_result"
    }
   ],
   "source": [
    "t[2:5]"
   ]
  },
  {
   "cell_type": "code",
   "execution_count": 9,
   "id": "1735ff84-5926-45f7-93fb-cc494697b9ca",
   "metadata": {},
   "outputs": [
    {
     "data": {
      "text/plain": [
       "('sudh', (5+4j), 4, 3)"
      ]
     },
     "execution_count": 9,
     "metadata": {},
     "output_type": "execute_result"
    }
   ],
   "source": [
    "t[5:1:-1]"
   ]
  },
  {
   "cell_type": "code",
   "execution_count": 69,
   "id": "b606437d-ed2a-41e6-8dae-5179b8ea3313",
   "metadata": {},
   "outputs": [
    {
     "data": {
      "text/plain": [
       "(1, 2, 3, 4, (5+4j), 'sudh', True)"
      ]
     },
     "execution_count": 69,
     "metadata": {},
     "output_type": "execute_result"
    }
   ],
   "source": [
    "t[::-1]"
   ]
  },
  {
   "cell_type": "code",
   "execution_count": 70,
   "id": "cd60ff61-2e3c-4fbc-8cfe-0faad1f6bb42",
   "metadata": {},
   "outputs": [],
   "source": [
    "t=t[5:1:-1]"
   ]
  },
  {
   "cell_type": "code",
   "execution_count": 71,
   "id": "9035a3a0-f9ef-4623-b1c5-7fd82092cd40",
   "metadata": {},
   "outputs": [
    {
     "data": {
      "text/plain": [
       "(2, 3, 4, (5+4j))"
      ]
     },
     "execution_count": 71,
     "metadata": {},
     "output_type": "execute_result"
    }
   ],
   "source": [
    "t"
   ]
  },
  {
   "cell_type": "code",
   "execution_count": 13,
   "id": "29435eee-d40f-404c-9d8a-f96b0aee88f7",
   "metadata": {},
   "outputs": [],
   "source": [
    "t1=t[::-1]"
   ]
  },
  {
   "cell_type": "code",
   "execution_count": 14,
   "id": "1ce31858-dd6b-42b1-8518-6cfa7f6ab49a",
   "metadata": {},
   "outputs": [
    {
     "data": {
      "text/plain": [
       "(3, 4, (5+4j), 'sudh')"
      ]
     },
     "execution_count": 14,
     "metadata": {},
     "output_type": "execute_result"
    }
   ],
   "source": [
    "t1"
   ]
  },
  {
   "cell_type": "code",
   "execution_count": 15,
   "id": "18b83cd1-d27b-4773-8635-d0f5fc3ba61b",
   "metadata": {},
   "outputs": [
    {
     "data": {
      "text/plain": [
       "(3, 4, (5+4j))"
      ]
     },
     "execution_count": 16,
     "metadata": {},
     "output_type": "execute_result"
    }
   ],
   "source": [
    "t1[0:3]"
   ]
  },
  {
   "cell_type": "code",
   "execution_count": 18,
   "id": "ad6f35e0-4884-4133-8e13-d31098ef5d73",
   "metadata": {},
   "outputs": [],
   "source": [
    "str=()"
   ]
  },
  {
   "cell_type": "code",
   "execution_count": null,
   "id": "5ef6567b-d7a3-44ab-a2f5-3238ddb7982a",
   "metadata": {},
   "outputs": [],
   "source": [
    "str."
   ]
  },
  {
   "cell_type": "code",
   "execution_count": 19,
   "id": "844334cc-5247-4e67-969b-1a9968f7c55b",
   "metadata": {},
   "outputs": [],
   "source": [
    "lst=[]"
   ]
  },
  {
   "cell_type": "code",
   "execution_count": null,
   "id": "9319f6f1-7d28-48d9-926a-2e96c510be06",
   "metadata": {},
   "outputs": [],
   "source": [
    "lst."
   ]
  },
  {
   "cell_type": "code",
   "execution_count": 21,
   "id": "ac96589b-bff6-4c5c-ac80-f392336038b4",
   "metadata": {},
   "outputs": [],
   "source": [
    "t2=(1,2,3,4,5,6,7,2,5,6)"
   ]
  },
  {
   "cell_type": "code",
   "execution_count": 22,
   "id": "74eb1172-e084-4bb8-a5fc-5c0a52755a21",
   "metadata": {},
   "outputs": [
    {
     "data": {
      "text/plain": [
       "2"
      ]
     },
     "execution_count": 22,
     "metadata": {},
     "output_type": "execute_result"
    }
   ],
   "source": [
    "t2.count(2)"
   ]
  },
  {
   "cell_type": "code",
   "execution_count": 23,
   "id": "704cd097-246b-4a55-8746-967e14d54df2",
   "metadata": {},
   "outputs": [
    {
     "data": {
      "text/plain": [
       "0"
      ]
     },
     "execution_count": 23,
     "metadata": {},
     "output_type": "execute_result"
    }
   ],
   "source": [
    "t2.count(\"abc\")"
   ]
  },
  {
   "cell_type": "code",
   "execution_count": 25,
   "id": "6691044a-954b-46a1-8a32-669c85bb4af5",
   "metadata": {},
   "outputs": [
    {
     "data": {
      "text/plain": [
       "1"
      ]
     },
     "execution_count": 25,
     "metadata": {},
     "output_type": "execute_result"
    }
   ],
   "source": [
    "t2.index(2)##It writes a 1st occurance\n"
   ]
  },
  {
   "cell_type": "code",
   "execution_count": 26,
   "id": "e0e3e466-4586-4823-9df3-5cf77c470d35",
   "metadata": {},
   "outputs": [
    {
     "data": {
      "text/plain": [
       "3"
      ]
     },
     "execution_count": 26,
     "metadata": {},
     "output_type": "execute_result"
    }
   ],
   "source": [
    "t2.index(4)"
   ]
  },
  {
   "cell_type": "code",
   "execution_count": 28,
   "id": "d25c7fb6-0283-4c55-bf82-1ccdaedb0bfa",
   "metadata": {},
   "outputs": [],
   "source": [
    "t=(1,2,3,4,5+4j,\"sudh\",True)"
   ]
  },
  {
   "cell_type": "code",
   "execution_count": 30,
   "id": "a1bb35cf-f715-498b-8c3c-51ae595034ff",
   "metadata": {},
   "outputs": [
    {
     "data": {
      "text/plain": [
       "0"
      ]
     },
     "execution_count": 30,
     "metadata": {},
     "output_type": "execute_result"
    }
   ],
   "source": [
    "t.index(1)"
   ]
  },
  {
   "cell_type": "code",
   "execution_count": 42,
   "id": "8305e013-e36b-4121-93e4-ef7e3b98bef2",
   "metadata": {},
   "outputs": [
    {
     "data": {
      "text/plain": [
       "(1, 2, 3, 4, (5+4j), 'sudh', True)"
      ]
     },
     "execution_count": 42,
     "metadata": {},
     "output_type": "execute_result"
    }
   ],
   "source": [
    "t"
   ]
  },
  {
   "cell_type": "code",
   "execution_count": 45,
   "id": "81c2e73b-6ff6-4f7b-a1ca-0cf4f4ed974d",
   "metadata": {},
   "outputs": [],
   "source": [
    "t=t[::-1]"
   ]
  },
  {
   "cell_type": "code",
   "execution_count": 72,
   "id": "7c914c6b-605c-4633-93d5-6c66644092be",
   "metadata": {},
   "outputs": [
    {
     "data": {
      "text/plain": [
       "(2, 3, 4, (5+4j))"
      ]
     },
     "execution_count": 72,
     "metadata": {},
     "output_type": "execute_result"
    }
   ],
   "source": [
    "t"
   ]
  },
  {
   "cell_type": "code",
   "execution_count": 53,
   "id": "2912a2da-2e87-4229-bafe-7817739db167",
   "metadata": {},
   "outputs": [
    {
     "data": {
      "text/plain": [
       "0"
      ]
     },
     "execution_count": 66,
     "metadata": {},
     "output_type": "execute_result"
    }
   ],
   "source": [
    "t.index(1)####Because of true it returns the index of 1 is 0 reason is internally value of true is "
   ]
  },
  {
   "cell_type": "code",
   "execution_count": 52,
   "id": "5d24e693-8b67-40f6-9f37-596bfd67223a",
   "metadata": {},
   "outputs": [
    {
     "data": {
      "text/plain": [
       "1"
      ]
     },
     "execution_count": 52,
     "metadata": {},
     "output_type": "execute_result"
    }
   ],
   "source": [
    "t.index(\"sudh\")"
   ]
  },
  {
   "cell_type": "code",
   "execution_count": 49,
   "id": "4fcb7578-8447-4176-97b5-1cb7c2c533d1",
   "metadata": {},
   "outputs": [
    {
     "data": {
      "text/plain": [
       "True"
      ]
     },
     "execution_count": 49,
     "metadata": {},
     "output_type": "execute_result"
    }
   ],
   "source": [
    "t[0]"
   ]
  },
  {
   "cell_type": "code",
   "execution_count": 57,
   "id": "3346518e-af80-4f92-af8a-c9cbb8d04302",
   "metadata": {},
   "outputs": [],
   "source": [
    "c=(1,2,3,6,5,9,\"sudddh\")"
   ]
  },
  {
   "cell_type": "code",
   "execution_count": 58,
   "id": "1c0b7cbb-847b-4a64-82ed-372770d10218",
   "metadata": {},
   "outputs": [
    {
     "data": {
      "text/plain": [
       "(1, 2, 3, 6, 5, 9, 'sudddh')"
      ]
     },
     "execution_count": 58,
     "metadata": {},
     "output_type": "execute_result"
    }
   ],
   "source": [
    "c"
   ]
  },
  {
   "cell_type": "code",
   "execution_count": 59,
   "id": "c1b079ab-03d5-4aff-87df-f404dfa2e63a",
   "metadata": {},
   "outputs": [
    {
     "data": {
      "text/plain": [
       "('sudddh', 9, 5, 6, 3, 2, 1)"
      ]
     },
     "execution_count": 59,
     "metadata": {},
     "output_type": "execute_result"
    }
   ],
   "source": [
    "c[::-1]"
   ]
  },
  {
   "cell_type": "code",
   "execution_count": 61,
   "id": "81257ee2-cf2b-4486-ba7c-3b7f0d768c25",
   "metadata": {},
   "outputs": [
    {
     "data": {
      "text/plain": [
       "0"
      ]
     },
     "execution_count": 61,
     "metadata": {},
     "output_type": "execute_result"
    }
   ],
   "source": [
    "c.index(1)"
   ]
  },
  {
   "cell_type": "code",
   "execution_count": 62,
   "id": "b42b1d02-db7c-401b-b88a-65c3d12a2222",
   "metadata": {},
   "outputs": [],
   "source": [
    "c=c[::-1]"
   ]
  },
  {
   "cell_type": "code",
   "execution_count": 63,
   "id": "a9426766-9665-47e2-89bc-f0c2c96996b4",
   "metadata": {},
   "outputs": [
    {
     "data": {
      "text/plain": [
       "('sudddh', 9, 5, 6, 3, 2, 1)"
      ]
     },
     "execution_count": 63,
     "metadata": {},
     "output_type": "execute_result"
    }
   ],
   "source": [
    "c"
   ]
  },
  {
   "cell_type": "code",
   "execution_count": 64,
   "id": "8298f6fb-06ab-41cb-9f31-38ef3d62aad4",
   "metadata": {},
   "outputs": [
    {
     "data": {
      "text/plain": [
       "'sudddh'"
      ]
     },
     "execution_count": 64,
     "metadata": {},
     "output_type": "execute_result"
    }
   ],
   "source": [
    "c[0]"
   ]
  },
  {
   "cell_type": "code",
   "execution_count": 65,
   "id": "05f6525c-42d9-46c0-a64c-48b824a613ab",
   "metadata": {},
   "outputs": [
    {
     "data": {
      "text/plain": [
       "6"
      ]
     },
     "execution_count": 65,
     "metadata": {},
     "output_type": "execute_result"
    }
   ],
   "source": [
    "c.index(1)"
   ]
  },
  {
   "cell_type": "code",
   "execution_count": 73,
   "id": "137aa3b2-fdfd-48c7-aa07-93156bd0d57b",
   "metadata": {},
   "outputs": [],
   "source": [
    "b=(1,2,3,4,5,9,True)"
   ]
  },
  {
   "cell_type": "code",
   "execution_count": 74,
   "id": "02f04fa3-684b-4548-9c5c-1f93b3af935b",
   "metadata": {},
   "outputs": [
    {
     "data": {
      "text/plain": [
       "(1, 2, 3, 4, 5, 9, True)"
      ]
     },
     "execution_count": 74,
     "metadata": {},
     "output_type": "execute_result"
    }
   ],
   "source": [
    "b"
   ]
  },
  {
   "cell_type": "code",
   "execution_count": 77,
   "id": "91cf221c-4c91-4ca2-8e76-d03ec7eaa3ed",
   "metadata": {},
   "outputs": [
    {
     "data": {
      "text/plain": [
       "2"
      ]
     },
     "execution_count": 77,
     "metadata": {},
     "output_type": "execute_result"
    }
   ],
   "source": [
    "b.count(True)###Because internally 1= True And False=0"
   ]
  },
  {
   "cell_type": "code",
   "execution_count": 79,
   "id": "f06ddd90-2220-4c60-869d-97dcb7e6bda4",
   "metadata": {},
   "outputs": [],
   "source": [
    "z=(2,3,6,5,4,8,True)"
   ]
  },
  {
   "cell_type": "code",
   "execution_count": 81,
   "id": "95a52a63-ed7a-4414-a1f3-80dc11594b3a",
   "metadata": {},
   "outputs": [
    {
     "data": {
      "text/plain": [
       "1"
      ]
     },
     "execution_count": 81,
     "metadata": {},
     "output_type": "execute_result"
    }
   ],
   "source": [
    "z.count(True)### 1 is not present in this tuple"
   ]
  },
  {
   "cell_type": "code",
   "execution_count": 82,
   "id": "67429bab-71ef-41ae-9e91-915de1c1e5b8",
   "metadata": {},
   "outputs": [],
   "source": [
    "#### Changing the element = item assignment"
   ]
  },
  {
   "cell_type": "code",
   "execution_count": 83,
   "id": "867f0c5d-760f-4208-86db-b595bba602f2",
   "metadata": {},
   "outputs": [],
   "source": [
    "s=(1,2,3,6,8,9652,6352)"
   ]
  },
  {
   "cell_type": "code",
   "execution_count": 84,
   "id": "f110deda-8ca1-49f9-abb8-990dc4670885",
   "metadata": {},
   "outputs": [],
   "source": [
    "l=[1,2,28,68,9,854,967,978]"
   ]
  },
  {
   "cell_type": "code",
   "execution_count": 85,
   "id": "3a228c27-a43b-4dc6-b3f1-7f398771b590",
   "metadata": {},
   "outputs": [
    {
     "ename": "TypeError",
     "evalue": "'tuple' object does not support item assignment",
     "output_type": "error",
     "traceback": [
      "\u001b[0;31m---------------------------------------------------------------------------\u001b[0m",
      "\u001b[0;31mTypeError\u001b[0m                                 Traceback (most recent call last)",
      "Cell \u001b[0;32mIn[85], line 1\u001b[0m\n\u001b[0;32m----> 1\u001b[0m \u001b[43ms\u001b[49m\u001b[43m[\u001b[49m\u001b[38;5;241;43m0\u001b[39;49m\u001b[43m]\u001b[49m\u001b[38;5;241m=\u001b[39m\u001b[38;5;241m526\u001b[39m\n",
      "\u001b[0;31mTypeError\u001b[0m: 'tuple' object does not support item assignment"
     ]
    }
   ],
   "source": [
    "s[0]=526"
   ]
  },
  {
   "cell_type": "code",
   "execution_count": 86,
   "id": "c27c1113-4ae2-4784-b959-9b1a60d437ad",
   "metadata": {},
   "outputs": [],
   "source": [
    "l[0]=869655"
   ]
  },
  {
   "cell_type": "code",
   "execution_count": 87,
   "id": "22178289-48e1-44e3-a96f-c683a7d89efb",
   "metadata": {},
   "outputs": [
    {
     "data": {
      "text/plain": [
       "[869655, 2, 28, 68, 9, 854, 967, 978]"
      ]
     },
     "execution_count": 87,
     "metadata": {},
     "output_type": "execute_result"
    }
   ],
   "source": [
    "l"
   ]
  },
  {
   "cell_type": "code",
   "execution_count": 90,
   "id": "958a8ee8-3d7f-4ae8-933f-1c87eed13195",
   "metadata": {},
   "outputs": [],
   "source": [
    "str2=(12.68,4465,\"eojgdfk\")"
   ]
  },
  {
   "cell_type": "code",
   "execution_count": 91,
   "id": "5da3cbe7-a110-4b97-9a46-8fcca40ac5a0",
   "metadata": {},
   "outputs": [
    {
     "data": {
      "text/plain": [
       "tuple"
      ]
     },
     "execution_count": 91,
     "metadata": {},
     "output_type": "execute_result"
    }
   ],
   "source": [
    "type(str2)"
   ]
  },
  {
   "cell_type": "code",
   "execution_count": 98,
   "id": "68f73fc8-bbca-4f3e-b51f-1bd8c506900e",
   "metadata": {},
   "outputs": [],
   "source": [
    "str1=(\"qw8asij\")#### We cant store a number or int or float in string but we can store it in a Tuple we can also store a list inside tuple"
   ]
  },
  {
   "cell_type": "code",
   "execution_count": 96,
   "id": "a9275f85-5fcb-4250-bd6f-7bfd621f169e",
   "metadata": {},
   "outputs": [
    {
     "data": {
      "text/plain": [
       "str"
      ]
     },
     "execution_count": 96,
     "metadata": {},
     "output_type": "execute_result"
    }
   ],
   "source": [
    "type(str1)"
   ]
  },
  {
   "cell_type": "code",
   "execution_count": 99,
   "id": "5c2905eb-3b2d-42a5-99ef-c090abd2f31e",
   "metadata": {},
   "outputs": [
    {
     "data": {
      "text/plain": [
       "(True, 'sudh', (5+4j), 4, 3, 2, 1)"
      ]
     },
     "execution_count": 99,
     "metadata": {},
     "output_type": "execute_result"
    }
   ],
   "source": [
    "t1"
   ]
  },
  {
   "cell_type": "code",
   "execution_count": 102,
   "id": "f742a308-ec51-45a1-939f-db09d0f19da0",
   "metadata": {},
   "outputs": [
    {
     "name": "stdout",
     "output_type": "stream",
     "text": [
      "True = <class 'bool'>\n",
      "sudh = <class 'str'>\n",
      "(5+4j) = <class 'complex'>\n",
      "4 = <class 'int'>\n",
      "3 = <class 'int'>\n",
      "2 = <class 'int'>\n",
      "1 = <class 'int'>\n"
     ]
    }
   ],
   "source": [
    "for i in t1:\n",
    "    print(i,\"=\",type(i))"
   ]
  },
  {
   "cell_type": "code",
   "execution_count": 103,
   "id": "70f9a63e-9ca6-4118-a736-d5ae8af10c50",
   "metadata": {},
   "outputs": [
    {
     "data": {
      "text/plain": [
       "(True, 'sudh', (5+4j), 4, 3, 2, 1)"
      ]
     },
     "execution_count": 103,
     "metadata": {},
     "output_type": "execute_result"
    }
   ],
   "source": [
    "t1"
   ]
  },
  {
   "cell_type": "code",
   "execution_count": 104,
   "id": "135c3610-d81d-4ecd-881f-8c4521a9e7ad",
   "metadata": {},
   "outputs": [
    {
     "data": {
      "text/plain": [
       "(True, 'sudh', (5+4j), 4, 3, 2, 1, True, 'sudh', (5+4j), 4, 3, 2, 1)"
      ]
     },
     "execution_count": 104,
     "metadata": {},
     "output_type": "execute_result"
    }
   ],
   "source": [
    "t1*2"
   ]
  },
  {
   "cell_type": "code",
   "execution_count": 108,
   "id": "b8eb6ff1-82eb-47ff-99d8-9688f9dbc3c2",
   "metadata": {},
   "outputs": [],
   "source": [
    "c1=(1,2,3,4)\n",
    "c2=(5,6,7,8,9)\n",
    "l3=[\"mangi \",\"chreey\"]"
   ]
  },
  {
   "cell_type": "code",
   "execution_count": 111,
   "id": "4fa9f35d-4a7c-4a4a-bb17-e04a5ac33357",
   "metadata": {},
   "outputs": [],
   "source": [
    "c3=(c1,c2,l3) ###We can also add list in side a tuple"
   ]
  },
  {
   "cell_type": "code",
   "execution_count": 110,
   "id": "9dd81a15-794b-4cc3-b067-cc70bb179921",
   "metadata": {},
   "outputs": [
    {
     "data": {
      "text/plain": [
       "((1, 2, 3, 4), (5, 6, 7, 8, 9), ['mangi ', 'chreey'])"
      ]
     },
     "execution_count": 110,
     "metadata": {},
     "output_type": "execute_result"
    }
   ],
   "source": [
    "c3"
   ]
  },
  {
   "cell_type": "code",
   "execution_count": 112,
   "id": "3c77a422-4c5b-40ab-8d27-027a7671afe0",
   "metadata": {},
   "outputs": [],
   "source": [
    "del c1"
   ]
  },
  {
   "cell_type": "code",
   "execution_count": 114,
   "id": "4a98e10b-0b84-4700-9971-188ba8b422c9",
   "metadata": {},
   "outputs": [
    {
     "ename": "NameError",
     "evalue": "name 'c1' is not defined",
     "output_type": "error",
     "traceback": [
      "\u001b[0;31m---------------------------------------------------------------------------\u001b[0m",
      "\u001b[0;31mNameError\u001b[0m                                 Traceback (most recent call last)",
      "Cell \u001b[0;32mIn[114], line 1\u001b[0m\n\u001b[0;32m----> 1\u001b[0m \u001b[43mc1\u001b[49m\n",
      "\u001b[0;31mNameError\u001b[0m: name 'c1' is not defined"
     ]
    }
   ],
   "source": [
    "c1"
   ]
  },
  {
   "cell_type": "code",
   "execution_count": 115,
   "id": "0d15ef7f-9536-4709-b8ca-132175f3118a",
   "metadata": {},
   "outputs": [
    {
     "data": {
      "text/plain": [
       "(5, 6, 7, 8, 9)"
      ]
     },
     "execution_count": 115,
     "metadata": {},
     "output_type": "execute_result"
    }
   ],
   "source": [
    "c2"
   ]
  },
  {
   "cell_type": "code",
   "execution_count": 116,
   "id": "95cdcf35-0ddb-4c1c-9bd3-9ce4ba9b55a3",
   "metadata": {},
   "outputs": [
    {
     "ename": "AttributeError",
     "evalue": "'tuple' object has no attribute 'check'",
     "output_type": "error",
     "traceback": [
      "\u001b[0;31m---------------------------------------------------------------------------\u001b[0m",
      "\u001b[0;31mAttributeError\u001b[0m                            Traceback (most recent call last)",
      "Cell \u001b[0;32mIn[116], line 1\u001b[0m\n\u001b[0;32m----> 1\u001b[0m \u001b[43mc2\u001b[49m\u001b[38;5;241;43m.\u001b[39;49m\u001b[43mcheck\u001b[49m(\u001b[38;5;124m\"\u001b[39m\u001b[38;5;124msudh\u001b[39m\u001b[38;5;124m\"\u001b[39m)\n",
      "\u001b[0;31mAttributeError\u001b[0m: 'tuple' object has no attribute 'check'"
     ]
    }
   ],
   "source": [
    "c2.check(\"sudh\")"
   ]
  },
  {
   "cell_type": "code",
   "execution_count": 117,
   "id": "a8097c03-da62-4c8b-a8cc-9186f15949c3",
   "metadata": {},
   "outputs": [
    {
     "data": {
      "text/plain": [
       "False"
      ]
     },
     "execution_count": 117,
     "metadata": {},
     "output_type": "execute_result"
    }
   ],
   "source": [
    "\"sudh \" in c2"
   ]
  },
  {
   "cell_type": "code",
   "execution_count": 118,
   "id": "4fe477eb-b971-47cb-b931-7163a1d0361a",
   "metadata": {},
   "outputs": [
    {
     "data": {
      "text/plain": [
       "True"
      ]
     },
     "execution_count": 118,
     "metadata": {},
     "output_type": "execute_result"
    }
   ],
   "source": [
    "5 in c2"
   ]
  },
  {
   "cell_type": "markdown",
   "id": "8b82e410-c44c-4b78-bb4f-3707d340e412",
   "metadata": {},
   "source": [
    "#### SETS"
   ]
  },
  {
   "cell_type": "code",
   "execution_count": 9,
   "id": "05f44099-ac47-4621-ad27-109cc5c98f7a",
   "metadata": {},
   "outputs": [],
   "source": [
    "s={}"
   ]
  },
  {
   "cell_type": "code",
   "execution_count": 10,
   "id": "00a28373-8280-4959-b0db-5adaf96154bc",
   "metadata": {},
   "outputs": [
    {
     "data": {
      "text/plain": [
       "dict"
      ]
     },
     "execution_count": 10,
     "metadata": {},
     "output_type": "execute_result"
    }
   ],
   "source": [
    "type(s)"
   ]
  },
  {
   "cell_type": "code",
   "execution_count": 6,
   "id": "7a17d684-9543-4d09-81f9-5cfb3edeeec4",
   "metadata": {},
   "outputs": [],
   "source": [
    "s1={1,2,3,45,6}"
   ]
  },
  {
   "cell_type": "code",
   "execution_count": 7,
   "id": "b66ae1e6-1e8f-4545-b90a-6409ff3bb509",
   "metadata": {},
   "outputs": [
    {
     "data": {
      "text/plain": [
       "set"
      ]
     },
     "execution_count": 7,
     "metadata": {},
     "output_type": "execute_result"
    }
   ],
   "source": [
    "type(s1)"
   ]
  },
  {
   "cell_type": "code",
   "execution_count": 11,
   "id": "7913cd6c-960a-45f3-a32e-b7fd7004735f",
   "metadata": {},
   "outputs": [],
   "source": [
    "s2={1,1,1,12,2,2,3}"
   ]
  },
  {
   "cell_type": "code",
   "execution_count": 13,
   "id": "1566fb99-c919-4a73-8060-f4329d0c663b",
   "metadata": {},
   "outputs": [
    {
     "data": {
      "text/plain": [
       "{1, 2, 3, 12}"
      ]
     },
     "execution_count": 13,
     "metadata": {},
     "output_type": "execute_result"
    }
   ],
   "source": [
    "s2### in set there is no duplicates it only stors unique elements\n"
   ]
  },
  {
   "cell_type": "code",
   "execution_count": 16,
   "id": "af909c01-30fb-45c6-b45d-0b453a82a67e",
   "metadata": {},
   "outputs": [],
   "source": [
    "l7=list(s2)"
   ]
  },
  {
   "cell_type": "code",
   "execution_count": 17,
   "id": "983883b0-e839-4404-966a-7352e14721a3",
   "metadata": {},
   "outputs": [
    {
     "data": {
      "text/plain": [
       "[1, 2, 3, 12]"
      ]
     },
     "execution_count": 17,
     "metadata": {},
     "output_type": "execute_result"
    }
   ],
   "source": [
    "l7"
   ]
  },
  {
   "cell_type": "code",
   "execution_count": 18,
   "id": "6fca4f40-8b93-4fec-bbb2-7335ce25762b",
   "metadata": {},
   "outputs": [
    {
     "data": {
      "text/plain": [
       "list"
      ]
     },
     "execution_count": 18,
     "metadata": {},
     "output_type": "execute_result"
    }
   ],
   "source": [
    "type(l7)"
   ]
  },
  {
   "cell_type": "code",
   "execution_count": 19,
   "id": "8940840e-c032-458b-b3cd-49a101d2914c",
   "metadata": {},
   "outputs": [],
   "source": [
    "t8=tuple(s2)"
   ]
  },
  {
   "cell_type": "code",
   "execution_count": 20,
   "id": "38bd0589-43bb-430a-9f9e-411103bb96b3",
   "metadata": {},
   "outputs": [
    {
     "data": {
      "text/plain": [
       "(1, 2, 3, 12)"
      ]
     },
     "execution_count": 20,
     "metadata": {},
     "output_type": "execute_result"
    }
   ],
   "source": [
    "t8"
   ]
  },
  {
   "cell_type": "code",
   "execution_count": 21,
   "id": "ae0ebb97-abe6-4939-b533-16ebbb3a3398",
   "metadata": {},
   "outputs": [
    {
     "data": {
      "text/plain": [
       "tuple"
      ]
     },
     "execution_count": 21,
     "metadata": {},
     "output_type": "execute_result"
    }
   ],
   "source": [
    "type(t8)"
   ]
  },
  {
   "cell_type": "code",
   "execution_count": 23,
   "id": "4bf4a3b5-c45a-4b94-990f-35181d7f201f",
   "metadata": {},
   "outputs": [],
   "source": [
    "f7=set(t8)"
   ]
  },
  {
   "cell_type": "code",
   "execution_count": 24,
   "id": "92f41f99-f727-4906-ab24-b1da074b67ef",
   "metadata": {},
   "outputs": [
    {
     "data": {
      "text/plain": [
       "{1, 2, 3, 12}"
      ]
     },
     "execution_count": 24,
     "metadata": {},
     "output_type": "execute_result"
    }
   ],
   "source": [
    "f7"
   ]
  },
  {
   "cell_type": "code",
   "execution_count": 27,
   "id": "19bb9100-8fbc-4bc9-a9cf-30d844fa0532",
   "metadata": {},
   "outputs": [
    {
     "data": {
      "text/plain": [
       "set"
      ]
     },
     "execution_count": 27,
     "metadata": {},
     "output_type": "execute_result"
    }
   ],
   "source": [
    "type(f7)"
   ]
  },
  {
   "cell_type": "code",
   "execution_count": 26,
   "id": "8780b9c3-653d-49fb-b9d1-e1bf2eb8f99b",
   "metadata": {},
   "outputs": [
    {
     "ename": "TypeError",
     "evalue": "unhashable type: 'list'",
     "output_type": "error",
     "traceback": [
      "\u001b[0;31m---------------------------------------------------------------------------\u001b[0m",
      "\u001b[0;31mTypeError\u001b[0m                                 Traceback (most recent call last)",
      "Cell \u001b[0;32mIn[26], line 1\u001b[0m\n\u001b[0;32m----> 1\u001b[0m \u001b[38;5;28mset\u001b[39m\u001b[38;5;241m=\u001b[39m{\u001b[38;5;241m1\u001b[39m,\u001b[38;5;241m2\u001b[39m,\u001b[38;5;241m3\u001b[39m,\u001b[38;5;241m45\u001b[39m,[\u001b[38;5;241m1\u001b[39m,\u001b[38;5;241m23\u001b[39m,\u001b[38;5;241m6\u001b[39m,\u001b[38;5;241m58\u001b[39m,\u001b[38;5;241m699\u001b[39m]}\n",
      "\u001b[0;31mTypeError\u001b[0m: unhashable type: 'list'"
     ]
    }
   ],
   "source": [
    "set={1,2,3,45,[1,23,6,58,699]}####List is not allowed "
   ]
  },
  {
   "cell_type": "code",
   "execution_count": 29,
   "id": "a7c94ce4-ad4c-4382-810f-700c1459c446",
   "metadata": {},
   "outputs": [],
   "source": [
    "set_with_tuple={1,2,3,4,56,(45,6,58,585,8,9,8,69,58)}"
   ]
  },
  {
   "cell_type": "code",
   "execution_count": 30,
   "id": "89055f16-b0de-4207-88b1-19b43b1eae5a",
   "metadata": {},
   "outputs": [
    {
     "data": {
      "text/plain": [
       "{(45, 6, 58, 585, 8, 9, 8, 69, 58), 1, 2, 3, 4, 56}"
      ]
     },
     "execution_count": 30,
     "metadata": {},
     "output_type": "execute_result"
    }
   ],
   "source": [
    "set_with_tuple"
   ]
  },
  {
   "cell_type": "code",
   "execution_count": 33,
   "id": "5f214e1d-b26b-4a13-8c1a-b1bc1fb102ea",
   "metadata": {},
   "outputs": [],
   "source": [
    "set00={\"sudh\",\"SUDH\"}"
   ]
  },
  {
   "cell_type": "code",
   "execution_count": 34,
   "id": "b25f3a47-5faa-48d0-b18e-0b039607c2aa",
   "metadata": {},
   "outputs": [
    {
     "data": {
      "text/plain": [
       "{'SUDH', 'sudh'}"
      ]
     },
     "execution_count": 34,
     "metadata": {},
     "output_type": "execute_result"
    }
   ],
   "source": [
    "set00#### it cant remove duplicate of sudh beacuse python is a case sensitive language "
   ]
  },
  {
   "cell_type": "code",
   "execution_count": 35,
   "id": "bc7102df-9184-4c69-bf39-c355d49643ff",
   "metadata": {},
   "outputs": [],
   "source": [
    "set090={\"sudh\",\"sudh\",\"SUDH\",\"SUDH\"}"
   ]
  },
  {
   "cell_type": "code",
   "execution_count": 36,
   "id": "fcf852ce-1544-4ce3-bdd2-b5b300992b18",
   "metadata": {},
   "outputs": [
    {
     "data": {
      "text/plain": [
       "{'SUDH', 'sudh'}"
      ]
     },
     "execution_count": 36,
     "metadata": {},
     "output_type": "execute_result"
    }
   ],
   "source": [
    "set090"
   ]
  },
  {
   "cell_type": "code",
   "execution_count": 38,
   "id": "e7e4bbe7-8444-415a-a299-a054a6cbde64",
   "metadata": {},
   "outputs": [
    {
     "data": {
      "text/plain": [
       "{1, 2, 3, 6, 45}"
      ]
     },
     "execution_count": 38,
     "metadata": {},
     "output_type": "execute_result"
    }
   ],
   "source": [
    "s1"
   ]
  },
  {
   "cell_type": "code",
   "execution_count": 41,
   "id": "0eeaacb0-0f9c-4225-9410-574360c9064c",
   "metadata": {},
   "outputs": [
    {
     "ename": "TypeError",
     "evalue": "'set' object is not subscriptable",
     "output_type": "error",
     "traceback": [
      "\u001b[0;31m---------------------------------------------------------------------------\u001b[0m",
      "\u001b[0;31mTypeError\u001b[0m                                 Traceback (most recent call last)",
      "Cell \u001b[0;32mIn[41], line 1\u001b[0m\n\u001b[0;32m----> 1\u001b[0m \u001b[43ms1\u001b[49m\u001b[43m[\u001b[49m\u001b[38;5;241;43m0\u001b[39;49m\u001b[43m]\u001b[49m\u001b[38;5;66;03m##does not works for index  ##if you want to do that the convert into list or tuple and do it\u001b[39;00m\n",
      "\u001b[0;31mTypeError\u001b[0m: 'set' object is not subscriptable"
     ]
    }
   ],
   "source": [
    "s1[0]##does not works for index  ##if you want to do that the convert into list or tuple and do it"
   ]
  },
  {
   "cell_type": "code",
   "execution_count": 42,
   "id": "889e4ce8-9e37-48f4-92cb-17ef1306e388",
   "metadata": {},
   "outputs": [
    {
     "ename": "TypeError",
     "evalue": "'set' object is not subscriptable",
     "output_type": "error",
     "traceback": [
      "\u001b[0;31m---------------------------------------------------------------------------\u001b[0m",
      "\u001b[0;31mTypeError\u001b[0m                                 Traceback (most recent call last)",
      "Cell \u001b[0;32mIn[42], line 1\u001b[0m\n\u001b[0;32m----> 1\u001b[0m \u001b[43ms1\u001b[49m\u001b[43m[\u001b[49m\u001b[43m:\u001b[49m\u001b[43m:\u001b[49m\u001b[38;5;241;43m-\u001b[39;49m\u001b[38;5;241;43m1\u001b[39;49m\u001b[43m]\u001b[49m\u001b[38;5;66;03m####does not work for splicing opertion \u001b[39;00m\n",
      "\u001b[0;31mTypeError\u001b[0m: 'set' object is not subscriptable"
     ]
    }
   ],
   "source": [
    "s1[::-1]####does not work for splicing opertion "
   ]
  },
  {
   "cell_type": "code",
   "execution_count": 43,
   "id": "3ca32135-f6d3-41a2-ab9c-5ecb905bd6bf",
   "metadata": {},
   "outputs": [
    {
     "data": {
      "text/plain": [
       "{1, 2, 3, 12}"
      ]
     },
     "execution_count": 43,
     "metadata": {},
     "output_type": "execute_result"
    }
   ],
   "source": [
    "s2"
   ]
  },
  {
   "cell_type": "code",
   "execution_count": 44,
   "id": "bbe1242b-c87e-43b4-933e-63612ea991d3",
   "metadata": {},
   "outputs": [
    {
     "name": "stdout",
     "output_type": "stream",
     "text": [
      "1\n",
      "2\n",
      "3\n",
      "12\n"
     ]
    }
   ],
   "source": [
    "for i in s2:\n",
    "    print(i)"
   ]
  },
  {
   "cell_type": "code",
   "execution_count": 48,
   "id": "a54a3bb5-3290-47d8-ad6f-6662f09f066d",
   "metadata": {},
   "outputs": [],
   "source": [
    "s2.add(5666)###Only add one element at one time"
   ]
  },
  {
   "cell_type": "code",
   "execution_count": 47,
   "id": "8fb98553-88b9-488b-82ef-e714e49d9147",
   "metadata": {},
   "outputs": [
    {
     "data": {
      "text/plain": [
       "{1, 2, 3, 12, 5666}"
      ]
     },
     "execution_count": 47,
     "metadata": {},
     "output_type": "execute_result"
    }
   ],
   "source": [
    "s2"
   ]
  },
  {
   "cell_type": "code",
   "execution_count": 49,
   "id": "5686c740-fe28-4038-8bef-11561f790c37",
   "metadata": {},
   "outputs": [],
   "source": [
    "s6={1,2,3,589,9,5,5,6,2,6,1,32,15,6,2,3,5,6}"
   ]
  },
  {
   "cell_type": "code",
   "execution_count": 54,
   "id": "0f5dc517-1279-4415-90eb-a41b01c15f34",
   "metadata": {},
   "outputs": [
    {
     "data": {
      "text/plain": [
       "3"
      ]
     },
     "execution_count": 54,
     "metadata": {},
     "output_type": "execute_result"
    }
   ],
   "source": [
    "s6.pop()#### pop removes elemets in sets\n"
   ]
  },
  {
   "cell_type": "code",
   "execution_count": 51,
   "id": "821a0f8b-9061-4280-9e1c-0eab6cd335c6",
   "metadata": {},
   "outputs": [
    {
     "data": {
      "text/plain": [
       "{1, 2, 3, 5, 6, 9, 15, 589}"
      ]
     },
     "execution_count": 51,
     "metadata": {},
     "output_type": "execute_result"
    }
   ],
   "source": [
    "s6"
   ]
  },
  {
   "cell_type": "code",
   "execution_count": 52,
   "id": "0ad39c25-038a-487a-abe2-30a08f08337b",
   "metadata": {},
   "outputs": [
    {
     "data": {
      "text/plain": [
       "1"
      ]
     },
     "execution_count": 52,
     "metadata": {},
     "output_type": "execute_result"
    }
   ],
   "source": [
    "s6.pop()"
   ]
  },
  {
   "cell_type": "code",
   "execution_count": 53,
   "id": "4d812a6a-93eb-417e-ad4e-07941554c7e9",
   "metadata": {},
   "outputs": [
    {
     "data": {
      "text/plain": [
       "2"
      ]
     },
     "execution_count": 53,
     "metadata": {},
     "output_type": "execute_result"
    }
   ],
   "source": [
    "s6.pop()"
   ]
  },
  {
   "cell_type": "code",
   "execution_count": 55,
   "id": "312d0b9a-605f-4c8e-abd8-c6efb307bed9",
   "metadata": {},
   "outputs": [],
   "source": [
    "s6.clear()"
   ]
  },
  {
   "cell_type": "code",
   "execution_count": 56,
   "id": "e8bb5d50-4dcf-4b22-9500-6b28b6ab4a92",
   "metadata": {},
   "outputs": [
    {
     "data": {
      "text/plain": [
       "set()"
      ]
     },
     "execution_count": 56,
     "metadata": {},
     "output_type": "execute_result"
    }
   ],
   "source": [
    "s6"
   ]
  },
  {
   "cell_type": "code",
   "execution_count": 57,
   "id": "392ad3a1-f9c5-4c9d-a82c-a3b6a3602ea2",
   "metadata": {},
   "outputs": [],
   "source": [
    "g8={1,2,3,5}\n",
    "g9={1,2,3,4}"
   ]
  },
  {
   "cell_type": "code",
   "execution_count": 58,
   "id": "5643f922-7b51-4c4c-9c6c-1a233c525735",
   "metadata": {},
   "outputs": [
    {
     "data": {
      "text/plain": [
       "{4}"
      ]
     },
     "execution_count": 58,
     "metadata": {},
     "output_type": "execute_result"
    }
   ],
   "source": [
    "g9.difference(g8)"
   ]
  },
  {
   "cell_type": "code",
   "execution_count": 59,
   "id": "9639e719-227d-461f-9aec-84e948aaebb9",
   "metadata": {},
   "outputs": [
    {
     "data": {
      "text/plain": [
       "{5}"
      ]
     },
     "execution_count": 59,
     "metadata": {},
     "output_type": "execute_result"
    }
   ],
   "source": [
    "g8.difference(g9)"
   ]
  },
  {
   "cell_type": "markdown",
   "id": "616b6399-d0b9-4187-ab4c-47dfd9cc3e40",
   "metadata": {},
   "source": [
    "##Dictionary"
   ]
  },
  {
   "cell_type": "code",
   "execution_count": 9,
   "id": "da8ca24f-1fce-48b7-9321-aae5796d73d0",
   "metadata": {},
   "outputs": [],
   "source": [
    "d={\"key\":\"value\"}"
   ]
  },
  {
   "cell_type": "code",
   "execution_count": 10,
   "id": "839fe155-bad7-4504-b226-0d9e04114bb3",
   "metadata": {},
   "outputs": [
    {
     "data": {
      "text/plain": [
       "dict"
      ]
     },
     "execution_count": 10,
     "metadata": {},
     "output_type": "execute_result"
    }
   ],
   "source": [
    "type(d)"
   ]
  },
  {
   "cell_type": "code",
   "execution_count": 11,
   "id": "71b9a27f-2852-4d7c-b5d5-8535ebf0d3c3",
   "metadata": {},
   "outputs": [],
   "source": [
    "d1={\"name\":\"namit\",\"email\":\"namitchaudhari@123gmail.com\",\"number\":9623127245}"
   ]
  },
  {
   "cell_type": "code",
   "execution_count": 12,
   "id": "cafdf4e3-1354-4fc4-b14a-010bc7d1bc13",
   "metadata": {},
   "outputs": [
    {
     "data": {
      "text/plain": [
       "{'name': 'namit', 'email': 'namitchaudhari@123gmail.com', 'number': 9623127245}"
      ]
     },
     "execution_count": 12,
     "metadata": {},
     "output_type": "execute_result"
    }
   ],
   "source": [
    "d1"
   ]
  },
  {
   "cell_type": "code",
   "execution_count": 13,
   "id": "ab57ecb6-3482-4354-b34b-41b344e1a1c4",
   "metadata": {},
   "outputs": [],
   "source": [
    "d2={\"name\":\"namit\",\"name\":\"sunil\"}"
   ]
  },
  {
   "cell_type": "code",
   "execution_count": 14,
   "id": "f6ae24dc-81ea-4ed1-95a3-d5afbddb6d10",
   "metadata": {},
   "outputs": [
    {
     "data": {
      "text/plain": [
       "{'name': 'sunil'}"
      ]
     },
     "execution_count": 14,
     "metadata": {},
     "output_type": "execute_result"
    }
   ],
   "source": [
    "d2##it returns the newest value"
   ]
  },
  {
   "cell_type": "code",
   "execution_count": 17,
   "id": "7081f162-ed3d-4e71-8d94-48f680b57868",
   "metadata": {},
   "outputs": [],
   "source": [
    "d3={566352:\"name\",4965320.5965432:\"whdisj\",True:\"wjqoadkspl\"}## it accepsts int , float,boolen no i.e. TRUE "
   ]
  },
  {
   "cell_type": "code",
   "execution_count": 18,
   "id": "711ecaf0-3256-44b5-aea5-1646fd75cf1f",
   "metadata": {},
   "outputs": [
    {
     "data": {
      "text/plain": [
       "{566352: 'name', 4965320.5965432: 'whdisj', True: 'wjqoadkspl'}"
      ]
     },
     "execution_count": 18,
     "metadata": {},
     "output_type": "execute_result"
    }
   ],
   "source": [
    "d3"
   ]
  },
  {
   "cell_type": "code",
   "execution_count": 21,
   "id": "0692b7ef-1f9b-4846-b7d0-9543c9d0c2ce",
   "metadata": {},
   "outputs": [
    {
     "ename": "SyntaxError",
     "evalue": "invalid syntax (1806602173.py, line 1)",
     "output_type": "error",
     "traceback": [
      "\u001b[0;36m  Cell \u001b[0;32mIn[21], line 1\u001b[0;36m\u001b[0m\n\u001b[0;31m    d4={@:\"ifeodsxl;\"}###key or value can not be a special characters\u001b[0m\n\u001b[0m        ^\u001b[0m\n\u001b[0;31mSyntaxError\u001b[0m\u001b[0;31m:\u001b[0m invalid syntax\n"
     ]
    }
   ],
   "source": [
    "d4={@:\"ifeodsxl;\"}###key  can not be a special characters "
   ]
  },
  {
   "cell_type": "code",
   "execution_count": 22,
   "id": "30a29a06-f108-4892-9b9b-36fed6a319f3",
   "metadata": {},
   "outputs": [
    {
     "ename": "SyntaxError",
     "evalue": "invalid syntax (190717904.py, line 1)",
     "output_type": "error",
     "traceback": [
      "\u001b[0;36m  Cell \u001b[0;32mIn[22], line 1\u001b[0;36m\u001b[0m\n\u001b[0;31m    d5={\"dwdsjiacxm\":@}\u001b[0m\n\u001b[0m                     ^\u001b[0m\n\u001b[0;31mSyntaxError\u001b[0m\u001b[0;31m:\u001b[0m invalid syntax\n"
     ]
    }
   ],
   "source": [
    "d5={\"dwdsjiacxm\":@}"
   ]
  },
  {
   "cell_type": "code",
   "execution_count": 24,
   "id": "ebc6a6f5-315d-4ff3-a3ed-119ad0bdbbd5",
   "metadata": {},
   "outputs": [
    {
     "ename": "TypeError",
     "evalue": "unhashable type: 'list'",
     "output_type": "error",
     "traceback": [
      "\u001b[0;31m---------------------------------------------------------------------------\u001b[0m",
      "\u001b[0;31mTypeError\u001b[0m                                 Traceback (most recent call last)",
      "Cell \u001b[0;32mIn[24], line 1\u001b[0m\n\u001b[0;32m----> 1\u001b[0m d6\u001b[38;5;241m=\u001b[39m{[\u001b[38;5;241m1\u001b[39m,\u001b[38;5;241m2\u001b[39m,\u001b[38;5;241m3\u001b[39m,\u001b[38;5;241m4\u001b[39m]:\u001b[38;5;124m\"\u001b[39m\u001b[38;5;124mjdwqiopa\u001b[39m\u001b[38;5;124m\"\u001b[39m}\u001b[38;5;66;03m####key or value can not be a List\u001b[39;00m\n",
      "\u001b[0;31mTypeError\u001b[0m: unhashable type: 'list'"
     ]
    }
   ],
   "source": [
    "d6={[1,2,3,4]:\"jdwqiopa\"}####key  can not be a List"
   ]
  },
  {
   "cell_type": "code",
   "execution_count": 25,
   "id": "e257dfb2-b361-4421-be6f-93bfa5f14fdb",
   "metadata": {},
   "outputs": [],
   "source": [
    "d7={(1,2,3,4,5):\"jdposak\"}####key can  be a tuple"
   ]
  },
  {
   "cell_type": "code",
   "execution_count": 26,
   "id": "9d562aa4-a3a5-4e98-aebc-609fff343d06",
   "metadata": {},
   "outputs": [
    {
     "data": {
      "text/plain": [
       "{(1, 2, 3, 4, 5): 'jdposak'}"
      ]
     },
     "execution_count": 26,
     "metadata": {},
     "output_type": "execute_result"
    }
   ],
   "source": [
    "d7"
   ]
  },
  {
   "cell_type": "code",
   "execution_count": 27,
   "id": "ef6b8047-b5fa-4ff8-a7ac-1993f850adf5",
   "metadata": {},
   "outputs": [
    {
     "ename": "TypeError",
     "evalue": "unhashable type: 'set'",
     "output_type": "error",
     "traceback": [
      "\u001b[0;31m---------------------------------------------------------------------------\u001b[0m",
      "\u001b[0;31mTypeError\u001b[0m                                 Traceback (most recent call last)",
      "Cell \u001b[0;32mIn[27], line 1\u001b[0m\n\u001b[0;32m----> 1\u001b[0m d8\u001b[38;5;241m=\u001b[39m{{\u001b[38;5;241m1\u001b[39m,\u001b[38;5;241m2\u001b[39m,\u001b[38;5;241m2\u001b[39m,\u001b[38;5;241m3\u001b[39m,\u001b[38;5;241m3\u001b[39m,\u001b[38;5;241m4\u001b[39m}:\u001b[38;5;124m\"\u001b[39m\u001b[38;5;124mhduqak\u001b[39m\u001b[38;5;124m\"\u001b[39m}\n",
      "\u001b[0;31mTypeError\u001b[0m: unhashable type: 'set'"
     ]
    }
   ],
   "source": [
    "d8={{1,2,2,3,3,4}:\"hduqak\"}#####key or value can not be a SET"
   ]
  },
  {
   "cell_type": "code",
   "execution_count": 28,
   "id": "44d2ce43-5eae-40fd-a7d1-1d9350c41471",
   "metadata": {},
   "outputs": [
    {
     "ename": "TypeError",
     "evalue": "unhashable type: 'dict'",
     "output_type": "error",
     "traceback": [
      "\u001b[0;31m---------------------------------------------------------------------------\u001b[0m",
      "\u001b[0;31mTypeError\u001b[0m                                 Traceback (most recent call last)",
      "Cell \u001b[0;32mIn[28], line 1\u001b[0m\n\u001b[0;32m----> 1\u001b[0m d9\u001b[38;5;241m=\u001b[39m{{\u001b[38;5;124m\"\u001b[39m\u001b[38;5;124mkey\u001b[39m\u001b[38;5;124m\"\u001b[39m:\u001b[38;5;241m556\u001b[39m}:\u001b[38;5;241m65963\u001b[39m}\n",
      "\u001b[0;31mTypeError\u001b[0m: unhashable type: 'dict'"
     ]
    }
   ],
   "source": [
    "d9={{\"key\":556}:65963}###key can not be a Dictonary"
   ]
  },
  {
   "cell_type": "markdown",
   "id": "9fd8ffe5-1bfa-4562-9809-79f15b2961e7",
   "metadata": {},
   "source": [
    "##Value"
   ]
  },
  {
   "cell_type": "code",
   "execution_count": 30,
   "id": "25182ed4-e0f6-4276-bd05-fb42f9cae449",
   "metadata": {},
   "outputs": [],
   "source": [
    "d10={\"course_name\":[\"data science masters\",\"web dev\",\"java design\"]}"
   ]
  },
  {
   "cell_type": "code",
   "execution_count": 31,
   "id": "7dcca3cb-f826-4452-bbf8-042bed780ca3",
   "metadata": {},
   "outputs": [
    {
     "data": {
      "text/plain": [
       "{'course_name': ['data science masters', 'web dev', 'java design']}"
      ]
     },
     "execution_count": 31,
     "metadata": {},
     "output_type": "execute_result"
    }
   ],
   "source": [
    "d10### VALUE can be a list "
   ]
  },
  {
   "cell_type": "code",
   "execution_count": 32,
   "id": "9e74d508-187e-4468-b190-c5f6010ba058",
   "metadata": {},
   "outputs": [],
   "source": [
    "d11={\"key\":(1,2,3,4,5)}"
   ]
  },
  {
   "cell_type": "code",
   "execution_count": 34,
   "id": "6747ecca-30c6-4b24-9f3a-b8bf1ba6714b",
   "metadata": {},
   "outputs": [
    {
     "data": {
      "text/plain": [
       "{'key': (1, 2, 3, 4, 5)}"
      ]
     },
     "execution_count": 34,
     "metadata": {},
     "output_type": "execute_result"
    }
   ],
   "source": [
    "d11### VALUE can be a TUPLE"
   ]
  },
  {
   "cell_type": "code",
   "execution_count": 35,
   "id": "51563baa-4ef1-458f-a865-d5d85551fb38",
   "metadata": {},
   "outputs": [],
   "source": [
    "d12={\"key\":{1,2,3,4,5,6}}"
   ]
  },
  {
   "cell_type": "code",
   "execution_count": 37,
   "id": "a3ef0fdf-298d-4f0e-91b0-8251f7571bbc",
   "metadata": {},
   "outputs": [
    {
     "data": {
      "text/plain": [
       "{'key': {1, 2, 3, 4, 5, 6}}"
      ]
     },
     "execution_count": 37,
     "metadata": {},
     "output_type": "execute_result"
    }
   ],
   "source": [
    "d12###VALUE can be a set"
   ]
  },
  {
   "cell_type": "code",
   "execution_count": 38,
   "id": "a80d86bf-2c4b-4d0b-a87f-2ae78212eb95",
   "metadata": {},
   "outputs": [],
   "source": [
    "d13={\"manhg\":{\"key\":\"value\"}}"
   ]
  },
  {
   "cell_type": "code",
   "execution_count": 41,
   "id": "9a7137bf-fffa-47a5-ae39-3f78f2ccefe4",
   "metadata": {},
   "outputs": [
    {
     "data": {
      "text/plain": [
       "{'manhg': {'key': 'value'}}"
      ]
     },
     "execution_count": 41,
     "metadata": {},
     "output_type": "execute_result"
    }
   ],
   "source": [
    "d13 ###VALUE can be a dic"
   ]
  },
  {
   "cell_type": "code",
   "execution_count": 16,
   "id": "223d6960-3c6a-4219-9562-84d9b851c63d",
   "metadata": {},
   "outputs": [],
   "source": [
    "d14={\"batch name\":[\"data science masters\",\"web dev\",\"java design\"],\"start date\":(28,14,21),\"mentor name\":{\"krish\",\"sudhanshu\",\"anurag\",\"navin\",\"harder\"}}"
   ]
  },
  {
   "cell_type": "code",
   "execution_count": 17,
   "id": "18704b00-f6d1-46e3-991a-7283081dd829",
   "metadata": {},
   "outputs": [
    {
     "data": {
      "text/plain": [
       "{'batch name': ['data science masters', 'web dev', 'java design'],\n",
       " 'start date': (28, 14, 21),\n",
       " 'mentor name': {'anurag', 'harder', 'krish', 'navin', 'sudhanshu'}}"
      ]
     },
     "execution_count": 17,
     "metadata": {},
     "output_type": "execute_result"
    }
   ],
   "source": [
    "d14"
   ]
  },
  {
   "cell_type": "code",
   "execution_count": 46,
   "id": "8d9689eb-144b-400c-8283-884225405fc6",
   "metadata": {},
   "outputs": [],
   "source": [
    "d15={\"batch name\":[\"data science masters\",\"web dev\",\"java design\"],\"start date\":(28,14,21),\"mentor name\":{(\"krish\",\"sudhanshu\"),(\"anurag\",\"navin\"),\"harder\"}}"
   ]
  },
  {
   "cell_type": "code",
   "execution_count": 47,
   "id": "5da22731-d230-4db6-9528-3d5ee546c2f1",
   "metadata": {},
   "outputs": [
    {
     "data": {
      "text/plain": [
       "{'batch name': ['data science masters', 'web dev', 'java design'],\n",
       " 'start date': (28, 14, 21),\n",
       " 'mentor name': {('anurag', 'navin'), ('krish', 'sudhanshu'), 'harder'}}"
      ]
     },
     "execution_count": 47,
     "metadata": {},
     "output_type": "execute_result"
    }
   ],
   "source": [
    "d15"
   ]
  },
  {
   "cell_type": "markdown",
   "id": "a53699a3-41bd-411c-80f3-3c78ab03a63d",
   "metadata": {},
   "source": [
    "###ADDING a key and value in dic"
   ]
  },
  {
   "cell_type": "code",
   "execution_count": 52,
   "id": "1f9b9813-c9b2-451b-8ee4-122b08341026",
   "metadata": {},
   "outputs": [],
   "source": [
    "d15[\"timing\"]=(8,8,8)###if key is same the it will update value"
   ]
  },
  {
   "cell_type": "code",
   "execution_count": 53,
   "id": "e8298165-8e6c-4ba5-9e10-d70028b74731",
   "metadata": {},
   "outputs": [
    {
     "data": {
      "text/plain": [
       "{'batch name': ['data science masters', 'web dev', 'java design'],\n",
       " 'start date': (28, 14, 21),\n",
       " 'mentor name': {('anurag', 'navin'), ('krish', 'sudhanshu'), 'harder'},\n",
       " 'timing': (8, 8, 8)}"
      ]
     },
     "execution_count": 53,
     "metadata": {},
     "output_type": "execute_result"
    }
   ],
   "source": [
    "d15"
   ]
  },
  {
   "cell_type": "code",
   "execution_count": 55,
   "id": "68b0fa55-2aaf-4f6a-bb9f-8d3d6edc88d0",
   "metadata": {},
   "outputs": [
    {
     "data": {
      "text/plain": [
       "['data science masters', 'web dev', 'java design']"
      ]
     },
     "execution_count": 55,
     "metadata": {},
     "output_type": "execute_result"
    }
   ],
   "source": [
    "d15[\"batch name\"]###search by key"
   ]
  },
  {
   "cell_type": "code",
   "execution_count": 56,
   "id": "a497c9b5-7f12-485e-b567-9022419bdc44",
   "metadata": {},
   "outputs": [
    {
     "ename": "KeyError",
     "evalue": "'hqadijx'",
     "output_type": "error",
     "traceback": [
      "\u001b[0;31m---------------------------------------------------------------------------\u001b[0m",
      "\u001b[0;31mKeyError\u001b[0m                                  Traceback (most recent call last)",
      "Cell \u001b[0;32mIn[56], line 1\u001b[0m\n\u001b[0;32m----> 1\u001b[0m \u001b[43md15\u001b[49m\u001b[43m[\u001b[49m\u001b[38;5;124;43m\"\u001b[39;49m\u001b[38;5;124;43mhqadijx\u001b[39;49m\u001b[38;5;124;43m\"\u001b[39;49m\u001b[43m]\u001b[49m\n",
      "\u001b[0;31mKeyError\u001b[0m: 'hqadijx'"
     ]
    }
   ],
   "source": [
    "d15[\"hqadijx\"]####if key is not in a dic"
   ]
  },
  {
   "cell_type": "code",
   "execution_count": 57,
   "id": "4826e155-10d9-4673-97bd-dda39957a3d0",
   "metadata": {},
   "outputs": [],
   "source": [
    "d15[\"name\"]=\"namit\""
   ]
  },
  {
   "cell_type": "code",
   "execution_count": 58,
   "id": "de0c13cb-ca7e-4a97-8178-21e2d7a51e67",
   "metadata": {},
   "outputs": [
    {
     "data": {
      "text/plain": [
       "{'batch name': ['data science masters', 'web dev', 'java design'],\n",
       " 'start date': (28, 14, 21),\n",
       " 'mentor name': {('anurag', 'navin'), ('krish', 'sudhanshu'), 'harder'},\n",
       " 'timing': (8, 8, 8),\n",
       " 'name': 'namit'}"
      ]
     },
     "execution_count": 58,
     "metadata": {},
     "output_type": "execute_result"
    }
   ],
   "source": [
    "d15"
   ]
  },
  {
   "cell_type": "code",
   "execution_count": 61,
   "id": "335cab1f-6239-405c-b40d-36f26732ac31",
   "metadata": {},
   "outputs": [
    {
     "data": {
      "text/plain": [
       "'NAMIT'"
      ]
     },
     "execution_count": 61,
     "metadata": {},
     "output_type": "execute_result"
    }
   ],
   "source": [
    "d15[\"name\"].upper()####Output will be in  upper case"
   ]
  },
  {
   "cell_type": "code",
   "execution_count": 63,
   "id": "e459bb72-34e3-4a8a-91c6-e88ddf5d0619",
   "metadata": {},
   "outputs": [
    {
     "data": {
      "text/plain": [
       "{'manhg': {'key': 'value'}}"
      ]
     },
     "execution_count": 63,
     "metadata": {},
     "output_type": "execute_result"
    }
   ],
   "source": [
    "d13"
   ]
  },
  {
   "cell_type": "code",
   "execution_count": 78,
   "id": "1cf02895-68a8-4f58-9857-8e0bae90135c",
   "metadata": {},
   "outputs": [],
   "source": [
    "d16={\"key\":{\"name\":\"namit\",\"class\":\"dsm\"}}"
   ]
  },
  {
   "cell_type": "code",
   "execution_count": 79,
   "id": "b4ab0fa5-860a-4dc4-8161-0cd667954acc",
   "metadata": {},
   "outputs": [
    {
     "data": {
      "text/plain": [
       "{'key': {'name': 'namit', 'class': 'dsm'}}"
      ]
     },
     "execution_count": 79,
     "metadata": {},
     "output_type": "execute_result"
    }
   ],
   "source": [
    "d16"
   ]
  },
  {
   "cell_type": "markdown",
   "id": "69c96140-8e42-44dd-a2fa-ccdd4e8786bd",
   "metadata": {},
   "source": [
    "### we try to extract dsm"
   ]
  },
  {
   "cell_type": "code",
   "execution_count": 80,
   "id": "4dd64a86-9c2c-48c3-a2b4-3c3c3b6aa2d3",
   "metadata": {},
   "outputs": [
    {
     "data": {
      "text/plain": [
       "'dsm'"
      ]
     },
     "execution_count": 80,
     "metadata": {},
     "output_type": "execute_result"
    }
   ],
   "source": [
    "d16[\"key\"]['class']"
   ]
  },
  {
   "cell_type": "code",
   "execution_count": 81,
   "id": "689aec31-12e6-4762-9dd2-b217258c78ee",
   "metadata": {},
   "outputs": [
    {
     "data": {
      "text/plain": [
       "{'key': {'name': 'namit', 'class': 'dsm'}}"
      ]
     },
     "execution_count": 81,
     "metadata": {},
     "output_type": "execute_result"
    }
   ],
   "source": [
    "d16"
   ]
  },
  {
   "cell_type": "code",
   "execution_count": 82,
   "id": "fd75cfc1-dbbc-4900-a6ad-657ca7fde702",
   "metadata": {},
   "outputs": [],
   "source": [
    "d16[\"time\"]=8"
   ]
  },
  {
   "cell_type": "code",
   "execution_count": null,
   "id": "00e0ddb6-ed24-4080-93f9-c19501a099a7",
   "metadata": {},
   "outputs": [
    {
     "ename": "NameError",
     "evalue": "name 'd16' is not defined",
     "output_type": "error",
     "traceback": [
      "\u001b[0;31m---------------------------------------------------------------------------\u001b[0m",
      "\u001b[0;31mNameError\u001b[0m                                 Traceback (most recent call last)",
      "Cell \u001b[0;32mIn[15], line 1\u001b[0m\n\u001b[0;32m----> 1\u001b[0m \u001b[43md16\u001b[49m\n",
      "\u001b[0;31mNameError\u001b[0m: name 'd16' is not defined"
     ]
    }
   ],
   "source": [
    "d16"
   ]
  },
  {
   "cell_type": "code",
   "execution_count": 84,
   "id": "10a0f9a2-e2a8-4094-a62d-206328dc46f3",
   "metadata": {},
   "outputs": [],
   "source": [
    "del d16[\"time\"]"
   ]
  },
  {
   "cell_type": "code",
   "execution_count": 85,
   "id": "940a1d3c-4e0d-4bf8-aae3-4bbbffac48cc",
   "metadata": {},
   "outputs": [
    {
     "data": {
      "text/plain": [
       "{'key': {'name': 'namit', 'class': 'dsm'}}"
      ]
     },
     "execution_count": 85,
     "metadata": {},
     "output_type": "execute_result"
    }
   ],
   "source": [
    "d16"
   ]
  },
  {
   "cell_type": "code",
   "execution_count": 87,
   "id": "f04c776c-5ad7-4811-aecc-fa087b6f2f43",
   "metadata": {},
   "outputs": [
    {
     "data": {
      "text/plain": [
       "{'name': 'namit', 'email': 'namitchaudhari@123gmail.com', 'number': 9623127245}"
      ]
     },
     "execution_count": 87,
     "metadata": {},
     "output_type": "execute_result"
    }
   ],
   "source": [
    "d1"
   ]
  },
  {
   "cell_type": "code",
   "execution_count": 90,
   "id": "75fa2e09-c1ee-4d79-b26b-fac31b68cdbb",
   "metadata": {},
   "outputs": [],
   "source": [
    "d1.clear()###it clears the entire dic"
   ]
  },
  {
   "cell_type": "code",
   "execution_count": 91,
   "id": "ec3c2875-b84b-4d71-91f1-1a974fb67272",
   "metadata": {},
   "outputs": [
    {
     "data": {
      "text/plain": [
       "{}"
      ]
     },
     "execution_count": 91,
     "metadata": {},
     "output_type": "execute_result"
    }
   ],
   "source": [
    "d1"
   ]
  },
  {
   "cell_type": "code",
   "execution_count": 92,
   "id": "6b4b67ea-f34d-4e2b-839d-abbeafa1f6a0",
   "metadata": {},
   "outputs": [
    {
     "data": {
      "text/plain": [
       "{'name': 'sunil'}"
      ]
     },
     "execution_count": 92,
     "metadata": {},
     "output_type": "execute_result"
    }
   ],
   "source": [
    "d2"
   ]
  },
  {
   "cell_type": "code",
   "execution_count": null,
   "id": "828bb98a-b618-492a-a3f2-ea35507c10a0",
   "metadata": {},
   "outputs": [],
   "source": []
  },
  {
   "cell_type": "code",
   "execution_count": null,
   "id": "38b653c4-65c9-4307-854a-b4b2bac6706b",
   "metadata": {},
   "outputs": [],
   "source": []
  },
  {
   "cell_type": "code",
   "execution_count": 100,
   "id": "a8ae781b-23ff-470a-9890-0efec97e7426",
   "metadata": {},
   "outputs": [
    {
     "data": {
      "text/plain": [
       "{'batch name': ['data science masters', 'web dev', 'java design'],\n",
       " 'start date': (28, 14, 21),\n",
       " 'mentor name': {('anurag', 'navin'), ('krish', 'sudhanshu'), 'harder'},\n",
       " 'timing': (8, 8, 8),\n",
       " 'name': 'namit'}"
      ]
     },
     "execution_count": 100,
     "metadata": {},
     "output_type": "execute_result"
    }
   ],
   "source": [
    "d15"
   ]
  },
  {
   "cell_type": "code",
   "execution_count": 95,
   "id": "c3c3761e-9173-46b5-8c1d-5ebca289d226",
   "metadata": {},
   "outputs": [
    {
     "data": {
      "text/plain": [
       "5"
      ]
     },
     "execution_count": 95,
     "metadata": {},
     "output_type": "execute_result"
    }
   ],
   "source": [
    "len(d15)###it returns a sets of key and value"
   ]
  },
  {
   "cell_type": "code",
   "execution_count": 98,
   "id": "bf3b0c8e-ff44-4b71-9186-de067cca45b4",
   "metadata": {},
   "outputs": [
    {
     "data": {
      "text/plain": [
       "dict_keys(['batch name', 'start date', 'mentor name', 'timing', 'name'])"
      ]
     },
     "execution_count": 98,
     "metadata": {},
     "output_type": "execute_result"
    }
   ],
   "source": [
    "d15.keys()"
   ]
  },
  {
   "cell_type": "code",
   "execution_count": 101,
   "id": "9c3f247f-1f83-48f5-9829-86d764dd35c1",
   "metadata": {},
   "outputs": [
    {
     "data": {
      "text/plain": [
       "dict_values([['data science masters', 'web dev', 'java design'], (28, 14, 21), {('krish', 'sudhanshu'), ('anurag', 'navin'), 'harder'}, (8, 8, 8), 'namit'])"
      ]
     },
     "execution_count": 101,
     "metadata": {},
     "output_type": "execute_result"
    }
   ],
   "source": [
    "d15.values()"
   ]
  },
  {
   "cell_type": "code",
   "execution_count": 103,
   "id": "271f97a7-ca0b-4ea2-bdc8-26f8a5f1186d",
   "metadata": {},
   "outputs": [
    {
     "data": {
      "text/plain": [
       "[['data science masters', 'web dev', 'java design'],\n",
       " (28, 14, 21),\n",
       " {('anurag', 'navin'), ('krish', 'sudhanshu'), 'harder'},\n",
       " (8, 8, 8),\n",
       " 'namit']"
      ]
     },
     "execution_count": 103,
     "metadata": {},
     "output_type": "execute_result"
    }
   ],
   "source": [
    "list(d15.values())###creates a list of outcome"
   ]
  },
  {
   "cell_type": "code",
   "execution_count": 104,
   "id": "6e70acf9-bdc3-4953-b19f-545cbd9a7047",
   "metadata": {},
   "outputs": [
    {
     "data": {
      "text/plain": [
       "['batch name', 'start date', 'mentor name', 'timing', 'name']"
      ]
     },
     "execution_count": 104,
     "metadata": {},
     "output_type": "execute_result"
    }
   ],
   "source": [
    "list(d15.keys())"
   ]
  },
  {
   "cell_type": "code",
   "execution_count": 105,
   "id": "21ba2592-f2ea-4f6f-8e27-6d9b72548573",
   "metadata": {},
   "outputs": [
    {
     "data": {
      "text/plain": [
       "[('batch name', ['data science masters', 'web dev', 'java design']),\n",
       " ('start date', (28, 14, 21)),\n",
       " ('mentor name', {('anurag', 'navin'), ('krish', 'sudhanshu'), 'harder'}),\n",
       " ('timing', (8, 8, 8)),\n",
       " ('name', 'namit')]"
      ]
     },
     "execution_count": 105,
     "metadata": {},
     "output_type": "execute_result"
    }
   ],
   "source": [
    "list(d15.items())###gives keys and values\n"
   ]
  },
  {
   "cell_type": "code",
   "execution_count": 106,
   "id": "40353a46-2af8-4708-b2d9-743bb16e2346",
   "metadata": {},
   "outputs": [
    {
     "data": {
      "text/plain": [
       "dict_items([('batch name', ['data science masters', 'web dev', 'java design']), ('start date', (28, 14, 21)), ('mentor name', {('krish', 'sudhanshu'), ('anurag', 'navin'), 'harder'}), ('timing', (8, 8, 8)), ('name', 'namit')])"
      ]
     },
     "execution_count": 106,
     "metadata": {},
     "output_type": "execute_result"
    }
   ],
   "source": [
    "d15.items()"
   ]
  },
  {
   "cell_type": "code",
   "execution_count": 107,
   "id": "5f521d8a-ff6e-4881-baee-cf74bafb7155",
   "metadata": {},
   "outputs": [
    {
     "data": {
      "text/plain": [
       "{'batch name': ['data science masters', 'web dev', 'java design'],\n",
       " 'start date': (28, 14, 21),\n",
       " 'mentor name': {('anurag', 'navin'), ('krish', 'sudhanshu'), 'harder'},\n",
       " 'timing': (8, 8, 8),\n",
       " 'name': 'namit'}"
      ]
     },
     "execution_count": 107,
     "metadata": {},
     "output_type": "execute_result"
    }
   ],
   "source": [
    "d15"
   ]
  },
  {
   "cell_type": "code",
   "execution_count": 109,
   "id": "2cf8c061-8e06-4683-9d22-057afbc33b82",
   "metadata": {},
   "outputs": [],
   "source": [
    "d17=d15.copy()"
   ]
  },
  {
   "cell_type": "code",
   "execution_count": 113,
   "id": "553879cf-1040-4c17-a7e3-72afda70687c",
   "metadata": {},
   "outputs": [
    {
     "data": {
      "text/plain": [
       "({'batch name': ['data science masters', 'web dev', 'java design'],\n",
       "  'start date': (28, 14, 21),\n",
       "  'mentor name': {('anurag', 'navin'), ('krish', 'sudhanshu'), 'harder'},\n",
       "  'timing': (8, 8, 8),\n",
       "  'name': 'namit'},\n",
       " {'batch name': ['data science masters', 'web dev', 'java design'],\n",
       "  'start date': (28, 14, 21),\n",
       "  'mentor name': {('anurag', 'navin'), ('krish', 'sudhanshu'), 'harder'},\n",
       "  'timing': (8, 8, 8),\n",
       "  'name': 'namit'})"
      ]
     },
     "execution_count": 113,
     "metadata": {},
     "output_type": "execute_result"
    }
   ],
   "source": [
    "d17,d15"
   ]
  },
  {
   "cell_type": "code",
   "execution_count": 114,
   "id": "9b763408-6636-405e-9040-d751038f7e7c",
   "metadata": {},
   "outputs": [],
   "source": [
    "del d17[\"name\"]"
   ]
  },
  {
   "cell_type": "code",
   "execution_count": 115,
   "id": "cb5ef039-4770-4780-884f-3f2fc3ece151",
   "metadata": {},
   "outputs": [
    {
     "data": {
      "text/plain": [
       "{'batch name': ['data science masters', 'web dev', 'java design'],\n",
       " 'start date': (28, 14, 21),\n",
       " 'mentor name': {('anurag', 'navin'), ('krish', 'sudhanshu'), 'harder'},\n",
       " 'timing': (8, 8, 8)}"
      ]
     },
     "execution_count": 115,
     "metadata": {},
     "output_type": "execute_result"
    }
   ],
   "source": [
    "d17"
   ]
  },
  {
   "cell_type": "code",
   "execution_count": 117,
   "id": "de09339d-8810-498e-b0f0-6b352520a6fd",
   "metadata": {},
   "outputs": [
    {
     "data": {
      "text/plain": [
       "{'batch name': ['data science masters', 'web dev', 'java design'],\n",
       " 'start date': (28, 14, 21),\n",
       " 'mentor name': {('anurag', 'navin'), ('krish', 'sudhanshu'), 'harder'},\n",
       " 'timing': (8, 8, 8),\n",
       " 'name': 'namit'}"
      ]
     },
     "execution_count": 117,
     "metadata": {},
     "output_type": "execute_result"
    }
   ],
   "source": [
    "d15"
   ]
  },
  {
   "cell_type": "markdown",
   "id": "06a71bb3-e575-4460-bd20-99c6e4f4b07b",
   "metadata": {},
   "source": [
    "###if we copy like this d18=15 then the if we modify d18 or 15 then both will affect beacuse there memory location is same"
   ]
  },
  {
   "cell_type": "code",
   "execution_count": null,
   "id": "57c55be5-f4a2-44a5-9e21-274b6b3a9a24",
   "metadata": {},
   "outputs": [],
   "source": [
    "d18=d15"
   ]
  },
  {
   "cell_type": "code",
   "execution_count": null,
   "id": "b1cc6b82-902b-4195-89ee-2e953ef96996",
   "metadata": {},
   "outputs": [
    {
     "ename": "NameError",
     "evalue": "name 'd18' is not defined",
     "output_type": "error",
     "traceback": [
      "\u001b[0;31m---------------------------------------------------------------------------\u001b[0m",
      "\u001b[0;31mNameError\u001b[0m                                 Traceback (most recent call last)",
      "Cell \u001b[0;32mIn[13], line 1\u001b[0m\n\u001b[0;32m----> 1\u001b[0m \u001b[43md18\u001b[49m\n",
      "\u001b[0;31mNameError\u001b[0m: name 'd18' is not defined"
     ]
    }
   ],
   "source": [
    "d18"
   ]
  },
  {
   "cell_type": "code",
   "execution_count": 122,
   "id": "974184bc-644a-4dff-80aa-5e8f879f86ff",
   "metadata": {},
   "outputs": [],
   "source": [
    "del d18['name']"
   ]
  },
  {
   "cell_type": "code",
   "execution_count": 125,
   "id": "46b6aa6e-78cc-47ac-b9ab-53300237611d",
   "metadata": {},
   "outputs": [
    {
     "data": {
      "text/plain": [
       "{'batch name': ['data science masters', 'web dev', 'java design'],\n",
       " 'start date': (28, 14, 21),\n",
       " 'mentor name': {('anurag', 'navin'), ('krish', 'sudhanshu'), 'harder'},\n",
       " 'timing': (8, 8, 8)}"
      ]
     },
     "execution_count": 125,
     "metadata": {},
     "output_type": "execute_result"
    }
   ],
   "source": [
    "d15#### name is deleted from d16\n"
   ]
  },
  {
   "cell_type": "code",
   "execution_count": null,
   "id": "5accb793-9ca4-4832-951d-d6b49b500cab",
   "metadata": {},
   "outputs": [
    {
     "ename": "NameError",
     "evalue": "name 'd15' is not defined",
     "output_type": "error",
     "traceback": [
      "\u001b[0;31m---------------------------------------------------------------------------\u001b[0m",
      "\u001b[0;31mNameError\u001b[0m                                 Traceback (most recent call last)",
      "Cell \u001b[0;32mIn[12], line 1\u001b[0m\n\u001b[0;32m----> 1\u001b[0m \u001b[43md15\u001b[49m\n",
      "\u001b[0;31mNameError\u001b[0m: name 'd15' is not defined"
     ]
    }
   ],
   "source": [
    "d15"
   ]
  },
  {
   "cell_type": "code",
   "execution_count": 129,
   "id": "ac0e9f0d-8369-4b89-bdc6-4a077ab1540a",
   "metadata": {},
   "outputs": [
    {
     "data": {
      "text/plain": [
       "(8, 8, 8)"
      ]
     },
     "execution_count": 129,
     "metadata": {},
     "output_type": "execute_result"
    }
   ],
   "source": [
    "d15.pop(\"timing\")"
   ]
  },
  {
   "cell_type": "code",
   "execution_count": 131,
   "id": "c009760d-6001-4aec-9df6-1a552f7f50a1",
   "metadata": {},
   "outputs": [
    {
     "data": {
      "text/plain": [
       "{'batch name': ['data science masters', 'web dev', 'java design'],\n",
       " 'start date': (28, 14, 21),\n",
       " 'mentor name': {('anurag', 'navin'), ('krish', 'sudhanshu'), 'harder'}}"
      ]
     },
     "execution_count": 131,
     "metadata": {},
     "output_type": "execute_result"
    }
   ],
   "source": [
    "d15##timing is removed"
   ]
  },
  {
   "cell_type": "code",
   "execution_count": 133,
   "id": "c8f185d6-6987-423a-a23b-0479e57aeb0e",
   "metadata": {},
   "outputs": [
    {
     "data": {
      "text/plain": [
       "{1: ('a', 'b', 'c'),\n",
       " 2: ('a', 'b', 'c'),\n",
       " 3: ('a', 'b', 'c'),\n",
       " 4: ('a', 'b', 'c')}"
      ]
     },
     "execution_count": 133,
     "metadata": {},
     "output_type": "execute_result"
    }
   ],
   "source": [
    "d.fromkeys((1,2,3,4),('a','b','c'))####((multiple_keys),(values))"
   ]
  },
  {
   "cell_type": "code",
   "execution_count": 134,
   "id": "bb1dfb78-0279-4bb4-8047-c77727bd762a",
   "metadata": {},
   "outputs": [],
   "source": [
    "d19={'key1':'value1','key2':'value2'}\n",
    "d20={'key3':'value3','key4':'value4'}"
   ]
  },
  {
   "cell_type": "code",
   "execution_count": 136,
   "id": "b56949f6-31fa-4315-9949-c12991fe6c76",
   "metadata": {},
   "outputs": [
    {
     "data": {
      "text/plain": [
       "({'key1': 'value1', 'key2': 'value2'}, {'key3': 'value3', 'key4': 'value4'})"
      ]
     },
     "execution_count": 136,
     "metadata": {},
     "output_type": "execute_result"
    }
   ],
   "source": [
    "(d19,d20)"
   ]
  },
  {
   "cell_type": "code",
   "execution_count": 137,
   "id": "e715abf3-4e1a-44bb-bf22-555ca6fc82fb",
   "metadata": {},
   "outputs": [],
   "source": [
    "d19.update(d20)"
   ]
  },
  {
   "cell_type": "code",
   "execution_count": 139,
   "id": "19ada966-811b-4dde-8d95-bf87c493b03f",
   "metadata": {},
   "outputs": [
    {
     "data": {
      "text/plain": [
       "{'key1': 'value1', 'key2': 'value2', 'key3': 'value3', 'key4': 'value4'}"
      ]
     },
     "execution_count": 139,
     "metadata": {},
     "output_type": "execute_result"
    }
   ],
   "source": [
    "d19#### unique keys and values in d20 added in d19"
   ]
  },
  {
   "cell_type": "code",
   "execution_count": 141,
   "id": "27936534-baf1-4b0d-b470-90d548437aaa",
   "metadata": {},
   "outputs": [],
   "source": [
    "d21={'key5':'value5','key6':'value6'}\n",
    "d22={'key7':'value7','key8':'value8'}\n",
    "d23={'key9':'value9','key10':'value10'}"
   ]
  },
  {
   "cell_type": "code",
   "execution_count": 143,
   "id": "483c982f-81ab-4de7-9566-15584071889d",
   "metadata": {},
   "outputs": [
    {
     "ename": "AttributeError",
     "evalue": "'NoneType' object has no attribute 'update'",
     "output_type": "error",
     "traceback": [
      "\u001b[0;31m---------------------------------------------------------------------------\u001b[0m",
      "\u001b[0;31mAttributeError\u001b[0m                            Traceback (most recent call last)",
      "Cell \u001b[0;32mIn[143], line 1\u001b[0m\n\u001b[0;32m----> 1\u001b[0m \u001b[43md21\u001b[49m\u001b[38;5;241;43m.\u001b[39;49m\u001b[43mupdate\u001b[49m\u001b[43m(\u001b[49m\u001b[43md22\u001b[49m\u001b[43m)\u001b[49m\u001b[38;5;241;43m.\u001b[39;49m\u001b[43mupdate\u001b[49m(d23)\u001b[38;5;66;03m####not working\u001b[39;00m\n",
      "\u001b[0;31mAttributeError\u001b[0m: 'NoneType' object has no attribute 'update'"
     ]
    }
   ],
   "source": [
    "d21.update(d22).update(d23)####not working"
   ]
  },
  {
   "cell_type": "code",
   "execution_count": 144,
   "id": "fb90d5db-9884-4f7d-bb46-472f114cb82b",
   "metadata": {},
   "outputs": [
    {
     "data": {
      "text/plain": [
       "{'key1': 'value1', 'key2': 'value2', 'key3': 'value3', 'key4': 'value4'}"
      ]
     },
     "execution_count": 144,
     "metadata": {},
     "output_type": "execute_result"
    }
   ],
   "source": [
    "d19"
   ]
  },
  {
   "cell_type": "code",
   "execution_count": 149,
   "id": "fda06b8a-da00-4c68-8ca7-7a4eaab997c5",
   "metadata": {},
   "outputs": [],
   "source": [
    "d19.get(\"sudh\")#### it does not gives error it shows nothing in a output"
   ]
  },
  {
   "cell_type": "code",
   "execution_count": 146,
   "id": "14965070-96b7-4e3b-9dfd-b0cd9040d6cf",
   "metadata": {},
   "outputs": [
    {
     "data": {
      "text/plain": [
       "'value3'"
      ]
     },
     "execution_count": 146,
     "metadata": {},
     "output_type": "execute_result"
    }
   ],
   "source": [
    "d19.get(\"key3\")"
   ]
  },
  {
   "cell_type": "markdown",
   "id": "cc477aba-145e-4aa7-92fe-54e5d10bb8d9",
   "metadata": {},
   "source": [
    "or"
   ]
  },
  {
   "cell_type": "code",
   "execution_count": 148,
   "id": "fab2043a-24b9-41c6-9181-c4b0a9ce594f",
   "metadata": {},
   "outputs": [
    {
     "data": {
      "text/plain": [
       "'value3'"
      ]
     },
     "execution_count": 148,
     "metadata": {},
     "output_type": "execute_result"
    }
   ],
   "source": [
    "d19[\"key3\"]#### in this method it gives error if given key is not in dic but if we use get it does not gives error"
   ]
  },
  {
   "cell_type": "code",
   "execution_count": 150,
   "id": "fd34d822-7b7e-48a3-8dab-f5ce70fc05d6",
   "metadata": {},
   "outputs": [
    {
     "ename": "KeyError",
     "evalue": "'sudh'",
     "output_type": "error",
     "traceback": [
      "\u001b[0;31m---------------------------------------------------------------------------\u001b[0m",
      "\u001b[0;31mKeyError\u001b[0m                                  Traceback (most recent call last)",
      "Cell \u001b[0;32mIn[150], line 1\u001b[0m\n\u001b[0;32m----> 1\u001b[0m \u001b[43md19\u001b[49m\u001b[43m[\u001b[49m\u001b[38;5;124;43m\"\u001b[39;49m\u001b[38;5;124;43msudh\u001b[39;49m\u001b[38;5;124;43m\"\u001b[39;49m\u001b[43m]\u001b[49m\n",
      "\u001b[0;31mKeyError\u001b[0m: 'sudh'"
     ]
    }
   ],
   "source": [
    "d19[\"sudh\"]"
   ]
  },
  {
   "cell_type": "markdown",
   "id": "1f773d16-fcf3-4892-8639-c1819029f754",
   "metadata": {},
   "source": [
    "#dictionary Comprehension#####{\"key\":\"condition_for_value\"  loop_for_a_key}"
   ]
  },
  {
   "cell_type": "code",
   "execution_count": null,
   "id": "fcd4e183-846f-4228-b7f7-40a3d86fcccd",
   "metadata": {},
   "outputs": [],
   "source": []
  },
  {
   "cell_type": "code",
   "execution_count": 2,
   "id": "9443b384-5dab-4b1e-a7f2-3bcfb356cb35",
   "metadata": {},
   "outputs": [],
   "source": [
    "d24={i: i**2 for i in range(1,11)}"
   ]
  },
  {
   "cell_type": "code",
   "execution_count": 3,
   "id": "4b45da85-4524-4d30-9612-4c32692e0a7d",
   "metadata": {},
   "outputs": [
    {
     "data": {
      "text/plain": [
       "{1: 1, 2: 4, 3: 9, 4: 16, 5: 25, 6: 36, 7: 49, 8: 64, 9: 81, 10: 100}"
      ]
     },
     "execution_count": 3,
     "metadata": {},
     "output_type": "execute_result"
    }
   ],
   "source": [
    "d24"
   ]
  },
  {
   "cell_type": "code",
   "execution_count": 4,
   "id": "0e93c919-fbdb-46af-be2b-bf6902d10c28",
   "metadata": {},
   "outputs": [],
   "source": [
    "d25={i:i+10 for i in range(1,12)}"
   ]
  },
  {
   "cell_type": "code",
   "execution_count": 5,
   "id": "7fb1f73f-2bab-49f4-9872-4d6328506866",
   "metadata": {},
   "outputs": [
    {
     "data": {
      "text/plain": [
       "{1: 11, 2: 12, 3: 13, 4: 14, 5: 15, 6: 16, 7: 17, 8: 18, 9: 19, 10: 20, 11: 21}"
      ]
     },
     "execution_count": 5,
     "metadata": {},
     "output_type": "execute_result"
    }
   ],
   "source": [
    "d25"
   ]
  },
  {
   "cell_type": "code",
   "execution_count": 9,
   "id": "8dac3a3e-22a6-4583-a405-fc49a905a03b",
   "metadata": {},
   "outputs": [],
   "source": [
    "import math\n",
    "d26={i:math.log10(i) for i in range(1,11)}"
   ]
  },
  {
   "cell_type": "code",
   "execution_count": 10,
   "id": "7ca60f6f-7578-49ec-9b12-39f655e9d05e",
   "metadata": {},
   "outputs": [
    {
     "data": {
      "text/plain": [
       "{1: 0.0,\n",
       " 2: 0.3010299956639812,\n",
       " 3: 0.47712125471966244,\n",
       " 4: 0.6020599913279624,\n",
       " 5: 0.6989700043360189,\n",
       " 6: 0.7781512503836436,\n",
       " 7: 0.8450980400142568,\n",
       " 8: 0.9030899869919435,\n",
       " 9: 0.9542425094393249,\n",
       " 10: 1.0}"
      ]
     },
     "execution_count": 10,
     "metadata": {},
     "output_type": "execute_result"
    }
   ],
   "source": [
    "d26"
   ]
  },
  {
   "cell_type": "code",
   "execution_count": 18,
   "id": "1aa2683a-7a44-4295-8b9d-9ff7e46c3dbf",
   "metadata": {},
   "outputs": [
    {
     "data": {
      "text/plain": [
       "{'batch name': ['data science masters', 'web dev', 'java design'],\n",
       " 'start date': (28, 14, 21),\n",
       " 'mentor name': {'anurag', 'harder', 'krish', 'navin', 'sudhanshu'}}"
      ]
     },
     "execution_count": 18,
     "metadata": {},
     "output_type": "execute_result"
    }
   ],
   "source": [
    "d14"
   ]
  },
  {
   "cell_type": "code",
   "execution_count": 19,
   "id": "78d8fd16-8b2d-4477-b0c2-101c98bd4ded",
   "metadata": {},
   "outputs": [
    {
     "data": {
      "text/plain": [
       "['data science masters', 'web dev', 'java design']"
      ]
     },
     "execution_count": 19,
     "metadata": {},
     "output_type": "execute_result"
    }
   ],
   "source": [
    "d14[\"batch name\"]"
   ]
  },
  {
   "cell_type": "code",
   "execution_count": 21,
   "id": "05ba737f-e5f8-4e52-93fd-17a59c9e6f5a",
   "metadata": {},
   "outputs": [
    {
     "data": {
      "text/plain": [
       "True"
      ]
     },
     "execution_count": 21,
     "metadata": {},
     "output_type": "execute_result"
    }
   ],
   "source": [
    "\"batch name\" in d14"
   ]
  },
  {
   "cell_type": "code",
   "execution_count": 22,
   "id": "cdcab77f-40a5-4577-b7ef-e3486713cec5",
   "metadata": {},
   "outputs": [
    {
     "data": {
      "text/plain": [
       "{1: 0.0,\n",
       " 2: 0.3010299956639812,\n",
       " 3: 0.47712125471966244,\n",
       " 4: 0.6020599913279624,\n",
       " 5: 0.6989700043360189,\n",
       " 6: 0.7781512503836436,\n",
       " 7: 0.8450980400142568,\n",
       " 8: 0.9030899869919435,\n",
       " 9: 0.9542425094393249,\n",
       " 10: 1.0}"
      ]
     },
     "execution_count": 22,
     "metadata": {},
     "output_type": "execute_result"
    }
   ],
   "source": [
    "d26"
   ]
  },
  {
   "cell_type": "code",
   "execution_count": 37,
   "id": "692047be-c625-4e4e-92f9-e442174ebb5e",
   "metadata": {},
   "outputs": [
    {
     "name": "stdout",
     "output_type": "stream",
     "text": [
      "0.3010299956639812\n",
      "0.6020599913279624\n",
      "0.7781512503836436\n",
      "0.9030899869919435\n",
      "1.0\n"
     ]
    }
   ],
   "source": [
    "for i in d26.keys():#### give the values by iterating keys i.e for specific keys show the values \n",
    "    if i%2==0:\n",
    "        print(d26[i])"
   ]
  },
  {
   "cell_type": "code",
   "execution_count": 43,
   "id": "33de1f4a-8bc5-43ef-981b-090b38442a50",
   "metadata": {},
   "outputs": [
    {
     "ename": "NameError",
     "evalue": "name 'log10' is not defined",
     "output_type": "error",
     "traceback": [
      "\u001b[0;31m---------------------------------------------------------------------------\u001b[0m",
      "\u001b[0;31mNameError\u001b[0m                                 Traceback (most recent call last)",
      "Cell \u001b[0;32mIn[46], line 3\u001b[0m\n\u001b[1;32m      1\u001b[0m \u001b[38;5;28;01mimport\u001b[39;00m \u001b[38;5;21;01mmath\u001b[39;00m\n\u001b[1;32m      2\u001b[0m \u001b[38;5;28;01mfor\u001b[39;00m i \u001b[38;5;129;01min\u001b[39;00m d26\u001b[38;5;241m.\u001b[39mvalues():\n\u001b[0;32m----> 3\u001b[0m     \u001b[38;5;28;01mif\u001b[39;00m \u001b[43mlog10\u001b[49m(i)\u001b[38;5;241m==\u001b[39m\u001b[38;5;241m0\u001b[39m:\n\u001b[1;32m      4\u001b[0m         \u001b[38;5;28mprint\u001b[39m(d26[i])\n",
      "\u001b[0;31mNameError\u001b[0m: name 'log10' is not defined"
     ]
    }
   ],
   "source": [
    "for i in d26.values():\n",
    "    if i%2!=0:\n",
    "        print(d26[i])"
   ]
  },
  {
   "cell_type": "code",
   "execution_count": null,
   "id": "880a522e-b2d8-4428-aa04-99b05ae52a8d",
   "metadata": {},
   "outputs": [],
   "source": []
  },
  {
   "cell_type": "code",
   "execution_count": null,
   "id": "473cf722-9214-4345-9045-b227c41277cb",
   "metadata": {},
   "outputs": [],
   "source": []
  },
  {
   "cell_type": "code",
   "execution_count": null,
   "id": "ac9866f4-f35a-4ff8-a2a8-03608d0aeb38",
   "metadata": {},
   "outputs": [],
   "source": []
  },
  {
   "cell_type": "code",
   "execution_count": null,
   "id": "ef6aa6dc-a77a-4d1c-aede-c5647a08bb51",
   "metadata": {},
   "outputs": [],
   "source": []
  },
  {
   "cell_type": "code",
   "execution_count": null,
   "id": "eb65379a-39f0-47d3-b754-537547907b5d",
   "metadata": {},
   "outputs": [],
   "source": []
  },
  {
   "cell_type": "code",
   "execution_count": null,
   "id": "98d73f50-3f6f-4126-999f-7cb95ebe5c13",
   "metadata": {},
   "outputs": [],
   "source": []
  },
  {
   "cell_type": "code",
   "execution_count": null,
   "id": "8ac6bd21-46e6-4e61-82d7-690866ddde58",
   "metadata": {},
   "outputs": [],
   "source": []
  },
  {
   "cell_type": "code",
   "execution_count": null,
   "id": "ec210a71-a5e3-48ed-a0d8-ea301e9eaeca",
   "metadata": {},
   "outputs": [],
   "source": []
  },
  {
   "cell_type": "code",
   "execution_count": null,
   "id": "57ad6e00-d5bf-4327-a387-a8cfd642a3fb",
   "metadata": {},
   "outputs": [],
   "source": []
  },
  {
   "cell_type": "code",
   "execution_count": null,
   "id": "b646587f-6fb7-4243-9232-011ac81c2707",
   "metadata": {},
   "outputs": [],
   "source": []
  },
  {
   "cell_type": "code",
   "execution_count": null,
   "id": "c6bd61c3-4ea3-4922-b34b-d8ee8b7a18a9",
   "metadata": {},
   "outputs": [],
   "source": []
  },
  {
   "cell_type": "code",
   "execution_count": null,
   "id": "45db5ffb-e073-47b6-8e88-e9992185d9e3",
   "metadata": {},
   "outputs": [],
   "source": []
  },
  {
   "cell_type": "code",
   "execution_count": null,
   "id": "cfdc6475-ffb9-486b-b1e1-10901bb0e95d",
   "metadata": {},
   "outputs": [],
   "source": []
  },
  {
   "cell_type": "code",
   "execution_count": null,
   "id": "0425fe0d-2ca1-4536-b74c-5f35cfda6a72",
   "metadata": {},
   "outputs": [],
   "source": []
  },
  {
   "cell_type": "code",
   "execution_count": null,
   "id": "01863814-7267-49d1-b8b2-7185206c092a",
   "metadata": {},
   "outputs": [],
   "source": []
  },
  {
   "cell_type": "code",
   "execution_count": null,
   "id": "b54ad913-91ae-442f-b59d-c835b7681de2",
   "metadata": {},
   "outputs": [],
   "source": []
  },
  {
   "cell_type": "code",
   "execution_count": null,
   "id": "25cd8e29-4d79-47cb-8418-d4b33763bfdd",
   "metadata": {},
   "outputs": [],
   "source": []
  },
  {
   "cell_type": "code",
   "execution_count": null,
   "id": "371f7084-24eb-4799-9db2-c358f5e0e028",
   "metadata": {},
   "outputs": [],
   "source": []
  },
  {
   "cell_type": "code",
   "execution_count": null,
   "id": "826e6344-87da-4ddb-935c-0cad729a7287",
   "metadata": {},
   "outputs": [],
   "source": []
  },
  {
   "cell_type": "code",
   "execution_count": null,
   "id": "fe5ee2a4-0423-4780-a42b-28bb69501fb5",
   "metadata": {},
   "outputs": [],
   "source": []
  },
  {
   "cell_type": "code",
   "execution_count": null,
   "id": "9b2158ab-4693-4d86-b8fe-03b2eb1a22f7",
   "metadata": {},
   "outputs": [],
   "source": []
  },
  {
   "cell_type": "code",
   "execution_count": null,
   "id": "32142b2d-3403-431c-beea-1a368911dd3a",
   "metadata": {},
   "outputs": [],
   "source": []
  },
  {
   "cell_type": "code",
   "execution_count": null,
   "id": "1b6ce235-fb7f-412f-9b82-79825d1cca9c",
   "metadata": {},
   "outputs": [],
   "source": []
  },
  {
   "cell_type": "code",
   "execution_count": null,
   "id": "ac447d9e-fd32-4abe-80a4-59b4fa4111be",
   "metadata": {},
   "outputs": [],
   "source": []
  },
  {
   "cell_type": "code",
   "execution_count": null,
   "id": "8d5e183d-5088-4b60-b31d-28da1651e19d",
   "metadata": {},
   "outputs": [],
   "source": []
  },
  {
   "cell_type": "code",
   "execution_count": null,
   "id": "67806032-31fa-43e2-8ea3-64f0b0c38a84",
   "metadata": {},
   "outputs": [],
   "source": []
  },
  {
   "cell_type": "code",
   "execution_count": null,
   "id": "b213f982-aa2d-48d9-a978-3eacff045bc6",
   "metadata": {},
   "outputs": [],
   "source": []
  },
  {
   "cell_type": "code",
   "execution_count": null,
   "id": "7ad0fb87-3ad7-43b3-b754-4d6c521a4fad",
   "metadata": {},
   "outputs": [],
   "source": []
  },
  {
   "cell_type": "code",
   "execution_count": null,
   "id": "cd2e7875-3947-431f-bbdb-13f8dccf3e29",
   "metadata": {},
   "outputs": [],
   "source": []
  },
  {
   "cell_type": "code",
   "execution_count": null,
   "id": "01148219-9b52-425d-9240-d1d9ec011a78",
   "metadata": {},
   "outputs": [],
   "source": []
  },
  {
   "cell_type": "code",
   "execution_count": null,
   "id": "2f3884dc-3d50-4964-9a92-58db5d6a8ead",
   "metadata": {},
   "outputs": [],
   "source": []
  },
  {
   "cell_type": "code",
   "execution_count": null,
   "id": "522de381-e7db-4114-b1b9-0b6ca651f4c1",
   "metadata": {},
   "outputs": [],
   "source": []
  },
  {
   "cell_type": "code",
   "execution_count": null,
   "id": "479fe2d2-4082-4ee4-b054-15c1e789aefb",
   "metadata": {},
   "outputs": [],
   "source": []
  },
  {
   "cell_type": "code",
   "execution_count": null,
   "id": "a04c69a0-5234-45cd-983d-9bfd81f3e8c6",
   "metadata": {},
   "outputs": [],
   "source": []
  },
  {
   "cell_type": "code",
   "execution_count": null,
   "id": "c5161d8b-05a2-4a0a-b8bb-67a7df9170f1",
   "metadata": {},
   "outputs": [],
   "source": []
  },
  {
   "cell_type": "code",
   "execution_count": null,
   "id": "fa108105-a85e-4c16-98dc-2439add8e2a3",
   "metadata": {},
   "outputs": [],
   "source": []
  },
  {
   "cell_type": "code",
   "execution_count": null,
   "id": "624b5090-b89a-493a-a61c-9670e855420e",
   "metadata": {},
   "outputs": [],
   "source": []
  },
  {
   "cell_type": "code",
   "execution_count": null,
   "id": "b9be0d97-ac7d-400e-be06-44ba387b6503",
   "metadata": {},
   "outputs": [],
   "source": []
  },
  {
   "cell_type": "code",
   "execution_count": null,
   "id": "ac726123-afcd-4c2b-acea-886bd8ebb59f",
   "metadata": {},
   "outputs": [],
   "source": []
  },
  {
   "cell_type": "code",
   "execution_count": null,
   "id": "7b8bc4d6-adee-4e46-b356-2be7f50b5447",
   "metadata": {},
   "outputs": [],
   "source": []
  },
  {
   "cell_type": "code",
   "execution_count": null,
   "id": "e54d4360-2c77-4271-8155-783f932960b6",
   "metadata": {},
   "outputs": [],
   "source": []
  },
  {
   "cell_type": "code",
   "execution_count": null,
   "id": "900095a2-e7b2-4b82-8c69-d1d56c962184",
   "metadata": {},
   "outputs": [],
   "source": []
  },
  {
   "cell_type": "code",
   "execution_count": null,
   "id": "3799f00d-5278-4f0a-9a24-c56786ce0d2a",
   "metadata": {},
   "outputs": [],
   "source": []
  },
  {
   "cell_type": "code",
   "execution_count": null,
   "id": "ab84e32e-16cc-44c7-9454-4a744c4a1b1f",
   "metadata": {},
   "outputs": [],
   "source": []
  },
  {
   "cell_type": "code",
   "execution_count": null,
   "id": "a60218b4-fee7-4668-9163-b66514ceebbd",
   "metadata": {},
   "outputs": [],
   "source": []
  },
  {
   "cell_type": "code",
   "execution_count": null,
   "id": "485e6f36-a8aa-46bc-bb6f-b882e0c56dc1",
   "metadata": {},
   "outputs": [],
   "source": []
  },
  {
   "cell_type": "code",
   "execution_count": null,
   "id": "3b9258b8-4268-4820-ac1a-dc9b33bf0fe7",
   "metadata": {},
   "outputs": [],
   "source": []
  },
  {
   "cell_type": "code",
   "execution_count": null,
   "id": "5685f1e7-c9e5-4475-a218-185feac186ed",
   "metadata": {},
   "outputs": [],
   "source": []
  },
  {
   "cell_type": "code",
   "execution_count": null,
   "id": "54a6be86-bc2e-4336-b735-f0b65a6cbcb2",
   "metadata": {},
   "outputs": [],
   "source": []
  },
  {
   "cell_type": "code",
   "execution_count": null,
   "id": "f303a17f-47a2-4b8a-acb6-0bc56efc91df",
   "metadata": {},
   "outputs": [],
   "source": []
  },
  {
   "cell_type": "code",
   "execution_count": null,
   "id": "9c823a8f-4d63-46fb-bdf2-393643981bec",
   "metadata": {},
   "outputs": [],
   "source": []
  },
  {
   "cell_type": "code",
   "execution_count": null,
   "id": "1570bfe3-64c2-4284-b86d-9d7dc7d6b18f",
   "metadata": {},
   "outputs": [],
   "source": []
  },
  {
   "cell_type": "code",
   "execution_count": null,
   "id": "781faf56-a91a-4057-a578-656a1bb77e82",
   "metadata": {},
   "outputs": [],
   "source": []
  },
  {
   "cell_type": "code",
   "execution_count": null,
   "id": "1cb1bb05-141e-4826-a7b6-568effcee158",
   "metadata": {},
   "outputs": [],
   "source": []
  },
  {
   "cell_type": "code",
   "execution_count": null,
   "id": "7df58517-e75a-4a00-aca8-a39371f00d13",
   "metadata": {},
   "outputs": [],
   "source": []
  },
  {
   "cell_type": "code",
   "execution_count": null,
   "id": "3c219b0d-d798-4232-a92f-72150f3a8ddb",
   "metadata": {},
   "outputs": [],
   "source": []
  },
  {
   "cell_type": "code",
   "execution_count": null,
   "id": "98d5a934-c33d-4783-a9d0-3d376798c8a1",
   "metadata": {},
   "outputs": [],
   "source": []
  },
  {
   "cell_type": "code",
   "execution_count": null,
   "id": "aee2f48c-fd48-4b24-b19e-b1e555a5a2d3",
   "metadata": {},
   "outputs": [],
   "source": []
  },
  {
   "cell_type": "code",
   "execution_count": null,
   "id": "ded1f35a-72b9-4745-aacc-cebe9d5fe1ec",
   "metadata": {},
   "outputs": [],
   "source": []
  },
  {
   "cell_type": "code",
   "execution_count": null,
   "id": "e0cd25dc-fd47-435c-a2d3-58837e4abe58",
   "metadata": {},
   "outputs": [],
   "source": []
  },
  {
   "cell_type": "code",
   "execution_count": null,
   "id": "b567797f-7af6-4485-a502-886cb73e8b5a",
   "metadata": {},
   "outputs": [],
   "source": []
  },
  {
   "cell_type": "code",
   "execution_count": null,
   "id": "e6e34bff-4d7c-4090-9f04-2def9dbca311",
   "metadata": {},
   "outputs": [],
   "source": []
  },
  {
   "cell_type": "code",
   "execution_count": null,
   "id": "7eb8c739-f5dd-4f6c-b3b6-4585acf55eb4",
   "metadata": {},
   "outputs": [],
   "source": []
  },
  {
   "cell_type": "code",
   "execution_count": null,
   "id": "5ff11eb3-c84a-414e-90db-6d654121c01a",
   "metadata": {},
   "outputs": [],
   "source": []
  },
  {
   "cell_type": "code",
   "execution_count": null,
   "id": "8cb2bb57-059b-4586-b28f-50d5904b325e",
   "metadata": {},
   "outputs": [],
   "source": []
  },
  {
   "cell_type": "code",
   "execution_count": null,
   "id": "16536303-d7c0-4d70-8423-254efb6de7c1",
   "metadata": {},
   "outputs": [],
   "source": []
  },
  {
   "cell_type": "code",
   "execution_count": null,
   "id": "62fbbe55-f859-4b0f-a2fe-a6be5f15ab67",
   "metadata": {},
   "outputs": [],
   "source": []
  },
  {
   "cell_type": "code",
   "execution_count": null,
   "id": "0c84ee41-1cc2-4c5e-9d91-4d45fc76baed",
   "metadata": {},
   "outputs": [],
   "source": []
  },
  {
   "cell_type": "code",
   "execution_count": null,
   "id": "59f24b43-80e7-4e20-b07b-a5eb1c215a4c",
   "metadata": {},
   "outputs": [],
   "source": []
  },
  {
   "cell_type": "code",
   "execution_count": null,
   "id": "038be48d-fc52-46d8-bfa3-ad9edfe41263",
   "metadata": {},
   "outputs": [],
   "source": []
  },
  {
   "cell_type": "code",
   "execution_count": null,
   "id": "c3d68a6b-60d2-4c8e-87d8-d6454ee6bfc7",
   "metadata": {},
   "outputs": [],
   "source": []
  },
  {
   "cell_type": "code",
   "execution_count": null,
   "id": "a4098a83-d517-42ca-9840-3625beac14ed",
   "metadata": {},
   "outputs": [],
   "source": []
  },
  {
   "cell_type": "code",
   "execution_count": null,
   "id": "9ebdb1fe-0edf-4edb-a3cc-20e670e50c5f",
   "metadata": {},
   "outputs": [],
   "source": []
  },
  {
   "cell_type": "code",
   "execution_count": null,
   "id": "86751f8c-0e90-4487-8e18-49e4e06a0170",
   "metadata": {},
   "outputs": [],
   "source": []
  },
  {
   "cell_type": "code",
   "execution_count": null,
   "id": "49f7109b-2fa8-4361-a245-1d216f26535d",
   "metadata": {},
   "outputs": [],
   "source": []
  }
 ],
 "metadata": {
  "kernelspec": {
   "display_name": "Python 3 (ipykernel)",
   "language": "python",
   "name": "python3"
  },
  "language_info": {
   "codemirror_mode": {
    "name": "ipython",
    "version": 3
   },
   "file_extension": ".py",
   "mimetype": "text/x-python",
   "name": "python",
   "nbconvert_exporter": "python",
   "pygments_lexer": "ipython3",
   "version": "3.10.8"
  }
 },
 "nbformat": 4,
 "nbformat_minor": 5
}
