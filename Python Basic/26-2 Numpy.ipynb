{
 "cells": [
  {
   "cell_type": "markdown",
   "id": "9fe84873-8849-4f2f-8f02-80ae42e56d2e",
   "metadata": {
    "jp-MarkdownHeadingCollapsed": true,
    "tags": []
   },
   "source": [
    "# Numpy part 1 "
   ]
  },
  {
   "cell_type": "code",
   "execution_count": null,
   "id": "8c7e3da8-de86-43b2-872b-ff719b146040",
   "metadata": {},
   "outputs": [],
   "source": [
    "## it is bascially used to perform operations based oon array and matrixes"
   ]
  },
  {
   "cell_type": "code",
   "execution_count": 2,
   "id": "4c6aa01a-eee1-44c4-8863-0489489665c8",
   "metadata": {},
   "outputs": [],
   "source": [
    "import numpy as np"
   ]
  },
  {
   "cell_type": "code",
   "execution_count": 1,
   "id": "312e74e0-956d-4cd3-bce5-a75ec6a4f0f1",
   "metadata": {},
   "outputs": [],
   "source": [
    "l = [1,2,3,4,5,6]"
   ]
  },
  {
   "cell_type": "code",
   "execution_count": 5,
   "id": "6c967cb5-e0c0-425c-adab-6298b1c0f8e8",
   "metadata": {},
   "outputs": [],
   "source": [
    "arr =np.array(l)  ### here we are trying to convert a list into an array"
   ]
  },
  {
   "cell_type": "code",
   "execution_count": 18,
   "id": "d04db376-c156-4376-a8e2-6ddfa5dda37f",
   "metadata": {},
   "outputs": [
    {
     "data": {
      "text/plain": [
       "numpy.ndarray"
      ]
     },
     "execution_count": 18,
     "metadata": {},
     "output_type": "execute_result"
    }
   ],
   "source": [
    "type(arr)  ## ndarray means n dimensional array"
   ]
  },
  {
   "cell_type": "code",
   "execution_count": 9,
   "id": "6ed1ca93-396d-4be7-bfed-08f34506a4a5",
   "metadata": {},
   "outputs": [
    {
     "data": {
      "text/plain": [
       "array([1, 2, 3, 4, 5, 6])"
      ]
     },
     "execution_count": 9,
     "metadata": {},
     "output_type": "execute_result"
    }
   ],
   "source": [
    "np.asarray(l) # in this way we can also convert a list into an array"
   ]
  },
  {
   "cell_type": "code",
   "execution_count": 11,
   "id": "012bb009-a1d5-4617-86bd-cc7fb4843a92",
   "metadata": {},
   "outputs": [],
   "source": [
    "arr1 = np.array([[1,2,3],[4,5,6]])"
   ]
  },
  {
   "cell_type": "code",
   "execution_count": 15,
   "id": "b098151f-faed-4e51-85c6-f139662e3339",
   "metadata": {},
   "outputs": [
    {
     "data": {
      "text/plain": [
       "1"
      ]
     },
     "execution_count": 15,
     "metadata": {},
     "output_type": "execute_result"
    }
   ],
   "source": [
    "arr.ndim  ### ndim is used to check dimention of the array"
   ]
  },
  {
   "cell_type": "code",
   "execution_count": 16,
   "id": "6285f1c0-1b69-4011-a6f0-d1f3f9ac8299",
   "metadata": {},
   "outputs": [
    {
     "data": {
      "text/plain": [
       "2"
      ]
     },
     "execution_count": 16,
     "metadata": {},
     "output_type": "execute_result"
    }
   ],
   "source": [
    "arr1.ndim"
   ]
  },
  {
   "cell_type": "code",
   "execution_count": 19,
   "id": "000cd63d-d481-4efd-9780-d372c7de96e9",
   "metadata": {},
   "outputs": [
    {
     "data": {
      "text/plain": [
       "array([[1, 2, 3],\n",
       "       [4, 5, 6]])"
      ]
     },
     "execution_count": 19,
     "metadata": {},
     "output_type": "execute_result"
    }
   ],
   "source": [
    "arr1"
   ]
  },
  {
   "cell_type": "code",
   "execution_count": 26,
   "id": "3a555b54-b0ce-4371-9f1e-1d0ba1558fac",
   "metadata": {},
   "outputs": [
    {
     "data": {
      "text/plain": [
       "matrix([[1, 2, 3, 4, 5, 6]])"
      ]
     },
     "execution_count": 26,
     "metadata": {},
     "output_type": "execute_result"
    }
   ],
   "source": [
    "mat = np.matrix(l) ## here we are converting list into matrix  In a matrix minimum dimension is 2 \n",
    "mat"
   ]
  },
  {
   "cell_type": "code",
   "execution_count": 24,
   "id": "e054acd7-2c6d-4db9-a457-f35d8652af1c",
   "metadata": {},
   "outputs": [
    {
     "data": {
      "text/plain": [
       "array([1, 2, 3, 4, 5, 6])"
      ]
     },
     "execution_count": 24,
     "metadata": {},
     "output_type": "execute_result"
    }
   ],
   "source": [
    "np.asanyarray(l)  ### here as we see list is converting into array"
   ]
  },
  {
   "cell_type": "code",
   "execution_count": 27,
   "id": "7afe6a7b-6d82-4162-a25a-da75e844e946",
   "metadata": {},
   "outputs": [
    {
     "data": {
      "text/plain": [
       "matrix([[1, 2, 3, 4, 5, 6]])"
      ]
     },
     "execution_count": 27,
     "metadata": {},
     "output_type": "execute_result"
    }
   ],
   "source": [
    "np.asanyarray(mat)  ## we can see here nothing is changed beacuse in a numpy matrix is a sub class of array"
   ]
  },
  {
   "cell_type": "code",
   "execution_count": 35,
   "id": "ed087766-af2a-4a28-9918-952c1b80c962",
   "metadata": {},
   "outputs": [],
   "source": [
    "a = arr  ### here it will try to take a referance of arr , it will not makeing a copy of array"
   ]
  },
  {
   "cell_type": "code",
   "execution_count": 28,
   "id": "f980029d-d3c2-4638-a6ea-47941da0a1eb",
   "metadata": {},
   "outputs": [
    {
     "data": {
      "text/plain": [
       "array([1, 2, 3, 4, 5, 6])"
      ]
     },
     "execution_count": 28,
     "metadata": {},
     "output_type": "execute_result"
    }
   ],
   "source": [
    "arr"
   ]
  },
  {
   "cell_type": "code",
   "execution_count": 30,
   "id": "b8002e55-7532-47c5-8ce5-2e57535f9e01",
   "metadata": {},
   "outputs": [
    {
     "data": {
      "text/plain": [
       "array([1, 2, 3, 4, 5, 6])"
      ]
     },
     "execution_count": 30,
     "metadata": {},
     "output_type": "execute_result"
    }
   ],
   "source": [
    "a"
   ]
  },
  {
   "cell_type": "code",
   "execution_count": 48,
   "id": "0a21acdb-0b20-482e-b899-ef6106dc38e6",
   "metadata": {},
   "outputs": [],
   "source": [
    "### as we know 'a' is a reference of arr thats why if we make any kind of change in any of them it will change for both  \n",
    "## here the memory loction is same for both  this type of copy is called solo copy \n",
    "a[0]=100"
   ]
  },
  {
   "cell_type": "code",
   "execution_count": 33,
   "id": "a3d371b6-fac7-44d9-97e8-bdcab92c19b2",
   "metadata": {},
   "outputs": [
    {
     "data": {
      "text/plain": [
       "array([100,   2,   3,   4,   5,   6])"
      ]
     },
     "execution_count": 33,
     "metadata": {},
     "output_type": "execute_result"
    }
   ],
   "source": [
    "arr"
   ]
  },
  {
   "cell_type": "code",
   "execution_count": 34,
   "id": "97c5492f-c6b5-4b5b-a167-defd6f0d3b09",
   "metadata": {},
   "outputs": [
    {
     "data": {
      "text/plain": [
       "array([100,   2,   3,   4,   5,   6])"
      ]
     },
     "execution_count": 34,
     "metadata": {},
     "output_type": "execute_result"
    }
   ],
   "source": [
    "a"
   ]
  },
  {
   "cell_type": "code",
   "execution_count": 47,
   "id": "a11d9755-0435-4010-b752-c66be9f9d74c",
   "metadata": {},
   "outputs": [],
   "source": [
    " ## here we are copying the arr  so if we will perform any change in any of them then it will not affect to other ones\n",
    "###here the memory location is different for both  this type of copy is called deep copy \n",
    "b =np.copy(arr)"
   ]
  },
  {
   "cell_type": "code",
   "execution_count": 42,
   "id": "8285cf01-fa91-4614-95ab-b1849bcf03ec",
   "metadata": {},
   "outputs": [],
   "source": [
    "b[0]=253"
   ]
  },
  {
   "cell_type": "code",
   "execution_count": 43,
   "id": "c59e3359-401d-4a32-bf0f-4ef0f3c606f4",
   "metadata": {},
   "outputs": [
    {
     "data": {
      "text/plain": [
       "array([253,   2,   3,   4,   5,   6])"
      ]
     },
     "execution_count": 43,
     "metadata": {},
     "output_type": "execute_result"
    }
   ],
   "source": [
    "b"
   ]
  },
  {
   "cell_type": "code",
   "execution_count": 44,
   "id": "e5d3cc3f-c12c-4282-bdfc-cd298fbea0cb",
   "metadata": {},
   "outputs": [
    {
     "data": {
      "text/plain": [
       "array([100,   2,   3,   4,   5,   6])"
      ]
     },
     "execution_count": 44,
     "metadata": {},
     "output_type": "execute_result"
    }
   ],
   "source": [
    "arr"
   ]
  },
  {
   "cell_type": "code",
   "execution_count": 52,
   "id": "7abfb40f-9c5b-406a-a20c-7dcf579e610e",
   "metadata": {},
   "outputs": [
    {
     "data": {
      "text/plain": [
       "array([[ True, False, False],\n",
       "       [False,  True, False],\n",
       "       [False, False,  True]])"
      ]
     },
     "execution_count": 52,
     "metadata": {},
     "output_type": "execute_result"
    }
   ],
   "source": [
    "## here we are trying to create a array using function \n",
    "# We are passing a size of array i.e 3*3 and a condition using lambda fun \n",
    "## as we know array is made by x and y axis so in this case it will take i in x axis and j in y axis \n",
    "## as the shape of array is 3*3 so it will take 3 same values for both i and j i.e. i=0,1,2 and j=0,1,2 \n",
    "## as the i and j is ploted on axis it will check given condition at each intersection of i and j \n",
    "np.fromfunction(lambda i,j : i==j, (3,3))  "
   ]
  },
  {
   "cell_type": "code",
   "execution_count": 51,
   "id": "719d6211-486c-4754-8a0d-196772596dc9",
   "metadata": {},
   "outputs": [
    {
     "data": {
      "text/plain": [
       "array([[0., 0., 0.],\n",
       "       [0., 1., 2.],\n",
       "       [0., 2., 4.]])"
      ]
     },
     "execution_count": 51,
     "metadata": {},
     "output_type": "execute_result"
    }
   ],
   "source": [
    "np.fromfunction(lambda i,j : i*j, (3,3))"
   ]
  },
  {
   "cell_type": "code",
   "execution_count": 54,
   "id": "9040d6e8-8f67-421f-880e-144cbfdb8353",
   "metadata": {},
   "outputs": [
    {
     "data": {
      "text/plain": [
       "[0, 1, 4, 9, 16]"
      ]
     },
     "execution_count": 54,
     "metadata": {},
     "output_type": "execute_result"
    }
   ],
   "source": [
    "list(i*i for i in range(5))  ## as the range is 5 it will assign values of i = 0,1,2,3,4"
   ]
  },
  {
   "cell_type": "code",
   "execution_count": 67,
   "id": "e933ad61-5f25-4704-b78a-05329e41239e",
   "metadata": {},
   "outputs": [],
   "source": [
    "iterable = (i*i for i in range(5)) ## we are trying to perfrom above operation using np  Here this statment gives us a data set"
   ]
  },
  {
   "cell_type": "code",
   "execution_count": 68,
   "id": "29eb60d5-b1ca-4c2e-b2e3-0a8a7416a6c5",
   "metadata": {},
   "outputs": [
    {
     "data": {
      "text/plain": [
       "array([ 0.,  1.,  4.,  9., 16.])"
      ]
     },
     "execution_count": 68,
     "metadata": {},
     "output_type": "execute_result"
    }
   ],
   "source": [
    "np.fromiter(iterable,float)  ### here we are creating an array using data set"
   ]
  },
  {
   "cell_type": "code",
   "execution_count": 69,
   "id": "9726ccc5-6c36-4c5b-a0a5-4101dd5b2cdc",
   "metadata": {},
   "outputs": [
    {
     "data": {
      "text/plain": [
       "array([23., 25., 63.])"
      ]
     },
     "execution_count": 69,
     "metadata": {},
     "output_type": "execute_result"
    }
   ],
   "source": [
    "## here we are creating an array from a string \n",
    "## while perfroming this type of operation we always need to give a seprator denoted by 'sep'\n",
    "np.fromstring(\"23 25 63\", sep = \" \") "
   ]
  },
  {
   "cell_type": "code",
   "execution_count": 70,
   "id": "71dd97ba-c183-46b5-a2a9-5ee4852d0d99",
   "metadata": {},
   "outputs": [
    {
     "data": {
      "text/plain": [
       "array([23., 25., 63.])"
      ]
     },
     "execution_count": 70,
     "metadata": {},
     "output_type": "execute_result"
    }
   ],
   "source": [
    "np.fromstring(\"23,25,63\", sep = \",\")"
   ]
  },
  {
   "cell_type": "code",
   "execution_count": 71,
   "id": "b9599843-1de8-4ba4-9d4c-6682a7d2d004",
   "metadata": {},
   "outputs": [
    {
     "data": {
      "text/plain": [
       "array([100,   2,   3,   4,   5,   6])"
      ]
     },
     "execution_count": 71,
     "metadata": {},
     "output_type": "execute_result"
    }
   ],
   "source": [
    "arr"
   ]
  },
  {
   "cell_type": "code",
   "execution_count": 72,
   "id": "d64030dd-0357-49eb-ad80-ae4dc96e61f3",
   "metadata": {},
   "outputs": [
    {
     "data": {
      "text/plain": [
       "array([[1, 2, 3],\n",
       "       [4, 5, 6]])"
      ]
     },
     "execution_count": 72,
     "metadata": {},
     "output_type": "execute_result"
    }
   ],
   "source": [
    "arr1"
   ]
  },
  {
   "cell_type": "code",
   "execution_count": 73,
   "id": "71aa9ad3-89a0-461f-af36-27aa7d3a31fa",
   "metadata": {},
   "outputs": [
    {
     "data": {
      "text/plain": [
       "1"
      ]
     },
     "execution_count": 73,
     "metadata": {},
     "output_type": "execute_result"
    }
   ],
   "source": [
    "arr.ndim"
   ]
  },
  {
   "cell_type": "code",
   "execution_count": 74,
   "id": "cf2baad8-09da-4b81-91fb-e0f5ceb94f68",
   "metadata": {},
   "outputs": [
    {
     "data": {
      "text/plain": [
       "2"
      ]
     },
     "execution_count": 74,
     "metadata": {},
     "output_type": "execute_result"
    }
   ],
   "source": [
    "arr1.ndim"
   ]
  },
  {
   "cell_type": "code",
   "execution_count": 75,
   "id": "dc3284a6-1646-48c0-9004-64bd54722720",
   "metadata": {},
   "outputs": [
    {
     "data": {
      "text/plain": [
       "6"
      ]
     },
     "execution_count": 75,
     "metadata": {},
     "output_type": "execute_result"
    }
   ],
   "source": [
    "arr.size  ## it shows the total elements present inside a array"
   ]
  },
  {
   "cell_type": "code",
   "execution_count": 76,
   "id": "bf2347ff-e657-4520-87dc-f08c111a190d",
   "metadata": {},
   "outputs": [
    {
     "data": {
      "text/plain": [
       "6"
      ]
     },
     "execution_count": 76,
     "metadata": {},
     "output_type": "execute_result"
    }
   ],
   "source": [
    "arr1.size"
   ]
  },
  {
   "cell_type": "code",
   "execution_count": 79,
   "id": "770b653b-1733-4c3e-a92b-fab2d4852a78",
   "metadata": {},
   "outputs": [
    {
     "data": {
      "text/plain": [
       "(6,)"
      ]
     },
     "execution_count": 79,
     "metadata": {},
     "output_type": "execute_result"
    }
   ],
   "source": [
    "arr.shape  ### it tells about the shape of array in this case it is 6*1"
   ]
  },
  {
   "cell_type": "code",
   "execution_count": 80,
   "id": "6695fd68-0162-4f0e-b26d-f4ad8c01b306",
   "metadata": {},
   "outputs": [
    {
     "data": {
      "text/plain": [
       "(2, 3)"
      ]
     },
     "execution_count": 80,
     "metadata": {},
     "output_type": "execute_result"
    }
   ],
   "source": [
    "arr1.shape"
   ]
  },
  {
   "cell_type": "code",
   "execution_count": 81,
   "id": "a455b620-6fce-4a47-9934-5b5c5ca25949",
   "metadata": {},
   "outputs": [
    {
     "data": {
      "text/plain": [
       "dtype('int64')"
      ]
     },
     "execution_count": 81,
     "metadata": {},
     "output_type": "execute_result"
    }
   ],
   "source": [
    "arr.dtype"
   ]
  },
  {
   "cell_type": "code",
   "execution_count": 82,
   "id": "d8d4468b-f4e9-4d4e-ac9a-87869a11c7bc",
   "metadata": {},
   "outputs": [
    {
     "data": {
      "text/plain": [
       "dtype('int64')"
      ]
     },
     "execution_count": 82,
     "metadata": {},
     "output_type": "execute_result"
    }
   ],
   "source": [
    "arr1.dtype"
   ]
  },
  {
   "cell_type": "markdown",
   "id": "043393bc-12ad-43c5-a62a-0cd941689084",
   "metadata": {
    "jp-MarkdownHeadingCollapsed": true,
    "tags": []
   },
   "source": [
    "# Numpy part 2 "
   ]
  },
  {
   "cell_type": "code",
   "execution_count": 11,
   "id": "fedad841-d135-4d3e-baee-5695e5d51696",
   "metadata": {},
   "outputs": [],
   "source": [
    "import numpy as np"
   ]
  },
  {
   "cell_type": "code",
   "execution_count": 2,
   "id": "67e236ec-bd94-4203-82df-ef36ade2310a",
   "metadata": {},
   "outputs": [
    {
     "data": {
      "text/plain": [
       "[0, 1, 2, 3, 4]"
      ]
     },
     "execution_count": 2,
     "metadata": {},
     "output_type": "execute_result"
    }
   ],
   "source": [
    "list(range(5))"
   ]
  },
  {
   "cell_type": "code",
   "execution_count": 3,
   "id": "ef9a38d7-f8b3-4e74-bb35-1ccd43f64f53",
   "metadata": {},
   "outputs": [
    {
     "data": {
      "text/plain": [
       "[0, 1, 2, 3, 4, 5, 6, 7, 8, 9]"
      ]
     },
     "execution_count": 3,
     "metadata": {},
     "output_type": "execute_result"
    }
   ],
   "source": [
    "list(range(0,10))"
   ]
  },
  {
   "cell_type": "code",
   "execution_count": 5,
   "id": "c452578a-ba55-45fe-910d-3206db8cb195",
   "metadata": {},
   "outputs": [
    {
     "ename": "TypeError",
     "evalue": "'float' object cannot be interpreted as an integer",
     "output_type": "error",
     "traceback": [
      "\u001b[0;31m---------------------------------------------------------------------------\u001b[0m",
      "\u001b[0;31mTypeError\u001b[0m                                 Traceback (most recent call last)",
      "Cell \u001b[0;32mIn[5], line 1\u001b[0m\n\u001b[0;32m----> 1\u001b[0m \u001b[38;5;28mlist\u001b[39m(\u001b[38;5;28;43mrange\u001b[39;49m\u001b[43m(\u001b[49m\u001b[38;5;241;43m0.4\u001b[39;49m\u001b[43m,\u001b[49m\u001b[38;5;241;43m0.10\u001b[39;49m\u001b[43m)\u001b[49m)  \u001b[38;5;66;03m# range does not allow the float\u001b[39;00m\n",
      "\u001b[0;31mTypeError\u001b[0m: 'float' object cannot be interpreted as an integer"
     ]
    }
   ],
   "source": [
    "list(range(0.4,0.10))  # range does not allow the float"
   ]
  },
  {
   "cell_type": "code",
   "execution_count": 17,
   "id": "8bfa9da1-725d-435b-a2ac-bc0e1702dccb",
   "metadata": {},
   "outputs": [
    {
     "data": {
      "text/plain": [
       "[0.4,\n",
       " 0.63,\n",
       " 0.86,\n",
       " 1.0899999999999999,\n",
       " 1.3199999999999998,\n",
       " 1.5499999999999998,\n",
       " 1.7799999999999998,\n",
       " 2.01,\n",
       " 2.2399999999999998,\n",
       " 2.4699999999999998,\n",
       " 2.6999999999999997,\n",
       " 2.9299999999999997,\n",
       " 3.1599999999999997,\n",
       " 3.3899999999999997,\n",
       " 3.6199999999999997,\n",
       " 3.8499999999999996,\n",
       " 4.08,\n",
       " 4.31,\n",
       " 4.54,\n",
       " 4.77,\n",
       " 5.0,\n",
       " 5.23,\n",
       " 5.46,\n",
       " 5.6899999999999995,\n",
       " 5.92,\n",
       " 6.15,\n",
       " 6.38,\n",
       " 6.609999999999999,\n",
       " 6.84,\n",
       " 7.07,\n",
       " 7.3,\n",
       " 7.529999999999999,\n",
       " 7.76,\n",
       " 7.99,\n",
       " 8.219999999999999,\n",
       " 8.45,\n",
       " 8.68,\n",
       " 8.91,\n",
       " 9.139999999999999,\n",
       " 9.37,\n",
       " 9.6,\n",
       " 9.83,\n",
       " 10.06,\n",
       " 10.29]"
      ]
     },
     "execution_count": 17,
     "metadata": {},
     "output_type": "execute_result"
    }
   ],
   "source": [
    "list(np.arange(0.4 , 10.4,0.23))  # this is similar to range function the only difference is it can take fraction as well"
   ]
  },
  {
   "cell_type": "code",
   "execution_count": 25,
   "id": "304f05b7-2f96-44f8-aaf5-fa37238203b8",
   "metadata": {},
   "outputs": [
    {
     "data": {
      "text/plain": [
       "array([ 1.  ,  3.25,  5.5 ,  7.75, 10.  ])"
      ]
     },
     "execution_count": 25,
     "metadata": {},
     "output_type": "execute_result"
    }
   ],
   "source": [
    "np.linspace(1,10,5)  ## linspace function create an array by dividing a given range into equal given steps "
   ]
  },
  {
   "cell_type": "code",
   "execution_count": 28,
   "id": "779208b6-600e-47e2-ac20-1361c4c1fff0",
   "metadata": {},
   "outputs": [
    {
     "data": {
      "text/plain": [
       "array([ 2.        ,  2.72158   ,  3.70349885,  5.0396842 ,  6.85795186,\n",
       "        9.33223232, 12.69920842, 17.28095582, 23.51575188, 32.        ])"
      ]
     },
     "execution_count": 28,
     "metadata": {},
     "output_type": "execute_result"
    }
   ],
   "source": [
    "#logspace function create an array by dividing a given range into equal given steps and give a logarithmic value with given base\n",
    "np.logspace(1,5, 10 ,base=2) "
   ]
  },
  {
   "cell_type": "code",
   "execution_count": 30,
   "id": "02141d8e-f726-4629-8da8-f39392094685",
   "metadata": {},
   "outputs": [
    {
     "data": {
      "text/plain": [
       "array([0., 0., 0., 0., 0.])"
      ]
     },
     "execution_count": 30,
     "metadata": {},
     "output_type": "execute_result"
    }
   ],
   "source": [
    "np.zeros(5) # it will genrate an array of given shape with cantaining all zeros"
   ]
  },
  {
   "cell_type": "code",
   "execution_count": 31,
   "id": "95f85aee-ff1b-41d0-98bd-29b13e3f370c",
   "metadata": {},
   "outputs": [
    {
     "data": {
      "text/plain": [
       "array([[0., 0., 0., 0.],\n",
       "       [0., 0., 0., 0.],\n",
       "       [0., 0., 0., 0.],\n",
       "       [0., 0., 0., 0.],\n",
       "       [0., 0., 0., 0.]])"
      ]
     },
     "execution_count": 31,
     "metadata": {},
     "output_type": "execute_result"
    }
   ],
   "source": [
    "np.zeros((5,4))"
   ]
  },
  {
   "cell_type": "code",
   "execution_count": 32,
   "id": "b0cc42ad-93f0-4556-9ad4-889c211f2348",
   "metadata": {},
   "outputs": [
    {
     "data": {
      "text/plain": [
       "array([[[0., 0.],\n",
       "        [0., 0.],\n",
       "        [0., 0.],\n",
       "        [0., 0.]],\n",
       "\n",
       "       [[0., 0.],\n",
       "        [0., 0.],\n",
       "        [0., 0.],\n",
       "        [0., 0.]],\n",
       "\n",
       "       [[0., 0.],\n",
       "        [0., 0.],\n",
       "        [0., 0.],\n",
       "        [0., 0.]]])"
      ]
     },
     "execution_count": 32,
     "metadata": {},
     "output_type": "execute_result"
    }
   ],
   "source": [
    "np.zeros((3,4,2)) ## it will create an array with 3 matrixes each having dimension 4*2"
   ]
  },
  {
   "cell_type": "code",
   "execution_count": 34,
   "id": "666a9b31-7db6-4bd1-90d2-06eacbbbaec1",
   "metadata": {},
   "outputs": [
    {
     "data": {
      "text/plain": [
       "array([[[[0.],\n",
       "         [0.],\n",
       "         [0.],\n",
       "         [0.]],\n",
       "\n",
       "        [[0.],\n",
       "         [0.],\n",
       "         [0.],\n",
       "         [0.]]],\n",
       "\n",
       "\n",
       "       [[[0.],\n",
       "         [0.],\n",
       "         [0.],\n",
       "         [0.]],\n",
       "\n",
       "        [[0.],\n",
       "         [0.],\n",
       "         [0.],\n",
       "         [0.]]],\n",
       "\n",
       "\n",
       "       [[[0.],\n",
       "         [0.],\n",
       "         [0.],\n",
       "         [0.]],\n",
       "\n",
       "        [[0.],\n",
       "         [0.],\n",
       "         [0.],\n",
       "         [0.]]]])"
      ]
     },
     "execution_count": 34,
     "metadata": {},
     "output_type": "execute_result"
    }
   ],
   "source": [
    "# we can generate as many as possible arrays but we can visualization only upto 3D array\n",
    "# in this case 2 sets of 4*1 matrixes are created like that 3 sets will created\n",
    "np.zeros((3,2,4,1))  "
   ]
  },
  {
   "cell_type": "code",
   "execution_count": 35,
   "id": "5ad51496-664a-4d0f-8e1d-03bd23222024",
   "metadata": {},
   "outputs": [
    {
     "data": {
      "text/plain": [
       "array([1., 1., 1., 1., 1.])"
      ]
     },
     "execution_count": 35,
     "metadata": {},
     "output_type": "execute_result"
    }
   ],
   "source": [
    "np.ones(5) ### it will create matrix cantaining 1"
   ]
  },
  {
   "cell_type": "code",
   "execution_count": 38,
   "id": "c68befa8-13e7-4c14-9e52-bd92e8b51bdc",
   "metadata": {},
   "outputs": [],
   "source": [
    "arr = np.ones((5,4))"
   ]
  },
  {
   "cell_type": "code",
   "execution_count": 39,
   "id": "832883b6-873e-4d38-85a3-8d2cb69ef0a8",
   "metadata": {},
   "outputs": [
    {
     "data": {
      "text/plain": [
       "array([[1., 1., 1., 1.],\n",
       "       [1., 1., 1., 1.],\n",
       "       [1., 1., 1., 1.],\n",
       "       [1., 1., 1., 1.],\n",
       "       [1., 1., 1., 1.]])"
      ]
     },
     "execution_count": 39,
     "metadata": {},
     "output_type": "execute_result"
    }
   ],
   "source": [
    "arr\n"
   ]
  },
  {
   "cell_type": "code",
   "execution_count": 40,
   "id": "1ba7125a-f268-4416-8983-0f3546bb9763",
   "metadata": {},
   "outputs": [
    {
     "data": {
      "text/plain": [
       "array([[6., 6., 6., 6.],\n",
       "       [6., 6., 6., 6.],\n",
       "       [6., 6., 6., 6.],\n",
       "       [6., 6., 6., 6.],\n",
       "       [6., 6., 6., 6.]])"
      ]
     },
     "execution_count": 40,
     "metadata": {},
     "output_type": "execute_result"
    }
   ],
   "source": [
    "arr + 5 ## it will add 5 in every element "
   ]
  },
  {
   "cell_type": "code",
   "execution_count": 41,
   "id": "31e00715-5aba-42bc-ba4b-5a836b9184aa",
   "metadata": {},
   "outputs": [
    {
     "data": {
      "text/plain": [
       "array([[5., 5., 5., 5.],\n",
       "       [5., 5., 5., 5.],\n",
       "       [5., 5., 5., 5.],\n",
       "       [5., 5., 5., 5.],\n",
       "       [5., 5., 5., 5.]])"
      ]
     },
     "execution_count": 41,
     "metadata": {},
     "output_type": "execute_result"
    }
   ],
   "source": [
    "arr*5"
   ]
  },
  {
   "cell_type": "markdown",
   "id": "7c7edff5-0d9a-4273-b8da-2c3797a998f2",
   "metadata": {},
   "source": [
    "When you call numpy.empty() to create a new array, it allocates a block of memory with the requested size and shape, but it doesn't initialize the values of the array. The content of the array will be whatever happens to be in that memory at the time, which is typically unpredictable and dependent on a number of factors, such as the state of the computer's memory and what other programs are running at the time."
   ]
  },
  {
   "cell_type": "code",
   "execution_count": 47,
   "id": "c811ea13-c7a9-46c4-8f3d-aebb2c76b511",
   "metadata": {},
   "outputs": [
    {
     "data": {
      "text/plain": [
       "array([[6.94634885e-310, 0.00000000e+000, 1.01855798e-312,\n",
       "        9.54898106e-313],\n",
       "       [1.16709769e-312, 1.03977794e-312, 1.23075756e-312,\n",
       "        1.06099790e-312],\n",
       "       [1.03977794e-312, 9.76118064e-313, 1.06099790e-312,\n",
       "        1.90979621e-312]])"
      ]
     },
     "execution_count": 47,
     "metadata": {},
     "output_type": "execute_result"
    }
   ],
   "source": [
    "np.empty((3,4))"
   ]
  },
  {
   "cell_type": "code",
   "execution_count": 50,
   "id": "6786f563-be79-489c-9c7a-4d12e6cde4d7",
   "metadata": {},
   "outputs": [],
   "source": [
    "arr1 =np.eye(5) ## it always gives us a identical matixes as we know identical matrixes are always a square matrixes"
   ]
  },
  {
   "cell_type": "code",
   "execution_count": 51,
   "id": "12921f3f-0936-4d96-a20e-80f0f5b44d1c",
   "metadata": {},
   "outputs": [],
   "source": [
    "import pandas as pd "
   ]
  },
  {
   "cell_type": "code",
   "execution_count": 52,
   "id": "d7ff908a-37b5-408d-b80b-36f27be01ecd",
   "metadata": {},
   "outputs": [
    {
     "data": {
      "text/html": [
       "<div>\n",
       "<style scoped>\n",
       "    .dataframe tbody tr th:only-of-type {\n",
       "        vertical-align: middle;\n",
       "    }\n",
       "\n",
       "    .dataframe tbody tr th {\n",
       "        vertical-align: top;\n",
       "    }\n",
       "\n",
       "    .dataframe thead th {\n",
       "        text-align: right;\n",
       "    }\n",
       "</style>\n",
       "<table border=\"1\" class=\"dataframe\">\n",
       "  <thead>\n",
       "    <tr style=\"text-align: right;\">\n",
       "      <th></th>\n",
       "      <th>0</th>\n",
       "      <th>1</th>\n",
       "      <th>2</th>\n",
       "      <th>3</th>\n",
       "      <th>4</th>\n",
       "    </tr>\n",
       "  </thead>\n",
       "  <tbody>\n",
       "    <tr>\n",
       "      <th>0</th>\n",
       "      <td>1.0</td>\n",
       "      <td>0.0</td>\n",
       "      <td>0.0</td>\n",
       "      <td>0.0</td>\n",
       "      <td>0.0</td>\n",
       "    </tr>\n",
       "    <tr>\n",
       "      <th>1</th>\n",
       "      <td>0.0</td>\n",
       "      <td>1.0</td>\n",
       "      <td>0.0</td>\n",
       "      <td>0.0</td>\n",
       "      <td>0.0</td>\n",
       "    </tr>\n",
       "    <tr>\n",
       "      <th>2</th>\n",
       "      <td>0.0</td>\n",
       "      <td>0.0</td>\n",
       "      <td>1.0</td>\n",
       "      <td>0.0</td>\n",
       "      <td>0.0</td>\n",
       "    </tr>\n",
       "    <tr>\n",
       "      <th>3</th>\n",
       "      <td>0.0</td>\n",
       "      <td>0.0</td>\n",
       "      <td>0.0</td>\n",
       "      <td>1.0</td>\n",
       "      <td>0.0</td>\n",
       "    </tr>\n",
       "    <tr>\n",
       "      <th>4</th>\n",
       "      <td>0.0</td>\n",
       "      <td>0.0</td>\n",
       "      <td>0.0</td>\n",
       "      <td>0.0</td>\n",
       "      <td>1.0</td>\n",
       "    </tr>\n",
       "  </tbody>\n",
       "</table>\n",
       "</div>"
      ],
      "text/plain": [
       "     0    1    2    3    4\n",
       "0  1.0  0.0  0.0  0.0  0.0\n",
       "1  0.0  1.0  0.0  0.0  0.0\n",
       "2  0.0  0.0  1.0  0.0  0.0\n",
       "3  0.0  0.0  0.0  1.0  0.0\n",
       "4  0.0  0.0  0.0  0.0  1.0"
      ]
     },
     "execution_count": 52,
     "metadata": {},
     "output_type": "execute_result"
    }
   ],
   "source": [
    "pd.DataFrame(arr1)  ## we can convert an array into an data frame "
   ]
  },
  {
   "cell_type": "code",
   "execution_count": 53,
   "id": "3c9c970b-3e53-4cb0-9406-691cb1362cf6",
   "metadata": {},
   "outputs": [
    {
     "data": {
      "text/plain": [
       "array([[0.3825463 , 0.10742205, 0.13695681],\n",
       "       [0.20859054, 0.93787227, 0.23359193]])"
      ]
     },
     "execution_count": 53,
     "metadata": {},
     "output_type": "execute_result"
    }
   ],
   "source": [
    "np.random.rand(2,3) ## it will genrate a random data "
   ]
  },
  {
   "cell_type": "code",
   "execution_count": 55,
   "id": "50581833-faed-4fb6-9da5-2e896a7636bc",
   "metadata": {},
   "outputs": [
    {
     "data": {
      "text/plain": [
       "array([[-0.01523046, -0.48319584, -0.49302121],\n",
       "       [-0.85934505,  0.77186562,  1.045942  ]])"
      ]
     },
     "execution_count": 55,
     "metadata": {},
     "output_type": "execute_result"
    }
   ],
   "source": [
    "np.random.randn(2,3)  ## it randn the mean of data is zero and the maximum standard deviation is 1 "
   ]
  },
  {
   "cell_type": "code",
   "execution_count": 59,
   "id": "8c71324e-6e32-41d5-8b3f-670321f46826",
   "metadata": {},
   "outputs": [],
   "source": [
    "arr2 = np.random.randint(1,5,(3,4)) ## it will create a matrix of 3*4 where all the elements is in range of 1 to 5"
   ]
  },
  {
   "cell_type": "code",
   "execution_count": 61,
   "id": "281f23ff-d56e-4220-adcf-05e6b9666978",
   "metadata": {},
   "outputs": [
    {
     "data": {
      "text/plain": [
       "array([[4, 4, 2, 2],\n",
       "       [4, 2, 1, 1],\n",
       "       [4, 2, 3, 4]])"
      ]
     },
     "execution_count": 61,
     "metadata": {},
     "output_type": "execute_result"
    }
   ],
   "source": [
    "arr2"
   ]
  },
  {
   "cell_type": "code",
   "execution_count": 60,
   "id": "30b3cfc7-36aa-4353-a337-a0d9fbafdc15",
   "metadata": {},
   "outputs": [
    {
     "data": {
      "text/plain": [
       "12"
      ]
     },
     "execution_count": 60,
     "metadata": {},
     "output_type": "execute_result"
    }
   ],
   "source": [
    "arr2.size"
   ]
  },
  {
   "cell_type": "code",
   "execution_count": 62,
   "id": "c46c3dec-04c7-4906-9a93-ac176a93217c",
   "metadata": {},
   "outputs": [
    {
     "data": {
      "text/plain": [
       "(3, 4)"
      ]
     },
     "execution_count": 62,
     "metadata": {},
     "output_type": "execute_result"
    }
   ],
   "source": [
    "arr2.shape"
   ]
  },
  {
   "cell_type": "code",
   "execution_count": 65,
   "id": "4cab3f88-8691-4903-b2d0-ae4d839ef83a",
   "metadata": {},
   "outputs": [
    {
     "data": {
      "text/plain": [
       "array([[4, 4, 2, 2, 4, 2],\n",
       "       [1, 1, 4, 2, 3, 4]])"
      ]
     },
     "execution_count": 65,
     "metadata": {},
     "output_type": "execute_result"
    }
   ],
   "source": [
    "arr2.reshape(2,6) ## while using reshape function size of an array can not be changed and elements are also not going to changee"
   ]
  },
  {
   "cell_type": "code",
   "execution_count": 66,
   "id": "a4f3d207-eb7e-4ce4-bb1c-98daa2984dc2",
   "metadata": {},
   "outputs": [
    {
     "ename": "ValueError",
     "evalue": "cannot reshape array of size 12 into shape (3,6)",
     "output_type": "error",
     "traceback": [
      "\u001b[0;31m---------------------------------------------------------------------------\u001b[0m",
      "\u001b[0;31mValueError\u001b[0m                                Traceback (most recent call last)",
      "Cell \u001b[0;32mIn[66], line 1\u001b[0m\n\u001b[0;32m----> 1\u001b[0m \u001b[43marr2\u001b[49m\u001b[38;5;241;43m.\u001b[39;49m\u001b[43mreshape\u001b[49m\u001b[43m(\u001b[49m\u001b[38;5;241;43m3\u001b[39;49m\u001b[43m,\u001b[49m\u001b[38;5;241;43m6\u001b[39;49m\u001b[43m)\u001b[49m\n",
      "\u001b[0;31mValueError\u001b[0m: cannot reshape array of size 12 into shape (3,6)"
     ]
    }
   ],
   "source": [
    "arr2.reshape(3,6)"
   ]
  },
  {
   "cell_type": "code",
   "execution_count": 68,
   "id": "38bf2284-b55c-4532-912d-eee21e58eeee",
   "metadata": {},
   "outputs": [
    {
     "data": {
      "text/plain": [
       "array([[4, 4, 2, 2],\n",
       "       [4, 2, 1, 1],\n",
       "       [4, 2, 3, 4]])"
      ]
     },
     "execution_count": 68,
     "metadata": {},
     "output_type": "execute_result"
    }
   ],
   "source": [
    "arr2.reshape(3,-5201256) ## while using reshape fun if we assigned a any one negative value then it will automactially understands the remaining value"
   ]
  },
  {
   "cell_type": "code",
   "execution_count": 73,
   "id": "3d96f492-43d0-4409-b952-14421c452169",
   "metadata": {},
   "outputs": [
    {
     "data": {
      "text/plain": [
       "array([[[[[[4]]]],\n",
       "\n",
       "\n",
       "\n",
       "        [[[[4]]]],\n",
       "\n",
       "\n",
       "\n",
       "        [[[[2]]]],\n",
       "\n",
       "\n",
       "\n",
       "        [[[[2]]]]],\n",
       "\n",
       "\n",
       "\n",
       "\n",
       "       [[[[[4]]]],\n",
       "\n",
       "\n",
       "\n",
       "        [[[[2]]]],\n",
       "\n",
       "\n",
       "\n",
       "        [[[[1]]]],\n",
       "\n",
       "\n",
       "\n",
       "        [[[[1]]]]],\n",
       "\n",
       "\n",
       "\n",
       "\n",
       "       [[[[[4]]]],\n",
       "\n",
       "\n",
       "\n",
       "        [[[[2]]]],\n",
       "\n",
       "\n",
       "\n",
       "        [[[[3]]]],\n",
       "\n",
       "\n",
       "\n",
       "        [[[[4]]]]]])"
      ]
     },
     "execution_count": 73,
     "metadata": {},
     "output_type": "execute_result"
    }
   ],
   "source": [
    "arr2.reshape(3,-5201256,1,1,1,1)"
   ]
  },
  {
   "cell_type": "code",
   "execution_count": 75,
   "id": "2208b8c2-3ad5-419c-a542-fe874be02e28",
   "metadata": {},
   "outputs": [],
   "source": [
    "arr3 = np.random.randint(1,10 ,(5,6))"
   ]
  },
  {
   "cell_type": "code",
   "execution_count": 76,
   "id": "22ef4ea4-9dbb-458a-a9d6-9003ef930b99",
   "metadata": {},
   "outputs": [
    {
     "data": {
      "text/plain": [
       "array([[1, 4, 8, 7, 9, 3],\n",
       "       [2, 8, 2, 9, 6, 7],\n",
       "       [8, 1, 6, 2, 1, 5],\n",
       "       [7, 6, 4, 8, 3, 3],\n",
       "       [7, 7, 9, 3, 9, 7]])"
      ]
     },
     "execution_count": 76,
     "metadata": {},
     "output_type": "execute_result"
    }
   ],
   "source": [
    "arr3"
   ]
  },
  {
   "cell_type": "code",
   "execution_count": 79,
   "id": "df9557cd-c7e7-4d9f-9916-9bc4a5233db1",
   "metadata": {},
   "outputs": [
    {
     "data": {
      "text/plain": [
       "array([[False, False, False, False,  True, False],\n",
       "       [False, False, False,  True, False, False],\n",
       "       [False, False, False, False, False, False],\n",
       "       [False, False, False, False, False, False],\n",
       "       [False, False,  True, False,  True, False]])"
      ]
     },
     "execution_count": 79,
     "metadata": {},
     "output_type": "execute_result"
    }
   ],
   "source": [
    "arr3 > 8 ## we can find the data inside an array based on our conditions"
   ]
  },
  {
   "cell_type": "code",
   "execution_count": 78,
   "id": "b14aadfb-10e7-41d5-853b-f8ec13d5ea53",
   "metadata": {},
   "outputs": [
    {
     "data": {
      "text/plain": [
       "array([9, 9, 9, 9])"
      ]
     },
     "execution_count": 78,
     "metadata": {},
     "output_type": "execute_result"
    }
   ],
   "source": [
    "arr3[arr3>8]"
   ]
  },
  {
   "cell_type": "code",
   "execution_count": 80,
   "id": "49449b4e-4583-46fb-928a-520bf5f0b095",
   "metadata": {},
   "outputs": [
    {
     "data": {
      "text/plain": [
       "array([[1, 4, 8, 7, 9, 3],\n",
       "       [2, 8, 2, 9, 6, 7],\n",
       "       [8, 1, 6, 2, 1, 5],\n",
       "       [7, 6, 4, 8, 3, 3],\n",
       "       [7, 7, 9, 3, 9, 7]])"
      ]
     },
     "execution_count": 80,
     "metadata": {},
     "output_type": "execute_result"
    }
   ],
   "source": [
    "arr3"
   ]
  },
  {
   "cell_type": "code",
   "execution_count": 81,
   "id": "9348b9ab-4c74-4ab6-a624-95a7a3b06518",
   "metadata": {},
   "outputs": [
    {
     "data": {
      "text/plain": [
       "array([1, 4, 8, 7, 9, 3])"
      ]
     },
     "execution_count": 81,
     "metadata": {},
     "output_type": "execute_result"
    }
   ],
   "source": [
    "arr3[0]"
   ]
  },
  {
   "cell_type": "code",
   "execution_count": 86,
   "id": "1cff0a3d-cb87-4408-9ea9-edf12bc3a2e1",
   "metadata": {},
   "outputs": [
    {
     "data": {
      "text/plain": [
       "array([4, 7, 8, 9])"
      ]
     },
     "execution_count": 86,
     "metadata": {},
     "output_type": "execute_result"
    }
   ],
   "source": [
    "arr3[0,[1,3,2,4]] ## we can extract data what ever we want "
   ]
  },
  {
   "cell_type": "code",
   "execution_count": 88,
   "id": "ddc32001-5903-4a5b-b663-5ddd852a1fdc",
   "metadata": {},
   "outputs": [
    {
     "data": {
      "text/plain": [
       "array([[6, 2],\n",
       "       [4, 8]])"
      ]
     },
     "execution_count": 88,
     "metadata": {},
     "output_type": "execute_result"
    }
   ],
   "source": [
    "arr3[2:4,[2,3]]"
   ]
  },
  {
   "cell_type": "code",
   "execution_count": 89,
   "id": "9b01e6f9-835f-449c-8f7b-7b9d696c3e89",
   "metadata": {},
   "outputs": [],
   "source": [
    "arr4 = np.random.randint(1,3,(3,3))\n",
    "arr5 = np.random.randint(1,3,(3,3))"
   ]
  },
  {
   "cell_type": "code",
   "execution_count": 90,
   "id": "f3ae57d7-c1b9-4400-87f6-800563eeacd5",
   "metadata": {},
   "outputs": [
    {
     "data": {
      "text/plain": [
       "array([[2, 1, 1],\n",
       "       [2, 1, 1],\n",
       "       [1, 1, 1]])"
      ]
     },
     "execution_count": 90,
     "metadata": {},
     "output_type": "execute_result"
    }
   ],
   "source": [
    "arr4"
   ]
  },
  {
   "cell_type": "code",
   "execution_count": 92,
   "id": "4be2f3b4-2efb-4ca9-be92-0a62ac6b698d",
   "metadata": {},
   "outputs": [
    {
     "data": {
      "text/plain": [
       "array([[1, 1, 1],\n",
       "       [1, 2, 2],\n",
       "       [1, 1, 2]])"
      ]
     },
     "execution_count": 92,
     "metadata": {},
     "output_type": "execute_result"
    }
   ],
   "source": [
    "arr5"
   ]
  },
  {
   "cell_type": "code",
   "execution_count": 94,
   "id": "5feccc66-d049-48c8-b531-fef561eee5ae",
   "metadata": {},
   "outputs": [
    {
     "data": {
      "text/plain": [
       "array([[3, 2, 2],\n",
       "       [3, 3, 3],\n",
       "       [2, 2, 3]])"
      ]
     },
     "execution_count": 94,
     "metadata": {},
     "output_type": "execute_result"
    }
   ],
   "source": [
    "arr4+arr5 ## it is performing addision index wise"
   ]
  },
  {
   "cell_type": "code",
   "execution_count": 95,
   "id": "ce2f42a8-c245-4e77-91ed-e422d00a2998",
   "metadata": {},
   "outputs": [
    {
     "data": {
      "text/plain": [
       "array([[ 1,  0,  0],\n",
       "       [ 1, -1, -1],\n",
       "       [ 0,  0, -1]])"
      ]
     },
     "execution_count": 95,
     "metadata": {},
     "output_type": "execute_result"
    }
   ],
   "source": [
    "arr4-arr5"
   ]
  },
  {
   "cell_type": "code",
   "execution_count": 96,
   "id": "3342c3f6-19b7-4e13-bb0d-f49a67452469",
   "metadata": {},
   "outputs": [
    {
     "data": {
      "text/plain": [
       "array([[2, 1, 1],\n",
       "       [2, 2, 2],\n",
       "       [1, 1, 2]])"
      ]
     },
     "execution_count": 96,
     "metadata": {},
     "output_type": "execute_result"
    }
   ],
   "source": [
    "arr4*arr5 ## it is not a matrix multiplication it is just performing index wise multiplication"
   ]
  },
  {
   "cell_type": "code",
   "execution_count": 97,
   "id": "bc10dfba-55ae-4e0e-977e-293fd001fce6",
   "metadata": {},
   "outputs": [
    {
     "data": {
      "text/plain": [
       "array([[4, 5, 6],\n",
       "       [4, 5, 6],\n",
       "       [3, 4, 5]])"
      ]
     },
     "execution_count": 97,
     "metadata": {},
     "output_type": "execute_result"
    }
   ],
   "source": [
    "# if we want to take matrix multipication \n",
    "arr4@arr5 ## @ symbol is used to do matrix multiplication"
   ]
  },
  {
   "cell_type": "code",
   "execution_count": 98,
   "id": "b8003f8a-9fec-45a9-92d2-b6b5a3635150",
   "metadata": {},
   "outputs": [
    {
     "data": {
      "text/plain": [
       "array([[2. , 1. , 1. ],\n",
       "       [2. , 0.5, 0.5],\n",
       "       [1. , 1. , 0.5]])"
      ]
     },
     "execution_count": 98,
     "metadata": {},
     "output_type": "execute_result"
    }
   ],
   "source": [
    "arr4/arr5 # it will perform indexwise division"
   ]
  },
  {
   "cell_type": "code",
   "execution_count": 101,
   "id": "4c9d06df-e494-4012-86df-db06c91096f2",
   "metadata": {},
   "outputs": [
    {
     "name": "stderr",
     "output_type": "stream",
     "text": [
      "/tmp/ipykernel_105/2627289438.py:1: RuntimeWarning: divide by zero encountered in divide\n",
      "  arr4/0 ## by dividing zero it will give infinity\n"
     ]
    },
    {
     "data": {
      "text/plain": [
       "array([[inf, inf, inf],\n",
       "       [inf, inf, inf],\n",
       "       [inf, inf, inf]])"
      ]
     },
     "execution_count": 101,
     "metadata": {},
     "output_type": "execute_result"
    }
   ],
   "source": [
    "arr4/0 ## by dividing zero it will give infinity"
   ]
  },
  {
   "cell_type": "code",
   "execution_count": 102,
   "id": "d55c456e-79dd-4644-bc52-24accd0afc70",
   "metadata": {},
   "outputs": [],
   "source": [
    "# Numpy - Broadcasting"
   ]
  },
  {
   "cell_type": "code",
   "execution_count": 103,
   "id": "3dc7599b-4ee4-4f7e-9825-c428dd61850c",
   "metadata": {},
   "outputs": [],
   "source": [
    "arr6=np.zeros((3,4))"
   ]
  },
  {
   "cell_type": "code",
   "execution_count": 104,
   "id": "6784c1f1-cc4b-4d88-8873-7c4dc12fdb4e",
   "metadata": {},
   "outputs": [
    {
     "data": {
      "text/plain": [
       "array([[0., 0., 0., 0.],\n",
       "       [0., 0., 0., 0.],\n",
       "       [0., 0., 0., 0.]])"
      ]
     },
     "execution_count": 104,
     "metadata": {},
     "output_type": "execute_result"
    }
   ],
   "source": [
    "arr6"
   ]
  },
  {
   "cell_type": "code",
   "execution_count": 105,
   "id": "327f2824-1fab-47e8-babb-f56ff353536a",
   "metadata": {},
   "outputs": [
    {
     "data": {
      "text/plain": [
       "array([[5., 5., 5., 5.],\n",
       "       [5., 5., 5., 5.],\n",
       "       [5., 5., 5., 5.]])"
      ]
     },
     "execution_count": 105,
     "metadata": {},
     "output_type": "execute_result"
    }
   ],
   "source": [
    "arr6 + 5"
   ]
  },
  {
   "cell_type": "code",
   "execution_count": 113,
   "id": "2ebff85e-551a-4470-a865-53bede47505c",
   "metadata": {},
   "outputs": [],
   "source": [
    "a = np.array([1,2,3,4])"
   ]
  },
  {
   "cell_type": "code",
   "execution_count": 114,
   "id": "38adde6e-b2cd-4ed3-bf28-6994163289d1",
   "metadata": {},
   "outputs": [
    {
     "data": {
      "text/plain": [
       "array([[1., 2., 3., 4.],\n",
       "       [1., 2., 3., 4.],\n",
       "       [1., 2., 3., 4.]])"
      ]
     },
     "execution_count": 114,
     "metadata": {},
     "output_type": "execute_result"
    }
   ],
   "source": [
    "arr6+ a ## it will add column wise"
   ]
  },
  {
   "cell_type": "code",
   "execution_count": 117,
   "id": "002ce349-423a-4eac-b8a8-582a7f7be233",
   "metadata": {},
   "outputs": [],
   "source": [
    "b = np.array([[3,4,5]])"
   ]
  },
  {
   "cell_type": "code",
   "execution_count": 118,
   "id": "d1251e86-1a82-4acf-ac02-b5d1cd3ea722",
   "metadata": {},
   "outputs": [
    {
     "ename": "ValueError",
     "evalue": "operands could not be broadcast together with shapes (3,4) (1,3) ",
     "output_type": "error",
     "traceback": [
      "\u001b[0;31m---------------------------------------------------------------------------\u001b[0m",
      "\u001b[0;31mValueError\u001b[0m                                Traceback (most recent call last)",
      "Cell \u001b[0;32mIn[118], line 1\u001b[0m\n\u001b[0;32m----> 1\u001b[0m \u001b[43marr6\u001b[49m\u001b[38;5;241;43m+\u001b[39;49m\u001b[43mb\u001b[49m \u001b[38;5;66;03m## to remove this error we need to rotate an array. To rotate an array, array must be having 2 dimensional\u001b[39;00m\n",
      "\u001b[0;31mValueError\u001b[0m: operands could not be broadcast together with shapes (3,4) (1,3) "
     ]
    }
   ],
   "source": [
    "arr6+b ## to remove this error we need to rotate an array. To rotate an array, array must be having 2 dimensional"
   ]
  },
  {
   "cell_type": "code",
   "execution_count": 122,
   "id": "e0ca9101-c393-43fd-af5b-7af36e2be709",
   "metadata": {},
   "outputs": [],
   "source": [
    " arr7 =arr6+b.T"
   ]
  },
  {
   "cell_type": "code",
   "execution_count": 123,
   "id": "e8435382-9247-48e6-b377-e3dcd6878134",
   "metadata": {},
   "outputs": [
    {
     "data": {
      "text/plain": [
       "array([[3., 3., 3., 3.],\n",
       "       [4., 4., 4., 4.],\n",
       "       [5., 5., 5., 5.]])"
      ]
     },
     "execution_count": 123,
     "metadata": {},
     "output_type": "execute_result"
    }
   ],
   "source": [
    "arr7"
   ]
  },
  {
   "cell_type": "code",
   "execution_count": 121,
   "id": "03964452-80b3-43a5-a156-a5f1d75aa981",
   "metadata": {},
   "outputs": [
    {
     "data": {
      "text/plain": [
       "array([[3],\n",
       "       [4],\n",
       "       [5]])"
      ]
     },
     "execution_count": 121,
     "metadata": {},
     "output_type": "execute_result"
    }
   ],
   "source": [
    "b.T"
   ]
  },
  {
   "cell_type": "code",
   "execution_count": 125,
   "id": "6778d314-1350-41e2-ba75-4475e82889eb",
   "metadata": {},
   "outputs": [
    {
     "data": {
      "text/plain": [
       "array([[1.73205081, 1.73205081, 1.73205081, 1.73205081],\n",
       "       [2.        , 2.        , 2.        , 2.        ],\n",
       "       [2.23606798, 2.23606798, 2.23606798, 2.23606798]])"
      ]
     },
     "execution_count": 125,
     "metadata": {},
     "output_type": "execute_result"
    }
   ],
   "source": [
    "np.sqrt(arr7)  ## we can find out square root of each elemnt in array"
   ]
  },
  {
   "cell_type": "code",
   "execution_count": 128,
   "id": "fa4cc5b3-784b-45e7-ab7a-fa9f60d93ed2",
   "metadata": {},
   "outputs": [
    {
     "data": {
      "text/plain": [
       "array([[0.47712125, 0.47712125, 0.47712125, 0.47712125],\n",
       "       [0.60205999, 0.60205999, 0.60205999, 0.60205999],\n",
       "       [0.69897   , 0.69897   , 0.69897   , 0.69897   ]])"
      ]
     },
     "execution_count": 128,
     "metadata": {},
     "output_type": "execute_result"
    }
   ],
   "source": [
    "np.log10(arr7) ## in case of log we can only perform log with base 10"
   ]
  },
  {
   "cell_type": "code",
   "execution_count": 129,
   "id": "ffb79cf6-14e3-48c4-a255-2a646b0987f4",
   "metadata": {},
   "outputs": [
    {
     "data": {
      "text/plain": [
       "array([[ 20.08553692,  20.08553692,  20.08553692,  20.08553692],\n",
       "       [ 54.59815003,  54.59815003,  54.59815003,  54.59815003],\n",
       "       [148.4131591 , 148.4131591 , 148.4131591 , 148.4131591 ]])"
      ]
     },
     "execution_count": 129,
     "metadata": {},
     "output_type": "execute_result"
    }
   ],
   "source": [
    "np.exp(arr7)"
   ]
  },
  {
   "cell_type": "code",
   "execution_count": 130,
   "id": "1e816f6f-2579-4547-aa0e-c924918a777b",
   "metadata": {},
   "outputs": [
    {
     "data": {
      "text/plain": [
       "3.0"
      ]
     },
     "execution_count": 130,
     "metadata": {},
     "output_type": "execute_result"
    }
   ],
   "source": [
    "np.min(arr7)"
   ]
  },
  {
   "cell_type": "code",
   "execution_count": 131,
   "id": "4b30fffb-74a4-4374-96a2-1811f64ee278",
   "metadata": {},
   "outputs": [
    {
     "data": {
      "text/plain": [
       "5.0"
      ]
     },
     "execution_count": 131,
     "metadata": {},
     "output_type": "execute_result"
    }
   ],
   "source": [
    "np.max(arr7)"
   ]
  },
  {
   "cell_type": "markdown",
   "id": "ef610850-cbbb-44f8-938d-ea6acea5a55e",
   "metadata": {
    "jp-MarkdownHeadingCollapsed": true,
    "tags": []
   },
   "source": [
    "# Numpy - part 3"
   ]
  },
  {
   "cell_type": "code",
   "execution_count": 1,
   "id": "46177d56-0a96-467b-85f0-75d9211524fc",
   "metadata": {},
   "outputs": [],
   "source": [
    "import numpy as np"
   ]
  },
  {
   "cell_type": "markdown",
   "id": "a520c062-ffeb-4a86-8af5-36adb9a9c713",
   "metadata": {
    "tags": []
   },
   "source": [
    "## Numpy array Manipulation"
   ]
  },
  {
   "cell_type": "code",
   "execution_count": 4,
   "id": "28e59962-c354-41cb-92c8-d59377f7fc21",
   "metadata": {},
   "outputs": [],
   "source": [
    "arr=np.random.randint(1,10,(4,4))"
   ]
  },
  {
   "cell_type": "code",
   "execution_count": 5,
   "id": "3979f96b-f217-4e7b-ae8a-448b978d2b2f",
   "metadata": {},
   "outputs": [
    {
     "data": {
      "text/plain": [
       "array([[2, 1],\n",
       "       [5, 9],\n",
       "       [7, 2],\n",
       "       [4, 2],\n",
       "       [6, 1],\n",
       "       [1, 4],\n",
       "       [6, 2],\n",
       "       [1, 1]])"
      ]
     },
     "execution_count": 5,
     "metadata": {},
     "output_type": "execute_result"
    }
   ],
   "source": [
    "arr.reshape(8,2)"
   ]
  },
  {
   "cell_type": "code",
   "execution_count": 7,
   "id": "ede50d72-b199-40a5-8881-ed30df0098f7",
   "metadata": {},
   "outputs": [
    {
     "data": {
      "text/plain": [
       "array([[2, 1, 5, 9],\n",
       "       [7, 2, 4, 2],\n",
       "       [6, 1, 1, 4],\n",
       "       [6, 2, 1, 1]])"
      ]
     },
     "execution_count": 7,
     "metadata": {},
     "output_type": "execute_result"
    }
   ],
   "source": [
    "arr"
   ]
  },
  {
   "cell_type": "code",
   "execution_count": 8,
   "id": "d8268345-f3c2-4eb4-b66c-2a141f4c8fb0",
   "metadata": {},
   "outputs": [
    {
     "data": {
      "text/plain": [
       "array([[2, 7, 6, 6],\n",
       "       [1, 2, 1, 2],\n",
       "       [5, 4, 1, 1],\n",
       "       [9, 2, 4, 1]])"
      ]
     },
     "execution_count": 8,
     "metadata": {},
     "output_type": "execute_result"
    }
   ],
   "source": [
    "arr.T"
   ]
  },
  {
   "cell_type": "code",
   "execution_count": 27,
   "id": "c44ff919-f280-4bee-a8e9-ce66fb0afce5",
   "metadata": {},
   "outputs": [
    {
     "data": {
      "text/plain": [
       "array([2, 1, 5, 9, 7, 2, 4, 2, 6, 1, 1, 4, 6, 2, 1, 1])"
      ]
     },
     "execution_count": 27,
     "metadata": {},
     "output_type": "execute_result"
    }
   ],
   "source": [
    "arr.flatten() ## it create flat array all the elements in a one row i.e. one dimensional array"
   ]
  },
  {
   "cell_type": "code",
   "execution_count": 12,
   "id": "2dd638dd-f559-4ff2-94a2-bf56a408df4f",
   "metadata": {},
   "outputs": [
    {
     "data": {
      "text/plain": [
       "array([[2, 1, 5, 9],\n",
       "       [7, 2, 4, 2],\n",
       "       [6, 1, 1, 4],\n",
       "       [6, 2, 1, 1]])"
      ]
     },
     "execution_count": 12,
     "metadata": {},
     "output_type": "execute_result"
    }
   ],
   "source": [
    "arr"
   ]
  },
  {
   "cell_type": "code",
   "execution_count": 29,
   "id": "24379b70-3aea-4441-9396-f2d4c8bd0c7b",
   "metadata": {},
   "outputs": [
    {
     "data": {
      "text/plain": [
       "array([[[2, 1, 5, 9]],\n",
       "\n",
       "       [[7, 2, 4, 2]],\n",
       "\n",
       "       [[6, 1, 1, 4]],\n",
       "\n",
       "       [[6, 2, 1, 1]]])"
      ]
     },
     "execution_count": 29,
     "metadata": {},
     "output_type": "execute_result"
    }
   ],
   "source": [
    "## in this fun dimension of the array is increased by 1 i.e. 2 dimension covverted into 3 dimesion \n",
    "## the maximum it can convert into 3 dimension array \n",
    "np.expand_dims(arr,axis=1)  ### axis= 1 it means that it will perform column wise operation"
   ]
  },
  {
   "cell_type": "code",
   "execution_count": 30,
   "id": "a6be8c8d-465e-43ba-a456-10b924bd318e",
   "metadata": {},
   "outputs": [
    {
     "data": {
      "text/plain": [
       "array([[[2, 1, 5, 9],\n",
       "        [7, 2, 4, 2],\n",
       "        [6, 1, 1, 4],\n",
       "        [6, 2, 1, 1]]])"
      ]
     },
     "execution_count": 30,
     "metadata": {},
     "output_type": "execute_result"
    }
   ],
   "source": [
    "np.expand_dims(arr,axis=0)  ### axis= 0 it means that it will perform row wise operation"
   ]
  },
  {
   "cell_type": "code",
   "execution_count": 31,
   "id": "84b564a2-8b0c-49ad-a296-4810183bf491",
   "metadata": {},
   "outputs": [],
   "source": [
    "data  = np.array(list([[1],[2],[3]]))"
   ]
  },
  {
   "cell_type": "code",
   "execution_count": 33,
   "id": "619edc44-1daf-42f6-87e1-4d0bd7db5550",
   "metadata": {},
   "outputs": [
    {
     "data": {
      "text/plain": [
       "array([1, 2, 3])"
      ]
     },
     "execution_count": 33,
     "metadata": {},
     "output_type": "execute_result"
    }
   ],
   "source": [
    "np.squeeze(data)  ## it will convert 2 dimensional array to 1 dimensional array"
   ]
  },
  {
   "cell_type": "code",
   "execution_count": 39,
   "id": "c14dbab5-b96b-4545-a550-0ea318468e74",
   "metadata": {},
   "outputs": [
    {
     "data": {
      "text/plain": [
       "array([1, 1, 1, 1, 1, 1, 1, 1, 1, 1, 2, 2, 2, 2, 2, 2, 2, 2, 2, 2, 3, 3,\n",
       "       3, 3, 3, 3, 3, 3, 3, 3])"
      ]
     },
     "execution_count": 39,
     "metadata": {},
     "output_type": "execute_result"
    }
   ],
   "source": [
    "np.repeat(data,10) # This fun repeats the all elemets as we assign th no of repetation"
   ]
  },
  {
   "cell_type": "code",
   "execution_count": 43,
   "id": "288dcf72-27f5-48e9-a365-09098580d219",
   "metadata": {},
   "outputs": [
    {
     "data": {
      "text/plain": [
       "array([[2],\n",
       "       [3],\n",
       "       [1]])"
      ]
     },
     "execution_count": 43,
     "metadata": {},
     "output_type": "execute_result"
    }
   ],
   "source": [
    "#This fun rotates the given data after the number we assign i.e it roll a elements in a circular way i.e. 0 to n and n to 0\n",
    "# for zero index it will be 0+2 i.e. for index one it is 1+2 but here 3rd position is not avaliable so it will be again zero\n",
    "np.roll(data,2)"
   ]
  },
  {
   "cell_type": "code",
   "execution_count": 49,
   "id": "aacba9ee-f646-4ed5-9c70-fad7e5dc6b94",
   "metadata": {},
   "outputs": [
    {
     "data": {
      "text/plain": [
       "array([[1, 0, 0, 0],\n",
       "       [0, 2, 0, 0],\n",
       "       [0, 0, 3, 0],\n",
       "       [0, 0, 0, 4]])"
      ]
     },
     "execution_count": 49,
     "metadata": {},
     "output_type": "execute_result"
    }
   ],
   "source": [
    "np.diag(np.array([1,2,3,4])) ### it will create an diagonal array with all element in passing array as a diagonal element"
   ]
  },
  {
   "cell_type": "markdown",
   "id": "274f22ba-3c0b-4240-ac28-f946a225df59",
   "metadata": {
    "tags": []
   },
   "source": [
    "## Numpy - Binary Operations"
   ]
  },
  {
   "cell_type": "code",
   "execution_count": 53,
   "id": "9005a02e-a3e0-4bf1-8ba0-099a84d8ead7",
   "metadata": {},
   "outputs": [],
   "source": [
    "arr1 =np.random.randint(1,10,(3,4))\n",
    "arr2 =np.random.randint(1,10,(3,4))"
   ]
  },
  {
   "cell_type": "code",
   "execution_count": 54,
   "id": "88abb648-11d7-4d91-9a3c-f4bbaee06a47",
   "metadata": {},
   "outputs": [
    {
     "data": {
      "text/plain": [
       "array([[9, 1, 3, 6],\n",
       "       [4, 6, 3, 4],\n",
       "       [6, 2, 2, 3]])"
      ]
     },
     "execution_count": 54,
     "metadata": {},
     "output_type": "execute_result"
    }
   ],
   "source": [
    "arr1"
   ]
  },
  {
   "cell_type": "code",
   "execution_count": 55,
   "id": "04d78b4e-5d1a-4fc9-ae01-28a91ee8ce00",
   "metadata": {},
   "outputs": [
    {
     "data": {
      "text/plain": [
       "array([[6, 3, 1, 7],\n",
       "       [7, 4, 1, 7],\n",
       "       [5, 9, 5, 2]])"
      ]
     },
     "execution_count": 55,
     "metadata": {},
     "output_type": "execute_result"
    }
   ],
   "source": [
    "arr2"
   ]
  },
  {
   "cell_type": "code",
   "execution_count": 56,
   "id": "c06a25ee-a0da-4f7b-9a2e-f4451a97dae6",
   "metadata": {},
   "outputs": [
    {
     "data": {
      "text/plain": [
       "array([[15,  4,  4, 13],\n",
       "       [11, 10,  4, 11],\n",
       "       [11, 11,  7,  5]])"
      ]
     },
     "execution_count": 56,
     "metadata": {},
     "output_type": "execute_result"
    }
   ],
   "source": [
    "arr1+arr2 ## it will give addition by index wise"
   ]
  },
  {
   "cell_type": "code",
   "execution_count": 57,
   "id": "400db01c-37b2-4e2f-8816-6c7df80887e1",
   "metadata": {},
   "outputs": [
    {
     "data": {
      "text/plain": [
       "array([[54,  3,  3, 42],\n",
       "       [28, 24,  3, 28],\n",
       "       [30, 18, 10,  6]])"
      ]
     },
     "execution_count": 57,
     "metadata": {},
     "output_type": "execute_result"
    }
   ],
   "source": [
    "arr1*arr2 ## it will give multiplition by index wise"
   ]
  },
  {
   "cell_type": "code",
   "execution_count": 58,
   "id": "87c498bf-32d1-4ca9-be34-f7f1f96a6134",
   "metadata": {},
   "outputs": [
    {
     "data": {
      "text/plain": [
       "array([[1.5       , 0.33333333, 3.        , 0.85714286],\n",
       "       [0.57142857, 1.5       , 3.        , 0.57142857],\n",
       "       [1.2       , 0.22222222, 0.4       , 1.5       ]])"
      ]
     },
     "execution_count": 58,
     "metadata": {},
     "output_type": "execute_result"
    }
   ],
   "source": [
    "arr1/arr2 ## it will give divition by index wise"
   ]
  },
  {
   "cell_type": "code",
   "execution_count": 59,
   "id": "db9b7c9b-7e3f-4257-a94a-33e9a2b5264a",
   "metadata": {},
   "outputs": [
    {
     "data": {
      "text/plain": [
       "array([[ 3, -2,  2, -1],\n",
       "       [-3,  2,  2, -3],\n",
       "       [ 1, -7, -3,  1]])"
      ]
     },
     "execution_count": 59,
     "metadata": {},
     "output_type": "execute_result"
    }
   ],
   "source": [
    "arr1-arr2 ## it will give subtraction by index wise"
   ]
  },
  {
   "cell_type": "code",
   "execution_count": 62,
   "id": "9aa13772-fb39-4f7c-9710-bfd8e6c1675e",
   "metadata": {},
   "outputs": [
    {
     "data": {
      "text/plain": [
       "array([[531441,      1,      3, 279936],\n",
       "       [ 16384,   1296,      3,  16384],\n",
       "       [  7776,    512,     32,      9]])"
      ]
     },
     "execution_count": 62,
     "metadata": {},
     "output_type": "execute_result"
    }
   ],
   "source": [
    "arr1**arr2 ## it will perform power opration  by index wise"
   ]
  },
  {
   "cell_type": "code",
   "execution_count": 60,
   "id": "ee0ac9bb-48ef-494f-90c4-afc36a01a510",
   "metadata": {},
   "outputs": [
    {
     "data": {
      "text/plain": [
       "array([[-10,  -2,  -4,  -7],\n",
       "       [ -5,  -7,  -4,  -5],\n",
       "       [ -7,  -3,  -3,  -4]])"
      ]
     },
     "execution_count": 60,
     "metadata": {},
     "output_type": "execute_result"
    }
   ],
   "source": [
    "~arr1 ## it will convert all positive value into negative vlaues"
   ]
  },
  {
   "cell_type": "code",
   "execution_count": 61,
   "id": "5b630364-cc29-4a94-8e1d-0fb7303c6028",
   "metadata": {},
   "outputs": [
    {
     "data": {
      "text/plain": [
       "array([[9, 1, 3, 6],\n",
       "       [4, 6, 3, 4],\n",
       "       [6, 2, 2, 3]])"
      ]
     },
     "execution_count": 61,
     "metadata": {},
     "output_type": "execute_result"
    }
   ],
   "source": [
    "arr1"
   ]
  },
  {
   "cell_type": "code",
   "execution_count": 63,
   "id": "85da5150-1dfc-4dfc-9760-82ee838e46b5",
   "metadata": {},
   "outputs": [
    {
     "data": {
      "text/plain": [
       "array([[ True, False,  True, False],\n",
       "       [False,  True,  True, False],\n",
       "       [ True, False, False,  True]])"
      ]
     },
     "execution_count": 63,
     "metadata": {},
     "output_type": "execute_result"
    }
   ],
   "source": [
    "arr1>arr2 ##comparision opration"
   ]
  },
  {
   "cell_type": "markdown",
   "id": "582567e5-4bef-4ba7-a4e5-dbf45f55a908",
   "metadata": {
    "tags": []
   },
   "source": [
    "## Numpy - String Operation"
   ]
  },
  {
   "cell_type": "code",
   "execution_count": 64,
   "id": "4172f1e2-bb36-47d5-898f-fd317d4982c0",
   "metadata": {},
   "outputs": [],
   "source": [
    "arr3 = np.asarray([\"namit\",\"chaudhari\"])"
   ]
  },
  {
   "cell_type": "code",
   "execution_count": 66,
   "id": "6b71d117-89b6-413a-ad63-da304f026769",
   "metadata": {},
   "outputs": [
    {
     "data": {
      "text/plain": [
       "array(['namit', 'chaudhari'], dtype='<U9')"
      ]
     },
     "execution_count": 66,
     "metadata": {},
     "output_type": "execute_result"
    }
   ],
   "source": [
    "arr3 ## data type <U9 it means its a string array"
   ]
  },
  {
   "cell_type": "code",
   "execution_count": 72,
   "id": "6cd16367-5095-4a79-b2c4-a52dc6c52b0e",
   "metadata": {},
   "outputs": [
    {
     "data": {
      "text/plain": [
       "array(['NAMIT', 'CHAUDHARI'], dtype='<U9')"
      ]
     },
     "execution_count": 72,
     "metadata": {},
     "output_type": "execute_result"
    }
   ],
   "source": [
    "np.char.upper(arr3) ## char fun gives excess to all string funtions inside a numpy"
   ]
  },
  {
   "cell_type": "code",
   "execution_count": 73,
   "id": "2a007731-05ea-462f-80de-abd3f982503f",
   "metadata": {},
   "outputs": [
    {
     "data": {
      "text/plain": [
       "array(['Namit', 'Chaudhari'], dtype='<U9')"
      ]
     },
     "execution_count": 73,
     "metadata": {},
     "output_type": "execute_result"
    }
   ],
   "source": [
    "np.char.capitalize(arr3)"
   ]
  },
  {
   "cell_type": "code",
   "execution_count": 74,
   "id": "84c02d85-7e7b-45f3-9c25-762635a88091",
   "metadata": {},
   "outputs": [
    {
     "data": {
      "text/plain": [
       "array(['Namit', 'Chaudhari'], dtype='<U9')"
      ]
     },
     "execution_count": 74,
     "metadata": {},
     "output_type": "execute_result"
    }
   ],
   "source": [
    "np.char.title(arr3)"
   ]
  },
  {
   "cell_type": "markdown",
   "id": "00246ef3-7d31-479f-b4bb-af54b19cd538",
   "metadata": {
    "tags": []
   },
   "source": [
    "## Numpy - Mathmatical Function"
   ]
  },
  {
   "cell_type": "code",
   "execution_count": 76,
   "id": "77768cfd-099f-44f2-b722-46ae9aa525ff",
   "metadata": {},
   "outputs": [
    {
     "data": {
      "text/plain": [
       "array([[9, 1, 3, 6],\n",
       "       [4, 6, 3, 4],\n",
       "       [6, 2, 2, 3]])"
      ]
     },
     "execution_count": 76,
     "metadata": {},
     "output_type": "execute_result"
    }
   ],
   "source": [
    "arr1"
   ]
  },
  {
   "cell_type": "code",
   "execution_count": null,
   "id": "f95b4213-1a33-4cb2-8233-22fc29713db8",
   "metadata": {},
   "outputs": [],
   "source": [
    "np.sin(arr1) ## This fun gives  sin values for all elemnts #trigomentry sin cos "
   ]
  },
  {
   "cell_type": "code",
   "execution_count": 78,
   "id": "48bf3cba-2c1b-47ce-b43d-f062d637861d",
   "metadata": {},
   "outputs": [
    {
     "data": {
      "text/plain": [
       "array([[-0.91113026,  0.54030231, -0.9899925 ,  0.96017029],\n",
       "       [-0.65364362,  0.96017029, -0.9899925 , -0.65364362],\n",
       "       [ 0.96017029, -0.41614684, -0.41614684, -0.9899925 ]])"
      ]
     },
     "execution_count": 78,
     "metadata": {},
     "output_type": "execute_result"
    }
   ],
   "source": [
    "np.cos(arr1)  ## This fun gives cos values for all elemnts"
   ]
  },
  {
   "cell_type": "code",
   "execution_count": 79,
   "id": "63da7a77-24da-4ee9-8057-95bf361be566",
   "metadata": {},
   "outputs": [
    {
     "data": {
      "text/plain": [
       "array([[-2.18503986,  1.55740772, -3.38051501, -0.45231566],\n",
       "       [ 0.87144798, -2.18503986,  1.15782128, -2.18503986],\n",
       "       [-0.29100619,  1.55740772,  1.55740772,  1.15782128],\n",
       "       [-0.29100619, -2.18503986,  1.55740772,  1.55740772]])"
      ]
     },
     "execution_count": 79,
     "metadata": {},
     "output_type": "execute_result"
    }
   ],
   "source": [
    "np.tan(arr)"
   ]
  },
  {
   "cell_type": "code",
   "execution_count": 80,
   "id": "e2cd3779-928c-44d3-a1e9-64f738c8b830",
   "metadata": {},
   "outputs": [
    {
     "data": {
      "text/plain": [
       "array([[0.30103   , 0.        , 0.69897   , 0.95424251],\n",
       "       [0.84509804, 0.30103   , 0.60205999, 0.30103   ],\n",
       "       [0.77815125, 0.        , 0.        , 0.60205999],\n",
       "       [0.77815125, 0.30103   , 0.        , 0.        ]])"
      ]
     },
     "execution_count": 80,
     "metadata": {},
     "output_type": "execute_result"
    }
   ],
   "source": [
    "np.log10(arr)"
   ]
  },
  {
   "cell_type": "code",
   "execution_count": 82,
   "id": "9b9c7865-ba24-47f2-92c8-b9787251208d",
   "metadata": {},
   "outputs": [
    {
     "data": {
      "text/plain": [
       "array([[7.38905610e+00, 2.71828183e+00, 1.48413159e+02, 8.10308393e+03],\n",
       "       [1.09663316e+03, 7.38905610e+00, 5.45981500e+01, 7.38905610e+00],\n",
       "       [4.03428793e+02, 2.71828183e+00, 2.71828183e+00, 5.45981500e+01],\n",
       "       [4.03428793e+02, 7.38905610e+00, 2.71828183e+00, 2.71828183e+00]])"
      ]
     },
     "execution_count": 82,
     "metadata": {},
     "output_type": "execute_result"
    }
   ],
   "source": [
    "np.exp(arr) ## it will give exponent of data"
   ]
  },
  {
   "cell_type": "code",
   "execution_count": 83,
   "id": "e1199a00-e327-4a1b-acb9-163fd30da7ca",
   "metadata": {},
   "outputs": [
    {
     "data": {
      "text/plain": [
       "array([[  8,   1, 125, 729],\n",
       "       [343,   8,  64,   8],\n",
       "       [216,   1,   1,  64],\n",
       "       [216,   8,   1,   1]])"
      ]
     },
     "execution_count": 83,
     "metadata": {},
     "output_type": "execute_result"
    }
   ],
   "source": [
    "np.power(arr , 3) ## it will give power to every elemnt"
   ]
  },
  {
   "cell_type": "code",
   "execution_count": 86,
   "id": "31bf05e9-21fc-4939-b11f-4c0113d007c7",
   "metadata": {},
   "outputs": [
    {
     "data": {
      "text/plain": [
       "3.375"
      ]
     },
     "execution_count": 86,
     "metadata": {},
     "output_type": "execute_result"
    }
   ],
   "source": [
    "np.mean(arr) ## mean of whole data set"
   ]
  },
  {
   "cell_type": "code",
   "execution_count": 89,
   "id": "e17366ef-5118-4e6d-9503-4bc9432cf53f",
   "metadata": {},
   "outputs": [
    {
     "data": {
      "text/plain": [
       "2.0"
      ]
     },
     "execution_count": 89,
     "metadata": {},
     "output_type": "execute_result"
    }
   ],
   "source": [
    "np.median(arr) ## middel value of array"
   ]
  },
  {
   "cell_type": "code",
   "execution_count": 91,
   "id": "f0216e44-3db7-4867-b362-92b3ba1ca411",
   "metadata": {},
   "outputs": [
    {
     "data": {
      "text/plain": [
       "2.4717149916606487"
      ]
     },
     "execution_count": 91,
     "metadata": {},
     "output_type": "execute_result"
    }
   ],
   "source": [
    "np.std(arr) # standerd devisation "
   ]
  },
  {
   "cell_type": "code",
   "execution_count": 93,
   "id": "f01adf36-bfd2-4da0-b119-6cbbf34da1e3",
   "metadata": {},
   "outputs": [
    {
     "data": {
      "text/plain": [
       "6.109375"
      ]
     },
     "execution_count": 93,
     "metadata": {},
     "output_type": "execute_result"
    }
   ],
   "source": [
    "np.var(arr)"
   ]
  },
  {
   "cell_type": "code",
   "execution_count": 94,
   "id": "0e52030c-e180-4228-b9f7-67800902d985",
   "metadata": {},
   "outputs": [
    {
     "data": {
      "text/plain": [
       "1"
      ]
     },
     "execution_count": 94,
     "metadata": {},
     "output_type": "execute_result"
    }
   ],
   "source": [
    "np.min(arr)"
   ]
  },
  {
   "cell_type": "code",
   "execution_count": 95,
   "id": "2c003fcc-5cf1-4ef6-8e91-fc898d154d9b",
   "metadata": {},
   "outputs": [
    {
     "data": {
      "text/plain": [
       "9"
      ]
     },
     "execution_count": 95,
     "metadata": {},
     "output_type": "execute_result"
    }
   ],
   "source": [
    "np.max(arr)"
   ]
  },
  {
   "cell_type": "markdown",
   "id": "81fbeea2-5e4f-4ac2-97af-dce88a368725",
   "metadata": {
    "tags": []
   },
   "source": [
    " ## Numpy - Arthmatic Opretion"
   ]
  },
  {
   "cell_type": "code",
   "execution_count": 97,
   "id": "b28251f2-6454-4580-8293-e8da5ef66962",
   "metadata": {},
   "outputs": [
    {
     "data": {
      "text/plain": [
       "array([[9, 1, 3, 6],\n",
       "       [4, 6, 3, 4],\n",
       "       [6, 2, 2, 3]])"
      ]
     },
     "execution_count": 97,
     "metadata": {},
     "output_type": "execute_result"
    }
   ],
   "source": [
    "arr1\n"
   ]
  },
  {
   "cell_type": "code",
   "execution_count": 98,
   "id": "83f7294f-c4c0-47cf-89b7-04e934ad24a2",
   "metadata": {},
   "outputs": [
    {
     "data": {
      "text/plain": [
       "array([[6, 3, 1, 7],\n",
       "       [7, 4, 1, 7],\n",
       "       [5, 9, 5, 2]])"
      ]
     },
     "execution_count": 98,
     "metadata": {},
     "output_type": "execute_result"
    }
   ],
   "source": [
    "arr2 "
   ]
  },
  {
   "cell_type": "code",
   "execution_count": 99,
   "id": "7a68247b-10d8-43cc-9885-66c314ab25d2",
   "metadata": {},
   "outputs": [
    {
     "data": {
      "text/plain": [
       "array([[ 3, -2,  2, -1],\n",
       "       [-3,  2,  2, -3],\n",
       "       [ 1, -7, -3,  1]])"
      ]
     },
     "execution_count": 99,
     "metadata": {},
     "output_type": "execute_result"
    }
   ],
   "source": [
    "arr1-arr2"
   ]
  },
  {
   "cell_type": "code",
   "execution_count": 101,
   "id": "cc9af835-454e-4a6b-ab55-1a5515baf400",
   "metadata": {},
   "outputs": [
    {
     "data": {
      "text/plain": [
       "array([[ 3, -2,  2, -1],\n",
       "       [-3,  2,  2, -3],\n",
       "       [ 1, -7, -3,  1]])"
      ]
     },
     "execution_count": 101,
     "metadata": {},
     "output_type": "execute_result"
    }
   ],
   "source": [
    "np.subtract(arr1,arr2) ## similar to arr1-arr2"
   ]
  },
  {
   "cell_type": "code",
   "execution_count": 102,
   "id": "7ca1f80d-73fb-4c82-8656-b0f8fffa204f",
   "metadata": {},
   "outputs": [
    {
     "data": {
      "text/plain": [
       "array([[15,  4,  4, 13],\n",
       "       [11, 10,  4, 11],\n",
       "       [11, 11,  7,  5]])"
      ]
     },
     "execution_count": 102,
     "metadata": {},
     "output_type": "execute_result"
    }
   ],
   "source": [
    "np.add(arr1,arr2)"
   ]
  },
  {
   "cell_type": "code",
   "execution_count": 103,
   "id": "8fd1a727-833e-4af7-9af5-c4aa32198916",
   "metadata": {},
   "outputs": [
    {
     "data": {
      "text/plain": [
       "array([[54,  3,  3, 42],\n",
       "       [28, 24,  3, 28],\n",
       "       [30, 18, 10,  6]])"
      ]
     },
     "execution_count": 103,
     "metadata": {},
     "output_type": "execute_result"
    }
   ],
   "source": [
    "np.multiply(arr1,arr2)"
   ]
  },
  {
   "cell_type": "code",
   "execution_count": 106,
   "id": "083844ae-46ad-4f87-a55e-36f5dc291311",
   "metadata": {},
   "outputs": [
    {
     "data": {
      "text/plain": [
       "array([[3, 1, 0, 6],\n",
       "       [4, 2, 0, 4],\n",
       "       [1, 2, 2, 1]])"
      ]
     },
     "execution_count": 106,
     "metadata": {},
     "output_type": "execute_result"
    }
   ],
   "source": [
    "np.mod(arr1,arr2)  ## it will give reminder "
   ]
  },
  {
   "cell_type": "code",
   "execution_count": 107,
   "id": "470c16b0-5c92-4f93-8786-feb55456020d",
   "metadata": {},
   "outputs": [
    {
     "data": {
      "text/plain": [
       "array([[531441,      1,      3, 279936],\n",
       "       [ 16384,   1296,      3,  16384],\n",
       "       [  7776,    512,     32,      9]])"
      ]
     },
     "execution_count": 107,
     "metadata": {},
     "output_type": "execute_result"
    }
   ],
   "source": [
    "np.power(arr1,arr2)"
   ]
  },
  {
   "cell_type": "code",
   "execution_count": 113,
   "id": "d636fbdd-d629-4234-b070-edce8462434a",
   "metadata": {},
   "outputs": [
    {
     "data": {
      "text/plain": [
       "array([[3.        , 1.        , 1.73205081, 2.44948974],\n",
       "       [2.        , 2.44948974, 1.73205081, 2.        ],\n",
       "       [2.44948974, 1.41421356, 1.41421356, 1.73205081]])"
      ]
     },
     "execution_count": 113,
     "metadata": {},
     "output_type": "execute_result"
    }
   ],
   "source": [
    "np.sqrt(arr1)"
   ]
  },
  {
   "cell_type": "markdown",
   "id": "41491a92-17be-49fd-99b1-e42a4f8358d9",
   "metadata": {
    "tags": []
   },
   "source": [
    "## Numpy - Statical Funtion"
   ]
  },
  {
   "cell_type": "code",
   "execution_count": 114,
   "id": "6bc63ee2-3f6e-4317-8fed-f9b0ba410010",
   "metadata": {},
   "outputs": [
    {
     "data": {
      "text/plain": [
       "4.083333333333333"
      ]
     },
     "execution_count": 114,
     "metadata": {},
     "output_type": "execute_result"
    }
   ],
   "source": [
    "np.mean(arr1)"
   ]
  },
  {
   "cell_type": "code",
   "execution_count": 115,
   "id": "8956c0f3-f071-4abd-a9de-010b8426fb8c",
   "metadata": {},
   "outputs": [
    {
     "data": {
      "text/plain": [
       "3.5"
      ]
     },
     "execution_count": 115,
     "metadata": {},
     "output_type": "execute_result"
    }
   ],
   "source": [
    "np.median(arr1)"
   ]
  },
  {
   "cell_type": "code",
   "execution_count": 116,
   "id": "a6659a1d-0e9b-441f-9ad9-57d0bbdbd3f2",
   "metadata": {},
   "outputs": [
    {
     "data": {
      "text/plain": [
       "2.1778557242286634"
      ]
     },
     "execution_count": 116,
     "metadata": {},
     "output_type": "execute_result"
    }
   ],
   "source": [
    "np.std(arr1)"
   ]
  },
  {
   "cell_type": "markdown",
   "id": "5b9af6b9-da3c-4e98-8cdc-e241a86e468d",
   "metadata": {
    "tags": []
   },
   "source": [
    "# Numpy part 4 "
   ]
  },
  {
   "cell_type": "code",
   "execution_count": 2,
   "id": "6b566c8d-e447-4668-8139-b4a5ab09e9bb",
   "metadata": {},
   "outputs": [],
   "source": [
    "import numpy as np"
   ]
  },
  {
   "cell_type": "markdown",
   "id": "2ced3a97-5171-4eb6-9e09-abe3e0ffa5b1",
   "metadata": {
    "tags": []
   },
   "source": [
    "## Sort ,Search & Continuous Functions"
   ]
  },
  {
   "cell_type": "code",
   "execution_count": 3,
   "id": "768b9bc6-14a8-4ced-bca7-72a1da175b3b",
   "metadata": {},
   "outputs": [],
   "source": [
    "arr = np.array([6,8,5,3,7,4,9,5,6,9])"
   ]
  },
  {
   "cell_type": "code",
   "execution_count": 4,
   "id": "ab1f3e9f-fe42-4383-817c-ad0af3d56d44",
   "metadata": {},
   "outputs": [
    {
     "data": {
      "text/plain": [
       "array([6, 8, 5, 3, 7, 4, 9, 5, 6, 9])"
      ]
     },
     "execution_count": 4,
     "metadata": {},
     "output_type": "execute_result"
    }
   ],
   "source": [
    "arr"
   ]
  },
  {
   "cell_type": "code",
   "execution_count": 5,
   "id": "9b6ceb69-ef72-443e-919b-4c7b8e21fec4",
   "metadata": {},
   "outputs": [
    {
     "data": {
      "text/plain": [
       "array([3, 4, 5, 5, 6, 6, 7, 8, 9, 9])"
      ]
     },
     "execution_count": 5,
     "metadata": {},
     "output_type": "execute_result"
    }
   ],
   "source": [
    "np.sort(arr)"
   ]
  },
  {
   "cell_type": "code",
   "execution_count": 6,
   "id": "54af7e75-90c6-433c-9579-f59e00482f8c",
   "metadata": {},
   "outputs": [
    {
     "data": {
      "text/plain": [
       "0"
      ]
     },
     "execution_count": 6,
     "metadata": {},
     "output_type": "execute_result"
    }
   ],
   "source": [
    "np.searchsorted(arr,2) ## this function tells us where we can put our data in which index we can placeit "
   ]
  },
  {
   "cell_type": "code",
   "execution_count": 8,
   "id": "22f88993-dc9c-4060-8832-92be2c59d032",
   "metadata": {},
   "outputs": [],
   "source": [
    "arr1=np.array([0,3,4,5,6,0,0,256,365])"
   ]
  },
  {
   "cell_type": "code",
   "execution_count": 9,
   "id": "8e415dae-9dca-4029-92c2-b443f32d59cd",
   "metadata": {},
   "outputs": [
    {
     "data": {
      "text/plain": [
       "array([  0,   3,   4,   5,   6,   0,   0, 256, 365])"
      ]
     },
     "execution_count": 9,
     "metadata": {},
     "output_type": "execute_result"
    }
   ],
   "source": [
    "arr1"
   ]
  },
  {
   "cell_type": "code",
   "execution_count": 11,
   "id": "c7933a11-88ed-4569-b564-e914bff9f0c5",
   "metadata": {},
   "outputs": [
    {
     "data": {
      "text/plain": [
       "6"
      ]
     },
     "execution_count": 11,
     "metadata": {},
     "output_type": "execute_result"
    }
   ],
   "source": [
    "np.count_nonzero(arr1) ## it tell the count of non zero element"
   ]
  },
  {
   "cell_type": "code",
   "execution_count": 13,
   "id": "4e48f3f2-fade-45de-9e56-b5d0f272e84b",
   "metadata": {},
   "outputs": [
    {
     "data": {
      "text/plain": [
       "(array([1, 2, 3, 4, 7, 8]),)"
      ]
     },
     "execution_count": 13,
     "metadata": {},
     "output_type": "execute_result"
    }
   ],
   "source": [
    "np.where(arr1>0) ## it tell the indexes at what indexes the given condition is true"
   ]
  },
  {
   "cell_type": "code",
   "execution_count": 15,
   "id": "0df443c8-99a9-4bc6-8423-28b7bc24f443",
   "metadata": {},
   "outputs": [
    {
     "data": {
      "text/plain": [
       "array([  3,   4,   5,   6, 256, 365])"
      ]
     },
     "execution_count": 15,
     "metadata": {},
     "output_type": "execute_result"
    }
   ],
   "source": [
    "np.extract(arr1>2,arr1) #it will excrat all the data at which the condition is true"
   ]
  },
  {
   "cell_type": "markdown",
   "id": "606c8fcf-cedf-464b-a3ad-499e1e57f6eb",
   "metadata": {},
   "source": [
    "## Numpy - Byte Swapping"
   ]
  },
  {
   "cell_type": "code",
   "execution_count": 16,
   "id": "2584b4e8-c16e-44bf-810f-43991f353d0a",
   "metadata": {},
   "outputs": [
    {
     "data": {
      "text/plain": [
       "array([  0,   3,   4,   5,   6,   0,   0, 256, 365])"
      ]
     },
     "execution_count": 16,
     "metadata": {},
     "output_type": "execute_result"
    }
   ],
   "source": [
    "arr1"
   ]
  },
  {
   "cell_type": "code",
   "execution_count": 19,
   "id": "05ca4041-e029-433e-b9ad-2ff51e5c25e2",
   "metadata": {},
   "outputs": [
    {
     "data": {
      "text/plain": [
       "array([                  0,  216172782113783808,  288230376151711744,\n",
       "        360287970189639680,  432345564227567616,                   0,\n",
       "                         0,     281474976710656, 7854559225110855680])"
      ]
     },
     "execution_count": 19,
     "metadata": {},
     "output_type": "execute_result"
    }
   ],
   "source": [
    "arr1.byteswap() ### it gives the byte information if we pass inplace = True then it will be perment"
   ]
  },
  {
   "cell_type": "markdown",
   "id": "10ad7bc8-ccd9-404a-b5d2-be76e301d191",
   "metadata": {},
   "source": [
    "## Numpy - Copies & Views"
   ]
  },
  {
   "cell_type": "code",
   "execution_count": 20,
   "id": "91cc4889-2ada-4748-ab00-194f441ae8e0",
   "metadata": {},
   "outputs": [
    {
     "data": {
      "text/plain": [
       "array([  0,   3,   4,   5,   6,   0,   0, 256, 365])"
      ]
     },
     "execution_count": 20,
     "metadata": {},
     "output_type": "execute_result"
    }
   ],
   "source": [
    "arr1"
   ]
  },
  {
   "cell_type": "code",
   "execution_count": 32,
   "id": "d541a488-445d-4c11-9da8-6d61cad0ef97",
   "metadata": {},
   "outputs": [],
   "source": [
    "a=np.copy(arr1) ## It is a deep copy"
   ]
  },
  {
   "cell_type": "code",
   "execution_count": 22,
   "id": "4de0d76a-545d-4d81-a570-18764adba57c",
   "metadata": {},
   "outputs": [
    {
     "data": {
      "text/plain": [
       "array([  0,   3,   4,   5,   6,   0,   0, 256, 365])"
      ]
     },
     "execution_count": 22,
     "metadata": {},
     "output_type": "execute_result"
    }
   ],
   "source": [
    "a"
   ]
  },
  {
   "cell_type": "code",
   "execution_count": 23,
   "id": "09cd9e98-5e4d-4243-aa34-86bd0eeb65d8",
   "metadata": {},
   "outputs": [],
   "source": [
    "a[0]=100"
   ]
  },
  {
   "cell_type": "code",
   "execution_count": 24,
   "id": "c9ec6a53-00a7-4b5e-a7bc-9aaf825c8e78",
   "metadata": {},
   "outputs": [
    {
     "data": {
      "text/plain": [
       "array([100,   3,   4,   5,   6,   0,   0, 256, 365])"
      ]
     },
     "execution_count": 24,
     "metadata": {},
     "output_type": "execute_result"
    }
   ],
   "source": [
    "a"
   ]
  },
  {
   "cell_type": "code",
   "execution_count": 26,
   "id": "f3bf35e2-b8f4-45dd-a419-246a4d1e49c4",
   "metadata": {},
   "outputs": [
    {
     "data": {
      "text/plain": [
       "array([  0,   3,   4,   5,   6,   0,   0, 256, 365])"
      ]
     },
     "execution_count": 26,
     "metadata": {},
     "output_type": "execute_result"
    }
   ],
   "source": [
    "arr1"
   ]
  },
  {
   "cell_type": "code",
   "execution_count": 33,
   "id": "89aaa316-2216-4283-a45e-6c72bb5bdb87",
   "metadata": {},
   "outputs": [],
   "source": [
    "b = arr1.view() ## it is a solo copy"
   ]
  },
  {
   "cell_type": "code",
   "execution_count": 34,
   "id": "99e10a53-8f62-411e-98ee-714063e8bc74",
   "metadata": {},
   "outputs": [
    {
     "data": {
      "text/plain": [
       "array([234,   3,   4,   5,   6,   0,   0, 256, 365])"
      ]
     },
     "execution_count": 34,
     "metadata": {},
     "output_type": "execute_result"
    }
   ],
   "source": [
    "b"
   ]
  },
  {
   "cell_type": "code",
   "execution_count": 35,
   "id": "da792765-5d9c-402b-ab3c-f2c3f83aef1f",
   "metadata": {},
   "outputs": [],
   "source": [
    "b[0]=234"
   ]
  },
  {
   "cell_type": "code",
   "execution_count": 36,
   "id": "f052f3ed-78f4-44e3-9671-155b7f1b2c39",
   "metadata": {},
   "outputs": [
    {
     "data": {
      "text/plain": [
       "array([234,   3,   4,   5,   6,   0,   0, 256, 365])"
      ]
     },
     "execution_count": 36,
     "metadata": {},
     "output_type": "execute_result"
    }
   ],
   "source": [
    "b"
   ]
  },
  {
   "cell_type": "code",
   "execution_count": 37,
   "id": "ef1b2907-3e8b-4691-a2ad-3ba8bed39458",
   "metadata": {},
   "outputs": [
    {
     "data": {
      "text/plain": [
       "array([234,   3,   4,   5,   6,   0,   0, 256, 365])"
      ]
     },
     "execution_count": 37,
     "metadata": {},
     "output_type": "execute_result"
    }
   ],
   "source": [
    "arr1"
   ]
  },
  {
   "cell_type": "markdown",
   "id": "c25337c3-9af8-44d8-adb5-4b2903c8031c",
   "metadata": {},
   "source": [
    "## Numpy - Matrix Libary"
   ]
  },
  {
   "cell_type": "code",
   "execution_count": 38,
   "id": "b26fff10-94a0-44ca-8301-0a8c90dcbc92",
   "metadata": {},
   "outputs": [],
   "source": [
    "import numpy.matlib as nm"
   ]
  },
  {
   "cell_type": "code",
   "execution_count": 39,
   "id": "2587f542-b413-4ce2-a77d-b7dc2d41fb7a",
   "metadata": {},
   "outputs": [
    {
     "data": {
      "text/plain": [
       "matrix([[0., 0., 0., 0., 0.]])"
      ]
     },
     "execution_count": 39,
     "metadata": {},
     "output_type": "execute_result"
    }
   ],
   "source": [
    "nm.zeros(5)"
   ]
  },
  {
   "cell_type": "code",
   "execution_count": 42,
   "id": "f8eb2177-894e-4e27-bb5d-c04ae98125d9",
   "metadata": {},
   "outputs": [
    {
     "data": {
      "text/plain": [
       "matrix([[1., 1., 1., 1.],\n",
       "        [1., 1., 1., 1.],\n",
       "        [1., 1., 1., 1.]])"
      ]
     },
     "execution_count": 42,
     "metadata": {},
     "output_type": "execute_result"
    }
   ],
   "source": [
    "nm.ones((3,4))"
   ]
  },
  {
   "cell_type": "code",
   "execution_count": 43,
   "id": "fbb768c6-6fb9-4c95-b52b-672f40ab53cc",
   "metadata": {},
   "outputs": [
    {
     "data": {
      "text/plain": [
       "matrix([[1., 0., 0., 0.],\n",
       "        [0., 1., 0., 0.],\n",
       "        [0., 0., 1., 0.],\n",
       "        [0., 0., 0., 1.]])"
      ]
     },
     "execution_count": 43,
     "metadata": {},
     "output_type": "execute_result"
    }
   ],
   "source": [
    "nm.eye(4)"
   ]
  },
  {
   "cell_type": "code",
   "execution_count": 44,
   "id": "1a570969-2a0b-4c39-8482-92529cc73b40",
   "metadata": {},
   "outputs": [],
   "source": [
    "## Numpy - Linear Algeebra"
   ]
  },
  {
   "cell_type": "code",
   "execution_count": 51,
   "id": "acda1f13-ed38-40d6-9d7a-e8cbd9f209a1",
   "metadata": {},
   "outputs": [],
   "source": [
    "arr2 = np.random.randint([[2,3],[4,5]])"
   ]
  },
  {
   "cell_type": "code",
   "execution_count": 52,
   "id": "6b7feef3-b737-4094-81fb-bc20042567d9",
   "metadata": {},
   "outputs": [],
   "source": [
    "arr3 = np.random.randint([[5,3],[2,5]])"
   ]
  },
  {
   "cell_type": "code",
   "execution_count": 55,
   "id": "28408494-dd8a-4cd3-905b-aac47b8c7d96",
   "metadata": {},
   "outputs": [
    {
     "data": {
      "text/plain": [
       "array([[2, 0],\n",
       "       [0, 3]])"
      ]
     },
     "execution_count": 55,
     "metadata": {},
     "output_type": "execute_result"
    }
   ],
   "source": [
    "arr3"
   ]
  },
  {
   "cell_type": "code",
   "execution_count": 54,
   "id": "38007020-5b02-4dfd-87bb-14508e27e20c",
   "metadata": {},
   "outputs": [
    {
     "data": {
      "text/plain": [
       "array([[0, 0],\n",
       "       [3, 3]])"
      ]
     },
     "execution_count": 54,
     "metadata": {},
     "output_type": "execute_result"
    }
   ],
   "source": [
    "arr2"
   ]
  },
  {
   "cell_type": "code",
   "execution_count": 59,
   "id": "570154c4-b610-4ec1-90fe-73554a621e37",
   "metadata": {},
   "outputs": [
    {
     "data": {
      "text/plain": [
       "array([[0, 0],\n",
       "       [6, 9]])"
      ]
     },
     "execution_count": 59,
     "metadata": {},
     "output_type": "execute_result"
    }
   ],
   "source": [
    "np.dot(arr2,arr3) ## it is a simple matrix multiplication"
   ]
  },
  {
   "cell_type": "code",
   "execution_count": 58,
   "id": "4e173a76-9539-4df9-ba8a-3028e286b45d",
   "metadata": {},
   "outputs": [
    {
     "data": {
      "text/plain": [
       "array([[0, 0],\n",
       "       [6, 9]])"
      ]
     },
     "execution_count": 58,
     "metadata": {},
     "output_type": "execute_result"
    }
   ],
   "source": [
    "arr2@arr3"
   ]
  }
 ],
 "metadata": {
  "kernelspec": {
   "display_name": "Python 3 (ipykernel)",
   "language": "python",
   "name": "python3"
  },
  "language_info": {
   "codemirror_mode": {
    "name": "ipython",
    "version": 3
   },
   "file_extension": ".py",
   "mimetype": "text/x-python",
   "name": "python",
   "nbconvert_exporter": "python",
   "pygments_lexer": "ipython3",
   "version": "3.10.8"
  }
 },
 "nbformat": 4,
 "nbformat_minor": 5
}
