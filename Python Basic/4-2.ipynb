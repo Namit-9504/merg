{
 "cells": [
  {
   "cell_type": "code",
   "execution_count": 2,
   "id": "8e0896d0-08fb-4fea-8ada-c6214166893b",
   "metadata": {},
   "outputs": [],
   "source": [
    "n=8\n",
    "p=2"
   ]
  },
  {
   "cell_type": "code",
   "execution_count": 3,
   "id": "6e11a0ec-35a3-40ed-b934-8327b91d8e79",
   "metadata": {},
   "outputs": [],
   "source": [
    "def test(n,p):\n",
    "    return n**p"
   ]
  },
  {
   "cell_type": "code",
   "execution_count": 5,
   "id": "90fdfe0b-da7c-4a85-9a3f-d41a3ce006a9",
   "metadata": {},
   "outputs": [
    {
     "data": {
      "text/plain": [
       "15625"
      ]
     },
     "execution_count": 5,
     "metadata": {},
     "output_type": "execute_result"
    }
   ],
   "source": [
    "test(5,6)"
   ]
  },
  {
   "cell_type": "code",
   "execution_count": 11,
   "id": "29530409-edc0-4977-b67c-1a4762763c23",
   "metadata": {},
   "outputs": [],
   "source": [
    "a=lambda n,p:n**p ### adbopted funtion"
   ]
  },
  {
   "cell_type": "code",
   "execution_count": 12,
   "id": "4bc337b5-1477-4633-94e2-aec57c261ca0",
   "metadata": {},
   "outputs": [
    {
     "data": {
      "text/plain": [
       "15625"
      ]
     },
     "execution_count": 12,
     "metadata": {},
     "output_type": "execute_result"
    }
   ],
   "source": [
    "a(5,6)"
   ]
  },
  {
   "cell_type": "code",
   "execution_count": 13,
   "id": "ff871568-f7cd-467f-8454-9cc81ece35a2",
   "metadata": {},
   "outputs": [],
   "source": [
    "## we can write\n",
    "def test(n,p):\n",
    "    return n**p\n",
    "## or also \n",
    "a=lambda n,p:n**p### both are same"
   ]
  },
  {
   "cell_type": "code",
   "execution_count": 15,
   "id": "b01d12db-1406-4f15-9875-44ff2273ad1f",
   "metadata": {},
   "outputs": [],
   "source": [
    "c_to_f= lambda c:(9/5)*c+32"
   ]
  },
  {
   "cell_type": "code",
   "execution_count": 16,
   "id": "d0eba457-7d1a-4f11-b40d-8342bc32393f",
   "metadata": {},
   "outputs": [
    {
     "data": {
      "text/plain": [
       "93.2"
      ]
     },
     "execution_count": 16,
     "metadata": {},
     "output_type": "execute_result"
    }
   ],
   "source": [
    "c_to_f(34)"
   ]
  },
  {
   "cell_type": "code",
   "execution_count": 17,
   "id": "66de67bb-affa-4b2e-aa77-e1b51c0daf4b",
   "metadata": {},
   "outputs": [],
   "source": [
    "max_two= lambda x,y: x if x>y else y"
   ]
  },
  {
   "cell_type": "code",
   "execution_count": 18,
   "id": "e2de1485-97c3-4829-8a9e-31b44dbe0ca1",
   "metadata": {},
   "outputs": [
    {
     "data": {
      "text/plain": [
       "85"
      ]
     },
     "execution_count": 18,
     "metadata": {},
     "output_type": "execute_result"
    }
   ],
   "source": [
    "max_two(23,85)"
   ]
  },
  {
   "cell_type": "code",
   "execution_count": 19,
   "id": "9b2f7f49-3bec-49ce-bbbb-178caa2ef55f",
   "metadata": {},
   "outputs": [],
   "source": [
    "a = \"pwskills\""
   ]
  },
  {
   "cell_type": "code",
   "execution_count": 20,
   "id": "785ff05d-4158-465d-9121-6d2d52115c43",
   "metadata": {},
   "outputs": [],
   "source": [
    "len_str= lambda s: len(s)"
   ]
  },
  {
   "cell_type": "code",
   "execution_count": 21,
   "id": "0311de72-7b83-4cf5-8978-1788352bbe8b",
   "metadata": {},
   "outputs": [
    {
     "data": {
      "text/plain": [
       "8"
      ]
     },
     "execution_count": 21,
     "metadata": {},
     "output_type": "execute_result"
    }
   ],
   "source": [
    "len_str(\"pwskills\")"
   ]
  },
  {
   "cell_type": "markdown",
   "id": "1ff8f918-12bb-48df-ac04-d404233d42b9",
   "metadata": {
    "jp-MarkdownHeadingCollapsed": true,
    "tags": []
   },
   "source": [
    "### MAP, Reduce Filter Functions"
   ]
  },
  {
   "cell_type": "code",
   "execution_count": 23,
   "id": "1680fe63-8cea-4489-ad26-23f83da2b52b",
   "metadata": {},
   "outputs": [],
   "source": [
    "l = [1,2,3,4,5,6]"
   ]
  },
  {
   "cell_type": "code",
   "execution_count": 31,
   "id": "b179cc7a-0aac-436e-b680-d038470c10c7",
   "metadata": {},
   "outputs": [],
   "source": [
    "def test(l):\n",
    "    l1=[]\n",
    "    for i in l:\n",
    "        l1.append(i**2)\n",
    "    return l1   "
   ]
  },
  {
   "cell_type": "code",
   "execution_count": 32,
   "id": "9a3b4ba2-1671-4056-a634-cef0e8fae2f3",
   "metadata": {},
   "outputs": [
    {
     "data": {
      "text/plain": [
       "[1, 4, 9, 16, 25, 36]"
      ]
     },
     "execution_count": 32,
     "metadata": {},
     "output_type": "execute_result"
    }
   ],
   "source": [
    "test(l)"
   ]
  },
  {
   "cell_type": "code",
   "execution_count": 33,
   "id": "10daf07f-be62-4262-872c-d287ef22efd7",
   "metadata": {},
   "outputs": [],
   "source": [
    "def sq(x):\n",
    "    return x**2"
   ]
  },
  {
   "cell_type": "code",
   "execution_count": 35,
   "id": "fdfec5f3-cf96-4c31-972b-c79665656399",
   "metadata": {},
   "outputs": [
    {
     "data": {
      "text/plain": [
       "[1, 4, 9, 16, 25, 36]"
      ]
     },
     "execution_count": 35,
     "metadata": {},
     "output_type": "execute_result"
    }
   ],
   "source": [
    "list(map(sq,l))"
   ]
  },
  {
   "cell_type": "code",
   "execution_count": 36,
   "id": "f769a70d-8f13-4ae5-8418-a4bfc336a17f",
   "metadata": {},
   "outputs": [
    {
     "data": {
      "text/plain": [
       "[1, 4, 9, 16, 25, 36]"
      ]
     },
     "execution_count": 36,
     "metadata": {},
     "output_type": "execute_result"
    }
   ],
   "source": [
    "list(map(lambda x:x**2,l))"
   ]
  },
  {
   "cell_type": "code",
   "execution_count": 37,
   "id": "a72a737b-df5d-4580-8584-262dbc67a330",
   "metadata": {},
   "outputs": [
    {
     "data": {
      "text/plain": [
       "[11, 12, 13, 14, 15, 16]"
      ]
     },
     "execution_count": 37,
     "metadata": {},
     "output_type": "execute_result"
    }
   ],
   "source": [
    "list(map(lambda x:x+10,l))"
   ]
  },
  {
   "cell_type": "code",
   "execution_count": 38,
   "id": "6a1dde84-81f6-4734-999a-dc239ef877ca",
   "metadata": {},
   "outputs": [
    {
     "data": {
      "text/plain": [
       "['1', '2', '3', '4', '5', '6']"
      ]
     },
     "execution_count": 38,
     "metadata": {},
     "output_type": "execute_result"
    }
   ],
   "source": [
    "list(map(lambda x:str(x),l))"
   ]
  },
  {
   "cell_type": "code",
   "execution_count": 39,
   "id": "889bcf24-6d7e-44ee-a689-a38b9a3fed13",
   "metadata": {},
   "outputs": [],
   "source": [
    "l1=[1,2,3,4,5]\n",
    "l2=[6,7,8,9,10]"
   ]
  },
  {
   "cell_type": "code",
   "execution_count": 40,
   "id": "14cacbe0-ab9e-4d5d-b3cc-b5a4769ff5af",
   "metadata": {},
   "outputs": [
    {
     "data": {
      "text/plain": [
       "[7, 9, 11, 13, 15]"
      ]
     },
     "execution_count": 40,
     "metadata": {},
     "output_type": "execute_result"
    }
   ],
   "source": [
    "list(map(lambda x,y:x+y,l1,l2))"
   ]
  },
  {
   "cell_type": "code",
   "execution_count": 42,
   "id": "9b1d0749-ebf9-4c7e-a49b-326f1c66fdb8",
   "metadata": {},
   "outputs": [],
   "source": [
    "f=lambda x,y:x+y\n"
   ]
  },
  {
   "cell_type": "code",
   "execution_count": 43,
   "id": "8feab197-a235-44c2-9857-5eef33f5e1d3",
   "metadata": {},
   "outputs": [
    {
     "data": {
      "text/plain": [
       "[7, 9, 11, 13, 15]"
      ]
     },
     "execution_count": 43,
     "metadata": {},
     "output_type": "execute_result"
    }
   ],
   "source": [
    "list(map(f,l1,l2))"
   ]
  },
  {
   "cell_type": "code",
   "execution_count": 44,
   "id": "131d703d-940d-409e-87d3-bf860d70cd00",
   "metadata": {},
   "outputs": [],
   "source": [
    "s= \"pwskills\""
   ]
  },
  {
   "cell_type": "code",
   "execution_count": 47,
   "id": "0fc5d8e1-9629-46cd-838a-81f2bab76311",
   "metadata": {},
   "outputs": [
    {
     "data": {
      "text/plain": [
       "('P', 'W', 'S', 'K', 'I', 'L', 'L', 'S')"
      ]
     },
     "execution_count": 47,
     "metadata": {},
     "output_type": "execute_result"
    }
   ],
   "source": [
    "tuple(map(lambda x:x.upper(),s ))"
   ]
  },
  {
   "cell_type": "markdown",
   "id": "2965747a-6521-4b53-b640-255d39da3638",
   "metadata": {
    "jp-MarkdownHeadingCollapsed": true,
    "tags": []
   },
   "source": [
    "### REDUCE"
   ]
  },
  {
   "cell_type": "code",
   "execution_count": 50,
   "id": "98d7617a-e84b-4834-840a-f9848619b3e6",
   "metadata": {},
   "outputs": [],
   "source": [
    "### to use reduce you need to import it"
   ]
  },
  {
   "cell_type": "code",
   "execution_count": 53,
   "id": "2774634f-539e-490d-b052-2be1bb065e93",
   "metadata": {},
   "outputs": [],
   "source": [
    "from functools import reduce"
   ]
  },
  {
   "cell_type": "code",
   "execution_count": 54,
   "id": "c0299b56-61d6-4160-a25c-c26bbaaf41c1",
   "metadata": {},
   "outputs": [],
   "source": [
    "l=[1,2,3,4,5,6,7]"
   ]
  },
  {
   "cell_type": "code",
   "execution_count": 59,
   "id": "e65de0eb-f0d8-483f-a1e7-c4074efeb243",
   "metadata": {},
   "outputs": [
    {
     "data": {
      "text/plain": [
       "28"
      ]
     },
     "execution_count": 59,
     "metadata": {},
     "output_type": "execute_result"
    }
   ],
   "source": [
    "reduce(lambda x,y:x+y,l)"
   ]
  },
  {
   "cell_type": "code",
   "execution_count": 60,
   "id": "59f50fcd-569d-4cd7-a425-b8487703d8f1",
   "metadata": {},
   "outputs": [],
   "source": [
    "def add(x,y):\n",
    "    return x+y"
   ]
  },
  {
   "cell_type": "code",
   "execution_count": 61,
   "id": "be42fa0e-6705-4eba-8491-3c3b38896b9e",
   "metadata": {},
   "outputs": [
    {
     "data": {
      "text/plain": [
       "28"
      ]
     },
     "execution_count": 61,
     "metadata": {},
     "output_type": "execute_result"
    }
   ],
   "source": [
    "reduce(add,l)"
   ]
  },
  {
   "cell_type": "code",
   "execution_count": 63,
   "id": "9f867aba-6160-4a95-a880-39debbc0f0a1",
   "metadata": {},
   "outputs": [
    {
     "ename": "TypeError",
     "evalue": "<lambda>() missing 1 required positional argument: 'z'",
     "output_type": "error",
     "traceback": [
      "\u001b[0;31m---------------------------------------------------------------------------\u001b[0m",
      "\u001b[0;31mTypeError\u001b[0m                                 Traceback (most recent call last)",
      "Cell \u001b[0;32mIn[63], line 1\u001b[0m\n\u001b[0;32m----> 1\u001b[0m \u001b[43mreduce\u001b[49m\u001b[43m(\u001b[49m\u001b[38;5;28;43;01mlambda\u001b[39;49;00m\u001b[43m \u001b[49m\u001b[43mx\u001b[49m\u001b[43m,\u001b[49m\u001b[43my\u001b[49m\u001b[43m,\u001b[49m\u001b[43mz\u001b[49m\u001b[43m:\u001b[49m\u001b[43mx\u001b[49m\u001b[38;5;241;43m+\u001b[39;49m\u001b[43my\u001b[49m\u001b[38;5;241;43m+\u001b[39;49m\u001b[43mz\u001b[49m\u001b[43m,\u001b[49m\u001b[43ml\u001b[49m\u001b[43m)\u001b[49m\u001b[38;5;66;03m########## always use 2 pair\u001b[39;00m\n",
      "\u001b[0;31mTypeError\u001b[0m: <lambda>() missing 1 required positional argument: 'z'"
     ]
    }
   ],
   "source": [
    "reduce(lambda x,y,z:x+y+z,l)########## always use 2 pair"
   ]
  },
  {
   "cell_type": "code",
   "execution_count": 64,
   "id": "a8ebe5d5-1359-4028-8b6b-89af20333046",
   "metadata": {},
   "outputs": [
    {
     "ename": "TypeError",
     "evalue": "reduce() of empty iterable with no initial value",
     "output_type": "error",
     "traceback": [
      "\u001b[0;31m---------------------------------------------------------------------------\u001b[0m",
      "\u001b[0;31mTypeError\u001b[0m                                 Traceback (most recent call last)",
      "Cell \u001b[0;32mIn[64], line 1\u001b[0m\n\u001b[0;32m----> 1\u001b[0m \u001b[43mreduce\u001b[49m\u001b[43m(\u001b[49m\u001b[38;5;28;43;01mlambda\u001b[39;49;00m\u001b[43m \u001b[49m\u001b[43mx\u001b[49m\u001b[43m,\u001b[49m\u001b[43my\u001b[49m\u001b[43m:\u001b[49m\u001b[43mx\u001b[49m\u001b[38;5;241;43m+\u001b[39;49m\u001b[43my\u001b[49m\u001b[43m,\u001b[49m\u001b[43m[\u001b[49m\u001b[43m]\u001b[49m\u001b[43m)\u001b[49m\n",
      "\u001b[0;31mTypeError\u001b[0m: reduce() of empty iterable with no initial value"
     ]
    }
   ],
   "source": [
    "reduce(lambda x,y:x+y,[])"
   ]
  },
  {
   "cell_type": "code",
   "execution_count": 65,
   "id": "766de5a3-146a-4c1e-b47b-a0e40ddc9641",
   "metadata": {},
   "outputs": [
    {
     "data": {
      "text/plain": [
       "1"
      ]
     },
     "execution_count": 65,
     "metadata": {},
     "output_type": "execute_result"
    }
   ],
   "source": [
    "reduce(lambda x,y:x+y,[1])"
   ]
  },
  {
   "cell_type": "code",
   "execution_count": 74,
   "id": "c7270895-a02f-4d79-8b07-49c814045dd3",
   "metadata": {},
   "outputs": [
    {
     "data": {
      "text/plain": [
       "[1, 2, 3, 4, 5, 6, 7]"
      ]
     },
     "execution_count": 74,
     "metadata": {},
     "output_type": "execute_result"
    }
   ],
   "source": [
    "l"
   ]
  },
  {
   "cell_type": "code",
   "execution_count": 75,
   "id": "760e6cbb-f32e-42a7-a4bf-383481115737",
   "metadata": {},
   "outputs": [
    {
     "data": {
      "text/plain": [
       "7"
      ]
     },
     "execution_count": 75,
     "metadata": {},
     "output_type": "execute_result"
    }
   ],
   "source": [
    "reduce(lambda x,y:x if x>y else y,l)"
   ]
  },
  {
   "cell_type": "markdown",
   "id": "ca79f39e-4b68-43d9-ae17-951a159cec12",
   "metadata": {
    "tags": []
   },
   "source": [
    "### FILTER"
   ]
  },
  {
   "cell_type": "code",
   "execution_count": 82,
   "id": "a5ba853c-ba12-494d-bcb4-44f712e98c87",
   "metadata": {},
   "outputs": [
    {
     "data": {
      "text/plain": [
       "[1, 2, 3, 4, 5, 6, 7]"
      ]
     },
     "execution_count": 82,
     "metadata": {},
     "output_type": "execute_result"
    }
   ],
   "source": [
    "l"
   ]
  },
  {
   "cell_type": "code",
   "execution_count": 84,
   "id": "bb7580d4-1bb9-47e5-913e-9abc6b241a4e",
   "metadata": {},
   "outputs": [
    {
     "data": {
      "text/plain": [
       "[2, 4, 6]"
      ]
     },
     "execution_count": 84,
     "metadata": {},
     "output_type": "execute_result"
    }
   ],
   "source": [
    "list(filter(lambda x:x%2==0,l))"
   ]
  },
  {
   "cell_type": "code",
   "execution_count": 88,
   "id": "93c81cc3-2dc3-4c0d-b75e-cd3f89ba29f8",
   "metadata": {},
   "outputs": [],
   "source": [
    "l9=[1,2,-6,-5,-8,5,6,8,63,8,-9,6,-632,520]"
   ]
  },
  {
   "cell_type": "code",
   "execution_count": 90,
   "id": "ee517baf-a90a-48cc-bd4f-639cfe545224",
   "metadata": {},
   "outputs": [
    {
     "data": {
      "text/plain": [
       "[1, 2, 5, 6, 8, 63, 8, 6, 520]"
      ]
     },
     "execution_count": 90,
     "metadata": {},
     "output_type": "execute_result"
    }
   ],
   "source": [
    "list(filter(lambda x:x>=0,l9))"
   ]
  },
  {
   "cell_type": "code",
   "execution_count": 4,
   "id": "05844fb4-f43c-4ab9-9028-290a8c372db6",
   "metadata": {},
   "outputs": [],
   "source": [
    "l10=[\"namit\",\"pwskills\",\"kirsh\",\"chaudhari\",\"pune\",'ke']"
   ]
  },
  {
   "cell_type": "code",
   "execution_count": 5,
   "id": "9ed49950-0961-4c42-9e55-eb2d4b2db665",
   "metadata": {},
   "outputs": [
    {
     "data": {
      "text/plain": [
       "['namit', 'kirsh', 'pune', 'ke']"
      ]
     },
     "execution_count": 5,
     "metadata": {},
     "output_type": "execute_result"
    }
   ],
   "source": [
    "list(filter(lambda x:len(x)<6,l10))"
   ]
  },
  {
   "cell_type": "code",
   "execution_count": null,
   "id": "0d7e3238-a94c-46ab-b149-3b76136fe565",
   "metadata": {},
   "outputs": [],
   "source": []
  }
 ],
 "metadata": {
  "kernelspec": {
   "display_name": "Python 3 (ipykernel)",
   "language": "python",
   "name": "python3"
  },
  "language_info": {
   "codemirror_mode": {
    "name": "ipython",
    "version": 3
   },
   "file_extension": ".py",
   "mimetype": "text/x-python",
   "name": "python",
   "nbconvert_exporter": "python",
   "pygments_lexer": "ipython3",
   "version": "3.10.8"
  }
 },
 "nbformat": 4,
 "nbformat_minor": 5
}
