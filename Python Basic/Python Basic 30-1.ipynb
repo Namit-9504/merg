{
 "cells": [
  {
   "cell_type": "code",
   "execution_count": 2,
   "id": "5f852af7-d12b-4f56-a3d9-50ac9e75baf9",
   "metadata": {},
   "outputs": [],
   "source": [
    "a=\"c\""
   ]
  },
  {
   "cell_type": "code",
   "execution_count": 3,
   "id": "99eda1e9-19dc-44cd-b90e-9c33be790428",
   "metadata": {},
   "outputs": [
    {
     "data": {
      "text/plain": [
       "'c'"
      ]
     },
     "execution_count": 3,
     "metadata": {},
     "output_type": "execute_result"
    }
   ],
   "source": [
    "a"
   ]
  },
  {
   "cell_type": "code",
   "execution_count": 2,
   "id": "49e8c626-9d20-46a6-90a1-80182103b9a9",
   "metadata": {},
   "outputs": [
    {
     "ename": "NameError",
     "evalue": "name 'a' is not defined",
     "output_type": "error",
     "traceback": [
      "\u001b[0;31m---------------------------------------------------------------------------\u001b[0m",
      "\u001b[0;31mNameError\u001b[0m                                 Traceback (most recent call last)",
      "Cell \u001b[0;32mIn[2], line 1\u001b[0m\n\u001b[0;32m----> 1\u001b[0m \u001b[38;5;28mtype\u001b[39m(\u001b[43ma\u001b[49m)\n",
      "\u001b[0;31mNameError\u001b[0m: name 'a' is not defined"
     ]
    }
   ],
   "source": [
    "type(a)"
   ]
  },
  {
   "cell_type": "code",
   "execution_count": 1,
   "id": "12afbeae-08a6-4274-95cf-fde3a66a9e7b",
   "metadata": {},
   "outputs": [
    {
     "data": {
      "text/plain": [
       "1233"
      ]
     },
     "execution_count": 1,
     "metadata": {},
     "output_type": "execute_result"
    }
   ],
   "source": [
    "int(\"1233\")\n"
   ]
  },
  {
   "cell_type": "code",
   "execution_count": null,
   "id": "cff80b3d-b734-47c0-ae5e-2ac77f51eec1",
   "metadata": {},
   "outputs": [],
   "source": [
    "name='namit'\n",
    "age=19\n",
    "degree=\"BE\"\n",
    "print(\"my age is {age2} and my name is {name1} and my degree {degree3} \".format(age2=age,name1=name,degree3=degree))"
   ]
  },
  {
   "cell_type": "code",
   "execution_count": null,
   "id": "5b9167b4-8179-4282-8d3b-037e39783d09",
   "metadata": {},
   "outputs": [],
   "source": [
    "name=\"namit\"\n",
    "print(f\"my name is :(name)\""
   ]
  },
  {
   "cell_type": "code",
   "execution_count": null,
   "id": "d5acfd04-8348-4993-9ecc-9362516618fa",
   "metadata": {},
   "outputs": [],
   "source": [
    "name='namit'\n",
    "age=19\n",
    "degree=\"BE\"\n",
    "print(\"my age is {age2} and my name is {name1} and my degree {degree3} \").format(age2=age,name1=name,degree3=degree)"
   ]
  },
  {
   "cell_type": "code",
   "execution_count": 13,
   "id": "e20f06d5-1ae2-4a9a-9cf0-3092aa71e61d",
   "metadata": {},
   "outputs": [
    {
     "name": "stdout",
     "output_type": "stream",
     "text": [
      "my age is 19 and my name is namit and my degree BE \n"
     ]
    }
   ],
   "source": [
    "name='namit'\n",
    "age=19\n",
    "degree=\"BE\"\n",
    "print(\"my age is {age2} and my name is {name1} and my degree {degree3} \".format(age2=age,name1=name,degree3=degree))"
   ]
  },
  {
   "cell_type": "code",
   "execution_count": null,
   "id": "72ead4c3-aec4-45cf-a780-139d603c02ba",
   "metadata": {},
   "outputs": [],
   "source": []
  },
  {
   "cell_type": "code",
   "execution_count": null,
   "id": "d0daa254-8b10-4a50-a939-6aa89289f77d",
   "metadata": {},
   "outputs": [],
   "source": []
  },
  {
   "cell_type": "code",
   "execution_count": 35,
   "id": "099b8884-50a7-4741-a36c-cc5d7529ae60",
   "metadata": {},
   "outputs": [
    {
     "name": "stdin",
     "output_type": "stream",
     "text": [
      "enter your age 7\n"
     ]
    },
    {
     "name": "stdout",
     "output_type": "stream",
     "text": [
      "thank you let you kno\n"
     ]
    }
   ],
   "source": [
    "age=int(input(\"enter your age\"))\n",
    "if age>=18 and age<=48:\n",
    "    print(\"you are young blood \")\n",
    "else:\n",
    "    print(\"thank you let you kno\")"
   ]
  },
  {
   "cell_type": "code",
   "execution_count": 20,
   "id": "908eab5e-1d2a-4905-ae21-b4e2546a6f5a",
   "metadata": {},
   "outputs": [
    {
     "data": {
      "text/plain": [
       "'963'"
      ]
     },
     "execution_count": 20,
     "metadata": {},
     "output_type": "execute_result"
    }
   ],
   "source": [
    "age"
   ]
  },
  {
   "cell_type": "code",
   "execution_count": 21,
   "id": "5f769ed8-0b24-4e42-948b-0fb9e6232609",
   "metadata": {},
   "outputs": [
    {
     "data": {
      "text/plain": [
       "str"
      ]
     },
     "execution_count": 21,
     "metadata": {},
     "output_type": "execute_result"
    }
   ],
   "source": [
    "type(age)"
   ]
  },
  {
   "cell_type": "code",
   "execution_count": 39,
   "id": "6aa560e3-22e6-4f7f-beea-18f66978a4d9",
   "metadata": {},
   "outputs": [
    {
     "name": "stdin",
     "output_type": "stream",
     "text": [
      "enter youre acc balance 100\n"
     ]
    },
    {
     "name": "stdout",
     "output_type": "stream",
     "text": [
      "final price is 70.0\n"
     ]
    }
   ],
   "source": [
    "product_price=int(input(\"enter youre acc balance\"))\n",
    "if product_price>=1000:\n",
    "    print(\"final price is {}\".format(product_price*0.8))\n",
    "else:\n",
    "    print(\"final price is {}\".format(product_price*0.7))"
   ]
  },
  {
   "cell_type": "code",
   "execution_count": 41,
   "id": "564ae8c2-e5ac-4250-b355-346fcb80c1f5",
   "metadata": {},
   "outputs": [
    {
     "name": "stdin",
     "output_type": "stream",
     "text": [
      "enter youre acc balance 200\n"
     ]
    },
    {
     "name": "stdout",
     "output_type": "stream",
     "text": [
      "final price is \n"
     ]
    }
   ],
   "source": [
    "product_price=int(input(\"enter youre acc balance\"))\n",
    "if product_price>=1000:\n",
    "    print(f\"final price is \")\n",
    "else:\n",
    "    print(f\"final price is \")\n",
    "    "
   ]
  },
  {
   "cell_type": "code",
   "execution_count": null,
   "id": "e33d0807-8561-4aec-a3ce-237da6530ca0",
   "metadata": {},
   "outputs": [],
   "source": [
    "product_price=int(input(\"enter youre acc balance\"))\n",
    "if product_price>3000:\n",
    "    print(\"final price is {}\".format(product_price*0.8))\n",
    "elif product_price>=2000 and produt_price<=3000:\n",
    "    print(\"final price is {}\".format(product_price*0.7))\n",
    "elif product_price>=    "
   ]
  }
 ],
 "metadata": {
  "kernelspec": {
   "display_name": "Python 3 (ipykernel)",
   "language": "python",
   "name": "python3"
  },
  "language_info": {
   "codemirror_mode": {
    "name": "ipython",
    "version": 3
   },
   "file_extension": ".py",
   "mimetype": "text/x-python",
   "name": "python",
   "nbconvert_exporter": "python",
   "pygments_lexer": "ipython3",
   "version": "3.10.8"
  }
 },
 "nbformat": 4,
 "nbformat_minor": 5
}
