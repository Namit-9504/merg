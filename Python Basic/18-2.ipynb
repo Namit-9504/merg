{
 "cells": [
  {
   "cell_type": "markdown",
   "id": "3815354c-2b67-42f0-854e-09258904681f",
   "metadata": {},
   "source": [
    "### What Is Web Api"
   ]
  },
  {
   "cell_type": "code",
   "execution_count": null,
   "id": "0a291a12-1aa7-4026-b373-5747fdd3d7de",
   "metadata": {},
   "outputs": [],
   "source": [
    "Api == Application Programming Interface"
   ]
  },
  {
   "cell_type": "markdown",
   "id": "5a0c2dc4-6b36-44dd-8155-95325311d199",
   "metadata": {},
   "source": [
    "api works like a link betn user input data  and server"
   ]
  },
  {
   "cell_type": "markdown",
   "id": "fa96925d-1e2d-4619-a7b2-32944d558544",
   "metadata": {},
   "source": [
    "### Difference B W Api And Web Api"
   ]
  },
  {
   "cell_type": "code",
   "execution_count": null,
   "id": "014af7fd-cc53-4ed9-98b3-21f5b4e3abfb",
   "metadata": {},
   "outputs": [],
   "source": [
    "protocal is a set of rules which is universally created"
   ]
  },
  {
   "cell_type": "markdown",
   "id": "e29f49bc-0b40-4cdd-82fc-318f550c4654",
   "metadata": {},
   "source": [
    "http= hyper text transfer Protocol\n",
    "tcp=transmission control protocol\n",
    "smtp=simple mail transfer protocol\n",
    "web api = http\n",
    "bw api = tcp,http,smtp"
   ]
  },
  {
   "cell_type": "code",
   "execution_count": null,
   "id": "4657b0e2-2c1b-4f7e-bb01-1320ee0956d0",
   "metadata": {},
   "outputs": [],
   "source": [
    "homogenous api \n",
    "it means that two systems having same framework and same lang programming "
   ]
  },
  {
   "cell_type": "code",
   "execution_count": null,
   "id": "5c0b1c14-5b66-4d23-b5c3-d4ad02483b50",
   "metadata": {},
   "outputs": [],
   "source": [
    "hetrogenuos api\n",
    "it means all different in two system"
   ]
  },
  {
   "cell_type": "markdown",
   "id": "2bcff330-3eaa-48db-883f-5a6a0c410280",
   "metadata": {},
   "source": [
    "### Rest And Soap Architecture"
   ]
  },
  {
   "cell_type": "code",
   "execution_count": null,
   "id": "7012f02d-f1e9-4844-9b80-6ca5cbeae36a",
   "metadata": {},
   "outputs": [],
   "source": [
    "REST = Representational  State Transfer ## it uses the http---- put,get,delete,post\n",
    "# this protocall is known beacuse of its simplicity"
   ]
  },
  {
   "cell_type": "code",
   "execution_count": null,
   "id": "c12fffd3-9f04-4291-8d0d-48289d30145e",
   "metadata": {},
   "outputs": [],
   "source": [
    "SOAP = Simple Object Access Protocall ## it uses the tcp,smtp ----XML(Extended markup lang)"
   ]
  },
  {
   "cell_type": "code",
   "execution_count": null,
   "id": "b53e3753-18b3-402f-b32d-029c93eb7531",
   "metadata": {},
   "outputs": [],
   "source": [
    "difference points\n",
    "securites\n",
    "simplicity\n",
    "flexibility\n",
    "nature\n",
    "protocall\n",
    "scal"
   ]
  },
  {
   "cell_type": "code",
   "execution_count": null,
   "id": "f5e0bc65-29b8-407f-aec4-b415b75252b5",
   "metadata": {},
   "outputs": [],
   "source": []
  }
 ],
 "metadata": {
  "kernelspec": {
   "display_name": "Python 3 (ipykernel)",
   "language": "python",
   "name": "python3"
  },
  "language_info": {
   "codemirror_mode": {
    "name": "ipython",
    "version": 3
   },
   "file_extension": ".py",
   "mimetype": "text/x-python",
   "name": "python",
   "nbconvert_exporter": "python",
   "pygments_lexer": "ipython3",
   "version": "3.10.8"
  }
 },
 "nbformat": 4,
 "nbformat_minor": 5
}
