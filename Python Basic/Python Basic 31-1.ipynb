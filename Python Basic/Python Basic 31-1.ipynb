{
 "cells": [
  {
   "cell_type": "code",
   "execution_count": null,
   "id": "4c504bc5-110d-4857-8eb4-b60c900e52c2",
   "metadata": {},
   "outputs": [],
   "source": []
  },
  {
   "cell_type": "code",
   "execution_count": null,
   "id": "4052ae79-e246-4700-8b31-53c25a3b6fb1",
   "metadata": {},
   "outputs": [],
   "source": []
  },
  {
   "cell_type": "code",
   "execution_count": null,
   "id": "3aff99ce-fd29-4e51-ba5e-d031ecf8a2c1",
   "metadata": {},
   "outputs": [],
   "source": []
  },
  {
   "cell_type": "code",
   "execution_count": 7,
   "id": "7e79f9de-2638-49e3-9964-b5a5b01b7562",
   "metadata": {},
   "outputs": [
    {
     "data": {
      "text/plain": [
       "False"
      ]
     },
     "execution_count": 7,
     "metadata": {},
     "output_type": "execute_result"
    }
   ],
   "source": [
    " bool(0)"
   ]
  },
  {
   "cell_type": "code",
   "execution_count": 1,
   "id": "89c4fb6d-7e70-4771-9620-f1f36a11c7ff",
   "metadata": {},
   "outputs": [
    {
     "data": {
      "text/plain": [
       "False"
      ]
     },
     "execution_count": 1,
     "metadata": {},
     "output_type": "execute_result"
    }
   ],
   "source": [
    "not(-5)"
   ]
  },
  {
   "cell_type": "markdown",
   "id": "85739bf1-4159-4dff-a363-3a7294b807bb",
   "metadata": {
    "slideshow": {
     "slide_type": "notes"
    },
    "tags": []
   },
   "source": [
    "#logical And"
   ]
  },
  {
   "cell_type": "code",
   "execution_count": 12,
   "id": "739c908b-9131-4ab3-b946-1fdd66aa84ca",
   "metadata": {},
   "outputs": [
    {
     "data": {
      "text/plain": [
       "True"
      ]
     },
     "execution_count": 12,
     "metadata": {},
     "output_type": "execute_result"
    }
   ],
   "source": [
    "not(False)*True"
   ]
  },
  {
   "cell_type": "code",
   "execution_count": 2,
   "id": "aba51cf3-8086-40c8-ba86-e0317d58da92",
   "metadata": {},
   "outputs": [
    {
     "data": {
      "text/plain": [
       "True"
      ]
     },
     "execution_count": 2,
     "metadata": {},
     "output_type": "execute_result"
    }
   ],
   "source": [
    "not False*True"
   ]
  },
  {
   "cell_type": "code",
   "execution_count": 16,
   "id": "8e8e29de-adee-4cd0-8fff-1c84b82559f6",
   "metadata": {},
   "outputs": [
    {
     "ename": "ZeroDivisionError",
     "evalue": "division by zero",
     "output_type": "error",
     "traceback": [
      "\u001b[0;31m---------------------------------------------------------------------------\u001b[0m",
      "\u001b[0;31mZeroDivisionError\u001b[0m                         Traceback (most recent call last)",
      "Cell \u001b[0;32mIn[16], line 1\u001b[0m\n\u001b[0;32m----> 1\u001b[0m \u001b[38;5;241;43m1\u001b[39;49m\u001b[38;5;241;43m/\u001b[39;49m\u001b[38;5;241;43m0\u001b[39;49m\n",
      "\u001b[0;31mZeroDivisionError\u001b[0m: division by zero"
     ]
    }
   ],
   "source": [
    "1/0"
   ]
  },
  {
   "cell_type": "code",
   "execution_count": 1,
   "id": "09afc4e7-8ba0-4a49-9195-849fde564a4b",
   "metadata": {},
   "outputs": [
    {
     "data": {
      "text/plain": [
       "-11"
      ]
     },
     "execution_count": 1,
     "metadata": {},
     "output_type": "execute_result"
    }
   ],
   "source": [
    "~10"
   ]
  },
  {
   "cell_type": "code",
   "execution_count": null,
   "id": "da0158ed-8eb6-4cb3-91ff-4b093283f9e6",
   "metadata": {},
   "outputs": [],
   "source": [
    "str1='well'\n",
    "str1."
   ]
  },
  {
   "cell_type": "code",
   "execution_count": 12,
   "id": "a9981341-41ad-4c52-a95a-4afcad3ca52e",
   "metadata": {},
   "outputs": [],
   "source": [
    "str=\"namit Sunil Chauda\""
   ]
  },
  {
   "cell_type": "code",
   "execution_count": 13,
   "id": "34706e28-db43-49a7-80bd-124a19edfc46",
   "metadata": {},
   "outputs": [
    {
     "data": {
      "text/plain": [
       "'namit Sunil Chauda'"
      ]
     },
     "execution_count": 13,
     "metadata": {},
     "output_type": "execute_result"
    }
   ],
   "source": [
    "str[::1]"
   ]
  },
  {
   "cell_type": "code",
   "execution_count": 14,
   "id": "897b06a8-a9a3-410b-b45a-9d3fe3d30937",
   "metadata": {},
   "outputs": [
    {
     "data": {
      "text/plain": [
       "'auh iu ia'"
      ]
     },
     "execution_count": 14,
     "metadata": {},
     "output_type": "execute_result"
    }
   ],
   "source": [
    "str[::-2]"
   ]
  },
  {
   "cell_type": "code",
   "execution_count": 3,
   "id": "431c4a17-0021-4954-ba0c-d7faf1eb7ac1",
   "metadata": {},
   "outputs": [],
   "source": [
    "str=\"namit Sunil Chauda\""
   ]
  },
  {
   "cell_type": "code",
   "execution_count": 2,
   "id": "8f818c03-f323-4583-a541-c9a43ec20990",
   "metadata": {},
   "outputs": [
    {
     "ename": "TypeError",
     "evalue": "'type' object is not subscriptable",
     "output_type": "error",
     "traceback": [
      "\u001b[0;31m---------------------------------------------------------------------------\u001b[0m",
      "\u001b[0;31mTypeError\u001b[0m                                 Traceback (most recent call last)",
      "Cell \u001b[0;32mIn[2], line 1\u001b[0m\n\u001b[0;32m----> 1\u001b[0m \u001b[38;5;28;43mstr\u001b[39;49m\u001b[43m[\u001b[49m\u001b[38;5;241;43m2\u001b[39;49m\u001b[43m:\u001b[49m\u001b[43m:\u001b[49m\u001b[38;5;241;43m-\u001b[39;49m\u001b[38;5;241;43m1\u001b[39;49m\u001b[43m]\u001b[49m\n",
      "\u001b[0;31mTypeError\u001b[0m: 'type' object is not subscriptable"
     ]
    }
   ],
   "source": [
    "str[2::-1]"
   ]
  },
  {
   "cell_type": "code",
   "execution_count": 18,
   "id": "d221c32a-a37f-4b54-9b6e-d04796624c80",
   "metadata": {},
   "outputs": [],
   "source": [
    "course_name=\"Data Science Masters\"\n"
   ]
  },
  {
   "cell_type": "code",
   "execution_count": 22,
   "id": "83c2bbc5-fb06-4e62-832d-b1cccbadc6a8",
   "metadata": {},
   "outputs": [
    {
     "data": {
      "text/plain": [
       "'ecneicS'"
      ]
     },
     "execution_count": 22,
     "metadata": {},
     "output_type": "execute_result"
    }
   ],
   "source": [
    "course_name[11:4:-1]"
   ]
  },
  {
   "cell_type": "code",
   "execution_count": 31,
   "id": "680dd308-1b5c-491f-abef-c2362a8d6877",
   "metadata": {},
   "outputs": [
    {
     "data": {
      "text/plain": [
       "20"
      ]
     },
     "execution_count": 31,
     "metadata": {},
     "output_type": "execute_result"
    }
   ],
   "source": [
    "len(course_name)"
   ]
  },
  {
   "cell_type": "code",
   "execution_count": 4,
   "id": "dfc23013-f2db-45fb-9ada-66bd82eb4e7a",
   "metadata": {},
   "outputs": [
    {
     "ename": "NameError",
     "evalue": "name 'course_name' is not defined",
     "output_type": "error",
     "traceback": [
      "\u001b[0;31m---------------------------------------------------------------------------\u001b[0m",
      "\u001b[0;31mNameError\u001b[0m                                 Traceback (most recent call last)",
      "Cell \u001b[0;32mIn[4], line 1\u001b[0m\n\u001b[0;32m----> 1\u001b[0m \u001b[43mcourse_name\u001b[49m\u001b[38;5;241m.\u001b[39mcount(\u001b[38;5;124m\"\u001b[39m\u001b[38;5;124m\"\u001b[39m)\n",
      "\u001b[0;31mNameError\u001b[0m: name 'course_name' is not defined"
     ]
    }
   ],
   "source": [
    "course_name.count(\"\")"
   ]
  },
  {
   "cell_type": "code",
   "execution_count": null,
   "id": "2423164f-ff76-4be8-9fba-a810536a9dd4",
   "metadata": {},
   "outputs": [],
   "source": []
  },
  {
   "cell_type": "code",
   "execution_count": null,
   "id": "1bbe3568-5733-42d0-bb9a-c69cd35d19fe",
   "metadata": {},
   "outputs": [],
   "source": []
  },
  {
   "cell_type": "code",
   "execution_count": null,
   "id": "61b07d49-67bc-46f6-aee1-43e962dc025f",
   "metadata": {},
   "outputs": [],
   "source": []
  },
  {
   "cell_type": "code",
   "execution_count": 25,
   "id": "926f62a8-471d-40d0-99fd-e45e5ca4ab92",
   "metadata": {},
   "outputs": [],
   "source": [
    "str=\"namit Sunil Chaudhari\""
   ]
  },
  {
   "cell_type": "code",
   "execution_count": 26,
   "id": "b84a7c70-3bcb-4747-bc4a-8536045f67a7",
   "metadata": {},
   "outputs": [
    {
     "data": {
      "text/plain": [
       "1"
      ]
     },
     "execution_count": 26,
     "metadata": {},
     "output_type": "execute_result"
    }
   ],
   "source": [
    "str.find(\"a\")"
   ]
  },
  {
   "cell_type": "code",
   "execution_count": 29,
   "id": "c805e5f3-8b87-40aa-8dd8-11ddbd14163a",
   "metadata": {},
   "outputs": [
    {
     "data": {
      "text/plain": [
       "14"
      ]
     },
     "execution_count": 29,
     "metadata": {},
     "output_type": "execute_result"
    }
   ],
   "source": [
    "str.find(\"a\",2,15)"
   ]
  },
  {
   "cell_type": "code",
   "execution_count": 30,
   "id": "2dfd2427-26fc-4fbd-be35-1c508b9feebb",
   "metadata": {},
   "outputs": [
    {
     "data": {
      "text/plain": [
       "-1"
      ]
     },
     "execution_count": 30,
     "metadata": {},
     "output_type": "execute_result"
    }
   ],
   "source": [
    "str.find(\"z\")##if given element is not ptresent in the given range or string then it will returns -1"
   ]
  },
  {
   "cell_type": "code",
   "execution_count": null,
   "id": "47c78a49-6873-4dd4-b6e8-242de9fbf130",
   "metadata": {},
   "outputs": [],
   "source": [
    "name='namit sunil chaudhari'"
   ]
  },
  {
   "cell_type": "code",
   "execution_count": 37,
   "id": "5637ae75-cf25-47a4-bbbe-db66903b29a0",
   "metadata": {},
   "outputs": [
    {
     "data": {
      "text/plain": [
       "'Data Science Masters'"
      ]
     },
     "execution_count": 37,
     "metadata": {},
     "output_type": "execute_result"
    }
   ],
   "source": [
    "course_name"
   ]
  },
  {
   "cell_type": "code",
   "execution_count": null,
   "id": "ed86a825-5f42-40ff-99c4-112912d76e11",
   "metadata": {},
   "outputs": [],
   "source": []
  },
  {
   "cell_type": "code",
   "execution_count": 40,
   "id": "e72794a7-d637-44e2-b11e-9d5d169e74e8",
   "metadata": {},
   "outputs": [],
   "source": [
    "name='namit sunil chaudhari'"
   ]
  },
  {
   "cell_type": "code",
   "execution_count": 41,
   "id": "e9b8c792-214e-4144-9ffd-a64989e34fc7",
   "metadata": {},
   "outputs": [
    {
     "data": {
      "text/plain": [
       "['namit', 'sunil', 'chaudhari']"
      ]
     },
     "execution_count": 41,
     "metadata": {},
     "output_type": "execute_result"
    }
   ],
   "source": [
    "name.split(' ')"
   ]
  },
  {
   "cell_type": "code",
   "execution_count": null,
   "id": "324d88c0-070c-4a54-ad40-047aab94a58a",
   "metadata": {},
   "outputs": [
    {
     "ename": "AttributeError",
     "evalue": "'str' object has no attribute 'partision'",
     "output_type": "error",
     "traceback": [
      "\u001b[0;31m---------------------------------------------------------------------------\u001b[0m",
      "\u001b[0;31mAttributeError\u001b[0m                            Traceback (most recent call last)",
      "Cell \u001b[0;32mIn[51], line 2\u001b[0m\n\u001b[1;32m      1\u001b[0m str1\u001b[38;5;241m=\u001b[39m\u001b[38;5;124m'\u001b[39m\u001b[38;5;124mhahahahahahahahahahahahahahaha\u001b[39m\u001b[38;5;124m'\u001b[39m\n\u001b[0;32m----> 2\u001b[0m \u001b[43mstr1\u001b[49m\u001b[38;5;241;43m.\u001b[39;49m\u001b[43mpartision\u001b[49m(\u001b[38;5;124m'\u001b[39m\u001b[38;5;124ma\u001b[39m\u001b[38;5;124m'\u001b[39m)\n",
      "\u001b[0;31mAttributeError\u001b[0m: 'str' object has no attribute 'partision'"
     ]
    }
   ],
   "source": [
    "str1='hahahahahahahahahahahahahahaha'"
   ]
  },
  {
   "cell_type": "code",
   "execution_count": 52,
   "id": "3b77bbcd-cca8-4933-ace4-9e27eef8a204",
   "metadata": {},
   "outputs": [
    {
     "data": {
      "text/plain": [
       "['h', 'h', 'h', 'h', 'h', 'h', 'h', 'h', 'h', 'h', 'h', 'h', 'h', 'h', 'h', '']"
      ]
     },
     "execution_count": 52,
     "metadata": {},
     "output_type": "execute_result"
    }
   ],
   "source": [
    "str1.split('a')"
   ]
  },
  {
   "cell_type": "code",
   "execution_count": 8,
   "id": "d9de28ae-4422-4746-baf3-f4e55b230268",
   "metadata": {},
   "outputs": [
    {
     "ename": "NameError",
     "evalue": "name 'str1' is not defined",
     "output_type": "error",
     "traceback": [
      "\u001b[0;31m---------------------------------------------------------------------------\u001b[0m",
      "\u001b[0;31mNameError\u001b[0m                                 Traceback (most recent call last)",
      "Cell \u001b[0;32mIn[8], line 1\u001b[0m\n\u001b[0;32m----> 1\u001b[0m \u001b[43mstr1\u001b[49m\u001b[38;5;241m.\u001b[39mpartition(\u001b[38;5;124m'\u001b[39m\u001b[38;5;124ma\u001b[39m\u001b[38;5;124m'\u001b[39m)\n",
      "\u001b[0;31mNameError\u001b[0m: name 'str1' is not defined"
     ]
    }
   ],
   "source": [
    "str1.partition('a')"
   ]
  },
  {
   "cell_type": "code",
   "execution_count": 6,
   "id": "da5bce27-6168-4d8f-8a55-c9e5a5874b69",
   "metadata": {},
   "outputs": [
    {
     "data": {
      "text/plain": [
       "'0o6'"
      ]
     },
     "execution_count": 6,
     "metadata": {},
     "output_type": "execute_result"
    }
   ],
   "source": [
    "oct(6)"
   ]
  },
  {
   "cell_type": "code",
   "execution_count": 5,
   "id": "41b46309-84fa-43c9-aa31-94e50d017c10",
   "metadata": {},
   "outputs": [
    {
     "data": {
      "text/plain": [
       "'0b110'"
      ]
     },
     "execution_count": 5,
     "metadata": {},
     "output_type": "execute_result"
    }
   ],
   "source": [
    "bin(6)"
   ]
  },
  {
   "cell_type": "code",
   "execution_count": 4,
   "id": "a12d7dee-e867-436c-9ade-d77b84077526",
   "metadata": {},
   "outputs": [
    {
     "data": {
      "text/plain": [
       "'0x6'"
      ]
     },
     "execution_count": 4,
     "metadata": {},
     "output_type": "execute_result"
    }
   ],
   "source": [
    "hex(6)"
   ]
  },
  {
   "cell_type": "code",
   "execution_count": null,
   "id": "e38eb325-1f34-4afb-96ae-928af21fb1f2",
   "metadata": {},
   "outputs": [],
   "source": []
  },
  {
   "cell_type": "code",
   "execution_count": null,
   "id": "476df023-658b-41e4-9cd7-7e36e41738f0",
   "metadata": {},
   "outputs": [],
   "source": []
  },
  {
   "cell_type": "code",
   "execution_count": null,
   "id": "7af007d3-fa92-4885-ac2d-8610f58812cc",
   "metadata": {},
   "outputs": [],
   "source": []
  },
  {
   "cell_type": "code",
   "execution_count": null,
   "id": "11e0e2d4-a3e9-44ae-a774-f326a03aa469",
   "metadata": {},
   "outputs": [],
   "source": []
  },
  {
   "cell_type": "code",
   "execution_count": null,
   "id": "591c5f88-cbc3-45d4-811d-d1b772fb637d",
   "metadata": {},
   "outputs": [],
   "source": []
  },
  {
   "cell_type": "code",
   "execution_count": null,
   "id": "968c8f0a-8c65-420d-a54f-762767fec418",
   "metadata": {},
   "outputs": [],
   "source": []
  },
  {
   "cell_type": "code",
   "execution_count": null,
   "id": "f960fb66-1685-427a-8647-d13e66b7286f",
   "metadata": {},
   "outputs": [],
   "source": []
  },
  {
   "cell_type": "code",
   "execution_count": null,
   "id": "6b33dfe9-f478-4e7f-89d0-e8aa3ed0c73d",
   "metadata": {},
   "outputs": [],
   "source": []
  },
  {
   "cell_type": "code",
   "execution_count": null,
   "id": "f37eb1be-44a4-44fd-94df-a2bec09f7004",
   "metadata": {},
   "outputs": [],
   "source": []
  },
  {
   "cell_type": "code",
   "execution_count": null,
   "id": "4aec6748-b0df-4a06-900c-98acafc59b3a",
   "metadata": {},
   "outputs": [],
   "source": []
  },
  {
   "cell_type": "code",
   "execution_count": null,
   "id": "9ed36de2-21d6-421d-a961-7e19797f38ff",
   "metadata": {},
   "outputs": [],
   "source": []
  },
  {
   "cell_type": "code",
   "execution_count": null,
   "id": "35b05adc-bd2f-4fdd-849d-21615727193c",
   "metadata": {},
   "outputs": [],
   "source": []
  },
  {
   "cell_type": "code",
   "execution_count": null,
   "id": "b61936ad-4d1e-4e8e-b646-843be0386ac3",
   "metadata": {},
   "outputs": [],
   "source": []
  },
  {
   "cell_type": "code",
   "execution_count": null,
   "id": "047a99d9-3edd-416f-af81-816a472ca8b7",
   "metadata": {},
   "outputs": [],
   "source": []
  },
  {
   "cell_type": "code",
   "execution_count": null,
   "id": "cc6c6842-d596-45e3-8302-cec05b920e8e",
   "metadata": {},
   "outputs": [],
   "source": []
  },
  {
   "cell_type": "code",
   "execution_count": null,
   "id": "df4603de-b7c2-4e96-bf8e-40fd4ee637a0",
   "metadata": {},
   "outputs": [],
   "source": []
  },
  {
   "cell_type": "code",
   "execution_count": null,
   "id": "295ec5c6-e16e-4142-8617-f068e15bd5be",
   "metadata": {},
   "outputs": [],
   "source": []
  },
  {
   "cell_type": "code",
   "execution_count": null,
   "id": "9c376d83-f0ce-4d67-a002-b62f443dcc9d",
   "metadata": {},
   "outputs": [],
   "source": []
  },
  {
   "cell_type": "code",
   "execution_count": null,
   "id": "4f79c5cf-e302-475a-9579-e15963c18e26",
   "metadata": {},
   "outputs": [],
   "source": []
  },
  {
   "cell_type": "code",
   "execution_count": null,
   "id": "752038df-6c7d-41ef-bf58-ce134701f48d",
   "metadata": {},
   "outputs": [],
   "source": []
  },
  {
   "cell_type": "code",
   "execution_count": null,
   "id": "2d58dccb-f461-4d62-b4ed-42e1e6417b39",
   "metadata": {},
   "outputs": [],
   "source": []
  },
  {
   "cell_type": "code",
   "execution_count": null,
   "id": "8c3f830b-0f0d-48d3-b917-023f2b09aade",
   "metadata": {},
   "outputs": [],
   "source": []
  },
  {
   "cell_type": "code",
   "execution_count": null,
   "id": "43a1d4bc-08a1-4fa3-bc1d-cca29e265673",
   "metadata": {},
   "outputs": [],
   "source": []
  },
  {
   "cell_type": "code",
   "execution_count": null,
   "id": "b82a54fb-0b1d-449f-a260-40748c41d6c8",
   "metadata": {},
   "outputs": [],
   "source": []
  },
  {
   "cell_type": "code",
   "execution_count": null,
   "id": "06ad46bc-27b5-4e71-aeaf-90b322ef9d0e",
   "metadata": {},
   "outputs": [],
   "source": []
  },
  {
   "cell_type": "code",
   "execution_count": null,
   "id": "02ae1fdc-c614-442b-961d-fe1aaa02ebab",
   "metadata": {},
   "outputs": [],
   "source": []
  },
  {
   "cell_type": "code",
   "execution_count": null,
   "id": "0bd84585-d3ce-4d3c-862f-6e03c75382e8",
   "metadata": {},
   "outputs": [],
   "source": []
  },
  {
   "cell_type": "code",
   "execution_count": null,
   "id": "2cfc9948-bde8-467b-b7e3-60c1306375c7",
   "metadata": {},
   "outputs": [],
   "source": []
  },
  {
   "cell_type": "code",
   "execution_count": null,
   "id": "5357888c-1d19-4db2-9b17-4b8fbc8c1c9d",
   "metadata": {},
   "outputs": [],
   "source": []
  }
 ],
 "metadata": {
  "kernelspec": {
   "display_name": "Python 3 (ipykernel)",
   "language": "python",
   "name": "python3"
  },
  "language_info": {
   "codemirror_mode": {
    "name": "ipython",
    "version": 3
   },
   "file_extension": ".py",
   "mimetype": "text/x-python",
   "name": "python",
   "nbconvert_exporter": "python",
   "pygments_lexer": "ipython3",
   "version": "3.10.8"
  },
  "toc-showtags": true
 },
 "nbformat": 4,
 "nbformat_minor": 5
}
