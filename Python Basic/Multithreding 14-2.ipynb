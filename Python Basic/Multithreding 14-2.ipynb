{
 "cells": [
  {
   "cell_type": "markdown",
   "id": "d307a42e-c3f7-489a-a168-4d381a2f9212",
   "metadata": {},
   "source": [
    "### Multithreading"
   ]
  },
  {
   "cell_type": "code",
   "execution_count": 44,
   "id": "75f3811f-7df6-4ed1-8209-fdb3d6c605f0",
   "metadata": {},
   "outputs": [],
   "source": [
    "import threading"
   ]
  },
  {
   "cell_type": "code",
   "execution_count": 45,
   "id": "ace8508a-bf90-4357-b574-6527d2246e14",
   "metadata": {},
   "outputs": [],
   "source": [
    "def test(id):\n",
    "    print(\"My id for this test is %d\" %id)"
   ]
  },
  {
   "cell_type": "code",
   "execution_count": 46,
   "id": "75c1cbe8-1bff-4270-b6fb-d8ea9fa2c1eb",
   "metadata": {
    "tags": []
   },
   "outputs": [
    {
     "name": "stdout",
     "output_type": "stream",
     "text": [
      "My id for this test is 10\n"
     ]
    }
   ],
   "source": [
    "test(10)"
   ]
  },
  {
   "cell_type": "code",
   "execution_count": 47,
   "id": "131cef4d-bb31-493f-9aa2-6da95601057b",
   "metadata": {},
   "outputs": [
    {
     "name": "stdout",
     "output_type": "stream",
     "text": [
      "My id for this test is 3\n"
     ]
    }
   ],
   "source": [
    "test(3)"
   ]
  },
  {
   "cell_type": "code",
   "execution_count": 48,
   "id": "41a61d85-f8fa-4057-a44d-c71f279966bd",
   "metadata": {},
   "outputs": [
    {
     "name": "stdout",
     "output_type": "stream",
     "text": [
      "My id for this test is 6\n"
     ]
    }
   ],
   "source": [
    "test(6)"
   ]
  },
  {
   "cell_type": "code",
   "execution_count": 6,
   "id": "afe3b7c5-1114-4363-9387-452ee14c7c9d",
   "metadata": {},
   "outputs": [],
   "source": [
    "thred = [threading.Thread(target= test , args = (i,))for i in [10,3,6]]"
   ]
  },
  {
   "cell_type": "code",
   "execution_count": 7,
   "id": "311f6648-8bc0-418b-8024-b4ecdf1aae16",
   "metadata": {},
   "outputs": [
    {
     "data": {
      "text/plain": [
       "[<Thread(Thread-5 (test), initial)>,\n",
       " <Thread(Thread-6 (test), initial)>,\n",
       " <Thread(Thread-7 (test), initial)>]"
      ]
     },
     "execution_count": 7,
     "metadata": {},
     "output_type": "execute_result"
    }
   ],
   "source": [
    "thred"
   ]
  },
  {
   "cell_type": "code",
   "execution_count": 8,
   "id": "ef64eff0-6a6b-40bf-9b57-5dc970a6daa1",
   "metadata": {},
   "outputs": [
    {
     "name": "stdout",
     "output_type": "stream",
     "text": [
      "My id for this test is 10\n",
      "My id for this test is 3\n",
      "My id for this test is 6\n"
     ]
    }
   ],
   "source": [
    "for t in thred:\n",
    "    t.start()"
   ]
  },
  {
   "cell_type": "code",
   "execution_count": 9,
   "id": "0a30bd4c-faee-46de-8181-1d9a97aa81ca",
   "metadata": {},
   "outputs": [],
   "source": [
    "import urllib.request\n",
    "def file_download(url,filename):\n",
    "    urllib.request.urlretrieve(url,filename)"
   ]
  },
  {
   "cell_type": "code",
   "execution_count": 10,
   "id": "70d3c6ad-5e7f-404d-966b-8f3ea1000b23",
   "metadata": {},
   "outputs": [],
   "source": [
    "file_download('https://raw.githubusercontent.com/itsfoss/text-files/master/agatha.txt',\"test2.txt\")"
   ]
  },
  {
   "cell_type": "code",
   "execution_count": 11,
   "id": "dfb7a0a9-910d-47ed-bb47-290559a66074",
   "metadata": {},
   "outputs": [],
   "source": [
    "url_list = [\"https://raw.githubusercontent.com/itsfoss/text-files/master/agatha.txt\",\"https://raw.githubusercontent.com/itsfoss/text-files/master/sample_log_file.txt\",\"https://raw.githubusercontent.com/itsfoss/text-files/master/sherlock.txt\"]"
   ]
  },
  {
   "cell_type": "code",
   "execution_count": 12,
   "id": "f6637114-085a-4587-974d-73983b081025",
   "metadata": {},
   "outputs": [
    {
     "data": {
      "text/plain": [
       "['https://raw.githubusercontent.com/itsfoss/text-files/master/agatha.txt',\n",
       " 'https://raw.githubusercontent.com/itsfoss/text-files/master/sample_log_file.txt',\n",
       " 'https://raw.githubusercontent.com/itsfoss/text-files/master/sherlock.txt']"
      ]
     },
     "execution_count": 12,
     "metadata": {},
     "output_type": "execute_result"
    }
   ],
   "source": [
    "url_list"
   ]
  },
  {
   "cell_type": "code",
   "execution_count": 13,
   "id": "c4473950-f84c-4a42-be6d-0853cf0fe8dc",
   "metadata": {},
   "outputs": [],
   "source": [
    "data_list = [\"data1.txt\",\"data2.txt\",\"data3.txt\"]"
   ]
  },
  {
   "cell_type": "code",
   "execution_count": 14,
   "id": "c42f3c94-2e5e-4c3a-9a7d-ee17faf2290e",
   "metadata": {},
   "outputs": [
    {
     "data": {
      "text/plain": [
       "['data1.txt', 'data2.txt', 'data3.txt']"
      ]
     },
     "execution_count": 14,
     "metadata": {},
     "output_type": "execute_result"
    }
   ],
   "source": [
    "data_list"
   ]
  },
  {
   "cell_type": "code",
   "execution_count": 16,
   "id": "2dd18f2d-7f81-4786-a2e7-c333f315a807",
   "metadata": {},
   "outputs": [],
   "source": [
    "thread1 = [threading.Thread(target=file_download,args=[url_list[i],data_list[i]])for i in range (len(url_list))]"
   ]
  },
  {
   "cell_type": "code",
   "execution_count": 17,
   "id": "9e1a6631-614d-41c9-83f5-150bec221ca6",
   "metadata": {},
   "outputs": [],
   "source": [
    "for t in thread1:\n",
    "    t.start()"
   ]
  },
  {
   "cell_type": "code",
   "execution_count": 18,
   "id": "87b4b1ad-4636-4afd-8d72-1bd28f220c5f",
   "metadata": {},
   "outputs": [
    {
     "data": {
      "text/plain": [
       "[<Thread(Thread-11 (file_download), stopped 140087002134080)>,\n",
       " <Thread(Thread-12 (file_download), stopped 140086976960064)>,\n",
       " <Thread(Thread-13 (file_download), stopped 140086968567360)>]"
      ]
     },
     "execution_count": 18,
     "metadata": {},
     "output_type": "execute_result"
    }
   ],
   "source": [
    "thread1"
   ]
  },
  {
   "cell_type": "code",
   "execution_count": 32,
   "id": "869f8820-3eb0-4c1a-9a96-e00280ce90fd",
   "metadata": {},
   "outputs": [],
   "source": [
    "import time\n",
    "def test2(x):\n",
    "    for i in range(10):\n",
    "        print(\"my value of x is %d and my value of i is %d \"%(x,i))\n",
    "        time.sleep(2)## added later"
   ]
  },
  {
   "cell_type": "code",
   "execution_count": 33,
   "id": "f1585c63-bdb1-452d-9774-6c304665dd44",
   "metadata": {},
   "outputs": [
    {
     "name": "stdout",
     "output_type": "stream",
     "text": [
      "my value of x is 10 and my value of i is 0 \n",
      "my value of x is 10 and my value of i is 1 \n",
      "my value of x is 10 and my value of i is 2 \n",
      "my value of x is 10 and my value of i is 3 \n",
      "my value of x is 10 and my value of i is 4 \n",
      "my value of x is 10 and my value of i is 5 \n",
      "my value of x is 10 and my value of i is 6 \n",
      "my value of x is 10 and my value of i is 7 \n",
      "my value of x is 10 and my value of i is 8 \n",
      "my value of x is 10 and my value of i is 9 \n"
     ]
    }
   ],
   "source": [
    "test2(10)"
   ]
  },
  {
   "cell_type": "code",
   "execution_count": 27,
   "id": "2777d813-4983-4f9e-b879-987de7c1241a",
   "metadata": {},
   "outputs": [
    {
     "name": "stdout",
     "output_type": "stream",
     "text": [
      "my value of x is 10 and my value of i is 0 \n",
      "my value of x is 10 and my value of i is 1 \n",
      "my value of x is 10 and my value of i is 2 \n",
      "my value of x is 10 and my value of i is 3 \n",
      "my value of x is 10 and my value of i is 4 \n",
      "my value of x is 10 and my value of i is 5 \n",
      "my value of x is 10 and my value of i is 6 \n",
      "my value of x is 10 and my value of i is 7 \n",
      "my value of x is 10 and my value of i is 8 \n",
      "my value of x is 10 and my value of i is 9 \n"
     ]
    }
   ],
   "source": [
    "test2(10)"
   ]
  },
  {
   "cell_type": "code",
   "execution_count": 36,
   "id": "0714336e-3f5e-4459-a942-8e0cdd4891d1",
   "metadata": {},
   "outputs": [],
   "source": [
    "thread2 = [threading.Thread(target=test2,args=(i,))for i in [100,200,300,400]]"
   ]
  },
  {
   "cell_type": "code",
   "execution_count": 37,
   "id": "3dba0904-41df-4820-9f54-c0843af96905",
   "metadata": {},
   "outputs": [
    {
     "name": "stdout",
     "output_type": "stream",
     "text": [
      "my value of x is 100 and my value of i is 0 \n",
      "my value of x is 200 and my value of i is 0 \n",
      "my value of x is 300 and my value of i is 0 \n",
      "my value of x is 400 and my value of i is 0 \n",
      "my value of x is 100 and my value of i is 1 my value of x is 200 and my value of i is 1 \n",
      "my value of x is 300 and my value of i is 1 \n",
      "my value of x is 400 and my value of i is 1 \n",
      "\n",
      "my value of x is 200 and my value of i is 2 \n",
      "my value of x is 100 and my value of i is 2 \n",
      "my value of x is 300 and my value of i is 2 \n",
      "my value of x is 400 and my value of i is 2 \n",
      "my value of x is 300 and my value of i is 3 my value of x is 200 and my value of i is 3 \n",
      "my value of x is 100 and my value of i is 3 \n",
      "my value of x is 400 and my value of i is 3 \n",
      "\n",
      "my value of x is 200 and my value of i is 4 \n",
      "my value of x is 100 and my value of i is 4 \n",
      "my value of x is 300 and my value of i is 4 \n",
      "my value of x is 400 and my value of i is 4 \n",
      "my value of x is 100 and my value of i is 5 my value of x is 200 and my value of i is 5 \n",
      "\n",
      "my value of x is 300 and my value of i is 5 \n",
      "my value of x is 400 and my value of i is 5 \n",
      "my value of x is 100 and my value of i is 6 my value of x is 200 and my value of i is 6 \n",
      "my value of x is 400 and my value of i is 6 \n",
      "my value of x is 300 and my value of i is 6 \n",
      "\n",
      "my value of x is 200 and my value of i is 7 my value of x is 300 and my value of i is 7 \n",
      "my value of x is 100 and my value of i is 7 \n",
      "my value of x is 400 and my value of i is 7 \n",
      "\n",
      "my value of x is 300 and my value of i is 8 my value of x is 100 and my value of i is 8 \n",
      "my value of x is 400 and my value of i is 8 \n",
      "my value of x is 200 and my value of i is 8 \n",
      "\n",
      "my value of x is 300 and my value of i is 9 \n",
      "my value of x is 400 and my value of i is 9 \n",
      "my value of x is 200 and my value of i is 9 \n",
      "my value of x is 100 and my value of i is 9 \n"
     ]
    }
   ],
   "source": [
    "for t in thread2:\n",
    "    t.start()"
   ]
  },
  {
   "cell_type": "code",
   "execution_count": 52,
   "id": "9739b060-9ee8-41eb-9053-dffd45e0d9cc",
   "metadata": {},
   "outputs": [],
   "source": [
    "shared_var = 0\n",
    "lock_var = threading.Lock()\n",
    "def test3(x):\n",
    "    global shared_var\n",
    "    with lock_var:\n",
    "        shared_var = shared_var+1\n",
    "        print(\"my shared var is %d and my value is %d\"%(shared_var,x))\n",
    "        time.sleep(2)\n",
    "thread3 = [threading.Thread(target=test3,args=(i,))for i in [1,2,3,4,5,6,7]]"
   ]
  },
  {
   "cell_type": "code",
   "execution_count": 53,
   "id": "b486ad7d-eced-442e-91b7-3c8fa5b4ca20",
   "metadata": {},
   "outputs": [
    {
     "name": "stdout",
     "output_type": "stream",
     "text": [
      "my shared var is 1 and my value is 1\n",
      "my shared var is 2 and my value is 2\n",
      "my shared var is 3 and my value is 3\n",
      "my shared var is 4 and my value is 4\n",
      "my shared var is 5 and my value is 5\n",
      "my shared var is 6 and my value is 6\n",
      "my shared var is 7 and my value is 7\n"
     ]
    }
   ],
   "source": [
    "for t in thread3:\n",
    "    t.start()"
   ]
  },
  {
   "cell_type": "code",
   "execution_count": null,
   "id": "87c3b116-d89f-437a-a0d1-e674c941e2c5",
   "metadata": {},
   "outputs": [],
   "source": []
  },
  {
   "cell_type": "code",
   "execution_count": null,
   "id": "c1986004-d5aa-41c9-894f-78851d12b20a",
   "metadata": {},
   "outputs": [],
   "source": []
  },
  {
   "cell_type": "code",
   "execution_count": null,
   "id": "a3f2cb02-a2f1-4e04-8551-5d4ee9571016",
   "metadata": {},
   "outputs": [],
   "source": []
  },
  {
   "cell_type": "code",
   "execution_count": null,
   "id": "d97e3c00-c058-4bdf-a392-896fb20f4201",
   "metadata": {},
   "outputs": [],
   "source": []
  },
  {
   "cell_type": "code",
   "execution_count": null,
   "id": "044e928a-f516-431f-960b-a7a1af9bfacf",
   "metadata": {},
   "outputs": [],
   "source": []
  },
  {
   "cell_type": "code",
   "execution_count": null,
   "id": "305dfe91-2c76-42bb-bc0f-b35aacd6b1a3",
   "metadata": {},
   "outputs": [],
   "source": []
  },
  {
   "cell_type": "code",
   "execution_count": null,
   "id": "f1a58a1b-2b1c-47b4-844b-708759c6837b",
   "metadata": {},
   "outputs": [],
   "source": []
  },
  {
   "cell_type": "code",
   "execution_count": null,
   "id": "41ae50f1-5c2c-40b6-8bb1-e813d5fa9484",
   "metadata": {},
   "outputs": [],
   "source": []
  },
  {
   "cell_type": "code",
   "execution_count": null,
   "id": "61042cb3-7c45-417c-9772-9bb189e976ff",
   "metadata": {},
   "outputs": [],
   "source": []
  },
  {
   "cell_type": "code",
   "execution_count": null,
   "id": "13f8ade4-e682-4640-abe9-28164a866b37",
   "metadata": {},
   "outputs": [],
   "source": []
  },
  {
   "cell_type": "code",
   "execution_count": null,
   "id": "05e9bddc-f556-48bb-a606-36fc22500b88",
   "metadata": {},
   "outputs": [],
   "source": []
  },
  {
   "cell_type": "code",
   "execution_count": null,
   "id": "b481d622-8eaa-4921-afef-9dea70d3a2e6",
   "metadata": {},
   "outputs": [],
   "source": []
  },
  {
   "cell_type": "code",
   "execution_count": null,
   "id": "eb183cbd-ee91-4e6c-a805-552458467ea5",
   "metadata": {},
   "outputs": [],
   "source": []
  },
  {
   "cell_type": "code",
   "execution_count": null,
   "id": "c88ac6b4-983b-4c89-8603-ccf5b8b65c86",
   "metadata": {},
   "outputs": [],
   "source": []
  },
  {
   "cell_type": "code",
   "execution_count": null,
   "id": "724284b4-864a-4327-8b3b-062b33defeee",
   "metadata": {},
   "outputs": [],
   "source": []
  },
  {
   "cell_type": "code",
   "execution_count": null,
   "id": "0a007e73-d271-4ea9-9498-bf86ecf1f608",
   "metadata": {},
   "outputs": [],
   "source": []
  },
  {
   "cell_type": "code",
   "execution_count": null,
   "id": "c5abc74b-75d9-4b92-b7f5-8d825055c6f8",
   "metadata": {},
   "outputs": [],
   "source": []
  }
 ],
 "metadata": {
  "kernelspec": {
   "display_name": "Python 3 (ipykernel)",
   "language": "python",
   "name": "python3"
  },
  "language_info": {
   "codemirror_mode": {
    "name": "ipython",
    "version": 3
   },
   "file_extension": ".py",
   "mimetype": "text/x-python",
   "name": "python",
   "nbconvert_exporter": "python",
   "pygments_lexer": "ipython3",
   "version": "3.10.8"
  }
 },
 "nbformat": 4,
 "nbformat_minor": 5
}
