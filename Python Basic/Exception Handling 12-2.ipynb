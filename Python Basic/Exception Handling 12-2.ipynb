{
 "cells": [
  {
   "cell_type": "markdown",
   "id": "4c98813c-e583-4cd5-ad9b-0d6c05f0dfa8",
   "metadata": {
    "jp-MarkdownHeadingCollapsed": true,
    "tags": []
   },
   "source": [
    "###  Exceptions Handling With Try Except"
   ]
  },
  {
   "cell_type": "code",
   "execution_count": null,
   "id": "952e3b4f-3cca-468c-91c0-bc6477c78196",
   "metadata": {},
   "outputs": [],
   "source": [
    "### it handlling all the errors in code"
   ]
  },
  {
   "cell_type": "code",
   "execution_count": 1,
   "id": "9431c740-f42a-4cee-a4cd-09e91f891ebe",
   "metadata": {},
   "outputs": [],
   "source": [
    "a= 10 "
   ]
  },
  {
   "cell_type": "code",
   "execution_count": 2,
   "id": "faeb0315-285f-4d2a-94c0-9667e61f1e7e",
   "metadata": {},
   "outputs": [
    {
     "ename": "ZeroDivisionError",
     "evalue": "division by zero",
     "output_type": "error",
     "traceback": [
      "\u001b[0;31m---------------------------------------------------------------------------\u001b[0m",
      "\u001b[0;31mZeroDivisionError\u001b[0m                         Traceback (most recent call last)",
      "Cell \u001b[0;32mIn[2], line 1\u001b[0m\n\u001b[0;32m----> 1\u001b[0m \u001b[43ma\u001b[49m\u001b[38;5;241;43m/\u001b[39;49m\u001b[38;5;241;43m0\u001b[39;49m\n",
      "\u001b[0;31mZeroDivisionError\u001b[0m: division by zero"
     ]
    }
   ],
   "source": [
    "a/0"
   ]
  },
  {
   "cell_type": "code",
   "execution_count": 7,
   "id": "d9e064e8-a103-4611-aca6-1e0bd4bd4071",
   "metadata": {},
   "outputs": [
    {
     "ename": "FileNotFoundError",
     "evalue": "[Errno 2] No such file or directory: 'demo.txt'",
     "output_type": "error",
     "traceback": [
      "\u001b[0;31m---------------------------------------------------------------------------\u001b[0m",
      "\u001b[0;31mFileNotFoundError\u001b[0m                         Traceback (most recent call last)",
      "Cell \u001b[0;32mIn[7], line 1\u001b[0m\n\u001b[0;32m----> 1\u001b[0m f \u001b[38;5;241m=\u001b[39m \u001b[38;5;28;43mopen\u001b[39;49m\u001b[43m(\u001b[49m\u001b[38;5;124;43m\"\u001b[39;49m\u001b[38;5;124;43mdemo.txt\u001b[39;49m\u001b[38;5;124;43m\"\u001b[39;49m\u001b[43m,\u001b[49m\u001b[38;5;124;43m\"\u001b[39;49m\u001b[38;5;124;43mr\u001b[39;49m\u001b[38;5;124;43m\"\u001b[39;49m\u001b[43m)\u001b[49m\n\u001b[1;32m      2\u001b[0m \u001b[38;5;28mprint\u001b[39m(\u001b[38;5;124m\"\u001b[39m\u001b[38;5;124mthis is my print statment\u001b[39m\u001b[38;5;124m\"\u001b[39m)\n",
      "File \u001b[0;32m/opt/conda/lib/python3.10/site-packages/IPython/core/interactiveshell.py:282\u001b[0m, in \u001b[0;36m_modified_open\u001b[0;34m(file, *args, **kwargs)\u001b[0m\n\u001b[1;32m    275\u001b[0m \u001b[38;5;28;01mif\u001b[39;00m file \u001b[38;5;129;01min\u001b[39;00m {\u001b[38;5;241m0\u001b[39m, \u001b[38;5;241m1\u001b[39m, \u001b[38;5;241m2\u001b[39m}:\n\u001b[1;32m    276\u001b[0m     \u001b[38;5;28;01mraise\u001b[39;00m \u001b[38;5;167;01mValueError\u001b[39;00m(\n\u001b[1;32m    277\u001b[0m         \u001b[38;5;124mf\u001b[39m\u001b[38;5;124m\"\u001b[39m\u001b[38;5;124mIPython won\u001b[39m\u001b[38;5;124m'\u001b[39m\u001b[38;5;124mt let you open fd=\u001b[39m\u001b[38;5;132;01m{\u001b[39;00mfile\u001b[38;5;132;01m}\u001b[39;00m\u001b[38;5;124m by default \u001b[39m\u001b[38;5;124m\"\u001b[39m\n\u001b[1;32m    278\u001b[0m         \u001b[38;5;124m\"\u001b[39m\u001b[38;5;124mas it is likely to crash IPython. If you know what you are doing, \u001b[39m\u001b[38;5;124m\"\u001b[39m\n\u001b[1;32m    279\u001b[0m         \u001b[38;5;124m\"\u001b[39m\u001b[38;5;124myou can use builtins\u001b[39m\u001b[38;5;124m'\u001b[39m\u001b[38;5;124m open.\u001b[39m\u001b[38;5;124m\"\u001b[39m\n\u001b[1;32m    280\u001b[0m     )\n\u001b[0;32m--> 282\u001b[0m \u001b[38;5;28;01mreturn\u001b[39;00m \u001b[43mio_open\u001b[49m\u001b[43m(\u001b[49m\u001b[43mfile\u001b[49m\u001b[43m,\u001b[49m\u001b[43m \u001b[49m\u001b[38;5;241;43m*\u001b[39;49m\u001b[43margs\u001b[49m\u001b[43m,\u001b[49m\u001b[43m \u001b[49m\u001b[38;5;241;43m*\u001b[39;49m\u001b[38;5;241;43m*\u001b[39;49m\u001b[43mkwargs\u001b[49m\u001b[43m)\u001b[49m\n",
      "\u001b[0;31mFileNotFoundError\u001b[0m: [Errno 2] No such file or directory: 'demo.txt'"
     ]
    }
   ],
   "source": [
    "f = open(\"demo.txt\",\"r\")## in this line there is a error\n",
    "print(\"this is my print statment\")## beacuse of  error in above line this stat is not going to print"
   ]
  },
  {
   "cell_type": "code",
   "execution_count": null,
   "id": "9f03659f-f277-4d3c-ae3f-46494df005a9",
   "metadata": {},
   "outputs": [],
   "source": [
    "## we can use try and expect to avoid error in code that helps to exceute next line of code"
   ]
  },
  {
   "cell_type": "code",
   "execution_count": 6,
   "id": "bbb139fa-d474-47ff-b106-87976cbb6674",
   "metadata": {},
   "outputs": [
    {
     "name": "stdout",
     "output_type": "stream",
     "text": [
      "there is some issue with my code [Errno 2] No such file or directory: 'demo.txt'\n",
      "this is my print stat\n",
      "10\n"
     ]
    }
   ],
   "source": [
    "try:\n",
    "    f = open(\"demo.txt\",\"r\")\n",
    "except   Exception as e:\n",
    "    print(\"there is some issue with my code\",e)\n",
    "print(\"this is my print stat\")\n",
    "a=10\n",
    "print(a)"
   ]
  },
  {
   "cell_type": "code",
   "execution_count": 9,
   "id": "4724acdd-ad77-4caa-9cb2-8aa351c2d4ef",
   "metadata": {},
   "outputs": [],
   "source": [
    "try:\n",
    "    f = open(\"demo.txt\",\"w\")\n",
    "    f.write(\"this is my massage\")\n",
    "    f.close()## if we can not closed the file than we can't see the statement which is we written in a file\n",
    "except   Exception as e:\n",
    "    print(\"there is some issue with my code\",e)\n"
   ]
  },
  {
   "cell_type": "code",
   "execution_count": 10,
   "id": "7b3a7f62-1f5f-4a25-a18d-32eb06b70f06",
   "metadata": {},
   "outputs": [
    {
     "name": "stdout",
     "output_type": "stream",
     "text": [
      "this block will execute when try is run without exception\n"
     ]
    }
   ],
   "source": [
    "try:\n",
    "    f = open(\"demo.txt\",\"w\")\n",
    "    f.write(\"this is my massage\")\n",
    "except   Exception as e:\n",
    "    print(\"there is some issue with my code\",e)\n",
    "else :\n",
    "    f.close()\n",
    "    print(\"this block will execute when try is run without exception\")"
   ]
  },
  {
   "cell_type": "code",
   "execution_count": 11,
   "id": "fca7ea5f-769a-4c3d-9f3a-728981f69402",
   "metadata": {},
   "outputs": [
    {
     "name": "stdout",
     "output_type": "stream",
     "text": [
      "there is some issue with my code [Errno 2] No such file or directory: 'demo1.txt'\n"
     ]
    }
   ],
   "source": [
    "try:\n",
    "    f = open(\"demo1.txt\",\"r\")\n",
    "    f.write(\"this is my massage\")\n",
    "except   Exception as e:\n",
    "    print(\"there is some issue with my code\",e)\n",
    "else :\n",
    "    f.close()\n",
    "    print(\"this block will execute when try is run without exception\")"
   ]
  },
  {
   "cell_type": "code",
   "execution_count": 14,
   "id": "44cfbc4a-d57d-44ff-8cc8-73736d1f6ca7",
   "metadata": {},
   "outputs": [
    {
     "name": "stdout",
     "output_type": "stream",
     "text": [
      "this will always execute\n"
     ]
    },
    {
     "ename": "FileNotFoundError",
     "evalue": "[Errno 2] No such file or directory: 'demo1.txt'",
     "output_type": "error",
     "traceback": [
      "\u001b[0;31m---------------------------------------------------------------------------\u001b[0m",
      "\u001b[0;31mFileNotFoundError\u001b[0m                         Traceback (most recent call last)",
      "Cell \u001b[0;32mIn[14], line 2\u001b[0m\n\u001b[1;32m      1\u001b[0m \u001b[38;5;28;01mtry\u001b[39;00m:\n\u001b[0;32m----> 2\u001b[0m     f \u001b[38;5;241m=\u001b[39m \u001b[38;5;28;43mopen\u001b[39;49m\u001b[43m(\u001b[49m\u001b[38;5;124;43m\"\u001b[39;49m\u001b[38;5;124;43mdemo1.txt\u001b[39;49m\u001b[38;5;124;43m\"\u001b[39;49m\u001b[43m,\u001b[49m\u001b[38;5;124;43m\"\u001b[39;49m\u001b[38;5;124;43mr\u001b[39;49m\u001b[38;5;124;43m\"\u001b[39;49m\u001b[43m)\u001b[49m\n\u001b[1;32m      3\u001b[0m     f\u001b[38;5;241m.\u001b[39mwrite(\u001b[38;5;124m\"\u001b[39m\u001b[38;5;124mthis is my massage\u001b[39m\u001b[38;5;124m\"\u001b[39m)\n\u001b[1;32m      4\u001b[0m \u001b[38;5;28;01mfinally\u001b[39;00m :\n",
      "File \u001b[0;32m/opt/conda/lib/python3.10/site-packages/IPython/core/interactiveshell.py:282\u001b[0m, in \u001b[0;36m_modified_open\u001b[0;34m(file, *args, **kwargs)\u001b[0m\n\u001b[1;32m    275\u001b[0m \u001b[38;5;28;01mif\u001b[39;00m file \u001b[38;5;129;01min\u001b[39;00m {\u001b[38;5;241m0\u001b[39m, \u001b[38;5;241m1\u001b[39m, \u001b[38;5;241m2\u001b[39m}:\n\u001b[1;32m    276\u001b[0m     \u001b[38;5;28;01mraise\u001b[39;00m \u001b[38;5;167;01mValueError\u001b[39;00m(\n\u001b[1;32m    277\u001b[0m         \u001b[38;5;124mf\u001b[39m\u001b[38;5;124m\"\u001b[39m\u001b[38;5;124mIPython won\u001b[39m\u001b[38;5;124m'\u001b[39m\u001b[38;5;124mt let you open fd=\u001b[39m\u001b[38;5;132;01m{\u001b[39;00mfile\u001b[38;5;132;01m}\u001b[39;00m\u001b[38;5;124m by default \u001b[39m\u001b[38;5;124m\"\u001b[39m\n\u001b[1;32m    278\u001b[0m         \u001b[38;5;124m\"\u001b[39m\u001b[38;5;124mas it is likely to crash IPython. If you know what you are doing, \u001b[39m\u001b[38;5;124m\"\u001b[39m\n\u001b[1;32m    279\u001b[0m         \u001b[38;5;124m\"\u001b[39m\u001b[38;5;124myou can use builtins\u001b[39m\u001b[38;5;124m'\u001b[39m\u001b[38;5;124m open.\u001b[39m\u001b[38;5;124m\"\u001b[39m\n\u001b[1;32m    280\u001b[0m     )\n\u001b[0;32m--> 282\u001b[0m \u001b[38;5;28;01mreturn\u001b[39;00m \u001b[43mio_open\u001b[49m\u001b[43m(\u001b[49m\u001b[43mfile\u001b[49m\u001b[43m,\u001b[49m\u001b[43m \u001b[49m\u001b[38;5;241;43m*\u001b[39;49m\u001b[43margs\u001b[49m\u001b[43m,\u001b[49m\u001b[43m \u001b[49m\u001b[38;5;241;43m*\u001b[39;49m\u001b[38;5;241;43m*\u001b[39;49m\u001b[43mkwargs\u001b[49m\u001b[43m)\u001b[49m\n",
      "\u001b[0;31mFileNotFoundError\u001b[0m: [Errno 2] No such file or directory: 'demo1.txt'"
     ]
    }
   ],
   "source": [
    "try:\n",
    "    f = open(\"demo1.txt\",\"r\")\n",
    "    f.write(\"this is my massage\")\n",
    "finally :\n",
    "    print(\"this will always execute\")"
   ]
  },
  {
   "cell_type": "markdown",
   "id": "b82fcd43-d272-4254-91c0-eb8b2767a6c3",
   "metadata": {
    "tags": []
   },
   "source": [
    "there are 4 main blocks in this\n",
    "1. try = code is written inside try block\n",
    "2. except =  if there is error in try block then beacuse of this block it gives error into console in line stat\n",
    "3. else = if try runs successfully without any exception than else block will execute \n",
    "4. finally = this block will exceute at any point it will execute always"
   ]
  },
  {
   "cell_type": "code",
   "execution_count": 15,
   "id": "4fb3ac87-63a7-4a1b-a27b-eaddb53f8e93",
   "metadata": {},
   "outputs": [
    {
     "name": "stdout",
     "output_type": "stream",
     "text": [
      "this block will execute when try is run without exception\n",
      "this will execute always\n"
     ]
    }
   ],
   "source": [
    "try:\n",
    "    f = open(\"demo.txt\",\"w\")\n",
    "    f.write(\"this is my massage\")\n",
    "except   Exception as e:\n",
    "    print(\"there is some issue with my code\",e)\n",
    "else :\n",
    "    f.close()\n",
    "    print(\"this block will execute when try is run without exception\")\n",
    "finally :\n",
    "    print(\"this will execute always\")"
   ]
  },
  {
   "cell_type": "markdown",
   "id": "503585e8-6675-45e2-9457-1cdd3a9879f9",
   "metadata": {},
   "source": [
    "###  Custom Exception Handling"
   ]
  },
  {
   "cell_type": "markdown",
   "id": "b0cdf6c9-4637-448f-b7d7-d14256e21ef9",
   "metadata": {},
   "source": [
    "In this type we can try to fix the error which is produced by the user fo example"
   ]
  },
  {
   "cell_type": "code",
   "execution_count": 2,
   "id": "43fb121f-9072-4055-88b4-e0b8c1103e5e",
   "metadata": {},
   "outputs": [
    {
     "name": "stdin",
     "output_type": "stream",
     "text": [
      "enter your age 85\n"
     ]
    }
   ],
   "source": [
    "age = int(input(\"enter your age\"))### here if user is try to enter negative value then as we know age is never negative "
   ]
  },
  {
   "cell_type": "markdown",
   "id": "169b698f-f7b2-4cf3-bdda-9b6edc7e2818",
   "metadata": {},
   "source": [
    "here we can try to create our own exception on the basic of our conditions"
   ]
  },
  {
   "cell_type": "code",
   "execution_count": 3,
   "id": "4bcd23be-c50f-4299-a8f5-3aafd848f789",
   "metadata": {},
   "outputs": [],
   "source": [
    "class validateage(Exception):\n",
    "    def __init__(self,message):\n",
    "        self.message = message"
   ]
  },
  {
   "cell_type": "code",
   "execution_count": 23,
   "id": "f7dcca63-86f9-45c0-8a94-576fafe3ff9a",
   "metadata": {},
   "outputs": [],
   "source": [
    "def validate_age(age):\n",
    "    if age < 0:\n",
    "        raise validateage(\"Age should not be less than zero\")\n",
    "    elif age > 200:\n",
    "        raise validateage (\"Age should not be greater than 200\")\n",
    "    else:\n",
    "        print(\"age is vaild\")\n",
    "        "
   ]
  },
  {
   "cell_type": "code",
   "execution_count": 24,
   "id": "8b330bdd-132a-47b2-9679-b8aee6e4b1e5",
   "metadata": {},
   "outputs": [
    {
     "name": "stdin",
     "output_type": "stream",
     "text": [
      "enter your age 50\n"
     ]
    },
    {
     "name": "stdout",
     "output_type": "stream",
     "text": [
      "age is vaild\n"
     ]
    }
   ],
   "source": [
    "try :\n",
    "    age = float(input(\"enter your age\"))\n",
    "    validate_age(age)\n",
    "except validateage as e:\n",
    "    print(e)\n"
   ]
  },
  {
   "cell_type": "code",
   "execution_count": null,
   "id": "44a72a70-ab8a-4a01-8137-bc3469fa6ac6",
   "metadata": {},
   "outputs": [],
   "source": []
  },
  {
   "cell_type": "code",
   "execution_count": null,
   "id": "666c9f47-d3cd-4176-9194-6f6d26cacf66",
   "metadata": {},
   "outputs": [],
   "source": []
  },
  {
   "cell_type": "code",
   "execution_count": null,
   "id": "d7a55471-0291-4c36-a143-7f43fc2a3e20",
   "metadata": {},
   "outputs": [],
   "source": []
  },
  {
   "cell_type": "code",
   "execution_count": null,
   "id": "d398f81c-8fe6-44c6-b03f-40aba254c71a",
   "metadata": {},
   "outputs": [],
   "source": []
  },
  {
   "cell_type": "code",
   "execution_count": null,
   "id": "56ddc7a3-1500-4805-ba2c-52bfa311f5df",
   "metadata": {},
   "outputs": [],
   "source": []
  },
  {
   "cell_type": "code",
   "execution_count": null,
   "id": "af7bc44c-d86d-41cd-b60e-e5b773a6364e",
   "metadata": {},
   "outputs": [],
   "source": []
  },
  {
   "cell_type": "code",
   "execution_count": null,
   "id": "addb676e-eb45-4c74-9480-3b539a8c6bfd",
   "metadata": {},
   "outputs": [],
   "source": []
  },
  {
   "cell_type": "code",
   "execution_count": null,
   "id": "11703db0-ed20-42fd-b129-e389422de463",
   "metadata": {},
   "outputs": [],
   "source": []
  },
  {
   "cell_type": "code",
   "execution_count": null,
   "id": "235dfa51-8aad-4065-8214-8105bfdfb934",
   "metadata": {},
   "outputs": [],
   "source": []
  },
  {
   "cell_type": "code",
   "execution_count": null,
   "id": "6306224d-58fd-485b-a6da-cadf8212f099",
   "metadata": {},
   "outputs": [],
   "source": []
  },
  {
   "cell_type": "code",
   "execution_count": null,
   "id": "30e9dd0e-80a2-42cd-aea7-f915f3ab4630",
   "metadata": {},
   "outputs": [],
   "source": []
  },
  {
   "cell_type": "code",
   "execution_count": null,
   "id": "ff82ac40-4717-47d2-ad26-b48368dfe7ad",
   "metadata": {},
   "outputs": [],
   "source": []
  },
  {
   "cell_type": "code",
   "execution_count": null,
   "id": "091a0477-6345-426e-b762-2285c4e51939",
   "metadata": {},
   "outputs": [],
   "source": []
  },
  {
   "cell_type": "code",
   "execution_count": null,
   "id": "2b763e22-367a-4380-8f90-5c9b28559502",
   "metadata": {},
   "outputs": [],
   "source": []
  },
  {
   "cell_type": "code",
   "execution_count": null,
   "id": "3082f853-060d-40c0-b237-9b0a50e0e2cb",
   "metadata": {},
   "outputs": [],
   "source": []
  },
  {
   "cell_type": "code",
   "execution_count": null,
   "id": "21d62c72-ce1e-48b5-8982-7351b059bcdc",
   "metadata": {},
   "outputs": [],
   "source": []
  },
  {
   "cell_type": "code",
   "execution_count": null,
   "id": "b7cf9956-48b4-43d7-8596-ca2b917ce43f",
   "metadata": {},
   "outputs": [],
   "source": []
  },
  {
   "cell_type": "code",
   "execution_count": null,
   "id": "cd5a6054-333b-4c8c-8cf3-a03569ca7080",
   "metadata": {},
   "outputs": [],
   "source": []
  },
  {
   "cell_type": "code",
   "execution_count": null,
   "id": "0775f0f4-9b6a-4613-bcef-dac2ae4e7efb",
   "metadata": {},
   "outputs": [],
   "source": []
  },
  {
   "cell_type": "code",
   "execution_count": null,
   "id": "7faa601e-e07d-4839-96e2-a3d1b4ba30b9",
   "metadata": {},
   "outputs": [],
   "source": []
  },
  {
   "cell_type": "code",
   "execution_count": null,
   "id": "ffa584ed-1c0b-4736-9680-353eac7ac5fc",
   "metadata": {},
   "outputs": [],
   "source": []
  },
  {
   "cell_type": "code",
   "execution_count": null,
   "id": "8b76aa13-0ded-4183-91b1-751d798acc2c",
   "metadata": {},
   "outputs": [],
   "source": []
  },
  {
   "cell_type": "code",
   "execution_count": null,
   "id": "91b82f53-baaa-454c-9116-09a87be9f433",
   "metadata": {},
   "outputs": [],
   "source": []
  },
  {
   "cell_type": "code",
   "execution_count": null,
   "id": "1f98c0cd-8eef-43a4-86bf-aac2c3863dfc",
   "metadata": {},
   "outputs": [],
   "source": []
  },
  {
   "cell_type": "code",
   "execution_count": null,
   "id": "f23547ee-ae86-489b-a541-a3b16e92e520",
   "metadata": {},
   "outputs": [],
   "source": []
  },
  {
   "cell_type": "code",
   "execution_count": null,
   "id": "2a92e1b0-df9f-4180-92fe-876e89441b94",
   "metadata": {},
   "outputs": [],
   "source": []
  },
  {
   "cell_type": "code",
   "execution_count": null,
   "id": "4812366c-a177-4ccb-ace4-b32bec7e5427",
   "metadata": {},
   "outputs": [],
   "source": []
  },
  {
   "cell_type": "code",
   "execution_count": null,
   "id": "bc55451c-456f-4ce8-b1ea-3ff2ee4b2c9f",
   "metadata": {},
   "outputs": [],
   "source": []
  },
  {
   "cell_type": "code",
   "execution_count": null,
   "id": "91cf0c86-d1e0-4710-b252-ab8dc6baac75",
   "metadata": {},
   "outputs": [],
   "source": []
  },
  {
   "cell_type": "code",
   "execution_count": null,
   "id": "2ef54ce5-4ea9-48c4-bc4d-77fa96c5a016",
   "metadata": {},
   "outputs": [],
   "source": []
  },
  {
   "cell_type": "code",
   "execution_count": null,
   "id": "79290d05-3aad-49fe-a81a-2d1f9add77bd",
   "metadata": {},
   "outputs": [],
   "source": []
  },
  {
   "cell_type": "code",
   "execution_count": null,
   "id": "dc679146-53b6-4592-999e-c65ccd38fbe6",
   "metadata": {},
   "outputs": [],
   "source": []
  },
  {
   "cell_type": "code",
   "execution_count": null,
   "id": "af34d525-21b6-41c3-815d-c7eab9a262d8",
   "metadata": {},
   "outputs": [],
   "source": []
  },
  {
   "cell_type": "code",
   "execution_count": null,
   "id": "937abdf1-e468-4807-aca1-54ce871708af",
   "metadata": {},
   "outputs": [],
   "source": []
  },
  {
   "cell_type": "code",
   "execution_count": null,
   "id": "876d9ac5-9485-481b-b4e2-5ebcbb85149e",
   "metadata": {},
   "outputs": [],
   "source": []
  },
  {
   "cell_type": "code",
   "execution_count": null,
   "id": "ce59250f-b4e8-41e2-bf0f-910cf557b31b",
   "metadata": {},
   "outputs": [],
   "source": []
  },
  {
   "cell_type": "code",
   "execution_count": null,
   "id": "6b9a5db8-37db-44f9-99e3-94c51d5c34e0",
   "metadata": {},
   "outputs": [],
   "source": []
  },
  {
   "cell_type": "code",
   "execution_count": null,
   "id": "876cc85a-cd4b-4f12-8c5a-e645d9dcf961",
   "metadata": {},
   "outputs": [],
   "source": []
  },
  {
   "cell_type": "code",
   "execution_count": null,
   "id": "5a61ef77-d74f-441e-9d2b-d91e1f5e75a5",
   "metadata": {},
   "outputs": [],
   "source": []
  },
  {
   "cell_type": "code",
   "execution_count": null,
   "id": "f71a0c9a-383a-4f20-87c7-2714bc0cb90a",
   "metadata": {},
   "outputs": [],
   "source": []
  },
  {
   "cell_type": "code",
   "execution_count": null,
   "id": "2cc794fe-8507-46ed-bfb5-80cf1601141d",
   "metadata": {},
   "outputs": [],
   "source": []
  },
  {
   "cell_type": "code",
   "execution_count": null,
   "id": "61ab2263-ff01-47ca-aed6-ce6db6c963ce",
   "metadata": {},
   "outputs": [],
   "source": []
  },
  {
   "cell_type": "code",
   "execution_count": null,
   "id": "8ff91d84-9a3d-491e-b263-0ee9397117db",
   "metadata": {},
   "outputs": [],
   "source": []
  },
  {
   "cell_type": "code",
   "execution_count": null,
   "id": "d60da84e-a89a-4b1c-a71d-38d495e874dd",
   "metadata": {},
   "outputs": [],
   "source": []
  },
  {
   "cell_type": "code",
   "execution_count": null,
   "id": "66884271-cf4f-4a60-b974-8212575b9634",
   "metadata": {},
   "outputs": [],
   "source": []
  },
  {
   "cell_type": "code",
   "execution_count": null,
   "id": "e76d1995-7ff9-4dea-b6bd-ad735d882527",
   "metadata": {},
   "outputs": [],
   "source": []
  },
  {
   "cell_type": "code",
   "execution_count": null,
   "id": "8a136b5f-4ae8-4175-973b-a0e764961508",
   "metadata": {},
   "outputs": [],
   "source": []
  },
  {
   "cell_type": "code",
   "execution_count": null,
   "id": "ead0cd42-d49c-4709-bf90-ee19ca0dd39d",
   "metadata": {},
   "outputs": [],
   "source": []
  },
  {
   "cell_type": "code",
   "execution_count": null,
   "id": "fd6d28cd-4abe-42a1-b454-4f840bde82a9",
   "metadata": {},
   "outputs": [],
   "source": []
  },
  {
   "cell_type": "code",
   "execution_count": null,
   "id": "346db29b-3398-4f32-86d3-dd619fd9d402",
   "metadata": {},
   "outputs": [],
   "source": []
  },
  {
   "cell_type": "code",
   "execution_count": null,
   "id": "6315e82f-47f4-4f2b-b90b-39d1a0c37ee5",
   "metadata": {},
   "outputs": [],
   "source": []
  },
  {
   "cell_type": "code",
   "execution_count": null,
   "id": "b88a5f82-d086-403f-b97d-562df1d5690d",
   "metadata": {},
   "outputs": [],
   "source": []
  },
  {
   "cell_type": "code",
   "execution_count": null,
   "id": "e9b8623c-cc7c-48b5-8fb6-0cd7e6674fce",
   "metadata": {},
   "outputs": [],
   "source": []
  },
  {
   "cell_type": "code",
   "execution_count": null,
   "id": "b67abb4e-b7d9-4d4a-bdbb-b5d49a387ab4",
   "metadata": {},
   "outputs": [],
   "source": []
  },
  {
   "cell_type": "code",
   "execution_count": null,
   "id": "b87c4493-18a6-4f1e-80f4-f34dc710ea1e",
   "metadata": {},
   "outputs": [],
   "source": []
  },
  {
   "cell_type": "code",
   "execution_count": null,
   "id": "39532d27-31df-4216-8bae-e79349074726",
   "metadata": {},
   "outputs": [],
   "source": []
  },
  {
   "cell_type": "code",
   "execution_count": null,
   "id": "25064e0c-c1fd-45e7-b2bf-4634f8151c87",
   "metadata": {},
   "outputs": [],
   "source": []
  },
  {
   "cell_type": "code",
   "execution_count": null,
   "id": "b8d9f09e-89b4-47e2-a491-a639bb492788",
   "metadata": {},
   "outputs": [],
   "source": []
  },
  {
   "cell_type": "code",
   "execution_count": null,
   "id": "40c8b420-fd6a-4572-941b-a90917c37f8b",
   "metadata": {},
   "outputs": [],
   "source": []
  },
  {
   "cell_type": "code",
   "execution_count": null,
   "id": "65228e7e-69be-4eea-9275-1c72a313d108",
   "metadata": {},
   "outputs": [],
   "source": []
  },
  {
   "cell_type": "code",
   "execution_count": null,
   "id": "a1585122-b2da-4e63-98b9-5920e547db16",
   "metadata": {},
   "outputs": [],
   "source": []
  },
  {
   "cell_type": "code",
   "execution_count": null,
   "id": "31e1a3bb-6946-4d41-a728-2302e9d019b7",
   "metadata": {},
   "outputs": [],
   "source": []
  },
  {
   "cell_type": "code",
   "execution_count": null,
   "id": "05f419a9-5d23-4f17-893f-5bd95ec78130",
   "metadata": {},
   "outputs": [],
   "source": []
  },
  {
   "cell_type": "code",
   "execution_count": null,
   "id": "a1de854e-3176-43bf-a0b9-e27ad5b3e0fe",
   "metadata": {},
   "outputs": [],
   "source": []
  },
  {
   "cell_type": "code",
   "execution_count": null,
   "id": "2adf9f82-3a2a-4d13-9d0e-a0e7b659ee72",
   "metadata": {},
   "outputs": [],
   "source": []
  },
  {
   "cell_type": "code",
   "execution_count": null,
   "id": "fc7595fd-7d03-487a-9aa8-31536628a501",
   "metadata": {},
   "outputs": [],
   "source": []
  },
  {
   "cell_type": "code",
   "execution_count": null,
   "id": "ced57939-c29b-40cf-aca6-5b2d5688e2b8",
   "metadata": {},
   "outputs": [],
   "source": []
  },
  {
   "cell_type": "code",
   "execution_count": null,
   "id": "e515a78b-0adf-453f-b53e-35bed3e5cccb",
   "metadata": {},
   "outputs": [],
   "source": []
  },
  {
   "cell_type": "code",
   "execution_count": null,
   "id": "f7989591-5e39-41a0-b537-a5fcccdbd464",
   "metadata": {},
   "outputs": [],
   "source": []
  },
  {
   "cell_type": "code",
   "execution_count": null,
   "id": "69f061f5-a9bc-4d42-b3e6-c82fe7506fa7",
   "metadata": {},
   "outputs": [],
   "source": []
  },
  {
   "cell_type": "code",
   "execution_count": null,
   "id": "9bc27aa8-c4d2-4c94-9d87-13efd7f0a707",
   "metadata": {},
   "outputs": [],
   "source": []
  }
 ],
 "metadata": {
  "kernelspec": {
   "display_name": "Python 3 (ipykernel)",
   "language": "python",
   "name": "python3"
  },
  "language_info": {
   "codemirror_mode": {
    "name": "ipython",
    "version": 3
   },
   "file_extension": ".py",
   "mimetype": "text/x-python",
   "name": "python",
   "nbconvert_exporter": "python",
   "pygments_lexer": "ipython3",
   "version": "3.10.8"
  }
 },
 "nbformat": 4,
 "nbformat_minor": 5
}
