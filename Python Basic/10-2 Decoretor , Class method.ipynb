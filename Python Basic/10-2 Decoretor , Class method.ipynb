{
 "cells": [
  {
   "cell_type": "markdown",
   "id": "9cca56b6-1e75-4aeb-9d1c-2ada30c1aa46",
   "metadata": {
    "jp-MarkdownHeadingCollapsed": true,
    "tags": []
   },
   "source": [
    "### DECORATOR"
   ]
  },
  {
   "cell_type": "code",
   "execution_count": 74,
   "id": "77a4b3ef-3d45-4e5c-a8f9-9a0e899079c4",
   "metadata": {},
   "outputs": [],
   "source": [
    "def test1():\n",
    "    print (4+5)"
   ]
  },
  {
   "cell_type": "code",
   "execution_count": 6,
   "id": "decbf9d1-d1b0-493e-ad62-1f53fcce38f1",
   "metadata": {},
   "outputs": [
    {
     "name": "stdout",
     "output_type": "stream",
     "text": [
      "9\n"
     ]
    }
   ],
   "source": [
    "test1()"
   ]
  },
  {
   "cell_type": "code",
   "execution_count": 7,
   "id": "5c0b9d21-a095-4b4e-ad6f-538bc1eccbb7",
   "metadata": {},
   "outputs": [],
   "source": [
    "def test2():\n",
    "    print(\"This is my start\")\n",
    "    print(4+5)\n",
    "    print (\"this is my end \")"
   ]
  },
  {
   "cell_type": "code",
   "execution_count": 8,
   "id": "dc454bd6-5dc1-4e0f-b629-dd0da5566382",
   "metadata": {},
   "outputs": [
    {
     "name": "stdout",
     "output_type": "stream",
     "text": [
      "This is my start\n",
      "9\n",
      "this is my end \n"
     ]
    }
   ],
   "source": [
    "test2()"
   ]
  },
  {
   "cell_type": "code",
   "execution_count": 27,
   "id": "dad5b19e-4e16-4cd5-bf80-db23d780b74e",
   "metadata": {},
   "outputs": [],
   "source": [
    "def decorator (func):\n",
    "    def inner_deco():\n",
    "        print(\"This is my start\")\n",
    "        func()\n",
    "        print(\"This is my end\")\n",
    "    return inner_deco"
   ]
  },
  {
   "cell_type": "code",
   "execution_count": 58,
   "id": "e9e949fb-2b2b-4f74-8f6c-303c0013895c",
   "metadata": {},
   "outputs": [],
   "source": [
    "@decorator ## if we want to add some lines or some same statments in multiple function si it is done with help of decorator\n",
    "def test3():\n",
    "    print(5+6)"
   ]
  },
  {
   "cell_type": "code",
   "execution_count": 59,
   "id": "f2ceff35-6524-4569-9d2e-372a022aa569",
   "metadata": {},
   "outputs": [
    {
     "name": "stdout",
     "output_type": "stream",
     "text": [
      "This is my start\n",
      "11\n",
      "This is my end\n"
     ]
    }
   ],
   "source": [
    "test3() "
   ]
  },
  {
   "cell_type": "code",
   "execution_count": 61,
   "id": "9305ed2d-d242-4d1c-a974-341bc4d1fa1a",
   "metadata": {},
   "outputs": [],
   "source": [
    "import time\n",
    "def timer_test(func):\n",
    "    def timer_test_inner():\n",
    "        start=time.time()\n",
    "        func()\n",
    "        end = time.time()\n",
    "        print(f\"time  requried for given function is {start-end}\")\n",
    "    return timer_test_inner"
   ]
  },
  {
   "cell_type": "code",
   "execution_count": 62,
   "id": "9e22591f-1070-448c-88fa-76aae3e493d0",
   "metadata": {},
   "outputs": [],
   "source": [
    "@timer_test\n",
    "def test4():\n",
    "    print(45+5)"
   ]
  },
  {
   "cell_type": "code",
   "execution_count": 63,
   "id": "d23d0c8b-3006-47ea-a653-d68656ad170f",
   "metadata": {},
   "outputs": [
    {
     "name": "stdout",
     "output_type": "stream",
     "text": [
      "50\n",
      "time  requried for given function is -4.553794860839844e-05\n"
     ]
    }
   ],
   "source": [
    "test4()"
   ]
  },
  {
   "cell_type": "code",
   "execution_count": 72,
   "id": "7999bb1e-85c7-4b34-998d-4db293ee310f",
   "metadata": {},
   "outputs": [],
   "source": [
    "@timer_test\n",
    "def test5():\n",
    "    for i in range(100000000):\n",
    "        pass"
   ]
  },
  {
   "cell_type": "code",
   "execution_count": 73,
   "id": "b27edafa-79b0-46fc-bddd-52d4e2dba077",
   "metadata": {},
   "outputs": [
    {
     "name": "stdout",
     "output_type": "stream",
     "text": [
      "time  requried for given function is -2.195448398590088\n"
     ]
    }
   ],
   "source": [
    "test5()"
   ]
  },
  {
   "cell_type": "markdown",
   "id": "393109f3-e47b-40b6-8dc8-611e0fb911ae",
   "metadata": {
    "jp-MarkdownHeadingCollapsed": true,
    "tags": []
   },
   "source": [
    "### CLass Method"
   ]
  },
  {
   "cell_type": "code",
   "execution_count": 75,
   "id": "4a496201-b0ca-424d-a87c-c6223daaca0f",
   "metadata": {},
   "outputs": [],
   "source": [
    "class pwskills():\n",
    "    def __init__(self,name,email):\n",
    "        self.name = name\n",
    "        self.email = email\n",
    "    def student_details(self):\n",
    "        print(self.name,self.email)\n",
    "        \n",
    "        "
   ]
  },
  {
   "cell_type": "code",
   "execution_count": 76,
   "id": "8afd8011-79dc-4db4-90d2-db2322a421d9",
   "metadata": {},
   "outputs": [],
   "source": [
    "pw = pwskills(\"namit\",\"namit@gmail.com\")"
   ]
  },
  {
   "cell_type": "code",
   "execution_count": 77,
   "id": "21b5da80-1125-4052-a29c-5bbcd2d31b2d",
   "metadata": {},
   "outputs": [
    {
     "data": {
      "text/plain": [
       "'namit'"
      ]
     },
     "execution_count": 77,
     "metadata": {},
     "output_type": "execute_result"
    }
   ],
   "source": [
    "pw.name"
   ]
  },
  {
   "cell_type": "code",
   "execution_count": 79,
   "id": "7fc2e543-7db6-4802-9324-ca09eb2125b3",
   "metadata": {},
   "outputs": [
    {
     "name": "stdout",
     "output_type": "stream",
     "text": [
      "namit namit@gmail.com\n"
     ]
    }
   ],
   "source": [
    "pw.student_details()"
   ]
  },
  {
   "cell_type": "code",
   "execution_count": 99,
   "id": "6c045466-c411-468f-a5cb-d7c72aef7eeb",
   "metadata": {},
   "outputs": [],
   "source": [
    "class pwskills1():\n",
    "    def __init__(self,name,email):### self needs to create object of class\n",
    "        self.name = name\n",
    "        self.email = email\n",
    "    @classmethod## it is a inbulid decorator\n",
    "    def details(cls,name1,email1):### cls directly gives value to class doesnot need object creation of class\n",
    "        return cls(name1,email1)\n",
    "    def student_details(self):\n",
    "        print(self.name,self.email)\n",
    "        "
   ]
  },
  {
   "cell_type": "code",
   "execution_count": 100,
   "id": "0474ebc5-dd21-4a24-a627-f7d231207ad5",
   "metadata": {},
   "outputs": [],
   "source": [
    "pw1 = pwskills1.details(\"mohan\",\"mohan@gmail.com\")"
   ]
  },
  {
   "cell_type": "code",
   "execution_count": 101,
   "id": "8041f8da-62af-45a5-bdb7-7ffac4621467",
   "metadata": {},
   "outputs": [
    {
     "data": {
      "text/plain": [
       "'mohan@gmail.com'"
      ]
     },
     "execution_count": 101,
     "metadata": {},
     "output_type": "execute_result"
    }
   ],
   "source": [
    "pw1.email"
   ]
  },
  {
   "cell_type": "code",
   "execution_count": 98,
   "id": "861e6d0c-edb6-4f58-a546-bfe96657f935",
   "metadata": {},
   "outputs": [
    {
     "name": "stdout",
     "output_type": "stream",
     "text": [
      "mohan mohan@gmail.com\n"
     ]
    }
   ],
   "source": [
    "pw1.student_details()"
   ]
  },
  {
   "cell_type": "code",
   "execution_count": 109,
   "id": "3d59c51e-293a-41a9-bb88-d1d9e42eeb93",
   "metadata": {},
   "outputs": [],
   "source": [
    "class pwskills2():\n",
    "    mobile_number = 9623127245### moblie number is a class variable so we can access it by calling \"class.varible_name\"\n",
    "    def __init__(self,name,email):\n",
    "        self.name = name\n",
    "        self.email = email\n",
    "    @classmethod\n",
    "    def details(cls,name1,email1):\n",
    "        return cls(name1,email1)\n",
    "    def student_details(self):\n",
    "        print(self.name,self.email,pwskills2.mobile_number)"
   ]
  },
  {
   "cell_type": "code",
   "execution_count": 110,
   "id": "9cc51db3-fbef-457c-b606-271e1cee013b",
   "metadata": {},
   "outputs": [
    {
     "data": {
      "text/plain": [
       "9623127245"
      ]
     },
     "execution_count": 110,
     "metadata": {},
     "output_type": "execute_result"
    }
   ],
   "source": [
    "pwskills2.mobile_number"
   ]
  },
  {
   "cell_type": "code",
   "execution_count": 111,
   "id": "14563843-e70a-4423-ad4f-cec52cdc791c",
   "metadata": {},
   "outputs": [],
   "source": [
    "pw2=pwskills2.details(\"sohan\",\"soha@gmail.com\")"
   ]
  },
  {
   "cell_type": "code",
   "execution_count": 112,
   "id": "abb53054-9253-498d-abbb-3177074a9e7b",
   "metadata": {},
   "outputs": [
    {
     "name": "stdout",
     "output_type": "stream",
     "text": [
      "sohan soha@gmail.com 9623127245\n"
     ]
    }
   ],
   "source": [
    "pw2.student_details()"
   ]
  },
  {
   "cell_type": "code",
   "execution_count": 113,
   "id": "5a5e2323-5a5a-4e61-90a6-00703150f33a",
   "metadata": {},
   "outputs": [],
   "source": [
    "pw2_obj = pwskills2(\"namit\",\"namit@gmail.com\")"
   ]
  },
  {
   "cell_type": "code",
   "execution_count": 114,
   "id": "b3f822d2-a944-4a1d-82f8-6cfa4a47ac29",
   "metadata": {},
   "outputs": [
    {
     "name": "stdout",
     "output_type": "stream",
     "text": [
      "namit namit@gmail.com 9623127245\n"
     ]
    }
   ],
   "source": [
    "pw2_obj.student_details()"
   ]
  },
  {
   "cell_type": "code",
   "execution_count": 115,
   "id": "2bea14f1-fb3c-4d39-9ad3-60373a6924e5",
   "metadata": {},
   "outputs": [],
   "source": [
    "class pwskills3():\n",
    "    mobile_number = 9623127245\n",
    "    def __init__(self,name,email):\n",
    "        self.name = name\n",
    "        self.email = email\n",
    "    @classmethod\n",
    "    def changing_number(cls,mobile):\n",
    "        pwskills3.mobile_number = mobile\n",
    "    @classmethod\n",
    "    def details(cls,name1,email1):\n",
    "        return cls(name1,email1)\n",
    "    def student_details(self):\n",
    "        print(self.name,self.email,pwskills2.mobile_number)"
   ]
  },
  {
   "cell_type": "code",
   "execution_count": 116,
   "id": "4b2ffb89-61a6-4199-8748-72d71d0d782e",
   "metadata": {},
   "outputs": [
    {
     "data": {
      "text/plain": [
       "9623127245"
      ]
     },
     "execution_count": 116,
     "metadata": {},
     "output_type": "execute_result"
    }
   ],
   "source": [
    "pwskills3.mobile_number"
   ]
  },
  {
   "cell_type": "code",
   "execution_count": 126,
   "id": "f5086803-a882-4a0f-9cc5-e5f41ee8e282",
   "metadata": {},
   "outputs": [],
   "source": [
    "pwskills3.changing_number(9850729425)"
   ]
  },
  {
   "cell_type": "code",
   "execution_count": 127,
   "id": "d31be4c7-536b-4a8a-aa35-acb2ece7902e",
   "metadata": {},
   "outputs": [
    {
     "data": {
      "text/plain": [
       "9850729425"
      ]
     },
     "execution_count": 127,
     "metadata": {},
     "output_type": "execute_result"
    }
   ],
   "source": [
    "pwskills3.mobile_number"
   ]
  },
  {
   "cell_type": "code",
   "execution_count": 121,
   "id": "c994ed6e-ab15-42f9-9a9d-605986a7c7cf",
   "metadata": {},
   "outputs": [],
   "source": [
    "pw3_obj = pwskills3(\"sohil\",\"sohil@mail\")"
   ]
  },
  {
   "cell_type": "code",
   "execution_count": 128,
   "id": "be50d40b-dce6-4548-a64a-8bdc05e9e44c",
   "metadata": {},
   "outputs": [
    {
     "name": "stdout",
     "output_type": "stream",
     "text": [
      "sohil sohil@mail 9623127245\n"
     ]
    }
   ],
   "source": [
    "pw3_obj.student_details()"
   ]
  },
  {
   "cell_type": "code",
   "execution_count": 129,
   "id": "1a687734-6d13-4b0f-abfa-e1412d4afacc",
   "metadata": {},
   "outputs": [
    {
     "data": {
      "text/plain": [
       "<__main__.pwskills3 at 0x7fc5ecb3ee90>"
      ]
     },
     "execution_count": 129,
     "metadata": {},
     "output_type": "execute_result"
    }
   ],
   "source": [
    "pw3_obj.details(\"namit\",\"namitchaudhari123\")"
   ]
  },
  {
   "cell_type": "code",
   "execution_count": 131,
   "id": "07fc8e4e-b730-4609-871d-706ff906bbf4",
   "metadata": {},
   "outputs": [],
   "source": [
    "class pwskills4():\n",
    "    mobile_number = 9623127245\n",
    "    def __init__(self,name,email):\n",
    "        self.name = name\n",
    "        self.email = email\n",
    "    @classmethod\n",
    "    def changing_number(cls,mobile):\n",
    "        pwskills4.mobile_number = mobile\n",
    "    @classmethod\n",
    "    def details(cls,name1,email1):\n",
    "        return cls(name1,email1)\n",
    "    def student_details(self):\n",
    "        print(self.name,self.email,pwskills2.mobile_number)"
   ]
  },
  {
   "cell_type": "code",
   "execution_count": 132,
   "id": "a313a75f-a480-406c-9644-8728c29d09ee",
   "metadata": {},
   "outputs": [],
   "source": [
    "### If we want to add a new external function inside the class the we use folling method"
   ]
  },
  {
   "cell_type": "code",
   "execution_count": 133,
   "id": "19d5fcfd-19a2-491f-ba73-7c8854d0c9fc",
   "metadata": {},
   "outputs": [],
   "source": [
    "def course_deatils(cls,course_name):## use cls instead of self in new function\n",
    "    print(\"cousre deatils\",course_name)\n",
    "    "
   ]
  },
  {
   "cell_type": "code",
   "execution_count": 134,
   "id": "84548c37-6454-4721-876b-3a8dd4473ee7",
   "metadata": {},
   "outputs": [],
   "source": [
    "pwskills4.course_deatils = classmethod(course_deatils)"
   ]
  },
  {
   "cell_type": "code",
   "execution_count": 137,
   "id": "e2608f2b-b894-43e7-b098-089fa7516a19",
   "metadata": {},
   "outputs": [
    {
     "name": "stdout",
     "output_type": "stream",
     "text": [
      "cousre deatils data science masters\n"
     ]
    }
   ],
   "source": [
    "pwskills4.course_deatils(\"data science masters\")"
   ]
  },
  {
   "cell_type": "code",
   "execution_count": 138,
   "id": "16a0e60d-44cc-42cd-8c50-83599a402e91",
   "metadata": {},
   "outputs": [],
   "source": [
    "pw4_obj = pwskills4(\"shriyash\",\"shriyash@gmail.com\")"
   ]
  },
  {
   "cell_type": "code",
   "execution_count": 140,
   "id": "a915500a-5d14-42f1-a781-6b1d9448a4d0",
   "metadata": {},
   "outputs": [
    {
     "data": {
      "text/plain": [
       "<bound method course_deatils of <class '__main__.pwskills4'>>"
      ]
     },
     "execution_count": 140,
     "metadata": {},
     "output_type": "execute_result"
    }
   ],
   "source": [
    "pw4_obj.course_deatils"
   ]
  },
  {
   "cell_type": "code",
   "execution_count": 142,
   "id": "2d77bece-9ab8-4d27-b4f7-4c03bdd2e67d",
   "metadata": {},
   "outputs": [
    {
     "name": "stdout",
     "output_type": "stream",
     "text": [
      "cousre deatils web_dev\n"
     ]
    }
   ],
   "source": [
    "pw4_obj.course_deatils(\"web_dev\")"
   ]
  },
  {
   "cell_type": "code",
   "execution_count": 144,
   "id": "e7e17fb8-176b-4ada-b746-f39c555ed5e6",
   "metadata": {},
   "outputs": [],
   "source": [
    "del pwskills4.changing_number "
   ]
  },
  {
   "cell_type": "code",
   "execution_count": 146,
   "id": "f89d9802-02ad-4be8-8a42-bb7b2456ee93",
   "metadata": {},
   "outputs": [
    {
     "ename": "AttributeError",
     "evalue": "type object 'pwskills4' has no attribute 'changing_number'",
     "output_type": "error",
     "traceback": [
      "\u001b[0;31m---------------------------------------------------------------------------\u001b[0m",
      "\u001b[0;31mAttributeError\u001b[0m                            Traceback (most recent call last)",
      "Cell \u001b[0;32mIn[146], line 1\u001b[0m\n\u001b[0;32m----> 1\u001b[0m \u001b[43mpwskills4\u001b[49m\u001b[38;5;241;43m.\u001b[39;49m\u001b[43mchanging_number\u001b[49m(\u001b[38;5;241m849653120\u001b[39m)\u001b[38;5;66;03m#### function changing number is deleted from pwskills\u001b[39;00m\n",
      "\u001b[0;31mAttributeError\u001b[0m: type object 'pwskills4' has no attribute 'changing_number'"
     ]
    }
   ],
   "source": [
    "pwskills4.changing_number(849653120)#### function changing number is deleted from pwskills\n"
   ]
  },
  {
   "cell_type": "code",
   "execution_count": 147,
   "id": "70d6c9f9-f3e8-436a-ac40-581610e9e373",
   "metadata": {},
   "outputs": [],
   "source": [
    "# to delete some funtions inside a class we have two mentods i.e. del and delattr"
   ]
  },
  {
   "cell_type": "code",
   "execution_count": 148,
   "id": "845ca390-b04b-444e-8f92-e5cdac3e656b",
   "metadata": {},
   "outputs": [],
   "source": [
    "delattr(pwskills4,\"student_details\")"
   ]
  },
  {
   "cell_type": "code",
   "execution_count": 149,
   "id": "0e20ed69-916b-4510-91ea-a319170a83fa",
   "metadata": {},
   "outputs": [
    {
     "ename": "AttributeError",
     "evalue": "type object 'pwskills4' has no attribute 'student_details'",
     "output_type": "error",
     "traceback": [
      "\u001b[0;31m---------------------------------------------------------------------------\u001b[0m",
      "\u001b[0;31mAttributeError\u001b[0m                            Traceback (most recent call last)",
      "Cell \u001b[0;32mIn[149], line 1\u001b[0m\n\u001b[0;32m----> 1\u001b[0m \u001b[43mpwskills4\u001b[49m\u001b[38;5;241;43m.\u001b[39;49m\u001b[43mstudent_details\u001b[49m()\n",
      "\u001b[0;31mAttributeError\u001b[0m: type object 'pwskills4' has no attribute 'student_details'"
     ]
    }
   ],
   "source": [
    "pwskills4.student_details()"
   ]
  },
  {
   "cell_type": "markdown",
   "id": "dc25e814-d3e6-4982-acc4-e04d1bc03e38",
   "metadata": {
    "jp-MarkdownHeadingCollapsed": true,
    "tags": []
   },
   "source": [
    "### Static Method"
   ]
  },
  {
   "cell_type": "code",
   "execution_count": 2,
   "id": "e24dc427-0640-47bb-a863-ea3f04526013",
   "metadata": {},
   "outputs": [],
   "source": [
    "### this method try to reduce memory utillization"
   ]
  },
  {
   "cell_type": "code",
   "execution_count": 1,
   "id": "d8b254e5-f77e-45f1-bdb8-fa8363fd81e1",
   "metadata": {},
   "outputs": [],
   "source": [
    "class pwskills():\n",
    "    def student_deatils(self,name,mail_id,number):\n",
    "        print(name,mail_id,number)"
   ]
  },
  {
   "cell_type": "code",
   "execution_count": 2,
   "id": "753975d0-548c-416e-b0f1-c5877bda9eff",
   "metadata": {},
   "outputs": [],
   "source": [
    "pw = pwskills()"
   ]
  },
  {
   "cell_type": "code",
   "execution_count": 4,
   "id": "a0954679-dfe8-45e1-8bf0-5b212daf7bd1",
   "metadata": {},
   "outputs": [
    {
     "name": "stdout",
     "output_type": "stream",
     "text": [
      "namit namitchaudhari123@gmail.com 89656322\n"
     ]
    }
   ],
   "source": [
    "pw.student_deatils(\"namit\",\"namitchaudhari123@gmail.com\",89656322)"
   ]
  },
  {
   "cell_type": "code",
   "execution_count": 10,
   "id": "bb1e7b0f-7f96-4966-8f2d-65ad792efd14",
   "metadata": {},
   "outputs": [],
   "source": [
    "class pwskills6():\n",
    "    def student_deatils(self,name,mail_id,number):\n",
    "        print(name,mail_id,number)\n",
    "    @staticmethod\n",
    "    def mentor_class(list_mentor):## in static method we can use self or cls\n",
    "        print(list_mentor)\n",
    "    def mentor(self, mentor_list):\n",
    "        print(mentor_list)"
   ]
  },
  {
   "cell_type": "code",
   "execution_count": 9,
   "id": "77f6b685-34b5-422d-a809-433e5ee810a3",
   "metadata": {},
   "outputs": [
    {
     "name": "stdout",
     "output_type": "stream",
     "text": [
      "['sudh', 'krish']\n"
     ]
    }
   ],
   "source": [
    "pwskills6.mentor_class([\"sudh\",\"krish\"])### we can access diectly through class name "
   ]
  },
  {
   "cell_type": "code",
   "execution_count": 11,
   "id": "0fa92aa7-1a9b-4543-81c0-9d53da594a8f",
   "metadata": {},
   "outputs": [],
   "source": [
    "pw6 = pwskills6()"
   ]
  },
  {
   "cell_type": "code",
   "execution_count": 13,
   "id": "7734446b-d973-4360-adac-6ce85ee36eec",
   "metadata": {},
   "outputs": [
    {
     "name": "stdout",
     "output_type": "stream",
     "text": [
      "['sudh', 'krish']\n"
     ]
    }
   ],
   "source": [
    "pw6.mentor([\"sudh\",\"krish\"])### when we use self we need to declear variable "
   ]
  },
  {
   "cell_type": "code",
   "execution_count": 15,
   "id": "f9e8d249-e4b2-4b60-9392-f4ee576dabc1",
   "metadata": {},
   "outputs": [
    {
     "name": "stdout",
     "output_type": "stream",
     "text": [
      "['sudh', 'krish']\n"
     ]
    }
   ],
   "source": [
    "pw6.mentor_class([\"sudh\",\"krish\"])### we can also access static function in variable creation"
   ]
  },
  {
   "cell_type": "code",
   "execution_count": 17,
   "id": "9573525a-9663-4c44-aee6-5b9bc05b9adc",
   "metadata": {},
   "outputs": [],
   "source": [
    "class pwskills7:\n",
    "    def student_details(self , name , mail_id , number) : \n",
    "        print(name , mail_id, number)\n",
    "        \n",
    "    @staticmethod\n",
    "    def mentor_mail_id(mail_id):\n",
    "        print(mail_id)\n",
    "        \n",
    "    @staticmethod\n",
    "    def mentor_class(list_mentor) : \n",
    "        print(list_mentor)\n",
    "        pwskills7.mentor_mail_id([\"krish@gmail.com\" , \"sudh@gmail.com\"])### we can acesss fun which is under static method inside another static method\n",
    "        \n",
    "    @classmethod\n",
    "    def class_name(cls,class_name):\n",
    "        cls.mentor_class([\"sudh\" , \"krish\"])### we can acesss fun which is under static method inside class method \n",
    "        \n",
    "    def mentor(self , mentor_list) :\n",
    "        print(mentor_list)\n",
    "        self.mentor_class([\"krish\" , \"sudh\"])### we can acesss fun which is under static method inside intance method"
   ]
  },
  {
   "cell_type": "code",
   "execution_count": 20,
   "id": "fae4c5a2-5a77-4c9d-8b71-09d0a8caf7f0",
   "metadata": {},
   "outputs": [],
   "source": [
    "pw7 = pwskills7()"
   ]
  },
  {
   "cell_type": "code",
   "execution_count": 21,
   "id": "aa7559c1-f386-4216-8828-61e19c8c561a",
   "metadata": {},
   "outputs": [
    {
     "name": "stdout",
     "output_type": "stream",
     "text": [
      "mohan mohan@gmail.com 96220510\n"
     ]
    }
   ],
   "source": [
    "pw7.student_details(\"mohan\",\"mohan@gmail.com\",96220510)"
   ]
  },
  {
   "cell_type": "code",
   "execution_count": 22,
   "id": "5a340978-70b5-4ab6-9e50-8019b35dcc97",
   "metadata": {},
   "outputs": [
    {
     "name": "stdout",
     "output_type": "stream",
     "text": [
      "krish@gmail.com\n"
     ]
    }
   ],
   "source": [
    "pw7.mentor_mail_id(\"krish@gmail.com\")"
   ]
  },
  {
   "cell_type": "code",
   "execution_count": 23,
   "id": "20e7adf0-a581-4e0b-a1f1-0fb156d9b6ef",
   "metadata": {},
   "outputs": [
    {
     "name": "stdout",
     "output_type": "stream",
     "text": [
      "['sudh', 'krish']\n",
      "['krish@gmail.com', 'sudh@gmail.com']\n"
     ]
    }
   ],
   "source": [
    "pw7.class_name(\"data science masters\")"
   ]
  },
  {
   "cell_type": "markdown",
   "id": "af0ef7ca-9091-4f23-a1fb-2e3c0c4f1a6a",
   "metadata": {
    "jp-MarkdownHeadingCollapsed": true,
    "tags": []
   },
   "source": [
    "### Special (Magic Dunder) Methods"
   ]
  },
  {
   "cell_type": "code",
   "execution_count": 1,
   "id": "18555209-be15-44b3-9a7a-60fb84544e43",
   "metadata": {},
   "outputs": [
    {
     "data": {
      "text/plain": [
       "['__abs__',\n",
       " '__add__',\n",
       " '__and__',\n",
       " '__bool__',\n",
       " '__ceil__',\n",
       " '__class__',\n",
       " '__delattr__',\n",
       " '__dir__',\n",
       " '__divmod__',\n",
       " '__doc__',\n",
       " '__eq__',\n",
       " '__float__',\n",
       " '__floor__',\n",
       " '__floordiv__',\n",
       " '__format__',\n",
       " '__ge__',\n",
       " '__getattribute__',\n",
       " '__getnewargs__',\n",
       " '__gt__',\n",
       " '__hash__',\n",
       " '__index__',\n",
       " '__init__',\n",
       " '__init_subclass__',\n",
       " '__int__',\n",
       " '__invert__',\n",
       " '__le__',\n",
       " '__lshift__',\n",
       " '__lt__',\n",
       " '__mod__',\n",
       " '__mul__',\n",
       " '__ne__',\n",
       " '__neg__',\n",
       " '__new__',\n",
       " '__or__',\n",
       " '__pos__',\n",
       " '__pow__',\n",
       " '__radd__',\n",
       " '__rand__',\n",
       " '__rdivmod__',\n",
       " '__reduce__',\n",
       " '__reduce_ex__',\n",
       " '__repr__',\n",
       " '__rfloordiv__',\n",
       " '__rlshift__',\n",
       " '__rmod__',\n",
       " '__rmul__',\n",
       " '__ror__',\n",
       " '__round__',\n",
       " '__rpow__',\n",
       " '__rrshift__',\n",
       " '__rshift__',\n",
       " '__rsub__',\n",
       " '__rtruediv__',\n",
       " '__rxor__',\n",
       " '__setattr__',\n",
       " '__sizeof__',\n",
       " '__str__',\n",
       " '__sub__',\n",
       " '__subclasshook__',\n",
       " '__truediv__',\n",
       " '__trunc__',\n",
       " '__xor__',\n",
       " 'as_integer_ratio',\n",
       " 'bit_count',\n",
       " 'bit_length',\n",
       " 'conjugate',\n",
       " 'denominator',\n",
       " 'from_bytes',\n",
       " 'imag',\n",
       " 'numerator',\n",
       " 'real',\n",
       " 'to_bytes']"
      ]
     },
     "execution_count": 1,
     "metadata": {},
     "output_type": "execute_result"
    }
   ],
   "source": [
    "dir(int) ## to see all magic methods associated with something use dir(something)"
   ]
  },
  {
   "cell_type": "code",
   "execution_count": 5,
   "id": "0ac88d85-c095-4976-b10e-aa166d204a27",
   "metadata": {},
   "outputs": [],
   "source": [
    "a = 10"
   ]
  },
  {
   "cell_type": "code",
   "execution_count": 6,
   "id": "9d7506d2-e14e-4e4e-82e9-cf2482334dd8",
   "metadata": {},
   "outputs": [
    {
     "data": {
      "text/plain": [
       "16"
      ]
     },
     "execution_count": 6,
     "metadata": {},
     "output_type": "execute_result"
    }
   ],
   "source": [
    "a + 6"
   ]
  },
  {
   "cell_type": "code",
   "execution_count": 10,
   "id": "d3500dfd-77fc-4174-82fd-fb49632436e4",
   "metadata": {},
   "outputs": [
    {
     "data": {
      "text/plain": [
       "16"
      ]
     },
     "execution_count": 10,
     "metadata": {},
     "output_type": "execute_result"
    }
   ],
   "source": [
    "a.__add__(6) # here add is a magic function  this is inbuild fun for addition"
   ]
  },
  {
   "cell_type": "code",
   "execution_count": 11,
   "id": "f5c48704-2f8b-401e-ad5d-7edd52a8a737",
   "metadata": {},
   "outputs": [
    {
     "data": {
      "text/plain": [
       "['__add__',\n",
       " '__class__',\n",
       " '__contains__',\n",
       " '__delattr__',\n",
       " '__dir__',\n",
       " '__doc__',\n",
       " '__eq__',\n",
       " '__format__',\n",
       " '__ge__',\n",
       " '__getattribute__',\n",
       " '__getitem__',\n",
       " '__getnewargs__',\n",
       " '__gt__',\n",
       " '__hash__',\n",
       " '__init__',\n",
       " '__init_subclass__',\n",
       " '__iter__',\n",
       " '__le__',\n",
       " '__len__',\n",
       " '__lt__',\n",
       " '__mod__',\n",
       " '__mul__',\n",
       " '__ne__',\n",
       " '__new__',\n",
       " '__reduce__',\n",
       " '__reduce_ex__',\n",
       " '__repr__',\n",
       " '__rmod__',\n",
       " '__rmul__',\n",
       " '__setattr__',\n",
       " '__sizeof__',\n",
       " '__str__',\n",
       " '__subclasshook__',\n",
       " 'capitalize',\n",
       " 'casefold',\n",
       " 'center',\n",
       " 'count',\n",
       " 'encode',\n",
       " 'endswith',\n",
       " 'expandtabs',\n",
       " 'find',\n",
       " 'format',\n",
       " 'format_map',\n",
       " 'index',\n",
       " 'isalnum',\n",
       " 'isalpha',\n",
       " 'isascii',\n",
       " 'isdecimal',\n",
       " 'isdigit',\n",
       " 'isidentifier',\n",
       " 'islower',\n",
       " 'isnumeric',\n",
       " 'isprintable',\n",
       " 'isspace',\n",
       " 'istitle',\n",
       " 'isupper',\n",
       " 'join',\n",
       " 'ljust',\n",
       " 'lower',\n",
       " 'lstrip',\n",
       " 'maketrans',\n",
       " 'partition',\n",
       " 'removeprefix',\n",
       " 'removesuffix',\n",
       " 'replace',\n",
       " 'rfind',\n",
       " 'rindex',\n",
       " 'rjust',\n",
       " 'rpartition',\n",
       " 'rsplit',\n",
       " 'rstrip',\n",
       " 'split',\n",
       " 'splitlines',\n",
       " 'startswith',\n",
       " 'strip',\n",
       " 'swapcase',\n",
       " 'title',\n",
       " 'translate',\n",
       " 'upper',\n",
       " 'zfill']"
      ]
     },
     "execution_count": 11,
     "metadata": {},
     "output_type": "execute_result"
    }
   ],
   "source": [
    "dir(str)"
   ]
  },
  {
   "cell_type": "code",
   "execution_count": 1,
   "id": "975d81e0-6ef3-446f-b18c-348c0454938f",
   "metadata": {},
   "outputs": [],
   "source": [
    "class namit():\n",
    "    def __new__(cls):\n",
    "        print(\"this is my new\")\n",
    "    def __init__(self):\n",
    "        print(\"this is my init\")"
   ]
  },
  {
   "cell_type": "code",
   "execution_count": 2,
   "id": "50380404-7c45-476a-8546-86143481f310",
   "metadata": {},
   "outputs": [
    {
     "name": "stdout",
     "output_type": "stream",
     "text": [
      "this is my new\n"
     ]
    }
   ],
   "source": [
    "namit= namit()"
   ]
  },
  {
   "cell_type": "code",
   "execution_count": 3,
   "id": "58e159c2-c344-4891-a9a8-f8b94293f6df",
   "metadata": {},
   "outputs": [],
   "source": [
    "class namit1:\n",
    "    def __init__(self):\n",
    "        self.mobile_number= 9623185263\n",
    "    def __str__ (self):\n",
    "        return \"This is an magic method which will print something for object\""
   ]
  },
  {
   "cell_type": "code",
   "execution_count": 4,
   "id": "c4a93c2a-b257-4e0e-bc31-d126aaf54593",
   "metadata": {},
   "outputs": [],
   "source": [
    "na1=namit1()"
   ]
  },
  {
   "cell_type": "code",
   "execution_count": 5,
   "id": "4280be45-d0ab-4e10-9536-384a60a190a9",
   "metadata": {},
   "outputs": [
    {
     "name": "stdout",
     "output_type": "stream",
     "text": [
      "This is an magic method which will print something for object\n"
     ]
    }
   ],
   "source": [
    "print(na1)"
   ]
  },
  {
   "cell_type": "code",
   "execution_count": 6,
   "id": "eafee1b2-fc7e-4ff4-94d3-1b30abe5f90e",
   "metadata": {},
   "outputs": [
    {
     "data": {
      "text/plain": [
       "['__add__',\n",
       " '__class__',\n",
       " '__class_getitem__',\n",
       " '__contains__',\n",
       " '__delattr__',\n",
       " '__dir__',\n",
       " '__doc__',\n",
       " '__eq__',\n",
       " '__format__',\n",
       " '__ge__',\n",
       " '__getattribute__',\n",
       " '__getitem__',\n",
       " '__getnewargs__',\n",
       " '__gt__',\n",
       " '__hash__',\n",
       " '__init__',\n",
       " '__init_subclass__',\n",
       " '__iter__',\n",
       " '__le__',\n",
       " '__len__',\n",
       " '__lt__',\n",
       " '__mul__',\n",
       " '__ne__',\n",
       " '__new__',\n",
       " '__reduce__',\n",
       " '__reduce_ex__',\n",
       " '__repr__',\n",
       " '__rmul__',\n",
       " '__setattr__',\n",
       " '__sizeof__',\n",
       " '__str__',\n",
       " '__subclasshook__',\n",
       " 'count',\n",
       " 'index']"
      ]
     },
     "execution_count": 6,
     "metadata": {},
     "output_type": "execute_result"
    }
   ],
   "source": [
    "dir(tuple)"
   ]
  },
  {
   "cell_type": "markdown",
   "id": "b089f5bd-7c9f-492b-9c03-b793ce7798e2",
   "metadata": {
    "jp-MarkdownHeadingCollapsed": true,
    "tags": []
   },
   "source": [
    "### Property Decorators Getters, Setters, And Deletes"
   ]
  },
  {
   "cell_type": "code",
   "execution_count": 1,
   "id": "0b5482c7-6b25-404e-8fb5-1ede97323784",
   "metadata": {},
   "outputs": [],
   "source": [
    "## \"_\" it means protected\n",
    "# \"__\" it means private\n",
    "# \"\" no _ means public"
   ]
  },
  {
   "cell_type": "code",
   "execution_count": 2,
   "id": "aabff579-ba3e-4870-bb70-85efa43bd2b6",
   "metadata": {},
   "outputs": [],
   "source": [
    "class pwskills:\n",
    "    def __init__(self,course_price,course_name):\n",
    "        self.__course_price = course_price\n",
    "        self.course_name = course_name"
   ]
  },
  {
   "cell_type": "code",
   "execution_count": 3,
   "id": "c99cc39a-d40e-4beb-809b-f8a7577cde3f",
   "metadata": {},
   "outputs": [],
   "source": [
    "pw = pwskills(3500,\"data science masters\")"
   ]
  },
  {
   "cell_type": "code",
   "execution_count": 4,
   "id": "1ecc4918-c1de-4950-ae45-ac2a0d0c1e25",
   "metadata": {},
   "outputs": [
    {
     "data": {
      "text/plain": [
       "'data science masters'"
      ]
     },
     "execution_count": 4,
     "metadata": {},
     "output_type": "execute_result"
    }
   ],
   "source": [
    "pw.course_name"
   ]
  },
  {
   "cell_type": "code",
   "execution_count": 5,
   "id": "3a443003-df89-46b8-b4b2-71bc1d0528ca",
   "metadata": {},
   "outputs": [
    {
     "data": {
      "text/plain": [
       "3500"
      ]
     },
     "execution_count": 5,
     "metadata": {},
     "output_type": "execute_result"
    }
   ],
   "source": [
    "pw._pwskills__course_price"
   ]
  },
  {
   "cell_type": "code",
   "execution_count": 26,
   "id": "97681bd9-00c3-4730-81f9-ed2ac2975188",
   "metadata": {},
   "outputs": [],
   "source": [
    "class pwskills1:\n",
    "    def __init__(self,course_price,course_name):\n",
    "        self.__course_price = course_price\n",
    "        self.course_name = course_name\n",
    "    @property## it allows the user to access protected funtion with help of another function\n",
    "    def course_price_access(self):\n",
    "        return self.__course_price\n",
    "    \n",
    "    @course_price_access.setter### it is used for protected or private variable\n",
    "    def course_price_set(self,price):\n",
    "        if price <=3500:\n",
    "            pass\n",
    "        else :\n",
    "            self.__course_price=price\n",
    "    @course_price_access.deleter\n",
    "    def course_price_del(self):\n",
    "        del  self.__course_price"
   ]
  },
  {
   "cell_type": "code",
   "execution_count": 28,
   "id": "c62caeee-06d6-4313-9f49-7442a3bdf03f",
   "metadata": {},
   "outputs": [],
   "source": [
    "del pw1.course_price_del"
   ]
  },
  {
   "cell_type": "code",
   "execution_count": 29,
   "id": "7572251f-18d2-4a39-a964-31b158f7346f",
   "metadata": {},
   "outputs": [
    {
     "ename": "AttributeError",
     "evalue": "'pwskills1' object has no attribute '_pwskills1__course_price'",
     "output_type": "error",
     "traceback": [
      "\u001b[0;31m---------------------------------------------------------------------------\u001b[0m",
      "\u001b[0;31mAttributeError\u001b[0m                            Traceback (most recent call last)",
      "Cell \u001b[0;32mIn[29], line 1\u001b[0m\n\u001b[0;32m----> 1\u001b[0m \u001b[43mpw1\u001b[49m\u001b[38;5;241;43m.\u001b[39;49m\u001b[43mcourse_price_access\u001b[49m\n",
      "Cell \u001b[0;32mIn[26], line 7\u001b[0m, in \u001b[0;36mpwskills1.course_price_access\u001b[0;34m(self)\u001b[0m\n\u001b[1;32m      5\u001b[0m \u001b[38;5;129m@property\u001b[39m\u001b[38;5;66;03m## it allows the user to access protected funtion with help of another function\u001b[39;00m\n\u001b[1;32m      6\u001b[0m \u001b[38;5;28;01mdef\u001b[39;00m \u001b[38;5;21mcourse_price_access\u001b[39m(\u001b[38;5;28mself\u001b[39m):\n\u001b[0;32m----> 7\u001b[0m     \u001b[38;5;28;01mreturn\u001b[39;00m \u001b[38;5;28;43mself\u001b[39;49m\u001b[38;5;241;43m.\u001b[39;49m\u001b[43m__course_price\u001b[49m\n",
      "\u001b[0;31mAttributeError\u001b[0m: 'pwskills1' object has no attribute '_pwskills1__course_price'"
     ]
    }
   ],
   "source": [
    "pw1.course_price_access"
   ]
  },
  {
   "cell_type": "code",
   "execution_count": 23,
   "id": "00ae655f-856c-404a-bb14-a08899d9d7d5",
   "metadata": {},
   "outputs": [
    {
     "data": {
      "text/plain": [
       "5000"
      ]
     },
     "execution_count": 23,
     "metadata": {},
     "output_type": "execute_result"
    }
   ],
   "source": [
    "pw1.course_price_access"
   ]
  },
  {
   "cell_type": "code",
   "execution_count": 27,
   "id": "b4274ff3-6a0a-41af-920e-6e158101e2f4",
   "metadata": {},
   "outputs": [],
   "source": [
    "pw1=pwskills1(3500,\"data science\")"
   ]
  },
  {
   "cell_type": "code",
   "execution_count": 8,
   "id": "b69e0e8a-f323-42c1-a0f9-7725cd0028d0",
   "metadata": {},
   "outputs": [
    {
     "data": {
      "text/plain": [
       "3500"
      ]
     },
     "execution_count": 8,
     "metadata": {},
     "output_type": "execute_result"
    }
   ],
   "source": [
    "pw1.course_price_access"
   ]
  },
  {
   "cell_type": "code",
   "execution_count": 9,
   "id": "7a067a63-6d7d-419a-8222-5697d57d01b1",
   "metadata": {},
   "outputs": [],
   "source": [
    "pw1.course_price_set = 800"
   ]
  },
  {
   "cell_type": "code",
   "execution_count": 10,
   "id": "df3dbce1-4b76-4c51-92ad-603d366ce2ce",
   "metadata": {},
   "outputs": [
    {
     "data": {
      "text/plain": [
       "3500"
      ]
     },
     "execution_count": 10,
     "metadata": {},
     "output_type": "execute_result"
    }
   ],
   "source": [
    "pw1.course_price_access"
   ]
  },
  {
   "cell_type": "code",
   "execution_count": 11,
   "id": "a66fccb5-9034-42c9-ac6f-c3d5a2b8463c",
   "metadata": {},
   "outputs": [],
   "source": [
    "pw1.course_price_set = 5000"
   ]
  },
  {
   "cell_type": "code",
   "execution_count": 12,
   "id": "6ce2f2a9-1cc3-4cbd-b76e-43cce2400aaf",
   "metadata": {},
   "outputs": [
    {
     "data": {
      "text/plain": [
       "5000"
      ]
     },
     "execution_count": 12,
     "metadata": {},
     "output_type": "execute_result"
    }
   ],
   "source": [
    "pw1.course_price_access"
   ]
  },
  {
   "cell_type": "code",
   "execution_count": null,
   "id": "570826c1-7c59-4608-9837-9cd57371c618",
   "metadata": {},
   "outputs": [],
   "source": []
  },
  {
   "cell_type": "code",
   "execution_count": null,
   "id": "cfe71943-49bb-40f3-8492-63ad1ba0c15a",
   "metadata": {},
   "outputs": [],
   "source": []
  },
  {
   "cell_type": "code",
   "execution_count": null,
   "id": "1dfc0d30-388c-4d77-939b-940d8847ff55",
   "metadata": {},
   "outputs": [],
   "source": []
  },
  {
   "cell_type": "code",
   "execution_count": null,
   "id": "ad732c3b-122f-4098-bd8c-9dfede672ad3",
   "metadata": {},
   "outputs": [],
   "source": []
  },
  {
   "cell_type": "code",
   "execution_count": null,
   "id": "fd6fb591-48c5-415c-a514-ce352e1d3b91",
   "metadata": {},
   "outputs": [],
   "source": []
  },
  {
   "cell_type": "code",
   "execution_count": null,
   "id": "508a0793-762d-4594-9bf2-ca1776ed5b66",
   "metadata": {},
   "outputs": [],
   "source": []
  },
  {
   "cell_type": "code",
   "execution_count": null,
   "id": "decb1be6-ce4c-48cc-b6c9-db4738cbdf39",
   "metadata": {},
   "outputs": [],
   "source": []
  },
  {
   "cell_type": "code",
   "execution_count": null,
   "id": "f0101f4a-d10e-4e48-8972-58b4b8d8314b",
   "metadata": {},
   "outputs": [],
   "source": []
  },
  {
   "cell_type": "code",
   "execution_count": null,
   "id": "e535bced-92c4-43a9-a8ec-67774bb55088",
   "metadata": {},
   "outputs": [],
   "source": []
  },
  {
   "cell_type": "code",
   "execution_count": null,
   "id": "e9ac5af8-3e29-4595-9307-0776df5ef0c9",
   "metadata": {},
   "outputs": [],
   "source": []
  },
  {
   "cell_type": "code",
   "execution_count": null,
   "id": "b9eaa538-cb91-473b-a42b-99616a3b4370",
   "metadata": {},
   "outputs": [],
   "source": []
  },
  {
   "cell_type": "code",
   "execution_count": null,
   "id": "03e46a57-ab71-4b4e-aadf-2f43ad540b7f",
   "metadata": {},
   "outputs": [],
   "source": []
  },
  {
   "cell_type": "code",
   "execution_count": null,
   "id": "d3e58fa5-712c-4e83-b5c4-79a750cfc147",
   "metadata": {},
   "outputs": [],
   "source": []
  },
  {
   "cell_type": "code",
   "execution_count": null,
   "id": "5733b04c-a9aa-4237-aab6-18434743a8c1",
   "metadata": {},
   "outputs": [],
   "source": []
  },
  {
   "cell_type": "code",
   "execution_count": null,
   "id": "4fee547f-bc91-4de4-9497-f63d4a0d8f53",
   "metadata": {},
   "outputs": [],
   "source": []
  },
  {
   "cell_type": "code",
   "execution_count": null,
   "id": "0ad8a87f-5818-4880-9642-8b18aeb8731f",
   "metadata": {},
   "outputs": [],
   "source": []
  }
 ],
 "metadata": {
  "kernelspec": {
   "display_name": "Python 3 (ipykernel)",
   "language": "python",
   "name": "python3"
  },
  "language_info": {
   "codemirror_mode": {
    "name": "ipython",
    "version": 3
   },
   "file_extension": ".py",
   "mimetype": "text/x-python",
   "name": "python",
   "nbconvert_exporter": "python",
   "pygments_lexer": "ipython3",
   "version": "3.10.8"
  }
 },
 "nbformat": 4,
 "nbformat_minor": 5
}
