{
 "cells": [
  {
   "cell_type": "markdown",
   "id": "70d510eb-a9b0-4ba9-a6c4-f5e549f729b3",
   "metadata": {
    "jp-MarkdownHeadingCollapsed": true,
    "tags": []
   },
   "source": [
    "### Polymorphism"
   ]
  },
  {
   "cell_type": "code",
   "execution_count": 1,
   "id": "59f6a24b-ce87-4391-8cf9-a602dc41acdf",
   "metadata": {},
   "outputs": [],
   "source": [
    "def test(a,b):\n",
    "    return a+b"
   ]
  },
  {
   "cell_type": "code",
   "execution_count": 3,
   "id": "4dcd8e3f-e8a9-4abb-a602-ae42badffcff",
   "metadata": {},
   "outputs": [
    {
     "data": {
      "text/plain": [
       "6"
      ]
     },
     "execution_count": 3,
     "metadata": {},
     "output_type": "execute_result"
    }
   ],
   "source": [
    "test(2,4)### here test funtion performs the opretion of addition "
   ]
  },
  {
   "cell_type": "code",
   "execution_count": 6,
   "id": "558ef3ac-e065-47c1-b353-03967ca665db",
   "metadata": {},
   "outputs": [
    {
     "data": {
      "text/plain": [
       "'namit chaudhari'"
      ]
     },
     "execution_count": 6,
     "metadata": {},
     "output_type": "execute_result"
    }
   ],
   "source": [
    "test(\"namit \",\"chaudhari\")### here test funtion performs the operation of concetination "
   ]
  },
  {
   "cell_type": "code",
   "execution_count": 8,
   "id": "489d7488-b2cb-4006-9163-2cdf119c16aa",
   "metadata": {},
   "outputs": [
    {
     "data": {
      "text/plain": [
       "[1, 2, 3, 4, 5, 6, 7, 8, 9, 0]"
      ]
     },
     "execution_count": 8,
     "metadata": {},
     "output_type": "execute_result"
    }
   ],
   "source": [
    "test([1,2,3,4,5],[6,7,8,9,0])##here test fun performs the operation of append "
   ]
  },
  {
   "cell_type": "markdown",
   "id": "92db4148-4853-48f1-bb09-43d761c88b1b",
   "metadata": {
    "jp-MarkdownHeadingCollapsed": true,
    "tags": []
   },
   "source": [
    " this 3 examples tells the concept of polymorphism in  this we seen that a same fun performs differnt operations for different data sets"
   ]
  },
  {
   "cell_type": "code",
   "execution_count": 18,
   "id": "2c93c1d9-9c4d-4323-84fb-814826abc0d8",
   "metadata": {},
   "outputs": [],
   "source": [
    "class data_science:\n",
    "    def syllabus(self):\n",
    "        print(\"this is my syllabus of data science masters \")"
   ]
  },
  {
   "cell_type": "code",
   "execution_count": 19,
   "id": "53dd3eca-bbf2-4a8f-984c-845281ba9568",
   "metadata": {},
   "outputs": [],
   "source": [
    "class web_dev:\n",
    "    def syllabus(self):\n",
    "        print(\"this is my syllabus of web dev \")"
   ]
  },
  {
   "cell_type": "code",
   "execution_count": 20,
   "id": "35729c26-0f8b-4f24-bc2b-dfd04e6afe37",
   "metadata": {},
   "outputs": [],
   "source": [
    "def class_parce(class_obj) :\n",
    "    for i in class_obj :\n",
    "        i.syllabus()"
   ]
  },
  {
   "cell_type": "code",
   "execution_count": 21,
   "id": "87fae740-3267-4761-8afd-77ba0be9be05",
   "metadata": {},
   "outputs": [],
   "source": [
    "obj_data_science= data_science()"
   ]
  },
  {
   "cell_type": "code",
   "execution_count": 22,
   "id": "5b7f969a-f87e-419a-b7a9-4ee311646acc",
   "metadata": {},
   "outputs": [],
   "source": [
    "obj_web_dev=web_dev()"
   ]
  },
  {
   "cell_type": "code",
   "execution_count": 23,
   "id": "905e7105-9cdc-45c8-92d8-2f6d434ef95d",
   "metadata": {},
   "outputs": [],
   "source": [
    "class_ojb=[obj_data_science,obj_web_dev]"
   ]
  },
  {
   "cell_type": "code",
   "execution_count": 24,
   "id": "7a43cb3a-1fed-49f2-91d5-31d242904561",
   "metadata": {},
   "outputs": [
    {
     "name": "stdout",
     "output_type": "stream",
     "text": [
      "this is my syllabus of data science masters \n",
      "this is my syllabus of web dev \n"
     ]
    }
   ],
   "source": [
    "class_parce(class_ojb)"
   ]
  },
  {
   "cell_type": "markdown",
   "id": "7bfce1e0-53c7-454e-9b1b-06b81c0c4989",
   "metadata": {
    "jp-MarkdownHeadingCollapsed": true,
    "tags": []
   },
   "source": [
    "### Encapsulation"
   ]
  },
  {
   "cell_type": "code",
   "execution_count": 2,
   "id": "d9d1ea3a-3cdf-453a-b214-66580eaad803",
   "metadata": {},
   "outputs": [],
   "source": [
    "class test:\n",
    "    def __init__(self,a,b):\n",
    "        self.a=a\n",
    "        self.b=b"
   ]
  },
  {
   "cell_type": "code",
   "execution_count": 5,
   "id": "9c38c90a-a3cc-46ee-8eb4-73850b7357dc",
   "metadata": {},
   "outputs": [],
   "source": [
    "t=test(45,68)"
   ]
  },
  {
   "cell_type": "code",
   "execution_count": 6,
   "id": "65e9a922-f134-4f94-806e-dcda51b5ae41",
   "metadata": {},
   "outputs": [
    {
     "data": {
      "text/plain": [
       "45"
      ]
     },
     "execution_count": 6,
     "metadata": {},
     "output_type": "execute_result"
    }
   ],
   "source": [
    "t.a"
   ]
  },
  {
   "cell_type": "code",
   "execution_count": 7,
   "id": "befe35a9-6cb7-482d-9119-13b032f3d681",
   "metadata": {},
   "outputs": [
    {
     "data": {
      "text/plain": [
       "68"
      ]
     },
     "execution_count": 7,
     "metadata": {},
     "output_type": "execute_result"
    }
   ],
   "source": [
    "t.b #### here if we press tab after t. then we see the all intances "
   ]
  },
  {
   "cell_type": "code",
   "execution_count": 8,
   "id": "2f91b902-b80d-4090-a1c9-6753a480daf2",
   "metadata": {},
   "outputs": [],
   "source": [
    "t.a=852"
   ]
  },
  {
   "cell_type": "code",
   "execution_count": 9,
   "id": "ceecb00f-69f2-4fca-9914-45128ddd2a05",
   "metadata": {},
   "outputs": [
    {
     "data": {
      "text/plain": [
       "852"
      ]
     },
     "execution_count": 9,
     "metadata": {},
     "output_type": "execute_result"
    }
   ],
   "source": [
    "t.a"
   ]
  },
  {
   "cell_type": "code",
   "execution_count": 76,
   "id": "53a45d93-618a-47e7-a432-03cc52c176da",
   "metadata": {},
   "outputs": [],
   "source": [
    "class car:\n",
    "    def __init__(self,year,make,model,speed):\n",
    "        self.__year=year##\" __ \"is imp to remove public access of user \n",
    "        self.__make=make\n",
    "        self.__model=model\n",
    "        self.__speed=0\n",
    "        \n",
    "    def set_speed(self,speed):\n",
    "        self.__speed=0 if speed<0 else speed\n",
    "        \n",
    "    def get_speed(self) :\n",
    "        return self.__speed    "
   ]
  },
  {
   "cell_type": "code",
   "execution_count": 83,
   "id": "5b141313-2bf2-4f02-b957-e4c326fef468",
   "metadata": {},
   "outputs": [
    {
     "data": {
      "text/plain": [
       "852"
      ]
     },
     "execution_count": 83,
     "metadata": {},
     "output_type": "execute_result"
    }
   ],
   "source": [
    "obj_car.get_speed()"
   ]
  },
  {
   "cell_type": "code",
   "execution_count": 55,
   "id": "acef6c15-7db3-4c00-9b1f-2b1fd0491cf5",
   "metadata": {},
   "outputs": [],
   "source": [
    "obj_car.set_speed(-555)"
   ]
  },
  {
   "cell_type": "code",
   "execution_count": 81,
   "id": "f5ba1e1a-7e70-4ac2-ad77-33594b626a98",
   "metadata": {},
   "outputs": [],
   "source": [
    "obj_car.set_speed(852)"
   ]
  },
  {
   "cell_type": "code",
   "execution_count": 82,
   "id": "a92cdd91-cba7-4e42-a747-299ac903e4e8",
   "metadata": {},
   "outputs": [
    {
     "data": {
      "text/plain": [
       "852"
      ]
     },
     "execution_count": 82,
     "metadata": {},
     "output_type": "execute_result"
    }
   ],
   "source": [
    "obj_car._car__speed"
   ]
  },
  {
   "cell_type": "code",
   "execution_count": 78,
   "id": "bd1846e3-466f-4ba4-9d99-17e12c244675",
   "metadata": {},
   "outputs": [],
   "source": [
    "obj_car=car(2016,\"tata\",\"harrier\",200)"
   ]
  },
  {
   "cell_type": "code",
   "execution_count": 52,
   "id": "8cccd293-25d2-4cfe-9ee0-eda45f783e62",
   "metadata": {},
   "outputs": [],
   "source": [
    "#### here if we press the tab afer the obj_car. we cant see any instances beacuse we use __ while assigning the self"
   ]
  },
  {
   "cell_type": "code",
   "execution_count": 53,
   "id": "9dd8c33a-5e35-405e-a8bf-dea2e7b1c2d9",
   "metadata": {},
   "outputs": [
    {
     "data": {
      "text/plain": [
       "2016"
      ]
     },
     "execution_count": 53,
     "metadata": {},
     "output_type": "execute_result"
    }
   ],
   "source": [
    "obj_car._car__year### to accesss the data inside class you need to know name of class and arguments of class"
   ]
  },
  {
   "cell_type": "code",
   "execution_count": 22,
   "id": "93970292-ceaa-498a-9147-6c496af20aa5",
   "metadata": {},
   "outputs": [],
   "source": [
    "class bank_account:\n",
    "    def __init__(self,balance):\n",
    "        self.__balance = balance\n",
    "        \n",
    "    def deposit(self,amount):\n",
    "        self.__balance = self.__balance + amount\n",
    "        \n",
    "    def withdraw(self,amount):\n",
    "        if self.__balance>= amount :\n",
    "            self.__balance = self.__balance - amount\n",
    "            \n",
    "            return True \n",
    "        else :\n",
    "            return False\n",
    "    def get_balance(self):\n",
    "        return self.__balance"
   ]
  },
  {
   "cell_type": "code",
   "execution_count": 25,
   "id": "b965ab32-a5a2-4a23-9c05-5b2114b6d6fd",
   "metadata": {},
   "outputs": [],
   "source": [
    "obj_bank_account=bank_account(1000)"
   ]
  },
  {
   "cell_type": "code",
   "execution_count": 26,
   "id": "9aa043ff-5390-4c58-89b3-5cfcdc84cb3b",
   "metadata": {},
   "outputs": [
    {
     "data": {
      "text/plain": [
       "1000"
      ]
     },
     "execution_count": 26,
     "metadata": {},
     "output_type": "execute_result"
    }
   ],
   "source": [
    "obj_bank_account.get_balance()"
   ]
  },
  {
   "cell_type": "code",
   "execution_count": 27,
   "id": "f1b64006-d44f-4218-bc2d-eac01261c885",
   "metadata": {},
   "outputs": [],
   "source": [
    "obj_bank_account.deposit(6000)"
   ]
  },
  {
   "cell_type": "code",
   "execution_count": 28,
   "id": "d68c93c9-0b3d-4942-a37b-ccbeddca2fa8",
   "metadata": {},
   "outputs": [
    {
     "data": {
      "text/plain": [
       "7000"
      ]
     },
     "execution_count": 28,
     "metadata": {},
     "output_type": "execute_result"
    }
   ],
   "source": [
    "obj_bank_account.get_balance()"
   ]
  },
  {
   "cell_type": "code",
   "execution_count": 29,
   "id": "c4f4c4b5-641a-4364-a113-46b83f478595",
   "metadata": {},
   "outputs": [
    {
     "data": {
      "text/plain": [
       "False"
      ]
     },
     "execution_count": 29,
     "metadata": {},
     "output_type": "execute_result"
    }
   ],
   "source": [
    "obj_bank_account.withdraw(10000000)"
   ]
  },
  {
   "cell_type": "code",
   "execution_count": 30,
   "id": "829adb16-58fb-4c72-868d-ad518e15d114",
   "metadata": {},
   "outputs": [
    {
     "data": {
      "text/plain": [
       "True"
      ]
     },
     "execution_count": 30,
     "metadata": {},
     "output_type": "execute_result"
    }
   ],
   "source": [
    "obj_bank_account.withdraw(2000)"
   ]
  },
  {
   "cell_type": "code",
   "execution_count": 33,
   "id": "c0461d64-67ec-4969-8183-d087c339f589",
   "metadata": {},
   "outputs": [
    {
     "data": {
      "text/plain": [
       "5000"
      ]
     },
     "execution_count": 33,
     "metadata": {},
     "output_type": "execute_result"
    }
   ],
   "source": [
    "obj_bank_account.get_balance()"
   ]
  },
  {
   "cell_type": "markdown",
   "id": "ce009a59-bfa4-49ca-ae1b-4eaa4c1d57e0",
   "metadata": {
    "jp-MarkdownHeadingCollapsed": true,
    "tags": []
   },
   "source": [
    "### Inheritance"
   ]
  },
  {
   "cell_type": "code",
   "execution_count": 34,
   "id": "a245f1c5-b331-4890-a5d4-de182816bca1",
   "metadata": {},
   "outputs": [],
   "source": [
    "class parent():\n",
    "    def test_parent(self):\n",
    "        print(\"this is my parent class\")"
   ]
  },
  {
   "cell_type": "code",
   "execution_count": 40,
   "id": "3a944239-9647-4710-a8e1-c624cca33881",
   "metadata": {},
   "outputs": [],
   "source": [
    "class child(parent):### this is a method to access a pre created class with the new classs for same properties or function\n",
    "    pass"
   ]
  },
  {
   "cell_type": "code",
   "execution_count": 41,
   "id": "5908be1a-85aa-41bb-bf54-1dabc6054c63",
   "metadata": {},
   "outputs": [],
   "source": [
    "obj_child=child()"
   ]
  },
  {
   "cell_type": "code",
   "execution_count": 42,
   "id": "f4da6ac8-8b04-4c7f-b907-5606d2b8ba63",
   "metadata": {},
   "outputs": [
    {
     "name": "stdout",
     "output_type": "stream",
     "text": [
      "this is my parent class\n"
     ]
    }
   ],
   "source": [
    "obj_child.test_parent()"
   ]
  },
  {
   "cell_type": "code",
   "execution_count": 1,
   "id": "6ee0f8dd-a4fd-463e-9397-0ae75940ec3a",
   "metadata": {},
   "outputs": [],
   "source": [
    "class class1():\n",
    "    def test_class1(self):\n",
    "        print(\"this is my class1\")"
   ]
  },
  {
   "cell_type": "code",
   "execution_count": 2,
   "id": "8da4b5bb-9430-436e-9164-ac82bf8800f5",
   "metadata": {},
   "outputs": [],
   "source": [
    "class class2(class1):\n",
    "    def test_class2(self):\n",
    "        print(\"this is my class2 \")"
   ]
  },
  {
   "cell_type": "code",
   "execution_count": 3,
   "id": "07f7d5d7-b88c-4281-8534-e16c6610526f",
   "metadata": {},
   "outputs": [],
   "source": [
    "class class3(class2):\n",
    "    def test_class3(self):\n",
    "        print(\"this is my class 3\")"
   ]
  },
  {
   "cell_type": "code",
   "execution_count": 40,
   "id": "c3c356d8-a271-4015-87a3-8869f1fc6ea9",
   "metadata": {},
   "outputs": [],
   "source": [
    "obj_class3=class3()#### it is called multilable inheritance "
   ]
  },
  {
   "cell_type": "code",
   "execution_count": 13,
   "id": "9dabe398-6310-44de-9e6d-72ff6394f6d4",
   "metadata": {},
   "outputs": [
    {
     "name": "stdout",
     "output_type": "stream",
     "text": [
      "this is my class 3\n"
     ]
    }
   ],
   "source": [
    "obj_class3.test_class3()"
   ]
  },
  {
   "cell_type": "code",
   "execution_count": 15,
   "id": "193ec84c-57e3-4ace-8393-14db8962d9c3",
   "metadata": {},
   "outputs": [
    {
     "name": "stdout",
     "output_type": "stream",
     "text": [
      "this is my class2 \n"
     ]
    }
   ],
   "source": [
    "obj_class3.test_class2()"
   ]
  },
  {
   "cell_type": "code",
   "execution_count": 16,
   "id": "be9e1fa4-a0a3-4bcc-be2e-37b88242be72",
   "metadata": {},
   "outputs": [
    {
     "name": "stdout",
     "output_type": "stream",
     "text": [
      "this is my class1\n"
     ]
    }
   ],
   "source": [
    "obj_class3.test_class1()"
   ]
  },
  {
   "cell_type": "code",
   "execution_count": 34,
   "id": "43451438-6ace-4872-a548-bb92364e5ed8",
   "metadata": {},
   "outputs": [],
   "source": [
    "class class4():\n",
    "    def test_class4(self):\n",
    "        print(\"this is my class4\")"
   ]
  },
  {
   "cell_type": "code",
   "execution_count": 35,
   "id": "fdced87d-49bb-44d7-88f1-5e72ffc5d68a",
   "metadata": {},
   "outputs": [],
   "source": [
    "class class5():\n",
    "    def test_class5(self):\n",
    "        print(\"this is my class5\")"
   ]
  },
  {
   "cell_type": "code",
   "execution_count": 41,
   "id": "b92b3323-15df-4aff-879f-c2f2b5de06d3",
   "metadata": {},
   "outputs": [],
   "source": [
    "class class6 (class4 , class5):## it is called multiple inheritance\n",
    "    pass"
   ]
  },
  {
   "cell_type": "code",
   "execution_count": 37,
   "id": "9d44fa08-0fcc-421c-93b6-23b32b812451",
   "metadata": {},
   "outputs": [],
   "source": [
    "obj_class6 = class6()"
   ]
  },
  {
   "cell_type": "code",
   "execution_count": 38,
   "id": "2c2c8016-01f3-472f-a9d3-8ecd51f9d894",
   "metadata": {},
   "outputs": [
    {
     "name": "stdout",
     "output_type": "stream",
     "text": [
      "this is my class4\n"
     ]
    }
   ],
   "source": [
    "obj_class6.test_class4()"
   ]
  },
  {
   "cell_type": "code",
   "execution_count": 39,
   "id": "8f57bcaa-7334-4939-9fe5-8e56271044a6",
   "metadata": {},
   "outputs": [
    {
     "name": "stdout",
     "output_type": "stream",
     "text": [
      "this is my class5\n"
     ]
    }
   ],
   "source": [
    "obj_class6.test_class5()"
   ]
  },
  {
   "cell_type": "markdown",
   "id": "2b3257d9-5182-41f5-a794-762a50790829",
   "metadata": {
    "jp-MarkdownHeadingCollapsed": true,
    "tags": []
   },
   "source": [
    "### Abstraction"
   ]
  },
  {
   "cell_type": "code",
   "execution_count": 47,
   "id": "8e765a67-26ff-496f-82ae-733d3f1590f9",
   "metadata": {},
   "outputs": [],
   "source": [
    "import abc              ### here we will assign common data for multiple class\n",
    "\n",
    "class pwskills():\n",
    "    @abc.abstractmethod\n",
    "    def student_deatils(self):\n",
    "        pass\n",
    "    @abc.abstractmethod\n",
    "    def student_assignmnt(self):\n",
    "        pass\n",
    "    @abc.abstractmethod\n",
    "    def student_marks(self):\n",
    "        pass"
   ]
  },
  {
   "cell_type": "code",
   "execution_count": 45,
   "id": "17455a60-501e-493b-bcb5-640de8c6079f",
   "metadata": {},
   "outputs": [],
   "source": [
    "class data_science(pwskills):\n",
    "    def student_deatils(self):\n",
    "        return \"it will return a details of data science masters \"\n",
    "    def student_assignmnt(self):\n",
    "        return \"it will return a details of student assignmesnt of data science masters\""
   ]
  },
  {
   "cell_type": "code",
   "execution_count": 46,
   "id": "b8034376-84f8-4a04-92c7-0a9509a73c33",
   "metadata": {},
   "outputs": [],
   "source": [
    "class web_dev(pwskills):\n",
    "    def student_deatils(self):\n",
    "        return \"it will return a details of web dev \"\n",
    "    def student_marks(self):\n",
    "        return \"it will return a details of student marks of web dev\""
   ]
  },
  {
   "cell_type": "code",
   "execution_count": 48,
   "id": "8b1da2aa-f967-491b-a809-62d2ed072f19",
   "metadata": {},
   "outputs": [
    {
     "data": {
      "text/plain": [
       "'it will return a details of data science masters '"
      ]
     },
     "execution_count": 48,
     "metadata": {},
     "output_type": "execute_result"
    }
   ],
   "source": [
    "ds = data_science()\n",
    "ds.student_deatils()"
   ]
  },
  {
   "cell_type": "code",
   "execution_count": 49,
   "id": "81454232-2dbe-44c7-8e42-f897e7c0e1e2",
   "metadata": {},
   "outputs": [
    {
     "data": {
      "text/plain": [
       "'it will return a details of student marks of web dev'"
      ]
     },
     "execution_count": 49,
     "metadata": {},
     "output_type": "execute_result"
    }
   ],
   "source": [
    "wd = web_dev()\n",
    "wd.student_marks()"
   ]
  },
  {
   "cell_type": "code",
   "execution_count": null,
   "id": "dbc44290-17c0-4c37-ac83-e092f1017fea",
   "metadata": {},
   "outputs": [],
   "source": []
  },
  {
   "cell_type": "code",
   "execution_count": null,
   "id": "0777954c-47ca-4a47-a674-5fbaf30991b6",
   "metadata": {},
   "outputs": [],
   "source": []
  },
  {
   "cell_type": "code",
   "execution_count": null,
   "id": "3997908f-a9e0-42c6-b807-34bec142d55c",
   "metadata": {},
   "outputs": [],
   "source": []
  },
  {
   "cell_type": "code",
   "execution_count": null,
   "id": "e957ba18-20d0-44ec-a477-3ce89b60c9ce",
   "metadata": {},
   "outputs": [],
   "source": []
  },
  {
   "cell_type": "code",
   "execution_count": null,
   "id": "b041e33e-e124-4e06-892e-e039aa1b0d2a",
   "metadata": {},
   "outputs": [],
   "source": []
  },
  {
   "cell_type": "code",
   "execution_count": null,
   "id": "1ccc66c7-2d1d-4fe4-a3be-437a9b66f198",
   "metadata": {},
   "outputs": [],
   "source": []
  },
  {
   "cell_type": "code",
   "execution_count": null,
   "id": "b7b3946d-d356-4f58-8a2d-c0aba6759df5",
   "metadata": {},
   "outputs": [],
   "source": []
  },
  {
   "cell_type": "code",
   "execution_count": null,
   "id": "2e8db775-5db9-4ab6-85e7-9cc5a1ecd717",
   "metadata": {},
   "outputs": [],
   "source": []
  },
  {
   "cell_type": "code",
   "execution_count": null,
   "id": "f7e381a4-8ca3-4700-a74a-c3c2028b2c67",
   "metadata": {},
   "outputs": [],
   "source": []
  },
  {
   "cell_type": "code",
   "execution_count": null,
   "id": "aeb42112-0ec1-462d-bb0d-b7bf19857f6e",
   "metadata": {},
   "outputs": [],
   "source": []
  },
  {
   "cell_type": "code",
   "execution_count": null,
   "id": "a72a71fc-5e66-4763-9083-a17ebd42d13c",
   "metadata": {},
   "outputs": [],
   "source": []
  },
  {
   "cell_type": "code",
   "execution_count": null,
   "id": "9cfc27b5-11ae-48c8-ab9a-7648127e072e",
   "metadata": {},
   "outputs": [],
   "source": []
  },
  {
   "cell_type": "code",
   "execution_count": null,
   "id": "a2b71a41-32a6-4e46-be46-8607682539a7",
   "metadata": {},
   "outputs": [],
   "source": []
  },
  {
   "cell_type": "code",
   "execution_count": null,
   "id": "d49301f3-e737-4d38-852c-2bcec9a18644",
   "metadata": {},
   "outputs": [],
   "source": []
  }
 ],
 "metadata": {
  "kernelspec": {
   "display_name": "Python 3 (ipykernel)",
   "language": "python",
   "name": "python3"
  },
  "language_info": {
   "codemirror_mode": {
    "name": "ipython",
    "version": 3
   },
   "file_extension": ".py",
   "mimetype": "text/x-python",
   "name": "python",
   "nbconvert_exporter": "python",
   "pygments_lexer": "ipython3",
   "version": "3.10.8"
  }
 },
 "nbformat": 4,
 "nbformat_minor": 5
}
