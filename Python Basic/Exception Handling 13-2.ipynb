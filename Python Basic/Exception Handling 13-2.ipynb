{
 "cells": [
  {
   "cell_type": "markdown",
   "id": "91e6555e-91fa-4e50-af9a-888bdd421fa1",
   "metadata": {
    "jp-MarkdownHeadingCollapsed": true,
    "tags": []
   },
   "source": [
    "### List Of General Use Exceptions"
   ]
  },
  {
   "cell_type": "code",
   "execution_count": 1,
   "id": "d789a4d1-f59c-4d2d-87bf-bdf4eea649cd",
   "metadata": {},
   "outputs": [
    {
     "name": "stdout",
     "output_type": "stream",
     "text": [
      "division by zero\n"
     ]
    }
   ],
   "source": [
    "try :\n",
    "    a= 10\n",
    "    a/0\n",
    "except ZeroDivisionError as e:\n",
    "    print(e)"
   ]
  },
  {
   "cell_type": "code",
   "execution_count": 2,
   "id": "2bc0544c-a63d-43d7-bc0e-916ada920979",
   "metadata": {},
   "outputs": [
    {
     "name": "stdout",
     "output_type": "stream",
     "text": [
      "invalid literal for int() with base 10: 'sudh'\n"
     ]
    }
   ],
   "source": [
    "try :\n",
    "    a= int(\"sudh\")\n",
    "except (ValueError,TypeError) as e:\n",
    "    print(e)"
   ]
  },
  {
   "cell_type": "code",
   "execution_count": 6,
   "id": "cc02e208-06f7-4012-a320-2b4e05733a64",
   "metadata": {},
   "outputs": [
    {
     "name": "stdout",
     "output_type": "stream",
     "text": [
      "there ia a error in 'a' \n"
     ]
    }
   ],
   "source": [
    "try :\n",
    "    a= int(\"sudh\")\n",
    "except :## always try to mention the error if you don't know the error type then and only then use this method\n",
    "    print(\"there ia a error in 'a' \")## when we did not know which kind of error is coming then we can print our own massage"
   ]
  },
  {
   "cell_type": "code",
   "execution_count": 7,
   "id": "bdce86be-cc75-4f45-acec-b0788fff4d5a",
   "metadata": {},
   "outputs": [
    {
     "name": "stdout",
     "output_type": "stream",
     "text": [
      "No module named 'namit'\n"
     ]
    }
   ],
   "source": [
    "try:\n",
    "    import namit\n",
    "except ImportError as e:\n",
    "    print(e)"
   ]
  },
  {
   "cell_type": "code",
   "execution_count": 8,
   "id": "0b71cd2e-0dcb-4744-96d4-d9b5e651f5e6",
   "metadata": {},
   "outputs": [
    {
     "name": "stdout",
     "output_type": "stream",
     "text": [
      "'key10'\n"
     ]
    }
   ],
   "source": [
    "try:\n",
    "    d = {1:[1,2,3,4,56],\"key\":\"sudh\"}\n",
    "    d[\"key10\"]\n",
    "except KeyError as e:\n",
    "    print(e)"
   ]
  },
  {
   "cell_type": "code",
   "execution_count": 9,
   "id": "272adb84-1edd-4f3e-a2d4-8af0bc4193bf",
   "metadata": {},
   "outputs": [
    {
     "name": "stdout",
     "output_type": "stream",
     "text": [
      "'str' object has no attribute 'test'\n"
     ]
    }
   ],
   "source": [
    "try:\n",
    "    \"sudh\".test()\n",
    "except AttributeError as e:\n",
    "    print(e)"
   ]
  },
  {
   "cell_type": "code",
   "execution_count": 11,
   "id": "07b1277d-dff1-49fa-b839-465b30200689",
   "metadata": {},
   "outputs": [
    {
     "name": "stdout",
     "output_type": "stream",
     "text": [
      "list index out of range\n"
     ]
    }
   ],
   "source": [
    "try:\n",
    "    l=[1,2,3,46,5]\n",
    "    l[10]\n",
    "except IndexError as e:\n",
    "    print(e)"
   ]
  },
  {
   "cell_type": "code",
   "execution_count": 13,
   "id": "f1d1d149-d761-4d54-970d-695003168549",
   "metadata": {},
   "outputs": [
    {
     "name": "stdout",
     "output_type": "stream",
     "text": [
      "unsupported operand type(s) for +: 'int' and 'str'\n"
     ]
    }
   ],
   "source": [
    "try:\n",
    "    123 + \"namit\"\n",
    "except TypeError as e:\n",
    "    print(e)"
   ]
  },
  {
   "cell_type": "code",
   "execution_count": 14,
   "id": "92a1dcda-1f3e-44a1-9aa4-aa68b42508fa",
   "metadata": {},
   "outputs": [
    {
     "name": "stdout",
     "output_type": "stream",
     "text": [
      "[Errno 2] No such file or directory: 'test.txt'\n"
     ]
    }
   ],
   "source": [
    "try :\n",
    "    with open (\"test.txt\",\"r\")as f:\n",
    "        f.read()\n",
    "except FileNotFoundError as e :\n",
    "    print(e)"
   ]
  },
  {
   "cell_type": "code",
   "execution_count": 17,
   "id": "d20591e9-158b-4436-b257-d40a089777d0",
   "metadata": {},
   "outputs": [
    {
     "name": "stdout",
     "output_type": "stream",
     "text": [
      "test [Errno 2] No such file or directory: 'test.txt'\n"
     ]
    }
   ],
   "source": [
    "try :\n",
    "    with open (\"test.txt\",\"r\")as f:\n",
    "        f.read()\n",
    "## super class always use at end you must try to enter  errortypr which is comming by user        \n",
    "except Exception as e:### Exception is a superclass for a error which inculdes all type of error so we did not need to remember all types of error\n",
    "    print(\"test\",e)\n",
    "except FileNotFoundError as e :### this will hot going to execute beacuse of Exception\n",
    "    print(\"this is my file not found type of error\",e)"
   ]
  },
  {
   "cell_type": "code",
   "execution_count": 18,
   "id": "053b945d-6f90-48bd-8c68-9e57c400641b",
   "metadata": {},
   "outputs": [
    {
     "name": "stdout",
     "output_type": "stream",
     "text": [
      "this is my file not found type of error [Errno 2] No such file or directory: 'test.txt'\n"
     ]
    }
   ],
   "source": [
    "#proper way\n",
    "try :\n",
    "    with open (\"test.txt\",\"r\")as f:\n",
    "        f.read()\n",
    "except FileNotFoundError as e:\n",
    "    print(\"this is my file not found type of error\",e)\n",
    "except Exception as e:  \n",
    "     print(\"test\",e)"
   ]
  },
  {
   "cell_type": "code",
   "execution_count": 21,
   "id": "f92fea5b-834c-4016-814c-718f755938dc",
   "metadata": {},
   "outputs": [],
   "source": [
    "def test1(file):\n",
    "    try :\n",
    "        with open (\"test.txt\",\"r\")as f:\n",
    "            f.read()\n",
    "    except FileNotFoundError as e:\n",
    "        print(\"this is my file not found type of error\",e)\n",
    "    except Exception as e:  \n",
    "        print(\"test\",e)"
   ]
  },
  {
   "cell_type": "markdown",
   "id": "79ecd5a0-ba43-464f-bd82-e2708c1427ec",
   "metadata": {},
   "source": [
    "### Best Practice Exception Handling"
   ]
  },
  {
   "cell_type": "code",
   "execution_count": 1,
   "id": "842cd627-cb25-4cb0-a096-d0f9c0dd2f72",
   "metadata": {},
   "outputs": [],
   "source": [
    "### use always a specific Exceptionn"
   ]
  },
  {
   "cell_type": "code",
   "execution_count": 3,
   "id": "c0a26699-ff85-4db8-a84c-8a4070ca1989",
   "metadata": {},
   "outputs": [
    {
     "name": "stdout",
     "output_type": "stream",
     "text": [
      "division by zero\n"
     ]
    }
   ],
   "source": [
    "try:### this way is not a right way to write a proper code in industry\n",
    "    10/0\n",
    "except Exception as e:## you should not use exception always\n",
    "    print(e)"
   ]
  },
  {
   "cell_type": "code",
   "execution_count": 5,
   "id": "7c0b474b-d0a7-4dbc-8c12-0e6e106fab78",
   "metadata": {},
   "outputs": [
    {
     "name": "stdout",
     "output_type": "stream",
     "text": [
      "division by zero\n"
     ]
    }
   ],
   "source": [
    "try:\n",
    "    10/0\n",
    "except ZeroDivisionError as e:## try to use proper or specific type of error which can be occur\n",
    "    print(e)"
   ]
  },
  {
   "cell_type": "code",
   "execution_count": 7,
   "id": "e38e3160-c21c-4763-b4ea-bee46a8e128b",
   "metadata": {},
   "outputs": [
    {
     "name": "stdout",
     "output_type": "stream",
     "text": [
      "This is Zerodivision error division by zero\n"
     ]
    }
   ],
   "source": [
    "## provide a proper message in a except\n",
    "try :\n",
    "    10/0\n",
    "except ZeroDivisionError as e:\n",
    "    print(\"This is Zerodivision error\",e)"
   ]
  },
  {
   "cell_type": "code",
   "execution_count": 12,
   "id": "ec42c6e5-67c4-41d1-b2f7-09d9054c164d",
   "metadata": {},
   "outputs": [],
   "source": [
    "# always try to log instesd of print beacase as we know print is wrriten inside the console and log wrritten into file'\n",
    "import logging\n",
    "logging.basicConfig(filename=\"error.log\",level=logging.DEBUG)\n",
    "try :\n",
    "    10/0\n",
    "except ZeroDivisionError as e:\n",
    "    logging.error(\"This is Zerodivision error{}\".format(e))"
   ]
  },
  {
   "cell_type": "code",
   "execution_count": 2,
   "id": "28db8c21-7961-4244-ad6c-70f55e855c87",
   "metadata": {},
   "outputs": [
    {
     "name": "stdout",
     "output_type": "stream",
     "text": [
      "division by zero\n"
     ]
    }
   ],
   "source": [
    "## try to avoid to write multiple exception handling\n",
    "try:\n",
    "    10/0\n",
    "except FileNotFoundError as e:### try to avoid unneccssary error \n",
    "    print(e)\n",
    "except AttributeError as e:### do not write error which is not related to our code\n",
    "    print(e)\n",
    "except ZeroDivisionError as e:\n",
    "    print(e)"
   ]
  },
  {
   "cell_type": "code",
   "execution_count": 4,
   "id": "9db4531f-470e-4422-b577-8732eebba8aa",
   "metadata": {},
   "outputs": [],
   "source": [
    "#prepare a proper documentation\n"
   ]
  },
  {
   "cell_type": "code",
   "execution_count": 6,
   "id": "ae18a608-8284-44af-957e-ec46e890bde7",
   "metadata": {},
   "outputs": [],
   "source": [
    "#clean up all the resources\n",
    "try:\n",
    "    with open(\"tst.txt\",\"w\")as f:\n",
    "        f.write(\"this is my trial\")\n",
    "except FileNotFoundError as e:\n",
    "    print(e)\n",
    "finally :\n",
    "    f.close()## what ever you create or open in a code you should close it "
   ]
  },
  {
   "cell_type": "code",
   "execution_count": null,
   "id": "a5c3b2ac-80c8-4181-8430-97da4f8aac9e",
   "metadata": {},
   "outputs": [],
   "source": []
  },
  {
   "cell_type": "code",
   "execution_count": null,
   "id": "398e1b32-b7b7-434b-a91e-1705239c8700",
   "metadata": {},
   "outputs": [],
   "source": []
  },
  {
   "cell_type": "code",
   "execution_count": null,
   "id": "ba5a705b-f251-403f-8c8b-edd599bbb010",
   "metadata": {},
   "outputs": [],
   "source": []
  },
  {
   "cell_type": "code",
   "execution_count": null,
   "id": "73b38baf-f865-4b3c-b92f-c236d5b14f4e",
   "metadata": {},
   "outputs": [],
   "source": []
  },
  {
   "cell_type": "code",
   "execution_count": null,
   "id": "6b5c306a-90ae-49e5-8e65-6cec8e08f913",
   "metadata": {},
   "outputs": [],
   "source": []
  },
  {
   "cell_type": "code",
   "execution_count": null,
   "id": "f01b7b5e-682b-4bb2-b82f-821b1fc599b5",
   "metadata": {},
   "outputs": [],
   "source": []
  },
  {
   "cell_type": "code",
   "execution_count": null,
   "id": "b18f3882-e648-4d43-aa70-23aeecfcc0bd",
   "metadata": {},
   "outputs": [],
   "source": []
  },
  {
   "cell_type": "code",
   "execution_count": null,
   "id": "7ee59c2b-b961-4aac-94b6-929c9596a573",
   "metadata": {},
   "outputs": [],
   "source": []
  },
  {
   "cell_type": "code",
   "execution_count": null,
   "id": "85401402-0c83-43aa-af8c-4f339453dbec",
   "metadata": {},
   "outputs": [],
   "source": []
  },
  {
   "cell_type": "code",
   "execution_count": null,
   "id": "ec42b8f9-c17c-41d4-b287-13a6f443ae1e",
   "metadata": {},
   "outputs": [],
   "source": []
  },
  {
   "cell_type": "code",
   "execution_count": null,
   "id": "41624e6f-1da9-4b00-b3dd-caf19f8c7bfe",
   "metadata": {},
   "outputs": [],
   "source": []
  },
  {
   "cell_type": "code",
   "execution_count": null,
   "id": "748424a3-8ccb-4db9-9f36-2c6c83faf81f",
   "metadata": {},
   "outputs": [],
   "source": []
  },
  {
   "cell_type": "code",
   "execution_count": null,
   "id": "4012edb5-bfa5-4b4a-894e-3d741d9ee64c",
   "metadata": {},
   "outputs": [],
   "source": []
  },
  {
   "cell_type": "code",
   "execution_count": null,
   "id": "4a45b959-c62b-484d-bdb0-226084cf41e0",
   "metadata": {},
   "outputs": [],
   "source": []
  },
  {
   "cell_type": "code",
   "execution_count": null,
   "id": "6a85d889-c498-4f6a-b34f-0112b7903508",
   "metadata": {},
   "outputs": [],
   "source": []
  },
  {
   "cell_type": "code",
   "execution_count": null,
   "id": "f5a8b46a-face-4dbe-b8a3-068aee465f69",
   "metadata": {},
   "outputs": [],
   "source": []
  },
  {
   "cell_type": "code",
   "execution_count": null,
   "id": "7bd17a1d-8119-462f-b74a-562a5f2e2354",
   "metadata": {},
   "outputs": [],
   "source": []
  },
  {
   "cell_type": "code",
   "execution_count": null,
   "id": "4635da98-51df-42e0-9a5d-c812f5478b5a",
   "metadata": {},
   "outputs": [],
   "source": []
  },
  {
   "cell_type": "code",
   "execution_count": null,
   "id": "75823e2b-20dd-45f7-a8cd-5dfc1b653b93",
   "metadata": {},
   "outputs": [],
   "source": []
  },
  {
   "cell_type": "code",
   "execution_count": null,
   "id": "e4c0a4fa-e2c8-46df-bede-bcdbac1e6b76",
   "metadata": {},
   "outputs": [],
   "source": []
  },
  {
   "cell_type": "code",
   "execution_count": null,
   "id": "c7467176-b914-4127-b0cd-9fec1538f67b",
   "metadata": {},
   "outputs": [],
   "source": []
  },
  {
   "cell_type": "code",
   "execution_count": null,
   "id": "4ccaadaa-1673-4f37-964a-0587672452f7",
   "metadata": {},
   "outputs": [],
   "source": []
  },
  {
   "cell_type": "code",
   "execution_count": null,
   "id": "fbf9662c-d29f-4917-b667-7f8e1e922880",
   "metadata": {},
   "outputs": [],
   "source": []
  },
  {
   "cell_type": "code",
   "execution_count": null,
   "id": "f3108590-9a06-45ac-9b82-53f5b6308e7c",
   "metadata": {},
   "outputs": [],
   "source": []
  },
  {
   "cell_type": "code",
   "execution_count": null,
   "id": "1d085ab8-b763-44ef-9059-cd5b5f3f4de2",
   "metadata": {},
   "outputs": [],
   "source": []
  },
  {
   "cell_type": "code",
   "execution_count": null,
   "id": "dd14d008-a47e-4e6a-90df-9319b6a4cfb6",
   "metadata": {},
   "outputs": [],
   "source": []
  },
  {
   "cell_type": "code",
   "execution_count": null,
   "id": "f1d72eda-7105-4ea2-9d81-c660ccc93e36",
   "metadata": {},
   "outputs": [],
   "source": []
  },
  {
   "cell_type": "code",
   "execution_count": null,
   "id": "f5088d0c-d6df-4266-b924-079b606878fd",
   "metadata": {},
   "outputs": [],
   "source": []
  },
  {
   "cell_type": "code",
   "execution_count": null,
   "id": "8a41c0b1-7a8e-425d-a10f-0386fa88d1b3",
   "metadata": {},
   "outputs": [],
   "source": []
  },
  {
   "cell_type": "code",
   "execution_count": null,
   "id": "23ddd07e-259a-4bbc-9a8d-ff2da3abc421",
   "metadata": {},
   "outputs": [],
   "source": []
  },
  {
   "cell_type": "code",
   "execution_count": null,
   "id": "e71a9ac8-e365-44bd-ac13-04fa93fe3b26",
   "metadata": {},
   "outputs": [],
   "source": []
  },
  {
   "cell_type": "code",
   "execution_count": null,
   "id": "50d2e23b-33ea-43b8-b03f-508abcb5ba2a",
   "metadata": {},
   "outputs": [],
   "source": []
  },
  {
   "cell_type": "code",
   "execution_count": null,
   "id": "10001fb4-c413-4452-944d-3c9afac8e7db",
   "metadata": {},
   "outputs": [],
   "source": []
  },
  {
   "cell_type": "code",
   "execution_count": null,
   "id": "32c804c8-e8c4-4033-a05d-e9c866422d1e",
   "metadata": {},
   "outputs": [],
   "source": []
  },
  {
   "cell_type": "code",
   "execution_count": null,
   "id": "c7f5c7ea-250b-4ba0-9207-ff439fb19e0e",
   "metadata": {},
   "outputs": [],
   "source": []
  },
  {
   "cell_type": "code",
   "execution_count": null,
   "id": "fa544ba6-82c0-4756-be0b-475a051acc50",
   "metadata": {},
   "outputs": [],
   "source": []
  },
  {
   "cell_type": "code",
   "execution_count": null,
   "id": "26f86009-a7df-43bd-a56a-216eb7efaf07",
   "metadata": {},
   "outputs": [],
   "source": []
  },
  {
   "cell_type": "code",
   "execution_count": null,
   "id": "7ff43c68-d9ea-4152-978f-78db14a2e40a",
   "metadata": {},
   "outputs": [],
   "source": []
  },
  {
   "cell_type": "code",
   "execution_count": null,
   "id": "1850b638-711b-4671-807c-89206e6bc902",
   "metadata": {},
   "outputs": [],
   "source": []
  },
  {
   "cell_type": "code",
   "execution_count": null,
   "id": "bb613954-5f00-462b-b16f-ec80f64d583f",
   "metadata": {},
   "outputs": [],
   "source": []
  },
  {
   "cell_type": "code",
   "execution_count": null,
   "id": "26eb3709-f24f-43dd-987a-b81189ab5672",
   "metadata": {},
   "outputs": [],
   "source": []
  },
  {
   "cell_type": "code",
   "execution_count": null,
   "id": "c31e6a14-204e-4687-9b63-506bffee0099",
   "metadata": {},
   "outputs": [],
   "source": []
  },
  {
   "cell_type": "code",
   "execution_count": null,
   "id": "a577737e-b071-44bf-a4c5-ff7bee8350f4",
   "metadata": {},
   "outputs": [],
   "source": []
  },
  {
   "cell_type": "code",
   "execution_count": null,
   "id": "f552a80e-d7a7-4d75-ae1a-4c851133955a",
   "metadata": {},
   "outputs": [],
   "source": []
  },
  {
   "cell_type": "code",
   "execution_count": null,
   "id": "d1151e77-c56c-49a9-a670-320bc4444b37",
   "metadata": {},
   "outputs": [],
   "source": []
  }
 ],
 "metadata": {
  "kernelspec": {
   "display_name": "Python 3 (ipykernel)",
   "language": "python",
   "name": "python3"
  },
  "language_info": {
   "codemirror_mode": {
    "name": "ipython",
    "version": 3
   },
   "file_extension": ".py",
   "mimetype": "text/x-python",
   "name": "python",
   "nbconvert_exporter": "python",
   "pygments_lexer": "ipython3",
   "version": "3.10.8"
  }
 },
 "nbformat": 4,
 "nbformat_minor": 5
}
