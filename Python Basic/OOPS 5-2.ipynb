{
 "cells": [
  {
   "cell_type": "markdown",
   "id": "a07634fe-e3d7-4542-b329-473a4886c228",
   "metadata": {},
   "source": [
    "### OOPS"
   ]
  },
  {
   "cell_type": "code",
   "execution_count": 2,
   "id": "9f18ec30-976d-4c09-aefa-ffeb67ff0cc9",
   "metadata": {},
   "outputs": [
    {
     "ename": "SyntaxError",
     "evalue": "incomplete input (3527747674.py, line 1)",
     "output_type": "error",
     "traceback": [
      "\u001b[0;36m  Cell \u001b[0;32mIn[2], line 1\u001b[0;36m\u001b[0m\n\u001b[0;31m    class test:\u001b[0m\n\u001b[0m               ^\u001b[0m\n\u001b[0;31mSyntaxError\u001b[0m\u001b[0;31m:\u001b[0m incomplete input\n"
     ]
    }
   ],
   "source": [
    "class test:"
   ]
  },
  {
   "cell_type": "code",
   "execution_count": 3,
   "id": "8f637361-b36b-4198-a8ae-138689b36f03",
   "metadata": {},
   "outputs": [],
   "source": [
    "class test:\n",
    "    pass"
   ]
  },
  {
   "cell_type": "code",
   "execution_count": 5,
   "id": "c72b18ce-a337-450a-a5ee-694e3c382546",
   "metadata": {},
   "outputs": [],
   "source": [
    "a=1"
   ]
  },
  {
   "cell_type": "code",
   "execution_count": 12,
   "id": "50fcf1ce-e41a-43b2-be94-1cc350d50b37",
   "metadata": {},
   "outputs": [],
   "source": [
    "a=test() ### a is a object or a variable\n"
   ]
  },
  {
   "cell_type": "code",
   "execution_count": 11,
   "id": "30c2dcc1-222f-42a2-975e-26d663d9f249",
   "metadata": {},
   "outputs": [
    {
     "name": "stdout",
     "output_type": "stream",
     "text": [
      "<class '__main__.test'>\n"
     ]
    }
   ],
   "source": [
    "print(type (a))"
   ]
  },
  {
   "cell_type": "code",
   "execution_count": 27,
   "id": "0079509a-c1fb-48b0-8216-173deb370e24",
   "metadata": {},
   "outputs": [],
   "source": [
    "class pwskills:\n",
    "    def welcome_msg(self):#### whenever we created  a function inside a classs always remember to write self it can be anything\n",
    "        print(\"wllcome to pwskills\")"
   ]
  },
  {
   "cell_type": "code",
   "execution_count": 22,
   "id": "989976d6-9d18-4464-8326-492ecba3dd5d",
   "metadata": {},
   "outputs": [],
   "source": [
    "rohan = pwskills()"
   ]
  },
  {
   "cell_type": "code",
   "execution_count": 29,
   "id": "d9b3a224-072d-4635-b21b-3f80032554e5",
   "metadata": {},
   "outputs": [
    {
     "name": "stdout",
     "output_type": "stream",
     "text": [
      "wllcome to pwskills\n"
     ]
    }
   ],
   "source": [
    "rohan.welcome_msg()"
   ]
  },
  {
   "cell_type": "code",
   "execution_count": 27,
   "id": "3c6cc6de-0c73-427e-878a-a4e85b757cd7",
   "metadata": {},
   "outputs": [],
   "source": [
    "sohan = pwskills()"
   ]
  },
  {
   "cell_type": "code",
   "execution_count": 30,
   "id": "651263d2-9a5f-4baa-a3b8-2cd561fa7445",
   "metadata": {},
   "outputs": [
    {
     "name": "stdout",
     "output_type": "stream",
     "text": [
      "wllcome to pwskills\n"
     ]
    }
   ],
   "source": [
    "sohan.welcome_msg()"
   ]
  },
  {
   "cell_type": "code",
   "execution_count": 31,
   "id": "fe37532b-4b66-4dc2-9441-9e9d63e4ce56",
   "metadata": {},
   "outputs": [],
   "source": [
    "a=1"
   ]
  },
  {
   "cell_type": "code",
   "execution_count": 32,
   "id": "96a2367e-55f1-45fc-9b27-753adc5d595f",
   "metadata": {},
   "outputs": [],
   "source": [
    "b=2"
   ]
  },
  {
   "cell_type": "code",
   "execution_count": 4,
   "id": "2c48df46-28d6-4256-866d-6a7f8290c723",
   "metadata": {},
   "outputs": [],
   "source": [
    "class pwskills1:\n",
    "    def __init__(self,phone_number,email_id,student_id):#### __init__ is a constructor\n",
    "        self.phone_number= phone_number \n",
    "        self.email_id=email_id\n",
    "        self.student_id=student_id\n",
    "    def return_student_details(self):\n",
    "        return self.phone_number,self.email_id,self.student_id"
   ]
  },
  {
   "cell_type": "code",
   "execution_count": 5,
   "id": "584cf97c-8fb6-45b3-9ece-2b961517e365",
   "metadata": {},
   "outputs": [
    {
     "ename": "TypeError",
     "evalue": "pwskills1.__init__() missing 3 required positional arguments: 'phone_number', 'email_id', and 'student_id'",
     "output_type": "error",
     "traceback": [
      "\u001b[0;31m---------------------------------------------------------------------------\u001b[0m",
      "\u001b[0;31mTypeError\u001b[0m                                 Traceback (most recent call last)",
      "Cell \u001b[0;32mIn[5], line 1\u001b[0m\n\u001b[0;32m----> 1\u001b[0m rohan \u001b[38;5;241m=\u001b[39m \u001b[43mpwskills1\u001b[49m\u001b[43m(\u001b[49m\u001b[43m)\u001b[49m \u001b[38;5;66;03m### this error is comes beacuse of __init__ construtor \u001b[39;00m\n\u001b[1;32m      2\u001b[0m \u001b[38;5;66;03m### construtot always takes all in input data while creating a variable\u001b[39;00m\n",
      "\u001b[0;31mTypeError\u001b[0m: pwskills1.__init__() missing 3 required positional arguments: 'phone_number', 'email_id', and 'student_id'"
     ]
    }
   ],
   "source": [
    "rohan = pwskills1() ### this error is comes beacuse of __init__ construtor \n",
    "### construtot always takes all in input data while creating a variable"
   ]
  },
  {
   "cell_type": "code",
   "execution_count": 6,
   "id": "65735172-b092-4319-9573-6d960fe28df1",
   "metadata": {},
   "outputs": [],
   "source": [
    "rohan = pwskills1(5632846532,\"namit@gmail.com\",964521)"
   ]
  },
  {
   "cell_type": "code",
   "execution_count": 8,
   "id": "48e2c885-b8fa-4935-8f32-6cfe7528c557",
   "metadata": {},
   "outputs": [
    {
     "data": {
      "text/plain": [
       "'namit@gmail.com'"
      ]
     },
     "execution_count": 8,
     "metadata": {},
     "output_type": "execute_result"
    }
   ],
   "source": [
    "rohan.email_id"
   ]
  },
  {
   "cell_type": "code",
   "execution_count": 9,
   "id": "6e19cdff-4a1a-4aac-b7a6-d159a4625a3f",
   "metadata": {},
   "outputs": [
    {
     "data": {
      "text/plain": [
       "5632846532"
      ]
     },
     "execution_count": 9,
     "metadata": {},
     "output_type": "execute_result"
    }
   ],
   "source": [
    "rohan.phone_number"
   ]
  },
  {
   "cell_type": "code",
   "execution_count": 10,
   "id": "bbb837e3-fd71-4a7b-9ee7-0b219f752c07",
   "metadata": {},
   "outputs": [
    {
     "data": {
      "text/plain": [
       "964521"
      ]
     },
     "execution_count": 10,
     "metadata": {},
     "output_type": "execute_result"
    }
   ],
   "source": [
    "rohan.student_id"
   ]
  },
  {
   "cell_type": "code",
   "execution_count": 14,
   "id": "ad711d79-d2e2-4dcd-af04-75f29a2d404b",
   "metadata": {},
   "outputs": [
    {
     "data": {
      "text/plain": [
       "(5632846532, 'namit@gmail.com', 964521)"
      ]
     },
     "execution_count": 14,
     "metadata": {},
     "output_type": "execute_result"
    }
   ],
   "source": [
    "rohan.return_student_details()"
   ]
  },
  {
   "cell_type": "code",
   "execution_count": 15,
   "id": "71c919ac-bf4b-41e6-860a-d00cda5e4c48",
   "metadata": {},
   "outputs": [],
   "source": [
    "sohan=pwskills1(563.2941,\"wh7dushijkz\",95623)"
   ]
  },
  {
   "cell_type": "code",
   "execution_count": 16,
   "id": "734f80aa-3bce-4929-8442-ec0e9e9f0fab",
   "metadata": {},
   "outputs": [],
   "source": [
    "class pwskills2:\n",
    "    def __init__(namit,phone_number,email_id,student_id):#### __init__ is a constructor\n",
    "        namit.phone_number= phone_number \n",
    "        namit.email_id=email_id\n",
    "        namit.student_id=student_id\n",
    "    def return_student_details(namit):\n",
    "        return namit.phone_number,namit.email_id,namit.student_id"
   ]
  },
  {
   "cell_type": "code",
   "execution_count": 19,
   "id": "c456b63f-65b7-49ff-9ba0-115c209a78f0",
   "metadata": {},
   "outputs": [],
   "source": [
    "mohan=pwskills2(5412946,\"mohan@gmail.com\",96523)"
   ]
  },
  {
   "cell_type": "code",
   "execution_count": 20,
   "id": "6ee11cf4-f7d9-4903-bba3-ba6f0ce5bcb0",
   "metadata": {},
   "outputs": [
    {
     "data": {
      "text/plain": [
       "5412946"
      ]
     },
     "execution_count": 20,
     "metadata": {},
     "output_type": "execute_result"
    }
   ],
   "source": [
    "mohan.phone_number"
   ]
  },
  {
   "cell_type": "code",
   "execution_count": 21,
   "id": "3ac6956a-b3f8-4603-9fc8-7349c4120958",
   "metadata": {},
   "outputs": [
    {
     "data": {
      "text/plain": [
       "'mohan@gmail.com'"
      ]
     },
     "execution_count": 21,
     "metadata": {},
     "output_type": "execute_result"
    }
   ],
   "source": [
    "mohan.email_id"
   ]
  },
  {
   "cell_type": "code",
   "execution_count": 23,
   "id": "a245d6ca-a054-4339-ac8b-d0bcb2b56e25",
   "metadata": {},
   "outputs": [
    {
     "data": {
      "text/plain": [
       "(5412946, 'mohan@gmail.com', 96523)"
      ]
     },
     "execution_count": 23,
     "metadata": {},
     "output_type": "execute_result"
    }
   ],
   "source": [
    "mohan.return_student_details()"
   ]
  },
  {
   "cell_type": "code",
   "execution_count": 30,
   "id": "bc255585-66a1-46e3-a4da-0f92d257f577",
   "metadata": {},
   "outputs": [],
   "source": [
    "class pwskills3:\n",
    "    def __init__(self,phone_number,email_id,student_id):#### __init__ is a constructor\n",
    "        self.phone_number= phone_number \n",
    "        self.email_id=email_id\n",
    "        self.student_id=student_id\n",
    "        \n",
    "        \n",
    "    def return_student_details(self):\n",
    "        return self.phone_number,self.email_id,self.student_id"
   ]
  },
  {
   "cell_type": "code",
   "execution_count": 31,
   "id": "87b80489-cfa4-4397-9471-5235fd89c7f7",
   "metadata": {},
   "outputs": [],
   "source": [
    "rohan=pwskills3(956329562,\"namit@gmail.com\",5685)"
   ]
  },
  {
   "cell_type": "code",
   "execution_count": 21,
   "id": "822739b8-3055-4102-b34c-c8c9318b6635",
   "metadata": {},
   "outputs": [],
   "source": [
    "class pwskills4:\n",
    "    def __init__(self,phone_number,email_id,student_id):#### __init__ is a constructor\n",
    "        self.phone_numbe= phone_number \n",
    "        self.email_id=email_id\n",
    "        self.student_id=student_id"
   ]
  },
  {
   "cell_type": "code",
   "execution_count": 22,
   "id": "2c0bf1bc-a608-4e9c-9cd5-89d13992f2f8",
   "metadata": {},
   "outputs": [],
   "source": [
    "hon=pwskills4(56230,\"h8iw\",2623)"
   ]
  },
  {
   "cell_type": "code",
   "execution_count": 23,
   "id": "22649797-f34c-480e-8bca-9f545d841cea",
   "metadata": {},
   "outputs": [
    {
     "data": {
      "text/plain": [
       "56230"
      ]
     },
     "execution_count": 23,
     "metadata": {},
     "output_type": "execute_result"
    }
   ],
   "source": [
    "hon.phone_numbe"
   ]
  },
  {
   "cell_type": "code",
   "execution_count": null,
   "id": "65c5c86c-7ee5-46fe-b1dc-9b68b7e8f969",
   "metadata": {},
   "outputs": [],
   "source": []
  }
 ],
 "metadata": {
  "kernelspec": {
   "display_name": "Python 3 (ipykernel)",
   "language": "python",
   "name": "python3"
  },
  "language_info": {
   "codemirror_mode": {
    "name": "ipython",
    "version": 3
   },
   "file_extension": ".py",
   "mimetype": "text/x-python",
   "name": "python",
   "nbconvert_exporter": "python",
   "pygments_lexer": "ipython3",
   "version": "3.10.8"
  }
 },
 "nbformat": 4,
 "nbformat_minor": 5
}
