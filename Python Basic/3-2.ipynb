{
 "cells": [
  {
   "cell_type": "code",
   "execution_count": null,
   "id": "35a8b956-3a03-4de9-b6e5-09363ef3fda0",
   "metadata": {},
   "outputs": [],
   "source": [
    "def ## it is used to call a function"
   ]
  },
  {
   "cell_type": "code",
   "execution_count": 9,
   "id": "2b8de0da-e055-4d4f-a047-96d4f2c0e815",
   "metadata": {},
   "outputs": [
    {
     "ename": "SyntaxError",
     "evalue": "incomplete input (3861551224.py, line 1)",
     "output_type": "error",
     "traceback": [
      "\u001b[0;36m  Cell \u001b[0;32mIn[9], line 1\u001b[0;36m\u001b[0m\n\u001b[0;31m    def test():\u001b[0m\n\u001b[0m               ^\u001b[0m\n\u001b[0;31mSyntaxError\u001b[0m\u001b[0;31m:\u001b[0m incomplete input\n"
     ]
    }
   ],
   "source": [
    "def test(): ### not given a direction to a fun"
   ]
  },
  {
   "cell_type": "code",
   "execution_count": 12,
   "id": "bf932424-2504-48d7-9c29-423571eb465c",
   "metadata": {},
   "outputs": [],
   "source": [
    "def test():\n",
    "    pass"
   ]
  },
  {
   "cell_type": "code",
   "execution_count": 18,
   "id": "776a36e7-bf89-46d5-85bd-0f9820f5a9a6",
   "metadata": {},
   "outputs": [],
   "source": [
    "def test1():\n",
    "    print(\"this is my first function\")### defining a function with its work. give a commands to a function to do specified work"
   ]
  },
  {
   "cell_type": "code",
   "execution_count": 19,
   "id": "ad709e7b-7374-4d33-9473-0c4897df0d01",
   "metadata": {},
   "outputs": [
    {
     "name": "stdout",
     "output_type": "stream",
     "text": [
      "this is my first function\n"
     ]
    }
   ],
   "source": [
    "test1()"
   ]
  },
  {
   "cell_type": "code",
   "execution_count": 21,
   "id": "0ae9d582-3c44-4a90-a5a9-13403cb91c4d",
   "metadata": {},
   "outputs": [
    {
     "name": "stdout",
     "output_type": "stream",
     "text": [
      "this is my first function\n"
     ]
    },
    {
     "ename": "TypeError",
     "evalue": "unsupported operand type(s) for +: 'NoneType' and 'str'",
     "output_type": "error",
     "traceback": [
      "\u001b[0;31m---------------------------------------------------------------------------\u001b[0m",
      "\u001b[0;31mTypeError\u001b[0m                                 Traceback (most recent call last)",
      "Cell \u001b[0;32mIn[21], line 1\u001b[0m\n\u001b[0;32m----> 1\u001b[0m \u001b[43mtest1\u001b[49m\u001b[43m(\u001b[49m\u001b[43m)\u001b[49m\u001b[43m \u001b[49m\u001b[38;5;241;43m+\u001b[39;49m\u001b[43m \u001b[49m\u001b[38;5;124;43m\"\u001b[39;49m\u001b[38;5;124;43mnamit\u001b[39;49m\u001b[38;5;124;43m\"\u001b[39;49m\n",
      "\u001b[0;31mTypeError\u001b[0m: unsupported operand type(s) for +: 'NoneType' and 'str'"
     ]
    }
   ],
   "source": [
    "test1() + \"namit\""
   ]
  },
  {
   "cell_type": "markdown",
   "id": "cea5cdad-0590-4f1e-9c7a-531668a58cd1",
   "metadata": {},
   "source": [
    "Always use return do not use print"
   ]
  },
  {
   "cell_type": "code",
   "execution_count": 24,
   "id": "0ac826ad-4f1a-48f9-9880-ecc61018f9e6",
   "metadata": {},
   "outputs": [],
   "source": [
    "def test2():\n",
    "    return \"namit sunil \"   ####it writes a given and it has ability to perform operations of concenations(+,-,*,/)"
   ]
  },
  {
   "cell_type": "code",
   "execution_count": 25,
   "id": "50453e94-bf8d-4f11-8a7e-d8a0e67ac947",
   "metadata": {},
   "outputs": [
    {
     "data": {
      "text/plain": [
       "'namit sunil chaudhari'"
      ]
     },
     "execution_count": 25,
     "metadata": {},
     "output_type": "execute_result"
    }
   ],
   "source": [
    "test2() + \"chaudhari\""
   ]
  },
  {
   "cell_type": "code",
   "execution_count": 26,
   "id": "59eb2cfd-d59b-4e8f-91f1-2781e5808ef5",
   "metadata": {},
   "outputs": [
    {
     "ename": "TypeError",
     "evalue": "can only concatenate str (not \"tuple\") to str",
     "output_type": "error",
     "traceback": [
      "\u001b[0;31m---------------------------------------------------------------------------\u001b[0m",
      "\u001b[0;31mTypeError\u001b[0m                                 Traceback (most recent call last)",
      "Cell \u001b[0;32mIn[26], line 1\u001b[0m\n\u001b[0;32m----> 1\u001b[0m \u001b[43mtest2\u001b[49m\u001b[43m(\u001b[49m\u001b[43m)\u001b[49m\u001b[43m \u001b[49m\u001b[38;5;241;43m+\u001b[39;49m\u001b[43m \u001b[49m\u001b[43m(\u001b[49m\u001b[38;5;124;43m\"\u001b[39;49m\u001b[38;5;124;43mchaudhari\u001b[39;49m\u001b[38;5;124;43m\"\u001b[39;49m\u001b[43m,\u001b[49m\u001b[38;5;241;43m412698\u001b[39;49m\u001b[43m,\u001b[49m\u001b[38;5;241;43m858\u001b[39;49m\u001b[43m)\u001b[49m\n",
      "\u001b[0;31mTypeError\u001b[0m: can only concatenate str (not \"tuple\") to str"
     ]
    }
   ],
   "source": [
    "test2() + (\"chaudhari\",412698,858)"
   ]
  },
  {
   "cell_type": "code",
   "execution_count": 27,
   "id": "faa87801-7065-4464-aacd-0bca98a9439d",
   "metadata": {},
   "outputs": [
    {
     "ename": "TypeError",
     "evalue": "can only concatenate str (not \"list\") to str",
     "output_type": "error",
     "traceback": [
      "\u001b[0;31m---------------------------------------------------------------------------\u001b[0m",
      "\u001b[0;31mTypeError\u001b[0m                                 Traceback (most recent call last)",
      "Cell \u001b[0;32mIn[27], line 1\u001b[0m\n\u001b[0;32m----> 1\u001b[0m \u001b[43mtest2\u001b[49m\u001b[43m(\u001b[49m\u001b[43m)\u001b[49m\u001b[43m \u001b[49m\u001b[38;5;241;43m+\u001b[39;49m\u001b[43m \u001b[49m\u001b[43m[\u001b[49m\u001b[38;5;241;43m1\u001b[39;49m\u001b[43m,\u001b[49m\u001b[38;5;241;43m2\u001b[39;49m\u001b[43m,\u001b[49m\u001b[38;5;241;43m3\u001b[39;49m\u001b[43m,\u001b[49m\u001b[38;5;241;43m6\u001b[39;49m\u001b[43m,\u001b[49m\u001b[38;5;241;43m8\u001b[39;49m\u001b[43m]\u001b[49m\n",
      "\u001b[0;31mTypeError\u001b[0m: can only concatenate str (not \"list\") to str"
     ]
    }
   ],
   "source": [
    "test2() + [1,2,3,6,8]"
   ]
  },
  {
   "cell_type": "code",
   "execution_count": 28,
   "id": "9f8e4f76-b6f3-4126-b13b-d2a5e57441fd",
   "metadata": {},
   "outputs": [
    {
     "ename": "TypeError",
     "evalue": "unsupported operand type(s) for +: 'function' and 'set'",
     "output_type": "error",
     "traceback": [
      "\u001b[0;31m---------------------------------------------------------------------------\u001b[0m",
      "\u001b[0;31mTypeError\u001b[0m                                 Traceback (most recent call last)",
      "Cell \u001b[0;32mIn[28], line 1\u001b[0m\n\u001b[0;32m----> 1\u001b[0m \u001b[43mtest2\u001b[49m\u001b[43m \u001b[49m\u001b[38;5;241;43m+\u001b[39;49m\u001b[43m \u001b[49m\u001b[43m{\u001b[49m\u001b[38;5;241;43m1\u001b[39;49m\u001b[43m,\u001b[49m\u001b[38;5;241;43m2\u001b[39;49m\u001b[43m,\u001b[49m\u001b[38;5;241;43m3\u001b[39;49m\u001b[43m,\u001b[49m\u001b[38;5;241;43m8\u001b[39;49m\u001b[43m,\u001b[49m\u001b[38;5;241;43m898\u001b[39;49m\u001b[43m}\u001b[49m\n",
      "\u001b[0;31mTypeError\u001b[0m: unsupported operand type(s) for +: 'function' and 'set'"
     ]
    }
   ],
   "source": [
    "test2 + {1,2,3,8,898}"
   ]
  },
  {
   "cell_type": "code",
   "execution_count": 29,
   "id": "c1973369-5db2-438f-8f93-4b21a032a818",
   "metadata": {},
   "outputs": [],
   "source": [
    "def test3():\n",
    "    return 1,2.33,\"namit\""
   ]
  },
  {
   "cell_type": "code",
   "execution_count": 30,
   "id": "c2fce7bc-d69c-42bb-9758-df14bd6d4a76",
   "metadata": {},
   "outputs": [
    {
     "data": {
      "text/plain": [
       "(1, 2.33, 'namit')"
      ]
     },
     "execution_count": 30,
     "metadata": {},
     "output_type": "execute_result"
    }
   ],
   "source": [
    "test3()"
   ]
  },
  {
   "cell_type": "code",
   "execution_count": 10,
   "id": "abbe1589-5ffa-4541-ba05-8ccc58bb7573",
   "metadata": {},
   "outputs": [],
   "source": [
    "a=1,2,3,8,9"
   ]
  },
  {
   "cell_type": "code",
   "execution_count": 11,
   "id": "331c96c7-06e7-4abf-baf9-97a9d218757c",
   "metadata": {},
   "outputs": [
    {
     "data": {
      "text/plain": [
       "(1, 2, 3, 8, 9)"
      ]
     },
     "execution_count": 11,
     "metadata": {},
     "output_type": "execute_result"
    }
   ],
   "source": [
    "a"
   ]
  },
  {
   "cell_type": "code",
   "execution_count": 33,
   "id": "710c8286-9f3d-487e-aa67-fd2449ea6547",
   "metadata": {},
   "outputs": [],
   "source": [
    "a,b,c,d=1,2,5,3.3366"
   ]
  },
  {
   "cell_type": "code",
   "execution_count": 35,
   "id": "3c7f76a3-09b4-4d4f-a159-7ffa2b59500d",
   "metadata": {},
   "outputs": [
    {
     "data": {
      "text/plain": [
       "2"
      ]
     },
     "execution_count": 35,
     "metadata": {},
     "output_type": "execute_result"
    }
   ],
   "source": [
    "b"
   ]
  },
  {
   "cell_type": "code",
   "execution_count": 37,
   "id": "d1a515c3-e721-4c4a-a507-b7d23ac77b25",
   "metadata": {},
   "outputs": [
    {
     "data": {
      "text/plain": [
       "3.3366"
      ]
     },
     "execution_count": 37,
     "metadata": {},
     "output_type": "execute_result"
    }
   ],
   "source": [
    "d"
   ]
  },
  {
   "cell_type": "code",
   "execution_count": 38,
   "id": "333dea90-6660-44dc-8bb5-c9791b02216a",
   "metadata": {},
   "outputs": [
    {
     "data": {
      "text/plain": [
       "(1, 2)"
      ]
     },
     "execution_count": 38,
     "metadata": {},
     "output_type": "execute_result"
    }
   ],
   "source": [
    "a,b"
   ]
  },
  {
   "cell_type": "code",
   "execution_count": 40,
   "id": "bde27ee9-39cf-477d-872c-fb0f82b154d1",
   "metadata": {},
   "outputs": [
    {
     "data": {
      "text/plain": [
       "(1, 2.33, 'namit')"
      ]
     },
     "execution_count": 40,
     "metadata": {},
     "output_type": "execute_result"
    }
   ],
   "source": [
    "test3()#### outut willbe always in a tuple so we can extract it"
   ]
  },
  {
   "cell_type": "code",
   "execution_count": 41,
   "id": "5eb94edc-8f78-4cd9-a979-14b161d00d3c",
   "metadata": {},
   "outputs": [
    {
     "data": {
      "text/plain": [
       "2.33"
      ]
     },
     "execution_count": 41,
     "metadata": {},
     "output_type": "execute_result"
    }
   ],
   "source": [
    "test3()[1]"
   ]
  },
  {
   "cell_type": "code",
   "execution_count": 42,
   "id": "f80ea4b1-3840-4947-a7c1-102207677e38",
   "metadata": {},
   "outputs": [
    {
     "data": {
      "text/plain": [
       "(1, 2.33, 'namit')"
      ]
     },
     "execution_count": 42,
     "metadata": {},
     "output_type": "execute_result"
    }
   ],
   "source": [
    "test3()"
   ]
  },
  {
   "cell_type": "code",
   "execution_count": 44,
   "id": "b1e5b84e-0c31-4a05-ac77-5e5ba12b8840",
   "metadata": {},
   "outputs": [],
   "source": [
    "a,b,c= test3()"
   ]
  },
  {
   "cell_type": "code",
   "execution_count": 46,
   "id": "22e8536e-4207-4832-b366-b564c6f09ed5",
   "metadata": {},
   "outputs": [
    {
     "data": {
      "text/plain": [
       "'namit'"
      ]
     },
     "execution_count": 46,
     "metadata": {},
     "output_type": "execute_result"
    }
   ],
   "source": [
    "c"
   ]
  },
  {
   "cell_type": "code",
   "execution_count": 47,
   "id": "d67d40ea-d3f4-4622-9781-d332ee740ca0",
   "metadata": {},
   "outputs": [
    {
     "data": {
      "text/plain": [
       "2.33"
      ]
     },
     "execution_count": 47,
     "metadata": {},
     "output_type": "execute_result"
    }
   ],
   "source": [
    "b"
   ]
  },
  {
   "cell_type": "code",
   "execution_count": 48,
   "id": "a2e69d85-4021-4272-982c-06fc4330d1be",
   "metadata": {},
   "outputs": [],
   "source": [
    "def test4():\n",
    "    a=8*56+52\n",
    "    return a"
   ]
  },
  {
   "cell_type": "code",
   "execution_count": 49,
   "id": "f3bf8f9b-e607-4cf5-bfef-ae9c5f7cc2b8",
   "metadata": {},
   "outputs": [
    {
     "data": {
      "text/plain": [
       "500"
      ]
     },
     "execution_count": 49,
     "metadata": {},
     "output_type": "execute_result"
    }
   ],
   "source": [
    "test4()"
   ]
  },
  {
   "cell_type": "code",
   "execution_count": 50,
   "id": "a320decd-85d1-4331-8027-53bcc4c39a18",
   "metadata": {},
   "outputs": [
    {
     "data": {
      "text/plain": [
       "function"
      ]
     },
     "execution_count": 50,
     "metadata": {},
     "output_type": "execute_result"
    }
   ],
   "source": [
    "type(test4)"
   ]
  },
  {
   "cell_type": "code",
   "execution_count": 51,
   "id": "a739eb40-b372-47d9-ae74-af44a77915f4",
   "metadata": {},
   "outputs": [
    {
     "data": {
      "text/plain": [
       "int"
      ]
     },
     "execution_count": 51,
     "metadata": {},
     "output_type": "execute_result"
    }
   ],
   "source": [
    "type(test4())"
   ]
  },
  {
   "cell_type": "code",
   "execution_count": 67,
   "id": "203ab189-b81b-4e97-b65c-c35349f9bbae",
   "metadata": {},
   "outputs": [],
   "source": [
    "def test5(a,b): ### whenever we need some data in function call it inside () with variables it will be any thing \n",
    "    c=a+b\n",
    "    return c"
   ]
  },
  {
   "cell_type": "code",
   "execution_count": 68,
   "id": "ce00eacc-b428-42ec-93fb-a05793713031",
   "metadata": {},
   "outputs": [
    {
     "ename": "TypeError",
     "evalue": "test5() missing 2 required positional arguments: 'a' and 'b'",
     "output_type": "error",
     "traceback": [
      "\u001b[0;31m---------------------------------------------------------------------------\u001b[0m",
      "\u001b[0;31mTypeError\u001b[0m                                 Traceback (most recent call last)",
      "Cell \u001b[0;32mIn[68], line 1\u001b[0m\n\u001b[0;32m----> 1\u001b[0m \u001b[43mtest5\u001b[49m\u001b[43m(\u001b[49m\u001b[43m)\u001b[49m\n",
      "\u001b[0;31mTypeError\u001b[0m: test5() missing 2 required positional arguments: 'a' and 'b'"
     ]
    }
   ],
   "source": [
    "test5()"
   ]
  },
  {
   "cell_type": "code",
   "execution_count": 69,
   "id": "f3a61e39-414c-437b-a9da-eada6e2802f0",
   "metadata": {},
   "outputs": [
    {
     "data": {
      "text/plain": [
       "57"
      ]
     },
     "execution_count": 69,
     "metadata": {},
     "output_type": "execute_result"
    }
   ],
   "source": [
    "test5(5,52)"
   ]
  },
  {
   "cell_type": "code",
   "execution_count": 70,
   "id": "b4edb605-599c-4964-bebe-8b17b4cadd0c",
   "metadata": {},
   "outputs": [
    {
     "data": {
      "text/plain": [
       "'namit chaudhari'"
      ]
     },
     "execution_count": 70,
     "metadata": {},
     "output_type": "execute_result"
    }
   ],
   "source": [
    "test5(\"namit\",\" chaudhari\")"
   ]
  },
  {
   "cell_type": "code",
   "execution_count": 71,
   "id": "b30efdd5-9faf-44ce-8fd8-ecdc9da1db24",
   "metadata": {},
   "outputs": [
    {
     "data": {
      "text/plain": [
       "[1, 2, 3, 4, 5, 6, 7, 8, 9]"
      ]
     },
     "execution_count": 71,
     "metadata": {},
     "output_type": "execute_result"
    }
   ],
   "source": [
    "test5([1,2,3,4],[5,6,7,8,9])"
   ]
  },
  {
   "cell_type": "code",
   "execution_count": 72,
   "id": "868dab5e-0e3f-4cbb-bbc5-7d786fb1890d",
   "metadata": {},
   "outputs": [
    {
     "data": {
      "text/plain": [
       "('namit ', 455, 'chaudharri', 652)"
      ]
     },
     "execution_count": 72,
     "metadata": {},
     "output_type": "execute_result"
    }
   ],
   "source": [
    "test5((\"namit \",455),(\"chaudharri\",652))"
   ]
  },
  {
   "cell_type": "code",
   "execution_count": 78,
   "id": "95c5afc4-17f9-444e-81e1-b421e1d96bd5",
   "metadata": {},
   "outputs": [
    {
     "data": {
      "text/plain": [
       "'chaudhari namit'"
      ]
     },
     "execution_count": 78,
     "metadata": {},
     "output_type": "execute_result"
    }
   ],
   "source": [
    "test5(b=\" namit\",a=\"chaudhari\")"
   ]
  },
  {
   "cell_type": "code",
   "execution_count": 6,
   "id": "631d5e71-a99a-4edd-b164-82068097353d",
   "metadata": {},
   "outputs": [],
   "source": [
    "l=[1,2,3.46532,\"namit\",[6,7,8,9,10]]"
   ]
  },
  {
   "cell_type": "code",
   "execution_count": 15,
   "id": "dff48cbd-4a77-49bd-b893-bae4c90a41cd",
   "metadata": {},
   "outputs": [],
   "source": [
    "##create a function which will take input as a list l and give output as only numeric data in list\n",
    "def test6(a):\n",
    "    n =[]\n",
    "    for i in a :\n",
    "        if type(i)==int or type(i)==float:\n",
    "            n.append(i)\n",
    "    return n\n",
    "    "
   ]
  },
  {
   "cell_type": "code",
   "execution_count": 16,
   "id": "bf54d099-5356-4063-872c-46a86a657f9b",
   "metadata": {},
   "outputs": [
    {
     "data": {
      "text/plain": [
       "[1, 2, 3.46532]"
      ]
     },
     "execution_count": 16,
     "metadata": {},
     "output_type": "execute_result"
    }
   ],
   "source": [
    "test6(l)"
   ]
  },
  {
   "cell_type": "code",
   "execution_count": 18,
   "id": "849fc5d3-1a37-4072-8b83-2cecd4e08f15",
   "metadata": {},
   "outputs": [],
   "source": [
    "def test7(a):\n",
    "    n =[]\n",
    "    for i in a :\n",
    "        if type(i)==list:\n",
    "            n.append(i)\n",
    "    return n\n",
    "    "
   ]
  },
  {
   "cell_type": "code",
   "execution_count": 19,
   "id": "d9ad0c8f-33c0-4125-9c3f-0e3cc02716bc",
   "metadata": {},
   "outputs": [
    {
     "data": {
      "text/plain": [
       "[[6, 7, 8, 9, 10]]"
      ]
     },
     "execution_count": 19,
     "metadata": {},
     "output_type": "execute_result"
    }
   ],
   "source": [
    "test7(l)"
   ]
  },
  {
   "cell_type": "code",
   "execution_count": 20,
   "id": "03dc132c-359e-47b5-90b7-32df809e28d9",
   "metadata": {},
   "outputs": [],
   "source": [
    "def test8(a):\n",
    "    n =[]\n",
    "    for i in a :\n",
    "        if type(i)==int or i%2==0:\n",
    "            n.append(i)\n",
    "    return n"
   ]
  },
  {
   "cell_type": "code",
   "execution_count": null,
   "id": "59bc51e3-187e-43a8-b9f6-beee3e1ec1d1",
   "metadata": {},
   "outputs": [],
   "source": [
    "l1=[1,2,3,4,5,6,7,8,9,10]"
   ]
  },
  {
   "cell_type": "code",
   "execution_count": 14,
   "id": "eaf894a1-95a2-4563-b373-aa4793dbc7a0",
   "metadata": {},
   "outputs": [],
   "source": [
    "def test8(a):\n",
    "    n =[]\n",
    "    for i in a:\n",
    "        if type(i)==int and i%2==0:\n",
    "            n.append(i)\n",
    "    return n"
   ]
  },
  {
   "cell_type": "code",
   "execution_count": 15,
   "id": "99032900-e1a6-47c5-bd97-7c951be178a1",
   "metadata": {},
   "outputs": [
    {
     "data": {
      "text/plain": [
       "[2]"
      ]
     },
     "execution_count": 15,
     "metadata": {},
     "output_type": "execute_result"
    }
   ],
   "source": [
    "test8(l)"
   ]
  },
  {
   "cell_type": "code",
   "execution_count": 16,
   "id": "30303b12-41c4-4e08-9b2d-70b0c7b1024c",
   "metadata": {},
   "outputs": [
    {
     "data": {
      "text/plain": [
       "[2, 4, 6, 8, 10]"
      ]
     },
     "execution_count": 16,
     "metadata": {},
     "output_type": "execute_result"
    }
   ],
   "source": [
    "test8(l1)"
   ]
  },
  {
   "cell_type": "code",
   "execution_count": 32,
   "id": "c94b3248-ea5b-4434-bfbf-297524285c79",
   "metadata": {},
   "outputs": [
    {
     "data": {
      "text/plain": [
       "[1, 2, 3.46532, 'namit', [6, 7, 8, 9, 10]]"
      ]
     },
     "execution_count": 32,
     "metadata": {},
     "output_type": "execute_result"
    }
   ],
   "source": [
    "l"
   ]
  },
  {
   "cell_type": "code",
   "execution_count": 39,
   "id": "d05b633e-dbb9-4aa7-8554-204efd03888a",
   "metadata": {},
   "outputs": [],
   "source": [
    "def test9(a):\n",
    "    n =[]\n",
    "    for i in a:\n",
    "        if type(i)==list:\n",
    "            for j in i:\n",
    "                if type(j)==int or type(j)==float:\n",
    "                    n.append(j)\n",
    "        else :\n",
    "            if type(i)==int or type(i)==float:\n",
    "                n.append(i)\n",
    "    return n"
   ]
  },
  {
   "cell_type": "code",
   "execution_count": 40,
   "id": "ac72874b-0b9b-4f21-9724-9baf006d52fd",
   "metadata": {},
   "outputs": [
    {
     "data": {
      "text/plain": [
       "[1, 2, 3.46532, 6, 7, 8, 9, 10]"
      ]
     },
     "execution_count": 40,
     "metadata": {},
     "output_type": "execute_result"
    }
   ],
   "source": [
    "test9(l)"
   ]
  },
  {
   "cell_type": "code",
   "execution_count": 3,
   "id": "081775b9-8093-44ad-95e0-a4d027cac2d7",
   "metadata": {},
   "outputs": [],
   "source": [
    "def fun(a,b,c,d,e):\n",
    "    pass"
   ]
  },
  {
   "cell_type": "code",
   "execution_count": 4,
   "id": "58e3294b-afc8-499e-b879-a697b5909321",
   "metadata": {},
   "outputs": [
    {
     "ename": "TypeError",
     "evalue": "fun() takes 5 positional arguments but 8 were given",
     "output_type": "error",
     "traceback": [
      "\u001b[0;31m---------------------------------------------------------------------------\u001b[0m",
      "\u001b[0;31mTypeError\u001b[0m                                 Traceback (most recent call last)",
      "Cell \u001b[0;32mIn[4], line 1\u001b[0m\n\u001b[0;32m----> 1\u001b[0m \u001b[43mfun\u001b[49m\u001b[43m(\u001b[49m\u001b[38;5;241;43m1\u001b[39;49m\u001b[43m,\u001b[49m\u001b[38;5;241;43m2\u001b[39;49m\u001b[43m,\u001b[49m\u001b[38;5;241;43m3\u001b[39;49m\u001b[43m,\u001b[49m\u001b[38;5;241;43m6\u001b[39;49m\u001b[43m,\u001b[49m\u001b[38;5;241;43m4\u001b[39;49m\u001b[43m,\u001b[49m\u001b[38;5;241;43m8\u001b[39;49m\u001b[43m,\u001b[49m\u001b[38;5;241;43m69\u001b[39;49m\u001b[43m,\u001b[49m\u001b[38;5;241;43m89\u001b[39;49m\u001b[43m,\u001b[49m\u001b[43m)\u001b[49m\n",
      "\u001b[0;31mTypeError\u001b[0m: fun() takes 5 positional arguments but 8 were given"
     ]
    }
   ],
   "source": [
    "fun(1,2,3,6,4,8,69,89,)"
   ]
  },
  {
   "cell_type": "code",
   "execution_count": 10,
   "id": "34f2ab49-da7a-4fcb-846d-b05404a8e57c",
   "metadata": {},
   "outputs": [],
   "source": [
    "def fun1(*args):#### \"*name_of_arument\"  it use to pass undefined number of variables inside function\n",
    "    return args"
   ]
  },
  {
   "cell_type": "code",
   "execution_count": 11,
   "id": "b7edf3f2-cd25-4b1b-8db7-2a66917d0465",
   "metadata": {},
   "outputs": [
    {
     "data": {
      "text/plain": [
       "(1, 122, 65, 6, 325, 2, 63, 6, 'namit', 23.52)"
      ]
     },
     "execution_count": 11,
     "metadata": {},
     "output_type": "execute_result"
    }
   ],
   "source": [
    "fun1(1,122,65,6,325,2,63,6,\"namit\",23.52)"
   ]
  },
  {
   "cell_type": "code",
   "execution_count": 14,
   "id": "58b8eba8-c79d-491d-8bd4-e7de7c8c631a",
   "metadata": {},
   "outputs": [],
   "source": [
    "def fun2(*namit):##### we can pass any name after '*'\n",
    "    return namit"
   ]
  },
  {
   "cell_type": "code",
   "execution_count": 15,
   "id": "285942ce-53a3-4817-bb0e-5f0a4aede6b2",
   "metadata": {},
   "outputs": [
    {
     "data": {
      "text/plain": [
       "(1, 35.0, 85, 85, 8, 6522, 85, 2)"
      ]
     },
     "execution_count": 15,
     "metadata": {},
     "output_type": "execute_result"
    }
   ],
   "source": [
    "fun2(1,35.,85,85,8,6522,85,2)"
   ]
  },
  {
   "cell_type": "code",
   "execution_count": 16,
   "id": "b14fae18-6e35-4d0e-b555-1a16ff628d2c",
   "metadata": {},
   "outputs": [],
   "source": [
    "def fun3(*args,a):\n",
    "    return args,a"
   ]
  },
  {
   "cell_type": "code",
   "execution_count": 17,
   "id": "77e4b931-ddfc-4358-83cb-65d166dd40d2",
   "metadata": {},
   "outputs": [
    {
     "ename": "TypeError",
     "evalue": "fun3() missing 1 required keyword-only argument: 'a'",
     "output_type": "error",
     "traceback": [
      "\u001b[0;31m---------------------------------------------------------------------------\u001b[0m",
      "\u001b[0;31mTypeError\u001b[0m                                 Traceback (most recent call last)",
      "Cell \u001b[0;32mIn[17], line 1\u001b[0m\n\u001b[0;32m----> 1\u001b[0m \u001b[43mfun3\u001b[49m\u001b[43m(\u001b[49m\u001b[38;5;241;43m1\u001b[39;49m\u001b[43m,\u001b[49m\u001b[38;5;241;43m2\u001b[39;49m\u001b[43m,\u001b[49m\u001b[38;5;241;43m3\u001b[39;49m\u001b[43m,\u001b[49m\u001b[38;5;241;43m5\u001b[39;49m\u001b[43m,\u001b[49m\u001b[38;5;241;43m2\u001b[39;49m\u001b[43m,\u001b[49m\u001b[38;5;241;43m63\u001b[39;49m\u001b[43m,\u001b[49m\u001b[38;5;241;43m6\u001b[39;49m\u001b[43m,\u001b[49m\u001b[38;5;241;43m4\u001b[39;49m\u001b[43m)\u001b[49m\n",
      "\u001b[0;31mTypeError\u001b[0m: fun3() missing 1 required keyword-only argument: 'a'"
     ]
    }
   ],
   "source": [
    "fun3(1,2,3,5,2,63,6,4)"
   ]
  },
  {
   "cell_type": "code",
   "execution_count": 19,
   "id": "88cd17fc-e335-494e-82c6-d25a5ee20057",
   "metadata": {},
   "outputs": [
    {
     "data": {
      "text/plain": [
       "((1, 2, 3, 4, 69, 85, 9, 6), 'namit')"
      ]
     },
     "execution_count": 19,
     "metadata": {},
     "output_type": "execute_result"
    }
   ],
   "source": [
    "fun3(1,2,3,4,69,85,9,6,a=\"namit\")### if we pass a after *name then we need to define a as like a=\"something\""
   ]
  },
  {
   "cell_type": "code",
   "execution_count": 3,
   "id": "082e2756-158d-45e4-9783-bda1acef189f",
   "metadata": {},
   "outputs": [],
   "source": [
    "def fun4(*args):\n",
    "    l=[]\n",
    "    for i in args:\n",
    "        if type(i)==list:\n",
    "            l.append(i)\n",
    "    return l        "
   ]
  },
  {
   "cell_type": "code",
   "execution_count": 5,
   "id": "3c6c9345-0f7c-45b4-96ee-364b2eed52ff",
   "metadata": {},
   "outputs": [
    {
     "data": {
      "text/plain": [
       "[[1, 2, 4, 63], [1, 5, 86, 96]]"
      ]
     },
     "execution_count": 5,
     "metadata": {},
     "output_type": "execute_result"
    }
   ],
   "source": [
    "fun4(1,2,3,5,[1,2,4,63],\"namit\",[1,5,86,96])"
   ]
  },
  {
   "cell_type": "code",
   "execution_count": 1,
   "id": "d2960d87-9c16-4c53-8328-ec1a9236b687",
   "metadata": {},
   "outputs": [],
   "source": [
    "def fun5(**names):###'**' is used to accept n number of key and value pair inside a function\n",
    "    return names"
   ]
  },
  {
   "cell_type": "code",
   "execution_count": 2,
   "id": "355897c0-babd-4ebc-a318-59da28e7785f",
   "metadata": {},
   "outputs": [
    {
     "data": {
      "text/plain": [
       "{}"
      ]
     },
     "execution_count": 2,
     "metadata": {},
     "output_type": "execute_result"
    }
   ],
   "source": [
    "fun5()"
   ]
  },
  {
   "cell_type": "code",
   "execution_count": 4,
   "id": "aabd61c6-16b5-4f0b-b481-708b95220512",
   "metadata": {},
   "outputs": [
    {
     "data": {
      "text/plain": [
       "dict"
      ]
     },
     "execution_count": 4,
     "metadata": {},
     "output_type": "execute_result"
    }
   ],
   "source": [
    "type(fun5())"
   ]
  },
  {
   "cell_type": "code",
   "execution_count": 5,
   "id": "e3a9bd49-8305-435c-8820-9744534c571f",
   "metadata": {},
   "outputs": [
    {
     "data": {
      "text/plain": [
       "{'a': 25, 'b': 56, 'c': [1, 2, 3, 4, 6, 5, 7]}"
      ]
     },
     "execution_count": 5,
     "metadata": {},
     "output_type": "execute_result"
    }
   ],
   "source": [
    "fun5(a=25,b=56,c=[1,2,3,4,6,5,7])"
   ]
  },
  {
   "cell_type": "code",
   "execution_count": 8,
   "id": "d0b2f08d-b1d6-48fb-945a-cbd156b1d8ee",
   "metadata": {},
   "outputs": [],
   "source": [
    "def fun6(**kwargs):\n",
    "    for i in kwargs.keys():\n",
    "        if type(kwargs[i])==list:\n",
    "            return i,kwargs[i]"
   ]
  },
  {
   "cell_type": "code",
   "execution_count": 9,
   "id": "51f754ea-a60b-4c1f-8dd6-af64a69049e8",
   "metadata": {},
   "outputs": [
    {
     "data": {
      "text/plain": [
       "('c', [1, 2, 3, 4, 6, 5, 7])"
      ]
     },
     "execution_count": 9,
     "metadata": {},
     "output_type": "execute_result"
    }
   ],
   "source": [
    "fun6(a=25,b=56,c=[1,2,3,4,6,5,7])"
   ]
  },
  {
   "cell_type": "code",
   "execution_count": 11,
   "id": "f252df7b-78f1-4750-9400-baa95a838902",
   "metadata": {},
   "outputs": [],
   "source": [
    "def fun7(*args,**kwargs):### it means that it will take n number of variables and n number of key value pairs \n",
    "    return args,kwargs"
   ]
  },
  {
   "cell_type": "code",
   "execution_count": 12,
   "id": "9dacfb0b-92ba-476b-b6c7-6f53d0ae00ba",
   "metadata": {},
   "outputs": [
    {
     "data": {
      "text/plain": [
       "((1, 2, 3, 5, 69, 7), {'a': 23, 'b': 'namit'})"
      ]
     },
     "execution_count": 12,
     "metadata": {},
     "output_type": "execute_result"
    }
   ],
   "source": [
    "fun7(1,2,3,5,69,7,a=23,b=\"namit\")"
   ]
  },
  {
   "cell_type": "code",
   "execution_count": 1,
   "id": "0607b5f1-5871-461f-b7bd-45ef7128e5dc",
   "metadata": {},
   "outputs": [],
   "source": [
    "#logic for a functions like range "
   ]
  },
  {
   "cell_type": "markdown",
   "id": "6aedb844-90b7-4e90-8c91-0378feaff9d0",
   "metadata": {},
   "source": [
    "fibonaaci :\n",
    "    0,1,1,2,3,5,8......... like a previose num element+ next numner"
   ]
  },
  {
   "cell_type": "code",
   "execution_count": 2,
   "id": "839e70f3-9c09-48f4-a6e4-2018a1adf8d2",
   "metadata": {},
   "outputs": [],
   "source": [
    "def facc1(n):\n",
    "    a,b=0,1\n",
    "    for i in range(n):\n",
    "        yield a## yeild gives data one by one after calling\n",
    "        a,b = b,a+b\n",
    "        "
   ]
  },
  {
   "cell_type": "code",
   "execution_count": 3,
   "id": "4cb6a173-1907-44b4-a327-9ea7e6626ef8",
   "metadata": {},
   "outputs": [
    {
     "data": {
      "text/plain": [
       "<generator object facc1 at 0x7f67981e5310>"
      ]
     },
     "execution_count": 3,
     "metadata": {},
     "output_type": "execute_result"
    }
   ],
   "source": [
    "facc1(10)"
   ]
  },
  {
   "cell_type": "code",
   "execution_count": 7,
   "id": "330ce821-3b26-41f8-b899-f29f48ea6719",
   "metadata": {},
   "outputs": [
    {
     "name": "stdout",
     "output_type": "stream",
     "text": [
      "0\n",
      "1\n",
      "1\n",
      "2\n",
      "3\n",
      "5\n",
      "8\n",
      "13\n",
      "21\n",
      "34\n"
     ]
    }
   ],
   "source": [
    "for i in facc1(10):\n",
    "    print(i)"
   ]
  },
  {
   "cell_type": "code",
   "execution_count": null,
   "id": "2d61d4dd-72e7-4915-aa43-8deaf3b9ec0c",
   "metadata": {},
   "outputs": [],
   "source": []
  },
  {
   "cell_type": "code",
   "execution_count": null,
   "id": "5274fbda-26b3-4271-992c-f0956b48a9c7",
   "metadata": {},
   "outputs": [],
   "source": []
  },
  {
   "cell_type": "code",
   "execution_count": null,
   "id": "dedfb920-339d-4937-a68c-393104febe77",
   "metadata": {},
   "outputs": [],
   "source": []
  },
  {
   "cell_type": "code",
   "execution_count": null,
   "id": "19df2c44-cea2-4669-af17-6bd704e5aa86",
   "metadata": {},
   "outputs": [],
   "source": []
  },
  {
   "cell_type": "code",
   "execution_count": null,
   "id": "30ee116a-f6dc-409b-ad19-228eac626ddf",
   "metadata": {},
   "outputs": [],
   "source": []
  },
  {
   "cell_type": "code",
   "execution_count": null,
   "id": "ce0f901b-0f40-4746-ae46-63dbca422ff2",
   "metadata": {},
   "outputs": [],
   "source": []
  },
  {
   "cell_type": "code",
   "execution_count": null,
   "id": "1b25f80c-786b-4c18-9086-cd5c486e5afa",
   "metadata": {},
   "outputs": [],
   "source": []
  },
  {
   "cell_type": "code",
   "execution_count": null,
   "id": "f07e1b09-8492-410a-aa9f-7c02cdfb955e",
   "metadata": {},
   "outputs": [],
   "source": []
  },
  {
   "cell_type": "code",
   "execution_count": null,
   "id": "cbe41f47-6d48-4ebf-a32f-3ee94c3950ad",
   "metadata": {},
   "outputs": [],
   "source": []
  },
  {
   "cell_type": "code",
   "execution_count": null,
   "id": "1ae3604b-60e7-4b7f-9c62-d658263537d0",
   "metadata": {},
   "outputs": [],
   "source": []
  },
  {
   "cell_type": "code",
   "execution_count": null,
   "id": "26800a59-ff2d-4337-b98a-4a4feab76456",
   "metadata": {},
   "outputs": [],
   "source": []
  },
  {
   "cell_type": "code",
   "execution_count": null,
   "id": "8ef9d49f-bbae-42b5-bba6-d83e0f65c425",
   "metadata": {},
   "outputs": [],
   "source": []
  },
  {
   "cell_type": "code",
   "execution_count": null,
   "id": "961e5fe8-7c6d-4b58-a094-f87a35a32a6d",
   "metadata": {},
   "outputs": [],
   "source": []
  },
  {
   "cell_type": "code",
   "execution_count": null,
   "id": "9ceafda3-ff49-4ba8-acd9-1e6b15bd7f7b",
   "metadata": {},
   "outputs": [],
   "source": []
  },
  {
   "cell_type": "code",
   "execution_count": null,
   "id": "c5069275-9876-49cd-8b16-9afff1b1b1c2",
   "metadata": {},
   "outputs": [],
   "source": []
  },
  {
   "cell_type": "code",
   "execution_count": null,
   "id": "611de2e9-0586-4576-b3b0-37e861f282dd",
   "metadata": {},
   "outputs": [],
   "source": []
  },
  {
   "cell_type": "code",
   "execution_count": null,
   "id": "aad8e316-1105-488c-b63e-11a3b60dd3b2",
   "metadata": {},
   "outputs": [],
   "source": []
  },
  {
   "cell_type": "code",
   "execution_count": null,
   "id": "afee53e7-9d59-48a3-a6d7-65fbf225cdea",
   "metadata": {},
   "outputs": [],
   "source": []
  },
  {
   "cell_type": "code",
   "execution_count": null,
   "id": "636e4783-bc61-4cfd-a675-3348cb02f561",
   "metadata": {},
   "outputs": [],
   "source": []
  }
 ],
 "metadata": {
  "kernelspec": {
   "display_name": "Python 3 (ipykernel)",
   "language": "python",
   "name": "python3"
  },
  "language_info": {
   "codemirror_mode": {
    "name": "ipython",
    "version": 3
   },
   "file_extension": ".py",
   "mimetype": "text/x-python",
   "name": "python",
   "nbconvert_exporter": "python",
   "pygments_lexer": "ipython3",
   "version": "3.10.8"
  }
 },
 "nbformat": 4,
 "nbformat_minor": 5
}
