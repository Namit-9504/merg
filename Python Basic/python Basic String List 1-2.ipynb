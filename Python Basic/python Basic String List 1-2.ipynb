{
 "cells": [
  {
   "cell_type": "code",
   "execution_count": null,
   "id": "458b679a-5da2-446b-9ccd-2a4326bb1ba8",
   "metadata": {},
   "outputs": [],
   "source": [
    "name=\"Namit Sunil Chaudhari\""
   ]
  },
  {
   "cell_type": "code",
   "execution_count": 4,
   "id": "dfdb7916-012e-4dd7-846b-d2e76f016a02",
   "metadata": {},
   "outputs": [
    {
     "data": {
      "text/plain": [
       "<reversed at 0x7f6434798790>"
      ]
     },
     "execution_count": 4,
     "metadata": {},
     "output_type": "execute_result"
    }
   ],
   "source": [
    "reversed(name)"
   ]
  },
  {
   "cell_type": "code",
   "execution_count": 6,
   "id": "3eb11a49-129e-4cc7-941a-8e9802514e34",
   "metadata": {},
   "outputs": [
    {
     "data": {
      "text/plain": [
       "'N2a2m2i2t2 2S2u2n2i2l2 2C2h2a2u2d2h2a2r2i'"
      ]
     },
     "execution_count": 6,
     "metadata": {},
     "output_type": "execute_result"
    }
   ],
   "source": [
    "\"2\".join(name)"
   ]
  },
  {
   "cell_type": "code",
   "execution_count": 2,
   "id": "77ca3fd7-1f72-4f62-ad51-62190391b4bb",
   "metadata": {},
   "outputs": [
    {
     "data": {
      "text/plain": [
       "['n', 'a', 'm', 'i', 't']"
      ]
     },
     "execution_count": 2,
     "metadata": {},
     "output_type": "execute_result"
    }
   ],
   "source": [
    "str1=\"namit\"\n",
    "list(str1)"
   ]
  },
  {
   "cell_type": "code",
   "execution_count": 9,
   "id": "b26c6447-86c7-4baa-b061-c15787de36db",
   "metadata": {},
   "outputs": [
    {
     "ename": "NameError",
     "evalue": "name 'end' is not defined",
     "output_type": "error",
     "traceback": [
      "\u001b[0;31m---------------------------------------------------------------------------\u001b[0m",
      "\u001b[0;31mNameError\u001b[0m                                 Traceback (most recent call last)",
      "Cell \u001b[0;32mIn[9], line 1\u001b[0m\n\u001b[0;32m----> 1\u001b[0m \u001b[43mend\u001b[49m\n",
      "\u001b[0;31mNameError\u001b[0m: name 'end' is not defined"
     ]
    }
   ],
   "source": []
  },
  {
   "cell_type": "code",
   "execution_count": 17,
   "id": "f689fb53-193c-46b6-8a5e-987512113d8b",
   "metadata": {},
   "outputs": [],
   "source": [
    "str2=\" hahahahah  ah  ahahah  ahah \""
   ]
  },
  {
   "cell_type": "code",
   "execution_count": null,
   "id": "708ef034-003e-4160-9be8-6372c793e852",
   "metadata": {},
   "outputs": [],
   "source": [
    "str2.strip(\"\")"
   ]
  },
  {
   "cell_type": "code",
   "execution_count": 33,
   "id": "14f9a8cc-56be-477c-adc7-dc8b5c35177f",
   "metadata": {},
   "outputs": [],
   "source": [
    "str=\"namitnamit\""
   ]
  },
  {
   "cell_type": "code",
   "execution_count": null,
   "id": "78ad3a91-18c1-4061-aaeb-337156bfa3c6",
   "metadata": {},
   "outputs": [],
   "source": [
    "str.replace(\"a\",\"z\")"
   ]
  },
  {
   "cell_type": "code",
   "execution_count": null,
   "id": "b26a3306-af51-4dd5-bea3-d60d772d4d9e",
   "metadata": {},
   "outputs": [],
   "source": [
    "str3=\"Wellcome to Pwskills.wellcome to dat cience masters\""
   ]
  },
  {
   "cell_type": "code",
   "execution_count": 36,
   "id": "cc188996-1da6-4e08-ad93-36a9de9ebc21",
   "metadata": {},
   "outputs": [
    {
     "ename": "NameError",
     "evalue": "name 'str3' is not defined",
     "output_type": "error",
     "traceback": [
      "\u001b[0;31m---------------------------------------------------------------------------\u001b[0m",
      "\u001b[0;31mNameError\u001b[0m                                 Traceback (most recent call last)",
      "Cell \u001b[0;32mIn[36], line 1\u001b[0m\n\u001b[0;32m----> 1\u001b[0m \u001b[43mstr3\u001b[49m\u001b[38;5;241m.\u001b[39mreplace(\u001b[38;5;124m\"\u001b[39m\u001b[38;5;124mdat\u001b[39m\u001b[38;5;124m\"\u001b[39m,\u001b[38;5;124m\"\u001b[39m\u001b[38;5;124mdata\u001b[39m\u001b[38;5;124m\"\u001b[39m)\u001b[38;5;241m.\u001b[39mreplace(\u001b[38;5;124m\"\u001b[39m\u001b[38;5;124mcience\u001b[39m\u001b[38;5;124m\"\u001b[39m,\u001b[38;5;124m\"\u001b[39m\u001b[38;5;124mscience\u001b[39m\u001b[38;5;124m\"\u001b[39m)\n",
      "\u001b[0;31mNameError\u001b[0m: name 'str3' is not defined"
     ]
    }
   ],
   "source": [
    "str3.replace(\"dat\",\"data\").replace(\"cience\",\"science\")"
   ]
  },
  {
   "cell_type": "code",
   "execution_count": 10,
   "id": "97706157-6d44-482a-9203-be8e79e13ead",
   "metadata": {},
   "outputs": [],
   "source": [
    "namit=\"pwskills\""
   ]
  },
  {
   "cell_type": "code",
   "execution_count": 45,
   "id": "456010db-26db-42e2-bb57-d301586322b1",
   "metadata": {},
   "outputs": [
    {
     "name": "stdout",
     "output_type": "stream",
     "text": [
      "s = 7\n",
      "l = 6\n",
      "l = 5\n",
      "i = 4\n",
      "k = 3\n",
      "s = 2\n",
      "w = 1\n",
      "p = 0\n"
     ]
    }
   ],
   "source": [
    "for i in range(len(namit)-1,-1,-1):\n",
    "    print(namit[i],\"=\",i)"
   ]
  },
  {
   "cell_type": "code",
   "execution_count": 44,
   "id": "c8e98ffc-4d63-450e-a949-a9d05aba25a6",
   "metadata": {},
   "outputs": [
    {
     "data": {
      "text/plain": [
       "8"
      ]
     },
     "execution_count": 44,
     "metadata": {},
     "output_type": "execute_result"
    }
   ],
   "source": [
    "len(namit)"
   ]
  },
  {
   "cell_type": "code",
   "execution_count": 69,
   "id": "7a597b2a-b62c-480c-bb5e-d6d12273b520",
   "metadata": {},
   "outputs": [
    {
     "name": "stdout",
     "output_type": "stream",
     "text": [
      "pwskills\n"
     ]
    }
   ],
   "source": [
    "print(namit[0:8])"
   ]
  },
  {
   "cell_type": "code",
   "execution_count": 73,
   "id": "89ec0e44-9139-4c48-93d9-dce8f789d034",
   "metadata": {},
   "outputs": [
    {
     "name": "stdout",
     "output_type": "stream",
     "text": [
      "sllikswp"
     ]
    }
   ],
   "source": [
    "for i in range(len(namit)-1,-1,-1):\n",
    "    print(namit[i],end=\"\")"
   ]
  },
  {
   "cell_type": "code",
   "execution_count": 5,
   "id": "98303427-b107-4160-8487-7b5c39fa647f",
   "metadata": {},
   "outputs": [],
   "source": [
    "name=\"pwskills\"\n",
    "vowels=\"AaEeIiOoUu\""
   ]
  },
  {
   "cell_type": "code",
   "execution_count": 85,
   "id": "130e9004-1acd-42e4-91a2-1bfc95417689",
   "metadata": {},
   "outputs": [],
   "source": [
    "for i in range(len(name)):\n",
    "    if i=='a' or i=='e' or i=='o' or i=='u':\n",
    "        print(i,\"is a vowel\")\n",
    "        "
   ]
  },
  {
   "cell_type": "code",
   "execution_count": 91,
   "id": "20493142-b5bb-44d7-b4ae-fb69e8b3ddd7",
   "metadata": {},
   "outputs": [
    {
     "name": "stdout",
     "output_type": "stream",
     "text": [
      "8\n"
     ]
    }
   ],
   "source": [
    "ch=len(name)\n",
    "print(ch)"
   ]
  },
  {
   "cell_type": "code",
   "execution_count": 94,
   "id": "601990ae-d731-44a9-982c-6329a7c372e4",
   "metadata": {},
   "outputs": [
    {
     "ename": "SyntaxError",
     "evalue": "incomplete input (416634660.py, line 1)",
     "output_type": "error",
     "traceback": [
      "\u001b[0;36m  Cell \u001b[0;32mIn[94], line 1\u001b[0;36m\u001b[0m\n\u001b[0;31m    for ch in name:\u001b[0m\n\u001b[0m                   ^\u001b[0m\n\u001b[0;31mSyntaxError\u001b[0m\u001b[0;31m:\u001b[0m incomplete input\n"
     ]
    }
   ],
   "source": [
    "for ch in name:"
   ]
  },
  {
   "cell_type": "code",
   "execution_count": 102,
   "id": "a0b05023-777a-457b-8a16-eb18c74f1801",
   "metadata": {},
   "outputs": [
    {
     "name": "stdout",
     "output_type": "stream",
     "text": [
      "p is not a vowel\n",
      "w is not a vowel\n",
      "s is not a vowel\n",
      "k is not a vowel\n",
      "i is a vowel \n",
      "l is not a vowel\n",
      "l is not a vowel\n",
      "s is not a vowel\n"
     ]
    }
   ],
   "source": [
    "name=\"pwskills\"\n",
    "vowels=\"AaEeIiOoUu\"\n",
    "ch=len(name)-1\n",
    "for ch in name:\n",
    "    if ch in vowels:\n",
    "        print(\"{} is a vowel \".format(ch))\n",
    "    else:\n",
    "        print(\"{} is not a vowel\".format(ch))"
   ]
  },
  {
   "cell_type": "markdown",
   "id": "137e1629-8e3b-4ba5-ab2b-5d7ffec5c2d9",
   "metadata": {},
   "source": [
    "List"
   ]
  },
  {
   "cell_type": "code",
   "execution_count": 7,
   "id": "7752cee7-afa9-4748-b45f-ad6a2e81eb83",
   "metadata": {},
   "outputs": [],
   "source": [
    "str90=\"namit chaudhari\""
   ]
  },
  {
   "cell_type": "code",
   "execution_count": 23,
   "id": "4c6e8087-4c3b-4fe9-a002-c8165d19f4e6",
   "metadata": {},
   "outputs": [
    {
     "data": {
      "text/plain": [
       "'pwskills'"
      ]
     },
     "execution_count": 23,
     "metadata": {},
     "output_type": "execute_result"
    }
   ],
   "source": [
    "name"
   ]
  },
  {
   "cell_type": "code",
   "execution_count": 13,
   "id": "b4e51fbd-8576-4c1c-9bac-b987c8f0ea66",
   "metadata": {},
   "outputs": [
    {
     "ename": "TypeError",
     "evalue": "'list' object is not callable",
     "output_type": "error",
     "traceback": [
      "\u001b[0;31m---------------------------------------------------------------------------\u001b[0m",
      "\u001b[0;31mTypeError\u001b[0m                                 Traceback (most recent call last)",
      "Cell \u001b[0;32mIn[13], line 1\u001b[0m\n\u001b[0;32m----> 1\u001b[0m \u001b[38;5;28;43mlist\u001b[39;49m\u001b[43m(\u001b[49m\u001b[43mstr90\u001b[49m\u001b[43m)\u001b[49m\n",
      "\u001b[0;31mTypeError\u001b[0m: 'list' object is not callable"
     ]
    }
   ],
   "source": [
    "list(str90)"
   ]
  },
  {
   "cell_type": "code",
   "execution_count": 60,
   "id": "0ec97d68-cde8-48da-8a39-29201116cc32",
   "metadata": {},
   "outputs": [],
   "source": [
    "str1=\"Pw Skills Data Science Masters\""
   ]
  },
  {
   "cell_type": "code",
   "execution_count": 1,
   "id": "832b74b7-a397-4584-b6cd-27905942b2fb",
   "metadata": {},
   "outputs": [
    {
     "data": {
      "text/plain": [
       "['Pw', 'Skills', 'Data', 'Science', 'Masters']"
      ]
     },
     "execution_count": 1,
     "metadata": {},
     "output_type": "execute_result"
    }
   ],
   "source": [
    "str1=\"Pw Skills Data Science Masters\"\n",
    "list(str1.split(\" \"))"
   ]
  },
  {
   "cell_type": "code",
   "execution_count": 34,
   "id": "9d25c851-03e0-40f2-9625-454c79951fba",
   "metadata": {},
   "outputs": [
    {
     "data": {
      "text/plain": [
       "['Pw', 'Skills', 'Data', 'Science', 'Masters', '']"
      ]
     },
     "execution_count": 34,
     "metadata": {},
     "output_type": "execute_result"
    }
   ],
   "source": [
    "str1.split(\" \")"
   ]
  },
  {
   "cell_type": "code",
   "execution_count": 9,
   "id": "8f356317-9bee-43e3-afd6-30cef278e740",
   "metadata": {},
   "outputs": [
    {
     "ename": "TypeError",
     "evalue": "'list' object is not callable",
     "output_type": "error",
     "traceback": [
      "\u001b[0;31m---------------------------------------------------------------------------\u001b[0m",
      "\u001b[0;31mTypeError\u001b[0m                                 Traceback (most recent call last)",
      "Cell \u001b[0;32mIn[9], line 1\u001b[0m\n\u001b[0;32m----> 1\u001b[0m \u001b[38;5;28;43mlist\u001b[39;49m\u001b[43m(\u001b[49m\u001b[43mstr90\u001b[49m\u001b[38;5;241;43m.\u001b[39;49m\u001b[43msplit\u001b[49m\u001b[43m(\u001b[49m\u001b[38;5;124;43m\"\u001b[39;49m\u001b[38;5;124;43m \u001b[39;49m\u001b[38;5;124;43m\"\u001b[39;49m\u001b[43m)\u001b[49m\u001b[43m)\u001b[49m\n",
      "\u001b[0;31mTypeError\u001b[0m: 'list' object is not callable"
     ]
    }
   ],
   "source": [
    "list(str90.split(\" \"))"
   ]
  },
  {
   "cell_type": "code",
   "execution_count": 14,
   "id": "4771fde4-82bc-4820-a7f8-315f5b4e40cf",
   "metadata": {},
   "outputs": [],
   "source": [
    "str=\"namit sunil chaudhari\""
   ]
  },
  {
   "cell_type": "code",
   "execution_count": 15,
   "id": "94098ce6-deda-42f8-a1e0-f322a970610d",
   "metadata": {},
   "outputs": [],
   "source": [
    "list1=list(str.split(\" \"))"
   ]
  },
  {
   "cell_type": "code",
   "execution_count": null,
   "id": "1f0fa456-72c2-4a20-b3c7-25ac606e408c",
   "metadata": {},
   "outputs": [],
   "source": []
  },
  {
   "cell_type": "code",
   "execution_count": 58,
   "id": "e7aca295-5c83-4dec-be41-d802043cb25e",
   "metadata": {},
   "outputs": [
    {
     "name": "stdout",
     "output_type": "stream",
     "text": [
      "['pw', 'skills', 'data', 'science', ['namii', 85263]]\n"
     ]
    }
   ],
   "source": [
    "list5= list2 + [['namii',85263]]\n",
    "print(list5)"
   ]
  },
  {
   "cell_type": "code",
   "execution_count": 2,
   "id": "5d2e124d-8ec1-49b2-aae2-f997343d2d07",
   "metadata": {},
   "outputs": [],
   "source": [
    "kkk1=\"pw skills namit\""
   ]
  },
  {
   "cell_type": "code",
   "execution_count": 3,
   "id": "88b4107d-bb70-4f00-9a77-bab3d40e40f3",
   "metadata": {},
   "outputs": [
    {
     "name": "stdout",
     "output_type": "stream",
     "text": [
      "['pw', 'skills', 'namit']\n"
     ]
    }
   ],
   "source": [
    "kkk2=list(kkk1.split(\" \"))\n",
    "print(kkk2)"
   ]
  },
  {
   "cell_type": "code",
   "execution_count": 8,
   "id": "311cea26-ddd5-411d-8aca-6f36b558521c",
   "metadata": {},
   "outputs": [
    {
     "name": "stdout",
     "output_type": "stream",
     "text": [
      "['pw', 'skills', 'namit', ['new element', 62]]\n"
     ]
    }
   ],
   "source": [
    "listi00 =kkk2 + [[\"new element\",62]]\n",
    "print(listi00)"
   ]
  },
  {
   "cell_type": "code",
   "execution_count": 10,
   "id": "d6ab9654-97f7-49b0-8f41-beff2a722a8b",
   "metadata": {},
   "outputs": [
    {
     "data": {
      "text/plain": [
       "62"
      ]
     },
     "execution_count": 10,
     "metadata": {},
     "output_type": "execute_result"
    }
   ],
   "source": [
    "listi00[-1][1]"
   ]
  },
  {
   "cell_type": "code",
   "execution_count": 11,
   "id": "4f7f02d1-b4d5-4e31-a07a-914cac2e3fa7",
   "metadata": {},
   "outputs": [
    {
     "ename": "NameError",
     "evalue": "name 'list1' is not defined",
     "output_type": "error",
     "traceback": [
      "\u001b[0;31m---------------------------------------------------------------------------\u001b[0m",
      "\u001b[0;31mNameError\u001b[0m                                 Traceback (most recent call last)",
      "Cell \u001b[0;32mIn[11], line 1\u001b[0m\n\u001b[0;32m----> 1\u001b[0m \u001b[43mlist1\u001b[49m\n",
      "\u001b[0;31mNameError\u001b[0m: name 'list1' is not defined"
     ]
    }
   ],
   "source": [
    "list1"
   ]
  },
  {
   "cell_type": "code",
   "execution_count": 17,
   "id": "faf631aa-fd2d-4934-a7e5-63f80da7766e",
   "metadata": {},
   "outputs": [
    {
     "data": {
      "text/plain": [
       "['pw',\n",
       " 'skills',\n",
       " 'namit',\n",
       " ['new element', 62],\n",
       " 'pw',\n",
       " 'skills',\n",
       " 'namit',\n",
       " ['new element', 62]]"
      ]
     },
     "execution_count": 17,
     "metadata": {},
     "output_type": "execute_result"
    }
   ],
   "source": [
    "listi00 * 2"
   ]
  },
  {
   "cell_type": "code",
   "execution_count": 21,
   "id": "b3e5260c-84fa-4305-8b4f-f94a5f774876",
   "metadata": {},
   "outputs": [],
   "source": [
    "sunil=[\"pw\",\"skills\",\"data\",\"science\"]"
   ]
  },
  {
   "cell_type": "code",
   "execution_count": 24,
   "id": "81806671-523c-46bf-bcc5-723c00e59413",
   "metadata": {},
   "outputs": [
    {
     "data": {
      "text/plain": [
       "True"
      ]
     },
     "execution_count": 24,
     "metadata": {},
     "output_type": "execute_result"
    }
   ],
   "source": [
    "\"data\" in sunil"
   ]
  },
  {
   "cell_type": "code",
   "execution_count": 27,
   "id": "9d9ba447-ec3d-4309-9a7e-39e8483377cb",
   "metadata": {},
   "outputs": [],
   "source": [
    "lst3=[\"Monkey\",\"Lion\",\"Zebra\"]\n",
    "lst5=[2,3,5,6,8,9,46,6,64,2310,6,4163]"
   ]
  },
  {
   "cell_type": "code",
   "execution_count": 28,
   "id": "3bf5c3c8-5c3a-49c2-bd74-947791c52472",
   "metadata": {},
   "outputs": [
    {
     "name": "stdout",
     "output_type": "stream",
     "text": [
      "Zebra\n"
     ]
    }
   ],
   "source": [
    "print(max(lst3))"
   ]
  },
  {
   "cell_type": "code",
   "execution_count": 29,
   "id": "4f896336-0f31-49b9-8945-b9d75d290148",
   "metadata": {},
   "outputs": [
    {
     "data": {
      "text/plain": [
       "2"
      ]
     },
     "execution_count": 29,
     "metadata": {},
     "output_type": "execute_result"
    }
   ],
   "source": [
    "min(lst5)"
   ]
  },
  {
   "cell_type": "code",
   "execution_count": 31,
   "id": "bef889c7-56f5-4572-abd2-5a4cb791b29b",
   "metadata": {},
   "outputs": [
    {
     "data": {
      "text/plain": [
       "'Lion'"
      ]
     },
     "execution_count": 31,
     "metadata": {},
     "output_type": "execute_result"
    }
   ],
   "source": [
    "min(lst3)"
   ]
  },
  {
   "cell_type": "code",
   "execution_count": 40,
   "id": "1cf0290d-63a2-47a9-819d-015a64e4d96c",
   "metadata": {},
   "outputs": [],
   "source": [
    "lst=[9,3,963,52,63,520,63]"
   ]
  },
  {
   "cell_type": "code",
   "execution_count": 41,
   "id": "ff806cc1-e8c2-4533-9c5f-23f70c8a3b91",
   "metadata": {},
   "outputs": [],
   "source": [
    "lst.append(\"pwskills\")"
   ]
  },
  {
   "cell_type": "code",
   "execution_count": 42,
   "id": "820cb40d-5f31-427b-9ee7-d4d18d44ae0b",
   "metadata": {},
   "outputs": [
    {
     "data": {
      "text/plain": [
       "[9, 3, 963, 52, 63, 520, 63, 'pwskills']"
      ]
     },
     "execution_count": 42,
     "metadata": {},
     "output_type": "execute_result"
    }
   ],
   "source": [
    "lst"
   ]
  },
  {
   "cell_type": "code",
   "execution_count": 43,
   "id": "21aae53f-33eb-4776-a201-2d7d2637ee80",
   "metadata": {},
   "outputs": [
    {
     "data": {
      "text/plain": [
       "[9, 3, 963, 52, 63, 520, 63, 'pwskills']"
      ]
     },
     "execution_count": 43,
     "metadata": {},
     "output_type": "execute_result"
    }
   ],
   "source": [
    "lst"
   ]
  },
  {
   "cell_type": "code",
   "execution_count": 44,
   "id": "ce5fe75b-6faa-468f-afb1-e19dafd4c6ae",
   "metadata": {},
   "outputs": [],
   "source": [
    "lst.append([\"pskkss\",\"iwhjoas\",\"jiwisoapi\"])"
   ]
  },
  {
   "cell_type": "code",
   "execution_count": 45,
   "id": "2db7b31a-1c37-45f2-93ca-a8b98c302cb1",
   "metadata": {},
   "outputs": [
    {
     "data": {
      "text/plain": [
       "[9, 3, 963, 52, 63, 520, 63, 'pwskills', ['pskkss', 'iwhjoas', 'jiwisoapi']]"
      ]
     },
     "execution_count": 45,
     "metadata": {},
     "output_type": "execute_result"
    }
   ],
   "source": [
    "lst"
   ]
  },
  {
   "cell_type": "code",
   "execution_count": 46,
   "id": "7d5a8657-1d15-4e75-a501-327b9c4c227e",
   "metadata": {},
   "outputs": [],
   "source": [
    "sunil=[\"pw\",\"skills\",\"data\",\"science\"]"
   ]
  },
  {
   "cell_type": "code",
   "execution_count": 47,
   "id": "12f6a8b5-cdce-4e49-bbb0-4ecfd878bbf0",
   "metadata": {},
   "outputs": [
    {
     "data": {
      "text/plain": [
       "'science'"
      ]
     },
     "execution_count": 47,
     "metadata": {},
     "output_type": "execute_result"
    }
   ],
   "source": [
    "sunil.pop()"
   ]
  },
  {
   "cell_type": "code",
   "execution_count": 48,
   "id": "eae18e73-74c6-45b1-9d2b-dbf490e0329e",
   "metadata": {},
   "outputs": [
    {
     "data": {
      "text/plain": [
       "['pw', 'skills', 'data']"
      ]
     },
     "execution_count": 48,
     "metadata": {},
     "output_type": "execute_result"
    }
   ],
   "source": [
    "sunil"
   ]
  },
  {
   "cell_type": "code",
   "execution_count": 49,
   "id": "2cf05a3f-ff64-4067-80be-ca2c5caa8607",
   "metadata": {},
   "outputs": [
    {
     "data": {
      "text/plain": [
       "'pw'"
      ]
     },
     "execution_count": 49,
     "metadata": {},
     "output_type": "execute_result"
    }
   ],
   "source": [
    "sunil.pop(0)#it removes the element"
   ]
  },
  {
   "cell_type": "code",
   "execution_count": 50,
   "id": "7ff5ca9b-b0b7-407f-8d5a-2a7b546a50f8",
   "metadata": {},
   "outputs": [
    {
     "data": {
      "text/plain": [
       "['skills', 'data']"
      ]
     },
     "execution_count": 50,
     "metadata": {},
     "output_type": "execute_result"
    }
   ],
   "source": [
    "sunil"
   ]
  },
  {
   "cell_type": "code",
   "execution_count": 51,
   "id": "9f467876-2687-4168-8e93-a254a3f19538",
   "metadata": {},
   "outputs": [
    {
     "ename": "IndexError",
     "evalue": "list index out of range",
     "output_type": "error",
     "traceback": [
      "\u001b[0;31m---------------------------------------------------------------------------\u001b[0m",
      "\u001b[0;31mIndexError\u001b[0m                                Traceback (most recent call last)",
      "Cell \u001b[0;32mIn[51], line 1\u001b[0m\n\u001b[0;32m----> 1\u001b[0m \u001b[43msunil\u001b[49m\u001b[43m[\u001b[49m\u001b[38;5;241;43m900\u001b[39;49m\u001b[43m]\u001b[49m\n",
      "\u001b[0;31mIndexError\u001b[0m: list index out of range"
     ]
    }
   ],
   "source": [
    "sunil[900]"
   ]
  },
  {
   "cell_type": "code",
   "execution_count": 54,
   "id": "13e47f64-af2b-4384-aecb-c2a7c6acf4d2",
   "metadata": {},
   "outputs": [
    {
     "data": {
      "text/plain": [
       "['e', 'f', 'g', 's', 'a', 'z', 'h']"
      ]
     },
     "execution_count": 54,
     "metadata": {},
     "output_type": "execute_result"
    }
   ],
   "source": [
    "new_list=['e','f','g','s','a','z','h']\n",
    "new_list"
   ]
  },
  {
   "cell_type": "code",
   "execution_count": 59,
   "id": "be6bd767-4e40-471e-9263-30df6c99687b",
   "metadata": {},
   "outputs": [
    {
     "data": {
      "text/plain": [
       "(None, None)"
      ]
     },
     "execution_count": 59,
     "metadata": {},
     "output_type": "execute_result"
    }
   ],
   "source": [
    "new_list.sort(),new_list.reverse()"
   ]
  },
  {
   "cell_type": "code",
   "execution_count": 60,
   "id": "bb1470a2-16f1-4115-9385-54a4d97112a6",
   "metadata": {},
   "outputs": [
    {
     "data": {
      "text/plain": [
       "['z', 's', 'h', 'g', 'f', 'e', 'a']"
      ]
     },
     "execution_count": 60,
     "metadata": {},
     "output_type": "execute_result"
    }
   ],
   "source": [
    "new_list"
   ]
  },
  {
   "cell_type": "code",
   "execution_count": 62,
   "id": "6f6eb3e4-6fa5-4c75-8d3a-9eaa6f1f6d85",
   "metadata": {},
   "outputs": [
    {
     "data": {
      "text/plain": [
       "[0, 1, 2, 3, 4, 5, 6, 7, 8, 9, 10, 11, 12, 13, 14, 15, 16, 17, 18, 19]"
      ]
     },
     "execution_count": 62,
     "metadata": {},
     "output_type": "execute_result"
    }
   ],
   "source": [
    "[i for i in range (20)]"
   ]
  },
  {
   "cell_type": "code",
   "execution_count": 66,
   "id": "b83ce01f-a417-4134-b647-da383ed9b55e",
   "metadata": {},
   "outputs": [
    {
     "data": {
      "text/plain": [
       "[0, '', 2, '', 4, '', 6, '', 8, '', 10, '', 12, '', 14, '', 16, '', 18, '']"
      ]
     },
     "execution_count": 66,
     "metadata": {},
     "output_type": "execute_result"
    }
   ],
   "source": [
    "[i if i%2==0 else '' for i in range(20)]"
   ]
  },
  {
   "cell_type": "code",
   "execution_count": 89,
   "id": "814deb9b-4780-4bdc-b21f-4906f2b8bd7b",
   "metadata": {},
   "outputs": [
    {
     "name": "stdout",
     "output_type": "stream",
     "text": [
      "16 20\n"
     ]
    }
   ],
   "source": [
    "lst=[1,2,3,4,5,6,7,8]\n",
    "odd=0\n",
    "even=0\n",
    "for i in lst:\n",
    "    if i%2==0:\n",
    "        even +=i\n",
    "    else:\n",
    "        odd += i\n",
    "print(odd,even)    "
   ]
  },
  {
   "cell_type": "code",
   "execution_count": 90,
   "id": "0a0e6daf-8859-42b5-acee-6a6edd7fb613",
   "metadata": {},
   "outputs": [],
   "source": [
    "even_sum=sum(num for num in lst if num%2==0)"
   ]
  },
  {
   "cell_type": "code",
   "execution_count": 91,
   "id": "66b8f938-4d1d-47a2-9a82-6e1428f456b1",
   "metadata": {},
   "outputs": [
    {
     "data": {
      "text/plain": [
       "20"
      ]
     },
     "execution_count": 91,
     "metadata": {},
     "output_type": "execute_result"
    }
   ],
   "source": [
    "even_sum"
   ]
  },
  {
   "cell_type": "code",
   "execution_count": 92,
   "id": "c5dd1048-3ee0-4e4d-99b0-de90eae7278e",
   "metadata": {},
   "outputs": [],
   "source": [
    "odd_sum=sum(num for num in lst if num%2!=0)"
   ]
  },
  {
   "cell_type": "code",
   "execution_count": 93,
   "id": "eb758997-bec6-40cc-8de1-6a4de5453d90",
   "metadata": {},
   "outputs": [
    {
     "data": {
      "text/plain": [
       "16"
      ]
     },
     "execution_count": 93,
     "metadata": {},
     "output_type": "execute_result"
    }
   ],
   "source": [
    "odd_sum"
   ]
  },
  {
   "cell_type": "code",
   "execution_count": 95,
   "id": "0dee6097-062b-4c45-900b-6e3ec80ddcda",
   "metadata": {},
   "outputs": [],
   "source": [
    "lst=[1,2,3,4,5,6,7,8,9,10]"
   ]
  },
  {
   "cell_type": "code",
   "execution_count": 105,
   "id": "4c4ce661-aa93-420e-95e0-6eae9b0eb2c4",
   "metadata": {},
   "outputs": [],
   "source": [
    "square=[num**2 for num in lst]"
   ]
  },
  {
   "cell_type": "code",
   "execution_count": 106,
   "id": "a740856f-d5ee-431d-9951-68abcdb8951a",
   "metadata": {},
   "outputs": [
    {
     "data": {
      "text/plain": [
       "[1, 4, 9, 16, 25, 36, 49, 64, 81, 100]"
      ]
     },
     "execution_count": 106,
     "metadata": {},
     "output_type": "execute_result"
    }
   ],
   "source": [
    "square"
   ]
  },
  {
   "cell_type": "code",
   "execution_count": 1,
   "id": "422be36f-c230-45e7-8e9a-a1ffec90f10f",
   "metadata": {},
   "outputs": [],
   "source": [
    "numbers=[-2,-1,0,1,2,3,4]"
   ]
  },
  {
   "cell_type": "code",
   "execution_count": 3,
   "id": "59a39a55-ef42-4ad3-be20-69d8614875bb",
   "metadata": {},
   "outputs": [],
   "source": [
    "positive=[num for num in numbers if num>=0]"
   ]
  },
  {
   "cell_type": "code",
   "execution_count": 4,
   "id": "99f20850-9424-432f-8ced-e8d1934deb35",
   "metadata": {},
   "outputs": [
    {
     "data": {
      "text/plain": [
       "[0, 1, 2, 3, 4]"
      ]
     },
     "execution_count": 4,
     "metadata": {},
     "output_type": "execute_result"
    }
   ],
   "source": [
    "positive"
   ]
  },
  {
   "cell_type": "code",
   "execution_count": 2,
   "id": "1ad0e0da-0ea6-4fe9-9ab2-caa1fcab32aa",
   "metadata": {},
   "outputs": [],
   "source": [
    "words=['apple','banana','cheery','date'] "
   ]
  },
  {
   "cell_type": "code",
   "execution_count": 4,
   "id": "72fa3b8a-0282-405a-8599-af76f2a5c46d",
   "metadata": {},
   "outputs": [],
   "source": [
    "a=[num for num in words if num.startswith('a')]"
   ]
  },
  {
   "cell_type": "code",
   "execution_count": 5,
   "id": "5275a418-79ee-4077-af93-62f2afc6c3d9",
   "metadata": {},
   "outputs": [
    {
     "data": {
      "text/plain": [
       "['apple']"
      ]
     },
     "execution_count": 5,
     "metadata": {},
     "output_type": "execute_result"
    }
   ],
   "source": [
    "a"
   ]
  },
  {
   "cell_type": "code",
   "execution_count": 6,
   "id": "f5b241d1-f665-428a-97ea-0e724f57a8e3",
   "metadata": {},
   "outputs": [],
   "source": [
    "words=['apple','banana','cheery','date'] "
   ]
  },
  {
   "cell_type": "code",
   "execution_count": 13,
   "id": "9780fce6-0cfe-4c4c-a1b3-a55c036fe01a",
   "metadata": {},
   "outputs": [],
   "source": [
    "letter=[word[0] for word in words]"
   ]
  },
  {
   "cell_type": "code",
   "execution_count": 14,
   "id": "b8e41781-2806-4adb-a85f-27bfae422049",
   "metadata": {},
   "outputs": [
    {
     "data": {
      "text/plain": [
       "['a', 'b', 'c', 'd']"
      ]
     },
     "execution_count": 14,
     "metadata": {},
     "output_type": "execute_result"
    }
   ],
   "source": [
    "letter"
   ]
  },
  {
   "cell_type": "code",
   "execution_count": 19,
   "id": "c471133a-132e-447b-8227-00afb55ccd36",
   "metadata": {},
   "outputs": [],
   "source": [
    "temp=[0,10,20,30,40,50]"
   ]
  },
  {
   "cell_type": "code",
   "execution_count": 18,
   "id": "cc462795-541e-4fcf-a348-1e46173371ca",
   "metadata": {},
   "outputs": [],
   "source": [
    "####ff=9/5*temp+32"
   ]
  },
  {
   "cell_type": "code",
   "execution_count": 29,
   "id": "1d99497d-575d-4f4a-9b18-6ffdd5e91cce",
   "metadata": {},
   "outputs": [],
   "source": [
    "final=[(9/5)*ft+32 for ft in temp]"
   ]
  },
  {
   "cell_type": "code",
   "execution_count": 30,
   "id": "49df95a0-7d53-48b0-9c6e-6cb511d93f82",
   "metadata": {},
   "outputs": [
    {
     "data": {
      "text/plain": [
       "[32.0, 50.0, 68.0, 86.0, 104.0, 122.0]"
      ]
     },
     "execution_count": 30,
     "metadata": {},
     "output_type": "execute_result"
    }
   ],
   "source": [
    "final"
   ]
  },
  {
   "cell_type": "code",
   "execution_count": 34,
   "id": "57a53788-c634-46b2-b05c-9ca70e9f2923",
   "metadata": {},
   "outputs": [],
   "source": [
    "lists=[[1,2,3],[4,5,6],[7,8,9]]"
   ]
  },
  {
   "cell_type": "code",
   "execution_count": 36,
   "id": "c6047598-8127-4f10-8ba0-e276f9d7b120",
   "metadata": {},
   "outputs": [
    {
     "data": {
      "text/plain": [
       "[1, 2, 3, 4, 5, 6, 7, 8, 9]"
      ]
     },
     "execution_count": 36,
     "metadata": {},
     "output_type": "execute_result"
    }
   ],
   "source": [
    "[i for j in lists for i in j ]"
   ]
  },
  {
   "cell_type": "code",
   "execution_count": 37,
   "id": "bdcfd6e8-b9d1-4878-a47e-aa93a384b2f3",
   "metadata": {},
   "outputs": [],
   "source": [
    "numbers=[1,2,3,4,5,6,7,8,9,10]"
   ]
  },
  {
   "cell_type": "code",
   "execution_count": null,
   "id": "249a6d1d-a9ac-41f3-8f46-0616c5895ebc",
   "metadata": {},
   "outputs": [],
   "source": [
    "[prime for prime in numbers if numbers]"
   ]
  },
  {
   "cell_type": "code",
   "execution_count": null,
   "id": "362b033d-66d7-48af-ad7b-31049d7db36e",
   "metadata": {},
   "outputs": [],
   "source": []
  },
  {
   "cell_type": "code",
   "execution_count": null,
   "id": "e5adb3be-fbc9-44d6-9964-5df97e42b83c",
   "metadata": {},
   "outputs": [],
   "source": []
  },
  {
   "cell_type": "code",
   "execution_count": null,
   "id": "210ce3f2-ec33-464a-b271-d06d01b1c2c5",
   "metadata": {},
   "outputs": [],
   "source": []
  },
  {
   "cell_type": "code",
   "execution_count": null,
   "id": "6443b8d0-fa21-46d2-9628-83714d5a5f74",
   "metadata": {},
   "outputs": [],
   "source": []
  },
  {
   "cell_type": "code",
   "execution_count": null,
   "id": "2262950b-4e95-4f99-b076-38d72f326fcb",
   "metadata": {},
   "outputs": [],
   "source": []
  },
  {
   "cell_type": "code",
   "execution_count": null,
   "id": "3ecc585e-8c0f-475a-843f-bbbef6bb5749",
   "metadata": {},
   "outputs": [],
   "source": []
  },
  {
   "cell_type": "code",
   "execution_count": null,
   "id": "d400e058-23cd-4f84-ac2f-18b73c5ada23",
   "metadata": {},
   "outputs": [],
   "source": []
  },
  {
   "cell_type": "code",
   "execution_count": null,
   "id": "f9344aea-8d26-4db9-8c6f-0bf832f18916",
   "metadata": {},
   "outputs": [],
   "source": []
  },
  {
   "cell_type": "code",
   "execution_count": null,
   "id": "3bff3515-5864-4d06-82cb-8b25897be49c",
   "metadata": {},
   "outputs": [],
   "source": []
  },
  {
   "cell_type": "code",
   "execution_count": null,
   "id": "ec42e344-9a13-4069-a218-da8e11c78d0f",
   "metadata": {},
   "outputs": [],
   "source": []
  },
  {
   "cell_type": "code",
   "execution_count": null,
   "id": "7ce25455-8d86-48c9-9e8b-5458e1120537",
   "metadata": {},
   "outputs": [],
   "source": []
  },
  {
   "cell_type": "code",
   "execution_count": null,
   "id": "ee2b42aa-e379-44bd-8991-f50ef87a1d5f",
   "metadata": {},
   "outputs": [],
   "source": []
  },
  {
   "cell_type": "code",
   "execution_count": null,
   "id": "37feaaef-2c6f-4076-8330-800a9465cd46",
   "metadata": {},
   "outputs": [],
   "source": []
  },
  {
   "cell_type": "code",
   "execution_count": null,
   "id": "ac8c5c7d-9356-45f8-ad18-227448711de9",
   "metadata": {},
   "outputs": [],
   "source": []
  }
 ],
 "metadata": {
  "kernelspec": {
   "display_name": "Python 3 (ipykernel)",
   "language": "python",
   "name": "python3"
  },
  "language_info": {
   "codemirror_mode": {
    "name": "ipython",
    "version": 3
   },
   "file_extension": ".py",
   "mimetype": "text/x-python",
   "name": "python",
   "nbconvert_exporter": "python",
   "pygments_lexer": "ipython3",
   "version": "3.10.8"
  }
 },
 "nbformat": 4,
 "nbformat_minor": 5
}
