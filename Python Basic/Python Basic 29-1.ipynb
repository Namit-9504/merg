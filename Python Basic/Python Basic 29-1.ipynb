{
 "cells": [
  {
   "cell_type": "code",
   "execution_count": 2,
   "id": "14a0604c-f8fa-4573-b7b0-28c367af6050",
   "metadata": {},
   "outputs": [
    {
     "name": "stdout",
     "output_type": "stream",
     "text": [
      "4\n"
     ]
    }
   ],
   "source": [
    "print(1+3)"
   ]
  },
  {
   "cell_type": "code",
   "execution_count": 6,
   "id": "aa1cb82a-f92b-4677-8caa-b798063565d3",
   "metadata": {},
   "outputs": [
    {
     "name": "stdout",
     "output_type": "stream",
     "text": [
      "my name is namit and \n",
      " i am studied in dyp\n"
     ]
    }
   ],
   "source": [
    "print(\"my name is namit and \\n i am studied in dyp\")"
   ]
  },
  {
   "cell_type": "code",
   "execution_count": 8,
   "id": "20a2a2bb-b1b6-4129-8449-e2291e6c904c",
   "metadata": {},
   "outputs": [
    {
     "data": {
      "text/plain": [
       "'namit'"
      ]
     },
     "execution_count": 8,
     "metadata": {},
     "output_type": "execute_result"
    }
   ],
   "source": [
    "name=\"namit\"\n",
    "name\n"
   ]
  },
  {
   "cell_type": "code",
   "execution_count": 6,
   "id": "4c4a98f9-803e-4f83-8b5a-e002a7febe40",
   "metadata": {},
   "outputs": [
    {
     "data": {
      "text/plain": [
       "str"
      ]
     },
     "execution_count": 6,
     "metadata": {},
     "output_type": "execute_result"
    }
   ],
   "source": [
    "name=\"name\"\n",
    "name\n",
    "type(name)"
   ]
  },
  {
   "cell_type": "code",
   "execution_count": 5,
   "id": "8ceda42b-6cdd-4184-b592-29da52995dbc",
   "metadata": {},
   "outputs": [
    {
     "data": {
      "text/plain": [
       "complex"
      ]
     },
     "execution_count": 5,
     "metadata": {},
     "output_type": "execute_result"
    }
   ],
   "source": [
    "type(1+2j)"
   ]
  },
  {
   "cell_type": "code",
   "execution_count": 4,
   "id": "e100dc0a-efa0-43a1-8830-23e3c9ecd5b5",
   "metadata": {},
   "outputs": [
    {
     "data": {
      "text/plain": [
       "True"
      ]
     },
     "execution_count": 4,
     "metadata": {},
     "output_type": "execute_result"
    }
   ],
   "source": [
    "bool(13)"
   ]
  },
  {
   "cell_type": "code",
   "execution_count": 3,
   "id": "480a65da-04b4-4203-8dbf-3763ff7b0e2e",
   "metadata": {},
   "outputs": [
    {
     "data": {
      "text/plain": [
       "False"
      ]
     },
     "execution_count": 3,
     "metadata": {},
     "output_type": "execute_result"
    }
   ],
   "source": [
    "bool(0)"
   ]
  },
  {
   "cell_type": "code",
   "execution_count": 2,
   "id": "a008ac9f-b901-4e4d-b8ca-4d175a832c89",
   "metadata": {},
   "outputs": [
    {
     "data": {
      "text/plain": [
       "True"
      ]
     },
     "execution_count": 2,
     "metadata": {},
     "output_type": "execute_result"
    }
   ],
   "source": [
    "bool(-11)\n"
   ]
  },
  {
   "cell_type": "code",
   "execution_count": null,
   "id": "59c28cf4-e26f-479b-95e5-0df2e53ad357",
   "metadata": {},
   "outputs": [],
   "source": []
  },
  {
   "cell_type": "code",
   "execution_count": null,
   "id": "26415b3f-0779-47ef-bb10-e57123a772d5",
   "metadata": {},
   "outputs": [],
   "source": []
  },
  {
   "cell_type": "code",
   "execution_count": null,
   "id": "e207da9f-9395-454d-af2d-f67b36a0b7b3",
   "metadata": {},
   "outputs": [],
   "source": []
  }
 ],
 "metadata": {
  "kernelspec": {
   "display_name": "Python 3 (ipykernel)",
   "language": "python",
   "name": "python3"
  },
  "language_info": {
   "codemirror_mode": {
    "name": "ipython",
    "version": 3
   },
   "file_extension": ".py",
   "mimetype": "text/x-python",
   "name": "python",
   "nbconvert_exporter": "python",
   "pygments_lexer": "ipython3",
   "version": "3.10.8"
  }
 },
 "nbformat": 4,
 "nbformat_minor": 5
}
