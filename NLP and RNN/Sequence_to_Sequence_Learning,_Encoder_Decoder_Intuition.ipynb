{
  "nbformat": 4,
  "nbformat_minor": 0,
  "metadata": {
    "colab": {
      "provenance": [],
      "gpuType": "T4"
    },
    "kernelspec": {
      "name": "python3",
      "display_name": "Python 3"
    },
    "language_info": {
      "name": "python"
    },
    "accelerator": "GPU"
  },
  "cells": [
    {
      "cell_type": "code",
      "execution_count": 62,
      "metadata": {
        "id": "CucrT_DOKZZN"
      },
      "outputs": [],
      "source": [
        "from __future__ import print_function\n",
        "\n",
        "from keras.models import Model\n",
        "from keras.layers import Dense , LSTM , Input\n",
        "import numpy as np"
      ]
    },
    {
      "cell_type": "code",
      "source": [
        "batch_s = 64\n",
        "epochs = 100\n",
        "latent_dimension = 256\n",
        "number_samples = 10000\n",
        "data_path = '/content/fra.txt'"
      ],
      "metadata": {
        "id": "__dGaN2FUBKk"
      },
      "execution_count": 84,
      "outputs": []
    },
    {
      "cell_type": "code",
      "source": [
        "input_texts = []\n",
        "target_texts = []\n",
        "input_characters = set()\n",
        "target_characters = set()\n",
        "with open(data_path , 'r' , encoding='utf-8')as f:\n",
        "  lines = f.read().split('\\n')\n",
        "for line in lines[: min(number_samples , len(lines) -1)]:\n",
        "  input_text , target_text , _ = line.split('\\t') ## \\t means tab\n",
        "  target_text = '\\t' + target_text + '\\n'\n",
        "  input_texts.append(input_text)\n",
        "  target_texts.append(target_text)\n",
        "  for char in input_text:\n",
        "    if char not in input_characters:\n",
        "      input_characters.add(char)\n",
        "  for char in target_text:\n",
        "    if char not in target_characters:\n",
        "      target_characters.add(char)\n",
        "\n"
      ],
      "metadata": {
        "id": "YB8A2EC4UnSt"
      },
      "execution_count": 71,
      "outputs": []
    },
    {
      "cell_type": "code",
      "source": [
        "print(\"Length of input texts\",len(input_texts))\n",
        "print(\"Length of target texts\",len(target_texts))"
      ],
      "metadata": {
        "colab": {
          "base_uri": "https://localhost:8080/"
        },
        "id": "o2lnJYIhXKMo",
        "outputId": "a17d1558-9e5c-40da-d687-9d9ff5068535"
      },
      "execution_count": 72,
      "outputs": [
        {
          "output_type": "stream",
          "name": "stdout",
          "text": [
            "Length of input texts 10000\n",
            "Length of target texts 10000\n"
          ]
        }
      ]
    },
    {
      "cell_type": "code",
      "source": [
        "input_characters = sorted(list(input_characters))\n",
        "target_characters = sorted(list(target_characters))\n",
        "\n",
        "num_encoder_tokens = len(input_characters)\n",
        "num_decoder_tokens = len(target_characters)\n",
        "\n",
        "max_encoder_seq_length = max([len(txt) for txt in input_texts])\n",
        "max_decoder_seq_length = max([len(txt) for txt in target_texts])"
      ],
      "metadata": {
        "id": "bnIls5Q0Xh6R"
      },
      "execution_count": 73,
      "outputs": []
    },
    {
      "cell_type": "code",
      "source": [
        "max_encoder_seq_length\n"
      ],
      "metadata": {
        "colab": {
          "base_uri": "https://localhost:8080/"
        },
        "id": "gpnZm9KAYjRg",
        "outputId": "8cd1206d-1ceb-49c6-b1ba-c7f240283d40"
      },
      "execution_count": 74,
      "outputs": [
        {
          "output_type": "execute_result",
          "data": {
            "text/plain": [
              "16"
            ]
          },
          "metadata": {},
          "execution_count": 74
        }
      ]
    },
    {
      "cell_type": "code",
      "source": [
        "max_decoder_seq_length"
      ],
      "metadata": {
        "colab": {
          "base_uri": "https://localhost:8080/"
        },
        "id": "03z5sj9wYlfC",
        "outputId": "0064c588-ef0e-4700-dc1a-15f496354592"
      },
      "execution_count": 75,
      "outputs": [
        {
          "output_type": "execute_result",
          "data": {
            "text/plain": [
              "59"
            ]
          },
          "metadata": {},
          "execution_count": 75
        }
      ]
    },
    {
      "cell_type": "code",
      "source": [
        "print('Number of unique input tokens:', num_encoder_tokens)\n",
        "print('Number of unique output tokens:', num_decoder_tokens)\n",
        "print('Max sequence length for inputs:', max_encoder_seq_length)\n",
        "print('Max sequence length for outputs:', max_decoder_seq_length)"
      ],
      "metadata": {
        "colab": {
          "base_uri": "https://localhost:8080/"
        },
        "id": "noKOJc7XYS79",
        "outputId": "39348cde-0980-4f29-b24d-e2ffe3087cf8"
      },
      "execution_count": 76,
      "outputs": [
        {
          "output_type": "stream",
          "name": "stdout",
          "text": [
            "Number of unique input tokens: 70\n",
            "Number of unique output tokens: 93\n",
            "Max sequence length for inputs: 16\n",
            "Max sequence length for outputs: 59\n"
          ]
        }
      ]
    },
    {
      "cell_type": "code",
      "source": [
        "input_token_index = dict(\n",
        "    [(char, i) for i, char in enumerate(input_characters)])  ## enumerate assigned unique numbers to each characters\n",
        "target_token_index = dict(\n",
        "    [(char, i) for i, char in enumerate(target_characters)])"
      ],
      "metadata": {
        "id": "0NaimxnTYY81"
      },
      "execution_count": 77,
      "outputs": []
    },
    {
      "cell_type": "code",
      "source": [
        "input_token_index"
      ],
      "metadata": {
        "colab": {
          "base_uri": "https://localhost:8080/"
        },
        "id": "qcpguvc0Za-2",
        "outputId": "5b814368-22f4-407d-80de-5b4cbceba725"
      },
      "execution_count": 78,
      "outputs": [
        {
          "output_type": "execute_result",
          "data": {
            "text/plain": [
              "{' ': 0,\n",
              " '!': 1,\n",
              " '$': 2,\n",
              " '%': 3,\n",
              " '&': 4,\n",
              " \"'\": 5,\n",
              " ',': 6,\n",
              " '-': 7,\n",
              " '.': 8,\n",
              " '0': 9,\n",
              " '1': 10,\n",
              " '2': 11,\n",
              " '3': 12,\n",
              " '5': 13,\n",
              " '6': 14,\n",
              " '7': 15,\n",
              " '8': 16,\n",
              " '9': 17,\n",
              " ':': 18,\n",
              " '?': 19,\n",
              " 'A': 20,\n",
              " 'B': 21,\n",
              " 'C': 22,\n",
              " 'D': 23,\n",
              " 'E': 24,\n",
              " 'F': 25,\n",
              " 'G': 26,\n",
              " 'H': 27,\n",
              " 'I': 28,\n",
              " 'J': 29,\n",
              " 'K': 30,\n",
              " 'L': 31,\n",
              " 'M': 32,\n",
              " 'N': 33,\n",
              " 'O': 34,\n",
              " 'P': 35,\n",
              " 'Q': 36,\n",
              " 'R': 37,\n",
              " 'S': 38,\n",
              " 'T': 39,\n",
              " 'U': 40,\n",
              " 'V': 41,\n",
              " 'W': 42,\n",
              " 'Y': 43,\n",
              " 'a': 44,\n",
              " 'b': 45,\n",
              " 'c': 46,\n",
              " 'd': 47,\n",
              " 'e': 48,\n",
              " 'f': 49,\n",
              " 'g': 50,\n",
              " 'h': 51,\n",
              " 'i': 52,\n",
              " 'j': 53,\n",
              " 'k': 54,\n",
              " 'l': 55,\n",
              " 'm': 56,\n",
              " 'n': 57,\n",
              " 'o': 58,\n",
              " 'p': 59,\n",
              " 'q': 60,\n",
              " 'r': 61,\n",
              " 's': 62,\n",
              " 't': 63,\n",
              " 'u': 64,\n",
              " 'v': 65,\n",
              " 'w': 66,\n",
              " 'x': 67,\n",
              " 'y': 68,\n",
              " 'z': 69}"
            ]
          },
          "metadata": {},
          "execution_count": 78
        }
      ]
    },
    {
      "cell_type": "code",
      "source": [
        "target_token_index"
      ],
      "metadata": {
        "colab": {
          "base_uri": "https://localhost:8080/"
        },
        "id": "ukxQVoOzZe86",
        "outputId": "b0fde366-d099-4306-9134-4f2a3f1705bf"
      },
      "execution_count": 79,
      "outputs": [
        {
          "output_type": "execute_result",
          "data": {
            "text/plain": [
              "{'\\t': 0,\n",
              " '\\n': 1,\n",
              " ' ': 2,\n",
              " '!': 3,\n",
              " '$': 4,\n",
              " '%': 5,\n",
              " '&': 6,\n",
              " \"'\": 7,\n",
              " '(': 8,\n",
              " ')': 9,\n",
              " ',': 10,\n",
              " '-': 11,\n",
              " '.': 12,\n",
              " '0': 13,\n",
              " '1': 14,\n",
              " '2': 15,\n",
              " '3': 16,\n",
              " '5': 17,\n",
              " '8': 18,\n",
              " '9': 19,\n",
              " ':': 20,\n",
              " '?': 21,\n",
              " 'A': 22,\n",
              " 'B': 23,\n",
              " 'C': 24,\n",
              " 'D': 25,\n",
              " 'E': 26,\n",
              " 'F': 27,\n",
              " 'G': 28,\n",
              " 'H': 29,\n",
              " 'I': 30,\n",
              " 'J': 31,\n",
              " 'K': 32,\n",
              " 'L': 33,\n",
              " 'M': 34,\n",
              " 'N': 35,\n",
              " 'O': 36,\n",
              " 'P': 37,\n",
              " 'Q': 38,\n",
              " 'R': 39,\n",
              " 'S': 40,\n",
              " 'T': 41,\n",
              " 'U': 42,\n",
              " 'V': 43,\n",
              " 'Y': 44,\n",
              " 'a': 45,\n",
              " 'b': 46,\n",
              " 'c': 47,\n",
              " 'd': 48,\n",
              " 'e': 49,\n",
              " 'f': 50,\n",
              " 'g': 51,\n",
              " 'h': 52,\n",
              " 'i': 53,\n",
              " 'j': 54,\n",
              " 'k': 55,\n",
              " 'l': 56,\n",
              " 'm': 57,\n",
              " 'n': 58,\n",
              " 'o': 59,\n",
              " 'p': 60,\n",
              " 'q': 61,\n",
              " 'r': 62,\n",
              " 's': 63,\n",
              " 't': 64,\n",
              " 'u': 65,\n",
              " 'v': 66,\n",
              " 'x': 67,\n",
              " 'y': 68,\n",
              " 'z': 69,\n",
              " '\\xa0': 70,\n",
              " '«': 71,\n",
              " '»': 72,\n",
              " 'À': 73,\n",
              " 'Ç': 74,\n",
              " 'É': 75,\n",
              " 'Ê': 76,\n",
              " 'à': 77,\n",
              " 'â': 78,\n",
              " 'ç': 79,\n",
              " 'è': 80,\n",
              " 'é': 81,\n",
              " 'ê': 82,\n",
              " 'ë': 83,\n",
              " 'î': 84,\n",
              " 'ï': 85,\n",
              " 'ô': 86,\n",
              " 'ù': 87,\n",
              " 'û': 88,\n",
              " 'œ': 89,\n",
              " '\\u2009': 90,\n",
              " '’': 91,\n",
              " '\\u202f': 92}"
            ]
          },
          "metadata": {},
          "execution_count": 79
        }
      ]
    },
    {
      "cell_type": "code",
      "source": [
        "encoder_input_data = np.zeros(\n",
        "    (len(input_texts), max_encoder_seq_length, num_encoder_tokens),\n",
        "    dtype='float32')\n",
        "decoder_input_data = np.zeros(\n",
        "    (len(input_texts), max_decoder_seq_length, num_decoder_tokens),\n",
        "    dtype='float32')\n",
        "decoder_target_data = np.zeros(\n",
        "    (len(input_texts), max_decoder_seq_length, num_decoder_tokens),\n",
        "    dtype='float32')"
      ],
      "metadata": {
        "id": "aB6Mw8Vsbx2B"
      },
      "execution_count": 80,
      "outputs": []
    },
    {
      "cell_type": "code",
      "source": [
        "for i, (input_text, target_text) in enumerate(zip(input_texts, target_texts)):\n",
        "    for t, char in enumerate(input_text):\n",
        "        encoder_input_data[i, t, input_token_index[char]] = 1.\n",
        "    encoder_input_data[i, t + 1:, input_token_index[' ']] = 1.\n",
        "    for t, char in enumerate(target_text):\n",
        "        # decoder_target_data is ahead of decoder_input_data by one timestep\n",
        "        decoder_input_data[i, t, target_token_index[char]] = 1.\n",
        "        if t > 0:\n",
        "            # decoder_target_data will be ahead by one timestep\n",
        "            # and will not include the start character.\n",
        "            decoder_target_data[i, t - 1, target_token_index[char]] = 1.\n",
        "    decoder_input_data[i, t + 1:, target_token_index[' ']] = 1.\n",
        "    decoder_target_data[i, t:, target_token_index[' ']] = 1."
      ],
      "metadata": {
        "id": "5BNKGe8Fb8-c"
      },
      "execution_count": 82,
      "outputs": []
    },
    {
      "cell_type": "code",
      "source": [
        "# Define an input sequence and process it.\n",
        "encoder_inputs = Input(shape=(None, num_encoder_tokens))\n",
        "encoder = LSTM(latent_dimension, return_state=True)\n",
        "encoder_outputs, state_h, state_c = encoder(encoder_inputs)\n",
        "# We discard `encoder_outputs` and only keep the states.\n",
        "encoder_states = [state_h, state_c]"
      ],
      "metadata": {
        "id": "5PBlz7RZcKLY"
      },
      "execution_count": 85,
      "outputs": []
    },
    {
      "cell_type": "code",
      "source": [
        "# Set up the decoder, using `encoder_states` as initial state.\n",
        "decoder_inputs = Input(shape=(None, num_decoder_tokens))\n",
        "# We set up our decoder to return full output sequences,\n",
        "# and to return internal states as well. We don't use the\n",
        "# return states in the training model, but we will use them in inference.\n",
        "decoder_lstm = LSTM(latent_dimension, return_sequences=True, return_state=True)\n",
        "decoder_outputs, _, _ = decoder_lstm(decoder_inputs,\n",
        "                                     initial_state=encoder_states)\n",
        "decoder_dense = Dense(num_decoder_tokens, activation='softmax')\n",
        "decoder_outputs = decoder_dense(decoder_outputs)"
      ],
      "metadata": {
        "id": "CkUB0mLRcR7U"
      },
      "execution_count": 86,
      "outputs": []
    },
    {
      "cell_type": "code",
      "source": [
        "model = Model([encoder_inputs, decoder_inputs], decoder_outputs)"
      ],
      "metadata": {
        "id": "RkpJutWmcxuJ"
      },
      "execution_count": 87,
      "outputs": []
    },
    {
      "cell_type": "code",
      "source": [
        "# Run training\n",
        "model.compile(optimizer='rmsprop', loss='categorical_crossentropy',\n",
        "              metrics=['accuracy'])\n",
        "model.fit([encoder_input_data, decoder_input_data], decoder_target_data,\n",
        "          batch_size=batch_s,\n",
        "          epochs=epochs,\n",
        "          validation_split=0.2)"
      ],
      "metadata": {
        "colab": {
          "base_uri": "https://localhost:8080/"
        },
        "id": "5lX3fhjHcyFg",
        "outputId": "6f27fee7-5f87-48c3-da1a-92a6f3e8f188"
      },
      "execution_count": 88,
      "outputs": [
        {
          "output_type": "stream",
          "name": "stdout",
          "text": [
            "Epoch 1/100\n",
            "125/125 [==============================] - 10s 20ms/step - loss: 1.2512 - accuracy: 0.7209 - val_loss: 1.1462 - val_accuracy: 0.6958\n",
            "Epoch 2/100\n",
            "125/125 [==============================] - 1s 11ms/step - loss: 0.9703 - accuracy: 0.7371 - val_loss: 1.0377 - val_accuracy: 0.7014\n",
            "Epoch 3/100\n",
            "125/125 [==============================] - 2s 12ms/step - loss: 0.8728 - accuracy: 0.7581 - val_loss: 0.9111 - val_accuracy: 0.7466\n",
            "Epoch 4/100\n",
            "125/125 [==============================] - 1s 11ms/step - loss: 0.7677 - accuracy: 0.7840 - val_loss: 0.8317 - val_accuracy: 0.7632\n",
            "Epoch 5/100\n",
            "125/125 [==============================] - 1s 11ms/step - loss: 0.7103 - accuracy: 0.7946 - val_loss: 0.7783 - val_accuracy: 0.7714\n",
            "Epoch 6/100\n",
            "125/125 [==============================] - 2s 13ms/step - loss: 0.6573 - accuracy: 0.8079 - val_loss: 0.7396 - val_accuracy: 0.7826\n",
            "Epoch 7/100\n",
            "125/125 [==============================] - 2s 12ms/step - loss: 0.6265 - accuracy: 0.8162 - val_loss: 0.7055 - val_accuracy: 0.7926\n",
            "Epoch 8/100\n",
            "125/125 [==============================] - 1s 11ms/step - loss: 0.6020 - accuracy: 0.8235 - val_loss: 0.6819 - val_accuracy: 0.8002\n",
            "Epoch 9/100\n",
            "125/125 [==============================] - 1s 11ms/step - loss: 0.5801 - accuracy: 0.8300 - val_loss: 0.6568 - val_accuracy: 0.8101\n",
            "Epoch 10/100\n",
            "125/125 [==============================] - 1s 12ms/step - loss: 0.5612 - accuracy: 0.8359 - val_loss: 0.6485 - val_accuracy: 0.8093\n",
            "Epoch 11/100\n",
            "125/125 [==============================] - 2s 12ms/step - loss: 0.5438 - accuracy: 0.8407 - val_loss: 0.6276 - val_accuracy: 0.8169\n",
            "Epoch 12/100\n",
            "125/125 [==============================] - 1s 11ms/step - loss: 0.5293 - accuracy: 0.8447 - val_loss: 0.6073 - val_accuracy: 0.8218\n",
            "Epoch 13/100\n",
            "125/125 [==============================] - 1s 11ms/step - loss: 0.5151 - accuracy: 0.8487 - val_loss: 0.5974 - val_accuracy: 0.8239\n",
            "Epoch 14/100\n",
            "125/125 [==============================] - 1s 12ms/step - loss: 0.5023 - accuracy: 0.8523 - val_loss: 0.5829 - val_accuracy: 0.8290\n",
            "Epoch 15/100\n",
            "125/125 [==============================] - 2s 14ms/step - loss: 0.4916 - accuracy: 0.8557 - val_loss: 0.5727 - val_accuracy: 0.8317\n",
            "Epoch 16/100\n",
            "125/125 [==============================] - 2s 16ms/step - loss: 0.4795 - accuracy: 0.8587 - val_loss: 0.5680 - val_accuracy: 0.8322\n",
            "Epoch 17/100\n",
            "125/125 [==============================] - 2s 13ms/step - loss: 0.4698 - accuracy: 0.8616 - val_loss: 0.5543 - val_accuracy: 0.8364\n",
            "Epoch 18/100\n",
            "125/125 [==============================] - 1s 11ms/step - loss: 0.4603 - accuracy: 0.8640 - val_loss: 0.5418 - val_accuracy: 0.8416\n",
            "Epoch 19/100\n",
            "125/125 [==============================] - 2s 13ms/step - loss: 0.4517 - accuracy: 0.8663 - val_loss: 0.5408 - val_accuracy: 0.8412\n",
            "Epoch 20/100\n",
            "125/125 [==============================] - 2s 13ms/step - loss: 0.4435 - accuracy: 0.8686 - val_loss: 0.5273 - val_accuracy: 0.8456\n",
            "Epoch 21/100\n",
            "125/125 [==============================] - 2s 12ms/step - loss: 0.4354 - accuracy: 0.8707 - val_loss: 0.5214 - val_accuracy: 0.8470\n",
            "Epoch 22/100\n",
            "125/125 [==============================] - 2s 13ms/step - loss: 0.4288 - accuracy: 0.8730 - val_loss: 0.5167 - val_accuracy: 0.8483\n",
            "Epoch 23/100\n",
            "125/125 [==============================] - 2s 12ms/step - loss: 0.4216 - accuracy: 0.8752 - val_loss: 0.5197 - val_accuracy: 0.8483\n",
            "Epoch 24/100\n",
            "125/125 [==============================] - 1s 11ms/step - loss: 0.4139 - accuracy: 0.8777 - val_loss: 0.5104 - val_accuracy: 0.8495\n",
            "Epoch 25/100\n",
            "125/125 [==============================] - 1s 11ms/step - loss: 0.4072 - accuracy: 0.8793 - val_loss: 0.5068 - val_accuracy: 0.8508\n",
            "Epoch 26/100\n",
            "125/125 [==============================] - 1s 11ms/step - loss: 0.4012 - accuracy: 0.8809 - val_loss: 0.4974 - val_accuracy: 0.8534\n",
            "Epoch 27/100\n",
            "125/125 [==============================] - 1s 11ms/step - loss: 0.3953 - accuracy: 0.8826 - val_loss: 0.4930 - val_accuracy: 0.8548\n",
            "Epoch 28/100\n",
            "125/125 [==============================] - 1s 11ms/step - loss: 0.3890 - accuracy: 0.8845 - val_loss: 0.4891 - val_accuracy: 0.8557\n",
            "Epoch 29/100\n",
            "125/125 [==============================] - 1s 11ms/step - loss: 0.3837 - accuracy: 0.8862 - val_loss: 0.4847 - val_accuracy: 0.8577\n",
            "Epoch 30/100\n",
            "125/125 [==============================] - 2s 13ms/step - loss: 0.3780 - accuracy: 0.8878 - val_loss: 0.4817 - val_accuracy: 0.8589\n",
            "Epoch 31/100\n",
            "125/125 [==============================] - 2s 13ms/step - loss: 0.3729 - accuracy: 0.8894 - val_loss: 0.4802 - val_accuracy: 0.8594\n",
            "Epoch 32/100\n",
            "125/125 [==============================] - 1s 11ms/step - loss: 0.3680 - accuracy: 0.8905 - val_loss: 0.4769 - val_accuracy: 0.8606\n",
            "Epoch 33/100\n",
            "125/125 [==============================] - 1s 12ms/step - loss: 0.3627 - accuracy: 0.8924 - val_loss: 0.4739 - val_accuracy: 0.8601\n",
            "Epoch 34/100\n",
            "125/125 [==============================] - 2s 12ms/step - loss: 0.3585 - accuracy: 0.8936 - val_loss: 0.4728 - val_accuracy: 0.8608\n",
            "Epoch 35/100\n",
            "125/125 [==============================] - 1s 11ms/step - loss: 0.3534 - accuracy: 0.8948 - val_loss: 0.4734 - val_accuracy: 0.8612\n",
            "Epoch 36/100\n",
            "125/125 [==============================] - 1s 11ms/step - loss: 0.3486 - accuracy: 0.8962 - val_loss: 0.4676 - val_accuracy: 0.8629\n",
            "Epoch 37/100\n",
            "125/125 [==============================] - 1s 11ms/step - loss: 0.3439 - accuracy: 0.8976 - val_loss: 0.4643 - val_accuracy: 0.8646\n",
            "Epoch 38/100\n",
            "125/125 [==============================] - 2s 13ms/step - loss: 0.3391 - accuracy: 0.8991 - val_loss: 0.4654 - val_accuracy: 0.8642\n",
            "Epoch 39/100\n",
            "125/125 [==============================] - 2s 13ms/step - loss: 0.3348 - accuracy: 0.9000 - val_loss: 0.4649 - val_accuracy: 0.8651\n",
            "Epoch 40/100\n",
            "125/125 [==============================] - 1s 11ms/step - loss: 0.3307 - accuracy: 0.9014 - val_loss: 0.4677 - val_accuracy: 0.8636\n",
            "Epoch 41/100\n",
            "125/125 [==============================] - 1s 11ms/step - loss: 0.3266 - accuracy: 0.9024 - val_loss: 0.4621 - val_accuracy: 0.8649\n",
            "Epoch 42/100\n",
            "125/125 [==============================] - 1s 11ms/step - loss: 0.3226 - accuracy: 0.9039 - val_loss: 0.4601 - val_accuracy: 0.8662\n",
            "Epoch 43/100\n",
            "125/125 [==============================] - 1s 12ms/step - loss: 0.3187 - accuracy: 0.9047 - val_loss: 0.4597 - val_accuracy: 0.8666\n",
            "Epoch 44/100\n",
            "125/125 [==============================] - 1s 11ms/step - loss: 0.3144 - accuracy: 0.9059 - val_loss: 0.4624 - val_accuracy: 0.8658\n",
            "Epoch 45/100\n",
            "125/125 [==============================] - 1s 11ms/step - loss: 0.3108 - accuracy: 0.9068 - val_loss: 0.4577 - val_accuracy: 0.8678\n",
            "Epoch 46/100\n",
            "125/125 [==============================] - 1s 12ms/step - loss: 0.3064 - accuracy: 0.9083 - val_loss: 0.4572 - val_accuracy: 0.8682\n",
            "Epoch 47/100\n",
            "125/125 [==============================] - 2s 13ms/step - loss: 0.3032 - accuracy: 0.9094 - val_loss: 0.4560 - val_accuracy: 0.8687\n",
            "Epoch 48/100\n",
            "125/125 [==============================] - 2s 13ms/step - loss: 0.2994 - accuracy: 0.9102 - val_loss: 0.4601 - val_accuracy: 0.8684\n",
            "Epoch 49/100\n",
            "125/125 [==============================] - 1s 11ms/step - loss: 0.2957 - accuracy: 0.9115 - val_loss: 0.4572 - val_accuracy: 0.8694\n",
            "Epoch 50/100\n",
            "125/125 [==============================] - 2s 12ms/step - loss: 0.2919 - accuracy: 0.9127 - val_loss: 0.4573 - val_accuracy: 0.8702\n",
            "Epoch 51/100\n",
            "125/125 [==============================] - 2s 12ms/step - loss: 0.2882 - accuracy: 0.9137 - val_loss: 0.4587 - val_accuracy: 0.8690\n",
            "Epoch 52/100\n",
            "125/125 [==============================] - 1s 11ms/step - loss: 0.2846 - accuracy: 0.9146 - val_loss: 0.4570 - val_accuracy: 0.8691\n",
            "Epoch 53/100\n",
            "125/125 [==============================] - 2s 12ms/step - loss: 0.2814 - accuracy: 0.9155 - val_loss: 0.4547 - val_accuracy: 0.8708\n",
            "Epoch 54/100\n",
            "125/125 [==============================] - 1s 12ms/step - loss: 0.2776 - accuracy: 0.9167 - val_loss: 0.4629 - val_accuracy: 0.8698\n",
            "Epoch 55/100\n",
            "125/125 [==============================] - 2s 14ms/step - loss: 0.2748 - accuracy: 0.9171 - val_loss: 0.4576 - val_accuracy: 0.8701\n",
            "Epoch 56/100\n",
            "125/125 [==============================] - 1s 12ms/step - loss: 0.2710 - accuracy: 0.9187 - val_loss: 0.4597 - val_accuracy: 0.8708\n",
            "Epoch 57/100\n",
            "125/125 [==============================] - 2s 12ms/step - loss: 0.2682 - accuracy: 0.9190 - val_loss: 0.4579 - val_accuracy: 0.8711\n",
            "Epoch 58/100\n",
            "125/125 [==============================] - 1s 11ms/step - loss: 0.2650 - accuracy: 0.9202 - val_loss: 0.4626 - val_accuracy: 0.8702\n",
            "Epoch 59/100\n",
            "125/125 [==============================] - 1s 11ms/step - loss: 0.2619 - accuracy: 0.9212 - val_loss: 0.4600 - val_accuracy: 0.8711\n",
            "Epoch 60/100\n",
            "125/125 [==============================] - 1s 11ms/step - loss: 0.2584 - accuracy: 0.9218 - val_loss: 0.4617 - val_accuracy: 0.8705\n",
            "Epoch 61/100\n",
            "125/125 [==============================] - 1s 11ms/step - loss: 0.2554 - accuracy: 0.9230 - val_loss: 0.4625 - val_accuracy: 0.8720\n",
            "Epoch 62/100\n",
            "125/125 [==============================] - 1s 11ms/step - loss: 0.2523 - accuracy: 0.9239 - val_loss: 0.4642 - val_accuracy: 0.8716\n",
            "Epoch 63/100\n",
            "125/125 [==============================] - 2s 13ms/step - loss: 0.2497 - accuracy: 0.9245 - val_loss: 0.4689 - val_accuracy: 0.8706\n",
            "Epoch 64/100\n",
            "125/125 [==============================] - 2s 13ms/step - loss: 0.2463 - accuracy: 0.9256 - val_loss: 0.4654 - val_accuracy: 0.8710\n",
            "Epoch 65/100\n",
            "125/125 [==============================] - 1s 11ms/step - loss: 0.2432 - accuracy: 0.9264 - val_loss: 0.4645 - val_accuracy: 0.8717\n",
            "Epoch 66/100\n",
            "125/125 [==============================] - 1s 11ms/step - loss: 0.2408 - accuracy: 0.9271 - val_loss: 0.4686 - val_accuracy: 0.8712\n",
            "Epoch 67/100\n",
            "125/125 [==============================] - 1s 11ms/step - loss: 0.2380 - accuracy: 0.9279 - val_loss: 0.4700 - val_accuracy: 0.8714\n",
            "Epoch 68/100\n",
            "125/125 [==============================] - 1s 11ms/step - loss: 0.2349 - accuracy: 0.9291 - val_loss: 0.4700 - val_accuracy: 0.8711\n",
            "Epoch 69/100\n",
            "125/125 [==============================] - 1s 11ms/step - loss: 0.2328 - accuracy: 0.9294 - val_loss: 0.4675 - val_accuracy: 0.8721\n",
            "Epoch 70/100\n",
            "125/125 [==============================] - 1s 11ms/step - loss: 0.2293 - accuracy: 0.9306 - val_loss: 0.4725 - val_accuracy: 0.8719\n",
            "Epoch 71/100\n",
            "125/125 [==============================] - 2s 13ms/step - loss: 0.2272 - accuracy: 0.9312 - val_loss: 0.4751 - val_accuracy: 0.8721\n",
            "Epoch 72/100\n",
            "125/125 [==============================] - 2s 12ms/step - loss: 0.2239 - accuracy: 0.9320 - val_loss: 0.4822 - val_accuracy: 0.8711\n",
            "Epoch 73/100\n",
            "125/125 [==============================] - 1s 11ms/step - loss: 0.2214 - accuracy: 0.9329 - val_loss: 0.4769 - val_accuracy: 0.8722\n",
            "Epoch 74/100\n",
            "125/125 [==============================] - 2s 12ms/step - loss: 0.2187 - accuracy: 0.9337 - val_loss: 0.4803 - val_accuracy: 0.8718\n",
            "Epoch 75/100\n",
            "125/125 [==============================] - 1s 11ms/step - loss: 0.2162 - accuracy: 0.9344 - val_loss: 0.4837 - val_accuracy: 0.8715\n",
            "Epoch 76/100\n",
            "125/125 [==============================] - 1s 11ms/step - loss: 0.2133 - accuracy: 0.9351 - val_loss: 0.4836 - val_accuracy: 0.8709\n",
            "Epoch 77/100\n",
            "125/125 [==============================] - 2s 12ms/step - loss: 0.2112 - accuracy: 0.9359 - val_loss: 0.4882 - val_accuracy: 0.8710\n",
            "Epoch 78/100\n",
            "125/125 [==============================] - 1s 11ms/step - loss: 0.2087 - accuracy: 0.9366 - val_loss: 0.4870 - val_accuracy: 0.8713\n",
            "Epoch 79/100\n",
            "125/125 [==============================] - 1s 12ms/step - loss: 0.2062 - accuracy: 0.9374 - val_loss: 0.4875 - val_accuracy: 0.8713\n",
            "Epoch 80/100\n",
            "125/125 [==============================] - 2s 13ms/step - loss: 0.2039 - accuracy: 0.9381 - val_loss: 0.4926 - val_accuracy: 0.8708\n",
            "Epoch 81/100\n",
            "125/125 [==============================] - 2s 12ms/step - loss: 0.2018 - accuracy: 0.9386 - val_loss: 0.4938 - val_accuracy: 0.8712\n",
            "Epoch 82/100\n",
            "125/125 [==============================] - 1s 11ms/step - loss: 0.1990 - accuracy: 0.9394 - val_loss: 0.4928 - val_accuracy: 0.8714\n",
            "Epoch 83/100\n",
            "125/125 [==============================] - 1s 11ms/step - loss: 0.1973 - accuracy: 0.9401 - val_loss: 0.4952 - val_accuracy: 0.8723\n",
            "Epoch 84/100\n",
            "125/125 [==============================] - 2s 12ms/step - loss: 0.1943 - accuracy: 0.9408 - val_loss: 0.5063 - val_accuracy: 0.8703\n",
            "Epoch 85/100\n",
            "125/125 [==============================] - 2s 12ms/step - loss: 0.1922 - accuracy: 0.9413 - val_loss: 0.5029 - val_accuracy: 0.8712\n",
            "Epoch 86/100\n",
            "125/125 [==============================] - 1s 11ms/step - loss: 0.1904 - accuracy: 0.9420 - val_loss: 0.5041 - val_accuracy: 0.8713\n",
            "Epoch 87/100\n",
            "125/125 [==============================] - 2s 12ms/step - loss: 0.1880 - accuracy: 0.9427 - val_loss: 0.5029 - val_accuracy: 0.8713\n",
            "Epoch 88/100\n",
            "125/125 [==============================] - 2s 14ms/step - loss: 0.1857 - accuracy: 0.9431 - val_loss: 0.5074 - val_accuracy: 0.8720\n",
            "Epoch 89/100\n",
            "125/125 [==============================] - 1s 11ms/step - loss: 0.1833 - accuracy: 0.9441 - val_loss: 0.5091 - val_accuracy: 0.8705\n",
            "Epoch 90/100\n",
            "125/125 [==============================] - 1s 11ms/step - loss: 0.1813 - accuracy: 0.9448 - val_loss: 0.5122 - val_accuracy: 0.8711\n",
            "Epoch 91/100\n",
            "125/125 [==============================] - 2s 12ms/step - loss: 0.1793 - accuracy: 0.9453 - val_loss: 0.5141 - val_accuracy: 0.8713\n",
            "Epoch 92/100\n",
            "125/125 [==============================] - 1s 11ms/step - loss: 0.1773 - accuracy: 0.9459 - val_loss: 0.5215 - val_accuracy: 0.8698\n",
            "Epoch 93/100\n",
            "125/125 [==============================] - 1s 11ms/step - loss: 0.1754 - accuracy: 0.9463 - val_loss: 0.5186 - val_accuracy: 0.8713\n",
            "Epoch 94/100\n",
            "125/125 [==============================] - 2s 12ms/step - loss: 0.1734 - accuracy: 0.9473 - val_loss: 0.5199 - val_accuracy: 0.8707\n",
            "Epoch 95/100\n",
            "125/125 [==============================] - 2s 12ms/step - loss: 0.1714 - accuracy: 0.9476 - val_loss: 0.5275 - val_accuracy: 0.8704\n",
            "Epoch 96/100\n",
            "125/125 [==============================] - 2s 15ms/step - loss: 0.1689 - accuracy: 0.9485 - val_loss: 0.5252 - val_accuracy: 0.8708\n",
            "Epoch 97/100\n",
            "125/125 [==============================] - 1s 11ms/step - loss: 0.1676 - accuracy: 0.9487 - val_loss: 0.5321 - val_accuracy: 0.8711\n",
            "Epoch 98/100\n",
            "125/125 [==============================] - 1s 11ms/step - loss: 0.1660 - accuracy: 0.9490 - val_loss: 0.5303 - val_accuracy: 0.8704\n",
            "Epoch 99/100\n",
            "125/125 [==============================] - 1s 11ms/step - loss: 0.1640 - accuracy: 0.9497 - val_loss: 0.5331 - val_accuracy: 0.8704\n",
            "Epoch 100/100\n",
            "125/125 [==============================] - 1s 11ms/step - loss: 0.1618 - accuracy: 0.9504 - val_loss: 0.5389 - val_accuracy: 0.8697\n"
          ]
        },
        {
          "output_type": "execute_result",
          "data": {
            "text/plain": [
              "<keras.src.callbacks.History at 0x7a4e79f456c0>"
            ]
          },
          "metadata": {},
          "execution_count": 88
        }
      ]
    },
    {
      "cell_type": "code",
      "source": [
        "encoder_model = Model(encoder_inputs, encoder_states)\n",
        "\n",
        "decoder_state_input_h = Input(shape=(latent_dimension,))\n",
        "decoder_state_input_c = Input(shape=(latent_dimension,))\n",
        "decoder_states_inputs = [decoder_state_input_h, decoder_state_input_c]\n",
        "decoder_outputs, state_h, state_c = decoder_lstm(\n",
        "    decoder_inputs, initial_state=decoder_states_inputs)\n",
        "decoder_states = [state_h, state_c]\n",
        "decoder_outputs = decoder_dense(decoder_outputs)\n",
        "decoder_model = Model(\n",
        "    [decoder_inputs] + decoder_states_inputs,\n",
        "    [decoder_outputs] + decoder_states)"
      ],
      "metadata": {
        "id": "wQCwDPSEdjOo"
      },
      "execution_count": 89,
      "outputs": []
    },
    {
      "cell_type": "code",
      "source": [
        "reverse_input_char_index = dict(\n",
        "    (i, char) for char, i in input_token_index.items())\n",
        "reverse_target_char_index = dict(\n",
        "    (i, char) for char, i in target_token_index.items())"
      ],
      "metadata": {
        "id": "xdMXH_FIdoXu"
      },
      "execution_count": 90,
      "outputs": []
    },
    {
      "cell_type": "code",
      "source": [
        "def decode_sequence(input_seq):\n",
        "    # Encode the input as state vectors.\n",
        "    states_value = encoder_model.predict(input_seq)\n",
        "\n",
        "    # Generate empty target sequence of length 1.\n",
        "    target_seq = np.zeros((1, 1, num_decoder_tokens))\n",
        "    # Populate the first character of target sequence with the start character.\n",
        "    target_seq[0, 0, target_token_index['\\t']] = 1.\n",
        "\n",
        "    # Sampling loop for a batch of sequences\n",
        "    # (to simplify, here we assume a batch of size 1).\n",
        "    stop_condition = False\n",
        "    decoded_sentence = ''\n",
        "    while not stop_condition:\n",
        "        output_tokens, h, c = decoder_model.predict(\n",
        "            [target_seq] + states_value)\n",
        "\n",
        "        # Sample a token\n",
        "        sampled_token_index = np.argmax(output_tokens[0, -1, :])\n",
        "        sampled_char = reverse_target_char_index[sampled_token_index]\n",
        "        decoded_sentence += sampled_char\n",
        "\n",
        "        # Exit condition: either hit max length\n",
        "        # or find stop character.\n",
        "        if (sampled_char == '\\n' or\n",
        "           len(decoded_sentence) > max_decoder_seq_length):\n",
        "            stop_condition = True\n",
        "\n",
        "        # Update the target sequence (of length 1).\n",
        "        target_seq = np.zeros((1, 1, num_decoder_tokens))\n",
        "        target_seq[0, 0, sampled_token_index] = 1.\n",
        "\n",
        "        # Update states\n",
        "        states_value = [h, c]\n",
        "\n",
        "    return decoded_sentence"
      ],
      "metadata": {
        "id": "UIMT_f07drCj"
      },
      "execution_count": 91,
      "outputs": []
    },
    {
      "cell_type": "code",
      "source": [
        "for seq_index in range(10):\n",
        "    # Take one sequence (part of the training set)\n",
        "    # for trying out decoding.\n",
        "    input_seq = encoder_input_data[seq_index: seq_index + 1]\n",
        "    decoded_sentence = decode_sequence(input_seq)\n",
        "    print('-')\n",
        "    print('Input sentence:', input_texts[seq_index])\n",
        "    print('Decoded sentence:', decoded_sentence)"
      ],
      "metadata": {
        "colab": {
          "base_uri": "https://localhost:8080/"
        },
        "id": "dM1mlPKJdxa_",
        "outputId": "ac22d6f2-4320-4a70-acbd-6a5bc2169875"
      },
      "execution_count": 93,
      "outputs": [
        {
          "output_type": "stream",
          "name": "stdout",
          "text": [
            "1/1 [==============================] - 0s 17ms/step\n",
            "1/1 [==============================] - 0s 17ms/step\n",
            "1/1 [==============================] - 0s 19ms/step\n",
            "1/1 [==============================] - 0s 21ms/step\n",
            "1/1 [==============================] - 0s 18ms/step\n",
            "1/1 [==============================] - 0s 19ms/step\n",
            "-\n",
            "Input sentence: Go.\n",
            "Decoded sentence: Va !\n",
            "\n",
            "1/1 [==============================] - 0s 16ms/step\n",
            "1/1 [==============================] - 0s 20ms/step\n",
            "1/1 [==============================] - 0s 19ms/step\n",
            "1/1 [==============================] - 0s 18ms/step\n",
            "1/1 [==============================] - 0s 20ms/step\n",
            "1/1 [==============================] - 0s 25ms/step\n",
            "1/1 [==============================] - 0s 19ms/step\n",
            "1/1 [==============================] - 0s 20ms/step\n",
            "1/1 [==============================] - 0s 19ms/step\n",
            "-\n",
            "Input sentence: Hi.\n",
            "Decoded sentence: Salut !\n",
            "\n",
            "1/1 [==============================] - 0s 16ms/step\n",
            "1/1 [==============================] - 0s 17ms/step\n",
            "1/1 [==============================] - 0s 18ms/step\n",
            "1/1 [==============================] - 0s 18ms/step\n",
            "1/1 [==============================] - 0s 18ms/step\n",
            "1/1 [==============================] - 0s 19ms/step\n",
            "1/1 [==============================] - 0s 19ms/step\n",
            "1/1 [==============================] - 0s 24ms/step\n",
            "1/1 [==============================] - 0s 20ms/step\n",
            "-\n",
            "Input sentence: Hi.\n",
            "Decoded sentence: Salut !\n",
            "\n",
            "1/1 [==============================] - 0s 17ms/step\n",
            "1/1 [==============================] - 0s 20ms/step\n",
            "1/1 [==============================] - 0s 18ms/step\n",
            "1/1 [==============================] - 0s 21ms/step\n",
            "1/1 [==============================] - 0s 25ms/step\n",
            "1/1 [==============================] - 0s 22ms/step\n",
            "1/1 [==============================] - 0s 18ms/step\n",
            "1/1 [==============================] - 0s 20ms/step\n",
            "1/1 [==============================] - 0s 18ms/step\n",
            "-\n",
            "Input sentence: Run!\n",
            "Decoded sentence: Allez !\n",
            "\n",
            "1/1 [==============================] - 0s 15ms/step\n",
            "1/1 [==============================] - 0s 17ms/step\n",
            "1/1 [==============================] - 0s 18ms/step\n",
            "1/1 [==============================] - 0s 18ms/step\n",
            "1/1 [==============================] - 0s 19ms/step\n",
            "1/1 [==============================] - 0s 19ms/step\n",
            "1/1 [==============================] - 0s 19ms/step\n",
            "1/1 [==============================] - 0s 21ms/step\n",
            "1/1 [==============================] - 0s 19ms/step\n",
            "-\n",
            "Input sentence: Run!\n",
            "Decoded sentence: Allez !\n",
            "\n",
            "1/1 [==============================] - 0s 17ms/step\n",
            "1/1 [==============================] - 0s 18ms/step\n",
            "1/1 [==============================] - 0s 18ms/step\n",
            "1/1 [==============================] - 0s 20ms/step\n",
            "1/1 [==============================] - 0s 23ms/step\n",
            "1/1 [==============================] - 0s 18ms/step\n",
            "1/1 [==============================] - 0s 20ms/step\n",
            "1/1 [==============================] - 0s 18ms/step\n",
            "1/1 [==============================] - 0s 18ms/step\n",
            "1/1 [==============================] - 0s 18ms/step\n",
            "1/1 [==============================] - 0s 20ms/step\n",
            "1/1 [==============================] - 0s 18ms/step\n",
            "1/1 [==============================] - 0s 21ms/step\n",
            "1/1 [==============================] - 0s 19ms/step\n",
            "-\n",
            "Input sentence: Who?\n",
            "Decoded sentence: Qui est-il ?\n",
            "\n",
            "1/1 [==============================] - 0s 17ms/step\n",
            "1/1 [==============================] - 0s 20ms/step\n",
            "1/1 [==============================] - 0s 20ms/step\n",
            "1/1 [==============================] - 0s 19ms/step\n",
            "1/1 [==============================] - 0s 19ms/step\n",
            "1/1 [==============================] - 0s 18ms/step\n",
            "1/1 [==============================] - 0s 41ms/step\n",
            "1/1 [==============================] - 0s 30ms/step\n",
            "1/1 [==============================] - 0s 29ms/step\n",
            "1/1 [==============================] - 0s 29ms/step\n",
            "1/1 [==============================] - 0s 27ms/step\n",
            "1/1 [==============================] - 0s 28ms/step\n",
            "1/1 [==============================] - 0s 30ms/step\n",
            "1/1 [==============================] - 0s 28ms/step\n",
            "1/1 [==============================] - 0s 28ms/step\n",
            "1/1 [==============================] - 0s 29ms/step\n",
            "-\n",
            "Input sentence: Wow!\n",
            "Decoded sentence: Tomblane-toi !\n",
            "\n",
            "1/1 [==============================] - 0s 24ms/step\n",
            "1/1 [==============================] - 0s 29ms/step\n",
            "1/1 [==============================] - 0s 31ms/step\n",
            "1/1 [==============================] - 0s 31ms/step\n",
            "1/1 [==============================] - 0s 28ms/step\n",
            "1/1 [==============================] - 0s 28ms/step\n",
            "1/1 [==============================] - 0s 27ms/step\n",
            "1/1 [==============================] - 0s 28ms/step\n",
            "1/1 [==============================] - 0s 30ms/step\n",
            "1/1 [==============================] - 0s 32ms/step\n",
            "1/1 [==============================] - 0s 28ms/step\n",
            "1/1 [==============================] - 0s 27ms/step\n",
            "-\n",
            "Input sentence: Fire!\n",
            "Decoded sentence: La voure !\n",
            "\n",
            "1/1 [==============================] - 0s 24ms/step\n",
            "1/1 [==============================] - 0s 39ms/step\n",
            "1/1 [==============================] - 0s 18ms/step\n",
            "1/1 [==============================] - 0s 19ms/step\n",
            "1/1 [==============================] - 0s 18ms/step\n",
            "1/1 [==============================] - 0s 18ms/step\n",
            "1/1 [==============================] - 0s 19ms/step\n",
            "1/1 [==============================] - 0s 22ms/step\n",
            "1/1 [==============================] - 0s 19ms/step\n",
            "1/1 [==============================] - 0s 18ms/step\n",
            "1/1 [==============================] - 0s 19ms/step\n",
            "1/1 [==============================] - 0s 18ms/step\n",
            "-\n",
            "Input sentence: Help!\n",
            "Decoded sentence: Aide-moi !\n",
            "\n",
            "1/1 [==============================] - 0s 17ms/step\n",
            "1/1 [==============================] - 0s 18ms/step\n",
            "1/1 [==============================] - 0s 18ms/step\n",
            "1/1 [==============================] - 0s 18ms/step\n",
            "1/1 [==============================] - 0s 19ms/step\n",
            "1/1 [==============================] - 0s 18ms/step\n",
            "1/1 [==============================] - 0s 21ms/step\n",
            "1/1 [==============================] - 0s 18ms/step\n",
            "-\n",
            "Input sentence: Jump.\n",
            "Decoded sentence: Vas-y.\n",
            "\n"
          ]
        }
      ]
    },
    {
      "cell_type": "code",
      "source": [],
      "metadata": {
        "id": "MUzKQUsXd0vF"
      },
      "execution_count": null,
      "outputs": []
    }
  ]
}