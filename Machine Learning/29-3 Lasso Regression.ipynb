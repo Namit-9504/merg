{
 "cells": [
  {
   "cell_type": "markdown",
   "id": "22c27431-ff37-48c6-a4e7-346f141265ce",
   "metadata": {},
   "source": [
    "# Lasso regression"
   ]
  },
  {
   "cell_type": "markdown",
   "id": "3ec3e38f-d9bd-4b59-b62d-8c7835c9a41f",
   "metadata": {},
   "source": [
    "see note book and pdf"
   ]
  },
  {
   "cell_type": "code",
   "execution_count": null,
   "id": "80840ad4-3bc7-42ac-aa46-730b093b0709",
   "metadata": {},
   "outputs": [],
   "source": []
  }
 ],
 "metadata": {
  "kernelspec": {
   "display_name": "Python 3 (ipykernel)",
   "language": "python",
   "name": "python3"
  },
  "language_info": {
   "codemirror_mode": {
    "name": "ipython",
    "version": 3
   },
   "file_extension": ".py",
   "mimetype": "text/x-python",
   "name": "python",
   "nbconvert_exporter": "python",
   "pygments_lexer": "ipython3",
   "version": "3.10.8"
  }
 },
 "nbformat": 4,
 "nbformat_minor": 5
}
