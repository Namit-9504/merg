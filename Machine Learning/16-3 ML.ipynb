{
 "cells": [
  {
   "cell_type": "markdown",
   "id": "7e0a6203-a1e8-40a1-b4dd-3dab069a3d58",
   "metadata": {
    "tags": []
   },
   "source": [
    "# DATA SCIENCE FOLDER\n",
    "\n",
    "## Bias, variance, Overfitting Underfitting\n",
    "\n",
    "### Model  Performance\n",
    "\n",
    "It means High Accurancy\n",
    "\n",
    "\n",
    "\n",
    "### Bias \n",
    "\n",
    "Bias is depends on a tarin data set \n",
    "\n",
    "if accurancy of train dataset is high then the our bias is low\n",
    "\n",
    "if accurancy of train dataset is low then the our bias is high\n",
    "\n",
    "### Variance\n",
    "\n",
    "Variance is depends on Test dataset\n",
    "\n",
    "if accurancy of test dataset is high then the our variance is low\n",
    "\n",
    "if accurancy of test dataset is low then the our variance is high\n",
    "\n",
    "\n",
    "\n",
    "### Overfitting And Underfitting\n",
    "\n",
    "#### With respect to perticular data set we performed Train set and test set\n",
    "\n",
    "#### For overfitting\n",
    "\n",
    "After performing train set we check the accurancy of that module and we got good or high accurancy\n",
    "\n",
    "And for that same module we perfromed a test set and we got a bad or low accurancy  \n",
    "\n",
    "At this condition our dataset is a Overfitting data set\n",
    "\n",
    "For Overfitting Condition Bias is low and Variance is High\n",
    "\n",
    "\n",
    "#### For UnderFitting \n",
    "\n",
    "After performing train set we check the accurancy of that module and we got bad or low accurancy\n",
    "\n",
    "And for that same module we perfromed a test set and here  we also got a bad or low accurancy  \n",
    "\n",
    "At this condition our dataset is a Underfitting data set\n",
    "\n",
    "For Underfitting Condition is  Bias and Variance is High\n",
    "\n",
    "### Genralize Model \n",
    "#### In Industry Our Role is Produce Genralize Model \n",
    "\n",
    "After performing train set we check the accurancy of that module and we got good or high accurancy\n",
    "\n",
    "And for that same module we perfromed a test set and here  we also got a good or high accurancy  \n",
    "\n",
    "For Genralize Model Condition is Bias And Variance is Low"
   ]
  },
  {
   "cell_type": "code",
   "execution_count": null,
   "id": "3fd0be28-39f8-4f7b-b169-de6b1322de88",
   "metadata": {},
   "outputs": [],
   "source": []
  }
 ],
 "metadata": {
  "kernelspec": {
   "display_name": "Python 3 (ipykernel)",
   "language": "python",
   "name": "python3"
  },
  "language_info": {
   "codemirror_mode": {
    "name": "ipython",
    "version": 3
   },
   "file_extension": ".py",
   "mimetype": "text/x-python",
   "name": "python",
   "nbconvert_exporter": "python",
   "pygments_lexer": "ipython3",
   "version": "3.10.8"
  }
 },
 "nbformat": 4,
 "nbformat_minor": 5
}
