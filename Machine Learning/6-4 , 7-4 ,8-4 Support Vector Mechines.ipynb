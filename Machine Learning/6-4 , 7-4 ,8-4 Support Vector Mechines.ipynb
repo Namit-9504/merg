{
 "cells": [
  {
   "cell_type": "markdown",
   "id": "3fbedebc-5c55-455f-88aa-e8da174c5d29",
   "metadata": {
    "jp-MarkdownHeadingCollapsed": true,
    "tags": []
   },
   "source": [
    "## Theory "
   ]
  },
  {
   "cell_type": "markdown",
   "id": "6ce79c87-0cc3-4b6c-9c95-ea8d3b98d987",
   "metadata": {},
   "source": [
    "###  Support Vector Classifier In depth Intuition"
   ]
  },
  {
   "cell_type": "markdown",
   "id": "576dbd5e-0e13-4cb7-8acc-536e0a368909",
   "metadata": {},
   "source": [
    "###  Support Vector Regression Indepth Intuition"
   ]
  },
  {
   "cell_type": "markdown",
   "id": "5e0294e9-855a-4325-88ec-20fd760b54d6",
   "metadata": {},
   "source": [
    "### SVM Kernels"
   ]
  },
  {
   "cell_type": "markdown",
   "id": "aada92f3-577a-4a14-955e-f7a155d8351b",
   "metadata": {
    "jp-MarkdownHeadingCollapsed": true,
    "tags": []
   },
   "source": [
    "##  Support Vector Classifier Implementation"
   ]
  },
  {
   "cell_type": "code",
   "execution_count": 7,
   "id": "afd31517-3467-4b36-8a5a-3fd553d53904",
   "metadata": {},
   "outputs": [],
   "source": [
    "import pandas as pd\n",
    "import numpy as np\n",
    "import seaborn as sns\n",
    "import matplotlib.pyplot as plt\n",
    "%matplotlib inline "
   ]
  },
  {
   "cell_type": "code",
   "execution_count": 8,
   "id": "f6092029-cd63-4cc9-b4e1-58276364cb2c",
   "metadata": {},
   "outputs": [],
   "source": [
    "from sklearn.datasets import make_classification"
   ]
  },
  {
   "cell_type": "code",
   "execution_count": 9,
   "id": "ba57076e-d364-4b5b-b185-899774f0969c",
   "metadata": {},
   "outputs": [],
   "source": [
    "X,y=make_classification(n_classes=2,n_samples=1000,n_features=2,n_redundant=0,n_clusters_per_class=2)"
   ]
  },
  {
   "cell_type": "code",
   "execution_count": 10,
   "id": "7df7c8ab-decf-46c6-86e7-2d7d06cb7ffb",
   "metadata": {},
   "outputs": [
    {
     "data": {
      "text/plain": [
       "array([[-1.9195797 , -2.20744242],\n",
       "       [ 2.51939209,  2.09545857],\n",
       "       [ 0.07681492,  0.05473291],\n",
       "       ...,\n",
       "       [-0.83142377, -0.5279089 ],\n",
       "       [ 1.97840449, -1.27980632],\n",
       "       [-0.56247959, -0.34178692]])"
      ]
     },
     "execution_count": 10,
     "metadata": {},
     "output_type": "execute_result"
    }
   ],
   "source": [
    "X"
   ]
  },
  {
   "cell_type": "code",
   "execution_count": 11,
   "id": "f502ce57-2101-470c-93f0-4d98a29a2524",
   "metadata": {},
   "outputs": [
    {
     "data": {
      "text/plain": [
       "array([0, 1, 1, 0, 0, 1, 1, 0, 1, 1, 1, 1, 0, 1, 1, 1, 0, 0, 1, 0, 0, 0,\n",
       "       1, 1, 0, 0, 0, 1, 0, 0, 0, 1, 0, 0, 0, 1, 1, 0, 0, 1, 1, 1, 0, 0,\n",
       "       1, 0, 1, 0, 1, 0, 1, 1, 0, 1, 1, 0, 1, 1, 1, 0, 1, 0, 0, 1, 1, 0,\n",
       "       1, 0, 1, 1, 0, 1, 1, 1, 0, 0, 0, 1, 1, 1, 1, 0, 0, 0, 1, 0, 0, 1,\n",
       "       1, 1, 1, 0, 0, 0, 0, 1, 0, 1, 0, 1, 1, 1, 0, 0, 0, 0, 1, 0, 0, 1,\n",
       "       1, 1, 1, 0, 1, 1, 1, 0, 1, 1, 0, 1, 1, 1, 1, 1, 1, 1, 0, 0, 0, 0,\n",
       "       0, 0, 0, 0, 1, 1, 1, 0, 0, 0, 1, 1, 1, 1, 0, 0, 1, 0, 1, 0, 1, 0,\n",
       "       0, 0, 1, 0, 0, 0, 1, 1, 1, 0, 1, 0, 1, 1, 1, 0, 0, 1, 1, 1, 0, 1,\n",
       "       0, 1, 0, 1, 0, 1, 1, 1, 0, 1, 1, 1, 0, 1, 0, 1, 1, 1, 0, 1, 0, 1,\n",
       "       0, 1, 1, 1, 1, 0, 0, 1, 0, 0, 0, 0, 1, 1, 0, 0, 0, 0, 0, 1, 1, 0,\n",
       "       1, 0, 1, 0, 1, 0, 0, 1, 0, 0, 1, 1, 0, 0, 0, 0, 1, 0, 0, 0, 0, 0,\n",
       "       1, 1, 1, 0, 1, 1, 1, 0, 0, 1, 1, 1, 0, 0, 1, 1, 0, 1, 0, 1, 0, 0,\n",
       "       1, 1, 1, 0, 1, 1, 0, 1, 1, 0, 0, 0, 0, 1, 0, 1, 0, 0, 1, 1, 0, 1,\n",
       "       0, 1, 1, 0, 0, 1, 1, 1, 1, 1, 0, 1, 1, 0, 1, 0, 0, 0, 1, 1, 1, 1,\n",
       "       0, 1, 0, 0, 0, 0, 0, 0, 1, 0, 0, 0, 0, 1, 1, 1, 1, 1, 1, 0, 1, 0,\n",
       "       0, 0, 0, 1, 0, 1, 0, 0, 1, 0, 0, 0, 1, 0, 1, 1, 1, 1, 0, 0, 1, 0,\n",
       "       1, 0, 1, 1, 0, 1, 1, 0, 1, 0, 1, 0, 0, 1, 0, 0, 0, 0, 1, 0, 0, 1,\n",
       "       1, 0, 0, 1, 0, 0, 1, 1, 1, 0, 1, 0, 1, 0, 1, 1, 0, 1, 0, 1, 1, 1,\n",
       "       0, 1, 0, 1, 0, 0, 0, 1, 1, 0, 0, 1, 1, 0, 1, 1, 1, 0, 1, 0, 1, 1,\n",
       "       0, 1, 1, 1, 0, 1, 0, 0, 0, 0, 1, 1, 1, 1, 1, 1, 0, 1, 1, 0, 1, 0,\n",
       "       1, 0, 0, 0, 0, 1, 0, 0, 0, 1, 1, 1, 0, 1, 0, 1, 1, 1, 1, 0, 1, 1,\n",
       "       0, 0, 0, 0, 1, 1, 0, 0, 1, 1, 1, 1, 0, 1, 0, 1, 1, 1, 1, 1, 1, 1,\n",
       "       0, 0, 0, 0, 0, 0, 1, 1, 0, 1, 0, 1, 1, 1, 1, 1, 1, 1, 1, 0, 1, 1,\n",
       "       0, 1, 1, 0, 0, 0, 1, 0, 1, 1, 0, 1, 0, 0, 0, 0, 1, 0, 1, 1, 1, 1,\n",
       "       0, 1, 1, 0, 1, 0, 1, 1, 1, 0, 1, 1, 0, 1, 0, 1, 1, 0, 0, 0, 0, 0,\n",
       "       1, 1, 0, 1, 1, 0, 1, 1, 1, 0, 0, 0, 1, 0, 0, 1, 0, 0, 1, 1, 1, 0,\n",
       "       0, 1, 0, 1, 1, 0, 1, 1, 1, 0, 1, 1, 1, 0, 0, 0, 1, 1, 1, 0, 1, 0,\n",
       "       0, 0, 1, 0, 1, 1, 0, 1, 1, 0, 1, 0, 0, 1, 1, 0, 1, 0, 1, 1, 0, 1,\n",
       "       0, 1, 1, 0, 1, 1, 0, 1, 0, 0, 0, 1, 0, 0, 0, 1, 0, 1, 0, 0, 0, 1,\n",
       "       0, 0, 1, 1, 0, 0, 0, 0, 1, 0, 0, 0, 0, 1, 0, 1, 0, 0, 0, 0, 0, 1,\n",
       "       0, 0, 1, 0, 1, 0, 0, 0, 0, 1, 0, 1, 0, 0, 1, 0, 1, 0, 0, 1, 1, 1,\n",
       "       0, 1, 1, 1, 0, 0, 0, 0, 1, 1, 0, 1, 0, 0, 0, 1, 0, 0, 1, 1, 0, 0,\n",
       "       1, 1, 0, 1, 1, 0, 0, 1, 1, 0, 0, 0, 0, 0, 1, 0, 0, 0, 0, 1, 1, 1,\n",
       "       1, 1, 1, 1, 1, 0, 1, 0, 1, 0, 1, 0, 0, 0, 1, 0, 0, 0, 1, 1, 0, 1,\n",
       "       1, 1, 1, 1, 0, 0, 0, 1, 0, 0, 0, 0, 1, 1, 0, 0, 0, 1, 0, 0, 1, 0,\n",
       "       1, 0, 0, 0, 1, 1, 0, 0, 1, 1, 1, 0, 0, 0, 1, 0, 1, 0, 1, 0, 1, 1,\n",
       "       0, 0, 0, 0, 0, 0, 0, 1, 1, 0, 1, 0, 1, 0, 1, 1, 0, 0, 1, 0, 0, 0,\n",
       "       1, 0, 1, 0, 1, 1, 1, 1, 0, 1, 0, 1, 1, 1, 0, 1, 0, 1, 0, 1, 1, 0,\n",
       "       1, 0, 1, 1, 1, 0, 0, 1, 0, 1, 1, 0, 1, 0, 1, 1, 0, 1, 0, 0, 0, 1,\n",
       "       1, 0, 0, 1, 0, 1, 1, 0, 0, 0, 1, 0, 1, 0, 0, 1, 0, 0, 0, 1, 0, 1,\n",
       "       0, 0, 0, 1, 0, 0, 0, 0, 1, 1, 1, 0, 1, 1, 1, 0, 1, 0, 0, 1, 0, 0,\n",
       "       1, 0, 1, 0, 1, 1, 0, 1, 1, 1, 1, 1, 0, 1, 0, 1, 1, 0, 0, 0, 0, 1,\n",
       "       0, 0, 1, 0, 0, 1, 0, 0, 0, 0, 0, 1, 0, 0, 1, 0, 0, 1, 1, 1, 1, 0,\n",
       "       1, 0, 0, 0, 0, 0, 1, 0, 0, 0, 1, 0, 1, 0, 1, 1, 1, 0, 1, 1, 1, 0,\n",
       "       1, 0, 1, 1, 1, 0, 1, 1, 1, 0, 0, 0, 1, 0, 0, 0, 0, 1, 1, 1, 0, 1,\n",
       "       0, 1, 1, 1, 1, 0, 0, 0, 1, 0])"
      ]
     },
     "execution_count": 11,
     "metadata": {},
     "output_type": "execute_result"
    }
   ],
   "source": [
    "y"
   ]
  },
  {
   "cell_type": "code",
   "execution_count": 12,
   "id": "b0925881-ff72-4cea-b0ec-6cde897a51cc",
   "metadata": {},
   "outputs": [
    {
     "data": {
      "text/plain": [
       "<AxesSubplot: xlabel='0', ylabel='1'>"
      ]
     },
     "execution_count": 12,
     "metadata": {},
     "output_type": "execute_result"
    },
    {
     "data": {
      "image/png": "[encoded data removed]",
      "text/plain": [
       "<Figure size 640x480 with 1 Axes>"
      ]
     },
     "metadata": {},
     "output_type": "display_data"
    }
   ],
   "source": [
    "sns.scatterplot(x=pd.DataFrame(X)[0],y=pd.DataFrame(X)[1],hue=y)"
   ]
  },
  {
   "cell_type": "code",
   "execution_count": 13,
   "id": "1e2979e1-4405-4109-972d-28c892728120",
   "metadata": {},
   "outputs": [],
   "source": [
    "from sklearn.model_selection import train_test_split"
   ]
  },
  {
   "cell_type": "code",
   "execution_count": 14,
   "id": "439a42ee-8cdc-4d5f-b61f-7911b5bea45a",
   "metadata": {},
   "outputs": [],
   "source": [
    "X_train,X_test,y_train,y_test=train_test_split(X,y,test_size=0.25,random_state=10)"
   ]
  },
  {
   "cell_type": "code",
   "execution_count": 15,
   "id": "9df5a754-ed87-4e37-9bfa-02dbf645cc1b",
   "metadata": {},
   "outputs": [],
   "source": [
    "from sklearn.svm import SVC "
   ]
  },
  {
   "cell_type": "code",
   "execution_count": 16,
   "id": "7276b7c8-332e-4705-b8ce-9ea205542f51",
   "metadata": {},
   "outputs": [],
   "source": [
    "svc=SVC(kernel='linear')"
   ]
  },
  {
   "cell_type": "code",
   "execution_count": 17,
   "id": "8dc01345-3187-4319-9f50-ee450be8a3f3",
   "metadata": {},
   "outputs": [
    {
     "data": {
      "text/html": [
       "<style>#sk-container-id-1 {color: black;background-color: white;}#sk-container-id-1 pre{padding: 0;}#sk-container-id-1 div.sk-toggleable {background-color: white;}#sk-container-id-1 label.sk-toggleable__label {cursor: pointer;display: block;width: 100%;margin-bottom: 0;padding: 0.3em;box-sizing: border-box;text-align: center;}#sk-container-id-1 label.sk-toggleable__label-arrow:before {content: \"▸\";float: left;margin-right: 0.25em;color: #696969;}#sk-container-id-1 label.sk-toggleable__label-arrow:hover:before {color: black;}#sk-container-id-1 div.sk-estimator:hover label.sk-toggleable__label-arrow:before {color: black;}#sk-container-id-1 div.sk-toggleable__content {max-height: 0;max-width: 0;overflow: hidden;text-align: left;background-color: #f0f8ff;}#sk-container-id-1 div.sk-toggleable__content pre {margin: 0.2em;color: black;border-radius: 0.25em;background-color: #f0f8ff;}#sk-container-id-1 input.sk-toggleable__control:checked~div.sk-toggleable__content {max-height: 200px;max-width: 100%;overflow: auto;}#sk-container-id-1 input.sk-toggleable__control:checked~label.sk-toggleable__label-arrow:before {content: \"▾\";}#sk-container-id-1 div.sk-estimator input.sk-toggleable__control:checked~label.sk-toggleable__label {background-color: #d4ebff;}#sk-container-id-1 div.sk-label input.sk-toggleable__control:checked~label.sk-toggleable__label {background-color: #d4ebff;}#sk-container-id-1 input.sk-hidden--visually {border: 0;clip: rect(1px 1px 1px 1px);clip: rect(1px, 1px, 1px, 1px);height: 1px;margin: -1px;overflow: hidden;padding: 0;position: absolute;width: 1px;}#sk-container-id-1 div.sk-estimator {font-family: monospace;background-color: #f0f8ff;border: 1px dotted black;border-radius: 0.25em;box-sizing: border-box;margin-bottom: 0.5em;}#sk-container-id-1 div.sk-estimator:hover {background-color: #d4ebff;}#sk-container-id-1 div.sk-parallel-item::after {content: \"\";width: 100%;border-bottom: 1px solid gray;flex-grow: 1;}#sk-container-id-1 div.sk-label:hover label.sk-toggleable__label {background-color: #d4ebff;}#sk-container-id-1 div.sk-serial::before {content: \"\";position: absolute;border-left: 1px solid gray;box-sizing: border-box;top: 0;bottom: 0;left: 50%;z-index: 0;}#sk-container-id-1 div.sk-serial {display: flex;flex-direction: column;align-items: center;background-color: white;padding-right: 0.2em;padding-left: 0.2em;position: relative;}#sk-container-id-1 div.sk-item {position: relative;z-index: 1;}#sk-container-id-1 div.sk-parallel {display: flex;align-items: stretch;justify-content: center;background-color: white;position: relative;}#sk-container-id-1 div.sk-item::before, #sk-container-id-1 div.sk-parallel-item::before {content: \"\";position: absolute;border-left: 1px solid gray;box-sizing: border-box;top: 0;bottom: 0;left: 50%;z-index: -1;}#sk-container-id-1 div.sk-parallel-item {display: flex;flex-direction: column;z-index: 1;position: relative;background-color: white;}#sk-container-id-1 div.sk-parallel-item:first-child::after {align-self: flex-end;width: 50%;}#sk-container-id-1 div.sk-parallel-item:last-child::after {align-self: flex-start;width: 50%;}#sk-container-id-1 div.sk-parallel-item:only-child::after {width: 0;}#sk-container-id-1 div.sk-dashed-wrapped {border: 1px dashed gray;margin: 0 0.4em 0.5em 0.4em;box-sizing: border-box;padding-bottom: 0.4em;background-color: white;}#sk-container-id-1 div.sk-label label {font-family: monospace;font-weight: bold;display: inline-block;line-height: 1.2em;}#sk-container-id-1 div.sk-label-container {text-align: center;}#sk-container-id-1 div.sk-container {/* jupyter's `normalize.less` sets `[hidden] { display: none; }` but bootstrap.min.css set `[hidden] { display: none !important; }` so we also need the `!important` here to be able to override the default hidden behavior on the sphinx rendered scikit-learn.org. See: https://github.com/scikit-learn/scikit-learn/issues/21755 */display: inline-block !important;position: relative;}#sk-container-id-1 div.sk-text-repr-fallback {display: none;}</style><div id=\"sk-container-id-1\" class=\"sk-top-container\"><div class=\"sk-text-repr-fallback\"><pre>SVC(kernel=&#x27;linear&#x27;)</pre><b>In a Jupyter environment, please rerun this cell to show the HTML representation or trust the notebook. <br />On GitHub, the HTML representation is unable to render, please try loading this page with nbviewer.org.</b></div><div class=\"sk-container\" hidden><div class=\"sk-item\"><div class=\"sk-estimator sk-toggleable\"><input class=\"sk-toggleable__control sk-hidden--visually\" id=\"sk-estimator-id-1\" type=\"checkbox\" checked><label for=\"sk-estimator-id-1\" class=\"sk-toggleable__label sk-toggleable__label-arrow\">SVC</label><div class=\"sk-toggleable__content\"><pre>SVC(kernel=&#x27;linear&#x27;)</pre></div></div></div></div></div>"
      ],
      "text/plain": [
       "SVC(kernel='linear')"
      ]
     },
     "execution_count": 17,
     "metadata": {},
     "output_type": "execute_result"
    }
   ],
   "source": [
    "svc.fit(X_train,y_train)"
   ]
  },
  {
   "cell_type": "code",
   "execution_count": 18,
   "id": "e5dcf89b-1dce-48a8-b3cc-6b619d9cf04c",
   "metadata": {},
   "outputs": [
    {
     "data": {
      "text/plain": [
       "array([[ 2.863721  , -0.49312336]])"
      ]
     },
     "execution_count": 18,
     "metadata": {},
     "output_type": "execute_result"
    }
   ],
   "source": [
    "svc.coef_"
   ]
  },
  {
   "cell_type": "code",
   "execution_count": 19,
   "id": "ee538452-a29d-49e6-b7af-1b7a9892b92c",
   "metadata": {},
   "outputs": [],
   "source": [
    "y_pred=svc.predict(X_test)"
   ]
  },
  {
   "cell_type": "code",
   "execution_count": 20,
   "id": "7a604440-1af8-4b5f-8629-e13cf97aeb7e",
   "metadata": {},
   "outputs": [
    {
     "data": {
      "text/plain": [
       "array([0, 1, 1, 1, 0, 0, 1, 1, 1, 0, 1, 0, 1, 1, 0, 1, 1, 1, 0, 1, 0, 1,\n",
       "       0, 1, 1, 0, 0, 0, 1, 1, 1, 1, 0, 1, 0, 0, 0, 0, 1, 0, 0, 0, 0, 1,\n",
       "       1, 1, 1, 1, 1, 0, 1, 1, 1, 0, 0, 0, 1, 0, 1, 1, 0, 1, 0, 1, 0, 0,\n",
       "       1, 0, 0, 0, 0, 0, 0, 1, 1, 1, 0, 1, 0, 1, 0, 0, 0, 1, 1, 0, 0, 0,\n",
       "       1, 1, 1, 0, 0, 1, 0, 1, 1, 0, 1, 1, 0, 0, 0, 0, 1, 1, 0, 1, 1, 1,\n",
       "       0, 0, 0, 0, 1, 1, 1, 0, 0, 0, 0, 0, 0, 1, 0, 1, 1, 1, 0, 0, 1, 0,\n",
       "       1, 1, 0, 0, 0, 0, 0, 0, 1, 0, 0, 0, 1, 0, 1, 0, 0, 0, 0, 1, 0, 1,\n",
       "       1, 0, 1, 1, 0, 1, 1, 0, 1, 1, 1, 0, 0, 0, 1, 0, 1, 0, 0, 1, 1, 0,\n",
       "       0, 0, 1, 1, 1, 1, 1, 0, 1, 1, 1, 0, 0, 1, 1, 0, 0, 1, 0, 0, 0, 0,\n",
       "       1, 0, 0, 0, 0, 1, 1, 1, 1, 1, 1, 0, 1, 0, 1, 0, 0, 0, 1, 0, 0, 0,\n",
       "       0, 1, 1, 0, 0, 1, 0, 0, 0, 0, 1, 1, 1, 0, 1, 1, 0, 0, 1, 0, 1, 0,\n",
       "       0, 1, 1, 0, 1, 1, 0, 0])"
      ]
     },
     "execution_count": 20,
     "metadata": {},
     "output_type": "execute_result"
    }
   ],
   "source": [
    "y_pred"
   ]
  },
  {
   "cell_type": "code",
   "execution_count": 21,
   "id": "eeb7be81-3f93-4efa-a85f-061571a482c3",
   "metadata": {},
   "outputs": [],
   "source": [
    "from sklearn.metrics import classification_report,accuracy_score,confusion_matrix"
   ]
  },
  {
   "cell_type": "code",
   "execution_count": 23,
   "id": "06ee1d5b-dd76-4da9-b6ff-ddee51b7b344",
   "metadata": {},
   "outputs": [
    {
     "name": "stdout",
     "output_type": "stream",
     "text": [
      "              precision    recall  f1-score   support\n",
      "\n",
      "           0       0.89      0.98      0.94       119\n",
      "           1       0.98      0.89      0.94       131\n",
      "\n",
      "    accuracy                           0.94       250\n",
      "   macro avg       0.94      0.94      0.94       250\n",
      "weighted avg       0.94      0.94      0.94       250\n",
      "\n",
      "\n",
      " 0.936\n",
      "\n",
      " [[117   2]\n",
      " [ 14 117]]\n"
     ]
    }
   ],
   "source": [
    "print(classification_report(y_test,y_pred))\n",
    "print('\\n',accuracy_score(y_test,y_pred))\n",
    "print('\\n',confusion_matrix(y_test,y_pred))"
   ]
  },
  {
   "cell_type": "code",
   "execution_count": 24,
   "id": "9b7d3fc3-422a-4c79-95b2-6f54c8afcc41",
   "metadata": {},
   "outputs": [],
   "source": [
    "from sklearn.model_selection import GridSearchCV"
   ]
  },
  {
   "cell_type": "code",
   "execution_count": 25,
   "id": "2cd48b9c-c915-4846-b23a-36fefd85f433",
   "metadata": {},
   "outputs": [],
   "source": [
    "# defining parameter range\n",
    "parameters = {'C': [0.1, 1, 10, 100, 1000],\n",
    "              'gamma': [1, 0.1, 0.01, 0.001, 0.0001],\n",
    "              'kernel':['linear']\n",
    "              }"
   ]
  },
  {
   "cell_type": "code",
   "execution_count": 26,
   "id": "d3f91461-9a75-4ad5-80b5-5e218a819c6b",
   "metadata": {},
   "outputs": [],
   "source": [
    "## verbose gives all the scores \n",
    "clf=GridSearchCV(SVC(),param_grid=parameters,cv=5,refit=True,verbose=3)"
   ]
  },
  {
   "cell_type": "code",
   "execution_count": 27,
   "id": "8875a4be-868f-4733-8c5d-0cad96b570eb",
   "metadata": {},
   "outputs": [
    {
     "name": "stdout",
     "output_type": "stream",
     "text": [
      "Fitting 5 folds for each of 25 candidates, totalling 125 fits\n",
      "[CV 1/5] END .....C=0.1, gamma=1, kernel=linear;, score=0.947 total time=   0.0s\n",
      "[CV 2/5] END .....C=0.1, gamma=1, kernel=linear;, score=0.907 total time=   0.0s\n",
      "[CV 3/5] END .....C=0.1, gamma=1, kernel=linear;, score=0.927 total time=   0.0s\n",
      "[CV 4/5] END .....C=0.1, gamma=1, kernel=linear;, score=0.933 total time=   0.0s\n",
      "[CV 5/5] END .....C=0.1, gamma=1, kernel=linear;, score=0.947 total time=   0.0s\n",
      "[CV 1/5] END ...C=0.1, gamma=0.1, kernel=linear;, score=0.947 total time=   0.0s\n",
      "[CV 2/5] END ...C=0.1, gamma=0.1, kernel=linear;, score=0.907 total time=   0.0s\n",
      "[CV 3/5] END ...C=0.1, gamma=0.1, kernel=linear;, score=0.927 total time=   0.0s\n",
      "[CV 4/5] END ...C=0.1, gamma=0.1, kernel=linear;, score=0.933 total time=   0.0s\n",
      "[CV 5/5] END ...C=0.1, gamma=0.1, kernel=linear;, score=0.947 total time=   0.0s\n",
      "[CV 1/5] END ..C=0.1, gamma=0.01, kernel=linear;, score=0.947 total time=   0.0s\n",
      "[CV 2/5] END ..C=0.1, gamma=0.01, kernel=linear;, score=0.907 total time=   0.0s\n",
      "[CV 3/5] END ..C=0.1, gamma=0.01, kernel=linear;, score=0.927 total time=   0.0s\n",
      "[CV 4/5] END ..C=0.1, gamma=0.01, kernel=linear;, score=0.933 total time=   0.0s\n",
      "[CV 5/5] END ..C=0.1, gamma=0.01, kernel=linear;, score=0.947 total time=   0.0s\n",
      "[CV 1/5] END .C=0.1, gamma=0.001, kernel=linear;, score=0.947 total time=   0.0s\n",
      "[CV 2/5] END .C=0.1, gamma=0.001, kernel=linear;, score=0.907 total time=   0.0s\n",
      "[CV 3/5] END .C=0.1, gamma=0.001, kernel=linear;, score=0.927 total time=   0.0s\n",
      "[CV 4/5] END .C=0.1, gamma=0.001, kernel=linear;, score=0.933 total time=   0.0s\n",
      "[CV 5/5] END .C=0.1, gamma=0.001, kernel=linear;, score=0.947 total time=   0.0s\n",
      "[CV 1/5] END C=0.1, gamma=0.0001, kernel=linear;, score=0.947 total time=   0.0s\n",
      "[CV 2/5] END C=0.1, gamma=0.0001, kernel=linear;, score=0.907 total time=   0.0s\n",
      "[CV 3/5] END C=0.1, gamma=0.0001, kernel=linear;, score=0.927 total time=   0.0s\n",
      "[CV 4/5] END C=0.1, gamma=0.0001, kernel=linear;, score=0.933 total time=   0.0s\n",
      "[CV 5/5] END C=0.1, gamma=0.0001, kernel=linear;, score=0.947 total time=   0.0s\n",
      "[CV 1/5] END .......C=1, gamma=1, kernel=linear;, score=0.960 total time=   0.0s\n",
      "[CV 2/5] END .......C=1, gamma=1, kernel=linear;, score=0.907 total time=   0.0s\n",
      "[CV 3/5] END .......C=1, gamma=1, kernel=linear;, score=0.933 total time=   0.0s\n",
      "[CV 4/5] END .......C=1, gamma=1, kernel=linear;, score=0.933 total time=   0.0s\n",
      "[CV 5/5] END .......C=1, gamma=1, kernel=linear;, score=0.953 total time=   0.0s\n",
      "[CV 1/5] END .....C=1, gamma=0.1, kernel=linear;, score=0.960 total time=   0.0s\n",
      "[CV 2/5] END .....C=1, gamma=0.1, kernel=linear;, score=0.907 total time=   0.0s\n",
      "[CV 3/5] END .....C=1, gamma=0.1, kernel=linear;, score=0.933 total time=   0.0s\n",
      "[CV 4/5] END .....C=1, gamma=0.1, kernel=linear;, score=0.933 total time=   0.0s\n",
      "[CV 5/5] END .....C=1, gamma=0.1, kernel=linear;, score=0.953 total time=   0.0s\n",
      "[CV 1/5] END ....C=1, gamma=0.01, kernel=linear;, score=0.960 total time=   0.0s\n",
      "[CV 2/5] END ....C=1, gamma=0.01, kernel=linear;, score=0.907 total time=   0.0s\n",
      "[CV 3/5] END ....C=1, gamma=0.01, kernel=linear;, score=0.933 total time=   0.0s\n",
      "[CV 4/5] END ....C=1, gamma=0.01, kernel=linear;, score=0.933 total time=   0.0s\n",
      "[CV 5/5] END ....C=1, gamma=0.01, kernel=linear;, score=0.953 total time=   0.0s\n",
      "[CV 1/5] END ...C=1, gamma=0.001, kernel=linear;, score=0.960 total time=   0.0s\n",
      "[CV 2/5] END ...C=1, gamma=0.001, kernel=linear;, score=0.907 total time=   0.0s\n",
      "[CV 3/5] END ...C=1, gamma=0.001, kernel=linear;, score=0.933 total time=   0.0s\n",
      "[CV 4/5] END ...C=1, gamma=0.001, kernel=linear;, score=0.933 total time=   0.0s\n",
      "[CV 5/5] END ...C=1, gamma=0.001, kernel=linear;, score=0.953 total time=   0.0s\n",
      "[CV 1/5] END ..C=1, gamma=0.0001, kernel=linear;, score=0.960 total time=   0.0s\n",
      "[CV 2/5] END ..C=1, gamma=0.0001, kernel=linear;, score=0.907 total time=   0.0s\n",
      "[CV 3/5] END ..C=1, gamma=0.0001, kernel=linear;, score=0.933 total time=   0.0s\n",
      "[CV 4/5] END ..C=1, gamma=0.0001, kernel=linear;, score=0.933 total time=   0.0s\n",
      "[CV 5/5] END ..C=1, gamma=0.0001, kernel=linear;, score=0.953 total time=   0.0s\n",
      "[CV 1/5] END ......C=10, gamma=1, kernel=linear;, score=0.960 total time=   0.0s\n",
      "[CV 2/5] END ......C=10, gamma=1, kernel=linear;, score=0.907 total time=   0.0s\n",
      "[CV 3/5] END ......C=10, gamma=1, kernel=linear;, score=0.933 total time=   0.0s\n",
      "[CV 4/5] END ......C=10, gamma=1, kernel=linear;, score=0.927 total time=   0.0s\n",
      "[CV 5/5] END ......C=10, gamma=1, kernel=linear;, score=0.953 total time=   0.0s\n",
      "[CV 1/5] END ....C=10, gamma=0.1, kernel=linear;, score=0.960 total time=   0.0s\n",
      "[CV 2/5] END ....C=10, gamma=0.1, kernel=linear;, score=0.907 total time=   0.0s\n",
      "[CV 3/5] END ....C=10, gamma=0.1, kernel=linear;, score=0.933 total time=   0.0s\n",
      "[CV 4/5] END ....C=10, gamma=0.1, kernel=linear;, score=0.927 total time=   0.0s\n",
      "[CV 5/5] END ....C=10, gamma=0.1, kernel=linear;, score=0.953 total time=   0.0s\n",
      "[CV 1/5] END ...C=10, gamma=0.01, kernel=linear;, score=0.960 total time=   0.0s\n",
      "[CV 2/5] END ...C=10, gamma=0.01, kernel=linear;, score=0.907 total time=   0.0s\n",
      "[CV 3/5] END ...C=10, gamma=0.01, kernel=linear;, score=0.933 total time=   0.0s\n",
      "[CV 4/5] END ...C=10, gamma=0.01, kernel=linear;, score=0.927 total time=   0.0s\n",
      "[CV 5/5] END ...C=10, gamma=0.01, kernel=linear;, score=0.953 total time=   0.0s\n",
      "[CV 1/5] END ..C=10, gamma=0.001, kernel=linear;, score=0.960 total time=   0.0s\n",
      "[CV 2/5] END ..C=10, gamma=0.001, kernel=linear;, score=0.907 total time=   0.0s\n",
      "[CV 3/5] END ..C=10, gamma=0.001, kernel=linear;, score=0.933 total time=   0.0s\n",
      "[CV 4/5] END ..C=10, gamma=0.001, kernel=linear;, score=0.927 total time=   0.0s\n",
      "[CV 5/5] END ..C=10, gamma=0.001, kernel=linear;, score=0.953 total time=   0.0s\n",
      "[CV 1/5] END .C=10, gamma=0.0001, kernel=linear;, score=0.960 total time=   0.0s\n",
      "[CV 2/5] END .C=10, gamma=0.0001, kernel=linear;, score=0.907 total time=   0.0s\n",
      "[CV 3/5] END .C=10, gamma=0.0001, kernel=linear;, score=0.933 total time=   0.0s\n",
      "[CV 4/5] END .C=10, gamma=0.0001, kernel=linear;, score=0.927 total time=   0.0s\n",
      "[CV 5/5] END .C=10, gamma=0.0001, kernel=linear;, score=0.953 total time=   0.0s\n",
      "[CV 1/5] END .....C=100, gamma=1, kernel=linear;, score=0.960 total time=   0.0s\n",
      "[CV 2/5] END .....C=100, gamma=1, kernel=linear;, score=0.907 total time=   0.0s\n",
      "[CV 3/5] END .....C=100, gamma=1, kernel=linear;, score=0.933 total time=   0.0s\n",
      "[CV 4/5] END .....C=100, gamma=1, kernel=linear;, score=0.927 total time=   0.0s\n",
      "[CV 5/5] END .....C=100, gamma=1, kernel=linear;, score=0.953 total time=   0.1s\n",
      "[CV 1/5] END ...C=100, gamma=0.1, kernel=linear;, score=0.960 total time=   0.0s\n",
      "[CV 2/5] END ...C=100, gamma=0.1, kernel=linear;, score=0.907 total time=   0.0s\n",
      "[CV 3/5] END ...C=100, gamma=0.1, kernel=linear;, score=0.933 total time=   0.0s\n",
      "[CV 4/5] END ...C=100, gamma=0.1, kernel=linear;, score=0.927 total time=   0.0s\n",
      "[CV 5/5] END ...C=100, gamma=0.1, kernel=linear;, score=0.953 total time=   0.1s\n",
      "[CV 1/5] END ..C=100, gamma=0.01, kernel=linear;, score=0.960 total time=   0.0s\n",
      "[CV 2/5] END ..C=100, gamma=0.01, kernel=linear;, score=0.907 total time=   0.0s\n",
      "[CV 3/5] END ..C=100, gamma=0.01, kernel=linear;, score=0.933 total time=   0.0s\n",
      "[CV 4/5] END ..C=100, gamma=0.01, kernel=linear;, score=0.927 total time=   0.0s\n",
      "[CV 5/5] END ..C=100, gamma=0.01, kernel=linear;, score=0.953 total time=   0.1s\n",
      "[CV 1/5] END .C=100, gamma=0.001, kernel=linear;, score=0.960 total time=   0.0s\n",
      "[CV 2/5] END .C=100, gamma=0.001, kernel=linear;, score=0.907 total time=   0.0s\n",
      "[CV 3/5] END .C=100, gamma=0.001, kernel=linear;, score=0.933 total time=   0.0s\n",
      "[CV 4/5] END .C=100, gamma=0.001, kernel=linear;, score=0.927 total time=   0.0s\n",
      "[CV 5/5] END .C=100, gamma=0.001, kernel=linear;, score=0.953 total time=   0.1s\n",
      "[CV 1/5] END C=100, gamma=0.0001, kernel=linear;, score=0.960 total time=   0.0s\n",
      "[CV 2/5] END C=100, gamma=0.0001, kernel=linear;, score=0.907 total time=   0.0s\n",
      "[CV 3/5] END C=100, gamma=0.0001, kernel=linear;, score=0.933 total time=   0.0s\n",
      "[CV 4/5] END C=100, gamma=0.0001, kernel=linear;, score=0.927 total time=   0.0s\n",
      "[CV 5/5] END C=100, gamma=0.0001, kernel=linear;, score=0.953 total time=   0.1s\n",
      "[CV 1/5] END ....C=1000, gamma=1, kernel=linear;, score=0.960 total time=   0.3s\n",
      "[CV 2/5] END ....C=1000, gamma=1, kernel=linear;, score=0.907 total time=   0.1s\n",
      "[CV 3/5] END ....C=1000, gamma=1, kernel=linear;, score=0.933 total time=   0.1s\n",
      "[CV 4/5] END ....C=1000, gamma=1, kernel=linear;, score=0.933 total time=   0.1s\n",
      "[CV 5/5] END ....C=1000, gamma=1, kernel=linear;, score=0.953 total time=   0.6s\n",
      "[CV 1/5] END ..C=1000, gamma=0.1, kernel=linear;, score=0.960 total time=   0.3s\n",
      "[CV 2/5] END ..C=1000, gamma=0.1, kernel=linear;, score=0.907 total time=   0.1s\n",
      "[CV 3/5] END ..C=1000, gamma=0.1, kernel=linear;, score=0.933 total time=   0.1s\n",
      "[CV 4/5] END ..C=1000, gamma=0.1, kernel=linear;, score=0.933 total time=   0.1s\n",
      "[CV 5/5] END ..C=1000, gamma=0.1, kernel=linear;, score=0.953 total time=   0.6s\n",
      "[CV 1/5] END .C=1000, gamma=0.01, kernel=linear;, score=0.960 total time=   0.3s\n",
      "[CV 2/5] END .C=1000, gamma=0.01, kernel=linear;, score=0.907 total time=   0.1s\n",
      "[CV 3/5] END .C=1000, gamma=0.01, kernel=linear;, score=0.933 total time=   0.1s\n",
      "[CV 4/5] END .C=1000, gamma=0.01, kernel=linear;, score=0.933 total time=   0.1s\n",
      "[CV 5/5] END .C=1000, gamma=0.01, kernel=linear;, score=0.953 total time=   0.6s\n",
      "[CV 1/5] END C=1000, gamma=0.001, kernel=linear;, score=0.960 total time=   0.3s\n",
      "[CV 2/5] END C=1000, gamma=0.001, kernel=linear;, score=0.907 total time=   0.1s\n",
      "[CV 3/5] END C=1000, gamma=0.001, kernel=linear;, score=0.933 total time=   0.1s\n",
      "[CV 4/5] END C=1000, gamma=0.001, kernel=linear;, score=0.933 total time=   0.1s\n",
      "[CV 5/5] END C=1000, gamma=0.001, kernel=linear;, score=0.953 total time=   0.6s\n",
      "[CV 1/5] END C=1000, gamma=0.0001, kernel=linear;, score=0.960 total time=   0.3s\n",
      "[CV 2/5] END C=1000, gamma=0.0001, kernel=linear;, score=0.907 total time=   0.1s\n",
      "[CV 3/5] END C=1000, gamma=0.0001, kernel=linear;, score=0.933 total time=   0.1s\n",
      "[CV 4/5] END C=1000, gamma=0.0001, kernel=linear;, score=0.933 total time=   0.1s\n",
      "[CV 5/5] END C=1000, gamma=0.0001, kernel=linear;, score=0.953 total time=   0.6s\n"
     ]
    },
    {
     "data": {
      "text/html": [
       "<style>#sk-container-id-2 {color: black;background-color: white;}#sk-container-id-2 pre{padding: 0;}#sk-container-id-2 div.sk-toggleable {background-color: white;}#sk-container-id-2 label.sk-toggleable__label {cursor: pointer;display: block;width: 100%;margin-bottom: 0;padding: 0.3em;box-sizing: border-box;text-align: center;}#sk-container-id-2 label.sk-toggleable__label-arrow:before {content: \"▸\";float: left;margin-right: 0.25em;color: #696969;}#sk-container-id-2 label.sk-toggleable__label-arrow:hover:before {color: black;}#sk-container-id-2 div.sk-estimator:hover label.sk-toggleable__label-arrow:before {color: black;}#sk-container-id-2 div.sk-toggleable__content {max-height: 0;max-width: 0;overflow: hidden;text-align: left;background-color: #f0f8ff;}#sk-container-id-2 div.sk-toggleable__content pre {margin: 0.2em;color: black;border-radius: 0.25em;background-color: #f0f8ff;}#sk-container-id-2 input.sk-toggleable__control:checked~div.sk-toggleable__content {max-height: 200px;max-width: 100%;overflow: auto;}#sk-container-id-2 input.sk-toggleable__control:checked~label.sk-toggleable__label-arrow:before {content: \"▾\";}#sk-container-id-2 div.sk-estimator input.sk-toggleable__control:checked~label.sk-toggleable__label {background-color: #d4ebff;}#sk-container-id-2 div.sk-label input.sk-toggleable__control:checked~label.sk-toggleable__label {background-color: #d4ebff;}#sk-container-id-2 input.sk-hidden--visually {border: 0;clip: rect(1px 1px 1px 1px);clip: rect(1px, 1px, 1px, 1px);height: 1px;margin: -1px;overflow: hidden;padding: 0;position: absolute;width: 1px;}#sk-container-id-2 div.sk-estimator {font-family: monospace;background-color: #f0f8ff;border: 1px dotted black;border-radius: 0.25em;box-sizing: border-box;margin-bottom: 0.5em;}#sk-container-id-2 div.sk-estimator:hover {background-color: #d4ebff;}#sk-container-id-2 div.sk-parallel-item::after {content: \"\";width: 100%;border-bottom: 1px solid gray;flex-grow: 1;}#sk-container-id-2 div.sk-label:hover label.sk-toggleable__label {background-color: #d4ebff;}#sk-container-id-2 div.sk-serial::before {content: \"\";position: absolute;border-left: 1px solid gray;box-sizing: border-box;top: 0;bottom: 0;left: 50%;z-index: 0;}#sk-container-id-2 div.sk-serial {display: flex;flex-direction: column;align-items: center;background-color: white;padding-right: 0.2em;padding-left: 0.2em;position: relative;}#sk-container-id-2 div.sk-item {position: relative;z-index: 1;}#sk-container-id-2 div.sk-parallel {display: flex;align-items: stretch;justify-content: center;background-color: white;position: relative;}#sk-container-id-2 div.sk-item::before, #sk-container-id-2 div.sk-parallel-item::before {content: \"\";position: absolute;border-left: 1px solid gray;box-sizing: border-box;top: 0;bottom: 0;left: 50%;z-index: -1;}#sk-container-id-2 div.sk-parallel-item {display: flex;flex-direction: column;z-index: 1;position: relative;background-color: white;}#sk-container-id-2 div.sk-parallel-item:first-child::after {align-self: flex-end;width: 50%;}#sk-container-id-2 div.sk-parallel-item:last-child::after {align-self: flex-start;width: 50%;}#sk-container-id-2 div.sk-parallel-item:only-child::after {width: 0;}#sk-container-id-2 div.sk-dashed-wrapped {border: 1px dashed gray;margin: 0 0.4em 0.5em 0.4em;box-sizing: border-box;padding-bottom: 0.4em;background-color: white;}#sk-container-id-2 div.sk-label label {font-family: monospace;font-weight: bold;display: inline-block;line-height: 1.2em;}#sk-container-id-2 div.sk-label-container {text-align: center;}#sk-container-id-2 div.sk-container {/* jupyter's `normalize.less` sets `[hidden] { display: none; }` but bootstrap.min.css set `[hidden] { display: none !important; }` so we also need the `!important` here to be able to override the default hidden behavior on the sphinx rendered scikit-learn.org. See: https://github.com/scikit-learn/scikit-learn/issues/21755 */display: inline-block !important;position: relative;}#sk-container-id-2 div.sk-text-repr-fallback {display: none;}</style><div id=\"sk-container-id-2\" class=\"sk-top-container\"><div class=\"sk-text-repr-fallback\"><pre>GridSearchCV(cv=5, estimator=SVC(),\n",
       "             param_grid={&#x27;C&#x27;: [0.1, 1, 10, 100, 1000],\n",
       "                         &#x27;gamma&#x27;: [1, 0.1, 0.01, 0.001, 0.0001],\n",
       "                         &#x27;kernel&#x27;: [&#x27;linear&#x27;]},\n",
       "             verbose=3)</pre><b>In a Jupyter environment, please rerun this cell to show the HTML representation or trust the notebook. <br />On GitHub, the HTML representation is unable to render, please try loading this page with nbviewer.org.</b></div><div class=\"sk-container\" hidden><div class=\"sk-item sk-dashed-wrapped\"><div class=\"sk-label-container\"><div class=\"sk-label sk-toggleable\"><input class=\"sk-toggleable__control sk-hidden--visually\" id=\"sk-estimator-id-2\" type=\"checkbox\" ><label for=\"sk-estimator-id-2\" class=\"sk-toggleable__label sk-toggleable__label-arrow\">GridSearchCV</label><div class=\"sk-toggleable__content\"><pre>GridSearchCV(cv=5, estimator=SVC(),\n",
       "             param_grid={&#x27;C&#x27;: [0.1, 1, 10, 100, 1000],\n",
       "                         &#x27;gamma&#x27;: [1, 0.1, 0.01, 0.001, 0.0001],\n",
       "                         &#x27;kernel&#x27;: [&#x27;linear&#x27;]},\n",
       "             verbose=3)</pre></div></div></div><div class=\"sk-parallel\"><div class=\"sk-parallel-item\"><div class=\"sk-item\"><div class=\"sk-label-container\"><div class=\"sk-label sk-toggleable\"><input class=\"sk-toggleable__control sk-hidden--visually\" id=\"sk-estimator-id-3\" type=\"checkbox\" ><label for=\"sk-estimator-id-3\" class=\"sk-toggleable__label sk-toggleable__label-arrow\">estimator: SVC</label><div class=\"sk-toggleable__content\"><pre>SVC()</pre></div></div></div><div class=\"sk-serial\"><div class=\"sk-item\"><div class=\"sk-estimator sk-toggleable\"><input class=\"sk-toggleable__control sk-hidden--visually\" id=\"sk-estimator-id-4\" type=\"checkbox\" ><label for=\"sk-estimator-id-4\" class=\"sk-toggleable__label sk-toggleable__label-arrow\">SVC</label><div class=\"sk-toggleable__content\"><pre>SVC()</pre></div></div></div></div></div></div></div></div></div></div>"
      ],
      "text/plain": [
       "GridSearchCV(cv=5, estimator=SVC(),\n",
       "             param_grid={'C': [0.1, 1, 10, 100, 1000],\n",
       "                         'gamma': [1, 0.1, 0.01, 0.001, 0.0001],\n",
       "                         'kernel': ['linear']},\n",
       "             verbose=3)"
      ]
     },
     "execution_count": 27,
     "metadata": {},
     "output_type": "execute_result"
    }
   ],
   "source": [
    "clf.fit(X_train,y_train)"
   ]
  },
  {
   "cell_type": "code",
   "execution_count": 28,
   "id": "e32599b3-d210-4c2e-8c91-38d91e8bd6ce",
   "metadata": {},
   "outputs": [
    {
     "data": {
      "text/plain": [
       "{'C': 1, 'gamma': 1, 'kernel': 'linear'}"
      ]
     },
     "execution_count": 28,
     "metadata": {},
     "output_type": "execute_result"
    }
   ],
   "source": [
    "clf.best_params_"
   ]
  },
  {
   "cell_type": "code",
   "execution_count": 29,
   "id": "484de766-e531-4735-ac19-bce77cc5e85a",
   "metadata": {},
   "outputs": [
    {
     "name": "stdout",
     "output_type": "stream",
     "text": [
      "              precision    recall  f1-score   support\n",
      "\n",
      "           0       0.89      0.98      0.94       119\n",
      "           1       0.98      0.89      0.94       131\n",
      "\n",
      "    accuracy                           0.94       250\n",
      "   macro avg       0.94      0.94      0.94       250\n",
      "weighted avg       0.94      0.94      0.94       250\n",
      "\n",
      "\n",
      " 0.936\n",
      "\n",
      " [[117   2]\n",
      " [ 14 117]]\n"
     ]
    }
   ],
   "source": [
    "y_pred1=clf.predict(X_test)\n",
    "print(classification_report(y_test,y_pred1))\n",
    "print('\\n',accuracy_score(y_test,y_pred1))\n",
    "print('\\n',confusion_matrix(y_test,y_pred1))"
   ]
  },
  {
   "cell_type": "markdown",
   "id": "4822d364-d522-4cc2-a4a5-a3fe43e65012",
   "metadata": {
    "jp-MarkdownHeadingCollapsed": true,
    "tags": []
   },
   "source": [
    "##  Support Vector Regression Implementation"
   ]
  },
  {
   "cell_type": "code",
   "execution_count": 1,
   "id": "b559414c-9c09-4b4f-b86c-03ace642b60b",
   "metadata": {},
   "outputs": [],
   "source": [
    "import pandas as pd \n",
    "import numpy as np\n",
    "import seaborn as sns\n",
    "import matplotlib.pyplot as plt"
   ]
  },
  {
   "cell_type": "code",
   "execution_count": 5,
   "id": "9583ee63-52c4-4472-abb3-645812501084",
   "metadata": {},
   "outputs": [],
   "source": [
    "from sklearn.datasets import make_regression"
   ]
  },
  {
   "cell_type": "code",
   "execution_count": 6,
   "id": "5237edab-6571-44c3-ae96-29be01b71708",
   "metadata": {},
   "outputs": [],
   "source": [
    "X,y=make_regression(n_samples=1000,n_features=2,n_targets=1,noise=3.0)"
   ]
  },
  {
   "cell_type": "code",
   "execution_count": 7,
   "id": "3ec187de-e013-44bc-9050-85ef1c1cda9c",
   "metadata": {},
   "outputs": [
    {
     "data": {
      "text/plain": [
       "array([[-4.96876497e-01, -1.86947998e-01],\n",
       "       [ 4.24382089e-01,  2.74142299e-01],\n",
       "       [ 1.57686803e-01,  1.79150082e+00],\n",
       "       ...,\n",
       "       [-7.14914845e-01, -8.05085707e-01],\n",
       "       [ 6.61493428e-01, -2.49022893e-01],\n",
       "       [ 5.38280888e-04, -1.84458031e-01]])"
      ]
     },
     "execution_count": 7,
     "metadata": {},
     "output_type": "execute_result"
    }
   ],
   "source": [
    "X"
   ]
  },
  {
   "cell_type": "code",
   "execution_count": 8,
   "id": "e5ea1911-1801-454a-95ab-c257e697f0b5",
   "metadata": {},
   "outputs": [
    {
     "data": {
      "text/plain": [
       "array([-6.46012100e+01,  7.23320858e+01,  1.92166431e+02,  3.89548219e+00,\n",
       "        1.16627642e+02,  1.63949349e+02, -2.61022047e+01,  1.98515658e+02,\n",
       "       -1.43210478e+02, -5.21663264e+00,  4.63708080e+00, -1.15525258e+02,\n",
       "        2.64386880e+02, -3.90622170e+01, -2.05660964e+01, -8.64916788e+01,\n",
       "       -3.31527882e+01, -1.35256863e+02,  4.00514996e+01, -4.34616690e+01,\n",
       "       -1.10672922e+02,  4.14532807e+01, -1.94505989e+02, -1.53353017e+02,\n",
       "       -1.94392826e+02,  1.80423867e+02, -6.88111019e+01,  3.05182732e+01,\n",
       "       -7.78117365e+01,  1.25139735e+02, -6.08245563e+01, -3.13337075e+01,\n",
       "        1.12997145e+02, -1.06069019e+02,  3.07912037e+01,  1.63433098e+02,\n",
       "       -2.08485462e+01, -9.46092062e+01, -1.28810158e+02, -2.05367286e+02,\n",
       "       -4.16883792e+01, -9.70945933e+01, -8.96121728e+01, -8.24490820e+01,\n",
       "        7.43638989e+01,  7.44554690e+01,  5.05299235e+00,  1.37408726e+02,\n",
       "       -1.73991297e+02, -1.32921632e+02, -1.89846868e+02,  9.39354717e-01,\n",
       "        5.13970039e+01, -1.56182223e+02,  1.09154569e+01,  5.45255569e+01,\n",
       "        1.51737145e+02, -2.39219764e+02, -7.64391300e+01,  1.70832804e+01,\n",
       "       -2.14294232e+01,  1.49118175e+02, -1.78666721e+02, -2.30432584e+02,\n",
       "       -3.48306130e+02,  1.09014564e+02,  3.28186536e+01,  8.07747168e+01,\n",
       "       -2.37394893e+01, -1.94755985e+02,  3.37786803e+01, -3.93605013e+01,\n",
       "        5.27060552e+01,  5.53586766e+01, -2.10647853e+02, -7.10185104e+01,\n",
       "        6.45784937e+01,  1.56285219e+01, -6.64156895e+01,  7.40709017e+01,\n",
       "       -1.79426293e+02,  6.09900949e+01,  6.48642601e+01,  4.74989603e+00,\n",
       "       -3.66249718e+01,  9.89841154e+01,  6.28809529e+01, -2.59296298e+02,\n",
       "       -9.55444970e+01,  4.49111647e+01,  1.04811984e+02,  4.98688454e+01,\n",
       "       -2.24340712e+02,  2.83209046e+01,  2.20026101e+02, -1.12168687e+02,\n",
       "        1.65245937e+02,  1.70755182e+02,  1.32205924e+02,  3.60528659e+01,\n",
       "       -8.64292651e+00, -1.41333904e+02,  6.03363690e+01,  6.20387345e+01,\n",
       "        1.56091138e+02,  1.16979166e+01,  1.50073955e+02,  2.79785153e+01,\n",
       "        4.28859396e+01, -1.94811352e+02,  2.47978633e+01, -2.21706203e+02,\n",
       "       -7.83769624e+01, -1.89522994e+02, -2.43958381e+02, -9.06274737e+01,\n",
       "       -2.46859208e+02, -1.10186280e+02, -3.12931222e+00, -9.97112355e+00,\n",
       "       -2.13833857e+02,  1.29261544e+02, -2.00724732e+01, -1.94407456e+02,\n",
       "        7.06219889e+01, -7.72120948e+01,  9.59172088e+01, -3.22490120e+01,\n",
       "       -9.40175896e+01,  1.10846008e+02,  6.26426687e+01,  2.12789291e+01,\n",
       "        1.46673067e+02, -5.42480264e+01,  3.27023553e+02, -4.18097446e+01,\n",
       "       -1.15330428e+02, -1.14199278e+01,  2.22497851e+02, -1.04798121e+01,\n",
       "       -1.04485900e+02,  1.67239861e+02,  9.48141626e+01,  6.80321586e+01,\n",
       "       -2.91951960e+02,  1.04388556e+02, -1.74615536e+01,  2.46505049e+01,\n",
       "       -4.09098556e+01,  5.59199077e+01,  4.18133119e+01,  1.73839496e+02,\n",
       "       -4.02020129e+01,  1.40349904e+02,  7.10071454e+01, -8.09253682e+01,\n",
       "        5.25352746e-01,  2.46179986e+02, -1.12717412e+02, -5.97017321e+01,\n",
       "       -7.01756712e+01,  7.44454006e+01,  1.46014006e+02, -4.54944792e+01,\n",
       "       -2.17794568e+01,  3.64541256e+01,  1.55917275e+02, -1.85190336e+02,\n",
       "        7.55212827e+01,  7.58965389e+01, -1.09148733e+02,  1.30236215e+02,\n",
       "       -1.12718180e+02,  1.14260806e+02,  2.32442428e+02,  2.70004798e+02,\n",
       "       -7.19876942e+01, -1.36580903e+02, -5.07489828e+01,  1.37060271e+02,\n",
       "        8.11475447e+01, -1.45083476e+02,  1.52485089e+02,  1.08371921e+02,\n",
       "       -9.98686229e+01,  1.02545585e+02, -2.10405471e+02, -2.91275229e+02,\n",
       "       -3.05896669e+02,  7.83466667e+01,  3.36117460e+01, -1.32448448e+02,\n",
       "        7.45442111e+01, -2.71938998e+02, -6.14674800e+01, -1.18551061e+02,\n",
       "       -2.46229479e+01, -7.28506154e+01, -2.70623229e+02, -2.65736453e+01,\n",
       "       -1.50983290e+02,  6.84523431e+01, -8.27721601e+01, -6.99943281e+01,\n",
       "       -2.08561988e+02,  2.41394641e+01, -1.37774788e+01,  1.41171361e+01,\n",
       "       -1.24842177e+02, -2.45824330e+02,  2.59521029e+02, -5.59623617e+01,\n",
       "       -1.61410811e+02,  3.55151689e+01, -1.05342062e+02,  2.99799453e+00,\n",
       "       -1.69226182e+02,  6.30360452e+01, -7.42630089e+01, -1.55509992e+02,\n",
       "        1.34286772e+01, -4.65963056e+01,  4.49465677e+01,  2.74475536e+01,\n",
       "       -6.72819352e+01,  3.02224194e+01,  3.70962754e+02,  2.98564749e+02,\n",
       "       -1.32152950e+02,  1.86227591e+02,  1.94619882e+01, -3.72296175e+01,\n",
       "       -1.20309588e+02,  2.07695003e+02,  2.75783609e+02,  2.29079918e+02,\n",
       "       -1.26945571e+01, -9.09417371e+01, -1.35266441e+02,  2.19810502e+02,\n",
       "        5.18264812e+01, -1.96435928e+02, -2.09307909e+01, -1.80922957e+02,\n",
       "       -1.48141445e+02,  3.99759644e+01,  1.59381054e+02, -2.60442270e+02,\n",
       "       -2.93534054e+02,  1.09978810e+02,  2.09488623e+02, -2.25273412e+01,\n",
       "        1.37348879e+02,  3.53354400e+01, -9.27844966e+01,  2.26440071e+02,\n",
       "       -1.93949019e+02,  8.59548203e+01,  1.35319868e+02, -4.87145130e+01,\n",
       "        4.14528752e+01,  1.40303677e+02, -1.38213151e+02, -1.02787645e+02,\n",
       "       -3.18447093e+01, -6.75867002e+00, -1.97954054e+02, -9.76590715e+01,\n",
       "       -1.50872366e+02,  4.99279906e+01,  1.48117205e+02, -5.13196940e+01,\n",
       "        7.54797826e+01,  2.95230951e+02, -1.03827085e+02,  1.58154149e+01,\n",
       "        1.33233927e+02,  5.81890067e+01, -1.64933428e+02, -1.13100586e+02,\n",
       "       -9.44015545e+01, -2.84938225e+01, -5.60483080e+01,  8.37811846e+01,\n",
       "        3.93782824e+00, -1.69343611e+02, -2.20198795e+02, -1.95330469e+02,\n",
       "        1.33061938e+02,  4.63653549e+01,  1.77125910e+02,  8.42556745e+01,\n",
       "        8.05772197e+01, -8.77862499e+00,  1.17760500e+02,  1.86799384e+02,\n",
       "        9.12929061e+01,  9.49799520e+01,  7.96251726e+01, -3.72672167e+01,\n",
       "        2.63266809e+01, -4.53593389e+01, -3.99917648e+01, -6.15150015e+01,\n",
       "       -1.06398347e+02,  8.93942463e+00,  4.49032691e+01, -8.34678354e+01,\n",
       "       -3.65335194e+01,  4.19104822e-01, -3.15852965e+02,  2.38286727e+01,\n",
       "       -1.06764830e+02, -4.07791907e+01,  7.84011808e+01, -6.88842128e+01,\n",
       "        1.38666417e+02,  2.15254340e+02,  2.08791897e+02,  1.26555097e+00,\n",
       "        1.37994166e+02,  6.24557398e+01, -5.45181425e+01, -1.93150506e+02,\n",
       "       -1.01651591e+02,  1.42507522e+02, -4.82500717e+01, -5.44026539e+01,\n",
       "        1.38744294e+02,  2.03035283e+02, -1.18119582e+02,  1.10454165e+02,\n",
       "       -4.84327958e+01, -1.60574484e+02,  1.83684955e+02, -6.95048459e+01,\n",
       "        1.30391063e+02, -1.38412336e+02, -7.66546853e+01, -1.62315198e+02,\n",
       "        2.70891000e+01,  5.40880508e+01,  1.35547964e+02, -4.78095325e+01,\n",
       "        6.86040140e+01, -2.93887072e+02, -1.67358725e+01,  4.18257644e+00,\n",
       "        5.96122404e+01, -2.72134979e+02,  1.00637382e+02, -1.85225149e+01,\n",
       "        1.23488397e+02,  2.03380142e+02,  1.06401681e+02, -8.30378412e+01,\n",
       "       -2.00948892e+02,  7.98232044e+01,  2.33644989e+02, -2.75539520e+01,\n",
       "        1.79700783e+02,  8.36374446e+01,  1.23535028e+02,  5.40132728e+01,\n",
       "       -5.40392912e+01,  8.80715838e+01,  2.98138423e+02, -1.09475750e+02,\n",
       "        1.01172506e+02,  3.90652490e+01, -2.74352368e+00,  1.38740693e+02,\n",
       "       -3.93870229e+01,  2.30643520e+02,  2.53313890e+02,  6.13500461e+01,\n",
       "        1.75227415e+02, -7.42110579e+01, -1.05509079e+02, -1.45837582e+02,\n",
       "        1.37726650e+02,  2.15422148e+02,  4.32056902e+01, -7.98035460e+01,\n",
       "       -8.35998922e+01,  1.20466045e+01,  2.36208529e+02, -2.18150864e+02,\n",
       "        2.27813943e+02,  3.66369126e+01, -7.91686927e+01, -3.19831372e+01,\n",
       "       -1.63137543e+02,  3.97600836e+00, -1.16556128e+02,  3.30370000e+00,\n",
       "       -8.30587839e+01, -2.41666168e+02, -1.07058155e+02,  4.60160875e+01,\n",
       "       -2.49375805e+01, -1.45308457e+02, -3.14085893e+01, -1.80582514e+02,\n",
       "       -5.25389082e+01,  6.65030229e+01,  2.35581056e+02, -2.80800983e+01,\n",
       "       -4.17526127e+01,  1.00858821e+02,  1.30707966e+02, -9.27028962e+01,\n",
       "        6.98974219e+01, -3.19712727e+02,  7.16466103e+01, -2.97947733e+01,\n",
       "       -4.75077091e+01, -1.72955198e+02,  9.04999605e+01, -1.00582943e+02,\n",
       "       -5.13098915e+01,  2.28846677e+01, -9.98702343e+01, -1.10790336e+02,\n",
       "       -7.97844494e+01, -6.80716240e+01,  6.86481097e+01,  6.55356379e+01,\n",
       "       -3.90950539e+02, -5.94563613e+01,  7.61790748e+01, -5.75543968e+01,\n",
       "       -2.73679755e+02, -2.51645339e+00, -1.93388304e+02,  1.21800930e+02,\n",
       "        4.14230591e+01, -5.46326017e+01,  1.65410193e+02, -4.40165486e+01,\n",
       "       -4.11286152e+01, -2.56991943e+02, -6.62179550e+01, -2.99118089e+01,\n",
       "        1.13471821e+02, -1.31600465e+01, -1.13700433e+02, -1.62526586e+02,\n",
       "       -6.28936867e+01,  2.86065710e+00, -1.35518197e-02,  2.43444684e+02,\n",
       "       -5.42760500e+01, -1.02049228e+02, -4.16544859e+01, -1.71886197e+02,\n",
       "       -1.45052666e+02, -2.83141647e+01,  1.22726187e+02, -6.41967817e+01,\n",
       "        3.33556542e+01, -1.76357205e+01, -1.16084459e+02, -1.12297675e+02,\n",
       "       -1.62456408e+02,  1.38482493e+02, -1.45337299e+01,  7.86391774e+01,\n",
       "       -2.31662456e+02, -1.11818194e+02,  1.40823229e+02,  9.27484308e+01,\n",
       "       -4.59523372e+01, -1.34269922e+02, -5.93113594e+01,  1.03325646e+02,\n",
       "       -1.10418284e+02, -8.61068199e+00,  1.62182477e+02,  7.63626582e+00,\n",
       "        5.44609303e+00,  2.68829466e+02,  5.91955401e+01,  1.15414686e+02,\n",
       "        2.37626810e+01,  5.17091688e+01, -1.12867086e+02, -3.54057780e+02,\n",
       "        2.09198893e+01, -3.16493700e+02,  3.05047155e+01, -8.37467804e+01,\n",
       "        2.04976073e+02, -5.26495300e+01, -8.74294305e+01, -1.95061579e+01,\n",
       "        5.57645966e+00, -5.97392434e+01,  1.37334006e+02, -9.36109590e+01,\n",
       "       -1.17701695e+02, -9.29743568e+01, -6.40524539e+01,  4.67879295e+01,\n",
       "       -1.01418116e+02, -8.53293275e+01,  6.37229306e+01, -3.72298212e+01,\n",
       "        4.06697376e+01,  1.45753288e+01, -1.62132015e+02, -9.06887420e+00,\n",
       "       -1.76551155e+02, -8.36348109e+01, -8.88805431e+01, -2.03314816e+02,\n",
       "        7.07874169e+01, -6.35518701e+01, -9.56012842e+01,  1.91161049e+02,\n",
       "        1.57439379e+01, -2.62410888e+02,  7.00659998e+01, -7.51227717e+01,\n",
       "        8.28132761e+01,  3.22569824e+01,  3.62068356e+02, -1.15504178e+02,\n",
       "       -4.06990082e+02,  1.18123675e+02, -3.04778245e+00, -9.95857317e+01,\n",
       "       -1.10809871e+02, -3.68679279e+01,  1.91472791e+01, -4.99885064e+01,\n",
       "       -1.39238769e+02, -1.44896559e+01,  9.29664590e+01,  4.60201593e+01,\n",
       "       -1.73037281e+02, -1.05619927e+01, -1.69433816e+02,  2.13904902e+02,\n",
       "        1.59819547e+02, -1.78947245e+02,  1.08921547e+02,  3.14215106e+02,\n",
       "        7.17806051e+01,  1.17728478e+02, -1.13269638e+01, -1.69475091e+02,\n",
       "        1.25112848e+02,  1.37729759e+02,  1.31391411e+02, -1.50673938e+02,\n",
       "       -1.81344089e+02, -1.58967294e+02,  7.29000577e+01, -1.09125371e+01,\n",
       "       -2.85971507e+02, -2.46061868e+02, -1.45800275e+02,  1.80359218e+02,\n",
       "        1.10557242e+02,  1.58366497e+02, -5.88700071e+01, -4.26058017e+01,\n",
       "        1.77178723e+02,  7.02234428e+01, -2.85164494e+00, -9.98851152e+00,\n",
       "        2.61993471e+01,  1.55893285e+02,  4.98003943e+01,  1.10188331e+02,\n",
       "       -3.36117522e+00,  2.97620290e+02,  8.60557616e+01,  3.48528526e+01,\n",
       "       -1.56954767e+01, -9.39407827e+01,  2.86518581e+02,  2.28199309e+00,\n",
       "       -3.19876311e+02,  2.66343305e+02, -4.12540763e+01,  1.25902121e+02,\n",
       "       -1.61559393e+02, -2.07303961e+02, -1.36472574e+02, -6.37087919e+01,\n",
       "       -5.20598866e+01, -8.71386237e+01,  5.04016378e+01, -1.06956924e+02,\n",
       "       -2.21592682e+01, -6.01906811e+01,  6.04314220e+01,  1.24678676e+01,\n",
       "       -3.58336660e+01,  1.31248924e+02,  1.87407405e+02, -1.77923522e+02,\n",
       "        1.71513136e+02,  5.79657350e+01,  1.70788917e+02, -5.47187101e+01,\n",
       "        1.77639732e+01,  1.37839819e+00,  1.00573233e+02, -1.20772461e+02,\n",
       "        1.31617088e+02, -1.26000118e+02,  5.89416013e+01,  1.23693134e+02,\n",
       "        3.60060126e+02, -1.45625452e+02, -5.36436703e+01, -1.04024213e+02,\n",
       "        7.75552164e+01,  2.00981163e+02,  1.37514026e+02, -1.03813536e+02,\n",
       "        2.13805399e+02, -1.76073018e+02,  1.33219878e+02,  5.68702111e+01,\n",
       "       -8.71917669e+01, -1.32739755e+02,  2.59542661e+01,  1.50723322e+02,\n",
       "       -2.04132147e+02,  7.90574209e+01,  8.89148637e+01,  2.65446337e+02,\n",
       "        8.93954887e+01, -1.52218177e+02, -8.77055888e+01, -1.33860266e+02,\n",
       "        4.85390893e+01,  3.16012967e+02,  2.19632050e+02, -2.36531122e+02,\n",
       "        3.71850746e+02,  6.49008836e+01,  1.18979265e+01,  1.46644363e+02,\n",
       "       -1.08939549e+02, -9.84007725e+01,  4.31883854e+01, -1.32775544e+02,\n",
       "       -2.59891762e+02,  8.02285963e+01,  5.38849374e+01, -2.91321366e+01,\n",
       "       -5.13326733e+01, -2.84113120e+01,  7.85929228e+01,  2.27866725e+02,\n",
       "        6.68298299e+01, -2.71538192e+01,  1.30284932e+02,  4.36877869e+01,\n",
       "        1.45169915e+02,  1.21375536e+02,  3.43332678e+01,  2.02509847e+02,\n",
       "       -1.00114354e+01, -2.61683425e+02,  1.51419887e+02, -2.92392270e+02,\n",
       "       -1.28840787e+02, -2.64736424e+01, -6.48456228e+01, -2.12577765e+02,\n",
       "        1.80301219e+02,  3.86078575e+00, -1.34452733e+02,  1.56528880e+02,\n",
       "       -1.09028035e+02, -2.45362530e+02, -7.11600098e+01,  1.04810329e+02,\n",
       "       -1.61128299e+02, -5.90824025e+01, -3.50591681e+02, -8.60744430e-01,\n",
       "        1.15589324e+02, -7.37606156e+01, -2.70916698e+02, -1.20089534e+02,\n",
       "        9.22158141e+00,  9.68398809e+01, -8.64777879e+01,  1.06144973e+01,\n",
       "        1.39061736e+02,  9.14793811e+01, -1.93088019e+02,  7.15498893e+01,\n",
       "        1.41311761e+01, -9.70321185e+01, -8.33570016e+01, -1.55455714e+02,\n",
       "        5.31613365e+01, -3.52091034e+00, -1.84640627e+02, -2.14248906e+01,\n",
       "        3.09586111e+02,  1.28686486e+01,  1.21131676e+02,  1.22959132e+02,\n",
       "       -4.67920293e+00,  3.13009731e+01, -9.78219155e+01,  9.22066460e+01,\n",
       "        3.14744154e+01, -6.88195174e+01, -2.14946542e+02,  5.26159432e+01,\n",
       "        1.88859752e+01, -2.49931615e+02,  1.67425710e+02, -1.43537273e+02,\n",
       "        1.53428938e+01, -1.18400039e+02,  3.24308131e+01, -1.30152692e+02,\n",
       "        1.89922516e+02,  1.10093707e+02,  8.77033030e+00,  3.33647390e+00,\n",
       "       -1.89163973e+02,  7.39503316e+01, -1.32787254e+02,  2.38352721e+02,\n",
       "       -1.97374820e+01,  9.96904958e+01, -1.98323874e+02, -3.90762129e+02,\n",
       "        2.17241532e+02, -1.97403266e+02, -5.18953019e+01, -3.68612384e+01,\n",
       "        2.35179512e+02, -4.15230259e+00,  1.56686377e+01,  1.30755462e+02,\n",
       "       -1.03480325e+02,  1.73658024e+02, -5.42662262e+01, -7.66472677e+01,\n",
       "       -2.95835301e+00,  1.34104137e+02,  2.76692440e+02, -1.38550327e+02,\n",
       "        2.16158072e+02, -1.02127633e+02, -5.90584018e+01, -4.43981367e+00,\n",
       "        7.38968734e+00, -1.54682188e+02,  3.44493481e+02,  4.27219776e+01,\n",
       "       -2.46970768e+02, -5.88273340e+01,  1.22797049e+02, -1.00878679e+02,\n",
       "       -1.12415650e+02, -5.65103393e+01, -2.90528142e+01,  1.17628026e+01,\n",
       "       -1.70985603e+02,  1.14409857e+02, -2.95528883e+01, -2.43683771e+02,\n",
       "       -4.40496753e+01,  6.56642465e+01,  2.36250145e+02, -1.66261154e+02,\n",
       "        7.01316063e+01,  1.03637907e+02,  1.08645654e+02,  1.69068243e+02,\n",
       "        8.75603465e+01,  1.10353291e+02,  2.21008182e+02, -1.34413783e+02,\n",
       "       -4.84027944e+01, -4.15001077e+01,  1.67343895e+02, -1.56165206e+02,\n",
       "        5.30180242e+01, -1.10960607e+02, -4.10400195e+01, -1.58707488e+02,\n",
       "        5.10028202e+01, -1.47571545e+02,  1.00003145e+02,  3.33098446e+02,\n",
       "        5.25055888e+00, -2.85668104e+01,  8.86277032e+01, -1.07306081e+02,\n",
       "        5.55048427e+01, -1.04013908e+02,  2.97328693e+02,  8.48655729e+01,\n",
       "        3.79566233e+01, -1.35402399e+02, -3.03795272e+02,  4.89767098e+01,\n",
       "        1.34264594e+02,  6.89236684e+01,  1.33452442e+02,  2.43104175e+02,\n",
       "        1.55995055e+02,  2.40558916e+02, -4.52266627e+01,  1.14275700e+02,\n",
       "        3.41668812e+01,  5.80744034e+01, -1.67476524e+01,  6.88034479e+01,\n",
       "       -2.17356879e+02, -2.71021055e+02, -2.18626957e+02, -4.68006558e+01,\n",
       "        3.30725376e+02, -7.43340656e+01,  4.34219536e+01, -1.41286127e+02,\n",
       "        1.68293345e+01, -7.05056663e+01, -2.04101548e+02, -1.81864992e+02,\n",
       "        2.95880542e+01,  4.35421413e+01,  4.10074787e+01, -2.36521737e+01,\n",
       "       -9.50652368e+01, -1.84415434e+02,  2.77497279e+01, -2.26285350e+02,\n",
       "        2.17057094e+01,  2.80277735e+02, -1.12833925e+02,  1.56925784e+02,\n",
       "        1.58119956e+01,  6.32201347e+01,  1.13960316e+02,  2.68225885e+02,\n",
       "        2.01646416e+02,  3.68521166e+00, -1.02744395e+02,  1.83171386e+02,\n",
       "        2.31969978e+02, -9.74574715e-01, -2.45840807e+01, -8.75235891e+01,\n",
       "        7.08226117e+01,  2.15468808e+02, -1.92986967e+02,  5.33744158e+01,\n",
       "        3.33854582e+02, -2.93642364e+01,  4.29512043e+01,  6.14260361e+00,\n",
       "        2.58291362e+01,  1.90777691e+01,  1.67389977e+02, -1.87098602e+00,\n",
       "        2.05824933e+02, -3.13265849e+02, -7.11870022e+01,  2.68588160e+01,\n",
       "        2.20104897e+02,  1.75957389e+02,  1.98425581e+02, -4.78373391e+01,\n",
       "        3.44051969e+02,  3.23355143e+01, -7.83175723e+00,  4.04637469e+01,\n",
       "        5.39732789e+01,  7.70353349e+01, -1.97876714e+01, -3.08133106e+01,\n",
       "        1.72623201e+02, -1.31083840e+02, -8.05764209e+01,  7.27483238e+00,\n",
       "        1.27696183e+02, -2.75757411e+02, -2.10585180e+02, -1.94624706e+02,\n",
       "       -3.98833708e+01,  2.38608137e+02,  1.69262590e+02, -2.10010735e+02,\n",
       "       -2.25650022e+02,  8.72357398e+01, -1.01291677e+02, -6.91603101e+01,\n",
       "        1.41037518e+02, -7.31428943e+01, -1.08679208e+02, -1.75819505e+02,\n",
       "        3.62913815e+01, -5.69078310e+01, -3.04884652e+01,  3.31117833e+01,\n",
       "       -7.45960707e+01,  5.67880541e+00,  6.52507000e+01, -1.11845034e+02,\n",
       "        1.39529334e+02,  2.59529843e+02,  2.36882575e+02,  3.92832364e+01,\n",
       "       -8.04844593e+01, -5.49474241e+01,  1.43891160e+02, -1.16835500e+02,\n",
       "        2.41389554e+02,  6.26079139e+00, -1.17397371e+02, -1.47371808e+01,\n",
       "       -3.55403513e+01, -3.12330090e+02, -1.18710388e+02,  4.80925850e+01,\n",
       "        2.92549891e+01, -6.89397506e+00,  3.03078454e+02,  3.96130678e+01,\n",
       "        2.14033777e+02, -8.49622395e+01, -1.68261422e+02, -2.04481013e+02,\n",
       "       -1.28977130e+02, -3.89500592e+01,  8.28658927e+01, -6.56088558e+01,\n",
       "        5.51460056e+00,  2.06470287e+02,  1.57488034e+02,  1.72152716e+01,\n",
       "       -8.55979153e+01,  6.11972665e+01, -6.24342459e+01, -5.38756346e+01,\n",
       "        2.10529334e+02, -7.05378165e+01, -8.37518459e+01, -1.20362616e+02,\n",
       "        6.94399946e+01, -3.10187960e+02, -3.39138300e+01,  1.74029405e+02,\n",
       "        1.05892290e+01, -6.43185902e+00, -2.21305031e+02, -2.10165271e+02,\n",
       "       -5.99591225e+01, -6.62495777e+01,  3.14773849e+01,  7.88434334e+01,\n",
       "        1.51291440e+02, -9.75281497e+01, -2.06883206e+01,  5.30343182e+00,\n",
       "        9.29612386e+01,  1.31433017e+02,  1.90381537e+02, -2.53375341e+02,\n",
       "        3.48066089e+01, -1.19564140e+02, -3.68409061e+02,  2.25321508e+02,\n",
       "        9.01871474e+01,  1.32437251e+02, -1.99039101e+01,  1.41953440e+02,\n",
       "        3.82069149e+01,  1.61500400e+02,  1.78452084e+01,  2.10870149e+02,\n",
       "       -8.82319424e+01, -1.47322332e+02, -5.24335398e+01,  2.09743587e+01,\n",
       "        2.93608145e+02, -1.06681255e+02, -1.27376680e+02,  6.33287771e+01,\n",
       "       -4.76367295e+01, -1.46182807e+02,  4.42079911e+01, -1.29164127e+01])"
      ]
     },
     "execution_count": 8,
     "metadata": {},
     "output_type": "execute_result"
    }
   ],
   "source": [
    "y"
   ]
  },
  {
   "cell_type": "code",
   "execution_count": 9,
   "id": "a3335dc4-fdd5-4414-a21c-aa7abd5f3b78",
   "metadata": {},
   "outputs": [
    {
     "data": {
      "text/plain": [
       "<AxesSubplot: xlabel='0', ylabel='1'>"
      ]
     },
     "execution_count": 9,
     "metadata": {},
     "output_type": "execute_result"
    },
    {
     "data": {
      "image/png": "[encoded data removed]",
      "text/plain": [
       "<Figure size 640x480 with 1 Axes>"
      ]
     },
     "metadata": {},
     "output_type": "display_data"
    }
   ],
   "source": [
    "sns.scatterplot(x=pd.DataFrame(X)[0],y=pd.DataFrame(X)[1],hue=y)"
   ]
  },
  {
   "cell_type": "code",
   "execution_count": 12,
   "id": "a7fe2220-76a8-4c5c-884a-5b78d0a74faf",
   "metadata": {},
   "outputs": [],
   "source": [
    "from sklearn.model_selection import train_test_split\n",
    "X_train,X_test,y_train,y_test=train_test_split(X,y,test_size=0.25,random_state=10)"
   ]
  },
  {
   "cell_type": "code",
   "execution_count": 10,
   "id": "94d66fcb-fc9d-4949-8f77-b82d531e405a",
   "metadata": {},
   "outputs": [],
   "source": [
    "from sklearn.svm import SVR"
   ]
  },
  {
   "cell_type": "code",
   "execution_count": 11,
   "id": "c5aabc42-a9bd-4e77-bc48-20e6f269cbdc",
   "metadata": {},
   "outputs": [],
   "source": [
    "svr=SVR(kernel='linear')"
   ]
  },
  {
   "cell_type": "code",
   "execution_count": 13,
   "id": "2eed0a60-7408-4d60-8bb3-17fc82299fdd",
   "metadata": {},
   "outputs": [
    {
     "data": {
      "text/html": [
       "<style>#sk-container-id-1 {color: black;background-color: white;}#sk-container-id-1 pre{padding: 0;}#sk-container-id-1 div.sk-toggleable {background-color: white;}#sk-container-id-1 label.sk-toggleable__label {cursor: pointer;display: block;width: 100%;margin-bottom: 0;padding: 0.3em;box-sizing: border-box;text-align: center;}#sk-container-id-1 label.sk-toggleable__label-arrow:before {content: \"▸\";float: left;margin-right: 0.25em;color: #696969;}#sk-container-id-1 label.sk-toggleable__label-arrow:hover:before {color: black;}#sk-container-id-1 div.sk-estimator:hover label.sk-toggleable__label-arrow:before {color: black;}#sk-container-id-1 div.sk-toggleable__content {max-height: 0;max-width: 0;overflow: hidden;text-align: left;background-color: #f0f8ff;}#sk-container-id-1 div.sk-toggleable__content pre {margin: 0.2em;color: black;border-radius: 0.25em;background-color: #f0f8ff;}#sk-container-id-1 input.sk-toggleable__control:checked~div.sk-toggleable__content {max-height: 200px;max-width: 100%;overflow: auto;}#sk-container-id-1 input.sk-toggleable__control:checked~label.sk-toggleable__label-arrow:before {content: \"▾\";}#sk-container-id-1 div.sk-estimator input.sk-toggleable__control:checked~label.sk-toggleable__label {background-color: #d4ebff;}#sk-container-id-1 div.sk-label input.sk-toggleable__control:checked~label.sk-toggleable__label {background-color: #d4ebff;}#sk-container-id-1 input.sk-hidden--visually {border: 0;clip: rect(1px 1px 1px 1px);clip: rect(1px, 1px, 1px, 1px);height: 1px;margin: -1px;overflow: hidden;padding: 0;position: absolute;width: 1px;}#sk-container-id-1 div.sk-estimator {font-family: monospace;background-color: #f0f8ff;border: 1px dotted black;border-radius: 0.25em;box-sizing: border-box;margin-bottom: 0.5em;}#sk-container-id-1 div.sk-estimator:hover {background-color: #d4ebff;}#sk-container-id-1 div.sk-parallel-item::after {content: \"\";width: 100%;border-bottom: 1px solid gray;flex-grow: 1;}#sk-container-id-1 div.sk-label:hover label.sk-toggleable__label {background-color: #d4ebff;}#sk-container-id-1 div.sk-serial::before {content: \"\";position: absolute;border-left: 1px solid gray;box-sizing: border-box;top: 0;bottom: 0;left: 50%;z-index: 0;}#sk-container-id-1 div.sk-serial {display: flex;flex-direction: column;align-items: center;background-color: white;padding-right: 0.2em;padding-left: 0.2em;position: relative;}#sk-container-id-1 div.sk-item {position: relative;z-index: 1;}#sk-container-id-1 div.sk-parallel {display: flex;align-items: stretch;justify-content: center;background-color: white;position: relative;}#sk-container-id-1 div.sk-item::before, #sk-container-id-1 div.sk-parallel-item::before {content: \"\";position: absolute;border-left: 1px solid gray;box-sizing: border-box;top: 0;bottom: 0;left: 50%;z-index: -1;}#sk-container-id-1 div.sk-parallel-item {display: flex;flex-direction: column;z-index: 1;position: relative;background-color: white;}#sk-container-id-1 div.sk-parallel-item:first-child::after {align-self: flex-end;width: 50%;}#sk-container-id-1 div.sk-parallel-item:last-child::after {align-self: flex-start;width: 50%;}#sk-container-id-1 div.sk-parallel-item:only-child::after {width: 0;}#sk-container-id-1 div.sk-dashed-wrapped {border: 1px dashed gray;margin: 0 0.4em 0.5em 0.4em;box-sizing: border-box;padding-bottom: 0.4em;background-color: white;}#sk-container-id-1 div.sk-label label {font-family: monospace;font-weight: bold;display: inline-block;line-height: 1.2em;}#sk-container-id-1 div.sk-label-container {text-align: center;}#sk-container-id-1 div.sk-container {/* jupyter's `normalize.less` sets `[hidden] { display: none; }` but bootstrap.min.css set `[hidden] { display: none !important; }` so we also need the `!important` here to be able to override the default hidden behavior on the sphinx rendered scikit-learn.org. See: https://github.com/scikit-learn/scikit-learn/issues/21755 */display: inline-block !important;position: relative;}#sk-container-id-1 div.sk-text-repr-fallback {display: none;}</style><div id=\"sk-container-id-1\" class=\"sk-top-container\"><div class=\"sk-text-repr-fallback\"><pre>SVR(kernel=&#x27;linear&#x27;)</pre><b>In a Jupyter environment, please rerun this cell to show the HTML representation or trust the notebook. <br />On GitHub, the HTML representation is unable to render, please try loading this page with nbviewer.org.</b></div><div class=\"sk-container\" hidden><div class=\"sk-item\"><div class=\"sk-estimator sk-toggleable\"><input class=\"sk-toggleable__control sk-hidden--visually\" id=\"sk-estimator-id-1\" type=\"checkbox\" checked><label for=\"sk-estimator-id-1\" class=\"sk-toggleable__label sk-toggleable__label-arrow\">SVR</label><div class=\"sk-toggleable__content\"><pre>SVR(kernel=&#x27;linear&#x27;)</pre></div></div></div></div></div>"
      ],
      "text/plain": [
       "SVR(kernel='linear')"
      ]
     },
     "execution_count": 13,
     "metadata": {},
     "output_type": "execute_result"
    }
   ],
   "source": [
    "svr.fit(X_train,y_train)"
   ]
  },
  {
   "cell_type": "code",
   "execution_count": 14,
   "id": "d1e135b9-2bf1-4bfb-b04d-942c21a8a8ef",
   "metadata": {},
   "outputs": [
    {
     "data": {
      "text/plain": [
       "array([[97.78235627, 98.88924592]])"
      ]
     },
     "execution_count": 14,
     "metadata": {},
     "output_type": "execute_result"
    }
   ],
   "source": [
    "svr.coef_"
   ]
  },
  {
   "cell_type": "code",
   "execution_count": 15,
   "id": "9c1d57f2-fd31-45f7-b3f3-72d8da34ea4e",
   "metadata": {},
   "outputs": [],
   "source": [
    "y_pred=svr.predict(X_test)"
   ]
  },
  {
   "cell_type": "code",
   "execution_count": 16,
   "id": "979ab9c5-ff9b-46e0-92cb-38ef513daf4c",
   "metadata": {},
   "outputs": [
    {
     "data": {
      "text/plain": [
       "array([-172.94476422,   71.35857053,  162.16082596,  114.76372485,\n",
       "         -1.4307675 , -116.18076672,  128.65555332,   21.56393973,\n",
       "       -109.3994743 , -210.59921411,  228.25744403, -100.48713501,\n",
       "       -134.21637015,    6.39196011, -163.87025066, -172.58887232,\n",
       "        283.95060576,  129.83969099, -174.83122489,  250.07327863,\n",
       "        -13.81156661,   57.26131043,   -7.35021005,  -70.8098995 ,\n",
       "          6.80179622,  -36.82860803,   33.53097861,  147.31948849,\n",
       "        130.24856694,  143.90198103,  216.51507478,   33.05075389,\n",
       "        203.43284596,  105.86135797,   93.56167113,  204.35696327,\n",
       "        179.0248042 , -364.08308012, -179.11121527, -129.72054226,\n",
       "       -268.77598161, -136.32252972,  299.0728639 , -321.19952714,\n",
       "        -10.04920201,  -82.87359167,   30.59286653,   40.33582578,\n",
       "         46.37992328,  -70.38490662,   31.50234542, -346.15191327,\n",
       "          8.81061229,  -70.84916783, -191.72313739,   21.93480084,\n",
       "        103.9613955 ,  -56.47722553,  168.53239504, -196.46410578,\n",
       "        -95.92458233,  -38.38499846,  -85.75833045,   34.92899828,\n",
       "         45.8104833 ,  208.04018472,   43.34785889,  211.20658399,\n",
       "       -105.64722669,  -28.68018444, -216.50797664,   65.268478  ,\n",
       "         56.58414123, -275.51188716,  111.57075577, -292.40529454,\n",
       "        -85.30822053,   79.42151467,  -56.25217195, -151.73440911,\n",
       "         41.96950563,  -50.11194673,  -94.08377068,  221.28501192,\n",
       "        147.94022142,  106.98469868, -237.11650494,   86.68758371,\n",
       "         15.89580751,  167.90370209,  120.74830402,  -96.67604175,\n",
       "         71.28876281,  134.08322107, -173.43518043, -139.28085437,\n",
       "         68.67744167,  211.4544744 , -108.46079783,   65.97928737,\n",
       "         92.6402465 ,  242.81805853,    8.99850907,  168.86697605,\n",
       "         34.06105804,   59.38451657, -155.63018149, -132.96638068,\n",
       "        -40.72540223,  -94.43268359,   47.13165044,   72.21370743,\n",
       "        -70.31852823, -155.93820082,  -19.35581418,  -46.47145302,\n",
       "       -100.52805044,  181.06977124, -216.88115506,  -87.30286366,\n",
       "         54.71340251, -158.69683321,   82.74229069, -136.75493363,\n",
       "         42.16948918,  -54.09439163,  -27.50531035,   52.19155149,\n",
       "       -182.62793997,  235.51579274, -119.18209142,  214.06116165,\n",
       "       -129.69359118, -139.39088506,  -86.7369578 , -212.72850174,\n",
       "        333.47648857,  133.65201064,   43.70801171, -226.72766027,\n",
       "        134.91446442,  -21.83238988, -190.21104049,  -26.09204945,\n",
       "        -29.97722668, -198.35097121,  126.88258048,  159.48968789,\n",
       "        143.98515775,  -99.8872126 ,   64.35655417,  -62.2855317 ,\n",
       "       -113.53879928,   12.7839155 ,  185.71619339,   95.1771401 ,\n",
       "        120.51438783, -113.01233391,  -31.69430934,  -22.08500929,\n",
       "        141.14101461, -102.74777704, -113.718253  ,  -40.31730286,\n",
       "         33.51317496,  112.71347625,  -81.44951161,   51.58751816,\n",
       "        153.87874366, -121.31693594,  -29.32741876,   96.85573618,\n",
       "        207.4893964 ,   30.61040931,   67.60929206,  -53.15498278,\n",
       "       -389.01807632,  -66.41142234,  -34.66980449,  -94.97516461,\n",
       "        -56.53481473,  192.97101282,  186.08291993,  -38.42073238,\n",
       "       -168.35338003,   45.28691172,  -31.69391757,  108.83767195,\n",
       "        -68.9371529 ,   31.61814589,    5.42772117,  -63.59248329,\n",
       "       -104.17980852,   -2.94439786,   50.50880897, -100.12703439,\n",
       "         69.93368138, -110.76494172,    2.93679447,   17.19011237,\n",
       "       -297.93726734,  -63.77637084,   30.55795265,  -11.05960645,\n",
       "       -382.40783639, -149.52639178, -166.40244676,   37.90102001,\n",
       "         27.1419205 ,  261.19689789,  -61.40403325,  -64.12657599,\n",
       "       -128.90842106,  -70.4630311 ,  159.05131606,   69.63466226,\n",
       "        317.71068144,   25.56053313,  226.63876051,  -89.11887935,\n",
       "       -172.47658869,  299.73187513, -203.06024889,  272.78185982,\n",
       "        235.75848674, -136.20148629,  -68.12735951,   34.7577758 ,\n",
       "        340.2855114 ,   70.44234693, -157.10097108, -144.77202548,\n",
       "          7.6998402 , -101.86598219,  136.34300683,  127.87066591,\n",
       "        -67.41865218,  241.49464003,  117.51301463, -148.89208595,\n",
       "        -51.51761541,  191.53679265,  217.19415105,  114.22775053,\n",
       "       -235.88676841,    1.80313801,   64.15672508,  161.01993488,\n",
       "       -114.7799287 ,  -78.40721244])"
      ]
     },
     "execution_count": 16,
     "metadata": {},
     "output_type": "execute_result"
    }
   ],
   "source": [
    "y_pred"
   ]
  },
  {
   "cell_type": "code",
   "execution_count": 19,
   "id": "3c5fde37-393b-42aa-85a3-d702cfcddfcb",
   "metadata": {},
   "outputs": [
    {
     "name": "stdout",
     "output_type": "stream",
     "text": [
      "0.9994657828564677\n"
     ]
    }
   ],
   "source": [
    "from sklearn.metrics import r2_score\n",
    "print(r2_score(y_test,y_pred))"
   ]
  },
  {
   "cell_type": "code",
   "execution_count": 20,
   "id": "13931898-78af-4c1a-9e21-043de0533bac",
   "metadata": {},
   "outputs": [],
   "source": [
    "from sklearn.model_selection import GridSearchCV\n",
    " \n",
    "# defining parameter range\n",
    "parameters = {'C': [0.1, 1, 10, 100, 1000],\n",
    "              'gamma': [1, 0.1, 0.01, 0.001, 0.0001],\n",
    "              'kernel':['linear'],\n",
    "              'epsilon':[0.1,0.2,0.3]\n",
    "              }"
   ]
  },
  {
   "cell_type": "code",
   "execution_count": 28,
   "id": "0912e0d1-8ce9-4ccf-b6c2-59db50503d25",
   "metadata": {},
   "outputs": [],
   "source": [
    "clf=GridSearchCV(SVR(),param_grid=parameters,verbose=3,cv=5,refit=True,scoring='neg_mean_squared_error')"
   ]
  },
  {
   "cell_type": "code",
   "execution_count": 29,
   "id": "f054fcd5-538a-4a66-9c3c-551d2c0f2c0c",
   "metadata": {},
   "outputs": [
    {
     "name": "stdout",
     "output_type": "stream",
     "text": [
      "Fitting 5 folds for each of 75 candidates, totalling 375 fits\n",
      "[CV 1/5] END C=0.1, epsilon=0.1, gamma=1, kernel=linear;, score=-8489.884 total time=   0.0s\n",
      "[CV 2/5] END C=0.1, epsilon=0.1, gamma=1, kernel=linear;, score=-7318.312 total time=   0.0s\n",
      "[CV 3/5] END C=0.1, epsilon=0.1, gamma=1, kernel=linear;, score=-8842.925 total time=   0.0s\n",
      "[CV 4/5] END C=0.1, epsilon=0.1, gamma=1, kernel=linear;, score=-7332.403 total time=   0.0s\n",
      "[CV 5/5] END C=0.1, epsilon=0.1, gamma=1, kernel=linear;, score=-9336.376 total time=   0.0s\n",
      "[CV 1/5] END C=0.1, epsilon=0.1, gamma=0.1, kernel=linear;, score=-8489.884 total time=   0.0s\n",
      "[CV 2/5] END C=0.1, epsilon=0.1, gamma=0.1, kernel=linear;, score=-7318.312 total time=   0.0s\n",
      "[CV 3/5] END C=0.1, epsilon=0.1, gamma=0.1, kernel=linear;, score=-8842.925 total time=   0.0s\n",
      "[CV 4/5] END C=0.1, epsilon=0.1, gamma=0.1, kernel=linear;, score=-7332.403 total time=   0.0s\n",
      "[CV 5/5] END C=0.1, epsilon=0.1, gamma=0.1, kernel=linear;, score=-9336.376 total time=   0.0s\n",
      "[CV 1/5] END C=0.1, epsilon=0.1, gamma=0.01, kernel=linear;, score=-8489.884 total time=   0.0s\n",
      "[CV 2/5] END C=0.1, epsilon=0.1, gamma=0.01, kernel=linear;, score=-7318.312 total time=   0.0s\n",
      "[CV 3/5] END C=0.1, epsilon=0.1, gamma=0.01, kernel=linear;, score=-8842.925 total time=   0.0s\n",
      "[CV 4/5] END C=0.1, epsilon=0.1, gamma=0.01, kernel=linear;, score=-7332.403 total time=   0.0s\n",
      "[CV 5/5] END C=0.1, epsilon=0.1, gamma=0.01, kernel=linear;, score=-9336.376 total time=   0.0s\n",
      "[CV 1/5] END C=0.1, epsilon=0.1, gamma=0.001, kernel=linear;, score=-8489.884 total time=   0.0s\n",
      "[CV 2/5] END C=0.1, epsilon=0.1, gamma=0.001, kernel=linear;, score=-7318.312 total time=   0.0s\n",
      "[CV 3/5] END C=0.1, epsilon=0.1, gamma=0.001, kernel=linear;, score=-8842.925 total time=   0.0s\n",
      "[CV 4/5] END C=0.1, epsilon=0.1, gamma=0.001, kernel=linear;, score=-7332.403 total time=   0.0s\n",
      "[CV 5/5] END C=0.1, epsilon=0.1, gamma=0.001, kernel=linear;, score=-9336.376 total time=   0.0s\n",
      "[CV 1/5] END C=0.1, epsilon=0.1, gamma=0.0001, kernel=linear;, score=-8489.884 total time=   0.0s\n",
      "[CV 2/5] END C=0.1, epsilon=0.1, gamma=0.0001, kernel=linear;, score=-7318.312 total time=   0.0s\n",
      "[CV 3/5] END C=0.1, epsilon=0.1, gamma=0.0001, kernel=linear;, score=-8842.925 total time=   0.0s\n",
      "[CV 4/5] END C=0.1, epsilon=0.1, gamma=0.0001, kernel=linear;, score=-7332.403 total time=   0.0s\n",
      "[CV 5/5] END C=0.1, epsilon=0.1, gamma=0.0001, kernel=linear;, score=-9336.376 total time=   0.0s\n",
      "[CV 1/5] END C=0.1, epsilon=0.2, gamma=1, kernel=linear;, score=-8489.959 total time=   0.0s\n",
      "[CV 2/5] END C=0.1, epsilon=0.2, gamma=1, kernel=linear;, score=-7318.991 total time=   0.0s\n",
      "[CV 3/5] END C=0.1, epsilon=0.2, gamma=1, kernel=linear;, score=-8842.925 total time=   0.0s\n",
      "[CV 4/5] END C=0.1, epsilon=0.2, gamma=1, kernel=linear;, score=-7332.414 total time=   0.0s\n",
      "[CV 5/5] END C=0.1, epsilon=0.2, gamma=1, kernel=linear;, score=-9336.376 total time=   0.0s\n",
      "[CV 1/5] END C=0.1, epsilon=0.2, gamma=0.1, kernel=linear;, score=-8489.959 total time=   0.0s\n",
      "[CV 2/5] END C=0.1, epsilon=0.2, gamma=0.1, kernel=linear;, score=-7318.991 total time=   0.0s\n",
      "[CV 3/5] END C=0.1, epsilon=0.2, gamma=0.1, kernel=linear;, score=-8842.925 total time=   0.0s\n",
      "[CV 4/5] END C=0.1, epsilon=0.2, gamma=0.1, kernel=linear;, score=-7332.414 total time=   0.0s\n",
      "[CV 5/5] END C=0.1, epsilon=0.2, gamma=0.1, kernel=linear;, score=-9336.376 total time=   0.0s\n",
      "[CV 1/5] END C=0.1, epsilon=0.2, gamma=0.01, kernel=linear;, score=-8489.959 total time=   0.0s\n",
      "[CV 2/5] END C=0.1, epsilon=0.2, gamma=0.01, kernel=linear;, score=-7318.991 total time=   0.0s\n",
      "[CV 3/5] END C=0.1, epsilon=0.2, gamma=0.01, kernel=linear;, score=-8842.925 total time=   0.0s\n",
      "[CV 4/5] END C=0.1, epsilon=0.2, gamma=0.01, kernel=linear;, score=-7332.414 total time=   0.0s\n",
      "[CV 5/5] END C=0.1, epsilon=0.2, gamma=0.01, kernel=linear;, score=-9336.376 total time=   0.0s\n",
      "[CV 1/5] END C=0.1, epsilon=0.2, gamma=0.001, kernel=linear;, score=-8489.959 total time=   0.0s\n",
      "[CV 2/5] END C=0.1, epsilon=0.2, gamma=0.001, kernel=linear;, score=-7318.991 total time=   0.0s\n",
      "[CV 3/5] END C=0.1, epsilon=0.2, gamma=0.001, kernel=linear;, score=-8842.925 total time=   0.0s\n",
      "[CV 4/5] END C=0.1, epsilon=0.2, gamma=0.001, kernel=linear;, score=-7332.414 total time=   0.0s\n",
      "[CV 5/5] END C=0.1, epsilon=0.2, gamma=0.001, kernel=linear;, score=-9336.376 total time=   0.0s\n",
      "[CV 1/5] END C=0.1, epsilon=0.2, gamma=0.0001, kernel=linear;, score=-8489.959 total time=   0.0s\n",
      "[CV 2/5] END C=0.1, epsilon=0.2, gamma=0.0001, kernel=linear;, score=-7318.991 total time=   0.0s\n",
      "[CV 3/5] END C=0.1, epsilon=0.2, gamma=0.0001, kernel=linear;, score=-8842.925 total time=   0.0s\n",
      "[CV 4/5] END C=0.1, epsilon=0.2, gamma=0.0001, kernel=linear;, score=-7332.414 total time=   0.0s\n",
      "[CV 5/5] END C=0.1, epsilon=0.2, gamma=0.0001, kernel=linear;, score=-9336.376 total time=   0.0s\n",
      "[CV 1/5] END C=0.1, epsilon=0.3, gamma=1, kernel=linear;, score=-8489.963 total time=   0.0s\n",
      "[CV 2/5] END C=0.1, epsilon=0.3, gamma=1, kernel=linear;, score=-7316.072 total time=   0.0s\n",
      "[CV 3/5] END C=0.1, epsilon=0.3, gamma=1, kernel=linear;, score=-8842.925 total time=   0.0s\n",
      "[CV 4/5] END C=0.1, epsilon=0.3, gamma=1, kernel=linear;, score=-7330.991 total time=   0.0s\n",
      "[CV 5/5] END C=0.1, epsilon=0.3, gamma=1, kernel=linear;, score=-9336.376 total time=   0.0s\n",
      "[CV 1/5] END C=0.1, epsilon=0.3, gamma=0.1, kernel=linear;, score=-8489.963 total time=   0.0s\n",
      "[CV 2/5] END C=0.1, epsilon=0.3, gamma=0.1, kernel=linear;, score=-7316.072 total time=   0.0s\n",
      "[CV 3/5] END C=0.1, epsilon=0.3, gamma=0.1, kernel=linear;, score=-8842.925 total time=   0.0s\n",
      "[CV 4/5] END C=0.1, epsilon=0.3, gamma=0.1, kernel=linear;, score=-7330.991 total time=   0.0s\n",
      "[CV 5/5] END C=0.1, epsilon=0.3, gamma=0.1, kernel=linear;, score=-9336.376 total time=   0.0s\n",
      "[CV 1/5] END C=0.1, epsilon=0.3, gamma=0.01, kernel=linear;, score=-8489.963 total time=   0.0s\n",
      "[CV 2/5] END C=0.1, epsilon=0.3, gamma=0.01, kernel=linear;, score=-7316.072 total time=   0.0s\n",
      "[CV 3/5] END C=0.1, epsilon=0.3, gamma=0.01, kernel=linear;, score=-8842.925 total time=   0.0s\n",
      "[CV 4/5] END C=0.1, epsilon=0.3, gamma=0.01, kernel=linear;, score=-7330.991 total time=   0.0s\n",
      "[CV 5/5] END C=0.1, epsilon=0.3, gamma=0.01, kernel=linear;, score=-9336.376 total time=   0.0s\n",
      "[CV 1/5] END C=0.1, epsilon=0.3, gamma=0.001, kernel=linear;, score=-8489.963 total time=   0.0s\n",
      "[CV 2/5] END C=0.1, epsilon=0.3, gamma=0.001, kernel=linear;, score=-7316.072 total time=   0.0s\n",
      "[CV 3/5] END C=0.1, epsilon=0.3, gamma=0.001, kernel=linear;, score=-8842.925 total time=   0.0s\n",
      "[CV 4/5] END C=0.1, epsilon=0.3, gamma=0.001, kernel=linear;, score=-7330.991 total time=   0.0s\n",
      "[CV 5/5] END C=0.1, epsilon=0.3, gamma=0.001, kernel=linear;, score=-9336.376 total time=   0.0s\n",
      "[CV 1/5] END C=0.1, epsilon=0.3, gamma=0.0001, kernel=linear;, score=-8489.963 total time=   0.0s\n",
      "[CV 2/5] END C=0.1, epsilon=0.3, gamma=0.0001, kernel=linear;, score=-7316.072 total time=   0.0s\n",
      "[CV 3/5] END C=0.1, epsilon=0.3, gamma=0.0001, kernel=linear;, score=-8842.925 total time=   0.0s\n",
      "[CV 4/5] END C=0.1, epsilon=0.3, gamma=0.0001, kernel=linear;, score=-7330.991 total time=   0.0s\n",
      "[CV 5/5] END C=0.1, epsilon=0.3, gamma=0.0001, kernel=linear;, score=-9336.376 total time=   0.0s\n",
      "[CV 1/5] END C=1, epsilon=0.1, gamma=1, kernel=linear;, score=-10.485 total time=   0.0s\n",
      "[CV 2/5] END C=1, epsilon=0.1, gamma=1, kernel=linear;, score=-8.270 total time=   0.0s\n",
      "[CV 3/5] END C=1, epsilon=0.1, gamma=1, kernel=linear;, score=-10.876 total time=   0.0s\n",
      "[CV 4/5] END C=1, epsilon=0.1, gamma=1, kernel=linear;, score=-11.294 total time=   0.0s\n",
      "[CV 5/5] END C=1, epsilon=0.1, gamma=1, kernel=linear;, score=-9.211 total time=   0.0s\n",
      "[CV 1/5] END C=1, epsilon=0.1, gamma=0.1, kernel=linear;, score=-10.485 total time=   0.0s\n",
      "[CV 2/5] END C=1, epsilon=0.1, gamma=0.1, kernel=linear;, score=-8.270 total time=   0.0s\n",
      "[CV 3/5] END C=1, epsilon=0.1, gamma=0.1, kernel=linear;, score=-10.876 total time=   0.0s\n",
      "[CV 4/5] END C=1, epsilon=0.1, gamma=0.1, kernel=linear;, score=-11.294 total time=   0.0s\n",
      "[CV 5/5] END C=1, epsilon=0.1, gamma=0.1, kernel=linear;, score=-9.211 total time=   0.0s\n",
      "[CV 1/5] END C=1, epsilon=0.1, gamma=0.01, kernel=linear;, score=-10.485 total time=   0.0s\n",
      "[CV 2/5] END C=1, epsilon=0.1, gamma=0.01, kernel=linear;, score=-8.270 total time=   0.0s\n",
      "[CV 3/5] END C=1, epsilon=0.1, gamma=0.01, kernel=linear;, score=-10.876 total time=   0.0s\n",
      "[CV 4/5] END C=1, epsilon=0.1, gamma=0.01, kernel=linear;, score=-11.294 total time=   0.0s\n",
      "[CV 5/5] END C=1, epsilon=0.1, gamma=0.01, kernel=linear;, score=-9.211 total time=   0.0s\n",
      "[CV 1/5] END C=1, epsilon=0.1, gamma=0.001, kernel=linear;, score=-10.485 total time=   0.0s\n",
      "[CV 2/5] END C=1, epsilon=0.1, gamma=0.001, kernel=linear;, score=-8.270 total time=   0.0s\n",
      "[CV 3/5] END C=1, epsilon=0.1, gamma=0.001, kernel=linear;, score=-10.876 total time=   0.0s\n",
      "[CV 4/5] END C=1, epsilon=0.1, gamma=0.001, kernel=linear;, score=-11.294 total time=   0.0s\n",
      "[CV 5/5] END C=1, epsilon=0.1, gamma=0.001, kernel=linear;, score=-9.211 total time=   0.0s\n",
      "[CV 1/5] END C=1, epsilon=0.1, gamma=0.0001, kernel=linear;, score=-10.485 total time=   0.0s\n",
      "[CV 2/5] END C=1, epsilon=0.1, gamma=0.0001, kernel=linear;, score=-8.270 total time=   0.0s\n",
      "[CV 3/5] END C=1, epsilon=0.1, gamma=0.0001, kernel=linear;, score=-10.876 total time=   0.0s\n",
      "[CV 4/5] END C=1, epsilon=0.1, gamma=0.0001, kernel=linear;, score=-11.294 total time=   0.0s\n",
      "[CV 5/5] END C=1, epsilon=0.1, gamma=0.0001, kernel=linear;, score=-9.211 total time=   0.0s\n",
      "[CV 1/5] END C=1, epsilon=0.2, gamma=1, kernel=linear;, score=-10.583 total time=   0.0s\n",
      "[CV 2/5] END C=1, epsilon=0.2, gamma=1, kernel=linear;, score=-8.253 total time=   0.0s\n",
      "[CV 3/5] END C=1, epsilon=0.2, gamma=1, kernel=linear;, score=-10.860 total time=   0.0s\n",
      "[CV 4/5] END C=1, epsilon=0.2, gamma=1, kernel=linear;, score=-11.463 total time=   0.0s\n",
      "[CV 5/5] END C=1, epsilon=0.2, gamma=1, kernel=linear;, score=-9.150 total time=   0.0s\n",
      "[CV 1/5] END C=1, epsilon=0.2, gamma=0.1, kernel=linear;, score=-10.583 total time=   0.0s\n",
      "[CV 2/5] END C=1, epsilon=0.2, gamma=0.1, kernel=linear;, score=-8.253 total time=   0.0s\n",
      "[CV 3/5] END C=1, epsilon=0.2, gamma=0.1, kernel=linear;, score=-10.860 total time=   0.0s\n",
      "[CV 4/5] END C=1, epsilon=0.2, gamma=0.1, kernel=linear;, score=-11.463 total time=   0.0s\n",
      "[CV 5/5] END C=1, epsilon=0.2, gamma=0.1, kernel=linear;, score=-9.150 total time=   0.0s\n",
      "[CV 1/5] END C=1, epsilon=0.2, gamma=0.01, kernel=linear;, score=-10.583 total time=   0.0s\n",
      "[CV 2/5] END C=1, epsilon=0.2, gamma=0.01, kernel=linear;, score=-8.253 total time=   0.0s\n",
      "[CV 3/5] END C=1, epsilon=0.2, gamma=0.01, kernel=linear;, score=-10.860 total time=   0.0s\n",
      "[CV 4/5] END C=1, epsilon=0.2, gamma=0.01, kernel=linear;, score=-11.463 total time=   0.0s\n",
      "[CV 5/5] END C=1, epsilon=0.2, gamma=0.01, kernel=linear;, score=-9.150 total time=   0.0s\n",
      "[CV 1/5] END C=1, epsilon=0.2, gamma=0.001, kernel=linear;, score=-10.583 total time=   0.0s\n",
      "[CV 2/5] END C=1, epsilon=0.2, gamma=0.001, kernel=linear;, score=-8.253 total time=   0.0s\n",
      "[CV 3/5] END C=1, epsilon=0.2, gamma=0.001, kernel=linear;, score=-10.860 total time=   0.0s\n",
      "[CV 4/5] END C=1, epsilon=0.2, gamma=0.001, kernel=linear;, score=-11.463 total time=   0.0s\n",
      "[CV 5/5] END C=1, epsilon=0.2, gamma=0.001, kernel=linear;, score=-9.150 total time=   0.0s\n",
      "[CV 1/5] END C=1, epsilon=0.2, gamma=0.0001, kernel=linear;, score=-10.583 total time=   0.0s\n",
      "[CV 2/5] END C=1, epsilon=0.2, gamma=0.0001, kernel=linear;, score=-8.253 total time=   0.0s\n",
      "[CV 3/5] END C=1, epsilon=0.2, gamma=0.0001, kernel=linear;, score=-10.860 total time=   0.0s\n",
      "[CV 4/5] END C=1, epsilon=0.2, gamma=0.0001, kernel=linear;, score=-11.463 total time=   0.0s\n",
      "[CV 5/5] END C=1, epsilon=0.2, gamma=0.0001, kernel=linear;, score=-9.150 total time=   0.0s\n",
      "[CV 1/5] END C=1, epsilon=0.3, gamma=1, kernel=linear;, score=-10.486 total time=   0.0s\n",
      "[CV 2/5] END C=1, epsilon=0.3, gamma=1, kernel=linear;, score=-8.239 total time=   0.0s\n",
      "[CV 3/5] END C=1, epsilon=0.3, gamma=1, kernel=linear;, score=-10.837 total time=   0.0s\n",
      "[CV 4/5] END C=1, epsilon=0.3, gamma=1, kernel=linear;, score=-11.450 total time=   0.0s\n",
      "[CV 5/5] END C=1, epsilon=0.3, gamma=1, kernel=linear;, score=-9.131 total time=   0.0s\n",
      "[CV 1/5] END C=1, epsilon=0.3, gamma=0.1, kernel=linear;, score=-10.486 total time=   0.0s\n",
      "[CV 2/5] END C=1, epsilon=0.3, gamma=0.1, kernel=linear;, score=-8.239 total time=   0.0s\n",
      "[CV 3/5] END C=1, epsilon=0.3, gamma=0.1, kernel=linear;, score=-10.837 total time=   0.0s\n",
      "[CV 4/5] END C=1, epsilon=0.3, gamma=0.1, kernel=linear;, score=-11.450 total time=   0.0s\n",
      "[CV 5/5] END C=1, epsilon=0.3, gamma=0.1, kernel=linear;, score=-9.131 total time=   0.0s\n",
      "[CV 1/5] END C=1, epsilon=0.3, gamma=0.01, kernel=linear;, score=-10.486 total time=   0.0s\n",
      "[CV 2/5] END C=1, epsilon=0.3, gamma=0.01, kernel=linear;, score=-8.239 total time=   0.0s\n",
      "[CV 3/5] END C=1, epsilon=0.3, gamma=0.01, kernel=linear;, score=-10.837 total time=   0.0s\n",
      "[CV 4/5] END C=1, epsilon=0.3, gamma=0.01, kernel=linear;, score=-11.450 total time=   0.0s\n",
      "[CV 5/5] END C=1, epsilon=0.3, gamma=0.01, kernel=linear;, score=-9.131 total time=   0.0s\n",
      "[CV 1/5] END C=1, epsilon=0.3, gamma=0.001, kernel=linear;, score=-10.486 total time=   0.0s\n",
      "[CV 2/5] END C=1, epsilon=0.3, gamma=0.001, kernel=linear;, score=-8.239 total time=   0.0s\n",
      "[CV 3/5] END C=1, epsilon=0.3, gamma=0.001, kernel=linear;, score=-10.837 total time=   0.0s\n",
      "[CV 4/5] END C=1, epsilon=0.3, gamma=0.001, kernel=linear;, score=-11.450 total time=   0.0s\n",
      "[CV 5/5] END C=1, epsilon=0.3, gamma=0.001, kernel=linear;, score=-9.131 total time=   0.0s\n",
      "[CV 1/5] END C=1, epsilon=0.3, gamma=0.0001, kernel=linear;, score=-10.486 total time=   0.0s\n",
      "[CV 2/5] END C=1, epsilon=0.3, gamma=0.0001, kernel=linear;, score=-8.239 total time=   0.0s\n",
      "[CV 3/5] END C=1, epsilon=0.3, gamma=0.0001, kernel=linear;, score=-10.837 total time=   0.0s\n",
      "[CV 4/5] END C=1, epsilon=0.3, gamma=0.0001, kernel=linear;, score=-11.450 total time=   0.0s\n",
      "[CV 5/5] END C=1, epsilon=0.3, gamma=0.0001, kernel=linear;, score=-9.131 total time=   0.0s\n",
      "[CV 1/5] END C=10, epsilon=0.1, gamma=1, kernel=linear;, score=-9.632 total time=   0.0s\n",
      "[CV 2/5] END C=10, epsilon=0.1, gamma=1, kernel=linear;, score=-7.361 total time=   0.0s\n",
      "[CV 3/5] END C=10, epsilon=0.1, gamma=1, kernel=linear;, score=-9.823 total time=   0.0s\n",
      "[CV 4/5] END C=10, epsilon=0.1, gamma=1, kernel=linear;, score=-10.073 total time=   0.0s\n",
      "[CV 5/5] END C=10, epsilon=0.1, gamma=1, kernel=linear;, score=-8.815 total time=   0.0s\n",
      "[CV 1/5] END C=10, epsilon=0.1, gamma=0.1, kernel=linear;, score=-9.632 total time=   0.0s\n",
      "[CV 2/5] END C=10, epsilon=0.1, gamma=0.1, kernel=linear;, score=-7.361 total time=   0.0s\n",
      "[CV 3/5] END C=10, epsilon=0.1, gamma=0.1, kernel=linear;, score=-9.823 total time=   0.0s\n",
      "[CV 4/5] END C=10, epsilon=0.1, gamma=0.1, kernel=linear;, score=-10.073 total time=   0.0s\n",
      "[CV 5/5] END C=10, epsilon=0.1, gamma=0.1, kernel=linear;, score=-8.815 total time=   0.0s\n",
      "[CV 1/5] END C=10, epsilon=0.1, gamma=0.01, kernel=linear;, score=-9.632 total time=   0.0s\n",
      "[CV 2/5] END C=10, epsilon=0.1, gamma=0.01, kernel=linear;, score=-7.361 total time=   0.0s\n",
      "[CV 3/5] END C=10, epsilon=0.1, gamma=0.01, kernel=linear;, score=-9.823 total time=   0.0s\n",
      "[CV 4/5] END C=10, epsilon=0.1, gamma=0.01, kernel=linear;, score=-10.073 total time=   0.0s\n",
      "[CV 5/5] END C=10, epsilon=0.1, gamma=0.01, kernel=linear;, score=-8.815 total time=   0.0s\n",
      "[CV 1/5] END C=10, epsilon=0.1, gamma=0.001, kernel=linear;, score=-9.632 total time=   0.0s\n",
      "[CV 2/5] END C=10, epsilon=0.1, gamma=0.001, kernel=linear;, score=-7.361 total time=   0.0s\n",
      "[CV 3/5] END C=10, epsilon=0.1, gamma=0.001, kernel=linear;, score=-9.823 total time=   0.0s\n",
      "[CV 4/5] END C=10, epsilon=0.1, gamma=0.001, kernel=linear;, score=-10.073 total time=   0.0s\n",
      "[CV 5/5] END C=10, epsilon=0.1, gamma=0.001, kernel=linear;, score=-8.815 total time=   0.0s\n",
      "[CV 1/5] END C=10, epsilon=0.1, gamma=0.0001, kernel=linear;, score=-9.632 total time=   0.1s\n",
      "[CV 2/5] END C=10, epsilon=0.1, gamma=0.0001, kernel=linear;, score=-7.361 total time=   0.0s\n",
      "[CV 3/5] END C=10, epsilon=0.1, gamma=0.0001, kernel=linear;, score=-9.823 total time=   0.0s\n",
      "[CV 4/5] END C=10, epsilon=0.1, gamma=0.0001, kernel=linear;, score=-10.073 total time=   0.0s\n",
      "[CV 5/5] END C=10, epsilon=0.1, gamma=0.0001, kernel=linear;, score=-8.815 total time=   0.0s\n",
      "[CV 1/5] END C=10, epsilon=0.2, gamma=1, kernel=linear;, score=-9.625 total time=   0.0s\n",
      "[CV 2/5] END C=10, epsilon=0.2, gamma=1, kernel=linear;, score=-7.339 total time=   0.0s\n",
      "[CV 3/5] END C=10, epsilon=0.2, gamma=1, kernel=linear;, score=-9.796 total time=   0.0s\n",
      "[CV 4/5] END C=10, epsilon=0.2, gamma=1, kernel=linear;, score=-10.033 total time=   0.0s\n",
      "[CV 5/5] END C=10, epsilon=0.2, gamma=1, kernel=linear;, score=-8.821 total time=   0.0s\n",
      "[CV 1/5] END C=10, epsilon=0.2, gamma=0.1, kernel=linear;, score=-9.625 total time=   0.0s\n",
      "[CV 2/5] END C=10, epsilon=0.2, gamma=0.1, kernel=linear;, score=-7.339 total time=   0.0s\n",
      "[CV 3/5] END C=10, epsilon=0.2, gamma=0.1, kernel=linear;, score=-9.796 total time=   0.0s\n",
      "[CV 4/5] END C=10, epsilon=0.2, gamma=0.1, kernel=linear;, score=-10.033 total time=   0.0s\n",
      "[CV 5/5] END C=10, epsilon=0.2, gamma=0.1, kernel=linear;, score=-8.821 total time=   0.0s\n",
      "[CV 1/5] END C=10, epsilon=0.2, gamma=0.01, kernel=linear;, score=-9.625 total time=   0.0s\n",
      "[CV 2/5] END C=10, epsilon=0.2, gamma=0.01, kernel=linear;, score=-7.339 total time=   0.0s\n",
      "[CV 3/5] END C=10, epsilon=0.2, gamma=0.01, kernel=linear;, score=-9.796 total time=   0.0s\n",
      "[CV 4/5] END C=10, epsilon=0.2, gamma=0.01, kernel=linear;, score=-10.033 total time=   0.0s\n",
      "[CV 5/5] END C=10, epsilon=0.2, gamma=0.01, kernel=linear;, score=-8.821 total time=   0.0s\n",
      "[CV 1/5] END C=10, epsilon=0.2, gamma=0.001, kernel=linear;, score=-9.625 total time=   0.0s\n",
      "[CV 2/5] END C=10, epsilon=0.2, gamma=0.001, kernel=linear;, score=-7.339 total time=   0.0s\n",
      "[CV 3/5] END C=10, epsilon=0.2, gamma=0.001, kernel=linear;, score=-9.796 total time=   0.0s\n",
      "[CV 4/5] END C=10, epsilon=0.2, gamma=0.001, kernel=linear;, score=-10.033 total time=   0.0s\n",
      "[CV 5/5] END C=10, epsilon=0.2, gamma=0.001, kernel=linear;, score=-8.821 total time=   0.0s\n",
      "[CV 1/5] END C=10, epsilon=0.2, gamma=0.0001, kernel=linear;, score=-9.625 total time=   0.1s\n",
      "[CV 2/5] END C=10, epsilon=0.2, gamma=0.0001, kernel=linear;, score=-7.339 total time=   0.0s\n",
      "[CV 3/5] END C=10, epsilon=0.2, gamma=0.0001, kernel=linear;, score=-9.796 total time=   0.0s\n",
      "[CV 4/5] END C=10, epsilon=0.2, gamma=0.0001, kernel=linear;, score=-10.033 total time=   0.0s\n",
      "[CV 5/5] END C=10, epsilon=0.2, gamma=0.0001, kernel=linear;, score=-8.821 total time=   0.0s\n",
      "[CV 1/5] END C=10, epsilon=0.3, gamma=1, kernel=linear;, score=-9.637 total time=   0.0s\n",
      "[CV 2/5] END C=10, epsilon=0.3, gamma=1, kernel=linear;, score=-7.328 total time=   0.0s\n",
      "[CV 3/5] END C=10, epsilon=0.3, gamma=1, kernel=linear;, score=-9.780 total time=   0.0s\n",
      "[CV 4/5] END C=10, epsilon=0.3, gamma=1, kernel=linear;, score=-10.056 total time=   0.0s\n",
      "[CV 5/5] END C=10, epsilon=0.3, gamma=1, kernel=linear;, score=-8.819 total time=   0.0s\n",
      "[CV 1/5] END C=10, epsilon=0.3, gamma=0.1, kernel=linear;, score=-9.637 total time=   0.0s\n",
      "[CV 2/5] END C=10, epsilon=0.3, gamma=0.1, kernel=linear;, score=-7.328 total time=   0.0s\n",
      "[CV 3/5] END C=10, epsilon=0.3, gamma=0.1, kernel=linear;, score=-9.780 total time=   0.0s\n",
      "[CV 4/5] END C=10, epsilon=0.3, gamma=0.1, kernel=linear;, score=-10.056 total time=   0.0s\n",
      "[CV 5/5] END C=10, epsilon=0.3, gamma=0.1, kernel=linear;, score=-8.819 total time=   0.0s\n",
      "[CV 1/5] END C=10, epsilon=0.3, gamma=0.01, kernel=linear;, score=-9.637 total time=   0.0s\n",
      "[CV 2/5] END C=10, epsilon=0.3, gamma=0.01, kernel=linear;, score=-7.328 total time=   0.0s\n",
      "[CV 3/5] END C=10, epsilon=0.3, gamma=0.01, kernel=linear;, score=-9.780 total time=   0.0s\n",
      "[CV 4/5] END C=10, epsilon=0.3, gamma=0.01, kernel=linear;, score=-10.056 total time=   0.0s\n",
      "[CV 5/5] END C=10, epsilon=0.3, gamma=0.01, kernel=linear;, score=-8.819 total time=   0.0s\n",
      "[CV 1/5] END C=10, epsilon=0.3, gamma=0.001, kernel=linear;, score=-9.637 total time=   0.0s\n",
      "[CV 2/5] END C=10, epsilon=0.3, gamma=0.001, kernel=linear;, score=-7.328 total time=   0.0s\n",
      "[CV 3/5] END C=10, epsilon=0.3, gamma=0.001, kernel=linear;, score=-9.780 total time=   0.0s\n",
      "[CV 4/5] END C=10, epsilon=0.3, gamma=0.001, kernel=linear;, score=-10.056 total time=   0.0s\n",
      "[CV 5/5] END C=10, epsilon=0.3, gamma=0.001, kernel=linear;, score=-8.819 total time=   0.0s\n",
      "[CV 1/5] END C=10, epsilon=0.3, gamma=0.0001, kernel=linear;, score=-9.637 total time=   0.0s\n",
      "[CV 2/5] END C=10, epsilon=0.3, gamma=0.0001, kernel=linear;, score=-7.328 total time=   0.0s\n",
      "[CV 3/5] END C=10, epsilon=0.3, gamma=0.0001, kernel=linear;, score=-9.780 total time=   0.0s\n",
      "[CV 4/5] END C=10, epsilon=0.3, gamma=0.0001, kernel=linear;, score=-10.056 total time=   0.0s\n",
      "[CV 5/5] END C=10, epsilon=0.3, gamma=0.0001, kernel=linear;, score=-8.819 total time=   0.0s\n",
      "[CV 1/5] END C=100, epsilon=0.1, gamma=1, kernel=linear;, score=-9.622 total time=   0.1s\n",
      "[CV 2/5] END C=100, epsilon=0.1, gamma=1, kernel=linear;, score=-7.302 total time=   0.1s\n",
      "[CV 3/5] END C=100, epsilon=0.1, gamma=1, kernel=linear;, score=-9.730 total time=   0.2s\n",
      "[CV 4/5] END C=100, epsilon=0.1, gamma=1, kernel=linear;, score=-9.935 total time=   0.1s\n",
      "[CV 5/5] END C=100, epsilon=0.1, gamma=1, kernel=linear;, score=-8.845 total time=   0.1s\n",
      "[CV 1/5] END C=100, epsilon=0.1, gamma=0.1, kernel=linear;, score=-9.622 total time=   0.1s\n",
      "[CV 2/5] END C=100, epsilon=0.1, gamma=0.1, kernel=linear;, score=-7.302 total time=   0.1s\n",
      "[CV 3/5] END C=100, epsilon=0.1, gamma=0.1, kernel=linear;, score=-9.730 total time=   0.2s\n",
      "[CV 4/5] END C=100, epsilon=0.1, gamma=0.1, kernel=linear;, score=-9.935 total time=   0.1s\n",
      "[CV 5/5] END C=100, epsilon=0.1, gamma=0.1, kernel=linear;, score=-8.845 total time=   0.1s\n",
      "[CV 1/5] END C=100, epsilon=0.1, gamma=0.01, kernel=linear;, score=-9.622 total time=   0.1s\n",
      "[CV 2/5] END C=100, epsilon=0.1, gamma=0.01, kernel=linear;, score=-7.302 total time=   0.1s\n",
      "[CV 3/5] END C=100, epsilon=0.1, gamma=0.01, kernel=linear;, score=-9.730 total time=   0.2s\n",
      "[CV 4/5] END C=100, epsilon=0.1, gamma=0.01, kernel=linear;, score=-9.935 total time=   0.1s\n",
      "[CV 5/5] END C=100, epsilon=0.1, gamma=0.01, kernel=linear;, score=-8.845 total time=   0.1s\n",
      "[CV 1/5] END C=100, epsilon=0.1, gamma=0.001, kernel=linear;, score=-9.622 total time=   0.1s\n",
      "[CV 2/5] END C=100, epsilon=0.1, gamma=0.001, kernel=linear;, score=-7.302 total time=   0.1s\n",
      "[CV 3/5] END C=100, epsilon=0.1, gamma=0.001, kernel=linear;, score=-9.730 total time=   0.2s\n",
      "[CV 4/5] END C=100, epsilon=0.1, gamma=0.001, kernel=linear;, score=-9.935 total time=   0.1s\n",
      "[CV 5/5] END C=100, epsilon=0.1, gamma=0.001, kernel=linear;, score=-8.845 total time=   0.1s\n",
      "[CV 1/5] END C=100, epsilon=0.1, gamma=0.0001, kernel=linear;, score=-9.622 total time=   0.1s\n",
      "[CV 2/5] END C=100, epsilon=0.1, gamma=0.0001, kernel=linear;, score=-7.302 total time=   0.1s\n",
      "[CV 3/5] END C=100, epsilon=0.1, gamma=0.0001, kernel=linear;, score=-9.730 total time=   0.2s\n",
      "[CV 4/5] END C=100, epsilon=0.1, gamma=0.0001, kernel=linear;, score=-9.935 total time=   0.1s\n",
      "[CV 5/5] END C=100, epsilon=0.1, gamma=0.0001, kernel=linear;, score=-8.845 total time=   0.1s\n",
      "[CV 1/5] END C=100, epsilon=0.2, gamma=1, kernel=linear;, score=-9.600 total time=   0.1s\n",
      "[CV 2/5] END C=100, epsilon=0.2, gamma=1, kernel=linear;, score=-7.312 total time=   0.1s\n",
      "[CV 3/5] END C=100, epsilon=0.2, gamma=1, kernel=linear;, score=-9.757 total time=   0.1s\n",
      "[CV 4/5] END C=100, epsilon=0.2, gamma=1, kernel=linear;, score=-9.982 total time=   0.1s\n",
      "[CV 5/5] END C=100, epsilon=0.2, gamma=1, kernel=linear;, score=-8.865 total time=   0.1s\n",
      "[CV 1/5] END C=100, epsilon=0.2, gamma=0.1, kernel=linear;, score=-9.600 total time=   0.1s\n",
      "[CV 2/5] END C=100, epsilon=0.2, gamma=0.1, kernel=linear;, score=-7.312 total time=   0.1s\n",
      "[CV 3/5] END C=100, epsilon=0.2, gamma=0.1, kernel=linear;, score=-9.757 total time=   0.1s\n",
      "[CV 4/5] END C=100, epsilon=0.2, gamma=0.1, kernel=linear;, score=-9.982 total time=   0.1s\n",
      "[CV 5/5] END C=100, epsilon=0.2, gamma=0.1, kernel=linear;, score=-8.865 total time=   0.1s\n",
      "[CV 1/5] END C=100, epsilon=0.2, gamma=0.01, kernel=linear;, score=-9.600 total time=   0.1s\n",
      "[CV 2/5] END C=100, epsilon=0.2, gamma=0.01, kernel=linear;, score=-7.312 total time=   0.1s\n",
      "[CV 3/5] END C=100, epsilon=0.2, gamma=0.01, kernel=linear;, score=-9.757 total time=   0.1s\n",
      "[CV 4/5] END C=100, epsilon=0.2, gamma=0.01, kernel=linear;, score=-9.982 total time=   0.1s\n",
      "[CV 5/5] END C=100, epsilon=0.2, gamma=0.01, kernel=linear;, score=-8.865 total time=   0.1s\n",
      "[CV 1/5] END C=100, epsilon=0.2, gamma=0.001, kernel=linear;, score=-9.600 total time=   0.1s\n",
      "[CV 2/5] END C=100, epsilon=0.2, gamma=0.001, kernel=linear;, score=-7.312 total time=   0.1s\n",
      "[CV 3/5] END C=100, epsilon=0.2, gamma=0.001, kernel=linear;, score=-9.757 total time=   0.1s\n",
      "[CV 4/5] END C=100, epsilon=0.2, gamma=0.001, kernel=linear;, score=-9.982 total time=   0.1s\n",
      "[CV 5/5] END C=100, epsilon=0.2, gamma=0.001, kernel=linear;, score=-8.865 total time=   0.1s\n",
      "[CV 1/5] END C=100, epsilon=0.2, gamma=0.0001, kernel=linear;, score=-9.600 total time=   0.1s\n",
      "[CV 2/5] END C=100, epsilon=0.2, gamma=0.0001, kernel=linear;, score=-7.312 total time=   0.1s\n",
      "[CV 3/5] END C=100, epsilon=0.2, gamma=0.0001, kernel=linear;, score=-9.757 total time=   0.1s\n",
      "[CV 4/5] END C=100, epsilon=0.2, gamma=0.0001, kernel=linear;, score=-9.982 total time=   0.1s\n",
      "[CV 5/5] END C=100, epsilon=0.2, gamma=0.0001, kernel=linear;, score=-8.865 total time=   0.1s\n",
      "[CV 1/5] END C=100, epsilon=0.3, gamma=1, kernel=linear;, score=-9.604 total time=   0.1s\n",
      "[CV 2/5] END C=100, epsilon=0.3, gamma=1, kernel=linear;, score=-7.299 total time=   0.2s\n",
      "[CV 3/5] END C=100, epsilon=0.3, gamma=1, kernel=linear;, score=-9.747 total time=   0.2s\n",
      "[CV 4/5] END C=100, epsilon=0.3, gamma=1, kernel=linear;, score=-9.978 total time=   0.1s\n",
      "[CV 5/5] END C=100, epsilon=0.3, gamma=1, kernel=linear;, score=-8.867 total time=   0.1s\n",
      "[CV 1/5] END C=100, epsilon=0.3, gamma=0.1, kernel=linear;, score=-9.604 total time=   0.1s\n",
      "[CV 2/5] END C=100, epsilon=0.3, gamma=0.1, kernel=linear;, score=-7.299 total time=   0.2s\n",
      "[CV 3/5] END C=100, epsilon=0.3, gamma=0.1, kernel=linear;, score=-9.747 total time=   0.2s\n",
      "[CV 4/5] END C=100, epsilon=0.3, gamma=0.1, kernel=linear;, score=-9.978 total time=   0.1s\n",
      "[CV 5/5] END C=100, epsilon=0.3, gamma=0.1, kernel=linear;, score=-8.867 total time=   0.1s\n",
      "[CV 1/5] END C=100, epsilon=0.3, gamma=0.01, kernel=linear;, score=-9.604 total time=   0.1s\n",
      "[CV 2/5] END C=100, epsilon=0.3, gamma=0.01, kernel=linear;, score=-7.299 total time=   0.2s\n",
      "[CV 3/5] END C=100, epsilon=0.3, gamma=0.01, kernel=linear;, score=-9.747 total time=   0.2s\n",
      "[CV 4/5] END C=100, epsilon=0.3, gamma=0.01, kernel=linear;, score=-9.978 total time=   0.1s\n",
      "[CV 5/5] END C=100, epsilon=0.3, gamma=0.01, kernel=linear;, score=-8.867 total time=   0.1s\n",
      "[CV 1/5] END C=100, epsilon=0.3, gamma=0.001, kernel=linear;, score=-9.604 total time=   0.1s\n",
      "[CV 2/5] END C=100, epsilon=0.3, gamma=0.001, kernel=linear;, score=-7.299 total time=   0.2s\n",
      "[CV 3/5] END C=100, epsilon=0.3, gamma=0.001, kernel=linear;, score=-9.747 total time=   0.2s\n",
      "[CV 4/5] END C=100, epsilon=0.3, gamma=0.001, kernel=linear;, score=-9.978 total time=   0.1s\n",
      "[CV 5/5] END C=100, epsilon=0.3, gamma=0.001, kernel=linear;, score=-8.867 total time=   0.1s\n",
      "[CV 1/5] END C=100, epsilon=0.3, gamma=0.0001, kernel=linear;, score=-9.604 total time=   0.1s\n",
      "[CV 2/5] END C=100, epsilon=0.3, gamma=0.0001, kernel=linear;, score=-7.299 total time=   0.2s\n",
      "[CV 3/5] END C=100, epsilon=0.3, gamma=0.0001, kernel=linear;, score=-9.747 total time=   0.2s\n",
      "[CV 4/5] END C=100, epsilon=0.3, gamma=0.0001, kernel=linear;, score=-9.978 total time=   0.1s\n",
      "[CV 5/5] END C=100, epsilon=0.3, gamma=0.0001, kernel=linear;, score=-8.867 total time=   0.1s\n",
      "[CV 1/5] END C=1000, epsilon=0.1, gamma=1, kernel=linear;, score=-9.610 total time=   0.7s\n",
      "[CV 2/5] END C=1000, epsilon=0.1, gamma=1, kernel=linear;, score=-7.296 total time=   0.8s\n",
      "[CV 3/5] END C=1000, epsilon=0.1, gamma=1, kernel=linear;, score=-9.729 total time=   1.2s\n",
      "[CV 4/5] END C=1000, epsilon=0.1, gamma=1, kernel=linear;, score=-9.933 total time=   0.7s\n",
      "[CV 5/5] END C=1000, epsilon=0.1, gamma=1, kernel=linear;, score=-8.850 total time=   0.8s\n",
      "[CV 1/5] END C=1000, epsilon=0.1, gamma=0.1, kernel=linear;, score=-9.610 total time=   0.7s\n",
      "[CV 2/5] END C=1000, epsilon=0.1, gamma=0.1, kernel=linear;, score=-7.296 total time=   0.8s\n",
      "[CV 3/5] END C=1000, epsilon=0.1, gamma=0.1, kernel=linear;, score=-9.729 total time=   1.2s\n",
      "[CV 4/5] END C=1000, epsilon=0.1, gamma=0.1, kernel=linear;, score=-9.933 total time=   0.7s\n",
      "[CV 5/5] END C=1000, epsilon=0.1, gamma=0.1, kernel=linear;, score=-8.850 total time=   0.8s\n",
      "[CV 1/5] END C=1000, epsilon=0.1, gamma=0.01, kernel=linear;, score=-9.610 total time=   0.7s\n",
      "[CV 2/5] END C=1000, epsilon=0.1, gamma=0.01, kernel=linear;, score=-7.296 total time=   0.7s\n",
      "[CV 3/5] END C=1000, epsilon=0.1, gamma=0.01, kernel=linear;, score=-9.729 total time=   1.2s\n",
      "[CV 4/5] END C=1000, epsilon=0.1, gamma=0.01, kernel=linear;, score=-9.933 total time=   0.7s\n",
      "[CV 5/5] END C=1000, epsilon=0.1, gamma=0.01, kernel=linear;, score=-8.850 total time=   0.8s\n",
      "[CV 1/5] END C=1000, epsilon=0.1, gamma=0.001, kernel=linear;, score=-9.610 total time=   0.7s\n",
      "[CV 2/5] END C=1000, epsilon=0.1, gamma=0.001, kernel=linear;, score=-7.296 total time=   0.8s\n",
      "[CV 3/5] END C=1000, epsilon=0.1, gamma=0.001, kernel=linear;, score=-9.729 total time=   1.2s\n",
      "[CV 4/5] END C=1000, epsilon=0.1, gamma=0.001, kernel=linear;, score=-9.933 total time=   0.7s\n",
      "[CV 5/5] END C=1000, epsilon=0.1, gamma=0.001, kernel=linear;, score=-8.850 total time=   0.8s\n",
      "[CV 1/5] END C=1000, epsilon=0.1, gamma=0.0001, kernel=linear;, score=-9.610 total time=   0.7s\n",
      "[CV 2/5] END C=1000, epsilon=0.1, gamma=0.0001, kernel=linear;, score=-7.296 total time=   0.8s\n",
      "[CV 3/5] END C=1000, epsilon=0.1, gamma=0.0001, kernel=linear;, score=-9.729 total time=   1.2s\n",
      "[CV 4/5] END C=1000, epsilon=0.1, gamma=0.0001, kernel=linear;, score=-9.933 total time=   0.7s\n",
      "[CV 5/5] END C=1000, epsilon=0.1, gamma=0.0001, kernel=linear;, score=-8.850 total time=   0.8s\n",
      "[CV 1/5] END C=1000, epsilon=0.2, gamma=1, kernel=linear;, score=-9.601 total time=   1.1s\n",
      "[CV 2/5] END C=1000, epsilon=0.2, gamma=1, kernel=linear;, score=-7.296 total time=   0.7s\n",
      "[CV 3/5] END C=1000, epsilon=0.2, gamma=1, kernel=linear;, score=-9.756 total time=   1.2s\n",
      "[CV 4/5] END C=1000, epsilon=0.2, gamma=1, kernel=linear;, score=-9.942 total time=   0.8s\n",
      "[CV 5/5] END C=1000, epsilon=0.2, gamma=1, kernel=linear;, score=-8.867 total time=   0.8s\n",
      "[CV 1/5] END C=1000, epsilon=0.2, gamma=0.1, kernel=linear;, score=-9.601 total time=   1.1s\n",
      "[CV 2/5] END C=1000, epsilon=0.2, gamma=0.1, kernel=linear;, score=-7.296 total time=   0.7s\n",
      "[CV 3/5] END C=1000, epsilon=0.2, gamma=0.1, kernel=linear;, score=-9.756 total time=   1.2s\n",
      "[CV 4/5] END C=1000, epsilon=0.2, gamma=0.1, kernel=linear;, score=-9.942 total time=   0.8s\n",
      "[CV 5/5] END C=1000, epsilon=0.2, gamma=0.1, kernel=linear;, score=-8.867 total time=   0.8s\n",
      "[CV 1/5] END C=1000, epsilon=0.2, gamma=0.01, kernel=linear;, score=-9.601 total time=   1.1s\n",
      "[CV 2/5] END C=1000, epsilon=0.2, gamma=0.01, kernel=linear;, score=-7.296 total time=   0.7s\n",
      "[CV 3/5] END C=1000, epsilon=0.2, gamma=0.01, kernel=linear;, score=-9.756 total time=   1.2s\n",
      "[CV 4/5] END C=1000, epsilon=0.2, gamma=0.01, kernel=linear;, score=-9.942 total time=   0.8s\n",
      "[CV 5/5] END C=1000, epsilon=0.2, gamma=0.01, kernel=linear;, score=-8.867 total time=   0.8s\n",
      "[CV 1/5] END C=1000, epsilon=0.2, gamma=0.001, kernel=linear;, score=-9.601 total time=   1.1s\n",
      "[CV 2/5] END C=1000, epsilon=0.2, gamma=0.001, kernel=linear;, score=-7.296 total time=   0.7s\n",
      "[CV 3/5] END C=1000, epsilon=0.2, gamma=0.001, kernel=linear;, score=-9.756 total time=   1.2s\n",
      "[CV 4/5] END C=1000, epsilon=0.2, gamma=0.001, kernel=linear;, score=-9.942 total time=   0.8s\n",
      "[CV 5/5] END C=1000, epsilon=0.2, gamma=0.001, kernel=linear;, score=-8.867 total time=   0.8s\n",
      "[CV 1/5] END C=1000, epsilon=0.2, gamma=0.0001, kernel=linear;, score=-9.601 total time=   1.1s\n",
      "[CV 2/5] END C=1000, epsilon=0.2, gamma=0.0001, kernel=linear;, score=-7.296 total time=   0.7s\n",
      "[CV 3/5] END C=1000, epsilon=0.2, gamma=0.0001, kernel=linear;, score=-9.756 total time=   1.2s\n",
      "[CV 4/5] END C=1000, epsilon=0.2, gamma=0.0001, kernel=linear;, score=-9.942 total time=   0.8s\n",
      "[CV 5/5] END C=1000, epsilon=0.2, gamma=0.0001, kernel=linear;, score=-8.867 total time=   0.8s\n",
      "[CV 1/5] END C=1000, epsilon=0.3, gamma=1, kernel=linear;, score=-9.605 total time=   0.8s\n",
      "[CV 2/5] END C=1000, epsilon=0.3, gamma=1, kernel=linear;, score=-7.299 total time=   0.9s\n",
      "[CV 3/5] END C=1000, epsilon=0.3, gamma=1, kernel=linear;, score=-9.746 total time=   1.0s\n",
      "[CV 4/5] END C=1000, epsilon=0.3, gamma=1, kernel=linear;, score=-9.957 total time=   0.9s\n",
      "[CV 5/5] END C=1000, epsilon=0.3, gamma=1, kernel=linear;, score=-8.878 total time=   0.8s\n",
      "[CV 1/5] END C=1000, epsilon=0.3, gamma=0.1, kernel=linear;, score=-9.605 total time=   0.8s\n",
      "[CV 2/5] END C=1000, epsilon=0.3, gamma=0.1, kernel=linear;, score=-7.299 total time=   0.8s\n",
      "[CV 3/5] END C=1000, epsilon=0.3, gamma=0.1, kernel=linear;, score=-9.746 total time=   0.9s\n",
      "[CV 4/5] END C=1000, epsilon=0.3, gamma=0.1, kernel=linear;, score=-9.957 total time=   0.8s\n",
      "[CV 5/5] END C=1000, epsilon=0.3, gamma=0.1, kernel=linear;, score=-8.878 total time=   0.7s\n",
      "[CV 1/5] END C=1000, epsilon=0.3, gamma=0.01, kernel=linear;, score=-9.605 total time=   0.8s\n",
      "[CV 2/5] END C=1000, epsilon=0.3, gamma=0.01, kernel=linear;, score=-7.299 total time=   0.8s\n",
      "[CV 3/5] END C=1000, epsilon=0.3, gamma=0.01, kernel=linear;, score=-9.746 total time=   0.8s\n",
      "[CV 4/5] END C=1000, epsilon=0.3, gamma=0.01, kernel=linear;, score=-9.957 total time=   0.8s\n",
      "[CV 5/5] END C=1000, epsilon=0.3, gamma=0.01, kernel=linear;, score=-8.878 total time=   0.7s\n",
      "[CV 1/5] END C=1000, epsilon=0.3, gamma=0.001, kernel=linear;, score=-9.605 total time=   0.8s\n",
      "[CV 2/5] END C=1000, epsilon=0.3, gamma=0.001, kernel=linear;, score=-7.299 total time=   0.8s\n",
      "[CV 3/5] END C=1000, epsilon=0.3, gamma=0.001, kernel=linear;, score=-9.746 total time=   0.8s\n",
      "[CV 4/5] END C=1000, epsilon=0.3, gamma=0.001, kernel=linear;, score=-9.957 total time=   0.8s\n",
      "[CV 5/5] END C=1000, epsilon=0.3, gamma=0.001, kernel=linear;, score=-8.878 total time=   0.7s\n",
      "[CV 1/5] END C=1000, epsilon=0.3, gamma=0.0001, kernel=linear;, score=-9.605 total time=   0.8s\n",
      "[CV 2/5] END C=1000, epsilon=0.3, gamma=0.0001, kernel=linear;, score=-7.299 total time=   0.8s\n",
      "[CV 3/5] END C=1000, epsilon=0.3, gamma=0.0001, kernel=linear;, score=-9.746 total time=   0.9s\n",
      "[CV 4/5] END C=1000, epsilon=0.3, gamma=0.0001, kernel=linear;, score=-9.957 total time=   0.8s\n",
      "[CV 5/5] END C=1000, epsilon=0.3, gamma=0.0001, kernel=linear;, score=-8.878 total time=   0.7s\n"
     ]
    },
    {
     "data": {
      "text/html": [
       "<style>#sk-container-id-2 {color: black;background-color: white;}#sk-container-id-2 pre{padding: 0;}#sk-container-id-2 div.sk-toggleable {background-color: white;}#sk-container-id-2 label.sk-toggleable__label {cursor: pointer;display: block;width: 100%;margin-bottom: 0;padding: 0.3em;box-sizing: border-box;text-align: center;}#sk-container-id-2 label.sk-toggleable__label-arrow:before {content: \"▸\";float: left;margin-right: 0.25em;color: #696969;}#sk-container-id-2 label.sk-toggleable__label-arrow:hover:before {color: black;}#sk-container-id-2 div.sk-estimator:hover label.sk-toggleable__label-arrow:before {color: black;}#sk-container-id-2 div.sk-toggleable__content {max-height: 0;max-width: 0;overflow: hidden;text-align: left;background-color: #f0f8ff;}#sk-container-id-2 div.sk-toggleable__content pre {margin: 0.2em;color: black;border-radius: 0.25em;background-color: #f0f8ff;}#sk-container-id-2 input.sk-toggleable__control:checked~div.sk-toggleable__content {max-height: 200px;max-width: 100%;overflow: auto;}#sk-container-id-2 input.sk-toggleable__control:checked~label.sk-toggleable__label-arrow:before {content: \"▾\";}#sk-container-id-2 div.sk-estimator input.sk-toggleable__control:checked~label.sk-toggleable__label {background-color: #d4ebff;}#sk-container-id-2 div.sk-label input.sk-toggleable__control:checked~label.sk-toggleable__label {background-color: #d4ebff;}#sk-container-id-2 input.sk-hidden--visually {border: 0;clip: rect(1px 1px 1px 1px);clip: rect(1px, 1px, 1px, 1px);height: 1px;margin: -1px;overflow: hidden;padding: 0;position: absolute;width: 1px;}#sk-container-id-2 div.sk-estimator {font-family: monospace;background-color: #f0f8ff;border: 1px dotted black;border-radius: 0.25em;box-sizing: border-box;margin-bottom: 0.5em;}#sk-container-id-2 div.sk-estimator:hover {background-color: #d4ebff;}#sk-container-id-2 div.sk-parallel-item::after {content: \"\";width: 100%;border-bottom: 1px solid gray;flex-grow: 1;}#sk-container-id-2 div.sk-label:hover label.sk-toggleable__label {background-color: #d4ebff;}#sk-container-id-2 div.sk-serial::before {content: \"\";position: absolute;border-left: 1px solid gray;box-sizing: border-box;top: 0;bottom: 0;left: 50%;z-index: 0;}#sk-container-id-2 div.sk-serial {display: flex;flex-direction: column;align-items: center;background-color: white;padding-right: 0.2em;padding-left: 0.2em;position: relative;}#sk-container-id-2 div.sk-item {position: relative;z-index: 1;}#sk-container-id-2 div.sk-parallel {display: flex;align-items: stretch;justify-content: center;background-color: white;position: relative;}#sk-container-id-2 div.sk-item::before, #sk-container-id-2 div.sk-parallel-item::before {content: \"\";position: absolute;border-left: 1px solid gray;box-sizing: border-box;top: 0;bottom: 0;left: 50%;z-index: -1;}#sk-container-id-2 div.sk-parallel-item {display: flex;flex-direction: column;z-index: 1;position: relative;background-color: white;}#sk-container-id-2 div.sk-parallel-item:first-child::after {align-self: flex-end;width: 50%;}#sk-container-id-2 div.sk-parallel-item:last-child::after {align-self: flex-start;width: 50%;}#sk-container-id-2 div.sk-parallel-item:only-child::after {width: 0;}#sk-container-id-2 div.sk-dashed-wrapped {border: 1px dashed gray;margin: 0 0.4em 0.5em 0.4em;box-sizing: border-box;padding-bottom: 0.4em;background-color: white;}#sk-container-id-2 div.sk-label label {font-family: monospace;font-weight: bold;display: inline-block;line-height: 1.2em;}#sk-container-id-2 div.sk-label-container {text-align: center;}#sk-container-id-2 div.sk-container {/* jupyter's `normalize.less` sets `[hidden] { display: none; }` but bootstrap.min.css set `[hidden] { display: none !important; }` so we also need the `!important` here to be able to override the default hidden behavior on the sphinx rendered scikit-learn.org. See: https://github.com/scikit-learn/scikit-learn/issues/21755 */display: inline-block !important;position: relative;}#sk-container-id-2 div.sk-text-repr-fallback {display: none;}</style><div id=\"sk-container-id-2\" class=\"sk-top-container\"><div class=\"sk-text-repr-fallback\"><pre>GridSearchCV(cv=5, estimator=SVR(),\n",
       "             param_grid={&#x27;C&#x27;: [0.1, 1, 10, 100, 1000],\n",
       "                         &#x27;epsilon&#x27;: [0.1, 0.2, 0.3],\n",
       "                         &#x27;gamma&#x27;: [1, 0.1, 0.01, 0.001, 0.0001],\n",
       "                         &#x27;kernel&#x27;: [&#x27;linear&#x27;]},\n",
       "             scoring=&#x27;neg_mean_squared_error&#x27;, verbose=3)</pre><b>In a Jupyter environment, please rerun this cell to show the HTML representation or trust the notebook. <br />On GitHub, the HTML representation is unable to render, please try loading this page with nbviewer.org.</b></div><div class=\"sk-container\" hidden><div class=\"sk-item sk-dashed-wrapped\"><div class=\"sk-label-container\"><div class=\"sk-label sk-toggleable\"><input class=\"sk-toggleable__control sk-hidden--visually\" id=\"sk-estimator-id-2\" type=\"checkbox\" ><label for=\"sk-estimator-id-2\" class=\"sk-toggleable__label sk-toggleable__label-arrow\">GridSearchCV</label><div class=\"sk-toggleable__content\"><pre>GridSearchCV(cv=5, estimator=SVR(),\n",
       "             param_grid={&#x27;C&#x27;: [0.1, 1, 10, 100, 1000],\n",
       "                         &#x27;epsilon&#x27;: [0.1, 0.2, 0.3],\n",
       "                         &#x27;gamma&#x27;: [1, 0.1, 0.01, 0.001, 0.0001],\n",
       "                         &#x27;kernel&#x27;: [&#x27;linear&#x27;]},\n",
       "             scoring=&#x27;neg_mean_squared_error&#x27;, verbose=3)</pre></div></div></div><div class=\"sk-parallel\"><div class=\"sk-parallel-item\"><div class=\"sk-item\"><div class=\"sk-label-container\"><div class=\"sk-label sk-toggleable\"><input class=\"sk-toggleable__control sk-hidden--visually\" id=\"sk-estimator-id-3\" type=\"checkbox\" ><label for=\"sk-estimator-id-3\" class=\"sk-toggleable__label sk-toggleable__label-arrow\">estimator: SVR</label><div class=\"sk-toggleable__content\"><pre>SVR()</pre></div></div></div><div class=\"sk-serial\"><div class=\"sk-item\"><div class=\"sk-estimator sk-toggleable\"><input class=\"sk-toggleable__control sk-hidden--visually\" id=\"sk-estimator-id-4\" type=\"checkbox\" ><label for=\"sk-estimator-id-4\" class=\"sk-toggleable__label sk-toggleable__label-arrow\">SVR</label><div class=\"sk-toggleable__content\"><pre>SVR()</pre></div></div></div></div></div></div></div></div></div></div>"
      ],
      "text/plain": [
       "GridSearchCV(cv=5, estimator=SVR(),\n",
       "             param_grid={'C': [0.1, 1, 10, 100, 1000],\n",
       "                         'epsilon': [0.1, 0.2, 0.3],\n",
       "                         'gamma': [1, 0.1, 0.01, 0.001, 0.0001],\n",
       "                         'kernel': ['linear']},\n",
       "             scoring='neg_mean_squared_error', verbose=3)"
      ]
     },
     "execution_count": 29,
     "metadata": {},
     "output_type": "execute_result"
    }
   ],
   "source": [
    "clf.fit(X_train,y_train)"
   ]
  },
  {
   "cell_type": "code",
   "execution_count": 30,
   "id": "d4b2ed6d-4a18-4f64-9a58-b8c190258062",
   "metadata": {},
   "outputs": [
    {
     "data": {
      "text/plain": [
       "{'C': 1000, 'epsilon': 0.1, 'gamma': 1, 'kernel': 'linear'}"
      ]
     },
     "execution_count": 30,
     "metadata": {},
     "output_type": "execute_result"
    }
   ],
   "source": [
    "clf.best_params_"
   ]
  },
  {
   "cell_type": "code",
   "execution_count": 31,
   "id": "4bf68d76-63c4-40b1-bf29-a3a7a195af5d",
   "metadata": {},
   "outputs": [],
   "source": [
    "y_pred1=clf.predict(X_test)\n"
   ]
  },
  {
   "cell_type": "code",
   "execution_count": 32,
   "id": "09e61d93-10e3-4859-8333-e64aa11bffd3",
   "metadata": {},
   "outputs": [
    {
     "name": "stdout",
     "output_type": "stream",
     "text": [
      "0.9994657828564677\n"
     ]
    }
   ],
   "source": [
    "print(r2_score(y_test,y_pred))"
   ]
  },
  {
   "cell_type": "markdown",
   "id": "2208d37f-2667-4b4a-af53-9e27dc57f1ae",
   "metadata": {},
   "source": [
    "## SVM Kernels Implementation"
   ]
  },
  {
   "cell_type": "code",
   "execution_count": 2,
   "id": "e3a37336-9dd1-4816-a815-ce2192f572da",
   "metadata": {},
   "outputs": [],
   "source": [
    "import pandas as pd \n",
    "import numpy as np\n",
    "import seaborn as sns\n",
    "import matplotlib.pyplot as plt\n",
    "%matplotlib inline"
   ]
  },
  {
   "cell_type": "code",
   "execution_count": 3,
   "id": "2c0df45c-6e45-4b95-bc73-a469c6b569e3",
   "metadata": {},
   "outputs": [],
   "source": [
    "x= np.linspace(-5.0,5.0,100)\n",
    "y=np.sqrt(10**2 - x**2)\n",
    "y=np.hstack([y,-y])\n",
    "x=np.hstack([x,-x])"
   ]
  },
  {
   "cell_type": "code",
   "execution_count": 4,
   "id": "482181ab-a1e1-4299-818a-c24f7dd5b979",
   "metadata": {},
   "outputs": [],
   "source": [
    "x1= np.linspace(-5.0,5.0,100)\n",
    "y1=np.sqrt(5**2 - x1**2)\n",
    "y1=np.hstack([y1,-y1])\n",
    "x1=np.hstack([x1,-x1])\n"
   ]
  },
  {
   "cell_type": "code",
   "execution_count": 5,
   "id": "cf5029a2-2afb-4f55-86bb-0f0aeb22db6a",
   "metadata": {},
   "outputs": [
    {
     "data": {
      "text/plain": [
       "<matplotlib.collections.PathCollection at 0x7f300df71300>"
      ]
     },
     "execution_count": 5,
     "metadata": {},
     "output_type": "execute_result"
    },
    {
     "data": {
      "image/png": "[encoded data removed]",
      "text/plain": [
       "<Figure size 640x480 with 1 Axes>"
      ]
     },
     "metadata": {},
     "output_type": "display_data"
    }
   ],
   "source": [
    "plt.scatter(y,x)\n",
    "plt.scatter(y1,x1)"
   ]
  },
  {
   "cell_type": "code",
   "execution_count": 6,
   "id": "6603c641-e7a8-4a3d-a3d5-a0b08ed7bd0b",
   "metadata": {},
   "outputs": [
    {
     "name": "stderr",
     "output_type": "stream",
     "text": [
      "/tmp/ipykernel_1846/1241201207.py:6: FutureWarning: The frame.append method is deprecated and will be removed from pandas in a future version. Use pandas.concat instead.\n",
      "  df = df1.append(df2)\n"
     ]
    },
    {
     "data": {
      "text/html": [
       "<div>\n",
       "<style scoped>\n",
       "    .dataframe tbody tr th:only-of-type {\n",
       "        vertical-align: middle;\n",
       "    }\n",
       "\n",
       "    .dataframe tbody tr th {\n",
       "        vertical-align: top;\n",
       "    }\n",
       "\n",
       "    .dataframe thead th {\n",
       "        text-align: right;\n",
       "    }\n",
       "</style>\n",
       "<table border=\"1\" class=\"dataframe\">\n",
       "  <thead>\n",
       "    <tr style=\"text-align: right;\">\n",
       "      <th></th>\n",
       "      <th>X1</th>\n",
       "      <th>X2</th>\n",
       "      <th>Y</th>\n",
       "    </tr>\n",
       "  </thead>\n",
       "  <tbody>\n",
       "    <tr>\n",
       "      <th>0</th>\n",
       "      <td>8.660254</td>\n",
       "      <td>-5.00000</td>\n",
       "      <td>0</td>\n",
       "    </tr>\n",
       "    <tr>\n",
       "      <th>1</th>\n",
       "      <td>8.717792</td>\n",
       "      <td>-4.89899</td>\n",
       "      <td>0</td>\n",
       "    </tr>\n",
       "    <tr>\n",
       "      <th>2</th>\n",
       "      <td>8.773790</td>\n",
       "      <td>-4.79798</td>\n",
       "      <td>0</td>\n",
       "    </tr>\n",
       "    <tr>\n",
       "      <th>3</th>\n",
       "      <td>8.828277</td>\n",
       "      <td>-4.69697</td>\n",
       "      <td>0</td>\n",
       "    </tr>\n",
       "    <tr>\n",
       "      <th>4</th>\n",
       "      <td>8.881281</td>\n",
       "      <td>-4.59596</td>\n",
       "      <td>0</td>\n",
       "    </tr>\n",
       "  </tbody>\n",
       "</table>\n",
       "</div>"
      ],
      "text/plain": [
       "         X1       X2  Y\n",
       "0  8.660254 -5.00000  0\n",
       "1  8.717792 -4.89899  0\n",
       "2  8.773790 -4.79798  0\n",
       "3  8.828277 -4.69697  0\n",
       "4  8.881281 -4.59596  0"
      ]
     },
     "execution_count": 6,
     "metadata": {},
     "output_type": "execute_result"
    }
   ],
   "source": [
    "import pandas as pd\n",
    "df1 =pd.DataFrame(np.vstack([y,x]).T,columns=['X1','X2'])\n",
    "df1['Y']=0\n",
    "df2 =pd.DataFrame(np.vstack([y1,x1]).T,columns=['X1','X2'])\n",
    "df2['Y']=1\n",
    "df = df1.append(df2)\n",
    "df.head(5)"
   ]
  },
  {
   "cell_type": "code",
   "execution_count": 7,
   "id": "dcdd457e-2c03-4248-9cb7-fedef1282b95",
   "metadata": {},
   "outputs": [
    {
     "data": {
      "text/html": [
       "<div>\n",
       "<style scoped>\n",
       "    .dataframe tbody tr th:only-of-type {\n",
       "        vertical-align: middle;\n",
       "    }\n",
       "\n",
       "    .dataframe tbody tr th {\n",
       "        vertical-align: top;\n",
       "    }\n",
       "\n",
       "    .dataframe thead th {\n",
       "        text-align: right;\n",
       "    }\n",
       "</style>\n",
       "<table border=\"1\" class=\"dataframe\">\n",
       "  <thead>\n",
       "    <tr style=\"text-align: right;\">\n",
       "      <th></th>\n",
       "      <th>X1</th>\n",
       "      <th>X2</th>\n",
       "      <th>Y</th>\n",
       "    </tr>\n",
       "  </thead>\n",
       "  <tbody>\n",
       "    <tr>\n",
       "      <th>195</th>\n",
       "      <td>-1.969049</td>\n",
       "      <td>-4.59596</td>\n",
       "      <td>1</td>\n",
       "    </tr>\n",
       "    <tr>\n",
       "      <th>196</th>\n",
       "      <td>-1.714198</td>\n",
       "      <td>-4.69697</td>\n",
       "      <td>1</td>\n",
       "    </tr>\n",
       "    <tr>\n",
       "      <th>197</th>\n",
       "      <td>-1.406908</td>\n",
       "      <td>-4.79798</td>\n",
       "      <td>1</td>\n",
       "    </tr>\n",
       "    <tr>\n",
       "      <th>198</th>\n",
       "      <td>-0.999949</td>\n",
       "      <td>-4.89899</td>\n",
       "      <td>1</td>\n",
       "    </tr>\n",
       "    <tr>\n",
       "      <th>199</th>\n",
       "      <td>-0.000000</td>\n",
       "      <td>-5.00000</td>\n",
       "      <td>1</td>\n",
       "    </tr>\n",
       "  </tbody>\n",
       "</table>\n",
       "</div>"
      ],
      "text/plain": [
       "           X1       X2  Y\n",
       "195 -1.969049 -4.59596  1\n",
       "196 -1.714198 -4.69697  1\n",
       "197 -1.406908 -4.79798  1\n",
       "198 -0.999949 -4.89899  1\n",
       "199 -0.000000 -5.00000  1"
      ]
     },
     "execution_count": 7,
     "metadata": {},
     "output_type": "execute_result"
    }
   ],
   "source": [
    "df.tail()\n"
   ]
  },
  {
   "cell_type": "markdown",
   "id": "f141d25d-b777-4c60-a323-7a8ed336afd3",
   "metadata": {},
   "source": [
    "### Polynomical Kernel"
   ]
  },
  {
   "cell_type": "code",
   "execution_count": 8,
   "id": "ef9b7cba-3d75-46e9-836c-4709ce0f0b43",
   "metadata": {},
   "outputs": [
    {
     "data": {
      "text/html": [
       "<div>\n",
       "<style scoped>\n",
       "    .dataframe tbody tr th:only-of-type {\n",
       "        vertical-align: middle;\n",
       "    }\n",
       "\n",
       "    .dataframe tbody tr th {\n",
       "        vertical-align: top;\n",
       "    }\n",
       "\n",
       "    .dataframe thead th {\n",
       "        text-align: right;\n",
       "    }\n",
       "</style>\n",
       "<table border=\"1\" class=\"dataframe\">\n",
       "  <thead>\n",
       "    <tr style=\"text-align: right;\">\n",
       "      <th></th>\n",
       "      <th>X1</th>\n",
       "      <th>X2</th>\n",
       "      <th>Y</th>\n",
       "      <th>X1_square</th>\n",
       "      <th>X2_square</th>\n",
       "      <th>X1*X2</th>\n",
       "    </tr>\n",
       "  </thead>\n",
       "  <tbody>\n",
       "    <tr>\n",
       "      <th>0</th>\n",
       "      <td>8.660254</td>\n",
       "      <td>-5.00000</td>\n",
       "      <td>0</td>\n",
       "      <td>75.000000</td>\n",
       "      <td>25.000000</td>\n",
       "      <td>-43.301270</td>\n",
       "    </tr>\n",
       "    <tr>\n",
       "      <th>1</th>\n",
       "      <td>8.717792</td>\n",
       "      <td>-4.89899</td>\n",
       "      <td>0</td>\n",
       "      <td>75.999898</td>\n",
       "      <td>24.000102</td>\n",
       "      <td>-42.708375</td>\n",
       "    </tr>\n",
       "    <tr>\n",
       "      <th>2</th>\n",
       "      <td>8.773790</td>\n",
       "      <td>-4.79798</td>\n",
       "      <td>0</td>\n",
       "      <td>76.979390</td>\n",
       "      <td>23.020610</td>\n",
       "      <td>-42.096467</td>\n",
       "    </tr>\n",
       "    <tr>\n",
       "      <th>3</th>\n",
       "      <td>8.828277</td>\n",
       "      <td>-4.69697</td>\n",
       "      <td>0</td>\n",
       "      <td>77.938476</td>\n",
       "      <td>22.061524</td>\n",
       "      <td>-41.466150</td>\n",
       "    </tr>\n",
       "    <tr>\n",
       "      <th>4</th>\n",
       "      <td>8.881281</td>\n",
       "      <td>-4.59596</td>\n",
       "      <td>0</td>\n",
       "      <td>78.877155</td>\n",
       "      <td>21.122845</td>\n",
       "      <td>-40.818009</td>\n",
       "    </tr>\n",
       "  </tbody>\n",
       "</table>\n",
       "</div>"
      ],
      "text/plain": [
       "         X1       X2  Y  X1_square  X2_square      X1*X2\n",
       "0  8.660254 -5.00000  0  75.000000  25.000000 -43.301270\n",
       "1  8.717792 -4.89899  0  75.999898  24.000102 -42.708375\n",
       "2  8.773790 -4.79798  0  76.979390  23.020610 -42.096467\n",
       "3  8.828277 -4.69697  0  77.938476  22.061524 -41.466150\n",
       "4  8.881281 -4.59596  0  78.877155  21.122845 -40.818009"
      ]
     },
     "execution_count": 8,
     "metadata": {},
     "output_type": "execute_result"
    }
   ],
   "source": [
    "df['X1_square']=df['X1']**2\n",
    "df['X2_square']=df['X2']**2\n",
    "df['X1*X2']=df['X1']*df['X2']\n",
    "df.head()"
   ]
  },
  {
   "cell_type": "code",
   "execution_count": 9,
   "id": "29414743-5e7d-4d34-8700-90bd19fa3ba5",
   "metadata": {},
   "outputs": [],
   "source": [
    "### Dependent and independent Feature\n",
    "X=df[['X1_square','X2_square','X1*X2']]\n",
    "y=df['Y']"
   ]
  },
  {
   "cell_type": "code",
   "execution_count": 10,
   "id": "83f9fdb9-9fc5-456c-8538-da7bdfe930e0",
   "metadata": {},
   "outputs": [],
   "source": [
    "from sklearn.model_selection import train_test_split\n",
    "X_train,X_test,y_train,y_test=train_test_split(X,y,test_size=0.25,random_state=0)"
   ]
  },
  {
   "cell_type": "code",
   "execution_count": 11,
   "id": "61172e2c-f624-454a-a26e-abc118987497",
   "metadata": {},
   "outputs": [
    {
     "name": "stdout",
     "output_type": "stream",
     "text": [
      "Requirement already satisfied: plotly in /opt/conda/lib/python3.10/site-packages (5.15.0)\n",
      "Requirement already satisfied: packaging in /opt/conda/lib/python3.10/site-packages (from plotly) (22.0)\n",
      "Requirement already satisfied: tenacity>=6.2.0 in /opt/conda/lib/python3.10/site-packages (from plotly) (8.2.2)\n",
      "Note: you may need to restart the kernel to use updated packages.\n"
     ]
    }
   ],
   "source": [
    "pip install plotly"
   ]
  },
  {
   "cell_type": "code",
   "execution_count": null,
   "id": "a5e6ead2-754b-4cd2-b9cd-dc924a849bb2",
   "metadata": {},
   "outputs": [],
   "source": [
    "import plotly.express as px\n",
    "import plotly.express as px\n",
    "fig = px.scatter_3d(df, x='X1_square', y='X2_square', z='X1*X2',\n",
    "              color='Y')\n",
    "fig.show()\n",
    "plt.show()\n"
   ]
  },
  {
   "cell_type": "code",
   "execution_count": 14,
   "id": "dd2eeac2-d920-4c16-8f5f-5291e0a91655",
   "metadata": {},
   "outputs": [
    {
     "data": {
      "text/plain": [
       "1.0"
      ]
     },
     "execution_count": 14,
     "metadata": {},
     "output_type": "execute_result"
    }
   ],
   "source": [
    "from sklearn.metrics import accuracy_score\n",
    "from sklearn.svm import SVC\n",
    "classifier = SVC(kernel=\"linear\")\n",
    "classifier.fit(X_train, y_train)\n",
    "y_pred = classifier.predict(X_test)\n",
    "accuracy_score(y_test, y_pred)"
   ]
  },
  {
   "cell_type": "markdown",
   "id": "6496fe24-f4ad-407e-95a4-fe82247ff12d",
   "metadata": {},
   "source": [
    "### Radial Basis Function Kernel (RBF)"
   ]
  },
  {
   "cell_type": "code",
   "execution_count": 15,
   "id": "0ae21b72-fbb6-450f-a4e7-198560f7627a",
   "metadata": {},
   "outputs": [],
   "source": [
    "X=df.iloc[:,0:2]\n",
    "y=df.Y"
   ]
  },
  {
   "cell_type": "code",
   "execution_count": 16,
   "id": "8face46e-1f1f-4025-ab7d-083087410f3b",
   "metadata": {},
   "outputs": [
    {
     "data": {
      "text/html": [
       "<div>\n",
       "<style scoped>\n",
       "    .dataframe tbody tr th:only-of-type {\n",
       "        vertical-align: middle;\n",
       "    }\n",
       "\n",
       "    .dataframe tbody tr th {\n",
       "        vertical-align: top;\n",
       "    }\n",
       "\n",
       "    .dataframe thead th {\n",
       "        text-align: right;\n",
       "    }\n",
       "</style>\n",
       "<table border=\"1\" class=\"dataframe\">\n",
       "  <thead>\n",
       "    <tr style=\"text-align: right;\">\n",
       "      <th></th>\n",
       "      <th>X1</th>\n",
       "      <th>X2</th>\n",
       "    </tr>\n",
       "  </thead>\n",
       "  <tbody>\n",
       "    <tr>\n",
       "      <th>0</th>\n",
       "      <td>8.660254</td>\n",
       "      <td>-5.00000</td>\n",
       "    </tr>\n",
       "    <tr>\n",
       "      <th>1</th>\n",
       "      <td>8.717792</td>\n",
       "      <td>-4.89899</td>\n",
       "    </tr>\n",
       "    <tr>\n",
       "      <th>2</th>\n",
       "      <td>8.773790</td>\n",
       "      <td>-4.79798</td>\n",
       "    </tr>\n",
       "    <tr>\n",
       "      <th>3</th>\n",
       "      <td>8.828277</td>\n",
       "      <td>-4.69697</td>\n",
       "    </tr>\n",
       "    <tr>\n",
       "      <th>4</th>\n",
       "      <td>8.881281</td>\n",
       "      <td>-4.59596</td>\n",
       "    </tr>\n",
       "  </tbody>\n",
       "</table>\n",
       "</div>"
      ],
      "text/plain": [
       "         X1       X2\n",
       "0  8.660254 -5.00000\n",
       "1  8.717792 -4.89899\n",
       "2  8.773790 -4.79798\n",
       "3  8.828277 -4.69697\n",
       "4  8.881281 -4.59596"
      ]
     },
     "execution_count": 16,
     "metadata": {},
     "output_type": "execute_result"
    }
   ],
   "source": [
    "X.head()"
   ]
  },
  {
   "cell_type": "code",
   "execution_count": 17,
   "id": "6851c7cc-d25c-4a39-a930-de0a363178d1",
   "metadata": {},
   "outputs": [
    {
     "data": {
      "text/plain": [
       "0      0\n",
       "1      0\n",
       "2      0\n",
       "3      0\n",
       "4      0\n",
       "      ..\n",
       "195    1\n",
       "196    1\n",
       "197    1\n",
       "198    1\n",
       "199    1\n",
       "Name: Y, Length: 400, dtype: int64"
      ]
     },
     "execution_count": 17,
     "metadata": {},
     "output_type": "execute_result"
    }
   ],
   "source": [
    "y"
   ]
  },
  {
   "cell_type": "code",
   "execution_count": 18,
   "id": "3336a6f0-bb97-45a3-ad8a-f48e4c3cd38c",
   "metadata": {},
   "outputs": [],
   "source": [
    "from sklearn.model_selection import train_test_split\n",
    "X_train,X_test,y_train,y_test=train_test_split(X,y,test_size=0.25,random_state=0)"
   ]
  },
  {
   "cell_type": "code",
   "execution_count": 19,
   "id": "690fb4dd-050d-4ef5-b60d-661290c176a6",
   "metadata": {},
   "outputs": [
    {
     "data": {
      "text/plain": [
       "1.0"
      ]
     },
     "execution_count": 19,
     "metadata": {},
     "output_type": "execute_result"
    }
   ],
   "source": [
    "\n",
    "classifier = SVC(kernel=\"rbf\")\n",
    "classifier.fit(X_train, y_train)\n",
    "y_pred = classifier.predict(X_test)\n",
    "accuracy_score(y_test, y_pred)"
   ]
  },
  {
   "cell_type": "code",
   "execution_count": 20,
   "id": "80524203-4844-4169-bd50-8141e835d2e6",
   "metadata": {},
   "outputs": [
    {
     "data": {
      "text/plain": [
       "0.51"
      ]
     },
     "execution_count": 20,
     "metadata": {},
     "output_type": "execute_result"
    }
   ],
   "source": [
    "classifier = SVC(kernel=\"sigmoid\")\n",
    "classifier.fit(X_train, y_train)\n",
    "y_pred = classifier.predict(X_test)\n",
    "accuracy_score(y_test, y_pred)"
   ]
  },
  {
   "cell_type": "code",
   "execution_count": null,
   "id": "6bb400ec-2232-4598-b6c5-f5ca8f4dd68d",
   "metadata": {},
   "outputs": [],
   "source": []
  },
  {
   "cell_type": "code",
   "execution_count": null,
   "id": "94ad850c-81cf-47b9-b07d-944ded7cde1d",
   "metadata": {},
   "outputs": [],
   "source": []
  },
  {
   "cell_type": "code",
   "execution_count": null,
   "id": "9eb55323-5a98-416d-822c-d8a5c28d7193",
   "metadata": {},
   "outputs": [],
   "source": []
  },
  {
   "cell_type": "code",
   "execution_count": null,
   "id": "c55fae68-6e0f-48ba-8f25-46cc66bb9e52",
   "metadata": {},
   "outputs": [],
   "source": []
  },
  {
   "cell_type": "code",
   "execution_count": null,
   "id": "2d3ec541-4f99-4ccc-83d5-af77cafb3b6d",
   "metadata": {},
   "outputs": [],
   "source": []
  },
  {
   "cell_type": "code",
   "execution_count": null,
   "id": "f88d39f5-5ff1-479d-ad61-7517c12f82ed",
   "metadata": {},
   "outputs": [],
   "source": []
  },
  {
   "cell_type": "code",
   "execution_count": null,
   "id": "c835b95d-a8ef-44f1-bf0f-9a6259ac3e1b",
   "metadata": {},
   "outputs": [],
   "source": []
  },
  {
   "cell_type": "code",
   "execution_count": null,
   "id": "968ad009-d97a-4cf1-b747-d571e69d02ee",
   "metadata": {},
   "outputs": [],
   "source": []
  },
  {
   "cell_type": "code",
   "execution_count": null,
   "id": "23e83040-e65f-453c-9c2a-d8176e27bbed",
   "metadata": {},
   "outputs": [],
   "source": []
  },
  {
   "cell_type": "code",
   "execution_count": null,
   "id": "82657e61-c063-4436-b376-f5249bf55ce6",
   "metadata": {},
   "outputs": [],
   "source": []
  }
 ],
 "metadata": {
  "kernelspec": {
   "display_name": "Python 3 (ipykernel)",
   "language": "python",
   "name": "python3"
  },
  "language_info": {
   "codemirror_mode": {
    "name": "ipython",
    "version": 3
   },
   "file_extension": ".py",
   "mimetype": "text/x-python",
   "name": "python",
   "nbconvert_exporter": "python",
   "pygments_lexer": "ipython3",
   "version": "3.10.8"
  }
 },
 "nbformat": 4,
 "nbformat_minor": 5
}
