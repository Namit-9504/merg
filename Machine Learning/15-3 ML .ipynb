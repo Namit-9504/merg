{
 "cells": [
  {
   "cell_type": "markdown",
   "id": "c7872162-95ca-4ea0-80da-40ea0028c0c1",
   "metadata": {},
   "source": [
    "## For referencen See Data Science Folder"
   ]
  },
  {
   "cell_type": "markdown",
   "id": "4fe00893-d0c5-4ff9-8846-278533e729a1",
   "metadata": {
    "tags": []
   },
   "source": [
    "## AI vs ML vs DL vs DS"
   ]
  },
  {
   "cell_type": "code",
   "execution_count": 2,
   "id": "966d6864-f617-4771-bdc2-22328c22878b",
   "metadata": {},
   "outputs": [],
   "source": [
    "AI = 'Artificial Intellengence' # It Creates Smart Mechines like SElf driving Cars And robots"
   ]
  },
  {
   "cell_type": "code",
   "execution_count": 3,
   "id": "3f9356bf-ad8b-4d57-b077-887134dabf43",
   "metadata": {},
   "outputs": [],
   "source": [
    "ML = 'Mechine Learing' \n",
    "# It is a Subset of AI. It provides Stats tools To learn ,analyzie,Visulalize, and devlop predative Data\n",
    "# for example the suggestion we See in amazon and netfilx or any other website where we see recommentation"
   ]
  },
  {
   "cell_type": "code",
   "execution_count": 5,
   "id": "94e98160-6b60-41e9-9d04-7ea5943c0eb0",
   "metadata": {},
   "outputs": [],
   "source": [
    "DL = 'Deep Learning'\n",
    "# It is  a Subset of ML. It's Main Aim is to Create Mimic Human Brain.Mimic = as similar to , Duplicate\n",
    "# It creates Multilayer Nural Network for createing Mimic Human Brain\n",
    "# Beacuse of Deep Learing mechines can reconize the images or It can perform Opreations like Object Detection\n",
    "# It is Uses to make Chat botes eg.Chatgpt"
   ]
  },
  {
   "cell_type": "code",
   "execution_count": 7,
   "id": "50f3ae85-34aa-4ef2-b203-fc28846c782e",
   "metadata": {},
   "outputs": [],
   "source": [
    "DS = 'Data Science' \n",
    "# They develop an AI application\n",
    "# Data Sciencetist is a big term it deals with all AI and other things\n",
    "# It reqires Maths i.e linear algerbra and stats,calculas"
   ]
  },
  {
   "cell_type": "markdown",
   "id": "ce91345f-0249-4dd4-9f79-113175cf73e7",
   "metadata": {
    "tags": []
   },
   "source": [
    "## Supervised, Unsupervised Reinforcement Learning"
   ]
  },
  {
   "cell_type": "markdown",
   "id": "2489fdad-340c-4a5b-8839-ca294a16e14b",
   "metadata": {
    "tags": []
   },
   "source": [
    "### Supervised Learing"
   ]
  },
  {
   "cell_type": "markdown",
   "id": "a0b25434-5ac1-4284-8800-11e2fd606ba6",
   "metadata": {},
   "source": [
    "In supervised ML we trained the moudle to predict the output \n",
    "\n",
    "1. classification  and 2. Regression\n",
    "\n",
    "In Classification Our Output is fixed or we can say it is with in a Boundary for ex output is pass or fail\n",
    "in this case our output is depend on student behaviour \n",
    "in classficiation output is a Categorical Feature\n",
    "\n",
    "In Regression Our Output is continous. It is not decided it can be any thing for ex. output is price of room \n",
    "in this case our output is dependend of size of room or no of peoples in a room"
   ]
  },
  {
   "cell_type": "markdown",
   "id": "5951766c-35b8-4449-9122-550c5cf1e19e",
   "metadata": {
    "tags": []
   },
   "source": [
    "### Unsupervised Learing\n"
   ]
  },
  {
   "cell_type": "markdown",
   "id": "94288e90-bcc6-48e8-8fb4-4ca8c9497b91",
   "metadata": {},
   "source": [
    "In Unsupervised ML we doesnot have the output insted of that we are trying to create Culsters or we can say similar groups. \n",
    "\n",
    "The module of this type is takes a data and classifiy it into suitable cluster or group after that we can use the Supervised ML module on it "
   ]
  },
  {
   "cell_type": "markdown",
   "id": "12254dde-76b3-4c97-a54a-39d4282bf6aa",
   "metadata": {},
   "source": [
    "### Semisupervised Learing\n",
    "It is a combination of supervised and unsupervised ML\n"
   ]
  },
  {
   "cell_type": "markdown",
   "id": "6bafcbc4-7a1f-451e-8c32-48fa374f432c",
   "metadata": {},
   "source": [
    "### Reinforcement Learing"
   ]
  },
  {
   "cell_type": "markdown",
   "id": "35426af8-fdaa-4ed3-ad15-e9b9f2e4c456",
   "metadata": {},
   "source": [
    "## Train, Test Validation"
   ]
  },
  {
   "cell_type": "markdown",
   "id": "b494bfa7-7926-438f-bd44-d3489651bcac",
   "metadata": {},
   "source": [
    "To Solve the any ML or DL application You need a Data Set. Unless and Untill you can Solve it.\n",
    "\n",
    "DataSet is mainly devided into 3 types\n",
    "\n",
    "1. Training DataSet \n",
    "\n",
    "2. Vaildiation Data Set \n",
    "\n",
    "3. Test Data Set \n",
    "\n",
    "Our Module is never know about Test DataSet. Module is basically a algorithm of mathematical operations or we can say equtions\n",
    "\n",
    "1. Training DataSet\n",
    "\n",
    "Here we are trained a Data Set using Tarining Data Set\n",
    "\n",
    "2. Vaildation Data Set\n",
    "\n",
    "we perfrom Hyper pyramertic tunning on module it helps to increase accurancy of the module \n",
    "\n",
    "3. Test Data Set\n",
    "\n",
    "It test the Module Acccurancy. It gives us an idea about upcomming new data set that how it will accurate"
   ]
  },
  {
   "cell_type": "code",
   "execution_count": null,
   "id": "91de655f-5e5a-4980-a2dc-40df44a7019a",
   "metadata": {},
   "outputs": [],
   "source": []
  },
  {
   "cell_type": "code",
   "execution_count": null,
   "id": "ac6cfd60-f057-4ffc-aefa-6e6ec88111e0",
   "metadata": {},
   "outputs": [],
   "source": []
  },
  {
   "cell_type": "code",
   "execution_count": null,
   "id": "bcd87ed3-7226-4514-b4d9-bcf7862641b3",
   "metadata": {},
   "outputs": [],
   "source": []
  },
  {
   "cell_type": "code",
   "execution_count": null,
   "id": "506936b4-04f9-49c9-bdaf-abed6b3a516b",
   "metadata": {},
   "outputs": [],
   "source": []
  },
  {
   "cell_type": "code",
   "execution_count": null,
   "id": "27858947-789a-4d65-b80e-b289c1300921",
   "metadata": {},
   "outputs": [],
   "source": []
  },
  {
   "cell_type": "code",
   "execution_count": null,
   "id": "04c7bdef-2733-43f1-832e-940ef353263f",
   "metadata": {},
   "outputs": [],
   "source": []
  },
  {
   "cell_type": "code",
   "execution_count": null,
   "id": "eca43af3-563f-406b-aa9b-4a60c07e4698",
   "metadata": {},
   "outputs": [],
   "source": []
  },
  {
   "cell_type": "code",
   "execution_count": null,
   "id": "3fb27ad7-ddb5-4a01-94af-ec71606fb1f1",
   "metadata": {},
   "outputs": [],
   "source": []
  },
  {
   "cell_type": "code",
   "execution_count": null,
   "id": "63a2f863-f3fc-44c7-86ed-72c0b5aaccf5",
   "metadata": {},
   "outputs": [],
   "source": []
  },
  {
   "cell_type": "code",
   "execution_count": null,
   "id": "e28e791c-5f3c-441c-9cf4-6af7577d024d",
   "metadata": {},
   "outputs": [],
   "source": []
  },
  {
   "cell_type": "code",
   "execution_count": null,
   "id": "82b119f6-f575-4918-986c-130e70f12ae7",
   "metadata": {},
   "outputs": [],
   "source": []
  },
  {
   "cell_type": "code",
   "execution_count": null,
   "id": "60d97011-434f-42fe-9db5-1e1d278b3569",
   "metadata": {},
   "outputs": [],
   "source": []
  },
  {
   "cell_type": "code",
   "execution_count": null,
   "id": "a4ed033d-fd00-43ac-8fe2-51064abf5367",
   "metadata": {},
   "outputs": [],
   "source": []
  },
  {
   "cell_type": "code",
   "execution_count": null,
   "id": "93e42090-d5ba-4002-932a-4af5248db464",
   "metadata": {},
   "outputs": [],
   "source": []
  },
  {
   "cell_type": "code",
   "execution_count": null,
   "id": "5c5d7056-2605-46f0-814c-35d387a082f6",
   "metadata": {},
   "outputs": [],
   "source": []
  },
  {
   "cell_type": "code",
   "execution_count": null,
   "id": "71f51e3f-8a8e-4950-b7a2-2f44592d5dc2",
   "metadata": {},
   "outputs": [],
   "source": []
  },
  {
   "cell_type": "code",
   "execution_count": null,
   "id": "c6a238dc-61b8-45b9-bfe3-f29273c63490",
   "metadata": {},
   "outputs": [],
   "source": []
  },
  {
   "cell_type": "code",
   "execution_count": null,
   "id": "54c80b38-4526-4fc0-b839-2925d85db051",
   "metadata": {},
   "outputs": [],
   "source": []
  },
  {
   "cell_type": "code",
   "execution_count": null,
   "id": "d69223b0-0e34-42b8-87fa-be162d6789b4",
   "metadata": {},
   "outputs": [],
   "source": []
  },
  {
   "cell_type": "code",
   "execution_count": null,
   "id": "266e330d-6252-45cf-9c3a-2e4829eeb241",
   "metadata": {},
   "outputs": [],
   "source": []
  },
  {
   "cell_type": "code",
   "execution_count": null,
   "id": "e0c4e8dd-16f3-4d08-9ed6-96fb599539b4",
   "metadata": {},
   "outputs": [],
   "source": []
  },
  {
   "cell_type": "code",
   "execution_count": null,
   "id": "befb4745-be78-4304-8351-c10edb35fc06",
   "metadata": {},
   "outputs": [],
   "source": []
  },
  {
   "cell_type": "code",
   "execution_count": null,
   "id": "463d12df-6295-49cc-b4ae-2f4b44313505",
   "metadata": {},
   "outputs": [],
   "source": []
  },
  {
   "cell_type": "code",
   "execution_count": null,
   "id": "23d469af-9287-44ed-b925-778e70332f7c",
   "metadata": {},
   "outputs": [],
   "source": []
  },
  {
   "cell_type": "code",
   "execution_count": null,
   "id": "e4ac7449-09bb-4501-9a68-3940b6050df4",
   "metadata": {},
   "outputs": [],
   "source": []
  },
  {
   "cell_type": "code",
   "execution_count": null,
   "id": "3ae4c09a-1489-4984-99b8-a331888d7da6",
   "metadata": {},
   "outputs": [],
   "source": []
  },
  {
   "cell_type": "code",
   "execution_count": null,
   "id": "d0962f71-ea0c-47b5-9c79-ef4f20540e0f",
   "metadata": {},
   "outputs": [],
   "source": []
  },
  {
   "cell_type": "code",
   "execution_count": null,
   "id": "387e6c16-8510-4d15-8d4e-ef7db0c93b65",
   "metadata": {},
   "outputs": [],
   "source": []
  },
  {
   "cell_type": "code",
   "execution_count": null,
   "id": "9aba6133-34ea-4072-aa89-5501b698517c",
   "metadata": {},
   "outputs": [],
   "source": []
  },
  {
   "cell_type": "code",
   "execution_count": null,
   "id": "ce3bba14-8254-4d5b-8530-aa0b985fbb49",
   "metadata": {},
   "outputs": [],
   "source": []
  },
  {
   "cell_type": "code",
   "execution_count": null,
   "id": "b1e912ec-7620-455e-8ede-80237c81636c",
   "metadata": {},
   "outputs": [],
   "source": []
  },
  {
   "cell_type": "code",
   "execution_count": null,
   "id": "151eef08-85ad-4385-af1a-3eaef60e1f18",
   "metadata": {},
   "outputs": [],
   "source": []
  },
  {
   "cell_type": "code",
   "execution_count": null,
   "id": "85fbe0ea-5ad0-40ce-bc1d-27dcb013a963",
   "metadata": {},
   "outputs": [],
   "source": []
  },
  {
   "cell_type": "code",
   "execution_count": null,
   "id": "8d6b712a-6967-43fb-8697-8eafdeb9e679",
   "metadata": {},
   "outputs": [],
   "source": []
  },
  {
   "cell_type": "code",
   "execution_count": null,
   "id": "b2484788-ce42-4480-a362-3b2584673f84",
   "metadata": {},
   "outputs": [],
   "source": []
  },
  {
   "cell_type": "code",
   "execution_count": null,
   "id": "b2e33bff-89f2-42ee-845f-55e005af39ac",
   "metadata": {},
   "outputs": [],
   "source": []
  },
  {
   "cell_type": "code",
   "execution_count": null,
   "id": "84f21358-a283-4e5a-9b40-7eba71315b10",
   "metadata": {},
   "outputs": [],
   "source": []
  },
  {
   "cell_type": "code",
   "execution_count": null,
   "id": "041f8176-8507-485b-92b9-d4bcd88abf2d",
   "metadata": {},
   "outputs": [],
   "source": []
  },
  {
   "cell_type": "code",
   "execution_count": null,
   "id": "5bfb78c7-0c05-4d6a-ae56-2d2f708fe275",
   "metadata": {},
   "outputs": [],
   "source": []
  },
  {
   "cell_type": "code",
   "execution_count": null,
   "id": "5d0c1242-ba6e-42ac-b975-e8c9fa541427",
   "metadata": {},
   "outputs": [],
   "source": []
  }
 ],
 "metadata": {
  "kernelspec": {
   "display_name": "Python 3 (ipykernel)",
   "language": "python",
   "name": "python3"
  },
  "language_info": {
   "codemirror_mode": {
    "name": "ipython",
    "version": 3
   },
   "file_extension": ".py",
   "mimetype": "text/x-python",
   "name": "python",
   "nbconvert_exporter": "python",
   "pygments_lexer": "ipython3",
   "version": "3.10.8"
  }
 },
 "nbformat": 4,
 "nbformat_minor": 5
}
