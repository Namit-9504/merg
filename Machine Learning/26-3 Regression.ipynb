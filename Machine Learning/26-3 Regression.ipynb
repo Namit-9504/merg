{
 "cells": [
  {
   "cell_type": "markdown",
   "id": "ff96c5c3-6bba-404f-b823-0b8733e988a4",
   "metadata": {
    "tags": []
   },
   "source": [
    "## Simple Linear Regression"
   ]
  },
  {
   "cell_type": "markdown",
   "id": "6a1a663b-bbc6-4d40-9bb7-216259893f4f",
   "metadata": {},
   "source": [
    "See note book od data science 26-3"
   ]
  },
  {
   "cell_type": "markdown",
   "id": "1a0fa0f7-66b6-4b8b-8164-13efc5bc2eeb",
   "metadata": {},
   "source": [
    "## Multiple Linear Regression"
   ]
  },
  {
   "cell_type": "markdown",
   "id": "662867a3-7fc0-4cac-8192-7e0e9747bfdc",
   "metadata": {},
   "source": [
    "## Polynomial Regression"
   ]
  },
  {
   "cell_type": "code",
   "execution_count": null,
   "id": "0e7ddd18-e603-4b5d-8888-9a58f38269fb",
   "metadata": {},
   "outputs": [],
   "source": []
  }
 ],
 "metadata": {
  "kernelspec": {
   "display_name": "Python 3 (ipykernel)",
   "language": "python",
   "name": "python3"
  },
  "language_info": {
   "codemirror_mode": {
    "name": "ipython",
    "version": 3
   },
   "file_extension": ".py",
   "mimetype": "text/x-python",
   "name": "python",
   "nbconvert_exporter": "python",
   "pygments_lexer": "ipython3",
   "version": "3.10.8"
  }
 },
 "nbformat": 4,
 "nbformat_minor": 5
}
