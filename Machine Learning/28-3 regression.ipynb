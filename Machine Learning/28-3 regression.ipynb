{
 "cells": [
  {
   "cell_type": "markdown",
   "id": "1db7d960-da5e-42ca-a792-fd302436a920",
   "metadata": {},
   "source": [
    "## Ridge Regression\n",
    "\n",
    "- It is also known as L2 regression\n",
    "- It is used to reduce over fitting"
   ]
  },
  {
   "cell_type": "markdown",
   "id": "1ae4087d-7b1b-4d03-ae28-acaa24eb2e11",
   "metadata": {},
   "source": [
    "see note book"
   ]
  },
  {
   "cell_type": "code",
   "execution_count": null,
   "id": "485e4cba-9932-4492-8984-e8495188e5e9",
   "metadata": {},
   "outputs": [],
   "source": []
  }
 ],
 "metadata": {
  "kernelspec": {
   "display_name": "Python 3 (ipykernel)",
   "language": "python",
   "name": "python3"
  },
  "language_info": {
   "codemirror_mode": {
    "name": "ipython",
    "version": 3
   },
   "file_extension": ".py",
   "mimetype": "text/x-python",
   "name": "python",
   "nbconvert_exporter": "python",
   "pygments_lexer": "ipython3",
   "version": "3.10.8"
  }
 },
 "nbformat": 4,
 "nbformat_minor": 5
}
