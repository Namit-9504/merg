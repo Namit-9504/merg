{
 "cells": [
  {
   "cell_type": "code",
   "execution_count": null,
   "id": "06b430fd-f00f-4eaf-87da-d4d53a135787",
   "metadata": {},
   "outputs": [],
   "source": [
    "# Download YOLOv7 repository and install requirements\n",
    "!git clone https://github.com/WongKinYiu/yolov7\n",
    "%cd yolov7\n",
    "!pip install -r requirements.txt"
   ]
  },
  {
   "cell_type": "code",
   "execution_count": null,
   "id": "24422c43-8783-41b1-b43f-23d2e0315035",
   "metadata": {},
   "outputs": [],
   "source": [
    "!pip install roboflow\n",
    "\n",
    "from roboflow import Roboflow\n",
    "rf = Roboflow(api_key=\"gZYU7us4LR1CDd9BN9p9\")\n",
    "project = rf.workspace(\"aujan\").project(\"beverage-pred-2.0\")\n",
    "dataset = project.version(1).download(\"yolov7\")\n"
   ]
  },
  {
   "cell_type": "code",
   "execution_count": null,
   "id": "513e792e-7fe9-44b2-9ffd-1ee69f32d109",
   "metadata": {},
   "outputs": [],
   "source": [
    "import torch\n",
    "torch.cuda.is_available()"
   ]
  },
  {
   "cell_type": "code",
   "execution_count": null,
   "id": "a65f10cd-65f6-4a2f-8181-2715fdc2e781",
   "metadata": {},
   "outputs": [],
   "source": [
    "# download COCO starting checkpoint\n",
    "%cd /content/yolov7\n",
    "!wget https://github.com/WongKinYiu/yolov7/releases/download/v0.1/yolov7_training.pt"
   ]
  },
  {
   "cell_type": "code",
   "execution_count": null,
   "id": "7aa95e27-0fb7-4bf5-b6d3-186a43cd27fa",
   "metadata": {},
   "outputs": [],
   "source": [
    "# run this cell to begin training\n",
    "%cd /content/yolov7\n",
    "!python train.py --batch 16 --epochs 5 --data Beverage-Pred-2.0-1/data.yaml --weights 'yolov7_training.pt' --device 0\n"
   ]
  },
  {
   "cell_type": "code",
   "execution_count": null,
   "id": "eed4596b-7e13-4f55-a4cd-eac48c6c4c56",
   "metadata": {},
   "outputs": [],
   "source": [
    "# Run evaluation\n",
    "!python detect.py --weights runs/train/exp/weights/best.pt --conf 0.05 --source Beverage-Pred-2.0-1/test/images\n"
   ]
  },
  {
   "cell_type": "code",
   "execution_count": null,
   "id": "7904d790-6c9b-4dca-82aa-d70d83099dc3",
   "metadata": {},
   "outputs": [],
   "source": []
  },
  {
   "cell_type": "code",
   "execution_count": null,
   "id": "2cccbb54-578e-4710-8fa6-23f1a17274bd",
   "metadata": {},
   "outputs": [],
   "source": []
  },
  {
   "cell_type": "code",
   "execution_count": null,
   "id": "9a78979e-4506-4160-9dd1-8ee482b62447",
   "metadata": {},
   "outputs": [],
   "source": []
  },
  {
   "cell_type": "code",
   "execution_count": null,
   "id": "bdce4491-36fe-4b92-91d1-1f67c0c52acf",
   "metadata": {},
   "outputs": [],
   "source": []
  },
  {
   "cell_type": "code",
   "execution_count": null,
   "id": "2bf6c4a8-5c0d-43ad-8129-dbcdcb4da13a",
   "metadata": {},
   "outputs": [],
   "source": []
  },
  {
   "cell_type": "code",
   "execution_count": null,
   "id": "c0e5c10c-a447-4590-808c-e0314cd00edb",
   "metadata": {},
   "outputs": [],
   "source": []
  },
  {
   "cell_type": "code",
   "execution_count": null,
   "id": "b7ad014d-7ffa-4bda-8589-8309f998c32c",
   "metadata": {},
   "outputs": [],
   "source": []
  },
  {
   "cell_type": "code",
   "execution_count": null,
   "id": "494cfa89-b5f3-4ce0-b262-b1f1372c7dc4",
   "metadata": {},
   "outputs": [],
   "source": []
  },
  {
   "cell_type": "code",
   "execution_count": null,
   "id": "df1cb7aa-248b-4893-a4a9-b54b39ed39a0",
   "metadata": {},
   "outputs": [],
   "source": []
  },
  {
   "cell_type": "code",
   "execution_count": null,
   "id": "1cc1265d-8c57-42a1-91b0-feff3316c201",
   "metadata": {},
   "outputs": [],
   "source": []
  },
  {
   "cell_type": "code",
   "execution_count": null,
   "id": "b1869f11-6620-4e16-a37a-ad1866bbf4da",
   "metadata": {},
   "outputs": [],
   "source": []
  },
  {
   "cell_type": "code",
   "execution_count": null,
   "id": "6b2c89da-b62f-4d76-8452-4b1494bebec8",
   "metadata": {},
   "outputs": [],
   "source": []
  },
  {
   "cell_type": "code",
   "execution_count": null,
   "id": "0d5d7c3d-691b-4d54-979e-4d47c0695117",
   "metadata": {},
   "outputs": [],
   "source": []
  },
  {
   "cell_type": "code",
   "execution_count": null,
   "id": "722fd165-afad-4e00-b182-1a69d010ad7f",
   "metadata": {},
   "outputs": [],
   "source": []
  }
 ],
 "metadata": {
  "kernelspec": {
   "display_name": "Python 3 (ipykernel)",
   "language": "python",
   "name": "python3"
  },
  "language_info": {
   "codemirror_mode": {
    "name": "ipython",
    "version": 3
   },
   "file_extension": ".py",
   "mimetype": "text/x-python",
   "name": "python",
   "nbconvert_exporter": "python",
   "pygments_lexer": "ipython3",
   "version": "3.10.8"
  }
 },
 "nbformat": 4,
 "nbformat_minor": 5
}
