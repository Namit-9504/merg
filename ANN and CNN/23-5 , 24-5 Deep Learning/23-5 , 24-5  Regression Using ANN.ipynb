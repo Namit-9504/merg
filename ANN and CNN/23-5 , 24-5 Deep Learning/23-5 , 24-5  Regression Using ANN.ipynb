{
 "cells": [
  {
   "cell_type": "markdown",
   "id": "7e3c005a-e641-40a9-934b-fd32e973de6b",
   "metadata": {},
   "source": [
    "# Open In Google Collab"
   ]
  },
  {
   "cell_type": "markdown",
   "id": "5d7f1822-431a-468d-b805-bb29a4435ac3",
   "metadata": {
    "jp-MarkdownHeadingCollapsed": true,
    "tags": []
   },
   "source": [
    "## Regression Using ANN"
   ]
  },
  {
   "cell_type": "code",
   "execution_count": 2,
   "id": "bcb5e7a2-9e2f-478e-bc2a-f6ab3b815155",
   "metadata": {},
   "outputs": [],
   "source": [
    "import pandas as pd\n",
    "import numpy as np\n",
    "import matplotlib.pyplot as plt\n",
    "from sklearn.datasets import fetch_california_housing\n",
    "from sklearn.model_selection import train_test_split\n",
    "import tensorflow as tf\n",
    "from sklearn.preprocessing import StandardScaler"
   ]
  },
  {
   "cell_type": "code",
   "execution_count": 3,
   "id": "74bfe25b-fe53-4c62-92a5-143441b517e6",
   "metadata": {},
   "outputs": [],
   "source": [
    "housing=fetch_california_housing()"
   ]
  },
  {
   "cell_type": "code",
   "execution_count": 4,
   "id": "bb7382d2-25d7-4384-945f-a13ea138d704",
   "metadata": {},
   "outputs": [
    {
     "data": {
      "text/plain": [
       "{'data': array([[   8.3252    ,   41.        ,    6.98412698, ...,    2.55555556,\n",
       "           37.88      , -122.23      ],\n",
       "        [   8.3014    ,   21.        ,    6.23813708, ...,    2.10984183,\n",
       "           37.86      , -122.22      ],\n",
       "        [   7.2574    ,   52.        ,    8.28813559, ...,    2.80225989,\n",
       "           37.85      , -122.24      ],\n",
       "        ...,\n",
       "        [   1.7       ,   17.        ,    5.20554273, ...,    2.3256351 ,\n",
       "           39.43      , -121.22      ],\n",
       "        [   1.8672    ,   18.        ,    5.32951289, ...,    2.12320917,\n",
       "           39.43      , -121.32      ],\n",
       "        [   2.3886    ,   16.        ,    5.25471698, ...,    2.61698113,\n",
       "           39.37      , -121.24      ]]),\n",
       " 'target': array([4.526, 3.585, 3.521, ..., 0.923, 0.847, 0.894]),\n",
       " 'frame': None,\n",
       " 'target_names': ['MedHouseVal'],\n",
       " 'feature_names': ['MedInc',\n",
       "  'HouseAge',\n",
       "  'AveRooms',\n",
       "  'AveBedrms',\n",
       "  'Population',\n",
       "  'AveOccup',\n",
       "  'Latitude',\n",
       "  'Longitude'],\n",
       " 'DESCR': '.. _california_housing_dataset:\\n\\nCalifornia Housing dataset\\n--------------------------\\n\\n**Data Set Characteristics:**\\n\\n    :Number of Instances: 20640\\n\\n    :Number of Attributes: 8 numeric, predictive attributes and the target\\n\\n    :Attribute Information:\\n        - MedInc        median income in block group\\n        - HouseAge      median house age in block group\\n        - AveRooms      average number of rooms per household\\n        - AveBedrms     average number of bedrooms per household\\n        - Population    block group population\\n        - AveOccup      average number of household members\\n        - Latitude      block group latitude\\n        - Longitude     block group longitude\\n\\n    :Missing Attribute Values: None\\n\\nThis dataset was obtained from the StatLib repository.\\nhttps://www.dcc.fc.up.pt/~ltorgo/Regression/cal_housing.html\\n\\nThe target variable is the median house value for California districts,\\nexpressed in hundreds of thousands of dollars ($100,000).\\n\\nThis dataset was derived from the 1990 U.S. census, using one row per census\\nblock group. A block group is the smallest geographical unit for which the U.S.\\nCensus Bureau publishes sample data (a block group typically has a population\\nof 600 to 3,000 people).\\n\\nAn household is a group of people residing within a home. Since the average\\nnumber of rooms and bedrooms in this dataset are provided per household, these\\ncolumns may take surpinsingly large values for block groups with few households\\nand many empty houses, such as vacation resorts.\\n\\nIt can be downloaded/loaded using the\\n:func:`sklearn.datasets.fetch_california_housing` function.\\n\\n.. topic:: References\\n\\n    - Pace, R. Kelley and Ronald Barry, Sparse Spatial Autoregressions,\\n      Statistics and Probability Letters, 33 (1997) 291-297\\n'}"
      ]
     },
     "execution_count": 4,
     "metadata": {},
     "output_type": "execute_result"
    }
   ],
   "source": [
    "housing"
   ]
  },
  {
   "cell_type": "code",
   "execution_count": 5,
   "id": "d3561b1c-d1b4-4636-943f-e7263b070179",
   "metadata": {},
   "outputs": [
    {
     "data": {
      "text/plain": [
       "dict_keys(['data', 'target', 'frame', 'target_names', 'feature_names', 'DESCR'])"
      ]
     },
     "execution_count": 5,
     "metadata": {},
     "output_type": "execute_result"
    }
   ],
   "source": [
    "housing.keys()"
   ]
  },
  {
   "cell_type": "code",
   "execution_count": 6,
   "id": "5408848f-8d83-4b3f-b80f-05fcb63629d8",
   "metadata": {},
   "outputs": [],
   "source": [
    "X=pd.DataFrame(data=housing.data,columns=housing.feature_names)"
   ]
  },
  {
   "cell_type": "code",
   "execution_count": 7,
   "id": "c4e330f6-b632-4141-a180-00f42a46437b",
   "metadata": {},
   "outputs": [
    {
     "data": {
      "text/html": [
       "<div>\n",
       "<style scoped>\n",
       "    .dataframe tbody tr th:only-of-type {\n",
       "        vertical-align: middle;\n",
       "    }\n",
       "\n",
       "    .dataframe tbody tr th {\n",
       "        vertical-align: top;\n",
       "    }\n",
       "\n",
       "    .dataframe thead th {\n",
       "        text-align: right;\n",
       "    }\n",
       "</style>\n",
       "<table border=\"1\" class=\"dataframe\">\n",
       "  <thead>\n",
       "    <tr style=\"text-align: right;\">\n",
       "      <th></th>\n",
       "      <th>MedInc</th>\n",
       "      <th>HouseAge</th>\n",
       "      <th>AveRooms</th>\n",
       "      <th>AveBedrms</th>\n",
       "      <th>Population</th>\n",
       "      <th>AveOccup</th>\n",
       "      <th>Latitude</th>\n",
       "      <th>Longitude</th>\n",
       "    </tr>\n",
       "  </thead>\n",
       "  <tbody>\n",
       "    <tr>\n",
       "      <th>0</th>\n",
       "      <td>8.3252</td>\n",
       "      <td>41.0</td>\n",
       "      <td>6.984127</td>\n",
       "      <td>1.023810</td>\n",
       "      <td>322.0</td>\n",
       "      <td>2.555556</td>\n",
       "      <td>37.88</td>\n",
       "      <td>-122.23</td>\n",
       "    </tr>\n",
       "    <tr>\n",
       "      <th>1</th>\n",
       "      <td>8.3014</td>\n",
       "      <td>21.0</td>\n",
       "      <td>6.238137</td>\n",
       "      <td>0.971880</td>\n",
       "      <td>2401.0</td>\n",
       "      <td>2.109842</td>\n",
       "      <td>37.86</td>\n",
       "      <td>-122.22</td>\n",
       "    </tr>\n",
       "    <tr>\n",
       "      <th>2</th>\n",
       "      <td>7.2574</td>\n",
       "      <td>52.0</td>\n",
       "      <td>8.288136</td>\n",
       "      <td>1.073446</td>\n",
       "      <td>496.0</td>\n",
       "      <td>2.802260</td>\n",
       "      <td>37.85</td>\n",
       "      <td>-122.24</td>\n",
       "    </tr>\n",
       "    <tr>\n",
       "      <th>3</th>\n",
       "      <td>5.6431</td>\n",
       "      <td>52.0</td>\n",
       "      <td>5.817352</td>\n",
       "      <td>1.073059</td>\n",
       "      <td>558.0</td>\n",
       "      <td>2.547945</td>\n",
       "      <td>37.85</td>\n",
       "      <td>-122.25</td>\n",
       "    </tr>\n",
       "    <tr>\n",
       "      <th>4</th>\n",
       "      <td>3.8462</td>\n",
       "      <td>52.0</td>\n",
       "      <td>6.281853</td>\n",
       "      <td>1.081081</td>\n",
       "      <td>565.0</td>\n",
       "      <td>2.181467</td>\n",
       "      <td>37.85</td>\n",
       "      <td>-122.25</td>\n",
       "    </tr>\n",
       "  </tbody>\n",
       "</table>\n",
       "</div>"
      ],
      "text/plain": [
       "   MedInc  HouseAge  AveRooms  AveBedrms  Population  AveOccup  Latitude  \\\n",
       "0  8.3252      41.0  6.984127   1.023810       322.0  2.555556     37.88   \n",
       "1  8.3014      21.0  6.238137   0.971880      2401.0  2.109842     37.86   \n",
       "2  7.2574      52.0  8.288136   1.073446       496.0  2.802260     37.85   \n",
       "3  5.6431      52.0  5.817352   1.073059       558.0  2.547945     37.85   \n",
       "4  3.8462      52.0  6.281853   1.081081       565.0  2.181467     37.85   \n",
       "\n",
       "   Longitude  \n",
       "0    -122.23  \n",
       "1    -122.22  \n",
       "2    -122.24  \n",
       "3    -122.25  \n",
       "4    -122.25  "
      ]
     },
     "execution_count": 7,
     "metadata": {},
     "output_type": "execute_result"
    }
   ],
   "source": [
    "X.head()"
   ]
  },
  {
   "cell_type": "code",
   "execution_count": 8,
   "id": "fc6a6f94-9ef6-42ff-a507-baca3217588e",
   "metadata": {},
   "outputs": [
    {
     "data": {
      "text/html": [
       "<div>\n",
       "<style scoped>\n",
       "    .dataframe tbody tr th:only-of-type {\n",
       "        vertical-align: middle;\n",
       "    }\n",
       "\n",
       "    .dataframe tbody tr th {\n",
       "        vertical-align: top;\n",
       "    }\n",
       "\n",
       "    .dataframe thead th {\n",
       "        text-align: right;\n",
       "    }\n",
       "</style>\n",
       "<table border=\"1\" class=\"dataframe\">\n",
       "  <thead>\n",
       "    <tr style=\"text-align: right;\">\n",
       "      <th></th>\n",
       "      <th>target</th>\n",
       "    </tr>\n",
       "  </thead>\n",
       "  <tbody>\n",
       "    <tr>\n",
       "      <th>0</th>\n",
       "      <td>4.526</td>\n",
       "    </tr>\n",
       "    <tr>\n",
       "      <th>1</th>\n",
       "      <td>3.585</td>\n",
       "    </tr>\n",
       "    <tr>\n",
       "      <th>2</th>\n",
       "      <td>3.521</td>\n",
       "    </tr>\n",
       "    <tr>\n",
       "      <th>3</th>\n",
       "      <td>3.413</td>\n",
       "    </tr>\n",
       "    <tr>\n",
       "      <th>4</th>\n",
       "      <td>3.422</td>\n",
       "    </tr>\n",
       "  </tbody>\n",
       "</table>\n",
       "</div>"
      ],
      "text/plain": [
       "   target\n",
       "0   4.526\n",
       "1   3.585\n",
       "2   3.521\n",
       "3   3.413\n",
       "4   3.422"
      ]
     },
     "execution_count": 8,
     "metadata": {},
     "output_type": "execute_result"
    }
   ],
   "source": [
    "y=pd.DataFrame(data=housing.target,columns=[\"target\"])\n",
    "y.head()"
   ]
  },
  {
   "cell_type": "code",
   "execution_count": 9,
   "id": "8f33ac3a-045b-4429-a982-469e09e854a1",
   "metadata": {},
   "outputs": [
    {
     "data": {
      "text/plain": [
       "(20640, 8)"
      ]
     },
     "execution_count": 9,
     "metadata": {},
     "output_type": "execute_result"
    }
   ],
   "source": [
    "X.shape"
   ]
  },
  {
   "cell_type": "code",
   "execution_count": 10,
   "id": "81277d18-3b7f-45a2-a3c8-3522dfe34179",
   "metadata": {},
   "outputs": [
    {
     "data": {
      "text/plain": [
       "(20640, 1)"
      ]
     },
     "execution_count": 10,
     "metadata": {},
     "output_type": "execute_result"
    }
   ],
   "source": [
    "y.shape"
   ]
  },
  {
   "cell_type": "code",
   "execution_count": 11,
   "id": "f351b3b2-bcc0-46de-8415-35ed512c412e",
   "metadata": {},
   "outputs": [],
   "source": [
    "X.drop([\"Latitude\",\"Longitude\"],axis=1,inplace=True)"
   ]
  },
  {
   "cell_type": "code",
   "execution_count": 12,
   "id": "64593dde-b5cb-441e-897a-47acf0e796e5",
   "metadata": {},
   "outputs": [],
   "source": [
    "X_train_full,X_test,y_train_full,y_test=train_test_split(X,y,random_state=42)\n",
    "X_valid,X_train,y_valid,y_train=train_test_split(X_train_full,y_train_full,random_state=42)"
   ]
  },
  {
   "cell_type": "code",
   "execution_count": 13,
   "id": "c079448d-04ec-4463-bfa5-3d372362b94f",
   "metadata": {},
   "outputs": [
    {
     "name": "stdout",
     "output_type": "stream",
     "text": [
      "(15480, 6)\n",
      "(5160, 6)\n",
      "(3870, 6)\n",
      "(11610, 6)\n"
     ]
    }
   ],
   "source": [
    "print(X_train_full.shape)\n",
    "print(X_test.shape)\n",
    "print(X_train.shape)\n",
    "print(X_valid.shape)"
   ]
  },
  {
   "cell_type": "code",
   "execution_count": 14,
   "id": "a1ad430e-f2df-4e8b-a00d-d9dc4b476a6d",
   "metadata": {},
   "outputs": [],
   "source": [
    "LAYERS=[\n",
    "    tf.keras.layers.Dense(30,activation=\"relu\",input_shape=X_train.shape[1:]),\n",
    "    tf.keras.layers.Dense(10,activation=\"relu\"),\n",
    "    tf.keras.layers.Dense(5,activation=\"relu\"),\n",
    "    tf.keras.layers.Dense(1)\n",
    "]"
   ]
  },
  {
   "cell_type": "code",
   "execution_count": 15,
   "id": "0c7c8ded-851e-434c-b1f7-ce5954ea5dee",
   "metadata": {},
   "outputs": [],
   "source": [
    "model=tf.keras.models.Sequential(LAYERS)"
   ]
  },
  {
   "cell_type": "code",
   "execution_count": 16,
   "id": "403caa14-1031-486a-93f4-eb7c4165b42c",
   "metadata": {},
   "outputs": [],
   "source": [
    "LOSS = \"mse\"\n",
    "OPTIMIZER=\"sgd\"\n",
    "model.compile(optimizer=OPTIMIZER,loss=LOSS)"
   ]
  },
  {
   "cell_type": "code",
   "execution_count": 17,
   "id": "6dbe4afd-3106-4242-a053-9f4045373984",
   "metadata": {},
   "outputs": [
    {
     "name": "stdout",
     "output_type": "stream",
     "text": [
      "Model: \"sequential\"\n",
      "_________________________________________________________________\n",
      " Layer (type)                Output Shape              Param #   \n",
      "=================================================================\n",
      " dense (Dense)               (None, 30)                210       \n",
      "                                                                 \n",
      " dense_1 (Dense)             (None, 10)                310       \n",
      "                                                                 \n",
      " dense_2 (Dense)             (None, 5)                 55        \n",
      "                                                                 \n",
      " dense_3 (Dense)             (None, 1)                 6         \n",
      "                                                                 \n",
      "=================================================================\n",
      "Total params: 581 (2.27 KB)\n",
      "Trainable params: 581 (2.27 KB)\n",
      "Non-trainable params: 0 (0.00 Byte)\n",
      "_________________________________________________________________\n"
     ]
    }
   ],
   "source": [
    "model.summary()"
   ]
  },
  {
   "cell_type": "code",
   "execution_count": 18,
   "id": "5b4049c4-2c41-421d-9912-7f1404f39485",
   "metadata": {},
   "outputs": [],
   "source": [
    "scaler=StandardScaler()\n",
    "\n",
    "X_train =scaler.fit_transform(X_train)\n",
    "X_test=scaler.transform(X_test)\n",
    "X_valid=scaler.transform(X_valid)"
   ]
  },
  {
   "cell_type": "code",
   "execution_count": 19,
   "id": "dd73dff6-fe16-46e5-b483-11d9997b6aa0",
   "metadata": {},
   "outputs": [
    {
     "name": "stdout",
     "output_type": "stream",
     "text": [
      "Epoch 1/20\n",
      "121/121 [==============================] - 1s 6ms/step - loss: 1.3108 - val_loss: 0.7141\n",
      "Epoch 2/20\n",
      "121/121 [==============================] - 1s 4ms/step - loss: 0.6585 - val_loss: 0.6755\n",
      "Epoch 3/20\n",
      "121/121 [==============================] - 1s 4ms/step - loss: 0.6092 - val_loss: 0.6294\n",
      "Epoch 4/20\n",
      "121/121 [==============================] - 1s 4ms/step - loss: 0.5776 - val_loss: 0.5995\n",
      "Epoch 5/20\n",
      "121/121 [==============================] - 1s 4ms/step - loss: 0.5582 - val_loss: 0.5865\n",
      "Epoch 6/20\n",
      "121/121 [==============================] - 1s 4ms/step - loss: 0.5459 - val_loss: 0.5729\n",
      "Epoch 7/20\n",
      "121/121 [==============================] - 1s 4ms/step - loss: 0.5418 - val_loss: 0.5655\n",
      "Epoch 8/20\n",
      "121/121 [==============================] - 1s 4ms/step - loss: 0.5380 - val_loss: 0.5808\n",
      "Epoch 9/20\n",
      "121/121 [==============================] - 1s 4ms/step - loss: 0.5258 - val_loss: 0.5559\n",
      "Epoch 10/20\n",
      "121/121 [==============================] - 1s 4ms/step - loss: 0.5193 - val_loss: 0.5569\n",
      "Epoch 11/20\n",
      "121/121 [==============================] - 1s 4ms/step - loss: 0.5150 - val_loss: 0.5517\n",
      "Epoch 12/20\n",
      "121/121 [==============================] - 1s 4ms/step - loss: 0.5112 - val_loss: 0.5462\n",
      "Epoch 13/20\n",
      "121/121 [==============================] - 1s 4ms/step - loss: 0.5077 - val_loss: 0.5388\n",
      "Epoch 14/20\n",
      "121/121 [==============================] - 1s 4ms/step - loss: 0.5047 - val_loss: 0.5358\n",
      "Epoch 15/20\n",
      "121/121 [==============================] - 1s 4ms/step - loss: 0.5009 - val_loss: 0.5345\n",
      "Epoch 16/20\n",
      "121/121 [==============================] - 1s 4ms/step - loss: 0.4964 - val_loss: 0.5307\n",
      "Epoch 17/20\n",
      "121/121 [==============================] - 1s 4ms/step - loss: 0.4948 - val_loss: 0.5279\n",
      "Epoch 18/20\n",
      "121/121 [==============================] - 1s 4ms/step - loss: 0.4917 - val_loss: 0.5261\n",
      "Epoch 19/20\n",
      "121/121 [==============================] - 1s 4ms/step - loss: 0.4917 - val_loss: 0.5283\n",
      "Epoch 20/20\n",
      "121/121 [==============================] - 1s 4ms/step - loss: 0.4874 - val_loss: 0.5273\n"
     ]
    }
   ],
   "source": [
    "EPOCHS = 20\n",
    "\n",
    "history=model.fit(X_train,y_train,epochs=EPOCHS,validation_data=(X_valid,y_valid))"
   ]
  },
  {
   "cell_type": "code",
   "execution_count": 20,
   "id": "b0c21800-579d-444c-9c49-65d66c1ea2e9",
   "metadata": {},
   "outputs": [
    {
     "data": {
      "text/html": [
       "<div>\n",
       "<style scoped>\n",
       "    .dataframe tbody tr th:only-of-type {\n",
       "        vertical-align: middle;\n",
       "    }\n",
       "\n",
       "    .dataframe tbody tr th {\n",
       "        vertical-align: top;\n",
       "    }\n",
       "\n",
       "    .dataframe thead th {\n",
       "        text-align: right;\n",
       "    }\n",
       "</style>\n",
       "<table border=\"1\" class=\"dataframe\">\n",
       "  <thead>\n",
       "    <tr style=\"text-align: right;\">\n",
       "      <th></th>\n",
       "      <th>loss</th>\n",
       "      <th>val_loss</th>\n",
       "    </tr>\n",
       "  </thead>\n",
       "  <tbody>\n",
       "    <tr>\n",
       "      <th>0</th>\n",
       "      <td>1.310841</td>\n",
       "      <td>0.714086</td>\n",
       "    </tr>\n",
       "    <tr>\n",
       "      <th>1</th>\n",
       "      <td>0.658534</td>\n",
       "      <td>0.675500</td>\n",
       "    </tr>\n",
       "    <tr>\n",
       "      <th>2</th>\n",
       "      <td>0.609198</td>\n",
       "      <td>0.629443</td>\n",
       "    </tr>\n",
       "    <tr>\n",
       "      <th>3</th>\n",
       "      <td>0.577586</td>\n",
       "      <td>0.599514</td>\n",
       "    </tr>\n",
       "    <tr>\n",
       "      <th>4</th>\n",
       "      <td>0.558249</td>\n",
       "      <td>0.586500</td>\n",
       "    </tr>\n",
       "    <tr>\n",
       "      <th>5</th>\n",
       "      <td>0.545867</td>\n",
       "      <td>0.572896</td>\n",
       "    </tr>\n",
       "    <tr>\n",
       "      <th>6</th>\n",
       "      <td>0.541798</td>\n",
       "      <td>0.565541</td>\n",
       "    </tr>\n",
       "    <tr>\n",
       "      <th>7</th>\n",
       "      <td>0.537988</td>\n",
       "      <td>0.580838</td>\n",
       "    </tr>\n",
       "    <tr>\n",
       "      <th>8</th>\n",
       "      <td>0.525774</td>\n",
       "      <td>0.555871</td>\n",
       "    </tr>\n",
       "    <tr>\n",
       "      <th>9</th>\n",
       "      <td>0.519306</td>\n",
       "      <td>0.556892</td>\n",
       "    </tr>\n",
       "    <tr>\n",
       "      <th>10</th>\n",
       "      <td>0.514974</td>\n",
       "      <td>0.551720</td>\n",
       "    </tr>\n",
       "    <tr>\n",
       "      <th>11</th>\n",
       "      <td>0.511171</td>\n",
       "      <td>0.546235</td>\n",
       "    </tr>\n",
       "    <tr>\n",
       "      <th>12</th>\n",
       "      <td>0.507664</td>\n",
       "      <td>0.538798</td>\n",
       "    </tr>\n",
       "    <tr>\n",
       "      <th>13</th>\n",
       "      <td>0.504734</td>\n",
       "      <td>0.535763</td>\n",
       "    </tr>\n",
       "    <tr>\n",
       "      <th>14</th>\n",
       "      <td>0.500906</td>\n",
       "      <td>0.534470</td>\n",
       "    </tr>\n",
       "    <tr>\n",
       "      <th>15</th>\n",
       "      <td>0.496363</td>\n",
       "      <td>0.530679</td>\n",
       "    </tr>\n",
       "    <tr>\n",
       "      <th>16</th>\n",
       "      <td>0.494764</td>\n",
       "      <td>0.527884</td>\n",
       "    </tr>\n",
       "    <tr>\n",
       "      <th>17</th>\n",
       "      <td>0.491710</td>\n",
       "      <td>0.526097</td>\n",
       "    </tr>\n",
       "    <tr>\n",
       "      <th>18</th>\n",
       "      <td>0.491689</td>\n",
       "      <td>0.528320</td>\n",
       "    </tr>\n",
       "    <tr>\n",
       "      <th>19</th>\n",
       "      <td>0.487407</td>\n",
       "      <td>0.527326</td>\n",
       "    </tr>\n",
       "  </tbody>\n",
       "</table>\n",
       "</div>"
      ],
      "text/plain": [
       "        loss  val_loss\n",
       "0   1.310841  0.714086\n",
       "1   0.658534  0.675500\n",
       "2   0.609198  0.629443\n",
       "3   0.577586  0.599514\n",
       "4   0.558249  0.586500\n",
       "5   0.545867  0.572896\n",
       "6   0.541798  0.565541\n",
       "7   0.537988  0.580838\n",
       "8   0.525774  0.555871\n",
       "9   0.519306  0.556892\n",
       "10  0.514974  0.551720\n",
       "11  0.511171  0.546235\n",
       "12  0.507664  0.538798\n",
       "13  0.504734  0.535763\n",
       "14  0.500906  0.534470\n",
       "15  0.496363  0.530679\n",
       "16  0.494764  0.527884\n",
       "17  0.491710  0.526097\n",
       "18  0.491689  0.528320\n",
       "19  0.487407  0.527326"
      ]
     },
     "execution_count": 20,
     "metadata": {},
     "output_type": "execute_result"
    }
   ],
   "source": [
    "pd.DataFrame(history.history)"
   ]
  },
  {
   "cell_type": "code",
   "execution_count": 21,
   "id": "9075111c-5cca-40fa-a6d5-14da09aa2d3f",
   "metadata": {},
   "outputs": [
    {
     "name": "stdout",
     "output_type": "stream",
     "text": [
      "162/162 [==============================] - 0s 1ms/step - loss: 0.5311\n"
     ]
    },
    {
     "data": {
      "text/plain": [
       "0.5310584902763367"
      ]
     },
     "execution_count": 21,
     "metadata": {},
     "output_type": "execute_result"
    }
   ],
   "source": [
    "model.evaluate(X_test,y_test)\n"
   ]
  },
  {
   "cell_type": "code",
   "execution_count": 22,
   "id": "aec33c7f-9e01-4691-af4c-64283fa30b25",
   "metadata": {},
   "outputs": [
    {
     "data": {
      "text/plain": [
       "(5160, 6)"
      ]
     },
     "execution_count": 22,
     "metadata": {},
     "output_type": "execute_result"
    }
   ],
   "source": [
    "X_test.shape"
   ]
  },
  {
   "cell_type": "code",
   "execution_count": 23,
   "id": "c9c79e4d-aa25-4d1f-acf5-641bfd939d2e",
   "metadata": {},
   "outputs": [
    {
     "data": {
      "text/plain": [
       "(5160, 1)"
      ]
     },
     "execution_count": 23,
     "metadata": {},
     "output_type": "execute_result"
    }
   ],
   "source": [
    "y_test.shape"
   ]
  },
  {
   "cell_type": "code",
   "execution_count": 24,
   "id": "e2ebe68d-e313-40de-ab84-f196ac40160f",
   "metadata": {},
   "outputs": [],
   "source": [
    "new=X_test[0]"
   ]
  },
  {
   "cell_type": "code",
   "execution_count": 25,
   "id": "2a516000-abd8-4e8f-af6a-7a2bfc85183b",
   "metadata": {},
   "outputs": [
    {
     "data": {
      "text/plain": [
       "array([-1.1433232 , -0.28037572, -0.59584564, -0.1914207 , -0.03544086,\n",
       "        0.01390053])"
      ]
     },
     "execution_count": 25,
     "metadata": {},
     "output_type": "execute_result"
    }
   ],
   "source": [
    "new"
   ]
  },
  {
   "cell_type": "code",
   "execution_count": 26,
   "id": "63761232-e8df-48f3-90be-5cf4fa7ecafc",
   "metadata": {},
   "outputs": [
    {
     "data": {
      "text/plain": [
       "(1, 6)"
      ]
     },
     "execution_count": 26,
     "metadata": {},
     "output_type": "execute_result"
    }
   ],
   "source": [
    "new.reshape((1,6)).shape"
   ]
  },
  {
   "cell_type": "code",
   "execution_count": 27,
   "id": "df5e707b-b3ec-48b5-a18d-4a347c3ba822",
   "metadata": {},
   "outputs": [
    {
     "name": "stdout",
     "output_type": "stream",
     "text": [
      "1/1 [==============================] - 0s 110ms/step\n"
     ]
    },
    {
     "data": {
      "text/plain": [
       "array([[0.87210906]], dtype=float32)"
      ]
     },
     "execution_count": 27,
     "metadata": {},
     "output_type": "execute_result"
    }
   ],
   "source": [
    "model.predict(new.reshape((1,6)))"
   ]
  },
  {
   "cell_type": "code",
   "execution_count": 28,
   "id": "2d386d89-43e8-4c3c-ac7b-512d248827b0",
   "metadata": {},
   "outputs": [
    {
     "name": "stdout",
     "output_type": "stream",
     "text": [
      "Epoch 1/20\n",
      "121/121 [==============================] - 1s 6ms/step - loss: 0.4822 - val_loss: 0.5174\n",
      "Epoch 2/20\n",
      "108/121 [=========================>....] - ETA: 0s - loss: 0.4867"
     ]
    },
    {
     "name": "stderr",
     "output_type": "stream",
     "text": [
      "/opt/conda/lib/python3.10/site-packages/keras/src/engine/training.py:3000: UserWarning: You are saving your model as an HDF5 file via `model.save()`. This file format is considered legacy. We recommend using instead the native Keras format, e.g. `model.save('my_model.keras')`.\n",
      "  saving_api.save_model(\n"
     ]
    },
    {
     "name": "stdout",
     "output_type": "stream",
     "text": [
      "121/121 [==============================] - 1s 5ms/step - loss: 0.4800 - val_loss: 0.5165\n",
      "Epoch 3/20\n",
      "121/121 [==============================] - 1s 5ms/step - loss: 0.4796 - val_loss: 0.5159\n",
      "Epoch 4/20\n",
      "121/121 [==============================] - 1s 4ms/step - loss: 0.4793 - val_loss: 0.5162\n",
      "Epoch 5/20\n",
      "121/121 [==============================] - 1s 7ms/step - loss: 0.4789 - val_loss: 0.5159\n",
      "Epoch 6/20\n",
      "121/121 [==============================] - 1s 5ms/step - loss: 0.4788 - val_loss: 0.5159\n",
      "Epoch 7/20\n",
      "121/121 [==============================] - 1s 5ms/step - loss: 0.4785 - val_loss: 0.5153\n",
      "Epoch 8/20\n",
      "121/121 [==============================] - 1s 5ms/step - loss: 0.4785 - val_loss: 0.5152\n",
      "Epoch 9/20\n",
      "121/121 [==============================] - 1s 5ms/step - loss: 0.4782 - val_loss: 0.5151\n",
      "Epoch 10/20\n",
      "121/121 [==============================] - 1s 5ms/step - loss: 0.4779 - val_loss: 0.5149\n",
      "Epoch 11/20\n",
      "121/121 [==============================] - 1s 4ms/step - loss: 0.4772 - val_loss: 0.5159\n",
      "Epoch 12/20\n",
      "121/121 [==============================] - 1s 5ms/step - loss: 0.4777 - val_loss: 0.5147\n",
      "Epoch 13/20\n",
      "121/121 [==============================] - 1s 5ms/step - loss: 0.4775 - val_loss: 0.5143\n",
      "Epoch 14/20\n",
      "121/121 [==============================] - 1s 4ms/step - loss: 0.4769 - val_loss: 0.5147\n",
      "Epoch 15/20\n",
      "121/121 [==============================] - 1s 5ms/step - loss: 0.4768 - val_loss: 0.5140\n",
      "Epoch 16/20\n",
      "121/121 [==============================] - 1s 4ms/step - loss: 0.4768 - val_loss: 0.5141\n",
      "Epoch 17/20\n",
      "121/121 [==============================] - 1s 5ms/step - loss: 0.4765 - val_loss: 0.5137\n",
      "Epoch 18/20\n",
      "121/121 [==============================] - 1s 4ms/step - loss: 0.4763 - val_loss: 0.5137\n",
      "Epoch 19/20\n",
      "121/121 [==============================] - 1s 5ms/step - loss: 0.4762 - val_loss: 0.5133\n",
      "Epoch 20/20\n",
      "121/121 [==============================] - 1s 5ms/step - loss: 0.4758 - val_loss: 0.5132\n"
     ]
    }
   ],
   "source": [
    "model_2 = tf.keras.models.Sequential(LAYERS)\n",
    "\n",
    "LOSS = \"mse\"\n",
    "OPTIMIZER = tf.keras.optimizers.SGD(learning_rate=1e-3)\n",
    "\n",
    "model_2.compile(loss=LOSS , optimizer=OPTIMIZER)\n",
    "\n",
    "EPOCHS = 20\n",
    "\n",
    "checkpoint_cb = tf.keras.callbacks.ModelCheckpoint(\"my_keras_model.h5\", save_best_only=True)\n",
    "early_stopping_cb = tf.keras.callbacks.EarlyStopping(patience=5, restore_best_weights=True)\n",
    "tensorboard_cb = tf.keras.callbacks.TensorBoard(log_dir=\"logs\")\n",
    "\n",
    "CALLBACKS = [checkpoint_cb, early_stopping_cb, tensorboard_cb]\n",
    "\n",
    "\n",
    "history = model_2.fit(X_train, y_train, epochs = EPOCHS, validation_data=(X_valid, y_valid), callbacks = CALLBACKS)"
   ]
  },
  {
   "cell_type": "code",
   "execution_count": 29,
   "id": "5adb094c-50b6-43e5-9761-af47a23f5e9e",
   "metadata": {},
   "outputs": [],
   "source": [
    "%load_ext tensorboard"
   ]
  },
  {
   "cell_type": "code",
   "execution_count": 30,
   "id": "59f00df1-7c6d-4152-ad43-78994f79ed6c",
   "metadata": {},
   "outputs": [
    {
     "data": {
      "text/html": [
       "\n",
       "      <iframe id=\"tensorboard-frame-e021fd03dc85f990\" width=\"100%\" height=\"800\" frameborder=\"0\">\n",
       "      </iframe>\n",
       "      <script>\n",
       "        (function() {\n",
       "          const frame = document.getElementById(\"tensorboard-frame-e021fd03dc85f990\");\n",
       "          const url = new URL(\"/\", window.location);\n",
       "          const port = 6006;\n",
       "          if (port) {\n",
       "            url.port = port;\n",
       "          }\n",
       "          frame.src = url;\n",
       "        })();\n",
       "      </script>\n",
       "    "
      ],
      "text/plain": [
       "<IPython.core.display.HTML object>"
      ]
     },
     "metadata": {},
     "output_type": "display_data"
    }
   ],
   "source": [
    "%tensorboard --logdir=\"logs\""
   ]
  },
  {
   "cell_type": "markdown",
   "id": "07810249-f177-4804-a5ba-2fe3fdf344c4",
   "metadata": {},
   "source": [
    "## Loss Function "
   ]
  },
  {
   "cell_type": "markdown",
   "id": "a567a683-2ce0-44bc-963b-778b6d837d7d",
   "metadata": {},
   "source": [
    "SEE NOTE BOOK"
   ]
  },
  {
   "cell_type": "markdown",
   "id": "b30a422c-3efb-4c32-9784-8fdfcacc105c",
   "metadata": {},
   "source": [
    "## Batch Normalization"
   ]
  },
  {
   "cell_type": "markdown",
   "id": "66b7b8d3-e6de-43e5-95e7-25519d965867",
   "metadata": {},
   "source": [
    "SEE NOTE BOOK"
   ]
  },
  {
   "cell_type": "code",
   "execution_count": null,
   "id": "5aa34803-9a41-4216-ba84-ccb04bcb49af",
   "metadata": {},
   "outputs": [],
   "source": []
  }
 ],
 "metadata": {
  "kernelspec": {
   "display_name": "Python 3 (ipykernel)",
   "language": "python",
   "name": "python3"
  },
  "language_info": {
   "codemirror_mode": {
    "name": "ipython",
    "version": 3
   },
   "file_extension": ".py",
   "mimetype": "text/x-python",
   "name": "python",
   "nbconvert_exporter": "python",
   "pygments_lexer": "ipython3",
   "version": "3.10.8"
  }
 },
 "nbformat": 4,
 "nbformat_minor": 5
}
